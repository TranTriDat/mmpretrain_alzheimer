{
 "cells": [
  {
   "cell_type": "code",
   "execution_count": 2,
   "id": "880e347c-a40b-4679-bc03-673f83374c8c",
   "metadata": {},
   "outputs": [
    {
     "name": "stdout",
     "output_type": "stream",
     "text": [
      "1.10.1\n"
     ]
    }
   ],
   "source": [
    "!python -c 'import torch;print(torch.__version__)'"
   ]
  },
  {
   "cell_type": "code",
   "execution_count": 3,
   "id": "5b04c912-259d-453f-8e64-9950b524eb28",
   "metadata": {},
   "outputs": [
    {
     "name": "stdout",
     "output_type": "stream",
     "text": [
      "(224, 224, 3)\n"
     ]
    }
   ],
   "source": [
    "import numpy as np\n",
    "from mmcv.transforms import Resize\n",
    "transform = Resize(scale=(224, 224))\n",
    "data_dict = {'img': np.random.rand(256, 256, 3)}\n",
    "data_dict = transform(data_dict)\n",
    "print(data_dict['img'].shape)"
   ]
  },
  {
   "cell_type": "code",
   "execution_count": 4,
   "id": "c9e1a982-7b83-47f6-95d0-45e2b242472c",
   "metadata": {},
   "outputs": [],
   "source": [
    "# pipeline = [\n",
    "#     dict(type='LoadImageFromFile'),\n",
    "#     dict(type='Resize', size=256, keep_ratio=True),\n",
    "#     dict(type='CenterCrop', crop_size=224),\n",
    "#     dict(type='Normalize', mean=[123.675, 116.28, 103.53], std=[58.395, 57.12, 57.375]),\n",
    "#     dict(type='ClsFormatBundle')\n",
    "# ]\n",
    "\n",
    "img_norm_cfg = dict(\n",
    "     mean=[124.508, 116.050, 106.438],\n",
    "     std=[58.577, 57.310, 57.437],\n",
    "     to_rgb=False)\n",
    "\n",
    "train_pipeline = [\n",
    "    dict(type='LoadImageFromFile'),\n",
    "    dict(type='RandomResizedCrop', scale=100, backend='pillow'),\n",
    "    dict(type='Normalize', **img_norm_cfg),\n",
    "    dict(type='ImageToTensor', keys=['img']),\n",
    "    dict(type='ToTensor', keys=['gt_label']),\n",
    "    dict(type='Collect', keys=['img', 'gt_label']),\n",
    "    dict(type='ClsFormatBundle')\n",
    "]\n",
    "test_pipeline = [\n",
    "    dict(type='LoadImageFromFile'),\n",
    "    dict(type='Resize', scale=(100, -1), backend='pillow'),\n",
    "    dict(type='CenterCrop', crop_size=100),\n",
    "    dict(type='Normalize', **img_norm_cfg),\n",
    "    dict(type='ImageToTensor', keys=['img']),\n",
    "    dict(type='Collect', keys=['img']),\n",
    "    dict(type='ClsFormatBundle')\n",
    "]\n",
    "\n",
    "train_dataloader = dict(\n",
    "    batch_size=32,\n",
    "    num_workers=2,\n",
    "    dataset=dict(\n",
    "        type='CustomDataset',\n",
    "        data_prefix='data/YoriDataset_vgg/train',\n",
    "        classes='data/classes.txt',\n",
    "        ann_file='data/train_ann.txt',\n",
    "        with_label=True,\n",
    "        pipeline=train_pipeline        \n",
    "    ),\n",
    ")\n",
    "\n",
    "val_dataloader = dict(\n",
    "    batch_size=32,\n",
    "    num_workers=2,\n",
    "    dataset=dict(\n",
    "        type='CustomDataset',\n",
    "        data_prefix='data/YoriDataset_vgg/validation',\n",
    "        classes='data/classes.txt',\n",
    "        ann_file='data/val_ann.txt',\n",
    "        with_label=True,\n",
    "        pipeline=test_pipeline\n",
    "    ),\n",
    ")\n",
    "\n",
    "test_dataloader = dict(\n",
    "    batch_size=32,\n",
    "    num_workers=2,\n",
    "    dataset=dict(\n",
    "        type='CustomDataset',\n",
    "        data_prefix='data/YoriDataset_vgg/test',\n",
    "        classes='data/classes.txt',\n",
    "        ann_file='data/test_ann.txt',\n",
    "        with_label=True,\n",
    "        pipeline=test_pipeline\n",
    "    ),    \n",
    ")\n"
   ]
  },
  {
   "cell_type": "code",
   "execution_count": 5,
   "id": "3dc2394a-9bb9-4a93-bcaf-55fba0d03eb0",
   "metadata": {},
   "outputs": [],
   "source": [
    "model = dict(\n",
    "    type='ImageClassifier',\n",
    "    backbone=dict(\n",
    "        type='ResNet_CIFAR',\n",
    "        depth=18,\n",
    "        num_stages=4,\n",
    "        out_indices=(3, ),\n",
    "        style='pytorch'),\n",
    "    neck=dict(type='GlobalAveragePooling'),\n",
    "    head=dict(\n",
    "        type='LinearClsHead',\n",
    "        num_classes=10,\n",
    "        in_channels=512,\n",
    "        loss=dict(type='L1Loss', loss_weight=1.0),\n",
    "        topk=(1, 5),\n",
    "    ))"
   ]
  },
  {
   "cell_type": "code",
   "execution_count": 7,
   "id": "34e53910-b58d-4bb7-9533-5e7b67919945",
   "metadata": {},
   "outputs": [],
   "source": [
    "optim_wrapper = dict(\n",
    "    type='OptimWrapper',\n",
    "    optimizer = dict(\n",
    "        type='Adam',\n",
    "        lr=0.001,\n",
    "        betas=(0.9, 0.999),\n",
    "        eps=1e-08,\n",
    "        weight_decay=0,\n",
    "        amsgrad=False),\n",
    ")\n",
    "\n",
    "param_scheduler = [\n",
    "      # linear warm-up by iters\n",
    "      dict(type='LinearLR',\n",
    "          start_factor=0.001,\n",
    "          by_epoch=False,  # by iters\n",
    "          end=50),  # only warm up for first 50 iters\n",
    "      # main learing rate schedule\n",
    "      dict(type='MultiStepLR',\n",
    "          by_epoch=True,\n",
    "          milestones=[8, 11],\n",
    "          gamma=0.1)\n",
    "  ]"
   ]
  },
  {
   "cell_type": "code",
   "execution_count": null,
   "id": "36a27bae-f72a-44da-9828-07b03a890c97",
   "metadata": {},
   "outputs": [],
   "source": []
  }
 ],
 "metadata": {
  "kernelspec": {
   "display_name": "Python 3 (ipykernel)",
   "language": "python",
   "name": "python3"
  },
  "language_info": {
   "codemirror_mode": {
    "name": "ipython",
    "version": 3
   },
   "file_extension": ".py",
   "mimetype": "text/x-python",
   "name": "python",
   "nbconvert_exporter": "python",
   "pygments_lexer": "ipython3",
   "version": "3.8.18"
  }
 },
 "nbformat": 4,
 "nbformat_minor": 5
}
