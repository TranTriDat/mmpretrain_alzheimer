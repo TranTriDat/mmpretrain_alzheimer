{
 "cells": [
  {
   "cell_type": "code",
   "execution_count": 1,
   "id": "d7b86dc6-1b71-408d-9aa1-e36048356b8b",
   "metadata": {},
   "outputs": [
    {
     "name": "stdout",
     "output_type": "stream",
     "text": [
      "Overwriting configs/efficientnet/efficientnetb0_alzheimer_axial_view.py\n"
     ]
    }
   ],
   "source": [
    "%%writefile configs/efficientnet/efficientnetb0_alzheimer_axial_view.py\n",
    "_base_ = [\n",
    "    # '../_base_/models/efficientnet_v2/efficientnetv2_m.py',\n",
    "    '../_base_/models/efficientnet_b0.py',\n",
    "    '../_base_/schedules/imagenet_bs1024_adamw_conformer.py',\n",
    "    # '../_base_/schedules/imagenet_bs256.py',\n",
    "    '../_base_/default_runtime.py'\n",
    "]\n",
    "\n",
    "pretrained = 'https://download.openmmlab.com/mmclassification/v0/efficientnet/efficientnet-b0_3rdparty_8xb32_in1k_20220119-a7e2a0b1.pth'\n",
    "\n",
    "model = dict(\n",
    "    type='ImageClassifier', \n",
    "    \n",
    "    backbone=dict(\n",
    "        type='EfficientNet',\n",
    "        arch='b0',\n",
    "        init_cfg = dict(\n",
    "            type='Pretrained', \n",
    "            checkpoint=pretrained,\n",
    "            prefix='backbone',\n",
    "        )\n",
    "    ),\n",
    "    neck=dict(type='GlobalAveragePooling'),\n",
    "    head=dict(\n",
    "        num_classes=3,\n",
    "        topk = (1, 3),\n",
    "        # cal_acc=True,\n",
    "    ))\n",
    "\n",
    "dataset_type = 'CustomDataset'\n",
    "data_preprocessor = dict(\n",
    "     mean=[124.508, 116.050, 106.438],\n",
    "     std=[58.577, 57.310, 57.437],\n",
    "     to_rgb=False)\n",
    "\n",
    "train_pipeline = [\n",
    "    dict(type='LoadImageFromFile'),     # read image\n",
    "    # dict(type='ResizeEdge', scale=256),  \n",
    "    # dict(type='EfficientNetRandomCrop', scale=224, crop_padding=0),     # Random scaling and cropping\n",
    "    dict(type='RandomFlip', prob=0.5, direction='horizontal'),   # random horizontal flip\n",
    "    dict(type='PackInputs'),         # prepare images and labels\n",
    "]\n",
    "\n",
    "test_pipeline = [\n",
    "    dict(type='LoadImageFromFile'),     # read image\n",
    "    # dict(type='ResizeEdge', scale=256),  \n",
    "    # dict(type='EfficientNetCenterCrop', crop_size=224,crop_padding=0),     # center crop\n",
    "    dict(type='PackInputs'),                 # prepare images and labels\n",
    "]\n",
    "\n",
    "train_dataloader = dict(\n",
    "    batch_size=4,\n",
    "    num_workers=2,\n",
    "    dataset=dict(\n",
    "        type='CustomDataset',\n",
    "        data_root='data',\n",
    "        data_prefix='YoriDataset_vgg/train',\n",
    "        classes='data/classes.txt',\n",
    "        ann_file='train_ann.txt',\n",
    "        with_label=True,\n",
    "        pipeline=train_pipeline\n",
    "    ),\n",
    "    sampler=dict(type='DefaultSampler', shuffle=True),\n",
    "    persistent_workers=True\n",
    ")\n",
    "\n",
    "val_dataloader = dict(\n",
    "    batch_size=4,\n",
    "    num_workers=2,\n",
    "    dataset=dict(\n",
    "        type='CustomDataset',\n",
    "        data_root='data',\n",
    "        data_prefix='YoriDataset_vgg/validation',\n",
    "        classes='data/classes.txt',\n",
    "        ann_file='val_ann.txt',\n",
    "        with_label=True,\n",
    "        pipeline=test_pipeline\n",
    "    ),\n",
    "    sampler=dict(type='DefaultSampler', shuffle=False),\n",
    "    persistent_workers=True\n",
    ")\n",
    "\n",
    "test_dataloader = dict(\n",
    "    batch_size=4,\n",
    "    num_workers=2,\n",
    "    dataset=dict(\n",
    "        type='CustomDataset',\n",
    "        data_root='data',\n",
    "        data_prefix='YoriDataset_vgg/test',\n",
    "        classes='data/classes.txt',\n",
    "        ann_file='test_ann.txt',\n",
    "        with_label=True,\n",
    "        pipeline=test_pipeline\n",
    "    ),    \n",
    "    sampler=dict(type='DefaultSampler', shuffle=False),\n",
    "    persistent_workers=True\n",
    ")\n",
    "\n",
    "val_evaluator = dict(type='Accuracy', topk=(1, 3))\n",
    "\n",
    "test_evaluator = val_evaluator \n",
    "\n",
    "optim_wrapper = dict(\n",
    "    optimizer=dict(\n",
    "        type='AdamW',\n",
    "        # for batch in each gpu is 128, 8 gpu\n",
    "        # lr = 5e-4 * 128 * 8 / 512 = 0.001\n",
    "        lr=5e-4 * 128 * 8 / 512,\n",
    "        weight_decay=0.05,\n",
    "        eps=1e-8,\n",
    "        betas=(0.9, 0.999)),\n",
    "    paramwise_cfg=dict(\n",
    "        norm_decay_mult=0.0,\n",
    "        bias_decay_mult=0.0,\n",
    "        custom_keys={\n",
    "            '.cls_token': dict(decay_mult=0.0),\n",
    "        }),\n",
    ")\n",
    "\n",
    "# learning policy\n",
    "param_scheduler = [\n",
    "    dict(\n",
    "        type='LinearLR',\n",
    "        start_factor=1e-3,\n",
    "        by_epoch=True,\n",
    "        begin=0,\n",
    "        end=5,\n",
    "        convert_to_iter_based=True),\n",
    "    dict(\n",
    "        type='CosineAnnealingLR',\n",
    "        T_max=295,\n",
    "        eta_min=1e-5,\n",
    "        by_epoch=True,\n",
    "        begin=5,\n",
    "        end=300)\n",
    "]\n",
    "\n",
    "train_cfg = dict(by_epoch=True, max_epochs=100, val_interval=1)\n",
    "val_cfg = dict()\n",
    "test_cfg = dict()\n",
    "\n",
    "auto_scale_lr = dict(base_batch_size=128)\n",
    "\n",
    "default_scope = 'mmpretrain'\n",
    "\n",
    "# configure default hooks\n",
    "default_hooks = dict(\n",
    "    # record the time of every iteration.\n",
    "    timer=dict(type='IterTimerHook'),\n",
    "\n",
    "    # print log every 100 iterations.\n",
    "    logger=dict(type='LoggerHook', interval=100),\n",
    "\n",
    "    # enable the parameter scheduler.\n",
    "    param_scheduler=dict(type='ParamSchedulerHook'),\n",
    "\n",
    "    # save checkpoint per epoch.\n",
    "    checkpoint=dict(type='CheckpointHook', interval=1),\n",
    "\n",
    "    # set sampler seed in a distributed environment.\n",
    "    sampler_seed=dict(type='DistSamplerSeedHook'),\n",
    "\n",
    "    # validation results visualization, set True to enable it.\n",
    "    visualization=dict(type='VisualizationHook', enable=False),\n",
    ")\n",
    "\n",
    "env_cfg = dict(\n",
    "    # whether to enable cudnn benchmark\n",
    "    cudnn_benchmark=False,\n",
    "\n",
    "    # set multi-process parameters\n",
    "    mp_cfg=dict(mp_start_method='fork', opencv_num_threads=0),\n",
    "\n",
    "    # set distributed parameters\n",
    "    dist_cfg=dict(backend='nccl'),\n",
    ")\n",
    "\n",
    "# set visualizer\n",
    "vis_backends = [dict(type='LocalVisBackend')]  # use local HDD backend\n",
    "visualizer = dict(type='UniversalVisualizer', vis_backends=vis_backends, name='visualizer')\n",
    "\n",
    "# set log level\n",
    "log_level = 'INFO'\n",
    "\n",
    "# load from which checkpoint\n",
    "load_from = None\n",
    "\n",
    "# whether to resume training from the loaded checkpoint\n",
    "resume = False"
   ]
  },
  {
   "cell_type": "code",
   "execution_count": 2,
   "id": "16e62846-50db-4453-8c6d-717332dff5dd",
   "metadata": {
    "scrolled": true
   },
   "outputs": [
    {
     "name": "stdout",
     "output_type": "stream",
     "text": [
      "configs/efficientnet/efficientnetb0_alzheimer_axial_view.py\n",
      "12/01 23:16:30 - mmengine - \u001b[4m\u001b[97mINFO\u001b[0m - \n",
      "------------------------------------------------------------\n",
      "System environment:\n",
      "    sys.platform: linux\n",
      "    Python: 3.8.18 (default, Sep 11 2023, 13:40:15) [GCC 11.2.0]\n",
      "    CUDA available: True\n",
      "    numpy_random_seed: 1070086653\n",
      "    GPU 0: NVIDIA GeForce RTX 3090\n",
      "    CUDA_HOME: /usr/local/cuda-11.4\n",
      "    NVCC: Cuda compilation tools, release 11.4, V11.4.100\n",
      "    GCC: gcc (Ubuntu 9.4.0-1ubuntu1~20.04.2) 9.4.0\n",
      "    PyTorch: 1.10.1\n",
      "    PyTorch compiling details: PyTorch built with:\n",
      "  - GCC 7.3\n",
      "  - C++ Version: 201402\n",
      "  - Intel(R) oneAPI Math Kernel Library Version 2023.1-Product Build 20230303 for Intel(R) 64 architecture applications\n",
      "  - Intel(R) MKL-DNN v2.2.3 (Git Hash 7336ca9f055cf1bfa13efb658fe15dc9b41f0740)\n",
      "  - OpenMP 201511 (a.k.a. OpenMP 4.5)\n",
      "  - LAPACK is enabled (usually provided by MKL)\n",
      "  - NNPACK is enabled\n",
      "  - CPU capability usage: AVX2\n",
      "  - CUDA Runtime 11.3\n",
      "  - NVCC architecture flags: -gencode;arch=compute_37,code=sm_37;-gencode;arch=compute_50,code=sm_50;-gencode;arch=compute_60,code=sm_60;-gencode;arch=compute_61,code=sm_61;-gencode;arch=compute_70,code=sm_70;-gencode;arch=compute_75,code=sm_75;-gencode;arch=compute_80,code=sm_80;-gencode;arch=compute_86,code=sm_86;-gencode;arch=compute_37,code=compute_37\n",
      "  - CuDNN 8.2\n",
      "  - Magma 2.5.2\n",
      "  - Build settings: BLAS_INFO=mkl, BUILD_TYPE=Release, CUDA_VERSION=11.3, CUDNN_VERSION=8.2.0, CXX_COMPILER=/opt/rh/devtoolset-7/root/usr/bin/c++, CXX_FLAGS= -Wno-deprecated -fvisibility-inlines-hidden -DUSE_PTHREADPOOL -fopenmp -DNDEBUG -DUSE_KINETO -DUSE_FBGEMM -DUSE_QNNPACK -DUSE_PYTORCH_QNNPACK -DUSE_XNNPACK -DSYMBOLICATE_MOBILE_DEBUG_HANDLE -DEDGE_PROFILER_USE_KINETO -O2 -fPIC -Wno-narrowing -Wall -Wextra -Werror=return-type -Wno-missing-field-initializers -Wno-type-limits -Wno-array-bounds -Wno-unknown-pragmas -Wno-sign-compare -Wno-unused-parameter -Wno-unused-variable -Wno-unused-function -Wno-unused-result -Wno-unused-local-typedefs -Wno-strict-overflow -Wno-strict-aliasing -Wno-error=deprecated-declarations -Wno-stringop-overflow -Wno-psabi -Wno-error=pedantic -Wno-error=redundant-decls -Wno-error=old-style-cast -fdiagnostics-color=always -faligned-new -Wno-unused-but-set-variable -Wno-maybe-uninitialized -fno-math-errno -fno-trapping-math -Werror=format -Wno-stringop-overflow, LAPACK_INFO=mkl, PERF_WITH_AVX=1, PERF_WITH_AVX2=1, PERF_WITH_AVX512=1, TORCH_VERSION=1.10.1, USE_CUDA=ON, USE_CUDNN=ON, USE_EXCEPTION_PTR=1, USE_GFLAGS=OFF, USE_GLOG=OFF, USE_MKL=ON, USE_MKLDNN=ON, USE_MPI=OFF, USE_NCCL=ON, USE_NNPACK=ON, USE_OPENMP=ON, \n",
      "\n",
      "    TorchVision: 0.11.2\n",
      "    OpenCV: 4.8.1\n",
      "    MMEngine: 0.9.0\n",
      "\n",
      "Runtime environment:\n",
      "    cudnn_benchmark: False\n",
      "    mp_cfg: {'mp_start_method': 'fork', 'opencv_num_threads': 0}\n",
      "    dist_cfg: {'backend': 'nccl'}\n",
      "    seed: 1070086653\n",
      "    deterministic: False\n",
      "    Distributed launcher: none\n",
      "    Distributed training: False\n",
      "    GPU number: 1\n",
      "------------------------------------------------------------\n",
      "\n",
      "12/01 23:16:31 - mmengine - \u001b[4m\u001b[97mINFO\u001b[0m - Config:\n",
      "auto_scale_lr = dict(base_batch_size=128)\n",
      "data_preprocessor = dict(\n",
      "    mean=[\n",
      "        124.508,\n",
      "        116.05,\n",
      "        106.438,\n",
      "    ],\n",
      "    std=[\n",
      "        58.577,\n",
      "        57.31,\n",
      "        57.437,\n",
      "    ],\n",
      "    to_rgb=False)\n",
      "dataset_type = 'CustomDataset'\n",
      "default_hooks = dict(\n",
      "    checkpoint=dict(interval=1, type='CheckpointHook'),\n",
      "    logger=dict(interval=100, type='LoggerHook'),\n",
      "    param_scheduler=dict(type='ParamSchedulerHook'),\n",
      "    sampler_seed=dict(type='DistSamplerSeedHook'),\n",
      "    timer=dict(type='IterTimerHook'),\n",
      "    visualization=dict(enable=False, type='VisualizationHook'))\n",
      "default_scope = 'mmpretrain'\n",
      "env_cfg = dict(\n",
      "    cudnn_benchmark=False,\n",
      "    dist_cfg=dict(backend='nccl'),\n",
      "    mp_cfg=dict(mp_start_method='fork', opencv_num_threads=0))\n",
      "launcher = 'none'\n",
      "load_from = None\n",
      "log_level = 'INFO'\n",
      "model = dict(\n",
      "    backbone=dict(\n",
      "        arch='b0',\n",
      "        init_cfg=dict(\n",
      "            checkpoint=\n",
      "            'https://download.openmmlab.com/mmclassification/v0/efficientnet/efficientnet-b0_3rdparty_8xb32_in1k_20220119-a7e2a0b1.pth',\n",
      "            prefix='backbone',\n",
      "            type='Pretrained'),\n",
      "        type='EfficientNet'),\n",
      "    head=dict(\n",
      "        in_channels=1280,\n",
      "        loss=dict(loss_weight=1.0, type='CrossEntropyLoss'),\n",
      "        num_classes=3,\n",
      "        topk=(\n",
      "            1,\n",
      "            3,\n",
      "        ),\n",
      "        type='LinearClsHead'),\n",
      "    neck=dict(type='GlobalAveragePooling'),\n",
      "    type='ImageClassifier')\n",
      "optim_wrapper = dict(\n",
      "    optimizer=dict(\n",
      "        betas=(\n",
      "            0.9,\n",
      "            0.999,\n",
      "        ),\n",
      "        eps=1e-08,\n",
      "        lr=0.001,\n",
      "        type='AdamW',\n",
      "        weight_decay=0.05),\n",
      "    paramwise_cfg=dict(\n",
      "        bias_decay_mult=0.0,\n",
      "        custom_keys=dict({'.cls_token': dict(decay_mult=0.0)}),\n",
      "        norm_decay_mult=0.0))\n",
      "param_scheduler = [\n",
      "    dict(\n",
      "        begin=0,\n",
      "        by_epoch=True,\n",
      "        convert_to_iter_based=True,\n",
      "        end=5,\n",
      "        start_factor=0.001,\n",
      "        type='LinearLR'),\n",
      "    dict(\n",
      "        T_max=295,\n",
      "        begin=5,\n",
      "        by_epoch=True,\n",
      "        end=300,\n",
      "        eta_min=1e-05,\n",
      "        type='CosineAnnealingLR'),\n",
      "]\n",
      "pretrained = 'https://download.openmmlab.com/mmclassification/v0/efficientnet/efficientnet-b0_3rdparty_8xb32_in1k_20220119-a7e2a0b1.pth'\n",
      "randomness = dict(deterministic=False, seed=None)\n",
      "resume = False\n",
      "test_cfg = dict()\n",
      "test_dataloader = dict(\n",
      "    batch_size=4,\n",
      "    collate_fn=dict(type='default_collate'),\n",
      "    dataset=dict(\n",
      "        ann_file='test_ann.txt',\n",
      "        classes='data/classes.txt',\n",
      "        data_prefix='YoriDataset_vgg/test',\n",
      "        data_root='data',\n",
      "        pipeline=[\n",
      "            dict(type='LoadImageFromFile'),\n",
      "            dict(crop_padding=0, crop_size=224, type='EfficientNetCenterCrop'),\n",
      "            dict(type='PackInputs'),\n",
      "        ],\n",
      "        type='CustomDataset',\n",
      "        with_label=True),\n",
      "    num_workers=2,\n",
      "    persistent_workers=True,\n",
      "    pin_memory=True,\n",
      "    sampler=dict(shuffle=False, type='DefaultSampler'))\n",
      "test_evaluator = dict(\n",
      "    topk=(\n",
      "        1,\n",
      "        3,\n",
      "    ), type='Accuracy')\n",
      "test_pipeline = [\n",
      "    dict(type='LoadImageFromFile'),\n",
      "    dict(crop_padding=0, crop_size=224, type='EfficientNetCenterCrop'),\n",
      "    dict(type='PackInputs'),\n",
      "]\n",
      "train_cfg = dict(by_epoch=True, max_epochs=100, val_interval=1)\n",
      "train_dataloader = dict(\n",
      "    batch_size=4,\n",
      "    collate_fn=dict(type='default_collate'),\n",
      "    dataset=dict(\n",
      "        ann_file='train_ann.txt',\n",
      "        classes='data/classes.txt',\n",
      "        data_prefix='YoriDataset_vgg/train',\n",
      "        data_root='data',\n",
      "        pipeline=[\n",
      "            dict(type='LoadImageFromFile'),\n",
      "            dict(crop_padding=0, scale=224, type='EfficientNetRandomCrop'),\n",
      "            dict(direction='horizontal', prob=0.5, type='RandomFlip'),\n",
      "            dict(type='PackInputs'),\n",
      "        ],\n",
      "        type='CustomDataset',\n",
      "        with_label=True),\n",
      "    num_workers=2,\n",
      "    persistent_workers=True,\n",
      "    pin_memory=True,\n",
      "    sampler=dict(shuffle=True, type='DefaultSampler'))\n",
      "train_pipeline = [\n",
      "    dict(type='LoadImageFromFile'),\n",
      "    dict(crop_padding=0, scale=224, type='EfficientNetRandomCrop'),\n",
      "    dict(direction='horizontal', prob=0.5, type='RandomFlip'),\n",
      "    dict(type='PackInputs'),\n",
      "]\n",
      "val_cfg = dict()\n",
      "val_dataloader = dict(\n",
      "    batch_size=4,\n",
      "    collate_fn=dict(type='default_collate'),\n",
      "    dataset=dict(\n",
      "        ann_file='val_ann.txt',\n",
      "        classes='data/classes.txt',\n",
      "        data_prefix='YoriDataset_vgg/validation',\n",
      "        data_root='data',\n",
      "        pipeline=[\n",
      "            dict(type='LoadImageFromFile'),\n",
      "            dict(crop_padding=0, crop_size=224, type='EfficientNetCenterCrop'),\n",
      "            dict(type='PackInputs'),\n",
      "        ],\n",
      "        type='CustomDataset',\n",
      "        with_label=True),\n",
      "    num_workers=2,\n",
      "    persistent_workers=True,\n",
      "    pin_memory=True,\n",
      "    sampler=dict(shuffle=False, type='DefaultSampler'))\n",
      "val_evaluator = dict(\n",
      "    topk=(\n",
      "        1,\n",
      "        3,\n",
      "    ), type='Accuracy')\n",
      "vis_backends = [\n",
      "    dict(type='LocalVisBackend'),\n",
      "]\n",
      "visualizer = dict(\n",
      "    name='visualizer',\n",
      "    type='UniversalVisualizer',\n",
      "    vis_backends=[\n",
      "        dict(type='LocalVisBackend'),\n",
      "    ])\n",
      "work_dir = 'work_dirs/alzheimer/axial/efficientnet'\n",
      "\n",
      "12/01 23:16:52 - mmengine - \u001b[4m\u001b[97mINFO\u001b[0m - Distributed training is not used, all SyncBatchNorm (SyncBN) layers in the model will be automatically reverted to BatchNormXd layers if they are used.\n",
      "12/01 23:16:52 - mmengine - \u001b[4m\u001b[97mINFO\u001b[0m - Hooks will be executed in the following order:\n",
      "before_run:\n",
      "(VERY_HIGH   ) RuntimeInfoHook                    \n",
      "(BELOW_NORMAL) LoggerHook                         \n",
      " -------------------- \n",
      "before_train:\n",
      "(VERY_HIGH   ) RuntimeInfoHook                    \n",
      "(NORMAL      ) IterTimerHook                      \n",
      "(VERY_LOW    ) CheckpointHook                     \n",
      " -------------------- \n",
      "before_train_epoch:\n",
      "(VERY_HIGH   ) RuntimeInfoHook                    \n",
      "(NORMAL      ) IterTimerHook                      \n",
      "(NORMAL      ) DistSamplerSeedHook                \n",
      " -------------------- \n",
      "before_train_iter:\n",
      "(VERY_HIGH   ) RuntimeInfoHook                    \n",
      "(NORMAL      ) IterTimerHook                      \n",
      " -------------------- \n",
      "after_train_iter:\n",
      "(VERY_HIGH   ) RuntimeInfoHook                    \n",
      "(NORMAL      ) IterTimerHook                      \n",
      "(BELOW_NORMAL) LoggerHook                         \n",
      "(LOW         ) ParamSchedulerHook                 \n",
      "(VERY_LOW    ) CheckpointHook                     \n",
      " -------------------- \n",
      "after_train_epoch:\n",
      "(NORMAL      ) IterTimerHook                      \n",
      "(LOW         ) ParamSchedulerHook                 \n",
      "(VERY_LOW    ) CheckpointHook                     \n",
      " -------------------- \n",
      "before_val:\n",
      "(VERY_HIGH   ) RuntimeInfoHook                    \n",
      " -------------------- \n",
      "before_val_epoch:\n",
      "(NORMAL      ) IterTimerHook                      \n",
      " -------------------- \n",
      "before_val_iter:\n",
      "(NORMAL      ) IterTimerHook                      \n",
      " -------------------- \n",
      "after_val_iter:\n",
      "(NORMAL      ) IterTimerHook                      \n",
      "(NORMAL      ) VisualizationHook                  \n",
      "(BELOW_NORMAL) LoggerHook                         \n",
      " -------------------- \n",
      "after_val_epoch:\n",
      "(VERY_HIGH   ) RuntimeInfoHook                    \n",
      "(NORMAL      ) IterTimerHook                      \n",
      "(BELOW_NORMAL) LoggerHook                         \n",
      "(LOW         ) ParamSchedulerHook                 \n",
      "(VERY_LOW    ) CheckpointHook                     \n",
      " -------------------- \n",
      "after_val:\n",
      "(VERY_HIGH   ) RuntimeInfoHook                    \n",
      " -------------------- \n",
      "after_train:\n",
      "(VERY_HIGH   ) RuntimeInfoHook                    \n",
      "(VERY_LOW    ) CheckpointHook                     \n",
      " -------------------- \n",
      "before_test:\n",
      "(VERY_HIGH   ) RuntimeInfoHook                    \n",
      " -------------------- \n",
      "before_test_epoch:\n",
      "(NORMAL      ) IterTimerHook                      \n",
      " -------------------- \n",
      "before_test_iter:\n",
      "(NORMAL      ) IterTimerHook                      \n",
      " -------------------- \n",
      "after_test_iter:\n",
      "(NORMAL      ) IterTimerHook                      \n",
      "(NORMAL      ) VisualizationHook                  \n",
      "(BELOW_NORMAL) LoggerHook                         \n",
      " -------------------- \n",
      "after_test_epoch:\n",
      "(VERY_HIGH   ) RuntimeInfoHook                    \n",
      "(NORMAL      ) IterTimerHook                      \n",
      "(BELOW_NORMAL) LoggerHook                         \n",
      " -------------------- \n",
      "after_test:\n",
      "(VERY_HIGH   ) RuntimeInfoHook                    \n",
      " -------------------- \n",
      "after_run:\n",
      "(BELOW_NORMAL) LoggerHook                         \n",
      " -------------------- \n",
      "12/01 23:16:52 - mmengine - \u001b[4m\u001b[97mINFO\u001b[0m - paramwise_options -- backbone.layers.0.bn.weight:weight_decay=0.0\n",
      "12/01 23:16:52 - mmengine - \u001b[4m\u001b[97mINFO\u001b[0m - paramwise_options -- backbone.layers.0.bn.bias:weight_decay=0.0\n",
      "12/01 23:16:52 - mmengine - \u001b[4m\u001b[97mINFO\u001b[0m - paramwise_options -- backbone.layers.1.0.depthwise_conv.bn.weight:weight_decay=0.0\n",
      "12/01 23:16:52 - mmengine - \u001b[4m\u001b[97mINFO\u001b[0m - paramwise_options -- backbone.layers.1.0.depthwise_conv.bn.bias:weight_decay=0.0\n",
      "12/01 23:16:52 - mmengine - \u001b[4m\u001b[97mINFO\u001b[0m - paramwise_options -- backbone.layers.1.0.se.conv1.conv.bias:weight_decay=0.0\n",
      "12/01 23:16:52 - mmengine - \u001b[4m\u001b[97mINFO\u001b[0m - paramwise_options -- backbone.layers.1.0.se.conv2.conv.bias:weight_decay=0.0\n",
      "12/01 23:16:52 - mmengine - \u001b[4m\u001b[97mINFO\u001b[0m - paramwise_options -- backbone.layers.1.0.linear_conv.bn.weight:weight_decay=0.0\n",
      "12/01 23:16:52 - mmengine - \u001b[4m\u001b[97mINFO\u001b[0m - paramwise_options -- backbone.layers.1.0.linear_conv.bn.bias:weight_decay=0.0\n",
      "12/01 23:16:52 - mmengine - \u001b[4m\u001b[97mINFO\u001b[0m - paramwise_options -- backbone.layers.2.0.expand_conv.bn.weight:weight_decay=0.0\n",
      "12/01 23:16:52 - mmengine - \u001b[4m\u001b[97mINFO\u001b[0m - paramwise_options -- backbone.layers.2.0.expand_conv.bn.bias:weight_decay=0.0\n",
      "12/01 23:16:52 - mmengine - \u001b[4m\u001b[97mINFO\u001b[0m - paramwise_options -- backbone.layers.2.0.depthwise_conv.bn.weight:weight_decay=0.0\n",
      "12/01 23:16:52 - mmengine - \u001b[4m\u001b[97mINFO\u001b[0m - paramwise_options -- backbone.layers.2.0.depthwise_conv.bn.bias:weight_decay=0.0\n",
      "12/01 23:16:52 - mmengine - \u001b[4m\u001b[97mINFO\u001b[0m - paramwise_options -- backbone.layers.2.0.se.conv1.conv.bias:weight_decay=0.0\n",
      "12/01 23:16:52 - mmengine - \u001b[4m\u001b[97mINFO\u001b[0m - paramwise_options -- backbone.layers.2.0.se.conv2.conv.bias:weight_decay=0.0\n",
      "12/01 23:16:52 - mmengine - \u001b[4m\u001b[97mINFO\u001b[0m - paramwise_options -- backbone.layers.2.0.linear_conv.bn.weight:weight_decay=0.0\n",
      "12/01 23:16:52 - mmengine - \u001b[4m\u001b[97mINFO\u001b[0m - paramwise_options -- backbone.layers.2.0.linear_conv.bn.bias:weight_decay=0.0\n",
      "12/01 23:16:52 - mmengine - \u001b[4m\u001b[97mINFO\u001b[0m - paramwise_options -- backbone.layers.2.1.expand_conv.bn.weight:weight_decay=0.0\n",
      "12/01 23:16:52 - mmengine - \u001b[4m\u001b[97mINFO\u001b[0m - paramwise_options -- backbone.layers.2.1.expand_conv.bn.bias:weight_decay=0.0\n",
      "12/01 23:16:52 - mmengine - \u001b[4m\u001b[97mINFO\u001b[0m - paramwise_options -- backbone.layers.2.1.depthwise_conv.bn.weight:weight_decay=0.0\n",
      "12/01 23:16:52 - mmengine - \u001b[4m\u001b[97mINFO\u001b[0m - paramwise_options -- backbone.layers.2.1.depthwise_conv.bn.bias:weight_decay=0.0\n",
      "12/01 23:16:52 - mmengine - \u001b[4m\u001b[97mINFO\u001b[0m - paramwise_options -- backbone.layers.2.1.se.conv1.conv.bias:weight_decay=0.0\n",
      "12/01 23:16:52 - mmengine - \u001b[4m\u001b[97mINFO\u001b[0m - paramwise_options -- backbone.layers.2.1.se.conv2.conv.bias:weight_decay=0.0\n",
      "12/01 23:16:52 - mmengine - \u001b[4m\u001b[97mINFO\u001b[0m - paramwise_options -- backbone.layers.2.1.linear_conv.bn.weight:weight_decay=0.0\n",
      "12/01 23:16:52 - mmengine - \u001b[4m\u001b[97mINFO\u001b[0m - paramwise_options -- backbone.layers.2.1.linear_conv.bn.bias:weight_decay=0.0\n",
      "12/01 23:16:52 - mmengine - \u001b[4m\u001b[97mINFO\u001b[0m - paramwise_options -- backbone.layers.3.0.expand_conv.bn.weight:weight_decay=0.0\n",
      "12/01 23:16:52 - mmengine - \u001b[4m\u001b[97mINFO\u001b[0m - paramwise_options -- backbone.layers.3.0.expand_conv.bn.bias:weight_decay=0.0\n",
      "12/01 23:16:52 - mmengine - \u001b[4m\u001b[97mINFO\u001b[0m - paramwise_options -- backbone.layers.3.0.depthwise_conv.bn.weight:weight_decay=0.0\n",
      "12/01 23:16:52 - mmengine - \u001b[4m\u001b[97mINFO\u001b[0m - paramwise_options -- backbone.layers.3.0.depthwise_conv.bn.bias:weight_decay=0.0\n",
      "12/01 23:16:52 - mmengine - \u001b[4m\u001b[97mINFO\u001b[0m - paramwise_options -- backbone.layers.3.0.se.conv1.conv.bias:weight_decay=0.0\n",
      "12/01 23:16:52 - mmengine - \u001b[4m\u001b[97mINFO\u001b[0m - paramwise_options -- backbone.layers.3.0.se.conv2.conv.bias:weight_decay=0.0\n",
      "12/01 23:16:52 - mmengine - \u001b[4m\u001b[97mINFO\u001b[0m - paramwise_options -- backbone.layers.3.0.linear_conv.bn.weight:weight_decay=0.0\n",
      "12/01 23:16:52 - mmengine - \u001b[4m\u001b[97mINFO\u001b[0m - paramwise_options -- backbone.layers.3.0.linear_conv.bn.bias:weight_decay=0.0\n",
      "12/01 23:16:52 - mmengine - \u001b[4m\u001b[97mINFO\u001b[0m - paramwise_options -- backbone.layers.3.1.expand_conv.bn.weight:weight_decay=0.0\n",
      "12/01 23:16:52 - mmengine - \u001b[4m\u001b[97mINFO\u001b[0m - paramwise_options -- backbone.layers.3.1.expand_conv.bn.bias:weight_decay=0.0\n",
      "12/01 23:16:52 - mmengine - \u001b[4m\u001b[97mINFO\u001b[0m - paramwise_options -- backbone.layers.3.1.depthwise_conv.bn.weight:weight_decay=0.0\n",
      "12/01 23:16:52 - mmengine - \u001b[4m\u001b[97mINFO\u001b[0m - paramwise_options -- backbone.layers.3.1.depthwise_conv.bn.bias:weight_decay=0.0\n",
      "12/01 23:16:52 - mmengine - \u001b[4m\u001b[97mINFO\u001b[0m - paramwise_options -- backbone.layers.3.1.se.conv1.conv.bias:weight_decay=0.0\n",
      "12/01 23:16:52 - mmengine - \u001b[4m\u001b[97mINFO\u001b[0m - paramwise_options -- backbone.layers.3.1.se.conv2.conv.bias:weight_decay=0.0\n",
      "12/01 23:16:52 - mmengine - \u001b[4m\u001b[97mINFO\u001b[0m - paramwise_options -- backbone.layers.3.1.linear_conv.bn.weight:weight_decay=0.0\n",
      "12/01 23:16:52 - mmengine - \u001b[4m\u001b[97mINFO\u001b[0m - paramwise_options -- backbone.layers.3.1.linear_conv.bn.bias:weight_decay=0.0\n",
      "12/01 23:16:52 - mmengine - \u001b[4m\u001b[97mINFO\u001b[0m - paramwise_options -- backbone.layers.4.0.expand_conv.bn.weight:weight_decay=0.0\n",
      "12/01 23:16:52 - mmengine - \u001b[4m\u001b[97mINFO\u001b[0m - paramwise_options -- backbone.layers.4.0.expand_conv.bn.bias:weight_decay=0.0\n",
      "12/01 23:16:52 - mmengine - \u001b[4m\u001b[97mINFO\u001b[0m - paramwise_options -- backbone.layers.4.0.depthwise_conv.bn.weight:weight_decay=0.0\n",
      "12/01 23:16:52 - mmengine - \u001b[4m\u001b[97mINFO\u001b[0m - paramwise_options -- backbone.layers.4.0.depthwise_conv.bn.bias:weight_decay=0.0\n",
      "12/01 23:16:52 - mmengine - \u001b[4m\u001b[97mINFO\u001b[0m - paramwise_options -- backbone.layers.4.0.se.conv1.conv.bias:weight_decay=0.0\n",
      "12/01 23:16:52 - mmengine - \u001b[4m\u001b[97mINFO\u001b[0m - paramwise_options -- backbone.layers.4.0.se.conv2.conv.bias:weight_decay=0.0\n",
      "12/01 23:16:52 - mmengine - \u001b[4m\u001b[97mINFO\u001b[0m - paramwise_options -- backbone.layers.4.0.linear_conv.bn.weight:weight_decay=0.0\n",
      "12/01 23:16:52 - mmengine - \u001b[4m\u001b[97mINFO\u001b[0m - paramwise_options -- backbone.layers.4.0.linear_conv.bn.bias:weight_decay=0.0\n",
      "12/01 23:16:52 - mmengine - \u001b[4m\u001b[97mINFO\u001b[0m - paramwise_options -- backbone.layers.4.1.expand_conv.bn.weight:weight_decay=0.0\n",
      "12/01 23:16:52 - mmengine - \u001b[4m\u001b[97mINFO\u001b[0m - paramwise_options -- backbone.layers.4.1.expand_conv.bn.bias:weight_decay=0.0\n",
      "12/01 23:16:52 - mmengine - \u001b[4m\u001b[97mINFO\u001b[0m - paramwise_options -- backbone.layers.4.1.depthwise_conv.bn.weight:weight_decay=0.0\n",
      "12/01 23:16:52 - mmengine - \u001b[4m\u001b[97mINFO\u001b[0m - paramwise_options -- backbone.layers.4.1.depthwise_conv.bn.bias:weight_decay=0.0\n",
      "12/01 23:16:52 - mmengine - \u001b[4m\u001b[97mINFO\u001b[0m - paramwise_options -- backbone.layers.4.1.se.conv1.conv.bias:weight_decay=0.0\n",
      "12/01 23:16:52 - mmengine - \u001b[4m\u001b[97mINFO\u001b[0m - paramwise_options -- backbone.layers.4.1.se.conv2.conv.bias:weight_decay=0.0\n",
      "12/01 23:16:52 - mmengine - \u001b[4m\u001b[97mINFO\u001b[0m - paramwise_options -- backbone.layers.4.1.linear_conv.bn.weight:weight_decay=0.0\n",
      "12/01 23:16:52 - mmengine - \u001b[4m\u001b[97mINFO\u001b[0m - paramwise_options -- backbone.layers.4.1.linear_conv.bn.bias:weight_decay=0.0\n",
      "12/01 23:16:52 - mmengine - \u001b[4m\u001b[97mINFO\u001b[0m - paramwise_options -- backbone.layers.4.2.expand_conv.bn.weight:weight_decay=0.0\n",
      "12/01 23:16:52 - mmengine - \u001b[4m\u001b[97mINFO\u001b[0m - paramwise_options -- backbone.layers.4.2.expand_conv.bn.bias:weight_decay=0.0\n",
      "12/01 23:16:52 - mmengine - \u001b[4m\u001b[97mINFO\u001b[0m - paramwise_options -- backbone.layers.4.2.depthwise_conv.bn.weight:weight_decay=0.0\n",
      "12/01 23:16:52 - mmengine - \u001b[4m\u001b[97mINFO\u001b[0m - paramwise_options -- backbone.layers.4.2.depthwise_conv.bn.bias:weight_decay=0.0\n",
      "12/01 23:16:52 - mmengine - \u001b[4m\u001b[97mINFO\u001b[0m - paramwise_options -- backbone.layers.4.2.se.conv1.conv.bias:weight_decay=0.0\n",
      "12/01 23:16:52 - mmengine - \u001b[4m\u001b[97mINFO\u001b[0m - paramwise_options -- backbone.layers.4.2.se.conv2.conv.bias:weight_decay=0.0\n",
      "12/01 23:16:52 - mmengine - \u001b[4m\u001b[97mINFO\u001b[0m - paramwise_options -- backbone.layers.4.2.linear_conv.bn.weight:weight_decay=0.0\n",
      "12/01 23:16:52 - mmengine - \u001b[4m\u001b[97mINFO\u001b[0m - paramwise_options -- backbone.layers.4.2.linear_conv.bn.bias:weight_decay=0.0\n",
      "12/01 23:16:52 - mmengine - \u001b[4m\u001b[97mINFO\u001b[0m - paramwise_options -- backbone.layers.4.3.expand_conv.bn.weight:weight_decay=0.0\n",
      "12/01 23:16:52 - mmengine - \u001b[4m\u001b[97mINFO\u001b[0m - paramwise_options -- backbone.layers.4.3.expand_conv.bn.bias:weight_decay=0.0\n",
      "12/01 23:16:52 - mmengine - \u001b[4m\u001b[97mINFO\u001b[0m - paramwise_options -- backbone.layers.4.3.depthwise_conv.bn.weight:weight_decay=0.0\n",
      "12/01 23:16:52 - mmengine - \u001b[4m\u001b[97mINFO\u001b[0m - paramwise_options -- backbone.layers.4.3.depthwise_conv.bn.bias:weight_decay=0.0\n",
      "12/01 23:16:52 - mmengine - \u001b[4m\u001b[97mINFO\u001b[0m - paramwise_options -- backbone.layers.4.3.se.conv1.conv.bias:weight_decay=0.0\n",
      "12/01 23:16:52 - mmengine - \u001b[4m\u001b[97mINFO\u001b[0m - paramwise_options -- backbone.layers.4.3.se.conv2.conv.bias:weight_decay=0.0\n",
      "12/01 23:16:52 - mmengine - \u001b[4m\u001b[97mINFO\u001b[0m - paramwise_options -- backbone.layers.4.3.linear_conv.bn.weight:weight_decay=0.0\n",
      "12/01 23:16:52 - mmengine - \u001b[4m\u001b[97mINFO\u001b[0m - paramwise_options -- backbone.layers.4.3.linear_conv.bn.bias:weight_decay=0.0\n",
      "12/01 23:16:52 - mmengine - \u001b[4m\u001b[97mINFO\u001b[0m - paramwise_options -- backbone.layers.4.4.expand_conv.bn.weight:weight_decay=0.0\n",
      "12/01 23:16:52 - mmengine - \u001b[4m\u001b[97mINFO\u001b[0m - paramwise_options -- backbone.layers.4.4.expand_conv.bn.bias:weight_decay=0.0\n",
      "12/01 23:16:52 - mmengine - \u001b[4m\u001b[97mINFO\u001b[0m - paramwise_options -- backbone.layers.4.4.depthwise_conv.bn.weight:weight_decay=0.0\n",
      "12/01 23:16:52 - mmengine - \u001b[4m\u001b[97mINFO\u001b[0m - paramwise_options -- backbone.layers.4.4.depthwise_conv.bn.bias:weight_decay=0.0\n",
      "12/01 23:16:52 - mmengine - \u001b[4m\u001b[97mINFO\u001b[0m - paramwise_options -- backbone.layers.4.4.se.conv1.conv.bias:weight_decay=0.0\n",
      "12/01 23:16:52 - mmengine - \u001b[4m\u001b[97mINFO\u001b[0m - paramwise_options -- backbone.layers.4.4.se.conv2.conv.bias:weight_decay=0.0\n",
      "12/01 23:16:52 - mmengine - \u001b[4m\u001b[97mINFO\u001b[0m - paramwise_options -- backbone.layers.4.4.linear_conv.bn.weight:weight_decay=0.0\n",
      "12/01 23:16:52 - mmengine - \u001b[4m\u001b[97mINFO\u001b[0m - paramwise_options -- backbone.layers.4.4.linear_conv.bn.bias:weight_decay=0.0\n",
      "12/01 23:16:52 - mmengine - \u001b[4m\u001b[97mINFO\u001b[0m - paramwise_options -- backbone.layers.4.5.expand_conv.bn.weight:weight_decay=0.0\n",
      "12/01 23:16:52 - mmengine - \u001b[4m\u001b[97mINFO\u001b[0m - paramwise_options -- backbone.layers.4.5.expand_conv.bn.bias:weight_decay=0.0\n",
      "12/01 23:16:52 - mmengine - \u001b[4m\u001b[97mINFO\u001b[0m - paramwise_options -- backbone.layers.4.5.depthwise_conv.bn.weight:weight_decay=0.0\n",
      "12/01 23:16:52 - mmengine - \u001b[4m\u001b[97mINFO\u001b[0m - paramwise_options -- backbone.layers.4.5.depthwise_conv.bn.bias:weight_decay=0.0\n",
      "12/01 23:16:52 - mmengine - \u001b[4m\u001b[97mINFO\u001b[0m - paramwise_options -- backbone.layers.4.5.se.conv1.conv.bias:weight_decay=0.0\n",
      "12/01 23:16:52 - mmengine - \u001b[4m\u001b[97mINFO\u001b[0m - paramwise_options -- backbone.layers.4.5.se.conv2.conv.bias:weight_decay=0.0\n",
      "12/01 23:16:52 - mmengine - \u001b[4m\u001b[97mINFO\u001b[0m - paramwise_options -- backbone.layers.4.5.linear_conv.bn.weight:weight_decay=0.0\n",
      "12/01 23:16:52 - mmengine - \u001b[4m\u001b[97mINFO\u001b[0m - paramwise_options -- backbone.layers.4.5.linear_conv.bn.bias:weight_decay=0.0\n",
      "12/01 23:16:52 - mmengine - \u001b[4m\u001b[97mINFO\u001b[0m - paramwise_options -- backbone.layers.5.0.expand_conv.bn.weight:weight_decay=0.0\n",
      "12/01 23:16:52 - mmengine - \u001b[4m\u001b[97mINFO\u001b[0m - paramwise_options -- backbone.layers.5.0.expand_conv.bn.bias:weight_decay=0.0\n",
      "12/01 23:16:52 - mmengine - \u001b[4m\u001b[97mINFO\u001b[0m - paramwise_options -- backbone.layers.5.0.depthwise_conv.bn.weight:weight_decay=0.0\n",
      "12/01 23:16:52 - mmengine - \u001b[4m\u001b[97mINFO\u001b[0m - paramwise_options -- backbone.layers.5.0.depthwise_conv.bn.bias:weight_decay=0.0\n",
      "12/01 23:16:52 - mmengine - \u001b[4m\u001b[97mINFO\u001b[0m - paramwise_options -- backbone.layers.5.0.se.conv1.conv.bias:weight_decay=0.0\n",
      "12/01 23:16:52 - mmengine - \u001b[4m\u001b[97mINFO\u001b[0m - paramwise_options -- backbone.layers.5.0.se.conv2.conv.bias:weight_decay=0.0\n",
      "12/01 23:16:52 - mmengine - \u001b[4m\u001b[97mINFO\u001b[0m - paramwise_options -- backbone.layers.5.0.linear_conv.bn.weight:weight_decay=0.0\n",
      "12/01 23:16:52 - mmengine - \u001b[4m\u001b[97mINFO\u001b[0m - paramwise_options -- backbone.layers.5.0.linear_conv.bn.bias:weight_decay=0.0\n",
      "12/01 23:16:52 - mmengine - \u001b[4m\u001b[97mINFO\u001b[0m - paramwise_options -- backbone.layers.5.1.expand_conv.bn.weight:weight_decay=0.0\n",
      "12/01 23:16:52 - mmengine - \u001b[4m\u001b[97mINFO\u001b[0m - paramwise_options -- backbone.layers.5.1.expand_conv.bn.bias:weight_decay=0.0\n",
      "12/01 23:16:52 - mmengine - \u001b[4m\u001b[97mINFO\u001b[0m - paramwise_options -- backbone.layers.5.1.depthwise_conv.bn.weight:weight_decay=0.0\n",
      "12/01 23:16:52 - mmengine - \u001b[4m\u001b[97mINFO\u001b[0m - paramwise_options -- backbone.layers.5.1.depthwise_conv.bn.bias:weight_decay=0.0\n",
      "12/01 23:16:52 - mmengine - \u001b[4m\u001b[97mINFO\u001b[0m - paramwise_options -- backbone.layers.5.1.se.conv1.conv.bias:weight_decay=0.0\n",
      "12/01 23:16:52 - mmengine - \u001b[4m\u001b[97mINFO\u001b[0m - paramwise_options -- backbone.layers.5.1.se.conv2.conv.bias:weight_decay=0.0\n",
      "12/01 23:16:52 - mmengine - \u001b[4m\u001b[97mINFO\u001b[0m - paramwise_options -- backbone.layers.5.1.linear_conv.bn.weight:weight_decay=0.0\n",
      "12/01 23:16:52 - mmengine - \u001b[4m\u001b[97mINFO\u001b[0m - paramwise_options -- backbone.layers.5.1.linear_conv.bn.bias:weight_decay=0.0\n",
      "12/01 23:16:52 - mmengine - \u001b[4m\u001b[97mINFO\u001b[0m - paramwise_options -- backbone.layers.5.2.expand_conv.bn.weight:weight_decay=0.0\n",
      "12/01 23:16:52 - mmengine - \u001b[4m\u001b[97mINFO\u001b[0m - paramwise_options -- backbone.layers.5.2.expand_conv.bn.bias:weight_decay=0.0\n",
      "12/01 23:16:52 - mmengine - \u001b[4m\u001b[97mINFO\u001b[0m - paramwise_options -- backbone.layers.5.2.depthwise_conv.bn.weight:weight_decay=0.0\n",
      "12/01 23:16:52 - mmengine - \u001b[4m\u001b[97mINFO\u001b[0m - paramwise_options -- backbone.layers.5.2.depthwise_conv.bn.bias:weight_decay=0.0\n",
      "12/01 23:16:52 - mmengine - \u001b[4m\u001b[97mINFO\u001b[0m - paramwise_options -- backbone.layers.5.2.se.conv1.conv.bias:weight_decay=0.0\n",
      "12/01 23:16:52 - mmengine - \u001b[4m\u001b[97mINFO\u001b[0m - paramwise_options -- backbone.layers.5.2.se.conv2.conv.bias:weight_decay=0.0\n",
      "12/01 23:16:52 - mmengine - \u001b[4m\u001b[97mINFO\u001b[0m - paramwise_options -- backbone.layers.5.2.linear_conv.bn.weight:weight_decay=0.0\n",
      "12/01 23:16:52 - mmengine - \u001b[4m\u001b[97mINFO\u001b[0m - paramwise_options -- backbone.layers.5.2.linear_conv.bn.bias:weight_decay=0.0\n",
      "12/01 23:16:52 - mmengine - \u001b[4m\u001b[97mINFO\u001b[0m - paramwise_options -- backbone.layers.5.3.expand_conv.bn.weight:weight_decay=0.0\n",
      "12/01 23:16:52 - mmengine - \u001b[4m\u001b[97mINFO\u001b[0m - paramwise_options -- backbone.layers.5.3.expand_conv.bn.bias:weight_decay=0.0\n",
      "12/01 23:16:52 - mmengine - \u001b[4m\u001b[97mINFO\u001b[0m - paramwise_options -- backbone.layers.5.3.depthwise_conv.bn.weight:weight_decay=0.0\n",
      "12/01 23:16:52 - mmengine - \u001b[4m\u001b[97mINFO\u001b[0m - paramwise_options -- backbone.layers.5.3.depthwise_conv.bn.bias:weight_decay=0.0\n",
      "12/01 23:16:52 - mmengine - \u001b[4m\u001b[97mINFO\u001b[0m - paramwise_options -- backbone.layers.5.3.se.conv1.conv.bias:weight_decay=0.0\n",
      "12/01 23:16:52 - mmengine - \u001b[4m\u001b[97mINFO\u001b[0m - paramwise_options -- backbone.layers.5.3.se.conv2.conv.bias:weight_decay=0.0\n",
      "12/01 23:16:52 - mmengine - \u001b[4m\u001b[97mINFO\u001b[0m - paramwise_options -- backbone.layers.5.3.linear_conv.bn.weight:weight_decay=0.0\n",
      "12/01 23:16:52 - mmengine - \u001b[4m\u001b[97mINFO\u001b[0m - paramwise_options -- backbone.layers.5.3.linear_conv.bn.bias:weight_decay=0.0\n",
      "12/01 23:16:52 - mmengine - \u001b[4m\u001b[97mINFO\u001b[0m - paramwise_options -- backbone.layers.5.4.expand_conv.bn.weight:weight_decay=0.0\n",
      "12/01 23:16:52 - mmengine - \u001b[4m\u001b[97mINFO\u001b[0m - paramwise_options -- backbone.layers.5.4.expand_conv.bn.bias:weight_decay=0.0\n",
      "12/01 23:16:52 - mmengine - \u001b[4m\u001b[97mINFO\u001b[0m - paramwise_options -- backbone.layers.5.4.depthwise_conv.bn.weight:weight_decay=0.0\n",
      "12/01 23:16:52 - mmengine - \u001b[4m\u001b[97mINFO\u001b[0m - paramwise_options -- backbone.layers.5.4.depthwise_conv.bn.bias:weight_decay=0.0\n",
      "12/01 23:16:52 - mmengine - \u001b[4m\u001b[97mINFO\u001b[0m - paramwise_options -- backbone.layers.5.4.se.conv1.conv.bias:weight_decay=0.0\n",
      "12/01 23:16:52 - mmengine - \u001b[4m\u001b[97mINFO\u001b[0m - paramwise_options -- backbone.layers.5.4.se.conv2.conv.bias:weight_decay=0.0\n",
      "12/01 23:16:52 - mmengine - \u001b[4m\u001b[97mINFO\u001b[0m - paramwise_options -- backbone.layers.5.4.linear_conv.bn.weight:weight_decay=0.0\n",
      "12/01 23:16:52 - mmengine - \u001b[4m\u001b[97mINFO\u001b[0m - paramwise_options -- backbone.layers.5.4.linear_conv.bn.bias:weight_decay=0.0\n",
      "12/01 23:16:52 - mmengine - \u001b[4m\u001b[97mINFO\u001b[0m - paramwise_options -- backbone.layers.6.bn.weight:weight_decay=0.0\n",
      "12/01 23:16:52 - mmengine - \u001b[4m\u001b[97mINFO\u001b[0m - paramwise_options -- backbone.layers.6.bn.bias:weight_decay=0.0\n",
      "12/01 23:16:52 - mmengine - \u001b[4m\u001b[97mINFO\u001b[0m - paramwise_options -- head.fc.bias:weight_decay=0.0\n",
      "12/01 23:16:52 - mmengine - \u001b[4m\u001b[97mINFO\u001b[0m - load backbone in model from: https://download.openmmlab.com/mmclassification/v0/efficientnet/efficientnet-b0_3rdparty_8xb32_in1k_20220119-a7e2a0b1.pth\n",
      "Loads checkpoint by http backend from path: https://download.openmmlab.com/mmclassification/v0/efficientnet/efficientnet-b0_3rdparty_8xb32_in1k_20220119-a7e2a0b1.pth\n",
      "12/01 23:16:53 - mmengine - \u001b[5m\u001b[4m\u001b[33mWARNING\u001b[0m - \"FileClient\" will be deprecated in future. Please use io functions in https://mmengine.readthedocs.io/en/latest/api/fileio.html#file-io\n",
      "12/01 23:16:53 - mmengine - \u001b[5m\u001b[4m\u001b[33mWARNING\u001b[0m - \"HardDiskBackend\" is the alias of \"LocalBackend\" and the former will be deprecated in future.\n",
      "12/01 23:16:53 - mmengine - \u001b[4m\u001b[97mINFO\u001b[0m - Checkpoints will be saved to /home/user/mmpretrain/work_dirs/alzheimer/axial/efficientnet.\n",
      "12/01 23:17:05 - mmengine - \u001b[4m\u001b[97mINFO\u001b[0m - Epoch(train)   [1][100/300]  base_lr: 6.6978e-05 lr: 6.6978e-05  eta: 1:00:05  time: 0.0384  data_time: 0.0010  memory: 520  loss: 1.0842\n",
      "12/01 23:17:09 - mmengine - \u001b[4m\u001b[97mINFO\u001b[0m - Epoch(train)   [1][200/300]  base_lr: 1.3362e-04 lr: 1.3362e-04  eta: 0:39:56  time: 0.0451  data_time: 0.0011  memory: 520  loss: 1.1307\n",
      "12/01 23:17:13 - mmengine - \u001b[4m\u001b[97mINFO\u001b[0m - Exp name: efficientnetb0_alzheimer_axial_view_20231201_231629\n",
      "12/01 23:17:13 - mmengine - \u001b[4m\u001b[97mINFO\u001b[0m - Epoch(train)   [1][300/300]  base_lr: 2.0027e-04 lr: 2.0027e-04  eta: 0:34:02  time: 0.0386  data_time: 0.0009  memory: 520  loss: 0.9147\n",
      "12/01 23:17:13 - mmengine - \u001b[4m\u001b[97mINFO\u001b[0m - Saving checkpoint at 1 epochs\n",
      "12/01 23:17:15 - mmengine - \u001b[4m\u001b[97mINFO\u001b[0m - Epoch(val) [1][66/66]    accuracy/top1: 45.8333  accuracy/top3: 100.0000  data_time: 0.0023  time: 0.0131\n",
      "12/01 23:17:19 - mmengine - \u001b[4m\u001b[97mINFO\u001b[0m - Epoch(train)   [2][100/300]  base_lr: 2.6691e-04 lr: 2.6691e-04  eta: 0:30:40  time: 0.0451  data_time: 0.0010  memory: 520  loss: 0.8422\n",
      "12/01 23:17:23 - mmengine - \u001b[4m\u001b[97mINFO\u001b[0m - Epoch(train)   [2][200/300]  base_lr: 3.3356e-04 lr: 3.3356e-04  eta: 0:28:41  time: 0.0431  data_time: 0.0009  memory: 520  loss: 1.0151\n",
      "12/01 23:17:27 - mmengine - \u001b[4m\u001b[97mINFO\u001b[0m - Exp name: efficientnetb0_alzheimer_axial_view_20231201_231629\n",
      "12/01 23:17:27 - mmengine - \u001b[4m\u001b[97mINFO\u001b[0m - Epoch(train)   [2][300/300]  base_lr: 4.0020e-04 lr: 4.0020e-04  eta: 0:27:03  time: 0.0390  data_time: 0.0009  memory: 520  loss: 0.9107\n",
      "12/01 23:17:27 - mmengine - \u001b[4m\u001b[97mINFO\u001b[0m - Saving checkpoint at 2 epochs\n",
      "12/01 23:17:28 - mmengine - \u001b[4m\u001b[97mINFO\u001b[0m - Epoch(val) [2][66/66]    accuracy/top1: 68.9394  accuracy/top3: 100.0000  data_time: 0.0003  time: 0.0123\n",
      "12/01 23:17:32 - mmengine - \u001b[4m\u001b[97mINFO\u001b[0m - Epoch(train)   [3][100/300]  base_lr: 4.6684e-04 lr: 4.6684e-04  eta: 0:25:50  time: 0.0401  data_time: 0.0009  memory: 520  loss: 0.7999\n",
      "12/01 23:17:36 - mmengine - \u001b[4m\u001b[97mINFO\u001b[0m - Epoch(train)   [3][200/300]  base_lr: 5.3349e-04 lr: 5.3349e-04  eta: 0:24:54  time: 0.0390  data_time: 0.0010  memory: 520  loss: 0.9968\n",
      "12/01 23:17:40 - mmengine - \u001b[4m\u001b[97mINFO\u001b[0m - Exp name: efficientnetb0_alzheimer_axial_view_20231201_231629\n",
      "12/01 23:17:40 - mmengine - \u001b[4m\u001b[97mINFO\u001b[0m - Epoch(train)   [3][300/300]  base_lr: 6.0013e-04 lr: 6.0013e-04  eta: 0:24:12  time: 0.0398  data_time: 0.0010  memory: 520  loss: 0.8249\n",
      "12/01 23:17:40 - mmengine - \u001b[4m\u001b[97mINFO\u001b[0m - Saving checkpoint at 3 epochs\n",
      "12/01 23:17:41 - mmengine - \u001b[4m\u001b[97mINFO\u001b[0m - Epoch(val) [3][66/66]    accuracy/top1: 60.6061  accuracy/top3: 100.0000  data_time: 0.0002  time: 0.0100\n",
      "12/01 23:17:45 - mmengine - \u001b[4m\u001b[97mINFO\u001b[0m - Exp name: efficientnetb0_alzheimer_axial_view_20231201_231629\n",
      "12/01 23:17:45 - mmengine - \u001b[4m\u001b[97mINFO\u001b[0m - Epoch(train)   [4][100/300]  base_lr: 6.6678e-04 lr: 6.6678e-04  eta: 0:23:43  time: 0.0394  data_time: 0.0009  memory: 520  loss: 0.9361\n",
      "12/01 23:17:49 - mmengine - \u001b[4m\u001b[97mINFO\u001b[0m - Epoch(train)   [4][200/300]  base_lr: 7.3342e-04 lr: 7.3342e-04  eta: 0:23:16  time: 0.0389  data_time: 0.0009  memory: 520  loss: 0.8212\n",
      "12/01 23:17:53 - mmengine - \u001b[4m\u001b[97mINFO\u001b[0m - Exp name: efficientnetb0_alzheimer_axial_view_20231201_231629\n",
      "12/01 23:17:53 - mmengine - \u001b[4m\u001b[97mINFO\u001b[0m - Epoch(train)   [4][300/300]  base_lr: 8.0007e-04 lr: 8.0007e-04  eta: 0:22:50  time: 0.0386  data_time: 0.0009  memory: 520  loss: 0.8399\n",
      "12/01 23:17:53 - mmengine - \u001b[4m\u001b[97mINFO\u001b[0m - Saving checkpoint at 4 epochs\n",
      "12/01 23:17:54 - mmengine - \u001b[4m\u001b[97mINFO\u001b[0m - Epoch(val) [4][66/66]    accuracy/top1: 72.3485  accuracy/top3: 100.0000  data_time: 0.0003  time: 0.0102\n",
      "12/01 23:17:58 - mmengine - \u001b[4m\u001b[97mINFO\u001b[0m - Epoch(train)   [5][100/300]  base_lr: 8.6671e-04 lr: 8.6671e-04  eta: 0:22:34  time: 0.0395  data_time: 0.0010  memory: 520  loss: 0.9447\n",
      "12/01 23:18:02 - mmengine - \u001b[4m\u001b[97mINFO\u001b[0m - Epoch(train)   [5][200/300]  base_lr: 9.3336e-04 lr: 9.3336e-04  eta: 0:22:14  time: 0.0392  data_time: 0.0010  memory: 520  loss: 1.0484\n",
      "12/01 23:18:06 - mmengine - \u001b[4m\u001b[97mINFO\u001b[0m - Exp name: efficientnetb0_alzheimer_axial_view_20231201_231629\n",
      "12/01 23:18:06 - mmengine - \u001b[4m\u001b[97mINFO\u001b[0m - Epoch(train)   [5][300/300]  base_lr: 1.0000e-03 lr: 1.0000e-03  eta: 0:21:56  time: 0.0377  data_time: 0.0009  memory: 520  loss: 0.8889\n",
      "12/01 23:18:06 - mmengine - \u001b[4m\u001b[97mINFO\u001b[0m - Saving checkpoint at 5 epochs\n",
      "12/01 23:18:07 - mmengine - \u001b[4m\u001b[97mINFO\u001b[0m - Epoch(val) [5][66/66]    accuracy/top1: 65.9091  accuracy/top3: 100.0000  data_time: 0.0003  time: 0.0099\n",
      "12/01 23:18:11 - mmengine - \u001b[4m\u001b[97mINFO\u001b[0m - Epoch(train)   [6][100/300]  base_lr: 1.0000e-03 lr: 1.0000e-03  eta: 0:21:39  time: 0.0392  data_time: 0.0005  memory: 520  loss: 0.8466\n",
      "12/01 23:18:15 - mmengine - \u001b[4m\u001b[97mINFO\u001b[0m - Epoch(train)   [6][200/300]  base_lr: 1.0000e-03 lr: 1.0000e-03  eta: 0:21:25  time: 0.0406  data_time: 0.0005  memory: 520  loss: 0.9440\n",
      "12/01 23:18:19 - mmengine - \u001b[4m\u001b[97mINFO\u001b[0m - Exp name: efficientnetb0_alzheimer_axial_view_20231201_231629\n",
      "12/01 23:18:19 - mmengine - \u001b[4m\u001b[97mINFO\u001b[0m - Epoch(train)   [6][300/300]  base_lr: 1.0000e-03 lr: 1.0000e-03  eta: 0:21:12  time: 0.0393  data_time: 0.0005  memory: 520  loss: 1.0215\n",
      "12/01 23:18:19 - mmengine - \u001b[4m\u001b[97mINFO\u001b[0m - Saving checkpoint at 6 epochs\n",
      "12/01 23:18:20 - mmengine - \u001b[4m\u001b[97mINFO\u001b[0m - Epoch(val) [6][66/66]    accuracy/top1: 68.9394  accuracy/top3: 100.0000  data_time: 0.0003  time: 0.0099\n",
      "12/01 23:18:25 - mmengine - \u001b[4m\u001b[97mINFO\u001b[0m - Epoch(train)   [7][100/300]  base_lr: 9.9997e-04 lr: 9.9997e-04  eta: 0:21:05  time: 0.0433  data_time: 0.0005  memory: 520  loss: 1.0048\n",
      "12/01 23:18:29 - mmengine - \u001b[4m\u001b[97mINFO\u001b[0m - Exp name: efficientnetb0_alzheimer_axial_view_20231201_231629\n",
      "12/01 23:18:29 - mmengine - \u001b[4m\u001b[97mINFO\u001b[0m - Epoch(train)   [7][200/300]  base_lr: 9.9997e-04 lr: 9.9997e-04  eta: 0:20:57  time: 0.0422  data_time: 0.0005  memory: 520  loss: 0.8325\n",
      "12/01 23:18:33 - mmengine - \u001b[4m\u001b[97mINFO\u001b[0m - Exp name: efficientnetb0_alzheimer_axial_view_20231201_231629\n",
      "12/01 23:18:33 - mmengine - \u001b[4m\u001b[97mINFO\u001b[0m - Epoch(train)   [7][300/300]  base_lr: 9.9997e-04 lr: 9.9997e-04  eta: 0:20:49  time: 0.0406  data_time: 0.0005  memory: 520  loss: 0.9194\n",
      "12/01 23:18:33 - mmengine - \u001b[4m\u001b[97mINFO\u001b[0m - Saving checkpoint at 7 epochs\n",
      "12/01 23:18:34 - mmengine - \u001b[4m\u001b[97mINFO\u001b[0m - Epoch(val) [7][66/66]    accuracy/top1: 71.5909  accuracy/top3: 100.0000  data_time: 0.0003  time: 0.0125\n",
      "12/01 23:18:38 - mmengine - \u001b[4m\u001b[97mINFO\u001b[0m - Epoch(train)   [8][100/300]  base_lr: 9.9989e-04 lr: 9.9989e-04  eta: 0:20:37  time: 0.0382  data_time: 0.0005  memory: 520  loss: 0.8811\n",
      "12/01 23:18:42 - mmengine - \u001b[4m\u001b[97mINFO\u001b[0m - Epoch(train)   [8][200/300]  base_lr: 9.9989e-04 lr: 9.9989e-04  eta: 0:20:26  time: 0.0383  data_time: 0.0005  memory: 520  loss: 0.8936\n",
      "12/01 23:18:46 - mmengine - \u001b[4m\u001b[97mINFO\u001b[0m - Exp name: efficientnetb0_alzheimer_axial_view_20231201_231629\n",
      "12/01 23:18:46 - mmengine - \u001b[4m\u001b[97mINFO\u001b[0m - Epoch(train)   [8][300/300]  base_lr: 9.9989e-04 lr: 9.9989e-04  eta: 0:20:15  time: 0.0388  data_time: 0.0005  memory: 520  loss: 0.9607\n",
      "12/01 23:18:46 - mmengine - \u001b[4m\u001b[97mINFO\u001b[0m - Saving checkpoint at 8 epochs\n",
      "12/01 23:18:47 - mmengine - \u001b[4m\u001b[97mINFO\u001b[0m - Epoch(val) [8][66/66]    accuracy/top1: 69.6970  accuracy/top3: 100.0000  data_time: 0.0003  time: 0.0100\n",
      "12/01 23:18:51 - mmengine - \u001b[4m\u001b[97mINFO\u001b[0m - Epoch(train)   [9][100/300]  base_lr: 9.9975e-04 lr: 9.9975e-04  eta: 0:20:07  time: 0.0421  data_time: 0.0005  memory: 520  loss: 0.7183\n",
      "12/01 23:18:55 - mmengine - \u001b[4m\u001b[97mINFO\u001b[0m - Epoch(train)   [9][200/300]  base_lr: 9.9975e-04 lr: 9.9975e-04  eta: 0:20:02  time: 0.0423  data_time: 0.0005  memory: 520  loss: 0.6333\n",
      "12/01 23:18:59 - mmengine - \u001b[4m\u001b[97mINFO\u001b[0m - Exp name: efficientnetb0_alzheimer_axial_view_20231201_231629\n",
      "12/01 23:18:59 - mmengine - \u001b[4m\u001b[97mINFO\u001b[0m - Epoch(train)   [9][300/300]  base_lr: 9.9975e-04 lr: 9.9975e-04  eta: 0:19:54  time: 0.0394  data_time: 0.0005  memory: 520  loss: 0.9304\n",
      "12/01 23:18:59 - mmengine - \u001b[4m\u001b[97mINFO\u001b[0m - Saving checkpoint at 9 epochs\n",
      "12/01 23:19:00 - mmengine - \u001b[4m\u001b[97mINFO\u001b[0m - Epoch(val) [9][66/66]    accuracy/top1: 62.1212  accuracy/top3: 100.0000  data_time: 0.0003  time: 0.0098\n",
      "12/01 23:19:04 - mmengine - \u001b[4m\u001b[97mINFO\u001b[0m - Epoch(train)  [10][100/300]  base_lr: 9.9955e-04 lr: 9.9955e-04  eta: 0:19:46  time: 0.0399  data_time: 0.0005  memory: 520  loss: 0.7123\n",
      "12/01 23:19:08 - mmengine - \u001b[4m\u001b[97mINFO\u001b[0m - Epoch(train)  [10][200/300]  base_lr: 9.9955e-04 lr: 9.9955e-04  eta: 0:19:38  time: 0.0393  data_time: 0.0005  memory: 520  loss: 1.0122\n",
      "12/01 23:19:12 - mmengine - \u001b[4m\u001b[97mINFO\u001b[0m - Exp name: efficientnetb0_alzheimer_axial_view_20231201_231629\n",
      "12/01 23:19:12 - mmengine - \u001b[4m\u001b[97mINFO\u001b[0m - Epoch(train)  [10][300/300]  base_lr: 9.9955e-04 lr: 9.9955e-04  eta: 0:19:30  time: 0.0395  data_time: 0.0006  memory: 520  loss: 0.7447\n",
      "12/01 23:19:12 - mmengine - \u001b[4m\u001b[97mINFO\u001b[0m - Saving checkpoint at 10 epochs\n",
      "12/01 23:19:13 - mmengine - \u001b[4m\u001b[97mINFO\u001b[0m - Epoch(val) [10][66/66]    accuracy/top1: 77.6515  accuracy/top3: 100.0000  data_time: 0.0003  time: 0.0105\n",
      "12/01 23:19:17 - mmengine - \u001b[4m\u001b[97mINFO\u001b[0m - Epoch(train)  [11][100/300]  base_lr: 9.9930e-04 lr: 9.9930e-04  eta: 0:19:23  time: 0.0405  data_time: 0.0005  memory: 520  loss: 0.8511\n",
      "12/01 23:19:21 - mmengine - \u001b[4m\u001b[97mINFO\u001b[0m - Epoch(train)  [11][200/300]  base_lr: 9.9930e-04 lr: 9.9930e-04  eta: 0:19:16  time: 0.0414  data_time: 0.0005  memory: 520  loss: 0.8069\n",
      "12/01 23:19:25 - mmengine - \u001b[4m\u001b[97mINFO\u001b[0m - Exp name: efficientnetb0_alzheimer_axial_view_20231201_231629\n",
      "12/01 23:19:25 - mmengine - \u001b[4m\u001b[97mINFO\u001b[0m - Epoch(train)  [11][300/300]  base_lr: 9.9930e-04 lr: 9.9930e-04  eta: 0:19:11  time: 0.0379  data_time: 0.0005  memory: 520  loss: 0.7121\n",
      "12/01 23:19:25 - mmengine - \u001b[4m\u001b[97mINFO\u001b[0m - Saving checkpoint at 11 epochs\n",
      "12/01 23:19:26 - mmengine - \u001b[4m\u001b[97mINFO\u001b[0m - Epoch(val) [11][66/66]    accuracy/top1: 73.8636  accuracy/top3: 100.0000  data_time: 0.0003  time: 0.0101\n",
      "12/01 23:19:30 - mmengine - \u001b[4m\u001b[97mINFO\u001b[0m - Epoch(train)  [12][100/300]  base_lr: 9.9899e-04 lr: 9.9899e-04  eta: 0:19:04  time: 0.0386  data_time: 0.0005  memory: 520  loss: 0.5577\n",
      "12/01 23:19:34 - mmengine - \u001b[4m\u001b[97mINFO\u001b[0m - Epoch(train)  [12][200/300]  base_lr: 9.9899e-04 lr: 9.9899e-04  eta: 0:18:56  time: 0.0382  data_time: 0.0005  memory: 520  loss: 0.6420\n",
      "12/01 23:19:38 - mmengine - \u001b[4m\u001b[97mINFO\u001b[0m - Exp name: efficientnetb0_alzheimer_axial_view_20231201_231629\n",
      "12/01 23:19:38 - mmengine - \u001b[4m\u001b[97mINFO\u001b[0m - Epoch(train)  [12][300/300]  base_lr: 9.9899e-04 lr: 9.9899e-04  eta: 0:18:49  time: 0.0382  data_time: 0.0005  memory: 520  loss: 0.6574\n",
      "12/01 23:19:38 - mmengine - \u001b[4m\u001b[97mINFO\u001b[0m - Saving checkpoint at 12 epochs\n",
      "12/01 23:19:39 - mmengine - \u001b[4m\u001b[97mINFO\u001b[0m - Epoch(val) [12][66/66]    accuracy/top1: 76.1364  accuracy/top3: 100.0000  data_time: 0.0003  time: 0.0099\n",
      "12/01 23:19:43 - mmengine - \u001b[4m\u001b[97mINFO\u001b[0m - Epoch(train)  [13][100/300]  base_lr: 9.9863e-04 lr: 9.9863e-04  eta: 0:18:42  time: 0.0387  data_time: 0.0005  memory: 520  loss: 0.7982\n",
      "12/01 23:19:47 - mmengine - \u001b[4m\u001b[97mINFO\u001b[0m - Epoch(train)  [13][200/300]  base_lr: 9.9863e-04 lr: 9.9863e-04  eta: 0:18:35  time: 0.0388  data_time: 0.0005  memory: 520  loss: 0.7576\n",
      "12/01 23:19:51 - mmengine - \u001b[4m\u001b[97mINFO\u001b[0m - Exp name: efficientnetb0_alzheimer_axial_view_20231201_231629\n",
      "12/01 23:19:51 - mmengine - \u001b[4m\u001b[97mINFO\u001b[0m - Epoch(train)  [13][300/300]  base_lr: 9.9863e-04 lr: 9.9863e-04  eta: 0:18:28  time: 0.0382  data_time: 0.0005  memory: 520  loss: 0.8244\n",
      "12/01 23:19:51 - mmengine - \u001b[4m\u001b[97mINFO\u001b[0m - Saving checkpoint at 13 epochs\n",
      "12/01 23:19:52 - mmengine - \u001b[4m\u001b[97mINFO\u001b[0m - Epoch(val) [13][66/66]    accuracy/top1: 74.2424  accuracy/top3: 100.0000  data_time: 0.0002  time: 0.0101\n",
      "12/01 23:19:56 - mmengine - \u001b[4m\u001b[97mINFO\u001b[0m - Exp name: efficientnetb0_alzheimer_axial_view_20231201_231629\n",
      "12/01 23:19:56 - mmengine - \u001b[4m\u001b[97mINFO\u001b[0m - Epoch(train)  [14][100/300]  base_lr: 9.9820e-04 lr: 9.9820e-04  eta: 0:18:22  time: 0.0385  data_time: 0.0005  memory: 520  loss: 0.7517\n",
      "12/01 23:20:00 - mmengine - \u001b[4m\u001b[97mINFO\u001b[0m - Epoch(train)  [14][200/300]  base_lr: 9.9820e-04 lr: 9.9820e-04  eta: 0:18:16  time: 0.0396  data_time: 0.0005  memory: 520  loss: 0.7749\n",
      "12/01 23:20:04 - mmengine - \u001b[4m\u001b[97mINFO\u001b[0m - Exp name: efficientnetb0_alzheimer_axial_view_20231201_231629\n",
      "12/01 23:20:04 - mmengine - \u001b[4m\u001b[97mINFO\u001b[0m - Epoch(train)  [14][300/300]  base_lr: 9.9820e-04 lr: 9.9820e-04  eta: 0:18:10  time: 0.0387  data_time: 0.0005  memory: 520  loss: 0.6304\n",
      "12/01 23:20:04 - mmengine - \u001b[4m\u001b[97mINFO\u001b[0m - Saving checkpoint at 14 epochs\n",
      "12/01 23:20:05 - mmengine - \u001b[4m\u001b[97mINFO\u001b[0m - Epoch(val) [14][66/66]    accuracy/top1: 75.7576  accuracy/top3: 100.0000  data_time: 0.0002  time: 0.0109\n",
      "12/01 23:20:09 - mmengine - \u001b[4m\u001b[97mINFO\u001b[0m - Epoch(train)  [15][100/300]  base_lr: 9.9773e-04 lr: 9.9773e-04  eta: 0:18:04  time: 0.0392  data_time: 0.0005  memory: 520  loss: 0.8640\n",
      "12/01 23:20:13 - mmengine - \u001b[4m\u001b[97mINFO\u001b[0m - Epoch(train)  [15][200/300]  base_lr: 9.9773e-04 lr: 9.9773e-04  eta: 0:17:58  time: 0.0391  data_time: 0.0005  memory: 520  loss: 0.8407\n",
      "12/01 23:20:17 - mmengine - \u001b[4m\u001b[97mINFO\u001b[0m - Exp name: efficientnetb0_alzheimer_axial_view_20231201_231629\n",
      "12/01 23:20:17 - mmengine - \u001b[4m\u001b[97mINFO\u001b[0m - Epoch(train)  [15][300/300]  base_lr: 9.9773e-04 lr: 9.9773e-04  eta: 0:17:53  time: 0.0410  data_time: 0.0005  memory: 520  loss: 0.7290\n",
      "12/01 23:20:17 - mmengine - \u001b[4m\u001b[97mINFO\u001b[0m - Saving checkpoint at 15 epochs\n",
      "12/01 23:20:18 - mmengine - \u001b[4m\u001b[97mINFO\u001b[0m - Epoch(val) [15][66/66]    accuracy/top1: 72.3485  accuracy/top3: 100.0000  data_time: 0.0003  time: 0.0098\n",
      "12/01 23:20:22 - mmengine - \u001b[4m\u001b[97mINFO\u001b[0m - Epoch(train)  [16][100/300]  base_lr: 9.9720e-04 lr: 9.9720e-04  eta: 0:17:47  time: 0.0392  data_time: 0.0005  memory: 520  loss: 0.7034\n",
      "12/01 23:20:26 - mmengine - \u001b[4m\u001b[97mINFO\u001b[0m - Epoch(train)  [16][200/300]  base_lr: 9.9720e-04 lr: 9.9720e-04  eta: 0:17:42  time: 0.0400  data_time: 0.0005  memory: 520  loss: 0.7615\n",
      "12/01 23:20:29 - mmengine - \u001b[4m\u001b[97mINFO\u001b[0m - Exp name: efficientnetb0_alzheimer_axial_view_20231201_231629\n",
      "12/01 23:20:29 - mmengine - \u001b[4m\u001b[97mINFO\u001b[0m - Epoch(train)  [16][300/300]  base_lr: 9.9720e-04 lr: 9.9720e-04  eta: 0:17:36  time: 0.0394  data_time: 0.0005  memory: 520  loss: 0.6600\n",
      "12/01 23:20:29 - mmengine - \u001b[4m\u001b[97mINFO\u001b[0m - Saving checkpoint at 16 epochs\n",
      "12/01 23:20:30 - mmengine - \u001b[4m\u001b[97mINFO\u001b[0m - Epoch(val) [16][66/66]    accuracy/top1: 81.0606  accuracy/top3: 100.0000  data_time: 0.0003  time: 0.0101\n",
      "12/01 23:20:34 - mmengine - \u001b[4m\u001b[97mINFO\u001b[0m - Epoch(train)  [17][100/300]  base_lr: 9.9661e-04 lr: 9.9661e-04  eta: 0:17:31  time: 0.0405  data_time: 0.0005  memory: 520  loss: 0.6283\n",
      "12/01 23:20:38 - mmengine - \u001b[4m\u001b[97mINFO\u001b[0m - Exp name: efficientnetb0_alzheimer_axial_view_20231201_231629\n",
      "12/01 23:20:38 - mmengine - \u001b[4m\u001b[97mINFO\u001b[0m - Epoch(train)  [17][200/300]  base_lr: 9.9661e-04 lr: 9.9661e-04  eta: 0:17:26  time: 0.0389  data_time: 0.0005  memory: 520  loss: 0.6883\n",
      "12/01 23:20:42 - mmengine - \u001b[4m\u001b[97mINFO\u001b[0m - Exp name: efficientnetb0_alzheimer_axial_view_20231201_231629\n",
      "12/01 23:20:42 - mmengine - \u001b[4m\u001b[97mINFO\u001b[0m - Epoch(train)  [17][300/300]  base_lr: 9.9661e-04 lr: 9.9661e-04  eta: 0:17:21  time: 0.0404  data_time: 0.0006  memory: 520  loss: 0.8549\n",
      "12/01 23:20:42 - mmengine - \u001b[4m\u001b[97mINFO\u001b[0m - Saving checkpoint at 17 epochs\n",
      "12/01 23:20:43 - mmengine - \u001b[4m\u001b[97mINFO\u001b[0m - Epoch(val) [17][66/66]    accuracy/top1: 81.8182  accuracy/top3: 100.0000  data_time: 0.0003  time: 0.0101\n",
      "12/01 23:20:48 - mmengine - \u001b[4m\u001b[97mINFO\u001b[0m - Epoch(train)  [18][100/300]  base_lr: 9.9596e-04 lr: 9.9596e-04  eta: 0:17:16  time: 0.0435  data_time: 0.0006  memory: 520  loss: 0.6749\n",
      "12/01 23:20:52 - mmengine - \u001b[4m\u001b[97mINFO\u001b[0m - Epoch(train)  [18][200/300]  base_lr: 9.9596e-04 lr: 9.9596e-04  eta: 0:17:12  time: 0.0425  data_time: 0.0006  memory: 520  loss: 0.5857\n",
      "12/01 23:20:56 - mmengine - \u001b[4m\u001b[97mINFO\u001b[0m - Exp name: efficientnetb0_alzheimer_axial_view_20231201_231629\n",
      "12/01 23:20:56 - mmengine - \u001b[4m\u001b[97mINFO\u001b[0m - Epoch(train)  [18][300/300]  base_lr: 9.9596e-04 lr: 9.9596e-04  eta: 0:17:09  time: 0.0456  data_time: 0.0006  memory: 520  loss: 0.6537\n",
      "12/01 23:20:56 - mmengine - \u001b[4m\u001b[97mINFO\u001b[0m - Saving checkpoint at 18 epochs\n",
      "12/01 23:20:57 - mmengine - \u001b[4m\u001b[97mINFO\u001b[0m - Epoch(val) [18][66/66]    accuracy/top1: 84.0909  accuracy/top3: 100.0000  data_time: 0.0004  time: 0.0114\n",
      "12/01 23:21:01 - mmengine - \u001b[4m\u001b[97mINFO\u001b[0m - Epoch(train)  [19][100/300]  base_lr: 9.9526e-04 lr: 9.9526e-04  eta: 0:17:03  time: 0.0385  data_time: 0.0005  memory: 520  loss: 0.8461\n",
      "12/01 23:21:05 - mmengine - \u001b[4m\u001b[97mINFO\u001b[0m - Epoch(train)  [19][200/300]  base_lr: 9.9526e-04 lr: 9.9526e-04  eta: 0:16:59  time: 0.0403  data_time: 0.0006  memory: 520  loss: 0.6006\n",
      "12/01 23:21:09 - mmengine - \u001b[4m\u001b[97mINFO\u001b[0m - Exp name: efficientnetb0_alzheimer_axial_view_20231201_231629\n",
      "12/01 23:21:09 - mmengine - \u001b[4m\u001b[97mINFO\u001b[0m - Epoch(train)  [19][300/300]  base_lr: 9.9526e-04 lr: 9.9526e-04  eta: 0:16:54  time: 0.0385  data_time: 0.0005  memory: 520  loss: 0.6124\n",
      "12/01 23:21:09 - mmengine - \u001b[4m\u001b[97mINFO\u001b[0m - Saving checkpoint at 19 epochs\n",
      "12/01 23:21:10 - mmengine - \u001b[4m\u001b[97mINFO\u001b[0m - Epoch(val) [19][66/66]    accuracy/top1: 76.8939  accuracy/top3: 100.0000  data_time: 0.0002  time: 0.0098\n",
      "12/01 23:21:14 - mmengine - \u001b[4m\u001b[97mINFO\u001b[0m - Epoch(train)  [20][100/300]  base_lr: 9.9451e-04 lr: 9.9451e-04  eta: 0:16:49  time: 0.0390  data_time: 0.0006  memory: 520  loss: 0.7886\n",
      "12/01 23:21:18 - mmengine - \u001b[4m\u001b[97mINFO\u001b[0m - Epoch(train)  [20][200/300]  base_lr: 9.9451e-04 lr: 9.9451e-04  eta: 0:16:44  time: 0.0389  data_time: 0.0005  memory: 520  loss: 0.7400\n",
      "12/01 23:21:22 - mmengine - \u001b[4m\u001b[97mINFO\u001b[0m - Exp name: efficientnetb0_alzheimer_axial_view_20231201_231629\n",
      "12/01 23:21:22 - mmengine - \u001b[4m\u001b[97mINFO\u001b[0m - Epoch(train)  [20][300/300]  base_lr: 9.9451e-04 lr: 9.9451e-04  eta: 0:16:39  time: 0.0390  data_time: 0.0005  memory: 520  loss: 0.7509\n",
      "12/01 23:21:22 - mmengine - \u001b[4m\u001b[97mINFO\u001b[0m - Saving checkpoint at 20 epochs\n",
      "12/01 23:21:23 - mmengine - \u001b[4m\u001b[97mINFO\u001b[0m - Epoch(val) [20][66/66]    accuracy/top1: 73.8636  accuracy/top3: 100.0000  data_time: 0.0003  time: 0.0100\n",
      "12/01 23:21:27 - mmengine - \u001b[4m\u001b[97mINFO\u001b[0m - Epoch(train)  [21][100/300]  base_lr: 9.9370e-04 lr: 9.9370e-04  eta: 0:16:34  time: 0.0386  data_time: 0.0006  memory: 520  loss: 0.7765\n",
      "12/01 23:21:31 - mmengine - \u001b[4m\u001b[97mINFO\u001b[0m - Epoch(train)  [21][200/300]  base_lr: 9.9370e-04 lr: 9.9370e-04  eta: 0:16:28  time: 0.0388  data_time: 0.0006  memory: 520  loss: 0.6118\n",
      "12/01 23:21:35 - mmengine - \u001b[4m\u001b[97mINFO\u001b[0m - Exp name: efficientnetb0_alzheimer_axial_view_20231201_231629\n",
      "12/01 23:21:35 - mmengine - \u001b[4m\u001b[97mINFO\u001b[0m - Epoch(train)  [21][300/300]  base_lr: 9.9370e-04 lr: 9.9370e-04  eta: 0:16:23  time: 0.0386  data_time: 0.0005  memory: 520  loss: 0.6971\n",
      "12/01 23:21:35 - mmengine - \u001b[4m\u001b[97mINFO\u001b[0m - Saving checkpoint at 21 epochs\n",
      "12/01 23:21:36 - mmengine - \u001b[4m\u001b[97mINFO\u001b[0m - Epoch(val) [21][66/66]    accuracy/top1: 85.6061  accuracy/top3: 100.0000  data_time: 0.0002  time: 0.0098\n",
      "12/01 23:21:40 - mmengine - \u001b[4m\u001b[97mINFO\u001b[0m - Epoch(train)  [22][100/300]  base_lr: 9.9283e-04 lr: 9.9283e-04  eta: 0:16:18  time: 0.0390  data_time: 0.0006  memory: 520  loss: 0.7953\n",
      "12/01 23:21:44 - mmengine - \u001b[4m\u001b[97mINFO\u001b[0m - Epoch(train)  [22][200/300]  base_lr: 9.9283e-04 lr: 9.9283e-04  eta: 0:16:13  time: 0.0398  data_time: 0.0006  memory: 520  loss: 0.5871\n",
      "12/01 23:21:47 - mmengine - \u001b[4m\u001b[97mINFO\u001b[0m - Exp name: efficientnetb0_alzheimer_axial_view_20231201_231629\n",
      "12/01 23:21:47 - mmengine - \u001b[4m\u001b[97mINFO\u001b[0m - Epoch(train)  [22][300/300]  base_lr: 9.9283e-04 lr: 9.9283e-04  eta: 0:16:08  time: 0.0381  data_time: 0.0005  memory: 520  loss: 0.5410\n",
      "12/01 23:21:47 - mmengine - \u001b[4m\u001b[97mINFO\u001b[0m - Saving checkpoint at 22 epochs\n",
      "12/01 23:21:48 - mmengine - \u001b[4m\u001b[97mINFO\u001b[0m - Epoch(val) [22][66/66]    accuracy/top1: 87.1212  accuracy/top3: 100.0000  data_time: 0.0002  time: 0.0098\n",
      "12/01 23:21:52 - mmengine - \u001b[4m\u001b[97mINFO\u001b[0m - Epoch(train)  [23][100/300]  base_lr: 9.9191e-04 lr: 9.9191e-04  eta: 0:16:03  time: 0.0385  data_time: 0.0005  memory: 520  loss: 0.6412\n",
      "12/01 23:21:56 - mmengine - \u001b[4m\u001b[97mINFO\u001b[0m - Epoch(train)  [23][200/300]  base_lr: 9.9191e-04 lr: 9.9191e-04  eta: 0:15:58  time: 0.0390  data_time: 0.0006  memory: 520  loss: 0.6208\n",
      "12/01 23:22:01 - mmengine - \u001b[4m\u001b[97mINFO\u001b[0m - Exp name: efficientnetb0_alzheimer_axial_view_20231201_231629\n",
      "12/01 23:22:01 - mmengine - \u001b[4m\u001b[97mINFO\u001b[0m - Epoch(train)  [23][300/300]  base_lr: 9.9191e-04 lr: 9.9191e-04  eta: 0:15:55  time: 0.0416  data_time: 0.0005  memory: 520  loss: 0.7554\n",
      "12/01 23:22:01 - mmengine - \u001b[4m\u001b[97mINFO\u001b[0m - Saving checkpoint at 23 epochs\n",
      "12/01 23:22:02 - mmengine - \u001b[4m\u001b[97mINFO\u001b[0m - Epoch(val) [23][66/66]    accuracy/top1: 86.3636  accuracy/top3: 100.0000  data_time: 0.0003  time: 0.0097\n",
      "12/01 23:22:06 - mmengine - \u001b[4m\u001b[97mINFO\u001b[0m - Exp name: efficientnetb0_alzheimer_axial_view_20231201_231629\n",
      "12/01 23:22:06 - mmengine - \u001b[4m\u001b[97mINFO\u001b[0m - Epoch(train)  [24][100/300]  base_lr: 9.9093e-04 lr: 9.9093e-04  eta: 0:15:50  time: 0.0385  data_time: 0.0005  memory: 520  loss: 0.6123\n",
      "12/01 23:22:09 - mmengine - \u001b[4m\u001b[97mINFO\u001b[0m - Epoch(train)  [24][200/300]  base_lr: 9.9093e-04 lr: 9.9093e-04  eta: 0:15:45  time: 0.0401  data_time: 0.0005  memory: 520  loss: 0.6845\n",
      "12/01 23:22:14 - mmengine - \u001b[4m\u001b[97mINFO\u001b[0m - Exp name: efficientnetb0_alzheimer_axial_view_20231201_231629\n",
      "12/01 23:22:14 - mmengine - \u001b[4m\u001b[97mINFO\u001b[0m - Epoch(train)  [24][300/300]  base_lr: 9.9093e-04 lr: 9.9093e-04  eta: 0:15:41  time: 0.0386  data_time: 0.0005  memory: 520  loss: 0.7271\n",
      "12/01 23:22:14 - mmengine - \u001b[4m\u001b[97mINFO\u001b[0m - Saving checkpoint at 24 epochs\n",
      "12/01 23:22:14 - mmengine - \u001b[4m\u001b[97mINFO\u001b[0m - Epoch(val) [24][66/66]    accuracy/top1: 86.3636  accuracy/top3: 100.0000  data_time: 0.0003  time: 0.0100\n",
      "12/01 23:22:18 - mmengine - \u001b[4m\u001b[97mINFO\u001b[0m - Epoch(train)  [25][100/300]  base_lr: 9.8990e-04 lr: 9.8990e-04  eta: 0:15:36  time: 0.0403  data_time: 0.0006  memory: 520  loss: 0.4953\n",
      "12/01 23:22:23 - mmengine - \u001b[4m\u001b[97mINFO\u001b[0m - Epoch(train)  [25][200/300]  base_lr: 9.8990e-04 lr: 9.8990e-04  eta: 0:15:32  time: 0.0400  data_time: 0.0005  memory: 520  loss: 0.6221\n",
      "12/01 23:22:27 - mmengine - \u001b[4m\u001b[97mINFO\u001b[0m - Exp name: efficientnetb0_alzheimer_axial_view_20231201_231629\n",
      "12/01 23:22:27 - mmengine - \u001b[4m\u001b[97mINFO\u001b[0m - Epoch(train)  [25][300/300]  base_lr: 9.8990e-04 lr: 9.8990e-04  eta: 0:15:28  time: 0.0390  data_time: 0.0005  memory: 520  loss: 0.5650\n",
      "12/01 23:22:27 - mmengine - \u001b[4m\u001b[97mINFO\u001b[0m - Saving checkpoint at 25 epochs\n",
      "12/01 23:22:27 - mmengine - \u001b[4m\u001b[97mINFO\u001b[0m - Epoch(val) [25][66/66]    accuracy/top1: 86.7424  accuracy/top3: 100.0000  data_time: 0.0003  time: 0.0102\n",
      "12/01 23:22:31 - mmengine - \u001b[4m\u001b[97mINFO\u001b[0m - Epoch(train)  [26][100/300]  base_lr: 9.8881e-04 lr: 9.8881e-04  eta: 0:15:23  time: 0.0381  data_time: 0.0006  memory: 520  loss: 0.4461\n",
      "12/01 23:22:35 - mmengine - \u001b[4m\u001b[97mINFO\u001b[0m - Epoch(train)  [26][200/300]  base_lr: 9.8881e-04 lr: 9.8881e-04  eta: 0:15:18  time: 0.0395  data_time: 0.0006  memory: 520  loss: 0.6018\n",
      "12/01 23:22:40 - mmengine - \u001b[4m\u001b[97mINFO\u001b[0m - Exp name: efficientnetb0_alzheimer_axial_view_20231201_231629\n",
      "12/01 23:22:40 - mmengine - \u001b[4m\u001b[97mINFO\u001b[0m - Epoch(train)  [26][300/300]  base_lr: 9.8881e-04 lr: 9.8881e-04  eta: 0:15:14  time: 0.0411  data_time: 0.0005  memory: 520  loss: 0.5245\n",
      "12/01 23:22:40 - mmengine - \u001b[4m\u001b[97mINFO\u001b[0m - Saving checkpoint at 26 epochs\n",
      "12/01 23:22:40 - mmengine - \u001b[4m\u001b[97mINFO\u001b[0m - Epoch(val) [26][66/66]    accuracy/top1: 88.2576  accuracy/top3: 100.0000  data_time: 0.0002  time: 0.0098\n",
      "12/01 23:22:45 - mmengine - \u001b[4m\u001b[97mINFO\u001b[0m - Epoch(train)  [27][100/300]  base_lr: 9.8767e-04 lr: 9.8767e-04  eta: 0:15:10  time: 0.0425  data_time: 0.0006  memory: 520  loss: 0.5966\n",
      "12/01 23:22:49 - mmengine - \u001b[4m\u001b[97mINFO\u001b[0m - Exp name: efficientnetb0_alzheimer_axial_view_20231201_231629\n",
      "12/01 23:22:49 - mmengine - \u001b[4m\u001b[97mINFO\u001b[0m - Epoch(train)  [27][200/300]  base_lr: 9.8767e-04 lr: 9.8767e-04  eta: 0:15:06  time: 0.0420  data_time: 0.0006  memory: 520  loss: 0.7192\n",
      "12/01 23:22:53 - mmengine - \u001b[4m\u001b[97mINFO\u001b[0m - Exp name: efficientnetb0_alzheimer_axial_view_20231201_231629\n",
      "12/01 23:22:53 - mmengine - \u001b[4m\u001b[97mINFO\u001b[0m - Epoch(train)  [27][300/300]  base_lr: 9.8767e-04 lr: 9.8767e-04  eta: 0:15:02  time: 0.0383  data_time: 0.0005  memory: 520  loss: 0.6754\n",
      "12/01 23:22:53 - mmengine - \u001b[4m\u001b[97mINFO\u001b[0m - Saving checkpoint at 27 epochs\n",
      "12/01 23:22:54 - mmengine - \u001b[4m\u001b[97mINFO\u001b[0m - Epoch(val) [27][66/66]    accuracy/top1: 79.1667  accuracy/top3: 100.0000  data_time: 0.0003  time: 0.0131\n",
      "12/01 23:22:58 - mmengine - \u001b[4m\u001b[97mINFO\u001b[0m - Epoch(train)  [28][100/300]  base_lr: 9.8648e-04 lr: 9.8648e-04  eta: 0:14:57  time: 0.0385  data_time: 0.0006  memory: 520  loss: 0.5832\n",
      "12/01 23:23:02 - mmengine - \u001b[4m\u001b[97mINFO\u001b[0m - Epoch(train)  [28][200/300]  base_lr: 9.8648e-04 lr: 9.8648e-04  eta: 0:14:52  time: 0.0385  data_time: 0.0006  memory: 520  loss: 0.5290\n",
      "12/01 23:23:06 - mmengine - \u001b[4m\u001b[97mINFO\u001b[0m - Exp name: efficientnetb0_alzheimer_axial_view_20231201_231629\n",
      "12/01 23:23:06 - mmengine - \u001b[4m\u001b[97mINFO\u001b[0m - Epoch(train)  [28][300/300]  base_lr: 9.8648e-04 lr: 9.8648e-04  eta: 0:14:48  time: 0.0385  data_time: 0.0005  memory: 520  loss: 0.8618\n",
      "12/01 23:23:06 - mmengine - \u001b[4m\u001b[97mINFO\u001b[0m - Saving checkpoint at 28 epochs\n",
      "12/01 23:23:07 - mmengine - \u001b[4m\u001b[97mINFO\u001b[0m - Epoch(val) [28][66/66]    accuracy/top1: 73.1061  accuracy/top3: 100.0000  data_time: 0.0003  time: 0.0102\n",
      "12/01 23:23:11 - mmengine - \u001b[4m\u001b[97mINFO\u001b[0m - Epoch(train)  [29][100/300]  base_lr: 9.8523e-04 lr: 9.8523e-04  eta: 0:14:43  time: 0.0393  data_time: 0.0006  memory: 520  loss: 0.7775\n",
      "12/01 23:23:15 - mmengine - \u001b[4m\u001b[97mINFO\u001b[0m - Epoch(train)  [29][200/300]  base_lr: 9.8523e-04 lr: 9.8523e-04  eta: 0:14:39  time: 0.0388  data_time: 0.0006  memory: 520  loss: 0.5268\n",
      "12/01 23:23:19 - mmengine - \u001b[4m\u001b[97mINFO\u001b[0m - Exp name: efficientnetb0_alzheimer_axial_view_20231201_231629\n",
      "12/01 23:23:19 - mmengine - \u001b[4m\u001b[97mINFO\u001b[0m - Epoch(train)  [29][300/300]  base_lr: 9.8523e-04 lr: 9.8523e-04  eta: 0:14:34  time: 0.0392  data_time: 0.0005  memory: 520  loss: 0.5743\n",
      "12/01 23:23:19 - mmengine - \u001b[4m\u001b[97mINFO\u001b[0m - Saving checkpoint at 29 epochs\n",
      "12/01 23:23:20 - mmengine - \u001b[4m\u001b[97mINFO\u001b[0m - Epoch(val) [29][66/66]    accuracy/top1: 84.8485  accuracy/top3: 100.0000  data_time: 0.0003  time: 0.0100\n",
      "12/01 23:23:24 - mmengine - \u001b[4m\u001b[97mINFO\u001b[0m - Epoch(train)  [30][100/300]  base_lr: 9.8392e-04 lr: 9.8392e-04  eta: 0:14:30  time: 0.0385  data_time: 0.0006  memory: 520  loss: 0.7095\n",
      "12/01 23:23:28 - mmengine - \u001b[4m\u001b[97mINFO\u001b[0m - Epoch(train)  [30][200/300]  base_lr: 9.8392e-04 lr: 9.8392e-04  eta: 0:14:26  time: 0.0443  data_time: 0.0007  memory: 520  loss: 0.5578\n",
      "12/01 23:23:32 - mmengine - \u001b[4m\u001b[97mINFO\u001b[0m - Exp name: efficientnetb0_alzheimer_axial_view_20231201_231629\n",
      "12/01 23:23:32 - mmengine - \u001b[4m\u001b[97mINFO\u001b[0m - Epoch(train)  [30][300/300]  base_lr: 9.8392e-04 lr: 9.8392e-04  eta: 0:14:22  time: 0.0384  data_time: 0.0006  memory: 520  loss: 0.8212\n",
      "12/01 23:23:32 - mmengine - \u001b[4m\u001b[97mINFO\u001b[0m - Saving checkpoint at 30 epochs\n",
      "12/01 23:23:33 - mmengine - \u001b[4m\u001b[97mINFO\u001b[0m - Epoch(val) [30][66/66]    accuracy/top1: 73.4848  accuracy/top3: 100.0000  data_time: 0.0003  time: 0.0103\n",
      "12/01 23:23:37 - mmengine - \u001b[4m\u001b[97mINFO\u001b[0m - Epoch(train)  [31][100/300]  base_lr: 9.8256e-04 lr: 9.8256e-04  eta: 0:14:18  time: 0.0390  data_time: 0.0006  memory: 520  loss: 0.5511\n",
      "12/01 23:23:41 - mmengine - \u001b[4m\u001b[97mINFO\u001b[0m - Epoch(train)  [31][200/300]  base_lr: 9.8256e-04 lr: 9.8256e-04  eta: 0:14:13  time: 0.0393  data_time: 0.0006  memory: 520  loss: 0.4639\n",
      "12/01 23:23:45 - mmengine - \u001b[4m\u001b[97mINFO\u001b[0m - Exp name: efficientnetb0_alzheimer_axial_view_20231201_231629\n",
      "12/01 23:23:45 - mmengine - \u001b[4m\u001b[97mINFO\u001b[0m - Epoch(train)  [31][300/300]  base_lr: 9.8256e-04 lr: 9.8256e-04  eta: 0:14:09  time: 0.0386  data_time: 0.0005  memory: 520  loss: 0.5751\n",
      "12/01 23:23:45 - mmengine - \u001b[4m\u001b[97mINFO\u001b[0m - Saving checkpoint at 31 epochs\n",
      "12/01 23:23:46 - mmengine - \u001b[4m\u001b[97mINFO\u001b[0m - Epoch(val) [31][66/66]    accuracy/top1: 82.1970  accuracy/top3: 100.0000  data_time: 0.0003  time: 0.0098\n",
      "12/01 23:23:50 - mmengine - \u001b[4m\u001b[97mINFO\u001b[0m - Epoch(train)  [32][100/300]  base_lr: 9.8115e-04 lr: 9.8115e-04  eta: 0:14:05  time: 0.0421  data_time: 0.0006  memory: 520  loss: 0.6270\n",
      "12/01 23:23:54 - mmengine - \u001b[4m\u001b[97mINFO\u001b[0m - Epoch(train)  [32][200/300]  base_lr: 9.8115e-04 lr: 9.8115e-04  eta: 0:14:01  time: 0.0414  data_time: 0.0006  memory: 520  loss: 0.6047\n",
      "12/01 23:23:58 - mmengine - \u001b[4m\u001b[97mINFO\u001b[0m - Exp name: efficientnetb0_alzheimer_axial_view_20231201_231629\n",
      "12/01 23:23:58 - mmengine - \u001b[4m\u001b[97mINFO\u001b[0m - Epoch(train)  [32][300/300]  base_lr: 9.8115e-04 lr: 9.8115e-04  eta: 0:13:56  time: 0.0395  data_time: 0.0005  memory: 520  loss: 0.5827\n",
      "12/01 23:23:58 - mmengine - \u001b[4m\u001b[97mINFO\u001b[0m - Saving checkpoint at 32 epochs\n",
      "12/01 23:23:59 - mmengine - \u001b[4m\u001b[97mINFO\u001b[0m - Epoch(val) [32][66/66]    accuracy/top1: 88.6364  accuracy/top3: 100.0000  data_time: 0.0003  time: 0.0126\n",
      "12/01 23:24:03 - mmengine - \u001b[4m\u001b[97mINFO\u001b[0m - Epoch(train)  [33][100/300]  base_lr: 9.7968e-04 lr: 9.7968e-04  eta: 0:13:52  time: 0.0390  data_time: 0.0006  memory: 520  loss: 0.5134\n",
      "12/01 23:24:07 - mmengine - \u001b[4m\u001b[97mINFO\u001b[0m - Epoch(train)  [33][200/300]  base_lr: 9.7968e-04 lr: 9.7968e-04  eta: 0:13:48  time: 0.0436  data_time: 0.0006  memory: 520  loss: 0.7618\n",
      "12/01 23:24:11 - mmengine - \u001b[4m\u001b[97mINFO\u001b[0m - Exp name: efficientnetb0_alzheimer_axial_view_20231201_231629\n",
      "12/01 23:24:11 - mmengine - \u001b[4m\u001b[97mINFO\u001b[0m - Epoch(train)  [33][300/300]  base_lr: 9.7968e-04 lr: 9.7968e-04  eta: 0:13:43  time: 0.0378  data_time: 0.0005  memory: 520  loss: 0.7139\n",
      "12/01 23:24:11 - mmengine - \u001b[4m\u001b[97mINFO\u001b[0m - Saving checkpoint at 33 epochs\n",
      "12/01 23:24:12 - mmengine - \u001b[4m\u001b[97mINFO\u001b[0m - Epoch(val) [33][66/66]    accuracy/top1: 87.1212  accuracy/top3: 100.0000  data_time: 0.0002  time: 0.0098\n",
      "12/01 23:24:16 - mmengine - \u001b[4m\u001b[97mINFO\u001b[0m - Exp name: efficientnetb0_alzheimer_axial_view_20231201_231629\n",
      "12/01 23:24:16 - mmengine - \u001b[4m\u001b[97mINFO\u001b[0m - Epoch(train)  [34][100/300]  base_lr: 9.7816e-04 lr: 9.7816e-04  eta: 0:13:39  time: 0.0390  data_time: 0.0006  memory: 520  loss: 0.5044\n",
      "12/01 23:24:20 - mmengine - \u001b[4m\u001b[97mINFO\u001b[0m - Epoch(train)  [34][200/300]  base_lr: 9.7816e-04 lr: 9.7816e-04  eta: 0:13:34  time: 0.0401  data_time: 0.0008  memory: 520  loss: 0.4565\n",
      "12/01 23:24:24 - mmengine - \u001b[4m\u001b[97mINFO\u001b[0m - Exp name: efficientnetb0_alzheimer_axial_view_20231201_231629\n",
      "12/01 23:24:24 - mmengine - \u001b[4m\u001b[97mINFO\u001b[0m - Epoch(train)  [34][300/300]  base_lr: 9.7816e-04 lr: 9.7816e-04  eta: 0:13:30  time: 0.0399  data_time: 0.0005  memory: 520  loss: 0.4463\n",
      "12/01 23:24:24 - mmengine - \u001b[4m\u001b[97mINFO\u001b[0m - Saving checkpoint at 34 epochs\n",
      "12/01 23:24:25 - mmengine - \u001b[4m\u001b[97mINFO\u001b[0m - Epoch(val) [34][66/66]    accuracy/top1: 85.6061  accuracy/top3: 100.0000  data_time: 0.0003  time: 0.0098\n",
      "12/01 23:24:29 - mmengine - \u001b[4m\u001b[97mINFO\u001b[0m - Epoch(train)  [35][100/300]  base_lr: 9.7658e-04 lr: 9.7658e-04  eta: 0:13:26  time: 0.0398  data_time: 0.0006  memory: 520  loss: 0.6567\n",
      "12/01 23:24:33 - mmengine - \u001b[4m\u001b[97mINFO\u001b[0m - Epoch(train)  [35][200/300]  base_lr: 9.7658e-04 lr: 9.7658e-04  eta: 0:13:21  time: 0.0388  data_time: 0.0006  memory: 520  loss: 0.8805\n",
      "12/01 23:24:37 - mmengine - \u001b[4m\u001b[97mINFO\u001b[0m - Exp name: efficientnetb0_alzheimer_axial_view_20231201_231629\n",
      "12/01 23:24:37 - mmengine - \u001b[4m\u001b[97mINFO\u001b[0m - Epoch(train)  [35][300/300]  base_lr: 9.7658e-04 lr: 9.7658e-04  eta: 0:13:17  time: 0.0396  data_time: 0.0006  memory: 520  loss: 0.4909\n",
      "12/01 23:24:37 - mmengine - \u001b[4m\u001b[97mINFO\u001b[0m - Saving checkpoint at 35 epochs\n",
      "12/01 23:24:38 - mmengine - \u001b[4m\u001b[97mINFO\u001b[0m - Epoch(val) [35][66/66]    accuracy/top1: 90.1515  accuracy/top3: 100.0000  data_time: 0.0002  time: 0.0098\n",
      "12/01 23:24:42 - mmengine - \u001b[4m\u001b[97mINFO\u001b[0m - Epoch(train)  [36][100/300]  base_lr: 9.7495e-04 lr: 9.7495e-04  eta: 0:13:12  time: 0.0405  data_time: 0.0006  memory: 520  loss: 0.5542\n",
      "12/01 23:24:46 - mmengine - \u001b[4m\u001b[97mINFO\u001b[0m - Epoch(train)  [36][200/300]  base_lr: 9.7495e-04 lr: 9.7495e-04  eta: 0:13:08  time: 0.0380  data_time: 0.0006  memory: 520  loss: 0.2597\n",
      "12/01 23:24:49 - mmengine - \u001b[4m\u001b[97mINFO\u001b[0m - Exp name: efficientnetb0_alzheimer_axial_view_20231201_231629\n",
      "12/01 23:24:49 - mmengine - \u001b[4m\u001b[97mINFO\u001b[0m - Epoch(train)  [36][300/300]  base_lr: 9.7495e-04 lr: 9.7495e-04  eta: 0:13:03  time: 0.0379  data_time: 0.0006  memory: 520  loss: 0.5323\n",
      "12/01 23:24:49 - mmengine - \u001b[4m\u001b[97mINFO\u001b[0m - Saving checkpoint at 36 epochs\n",
      "12/01 23:24:50 - mmengine - \u001b[4m\u001b[97mINFO\u001b[0m - Epoch(val) [36][66/66]    accuracy/top1: 81.0606  accuracy/top3: 100.0000  data_time: 0.0003  time: 0.0097\n",
      "12/01 23:24:54 - mmengine - \u001b[4m\u001b[97mINFO\u001b[0m - Epoch(train)  [37][100/300]  base_lr: 9.7327e-04 lr: 9.7327e-04  eta: 0:12:59  time: 0.0399  data_time: 0.0005  memory: 520  loss: 0.4562\n",
      "12/01 23:24:58 - mmengine - \u001b[4m\u001b[97mINFO\u001b[0m - Exp name: efficientnetb0_alzheimer_axial_view_20231201_231629\n",
      "12/01 23:24:58 - mmengine - \u001b[4m\u001b[97mINFO\u001b[0m - Epoch(train)  [37][200/300]  base_lr: 9.7327e-04 lr: 9.7327e-04  eta: 0:12:55  time: 0.0400  data_time: 0.0006  memory: 520  loss: 0.5409\n",
      "12/01 23:25:02 - mmengine - \u001b[4m\u001b[97mINFO\u001b[0m - Exp name: efficientnetb0_alzheimer_axial_view_20231201_231629\n",
      "12/01 23:25:02 - mmengine - \u001b[4m\u001b[97mINFO\u001b[0m - Epoch(train)  [37][300/300]  base_lr: 9.7327e-04 lr: 9.7327e-04  eta: 0:12:51  time: 0.0394  data_time: 0.0006  memory: 520  loss: 0.6587\n",
      "12/01 23:25:02 - mmengine - \u001b[4m\u001b[97mINFO\u001b[0m - Saving checkpoint at 37 epochs\n",
      "12/01 23:25:03 - mmengine - \u001b[4m\u001b[97mINFO\u001b[0m - Epoch(val) [37][66/66]    accuracy/top1: 85.9848  accuracy/top3: 100.0000  data_time: 0.0003  time: 0.0101\n",
      "12/01 23:25:07 - mmengine - \u001b[4m\u001b[97mINFO\u001b[0m - Epoch(train)  [38][100/300]  base_lr: 9.7153e-04 lr: 9.7153e-04  eta: 0:12:46  time: 0.0419  data_time: 0.0007  memory: 520  loss: 0.7150\n",
      "12/01 23:25:12 - mmengine - \u001b[4m\u001b[97mINFO\u001b[0m - Epoch(train)  [38][200/300]  base_lr: 9.7153e-04 lr: 9.7153e-04  eta: 0:12:43  time: 0.0392  data_time: 0.0006  memory: 520  loss: 0.6440\n",
      "12/01 23:25:16 - mmengine - \u001b[4m\u001b[97mINFO\u001b[0m - Exp name: efficientnetb0_alzheimer_axial_view_20231201_231629\n",
      "12/01 23:25:16 - mmengine - \u001b[4m\u001b[97mINFO\u001b[0m - Epoch(train)  [38][300/300]  base_lr: 9.7153e-04 lr: 9.7153e-04  eta: 0:12:38  time: 0.0389  data_time: 0.0006  memory: 520  loss: 0.4393\n",
      "12/01 23:25:16 - mmengine - \u001b[4m\u001b[97mINFO\u001b[0m - Saving checkpoint at 38 epochs\n",
      "12/01 23:25:17 - mmengine - \u001b[4m\u001b[97mINFO\u001b[0m - Epoch(val) [38][66/66]    accuracy/top1: 91.6667  accuracy/top3: 100.0000  data_time: 0.0003  time: 0.0097\n",
      "12/01 23:25:21 - mmengine - \u001b[4m\u001b[97mINFO\u001b[0m - Epoch(train)  [39][100/300]  base_lr: 9.6975e-04 lr: 9.6975e-04  eta: 0:12:34  time: 0.0390  data_time: 0.0006  memory: 520  loss: 0.4315\n",
      "12/01 23:25:24 - mmengine - \u001b[4m\u001b[97mINFO\u001b[0m - Epoch(train)  [39][200/300]  base_lr: 9.6975e-04 lr: 9.6975e-04  eta: 0:12:30  time: 0.0390  data_time: 0.0006  memory: 520  loss: 0.7174\n",
      "12/01 23:25:28 - mmengine - \u001b[4m\u001b[97mINFO\u001b[0m - Exp name: efficientnetb0_alzheimer_axial_view_20231201_231629\n",
      "12/01 23:25:28 - mmengine - \u001b[4m\u001b[97mINFO\u001b[0m - Epoch(train)  [39][300/300]  base_lr: 9.6975e-04 lr: 9.6975e-04  eta: 0:12:25  time: 0.0392  data_time: 0.0006  memory: 520  loss: 0.4103\n",
      "12/01 23:25:28 - mmengine - \u001b[4m\u001b[97mINFO\u001b[0m - Saving checkpoint at 39 epochs\n",
      "12/01 23:25:29 - mmengine - \u001b[4m\u001b[97mINFO\u001b[0m - Epoch(val) [39][66/66]    accuracy/top1: 80.6818  accuracy/top3: 100.0000  data_time: 0.0003  time: 0.0101\n",
      "12/01 23:25:34 - mmengine - \u001b[4m\u001b[97mINFO\u001b[0m - Epoch(train)  [40][100/300]  base_lr: 9.6790e-04 lr: 9.6790e-04  eta: 0:12:22  time: 0.0430  data_time: 0.0005  memory: 520  loss: 0.4446\n",
      "12/01 23:25:38 - mmengine - \u001b[4m\u001b[97mINFO\u001b[0m - Epoch(train)  [40][200/300]  base_lr: 9.6790e-04 lr: 9.6790e-04  eta: 0:12:17  time: 0.0423  data_time: 0.0006  memory: 520  loss: 0.6517\n",
      "12/01 23:25:42 - mmengine - \u001b[4m\u001b[97mINFO\u001b[0m - Exp name: efficientnetb0_alzheimer_axial_view_20231201_231629\n",
      "12/01 23:25:42 - mmengine - \u001b[4m\u001b[97mINFO\u001b[0m - Epoch(train)  [40][300/300]  base_lr: 9.6790e-04 lr: 9.6790e-04  eta: 0:12:13  time: 0.0385  data_time: 0.0005  memory: 520  loss: 0.4737\n",
      "12/01 23:25:42 - mmengine - \u001b[4m\u001b[97mINFO\u001b[0m - Saving checkpoint at 40 epochs\n",
      "12/01 23:25:43 - mmengine - \u001b[4m\u001b[97mINFO\u001b[0m - Epoch(val) [40][66/66]    accuracy/top1: 84.4697  accuracy/top3: 100.0000  data_time: 0.0003  time: 0.0097\n",
      "12/01 23:25:46 - mmengine - \u001b[4m\u001b[97mINFO\u001b[0m - Epoch(train)  [41][100/300]  base_lr: 9.6601e-04 lr: 9.6601e-04  eta: 0:12:09  time: 0.0383  data_time: 0.0005  memory: 520  loss: 0.4696\n",
      "12/01 23:25:50 - mmengine - \u001b[4m\u001b[97mINFO\u001b[0m - Epoch(train)  [41][200/300]  base_lr: 9.6601e-04 lr: 9.6601e-04  eta: 0:12:04  time: 0.0395  data_time: 0.0006  memory: 520  loss: 0.6098\n",
      "12/01 23:25:54 - mmengine - \u001b[4m\u001b[97mINFO\u001b[0m - Exp name: efficientnetb0_alzheimer_axial_view_20231201_231629\n",
      "12/01 23:25:54 - mmengine - \u001b[4m\u001b[97mINFO\u001b[0m - Epoch(train)  [41][300/300]  base_lr: 9.6601e-04 lr: 9.6601e-04  eta: 0:12:00  time: 0.0380  data_time: 0.0006  memory: 520  loss: 0.4659\n",
      "12/01 23:25:54 - mmengine - \u001b[4m\u001b[97mINFO\u001b[0m - Saving checkpoint at 41 epochs\n",
      "12/01 23:25:55 - mmengine - \u001b[4m\u001b[97mINFO\u001b[0m - Epoch(val) [41][66/66]    accuracy/top1: 87.1212  accuracy/top3: 100.0000  data_time: 0.0003  time: 0.0098\n",
      "12/01 23:26:00 - mmengine - \u001b[4m\u001b[97mINFO\u001b[0m - Epoch(train)  [42][100/300]  base_lr: 9.6407e-04 lr: 9.6407e-04  eta: 0:11:57  time: 0.0428  data_time: 0.0006  memory: 520  loss: 0.4022\n",
      "12/01 23:26:04 - mmengine - \u001b[4m\u001b[97mINFO\u001b[0m - Epoch(train)  [42][200/300]  base_lr: 9.6407e-04 lr: 9.6407e-04  eta: 0:11:53  time: 0.0424  data_time: 0.0006  memory: 520  loss: 0.6066\n",
      "12/01 23:26:08 - mmengine - \u001b[4m\u001b[97mINFO\u001b[0m - Exp name: efficientnetb0_alzheimer_axial_view_20231201_231629\n",
      "12/01 23:26:08 - mmengine - \u001b[4m\u001b[97mINFO\u001b[0m - Epoch(train)  [42][300/300]  base_lr: 9.6407e-04 lr: 9.6407e-04  eta: 0:11:49  time: 0.0414  data_time: 0.0007  memory: 520  loss: 0.5296\n",
      "12/01 23:26:08 - mmengine - \u001b[4m\u001b[97mINFO\u001b[0m - Saving checkpoint at 42 epochs\n",
      "12/01 23:26:09 - mmengine - \u001b[4m\u001b[97mINFO\u001b[0m - Epoch(val) [42][66/66]    accuracy/top1: 89.0152  accuracy/top3: 100.0000  data_time: 0.0003  time: 0.0100\n",
      "12/01 23:26:13 - mmengine - \u001b[4m\u001b[97mINFO\u001b[0m - Epoch(train)  [43][100/300]  base_lr: 9.6207e-04 lr: 9.6207e-04  eta: 0:11:45  time: 0.0387  data_time: 0.0006  memory: 520  loss: 0.7658\n",
      "12/01 23:26:17 - mmengine - \u001b[4m\u001b[97mINFO\u001b[0m - Epoch(train)  [43][200/300]  base_lr: 9.6207e-04 lr: 9.6207e-04  eta: 0:11:40  time: 0.0414  data_time: 0.0007  memory: 520  loss: 0.3525\n",
      "12/01 23:26:21 - mmengine - \u001b[4m\u001b[97mINFO\u001b[0m - Exp name: efficientnetb0_alzheimer_axial_view_20231201_231629\n",
      "12/01 23:26:21 - mmengine - \u001b[4m\u001b[97mINFO\u001b[0m - Epoch(train)  [43][300/300]  base_lr: 9.6207e-04 lr: 9.6207e-04  eta: 0:11:36  time: 0.0383  data_time: 0.0005  memory: 520  loss: 0.3439\n",
      "12/01 23:26:21 - mmengine - \u001b[4m\u001b[97mINFO\u001b[0m - Saving checkpoint at 43 epochs\n",
      "12/01 23:26:22 - mmengine - \u001b[4m\u001b[97mINFO\u001b[0m - Epoch(val) [43][66/66]    accuracy/top1: 85.9848  accuracy/top3: 100.0000  data_time: 0.0003  time: 0.0099\n",
      "12/01 23:26:26 - mmengine - \u001b[4m\u001b[97mINFO\u001b[0m - Exp name: efficientnetb0_alzheimer_axial_view_20231201_231629\n",
      "12/01 23:26:26 - mmengine - \u001b[4m\u001b[97mINFO\u001b[0m - Epoch(train)  [44][100/300]  base_lr: 9.6002e-04 lr: 9.6002e-04  eta: 0:11:32  time: 0.0386  data_time: 0.0006  memory: 520  loss: 0.3320\n",
      "12/01 23:26:30 - mmengine - \u001b[4m\u001b[97mINFO\u001b[0m - Epoch(train)  [44][200/300]  base_lr: 9.6002e-04 lr: 9.6002e-04  eta: 0:11:28  time: 0.0427  data_time: 0.0006  memory: 520  loss: 0.6775\n",
      "12/01 23:26:34 - mmengine - \u001b[4m\u001b[97mINFO\u001b[0m - Exp name: efficientnetb0_alzheimer_axial_view_20231201_231629\n",
      "12/01 23:26:34 - mmengine - \u001b[4m\u001b[97mINFO\u001b[0m - Epoch(train)  [44][300/300]  base_lr: 9.6002e-04 lr: 9.6002e-04  eta: 0:11:24  time: 0.0387  data_time: 0.0006  memory: 520  loss: 0.7889\n",
      "12/01 23:26:34 - mmengine - \u001b[4m\u001b[97mINFO\u001b[0m - Saving checkpoint at 44 epochs\n",
      "12/01 23:26:35 - mmengine - \u001b[4m\u001b[97mINFO\u001b[0m - Epoch(val) [44][66/66]    accuracy/top1: 89.0152  accuracy/top3: 100.0000  data_time: 0.0003  time: 0.0098\n",
      "12/01 23:26:39 - mmengine - \u001b[4m\u001b[97mINFO\u001b[0m - Epoch(train)  [45][100/300]  base_lr: 9.5792e-04 lr: 9.5792e-04  eta: 0:11:20  time: 0.0379  data_time: 0.0006  memory: 520  loss: 0.4971\n",
      "12/01 23:26:43 - mmengine - \u001b[4m\u001b[97mINFO\u001b[0m - Epoch(train)  [45][200/300]  base_lr: 9.5792e-04 lr: 9.5792e-04  eta: 0:11:16  time: 0.0409  data_time: 0.0007  memory: 520  loss: 0.6353\n",
      "12/01 23:26:47 - mmengine - \u001b[4m\u001b[97mINFO\u001b[0m - Exp name: efficientnetb0_alzheimer_axial_view_20231201_231629\n",
      "12/01 23:26:47 - mmengine - \u001b[4m\u001b[97mINFO\u001b[0m - Epoch(train)  [45][300/300]  base_lr: 9.5792e-04 lr: 9.5792e-04  eta: 0:11:11  time: 0.0401  data_time: 0.0006  memory: 520  loss: 0.4067\n",
      "12/01 23:26:47 - mmengine - \u001b[4m\u001b[97mINFO\u001b[0m - Saving checkpoint at 45 epochs\n",
      "12/01 23:26:48 - mmengine - \u001b[4m\u001b[97mINFO\u001b[0m - Epoch(val) [45][66/66]    accuracy/top1: 90.9091  accuracy/top3: 100.0000  data_time: 0.0003  time: 0.0111\n",
      "12/01 23:26:52 - mmengine - \u001b[4m\u001b[97mINFO\u001b[0m - Epoch(train)  [46][100/300]  base_lr: 9.5576e-04 lr: 9.5576e-04  eta: 0:11:08  time: 0.0445  data_time: 0.0006  memory: 520  loss: 0.5681\n",
      "12/01 23:26:57 - mmengine - \u001b[4m\u001b[97mINFO\u001b[0m - Epoch(train)  [46][200/300]  base_lr: 9.5576e-04 lr: 9.5576e-04  eta: 0:11:04  time: 0.0413  data_time: 0.0006  memory: 520  loss: 0.6546\n",
      "12/01 23:27:01 - mmengine - \u001b[4m\u001b[97mINFO\u001b[0m - Exp name: efficientnetb0_alzheimer_axial_view_20231201_231629\n",
      "12/01 23:27:01 - mmengine - \u001b[4m\u001b[97mINFO\u001b[0m - Epoch(train)  [46][300/300]  base_lr: 9.5576e-04 lr: 9.5576e-04  eta: 0:11:00  time: 0.0391  data_time: 0.0005  memory: 520  loss: 0.3445\n",
      "12/01 23:27:01 - mmengine - \u001b[4m\u001b[97mINFO\u001b[0m - Saving checkpoint at 46 epochs\n",
      "12/01 23:27:02 - mmengine - \u001b[4m\u001b[97mINFO\u001b[0m - Epoch(val) [46][66/66]    accuracy/top1: 87.8788  accuracy/top3: 100.0000  data_time: 0.0002  time: 0.0102\n",
      "12/01 23:27:06 - mmengine - \u001b[4m\u001b[97mINFO\u001b[0m - Epoch(train)  [47][100/300]  base_lr: 9.5356e-04 lr: 9.5356e-04  eta: 0:10:55  time: 0.0403  data_time: 0.0006  memory: 520  loss: 0.5118\n",
      "12/01 23:27:10 - mmengine - \u001b[4m\u001b[97mINFO\u001b[0m - Exp name: efficientnetb0_alzheimer_axial_view_20231201_231629\n",
      "12/01 23:27:10 - mmengine - \u001b[4m\u001b[97mINFO\u001b[0m - Epoch(train)  [47][200/300]  base_lr: 9.5356e-04 lr: 9.5356e-04  eta: 0:10:51  time: 0.0382  data_time: 0.0006  memory: 520  loss: 0.5063\n",
      "12/01 23:27:13 - mmengine - \u001b[4m\u001b[97mINFO\u001b[0m - Exp name: efficientnetb0_alzheimer_axial_view_20231201_231629\n",
      "12/01 23:27:13 - mmengine - \u001b[4m\u001b[97mINFO\u001b[0m - Epoch(train)  [47][300/300]  base_lr: 9.5356e-04 lr: 9.5356e-04  eta: 0:10:47  time: 0.0377  data_time: 0.0005  memory: 520  loss: 0.3635\n",
      "12/01 23:27:13 - mmengine - \u001b[4m\u001b[97mINFO\u001b[0m - Saving checkpoint at 47 epochs\n",
      "12/01 23:27:14 - mmengine - \u001b[4m\u001b[97mINFO\u001b[0m - Epoch(val) [47][66/66]    accuracy/top1: 80.6818  accuracy/top3: 100.0000  data_time: 0.0003  time: 0.0100\n",
      "12/01 23:27:18 - mmengine - \u001b[4m\u001b[97mINFO\u001b[0m - Epoch(train)  [48][100/300]  base_lr: 9.5131e-04 lr: 9.5131e-04  eta: 0:10:42  time: 0.0383  data_time: 0.0006  memory: 520  loss: 0.4155\n",
      "12/01 23:27:22 - mmengine - \u001b[4m\u001b[97mINFO\u001b[0m - Epoch(train)  [48][200/300]  base_lr: 9.5131e-04 lr: 9.5131e-04  eta: 0:10:38  time: 0.0381  data_time: 0.0006  memory: 520  loss: 0.4358\n",
      "12/01 23:27:26 - mmengine - \u001b[4m\u001b[97mINFO\u001b[0m - Exp name: efficientnetb0_alzheimer_axial_view_20231201_231629\n",
      "12/01 23:27:26 - mmengine - \u001b[4m\u001b[97mINFO\u001b[0m - Epoch(train)  [48][300/300]  base_lr: 9.5131e-04 lr: 9.5131e-04  eta: 0:10:34  time: 0.0373  data_time: 0.0006  memory: 520  loss: 0.5962\n",
      "12/01 23:27:26 - mmengine - \u001b[4m\u001b[97mINFO\u001b[0m - Saving checkpoint at 48 epochs\n",
      "12/01 23:27:27 - mmengine - \u001b[4m\u001b[97mINFO\u001b[0m - Epoch(val) [48][66/66]    accuracy/top1: 86.3636  accuracy/top3: 100.0000  data_time: 0.0003  time: 0.0098\n",
      "12/01 23:27:31 - mmengine - \u001b[4m\u001b[97mINFO\u001b[0m - Epoch(train)  [49][100/300]  base_lr: 9.4900e-04 lr: 9.4900e-04  eta: 0:10:30  time: 0.0387  data_time: 0.0006  memory: 520  loss: 0.6168\n",
      "12/01 23:27:35 - mmengine - \u001b[4m\u001b[97mINFO\u001b[0m - Epoch(train)  [49][200/300]  base_lr: 9.4900e-04 lr: 9.4900e-04  eta: 0:10:25  time: 0.0403  data_time: 0.0006  memory: 520  loss: 0.5238\n",
      "12/01 23:27:39 - mmengine - \u001b[4m\u001b[97mINFO\u001b[0m - Exp name: efficientnetb0_alzheimer_axial_view_20231201_231629\n",
      "12/01 23:27:39 - mmengine - \u001b[4m\u001b[97mINFO\u001b[0m - Epoch(train)  [49][300/300]  base_lr: 9.4900e-04 lr: 9.4900e-04  eta: 0:10:21  time: 0.0412  data_time: 0.0007  memory: 520  loss: 0.5049\n",
      "12/01 23:27:39 - mmengine - \u001b[4m\u001b[97mINFO\u001b[0m - Saving checkpoint at 49 epochs\n",
      "12/01 23:27:40 - mmengine - \u001b[4m\u001b[97mINFO\u001b[0m - Epoch(val) [49][66/66]    accuracy/top1: 86.3636  accuracy/top3: 100.0000  data_time: 0.0003  time: 0.0099\n",
      "12/01 23:27:44 - mmengine - \u001b[4m\u001b[97mINFO\u001b[0m - Epoch(train)  [50][100/300]  base_lr: 9.4664e-04 lr: 9.4664e-04  eta: 0:10:17  time: 0.0383  data_time: 0.0006  memory: 520  loss: 0.3191\n",
      "12/01 23:27:48 - mmengine - \u001b[4m\u001b[97mINFO\u001b[0m - Epoch(train)  [50][200/300]  base_lr: 9.4664e-04 lr: 9.4664e-04  eta: 0:10:13  time: 0.0390  data_time: 0.0006  memory: 520  loss: 0.5111\n",
      "12/01 23:27:52 - mmengine - \u001b[4m\u001b[97mINFO\u001b[0m - Exp name: efficientnetb0_alzheimer_axial_view_20231201_231629\n",
      "12/01 23:27:52 - mmengine - \u001b[4m\u001b[97mINFO\u001b[0m - Epoch(train)  [50][300/300]  base_lr: 9.4664e-04 lr: 9.4664e-04  eta: 0:10:09  time: 0.0394  data_time: 0.0006  memory: 520  loss: 0.5269\n",
      "12/01 23:27:52 - mmengine - \u001b[4m\u001b[97mINFO\u001b[0m - Saving checkpoint at 50 epochs\n",
      "12/01 23:27:53 - mmengine - \u001b[4m\u001b[97mINFO\u001b[0m - Epoch(val) [50][66/66]    accuracy/top1: 89.7727  accuracy/top3: 100.0000  data_time: 0.0002  time: 0.0096\n",
      "12/01 23:27:56 - mmengine - \u001b[4m\u001b[97mINFO\u001b[0m - Epoch(train)  [51][100/300]  base_lr: 9.4424e-04 lr: 9.4424e-04  eta: 0:10:05  time: 0.0398  data_time: 0.0006  memory: 520  loss: 0.5820\n",
      "12/01 23:28:00 - mmengine - \u001b[4m\u001b[97mINFO\u001b[0m - Epoch(train)  [51][200/300]  base_lr: 9.4424e-04 lr: 9.4424e-04  eta: 0:10:00  time: 0.0387  data_time: 0.0006  memory: 520  loss: 0.4016\n",
      "12/01 23:28:04 - mmengine - \u001b[4m\u001b[97mINFO\u001b[0m - Exp name: efficientnetb0_alzheimer_axial_view_20231201_231629\n",
      "12/01 23:28:04 - mmengine - \u001b[4m\u001b[97mINFO\u001b[0m - Epoch(train)  [51][300/300]  base_lr: 9.4424e-04 lr: 9.4424e-04  eta: 0:09:56  time: 0.0379  data_time: 0.0005  memory: 520  loss: 0.4816\n",
      "12/01 23:28:04 - mmengine - \u001b[4m\u001b[97mINFO\u001b[0m - Saving checkpoint at 51 epochs\n",
      "12/01 23:28:05 - mmengine - \u001b[4m\u001b[97mINFO\u001b[0m - Epoch(val) [51][66/66]    accuracy/top1: 92.0455  accuracy/top3: 100.0000  data_time: 0.0003  time: 0.0096\n",
      "12/01 23:28:09 - mmengine - \u001b[4m\u001b[97mINFO\u001b[0m - Epoch(train)  [52][100/300]  base_lr: 9.4178e-04 lr: 9.4178e-04  eta: 0:09:52  time: 0.0387  data_time: 0.0006  memory: 520  loss: 0.4930\n",
      "12/01 23:28:13 - mmengine - \u001b[4m\u001b[97mINFO\u001b[0m - Epoch(train)  [52][200/300]  base_lr: 9.4178e-04 lr: 9.4178e-04  eta: 0:09:48  time: 0.0404  data_time: 0.0006  memory: 520  loss: 0.3498\n",
      "12/01 23:28:17 - mmengine - \u001b[4m\u001b[97mINFO\u001b[0m - Exp name: efficientnetb0_alzheimer_axial_view_20231201_231629\n",
      "12/01 23:28:17 - mmengine - \u001b[4m\u001b[97mINFO\u001b[0m - Epoch(train)  [52][300/300]  base_lr: 9.4178e-04 lr: 9.4178e-04  eta: 0:09:44  time: 0.0392  data_time: 0.0006  memory: 520  loss: 0.3400\n",
      "12/01 23:28:17 - mmengine - \u001b[4m\u001b[97mINFO\u001b[0m - Saving checkpoint at 52 epochs\n",
      "12/01 23:28:18 - mmengine - \u001b[4m\u001b[97mINFO\u001b[0m - Epoch(val) [52][66/66]    accuracy/top1: 80.6818  accuracy/top3: 100.0000  data_time: 0.0003  time: 0.0101\n",
      "12/01 23:28:22 - mmengine - \u001b[4m\u001b[97mINFO\u001b[0m - Epoch(train)  [53][100/300]  base_lr: 9.3928e-04 lr: 9.3928e-04  eta: 0:09:39  time: 0.0388  data_time: 0.0006  memory: 520  loss: 0.4291\n",
      "12/01 23:28:26 - mmengine - \u001b[4m\u001b[97mINFO\u001b[0m - Epoch(train)  [53][200/300]  base_lr: 9.3928e-04 lr: 9.3928e-04  eta: 0:09:35  time: 0.0393  data_time: 0.0006  memory: 520  loss: 0.6033\n",
      "12/01 23:28:30 - mmengine - \u001b[4m\u001b[97mINFO\u001b[0m - Exp name: efficientnetb0_alzheimer_axial_view_20231201_231629\n",
      "12/01 23:28:30 - mmengine - \u001b[4m\u001b[97mINFO\u001b[0m - Epoch(train)  [53][300/300]  base_lr: 9.3928e-04 lr: 9.3928e-04  eta: 0:09:31  time: 0.0378  data_time: 0.0005  memory: 520  loss: 0.4106\n",
      "12/01 23:28:30 - mmengine - \u001b[4m\u001b[97mINFO\u001b[0m - Saving checkpoint at 53 epochs\n",
      "12/01 23:28:31 - mmengine - \u001b[4m\u001b[97mINFO\u001b[0m - Epoch(val) [53][66/66]    accuracy/top1: 88.2576  accuracy/top3: 100.0000  data_time: 0.0003  time: 0.0097\n",
      "12/01 23:28:35 - mmengine - \u001b[4m\u001b[97mINFO\u001b[0m - Exp name: efficientnetb0_alzheimer_axial_view_20231201_231629\n",
      "12/01 23:28:35 - mmengine - \u001b[4m\u001b[97mINFO\u001b[0m - Epoch(train)  [54][100/300]  base_lr: 9.3672e-04 lr: 9.3672e-04  eta: 0:09:27  time: 0.0387  data_time: 0.0006  memory: 520  loss: 0.3929\n",
      "12/01 23:28:39 - mmengine - \u001b[4m\u001b[97mINFO\u001b[0m - Epoch(train)  [54][200/300]  base_lr: 9.3672e-04 lr: 9.3672e-04  eta: 0:09:23  time: 0.0395  data_time: 0.0006  memory: 520  loss: 0.4903\n",
      "12/01 23:28:43 - mmengine - \u001b[4m\u001b[97mINFO\u001b[0m - Exp name: efficientnetb0_alzheimer_axial_view_20231201_231629\n",
      "12/01 23:28:43 - mmengine - \u001b[4m\u001b[97mINFO\u001b[0m - Epoch(train)  [54][300/300]  base_lr: 9.3672e-04 lr: 9.3672e-04  eta: 0:09:19  time: 0.0386  data_time: 0.0006  memory: 520  loss: 0.4874\n",
      "12/01 23:28:43 - mmengine - \u001b[4m\u001b[97mINFO\u001b[0m - Saving checkpoint at 54 epochs\n",
      "12/01 23:28:44 - mmengine - \u001b[4m\u001b[97mINFO\u001b[0m - Epoch(val) [54][66/66]    accuracy/top1: 93.9394  accuracy/top3: 100.0000  data_time: 0.0002  time: 0.0098\n",
      "12/01 23:28:48 - mmengine - \u001b[4m\u001b[97mINFO\u001b[0m - Epoch(train)  [55][100/300]  base_lr: 9.3412e-04 lr: 9.3412e-04  eta: 0:09:15  time: 0.0394  data_time: 0.0006  memory: 520  loss: 0.6487\n",
      "12/01 23:28:52 - mmengine - \u001b[4m\u001b[97mINFO\u001b[0m - Epoch(train)  [55][200/300]  base_lr: 9.3412e-04 lr: 9.3412e-04  eta: 0:09:10  time: 0.0392  data_time: 0.0006  memory: 520  loss: 0.4182\n",
      "12/01 23:28:55 - mmengine - \u001b[4m\u001b[97mINFO\u001b[0m - Exp name: efficientnetb0_alzheimer_axial_view_20231201_231629\n",
      "12/01 23:28:55 - mmengine - \u001b[4m\u001b[97mINFO\u001b[0m - Epoch(train)  [55][300/300]  base_lr: 9.3412e-04 lr: 9.3412e-04  eta: 0:09:06  time: 0.0387  data_time: 0.0006  memory: 520  loss: 0.4403\n",
      "12/01 23:28:55 - mmengine - \u001b[4m\u001b[97mINFO\u001b[0m - Saving checkpoint at 55 epochs\n",
      "12/01 23:28:57 - mmengine - \u001b[4m\u001b[97mINFO\u001b[0m - Epoch(val) [55][66/66]    accuracy/top1: 88.6364  accuracy/top3: 100.0000  data_time: 0.0003  time: 0.0099\n",
      "12/01 23:29:01 - mmengine - \u001b[4m\u001b[97mINFO\u001b[0m - Epoch(train)  [56][100/300]  base_lr: 9.3147e-04 lr: 9.3147e-04  eta: 0:09:02  time: 0.0382  data_time: 0.0006  memory: 520  loss: 0.4204\n",
      "12/01 23:29:04 - mmengine - \u001b[4m\u001b[97mINFO\u001b[0m - Epoch(train)  [56][200/300]  base_lr: 9.3147e-04 lr: 9.3147e-04  eta: 0:08:58  time: 0.0382  data_time: 0.0006  memory: 520  loss: 0.4530\n",
      "12/01 23:29:08 - mmengine - \u001b[4m\u001b[97mINFO\u001b[0m - Exp name: efficientnetb0_alzheimer_axial_view_20231201_231629\n",
      "12/01 23:29:08 - mmengine - \u001b[4m\u001b[97mINFO\u001b[0m - Epoch(train)  [56][300/300]  base_lr: 9.3147e-04 lr: 9.3147e-04  eta: 0:08:54  time: 0.0383  data_time: 0.0006  memory: 520  loss: 0.1999\n",
      "12/01 23:29:08 - mmengine - \u001b[4m\u001b[97mINFO\u001b[0m - Saving checkpoint at 56 epochs\n",
      "12/01 23:29:09 - mmengine - \u001b[4m\u001b[97mINFO\u001b[0m - Epoch(val) [56][66/66]    accuracy/top1: 80.6818  accuracy/top3: 100.0000  data_time: 0.0003  time: 0.0097\n",
      "12/01 23:29:13 - mmengine - \u001b[4m\u001b[97mINFO\u001b[0m - Epoch(train)  [57][100/300]  base_lr: 9.2877e-04 lr: 9.2877e-04  eta: 0:08:50  time: 0.0395  data_time: 0.0008  memory: 520  loss: 0.3268\n",
      "12/01 23:29:18 - mmengine - \u001b[4m\u001b[97mINFO\u001b[0m - Exp name: efficientnetb0_alzheimer_axial_view_20231201_231629\n",
      "12/01 23:29:18 - mmengine - \u001b[4m\u001b[97mINFO\u001b[0m - Epoch(train)  [57][200/300]  base_lr: 9.2877e-04 lr: 9.2877e-04  eta: 0:08:46  time: 0.0425  data_time: 0.0006  memory: 520  loss: 0.6060\n",
      "12/01 23:29:22 - mmengine - \u001b[4m\u001b[97mINFO\u001b[0m - Exp name: efficientnetb0_alzheimer_axial_view_20231201_231629\n",
      "12/01 23:29:22 - mmengine - \u001b[4m\u001b[97mINFO\u001b[0m - Epoch(train)  [57][300/300]  base_lr: 9.2877e-04 lr: 9.2877e-04  eta: 0:08:42  time: 0.0419  data_time: 0.0005  memory: 520  loss: 0.5386\n",
      "12/01 23:29:22 - mmengine - \u001b[4m\u001b[97mINFO\u001b[0m - Saving checkpoint at 57 epochs\n",
      "12/01 23:29:23 - mmengine - \u001b[4m\u001b[97mINFO\u001b[0m - Epoch(val) [57][66/66]    accuracy/top1: 88.6364  accuracy/top3: 100.0000  data_time: 0.0003  time: 0.0101\n",
      "12/01 23:29:27 - mmengine - \u001b[4m\u001b[97mINFO\u001b[0m - Epoch(train)  [58][100/300]  base_lr: 9.2602e-04 lr: 9.2602e-04  eta: 0:08:38  time: 0.0386  data_time: 0.0006  memory: 520  loss: 0.4476\n",
      "12/01 23:29:31 - mmengine - \u001b[4m\u001b[97mINFO\u001b[0m - Epoch(train)  [58][200/300]  base_lr: 9.2602e-04 lr: 9.2602e-04  eta: 0:08:34  time: 0.0385  data_time: 0.0006  memory: 520  loss: 0.5466\n",
      "12/01 23:29:35 - mmengine - \u001b[4m\u001b[97mINFO\u001b[0m - Exp name: efficientnetb0_alzheimer_axial_view_20231201_231629\n",
      "12/01 23:29:35 - mmengine - \u001b[4m\u001b[97mINFO\u001b[0m - Epoch(train)  [58][300/300]  base_lr: 9.2602e-04 lr: 9.2602e-04  eta: 0:08:30  time: 0.0383  data_time: 0.0006  memory: 520  loss: 0.5180\n",
      "12/01 23:29:35 - mmengine - \u001b[4m\u001b[97mINFO\u001b[0m - Saving checkpoint at 58 epochs\n",
      "12/01 23:29:36 - mmengine - \u001b[4m\u001b[97mINFO\u001b[0m - Epoch(val) [58][66/66]    accuracy/top1: 89.7727  accuracy/top3: 100.0000  data_time: 0.0003  time: 0.0097\n",
      "12/01 23:29:40 - mmengine - \u001b[4m\u001b[97mINFO\u001b[0m - Epoch(train)  [59][100/300]  base_lr: 9.2322e-04 lr: 9.2322e-04  eta: 0:08:26  time: 0.0392  data_time: 0.0006  memory: 520  loss: 0.4473\n",
      "12/01 23:29:44 - mmengine - \u001b[4m\u001b[97mINFO\u001b[0m - Epoch(train)  [59][200/300]  base_lr: 9.2322e-04 lr: 9.2322e-04  eta: 0:08:21  time: 0.0386  data_time: 0.0006  memory: 520  loss: 0.4669\n",
      "12/01 23:29:47 - mmengine - \u001b[4m\u001b[97mINFO\u001b[0m - Exp name: efficientnetb0_alzheimer_axial_view_20231201_231629\n",
      "12/01 23:29:47 - mmengine - \u001b[4m\u001b[97mINFO\u001b[0m - Epoch(train)  [59][300/300]  base_lr: 9.2322e-04 lr: 9.2322e-04  eta: 0:08:17  time: 0.0384  data_time: 0.0006  memory: 520  loss: 0.4201\n",
      "12/01 23:29:47 - mmengine - \u001b[4m\u001b[97mINFO\u001b[0m - Saving checkpoint at 59 epochs\n",
      "12/01 23:29:48 - mmengine - \u001b[4m\u001b[97mINFO\u001b[0m - Epoch(val) [59][66/66]    accuracy/top1: 91.6667  accuracy/top3: 100.0000  data_time: 0.0003  time: 0.0096\n",
      "12/01 23:29:52 - mmengine - \u001b[4m\u001b[97mINFO\u001b[0m - Epoch(train)  [60][100/300]  base_lr: 9.2038e-04 lr: 9.2038e-04  eta: 0:08:13  time: 0.0384  data_time: 0.0006  memory: 520  loss: 0.5825\n",
      "12/01 23:29:56 - mmengine - \u001b[4m\u001b[97mINFO\u001b[0m - Epoch(train)  [60][200/300]  base_lr: 9.2038e-04 lr: 9.2038e-04  eta: 0:08:09  time: 0.0400  data_time: 0.0006  memory: 520  loss: 0.4338\n",
      "12/01 23:30:00 - mmengine - \u001b[4m\u001b[97mINFO\u001b[0m - Exp name: efficientnetb0_alzheimer_axial_view_20231201_231629\n",
      "12/01 23:30:00 - mmengine - \u001b[4m\u001b[97mINFO\u001b[0m - Epoch(train)  [60][300/300]  base_lr: 9.2038e-04 lr: 9.2038e-04  eta: 0:08:05  time: 0.0415  data_time: 0.0006  memory: 520  loss: 0.4074\n",
      "12/01 23:30:00 - mmengine - \u001b[4m\u001b[97mINFO\u001b[0m - Saving checkpoint at 60 epochs\n",
      "12/01 23:30:01 - mmengine - \u001b[4m\u001b[97mINFO\u001b[0m - Epoch(val) [60][66/66]    accuracy/top1: 84.8485  accuracy/top3: 100.0000  data_time: 0.0003  time: 0.0100\n",
      "12/01 23:30:05 - mmengine - \u001b[4m\u001b[97mINFO\u001b[0m - Epoch(train)  [61][100/300]  base_lr: 9.1749e-04 lr: 9.1749e-04  eta: 0:08:01  time: 0.0393  data_time: 0.0006  memory: 520  loss: 0.4716\n",
      "12/01 23:30:09 - mmengine - \u001b[4m\u001b[97mINFO\u001b[0m - Epoch(train)  [61][200/300]  base_lr: 9.1749e-04 lr: 9.1749e-04  eta: 0:07:57  time: 0.0390  data_time: 0.0006  memory: 520  loss: 0.3668\n",
      "12/01 23:30:13 - mmengine - \u001b[4m\u001b[97mINFO\u001b[0m - Exp name: efficientnetb0_alzheimer_axial_view_20231201_231629\n",
      "12/01 23:30:13 - mmengine - \u001b[4m\u001b[97mINFO\u001b[0m - Epoch(train)  [61][300/300]  base_lr: 9.1749e-04 lr: 9.1749e-04  eta: 0:07:53  time: 0.0388  data_time: 0.0006  memory: 520  loss: 0.5904\n",
      "12/01 23:30:13 - mmengine - \u001b[4m\u001b[97mINFO\u001b[0m - Saving checkpoint at 61 epochs\n",
      "12/01 23:30:14 - mmengine - \u001b[4m\u001b[97mINFO\u001b[0m - Epoch(val) [61][66/66]    accuracy/top1: 88.2576  accuracy/top3: 100.0000  data_time: 0.0003  time: 0.0101\n",
      "12/01 23:30:18 - mmengine - \u001b[4m\u001b[97mINFO\u001b[0m - Epoch(train)  [62][100/300]  base_lr: 9.1455e-04 lr: 9.1455e-04  eta: 0:07:49  time: 0.0432  data_time: 0.0007  memory: 520  loss: 0.4070\n",
      "12/01 23:30:23 - mmengine - \u001b[4m\u001b[97mINFO\u001b[0m - Epoch(train)  [62][200/300]  base_lr: 9.1455e-04 lr: 9.1455e-04  eta: 0:07:45  time: 0.0390  data_time: 0.0006  memory: 520  loss: 0.3268\n",
      "12/01 23:30:27 - mmengine - \u001b[4m\u001b[97mINFO\u001b[0m - Exp name: efficientnetb0_alzheimer_axial_view_20231201_231629\n",
      "12/01 23:30:27 - mmengine - \u001b[4m\u001b[97mINFO\u001b[0m - Epoch(train)  [62][300/300]  base_lr: 9.1455e-04 lr: 9.1455e-04  eta: 0:07:41  time: 0.0384  data_time: 0.0006  memory: 520  loss: 0.2563\n",
      "12/01 23:30:27 - mmengine - \u001b[4m\u001b[97mINFO\u001b[0m - Saving checkpoint at 62 epochs\n",
      "12/01 23:30:28 - mmengine - \u001b[4m\u001b[97mINFO\u001b[0m - Epoch(val) [62][66/66]    accuracy/top1: 89.3939  accuracy/top3: 100.0000  data_time: 0.0003  time: 0.0098\n",
      "12/01 23:30:32 - mmengine - \u001b[4m\u001b[97mINFO\u001b[0m - Epoch(train)  [63][100/300]  base_lr: 9.1157e-04 lr: 9.1157e-04  eta: 0:07:37  time: 0.0411  data_time: 0.0007  memory: 520  loss: 0.4204\n",
      "12/01 23:30:36 - mmengine - \u001b[4m\u001b[97mINFO\u001b[0m - Epoch(train)  [63][200/300]  base_lr: 9.1157e-04 lr: 9.1157e-04  eta: 0:07:33  time: 0.0386  data_time: 0.0006  memory: 520  loss: 0.3348\n",
      "12/01 23:30:40 - mmengine - \u001b[4m\u001b[97mINFO\u001b[0m - Exp name: efficientnetb0_alzheimer_axial_view_20231201_231629\n",
      "12/01 23:30:40 - mmengine - \u001b[4m\u001b[97mINFO\u001b[0m - Epoch(train)  [63][300/300]  base_lr: 9.1157e-04 lr: 9.1157e-04  eta: 0:07:28  time: 0.0397  data_time: 0.0006  memory: 520  loss: 0.6345\n",
      "12/01 23:30:40 - mmengine - \u001b[4m\u001b[97mINFO\u001b[0m - Saving checkpoint at 63 epochs\n",
      "12/01 23:30:41 - mmengine - \u001b[4m\u001b[97mINFO\u001b[0m - Epoch(val) [63][66/66]    accuracy/top1: 83.7121  accuracy/top3: 100.0000  data_time: 0.0002  time: 0.0106\n",
      "12/01 23:30:44 - mmengine - \u001b[4m\u001b[97mINFO\u001b[0m - Exp name: efficientnetb0_alzheimer_axial_view_20231201_231629\n",
      "12/01 23:30:44 - mmengine - \u001b[4m\u001b[97mINFO\u001b[0m - Epoch(train)  [64][100/300]  base_lr: 9.0854e-04 lr: 9.0854e-04  eta: 0:07:24  time: 0.0383  data_time: 0.0006  memory: 520  loss: 0.3312\n",
      "12/01 23:30:48 - mmengine - \u001b[4m\u001b[97mINFO\u001b[0m - Epoch(train)  [64][200/300]  base_lr: 9.0854e-04 lr: 9.0854e-04  eta: 0:07:20  time: 0.0399  data_time: 0.0007  memory: 520  loss: 0.3002\n",
      "12/01 23:30:52 - mmengine - \u001b[4m\u001b[97mINFO\u001b[0m - Exp name: efficientnetb0_alzheimer_axial_view_20231201_231629\n",
      "12/01 23:30:52 - mmengine - \u001b[4m\u001b[97mINFO\u001b[0m - Epoch(train)  [64][300/300]  base_lr: 9.0854e-04 lr: 9.0854e-04  eta: 0:07:16  time: 0.0384  data_time: 0.0006  memory: 520  loss: 0.4527\n",
      "12/01 23:30:52 - mmengine - \u001b[4m\u001b[97mINFO\u001b[0m - Saving checkpoint at 64 epochs\n",
      "12/01 23:30:53 - mmengine - \u001b[4m\u001b[97mINFO\u001b[0m - Epoch(val) [64][66/66]    accuracy/top1: 87.8788  accuracy/top3: 100.0000  data_time: 0.0003  time: 0.0098\n",
      "12/01 23:30:57 - mmengine - \u001b[4m\u001b[97mINFO\u001b[0m - Epoch(train)  [65][100/300]  base_lr: 9.0546e-04 lr: 9.0546e-04  eta: 0:07:12  time: 0.0387  data_time: 0.0006  memory: 520  loss: 0.3649\n",
      "12/01 23:31:01 - mmengine - \u001b[4m\u001b[97mINFO\u001b[0m - Epoch(train)  [65][200/300]  base_lr: 9.0546e-04 lr: 9.0546e-04  eta: 0:07:08  time: 0.0389  data_time: 0.0007  memory: 520  loss: 0.5378\n",
      "12/01 23:31:05 - mmengine - \u001b[4m\u001b[97mINFO\u001b[0m - Exp name: efficientnetb0_alzheimer_axial_view_20231201_231629\n",
      "12/01 23:31:05 - mmengine - \u001b[4m\u001b[97mINFO\u001b[0m - Epoch(train)  [65][300/300]  base_lr: 9.0546e-04 lr: 9.0546e-04  eta: 0:07:04  time: 0.0386  data_time: 0.0005  memory: 520  loss: 0.5648\n",
      "12/01 23:31:05 - mmengine - \u001b[4m\u001b[97mINFO\u001b[0m - Saving checkpoint at 65 epochs\n",
      "12/01 23:31:06 - mmengine - \u001b[4m\u001b[97mINFO\u001b[0m - Epoch(val) [65][66/66]    accuracy/top1: 93.5606  accuracy/top3: 100.0000  data_time: 0.0003  time: 0.0100\n",
      "12/01 23:31:10 - mmengine - \u001b[4m\u001b[97mINFO\u001b[0m - Epoch(train)  [66][100/300]  base_lr: 9.0234e-04 lr: 9.0234e-04  eta: 0:07:00  time: 0.0399  data_time: 0.0007  memory: 520  loss: 0.4920\n",
      "12/01 23:31:14 - mmengine - \u001b[4m\u001b[97mINFO\u001b[0m - Epoch(train)  [66][200/300]  base_lr: 9.0234e-04 lr: 9.0234e-04  eta: 0:06:56  time: 0.0392  data_time: 0.0006  memory: 520  loss: 0.4287\n",
      "12/01 23:31:18 - mmengine - \u001b[4m\u001b[97mINFO\u001b[0m - Exp name: efficientnetb0_alzheimer_axial_view_20231201_231629\n",
      "12/01 23:31:18 - mmengine - \u001b[4m\u001b[97mINFO\u001b[0m - Epoch(train)  [66][300/300]  base_lr: 9.0234e-04 lr: 9.0234e-04  eta: 0:06:52  time: 0.0394  data_time: 0.0006  memory: 520  loss: 0.4741\n",
      "12/01 23:31:18 - mmengine - \u001b[4m\u001b[97mINFO\u001b[0m - Saving checkpoint at 66 epochs\n",
      "12/01 23:31:19 - mmengine - \u001b[4m\u001b[97mINFO\u001b[0m - Epoch(val) [66][66/66]    accuracy/top1: 92.4242  accuracy/top3: 100.0000  data_time: 0.0003  time: 0.0100\n",
      "12/01 23:31:23 - mmengine - \u001b[4m\u001b[97mINFO\u001b[0m - Epoch(train)  [67][100/300]  base_lr: 8.9918e-04 lr: 8.9918e-04  eta: 0:06:47  time: 0.0394  data_time: 0.0006  memory: 520  loss: 0.4865\n",
      "12/01 23:31:27 - mmengine - \u001b[4m\u001b[97mINFO\u001b[0m - Exp name: efficientnetb0_alzheimer_axial_view_20231201_231629\n",
      "12/01 23:31:27 - mmengine - \u001b[4m\u001b[97mINFO\u001b[0m - Epoch(train)  [67][200/300]  base_lr: 8.9918e-04 lr: 8.9918e-04  eta: 0:06:43  time: 0.0388  data_time: 0.0006  memory: 520  loss: 0.3666\n",
      "12/01 23:31:31 - mmengine - \u001b[4m\u001b[97mINFO\u001b[0m - Exp name: efficientnetb0_alzheimer_axial_view_20231201_231629\n",
      "12/01 23:31:31 - mmengine - \u001b[4m\u001b[97mINFO\u001b[0m - Epoch(train)  [67][300/300]  base_lr: 8.9918e-04 lr: 8.9918e-04  eta: 0:06:39  time: 0.0382  data_time: 0.0006  memory: 520  loss: 0.4150\n",
      "12/01 23:31:31 - mmengine - \u001b[4m\u001b[97mINFO\u001b[0m - Saving checkpoint at 67 epochs\n",
      "12/01 23:31:32 - mmengine - \u001b[4m\u001b[97mINFO\u001b[0m - Epoch(val) [67][66/66]    accuracy/top1: 76.8939  accuracy/top3: 100.0000  data_time: 0.0003  time: 0.0098\n",
      "12/01 23:31:36 - mmengine - \u001b[4m\u001b[97mINFO\u001b[0m - Epoch(train)  [68][100/300]  base_lr: 8.9597e-04 lr: 8.9597e-04  eta: 0:06:35  time: 0.0390  data_time: 0.0006  memory: 520  loss: 0.2696\n",
      "12/01 23:31:40 - mmengine - \u001b[4m\u001b[97mINFO\u001b[0m - Epoch(train)  [68][200/300]  base_lr: 8.9597e-04 lr: 8.9597e-04  eta: 0:06:31  time: 0.0413  data_time: 0.0006  memory: 520  loss: 0.4605\n",
      "12/01 23:31:44 - mmengine - \u001b[4m\u001b[97mINFO\u001b[0m - Exp name: efficientnetb0_alzheimer_axial_view_20231201_231629\n",
      "12/01 23:31:44 - mmengine - \u001b[4m\u001b[97mINFO\u001b[0m - Epoch(train)  [68][300/300]  base_lr: 8.9597e-04 lr: 8.9597e-04  eta: 0:06:27  time: 0.0387  data_time: 0.0006  memory: 520  loss: 0.3186\n",
      "12/01 23:31:44 - mmengine - \u001b[4m\u001b[97mINFO\u001b[0m - Saving checkpoint at 68 epochs\n",
      "12/01 23:31:45 - mmengine - \u001b[4m\u001b[97mINFO\u001b[0m - Epoch(val) [68][66/66]    accuracy/top1: 92.4242  accuracy/top3: 100.0000  data_time: 0.0002  time: 0.0100\n",
      "12/01 23:31:49 - mmengine - \u001b[4m\u001b[97mINFO\u001b[0m - Epoch(train)  [69][100/300]  base_lr: 8.9271e-04 lr: 8.9271e-04  eta: 0:06:23  time: 0.0405  data_time: 0.0006  memory: 520  loss: 0.2082\n",
      "12/01 23:31:53 - mmengine - \u001b[4m\u001b[97mINFO\u001b[0m - Epoch(train)  [69][200/300]  base_lr: 8.9271e-04 lr: 8.9271e-04  eta: 0:06:19  time: 0.0407  data_time: 0.0006  memory: 520  loss: 0.3766\n",
      "12/01 23:31:57 - mmengine - \u001b[4m\u001b[97mINFO\u001b[0m - Exp name: efficientnetb0_alzheimer_axial_view_20231201_231629\n",
      "12/01 23:31:57 - mmengine - \u001b[4m\u001b[97mINFO\u001b[0m - Epoch(train)  [69][300/300]  base_lr: 8.9271e-04 lr: 8.9271e-04  eta: 0:06:15  time: 0.0377  data_time: 0.0006  memory: 520  loss: 0.3365\n",
      "12/01 23:31:57 - mmengine - \u001b[4m\u001b[97mINFO\u001b[0m - Saving checkpoint at 69 epochs\n",
      "12/01 23:31:58 - mmengine - \u001b[4m\u001b[97mINFO\u001b[0m - Epoch(val) [69][66/66]    accuracy/top1: 94.3182  accuracy/top3: 100.0000  data_time: 0.0002  time: 0.0096\n",
      "12/01 23:32:02 - mmengine - \u001b[4m\u001b[97mINFO\u001b[0m - Epoch(train)  [70][100/300]  base_lr: 8.8941e-04 lr: 8.8941e-04  eta: 0:06:11  time: 0.0441  data_time: 0.0007  memory: 520  loss: 0.5866\n",
      "12/01 23:32:06 - mmengine - \u001b[4m\u001b[97mINFO\u001b[0m - Epoch(train)  [70][200/300]  base_lr: 8.8941e-04 lr: 8.8941e-04  eta: 0:06:07  time: 0.0398  data_time: 0.0006  memory: 520  loss: 0.4051\n",
      "12/01 23:32:10 - mmengine - \u001b[4m\u001b[97mINFO\u001b[0m - Exp name: efficientnetb0_alzheimer_axial_view_20231201_231629\n",
      "12/01 23:32:10 - mmengine - \u001b[4m\u001b[97mINFO\u001b[0m - Epoch(train)  [70][300/300]  base_lr: 8.8941e-04 lr: 8.8941e-04  eta: 0:06:03  time: 0.0390  data_time: 0.0006  memory: 520  loss: 0.2989\n",
      "12/01 23:32:10 - mmengine - \u001b[4m\u001b[97mINFO\u001b[0m - Saving checkpoint at 70 epochs\n",
      "12/01 23:32:11 - mmengine - \u001b[4m\u001b[97mINFO\u001b[0m - Epoch(val) [70][66/66]    accuracy/top1: 95.8333  accuracy/top3: 100.0000  data_time: 0.0003  time: 0.0101\n",
      "12/01 23:32:15 - mmengine - \u001b[4m\u001b[97mINFO\u001b[0m - Epoch(train)  [71][100/300]  base_lr: 8.8607e-04 lr: 8.8607e-04  eta: 0:05:59  time: 0.0398  data_time: 0.0006  memory: 520  loss: 0.5610\n",
      "12/01 23:32:19 - mmengine - \u001b[4m\u001b[97mINFO\u001b[0m - Epoch(train)  [71][200/300]  base_lr: 8.8607e-04 lr: 8.8607e-04  eta: 0:05:55  time: 0.0397  data_time: 0.0006  memory: 520  loss: 0.2437\n",
      "12/01 23:32:23 - mmengine - \u001b[4m\u001b[97mINFO\u001b[0m - Exp name: efficientnetb0_alzheimer_axial_view_20231201_231629\n",
      "12/01 23:32:23 - mmengine - \u001b[4m\u001b[97mINFO\u001b[0m - Epoch(train)  [71][300/300]  base_lr: 8.8607e-04 lr: 8.8607e-04  eta: 0:05:51  time: 0.0392  data_time: 0.0005  memory: 520  loss: 0.4848\n",
      "12/01 23:32:23 - mmengine - \u001b[4m\u001b[97mINFO\u001b[0m - Saving checkpoint at 71 epochs\n",
      "12/01 23:32:24 - mmengine - \u001b[4m\u001b[97mINFO\u001b[0m - Epoch(val) [71][66/66]    accuracy/top1: 93.9394  accuracy/top3: 100.0000  data_time: 0.0003  time: 0.0097\n",
      "12/01 23:32:28 - mmengine - \u001b[4m\u001b[97mINFO\u001b[0m - Epoch(train)  [72][100/300]  base_lr: 8.8268e-04 lr: 8.8268e-04  eta: 0:05:47  time: 0.0387  data_time: 0.0006  memory: 520  loss: 0.3573\n",
      "12/01 23:32:32 - mmengine - \u001b[4m\u001b[97mINFO\u001b[0m - Epoch(train)  [72][200/300]  base_lr: 8.8268e-04 lr: 8.8268e-04  eta: 0:05:42  time: 0.0387  data_time: 0.0006  memory: 520  loss: 0.3175\n",
      "12/01 23:32:36 - mmengine - \u001b[4m\u001b[97mINFO\u001b[0m - Exp name: efficientnetb0_alzheimer_axial_view_20231201_231629\n",
      "12/01 23:32:36 - mmengine - \u001b[4m\u001b[97mINFO\u001b[0m - Epoch(train)  [72][300/300]  base_lr: 8.8268e-04 lr: 8.8268e-04  eta: 0:05:38  time: 0.0401  data_time: 0.0006  memory: 520  loss: 0.3505\n",
      "12/01 23:32:36 - mmengine - \u001b[4m\u001b[97mINFO\u001b[0m - Saving checkpoint at 72 epochs\n",
      "12/01 23:32:37 - mmengine - \u001b[4m\u001b[97mINFO\u001b[0m - Epoch(val) [72][66/66]    accuracy/top1: 87.5000  accuracy/top3: 100.0000  data_time: 0.0003  time: 0.0100\n",
      "12/01 23:32:40 - mmengine - \u001b[4m\u001b[97mINFO\u001b[0m - Epoch(train)  [73][100/300]  base_lr: 8.7925e-04 lr: 8.7925e-04  eta: 0:05:34  time: 0.0389  data_time: 0.0006  memory: 520  loss: 0.5308\n",
      "12/01 23:32:44 - mmengine - \u001b[4m\u001b[97mINFO\u001b[0m - Epoch(train)  [73][200/300]  base_lr: 8.7925e-04 lr: 8.7925e-04  eta: 0:05:30  time: 0.0388  data_time: 0.0006  memory: 520  loss: 0.5236\n",
      "12/01 23:32:48 - mmengine - \u001b[4m\u001b[97mINFO\u001b[0m - Exp name: efficientnetb0_alzheimer_axial_view_20231201_231629\n",
      "12/01 23:32:48 - mmengine - \u001b[4m\u001b[97mINFO\u001b[0m - Epoch(train)  [73][300/300]  base_lr: 8.7925e-04 lr: 8.7925e-04  eta: 0:05:26  time: 0.0382  data_time: 0.0006  memory: 520  loss: 0.2846\n",
      "12/01 23:32:48 - mmengine - \u001b[4m\u001b[97mINFO\u001b[0m - Saving checkpoint at 73 epochs\n",
      "12/01 23:32:49 - mmengine - \u001b[4m\u001b[97mINFO\u001b[0m - Epoch(val) [73][66/66]    accuracy/top1: 88.2576  accuracy/top3: 100.0000  data_time: 0.0004  time: 0.0125\n",
      "12/01 23:32:53 - mmengine - \u001b[4m\u001b[97mINFO\u001b[0m - Exp name: efficientnetb0_alzheimer_axial_view_20231201_231629\n",
      "12/01 23:32:53 - mmengine - \u001b[4m\u001b[97mINFO\u001b[0m - Epoch(train)  [74][100/300]  base_lr: 8.7578e-04 lr: 8.7578e-04  eta: 0:05:22  time: 0.0403  data_time: 0.0006  memory: 520  loss: 0.5952\n",
      "12/01 23:32:57 - mmengine - \u001b[4m\u001b[97mINFO\u001b[0m - Epoch(train)  [74][200/300]  base_lr: 8.7578e-04 lr: 8.7578e-04  eta: 0:05:18  time: 0.0410  data_time: 0.0008  memory: 520  loss: 0.7244\n",
      "12/01 23:33:01 - mmengine - \u001b[4m\u001b[97mINFO\u001b[0m - Exp name: efficientnetb0_alzheimer_axial_view_20231201_231629\n",
      "12/01 23:33:01 - mmengine - \u001b[4m\u001b[97mINFO\u001b[0m - Epoch(train)  [74][300/300]  base_lr: 8.7578e-04 lr: 8.7578e-04  eta: 0:05:14  time: 0.0401  data_time: 0.0006  memory: 520  loss: 0.3310\n",
      "12/01 23:33:01 - mmengine - \u001b[4m\u001b[97mINFO\u001b[0m - Saving checkpoint at 74 epochs\n",
      "12/01 23:33:02 - mmengine - \u001b[4m\u001b[97mINFO\u001b[0m - Epoch(val) [74][66/66]    accuracy/top1: 90.5303  accuracy/top3: 100.0000  data_time: 0.0003  time: 0.0100\n",
      "12/01 23:33:06 - mmengine - \u001b[4m\u001b[97mINFO\u001b[0m - Epoch(train)  [75][100/300]  base_lr: 8.7227e-04 lr: 8.7227e-04  eta: 0:05:10  time: 0.0408  data_time: 0.0006  memory: 520  loss: 0.3967\n",
      "12/01 23:33:10 - mmengine - \u001b[4m\u001b[97mINFO\u001b[0m - Epoch(train)  [75][200/300]  base_lr: 8.7227e-04 lr: 8.7227e-04  eta: 0:05:06  time: 0.0397  data_time: 0.0006  memory: 520  loss: 0.3620\n",
      "12/01 23:33:14 - mmengine - \u001b[4m\u001b[97mINFO\u001b[0m - Exp name: efficientnetb0_alzheimer_axial_view_20231201_231629\n",
      "12/01 23:33:14 - mmengine - \u001b[4m\u001b[97mINFO\u001b[0m - Epoch(train)  [75][300/300]  base_lr: 8.7227e-04 lr: 8.7227e-04  eta: 0:05:02  time: 0.0380  data_time: 0.0006  memory: 520  loss: 0.3869\n",
      "12/01 23:33:14 - mmengine - \u001b[4m\u001b[97mINFO\u001b[0m - Saving checkpoint at 75 epochs\n",
      "12/01 23:33:16 - mmengine - \u001b[4m\u001b[97mINFO\u001b[0m - Epoch(val) [75][66/66]    accuracy/top1: 92.8030  accuracy/top3: 100.0000  data_time: 0.0003  time: 0.0124\n",
      "12/01 23:33:19 - mmengine - \u001b[4m\u001b[97mINFO\u001b[0m - Epoch(train)  [76][100/300]  base_lr: 8.6871e-04 lr: 8.6871e-04  eta: 0:04:58  time: 0.0389  data_time: 0.0006  memory: 520  loss: 0.3033\n",
      "12/01 23:33:23 - mmengine - \u001b[4m\u001b[97mINFO\u001b[0m - Epoch(train)  [76][200/300]  base_lr: 8.6871e-04 lr: 8.6871e-04  eta: 0:04:54  time: 0.0393  data_time: 0.0006  memory: 520  loss: 0.4626\n",
      "12/01 23:33:27 - mmengine - \u001b[4m\u001b[97mINFO\u001b[0m - Exp name: efficientnetb0_alzheimer_axial_view_20231201_231629\n",
      "12/01 23:33:27 - mmengine - \u001b[4m\u001b[97mINFO\u001b[0m - Epoch(train)  [76][300/300]  base_lr: 8.6871e-04 lr: 8.6871e-04  eta: 0:04:50  time: 0.0396  data_time: 0.0006  memory: 520  loss: 0.4140\n",
      "12/01 23:33:27 - mmengine - \u001b[4m\u001b[97mINFO\u001b[0m - Saving checkpoint at 76 epochs\n",
      "12/01 23:33:28 - mmengine - \u001b[4m\u001b[97mINFO\u001b[0m - Epoch(val) [76][66/66]    accuracy/top1: 89.7727  accuracy/top3: 100.0000  data_time: 0.0003  time: 0.0098\n",
      "12/01 23:33:32 - mmengine - \u001b[4m\u001b[97mINFO\u001b[0m - Epoch(train)  [77][100/300]  base_lr: 8.6512e-04 lr: 8.6512e-04  eta: 0:04:46  time: 0.0389  data_time: 0.0007  memory: 520  loss: 0.5276\n",
      "12/01 23:33:36 - mmengine - \u001b[4m\u001b[97mINFO\u001b[0m - Exp name: efficientnetb0_alzheimer_axial_view_20231201_231629\n",
      "12/01 23:33:36 - mmengine - \u001b[4m\u001b[97mINFO\u001b[0m - Epoch(train)  [77][200/300]  base_lr: 8.6512e-04 lr: 8.6512e-04  eta: 0:04:42  time: 0.0392  data_time: 0.0006  memory: 520  loss: 0.4321\n",
      "12/01 23:33:40 - mmengine - \u001b[4m\u001b[97mINFO\u001b[0m - Exp name: efficientnetb0_alzheimer_axial_view_20231201_231629\n",
      "12/01 23:33:40 - mmengine - \u001b[4m\u001b[97mINFO\u001b[0m - Epoch(train)  [77][300/300]  base_lr: 8.6512e-04 lr: 8.6512e-04  eta: 0:04:38  time: 0.0398  data_time: 0.0006  memory: 520  loss: 0.3876\n",
      "12/01 23:33:40 - mmengine - \u001b[4m\u001b[97mINFO\u001b[0m - Saving checkpoint at 77 epochs\n",
      "12/01 23:33:41 - mmengine - \u001b[4m\u001b[97mINFO\u001b[0m - Epoch(val) [77][66/66]    accuracy/top1: 88.6364  accuracy/top3: 100.0000  data_time: 0.0003  time: 0.0124\n",
      "12/01 23:33:45 - mmengine - \u001b[4m\u001b[97mINFO\u001b[0m - Epoch(train)  [78][100/300]  base_lr: 8.6148e-04 lr: 8.6148e-04  eta: 0:04:34  time: 0.0393  data_time: 0.0007  memory: 520  loss: 0.3395\n",
      "12/01 23:33:49 - mmengine - \u001b[4m\u001b[97mINFO\u001b[0m - Epoch(train)  [78][200/300]  base_lr: 8.6148e-04 lr: 8.6148e-04  eta: 0:04:29  time: 0.0388  data_time: 0.0007  memory: 520  loss: 0.4173\n",
      "12/01 23:33:53 - mmengine - \u001b[4m\u001b[97mINFO\u001b[0m - Exp name: efficientnetb0_alzheimer_axial_view_20231201_231629\n",
      "12/01 23:33:53 - mmengine - \u001b[4m\u001b[97mINFO\u001b[0m - Epoch(train)  [78][300/300]  base_lr: 8.6148e-04 lr: 8.6148e-04  eta: 0:04:25  time: 0.0403  data_time: 0.0006  memory: 520  loss: 0.3232\n",
      "12/01 23:33:53 - mmengine - \u001b[4m\u001b[97mINFO\u001b[0m - Saving checkpoint at 78 epochs\n",
      "12/01 23:33:54 - mmengine - \u001b[4m\u001b[97mINFO\u001b[0m - Epoch(val) [78][66/66]    accuracy/top1: 85.9848  accuracy/top3: 100.0000  data_time: 0.0002  time: 0.0097\n",
      "12/01 23:33:58 - mmengine - \u001b[4m\u001b[97mINFO\u001b[0m - Epoch(train)  [79][100/300]  base_lr: 8.5780e-04 lr: 8.5780e-04  eta: 0:04:21  time: 0.0410  data_time: 0.0006  memory: 520  loss: 0.3716\n",
      "12/01 23:34:03 - mmengine - \u001b[4m\u001b[97mINFO\u001b[0m - Epoch(train)  [79][200/300]  base_lr: 8.5780e-04 lr: 8.5780e-04  eta: 0:04:17  time: 0.0403  data_time: 0.0006  memory: 520  loss: 0.6504\n",
      "12/01 23:34:07 - mmengine - \u001b[4m\u001b[97mINFO\u001b[0m - Exp name: efficientnetb0_alzheimer_axial_view_20231201_231629\n",
      "12/01 23:34:07 - mmengine - \u001b[4m\u001b[97mINFO\u001b[0m - Epoch(train)  [79][300/300]  base_lr: 8.5780e-04 lr: 8.5780e-04  eta: 0:04:13  time: 0.0391  data_time: 0.0006  memory: 520  loss: 0.3426\n",
      "12/01 23:34:07 - mmengine - \u001b[4m\u001b[97mINFO\u001b[0m - Saving checkpoint at 79 epochs\n",
      "12/01 23:34:08 - mmengine - \u001b[4m\u001b[97mINFO\u001b[0m - Epoch(val) [79][66/66]    accuracy/top1: 89.3939  accuracy/top3: 100.0000  data_time: 0.0003  time: 0.0122\n",
      "12/01 23:34:12 - mmengine - \u001b[4m\u001b[97mINFO\u001b[0m - Epoch(train)  [80][100/300]  base_lr: 8.5408e-04 lr: 8.5408e-04  eta: 0:04:09  time: 0.0387  data_time: 0.0006  memory: 520  loss: 0.4111\n",
      "12/01 23:34:16 - mmengine - \u001b[4m\u001b[97mINFO\u001b[0m - Epoch(train)  [80][200/300]  base_lr: 8.5408e-04 lr: 8.5408e-04  eta: 0:04:05  time: 0.0390  data_time: 0.0006  memory: 520  loss: 0.4179\n",
      "12/01 23:34:20 - mmengine - \u001b[4m\u001b[97mINFO\u001b[0m - Exp name: efficientnetb0_alzheimer_axial_view_20231201_231629\n",
      "12/01 23:34:20 - mmengine - \u001b[4m\u001b[97mINFO\u001b[0m - Epoch(train)  [80][300/300]  base_lr: 8.5408e-04 lr: 8.5408e-04  eta: 0:04:01  time: 0.0386  data_time: 0.0006  memory: 520  loss: 0.3977\n",
      "12/01 23:34:20 - mmengine - \u001b[4m\u001b[97mINFO\u001b[0m - Saving checkpoint at 80 epochs\n",
      "12/01 23:34:21 - mmengine - \u001b[4m\u001b[97mINFO\u001b[0m - Epoch(val) [80][66/66]    accuracy/top1: 93.9394  accuracy/top3: 100.0000  data_time: 0.0003  time: 0.0101\n",
      "12/01 23:34:25 - mmengine - \u001b[4m\u001b[97mINFO\u001b[0m - Epoch(train)  [81][100/300]  base_lr: 8.5033e-04 lr: 8.5033e-04  eta: 0:03:57  time: 0.0396  data_time: 0.0007  memory: 520  loss: 0.6462\n",
      "12/01 23:34:29 - mmengine - \u001b[4m\u001b[97mINFO\u001b[0m - Epoch(train)  [81][200/300]  base_lr: 8.5033e-04 lr: 8.5033e-04  eta: 0:03:53  time: 0.0388  data_time: 0.0007  memory: 520  loss: 0.4637\n",
      "12/01 23:34:32 - mmengine - \u001b[4m\u001b[97mINFO\u001b[0m - Exp name: efficientnetb0_alzheimer_axial_view_20231201_231629\n",
      "12/01 23:34:32 - mmengine - \u001b[4m\u001b[97mINFO\u001b[0m - Epoch(train)  [81][300/300]  base_lr: 8.5033e-04 lr: 8.5033e-04  eta: 0:03:49  time: 0.0384  data_time: 0.0006  memory: 520  loss: 0.3745\n",
      "12/01 23:34:32 - mmengine - \u001b[4m\u001b[97mINFO\u001b[0m - Saving checkpoint at 81 epochs\n",
      "12/01 23:34:34 - mmengine - \u001b[4m\u001b[97mINFO\u001b[0m - Epoch(val) [81][66/66]    accuracy/top1: 83.3333  accuracy/top3: 100.0000  data_time: 0.0003  time: 0.0116\n",
      "12/01 23:34:37 - mmengine - \u001b[4m\u001b[97mINFO\u001b[0m - Epoch(train)  [82][100/300]  base_lr: 8.4653e-04 lr: 8.4653e-04  eta: 0:03:45  time: 0.0392  data_time: 0.0008  memory: 520  loss: 0.4666\n",
      "12/01 23:34:42 - mmengine - \u001b[4m\u001b[97mINFO\u001b[0m - Epoch(train)  [82][200/300]  base_lr: 8.4653e-04 lr: 8.4653e-04  eta: 0:03:41  time: 0.0532  data_time: 0.0013  memory: 520  loss: 0.3960\n",
      "12/01 23:34:47 - mmengine - \u001b[4m\u001b[97mINFO\u001b[0m - Exp name: efficientnetb0_alzheimer_axial_view_20231201_231629\n",
      "12/01 23:34:47 - mmengine - \u001b[4m\u001b[97mINFO\u001b[0m - Epoch(train)  [82][300/300]  base_lr: 8.4653e-04 lr: 8.4653e-04  eta: 0:03:37  time: 0.0424  data_time: 0.0006  memory: 520  loss: 0.3998\n",
      "12/01 23:34:47 - mmengine - \u001b[4m\u001b[97mINFO\u001b[0m - Saving checkpoint at 82 epochs\n",
      "12/01 23:34:48 - mmengine - \u001b[4m\u001b[97mINFO\u001b[0m - Epoch(val) [82][66/66]    accuracy/top1: 89.7727  accuracy/top3: 100.0000  data_time: 0.0003  time: 0.0100\n",
      "12/01 23:34:52 - mmengine - \u001b[4m\u001b[97mINFO\u001b[0m - Epoch(train)  [83][100/300]  base_lr: 8.4270e-04 lr: 8.4270e-04  eta: 0:03:33  time: 0.0382  data_time: 0.0006  memory: 520  loss: 0.5169\n",
      "12/01 23:34:56 - mmengine - \u001b[4m\u001b[97mINFO\u001b[0m - Epoch(train)  [83][200/300]  base_lr: 8.4270e-04 lr: 8.4270e-04  eta: 0:03:29  time: 0.0393  data_time: 0.0006  memory: 520  loss: 0.6458\n",
      "12/01 23:35:00 - mmengine - \u001b[4m\u001b[97mINFO\u001b[0m - Exp name: efficientnetb0_alzheimer_axial_view_20231201_231629\n",
      "12/01 23:35:00 - mmengine - \u001b[4m\u001b[97mINFO\u001b[0m - Epoch(train)  [83][300/300]  base_lr: 8.4270e-04 lr: 8.4270e-04  eta: 0:03:25  time: 0.0383  data_time: 0.0006  memory: 520  loss: 0.2792\n",
      "12/01 23:35:00 - mmengine - \u001b[4m\u001b[97mINFO\u001b[0m - Saving checkpoint at 83 epochs\n",
      "12/01 23:35:01 - mmengine - \u001b[4m\u001b[97mINFO\u001b[0m - Epoch(val) [83][66/66]    accuracy/top1: 86.3636  accuracy/top3: 100.0000  data_time: 0.0003  time: 0.0098\n",
      "12/01 23:35:04 - mmengine - \u001b[4m\u001b[97mINFO\u001b[0m - Exp name: efficientnetb0_alzheimer_axial_view_20231201_231629\n",
      "12/01 23:35:04 - mmengine - \u001b[4m\u001b[97mINFO\u001b[0m - Epoch(train)  [84][100/300]  base_lr: 8.3882e-04 lr: 8.3882e-04  eta: 0:03:21  time: 0.0385  data_time: 0.0006  memory: 520  loss: 0.4337\n",
      "12/01 23:35:08 - mmengine - \u001b[4m\u001b[97mINFO\u001b[0m - Epoch(train)  [84][200/300]  base_lr: 8.3882e-04 lr: 8.3882e-04  eta: 0:03:17  time: 0.0381  data_time: 0.0006  memory: 520  loss: 0.2844\n",
      "12/01 23:35:12 - mmengine - \u001b[4m\u001b[97mINFO\u001b[0m - Exp name: efficientnetb0_alzheimer_axial_view_20231201_231629\n",
      "12/01 23:35:12 - mmengine - \u001b[4m\u001b[97mINFO\u001b[0m - Epoch(train)  [84][300/300]  base_lr: 8.3882e-04 lr: 8.3882e-04  eta: 0:03:13  time: 0.0376  data_time: 0.0006  memory: 520  loss: 0.3124\n",
      "12/01 23:35:12 - mmengine - \u001b[4m\u001b[97mINFO\u001b[0m - Saving checkpoint at 84 epochs\n",
      "12/01 23:35:13 - mmengine - \u001b[4m\u001b[97mINFO\u001b[0m - Epoch(val) [84][66/66]    accuracy/top1: 90.9091  accuracy/top3: 100.0000  data_time: 0.0002  time: 0.0098\n",
      "12/01 23:35:17 - mmengine - \u001b[4m\u001b[97mINFO\u001b[0m - Epoch(train)  [85][100/300]  base_lr: 8.3491e-04 lr: 8.3491e-04  eta: 0:03:09  time: 0.0384  data_time: 0.0006  memory: 520  loss: 0.5343\n",
      "12/01 23:35:21 - mmengine - \u001b[4m\u001b[97mINFO\u001b[0m - Epoch(train)  [85][200/300]  base_lr: 8.3491e-04 lr: 8.3491e-04  eta: 0:03:05  time: 0.0381  data_time: 0.0006  memory: 520  loss: 0.3298\n",
      "12/01 23:35:25 - mmengine - \u001b[4m\u001b[97mINFO\u001b[0m - Exp name: efficientnetb0_alzheimer_axial_view_20231201_231629\n",
      "12/01 23:35:25 - mmengine - \u001b[4m\u001b[97mINFO\u001b[0m - Epoch(train)  [85][300/300]  base_lr: 8.3491e-04 lr: 8.3491e-04  eta: 0:03:01  time: 0.0381  data_time: 0.0006  memory: 520  loss: 0.2948\n",
      "12/01 23:35:25 - mmengine - \u001b[4m\u001b[97mINFO\u001b[0m - Saving checkpoint at 85 epochs\n",
      "12/01 23:35:26 - mmengine - \u001b[4m\u001b[97mINFO\u001b[0m - Epoch(val) [85][66/66]    accuracy/top1: 90.9091  accuracy/top3: 100.0000  data_time: 0.0003  time: 0.0097\n",
      "12/01 23:35:29 - mmengine - \u001b[4m\u001b[97mINFO\u001b[0m - Epoch(train)  [86][100/300]  base_lr: 8.3096e-04 lr: 8.3096e-04  eta: 0:02:57  time: 0.0385  data_time: 0.0006  memory: 520  loss: 0.3190\n",
      "12/01 23:35:33 - mmengine - \u001b[4m\u001b[97mINFO\u001b[0m - Epoch(train)  [86][200/300]  base_lr: 8.3096e-04 lr: 8.3096e-04  eta: 0:02:53  time: 0.0384  data_time: 0.0006  memory: 520  loss: 0.2530\n",
      "12/01 23:35:37 - mmengine - \u001b[4m\u001b[97mINFO\u001b[0m - Exp name: efficientnetb0_alzheimer_axial_view_20231201_231629\n",
      "12/01 23:35:37 - mmengine - \u001b[4m\u001b[97mINFO\u001b[0m - Epoch(train)  [86][300/300]  base_lr: 8.3096e-04 lr: 8.3096e-04  eta: 0:02:49  time: 0.0382  data_time: 0.0006  memory: 520  loss: 0.3489\n",
      "12/01 23:35:37 - mmengine - \u001b[4m\u001b[97mINFO\u001b[0m - Saving checkpoint at 86 epochs\n",
      "12/01 23:35:38 - mmengine - \u001b[4m\u001b[97mINFO\u001b[0m - Epoch(val) [86][66/66]    accuracy/top1: 95.4545  accuracy/top3: 100.0000  data_time: 0.0002  time: 0.0097\n",
      "12/01 23:35:42 - mmengine - \u001b[4m\u001b[97mINFO\u001b[0m - Epoch(train)  [87][100/300]  base_lr: 8.2698e-04 lr: 8.2698e-04  eta: 0:02:45  time: 0.0384  data_time: 0.0006  memory: 520  loss: 0.2899\n",
      "12/01 23:35:46 - mmengine - \u001b[4m\u001b[97mINFO\u001b[0m - Exp name: efficientnetb0_alzheimer_axial_view_20231201_231629\n",
      "12/01 23:35:46 - mmengine - \u001b[4m\u001b[97mINFO\u001b[0m - Epoch(train)  [87][200/300]  base_lr: 8.2698e-04 lr: 8.2698e-04  eta: 0:02:40  time: 0.0382  data_time: 0.0006  memory: 520  loss: 0.4259\n",
      "12/01 23:35:50 - mmengine - \u001b[4m\u001b[97mINFO\u001b[0m - Exp name: efficientnetb0_alzheimer_axial_view_20231201_231629\n",
      "12/01 23:35:50 - mmengine - \u001b[4m\u001b[97mINFO\u001b[0m - Epoch(train)  [87][300/300]  base_lr: 8.2698e-04 lr: 8.2698e-04  eta: 0:02:36  time: 0.0379  data_time: 0.0006  memory: 520  loss: 0.3340\n",
      "12/01 23:35:50 - mmengine - \u001b[4m\u001b[97mINFO\u001b[0m - Saving checkpoint at 87 epochs\n",
      "12/01 23:35:51 - mmengine - \u001b[4m\u001b[97mINFO\u001b[0m - Epoch(val) [87][66/66]    accuracy/top1: 90.1515  accuracy/top3: 100.0000  data_time: 0.0002  time: 0.0096\n",
      "12/01 23:35:55 - mmengine - \u001b[4m\u001b[97mINFO\u001b[0m - Epoch(train)  [88][100/300]  base_lr: 8.2296e-04 lr: 8.2296e-04  eta: 0:02:32  time: 0.0392  data_time: 0.0006  memory: 520  loss: 0.2827\n",
      "12/01 23:35:59 - mmengine - \u001b[4m\u001b[97mINFO\u001b[0m - Epoch(train)  [88][200/300]  base_lr: 8.2296e-04 lr: 8.2296e-04  eta: 0:02:28  time: 0.0386  data_time: 0.0006  memory: 520  loss: 0.3854\n",
      "12/01 23:36:03 - mmengine - \u001b[4m\u001b[97mINFO\u001b[0m - Exp name: efficientnetb0_alzheimer_axial_view_20231201_231629\n",
      "12/01 23:36:03 - mmengine - \u001b[4m\u001b[97mINFO\u001b[0m - Epoch(train)  [88][300/300]  base_lr: 8.2296e-04 lr: 8.2296e-04  eta: 0:02:24  time: 0.0418  data_time: 0.0006  memory: 520  loss: 0.2570\n",
      "12/01 23:36:03 - mmengine - \u001b[4m\u001b[97mINFO\u001b[0m - Saving checkpoint at 88 epochs\n",
      "12/01 23:36:04 - mmengine - \u001b[4m\u001b[97mINFO\u001b[0m - Epoch(val) [88][66/66]    accuracy/top1: 90.5303  accuracy/top3: 100.0000  data_time: 0.0002  time: 0.0097\n",
      "12/01 23:36:07 - mmengine - \u001b[4m\u001b[97mINFO\u001b[0m - Epoch(train)  [89][100/300]  base_lr: 8.1890e-04 lr: 8.1890e-04  eta: 0:02:20  time: 0.0383  data_time: 0.0006  memory: 520  loss: 0.4024\n",
      "12/01 23:36:11 - mmengine - \u001b[4m\u001b[97mINFO\u001b[0m - Epoch(train)  [89][200/300]  base_lr: 8.1890e-04 lr: 8.1890e-04  eta: 0:02:16  time: 0.0377  data_time: 0.0006  memory: 520  loss: 0.3782\n",
      "12/01 23:36:15 - mmengine - \u001b[4m\u001b[97mINFO\u001b[0m - Exp name: efficientnetb0_alzheimer_axial_view_20231201_231629\n",
      "12/01 23:36:15 - mmengine - \u001b[4m\u001b[97mINFO\u001b[0m - Epoch(train)  [89][300/300]  base_lr: 8.1890e-04 lr: 8.1890e-04  eta: 0:02:12  time: 0.0394  data_time: 0.0006  memory: 520  loss: 0.4600\n",
      "12/01 23:36:15 - mmengine - \u001b[4m\u001b[97mINFO\u001b[0m - Saving checkpoint at 89 epochs\n",
      "12/01 23:36:16 - mmengine - \u001b[4m\u001b[97mINFO\u001b[0m - Epoch(val) [89][66/66]    accuracy/top1: 93.5606  accuracy/top3: 100.0000  data_time: 0.0002  time: 0.0095\n",
      "12/01 23:36:20 - mmengine - \u001b[4m\u001b[97mINFO\u001b[0m - Epoch(train)  [90][100/300]  base_lr: 8.1480e-04 lr: 8.1480e-04  eta: 0:02:08  time: 0.0386  data_time: 0.0006  memory: 520  loss: 0.4571\n",
      "12/01 23:36:24 - mmengine - \u001b[4m\u001b[97mINFO\u001b[0m - Epoch(train)  [90][200/300]  base_lr: 8.1480e-04 lr: 8.1480e-04  eta: 0:02:04  time: 0.0379  data_time: 0.0006  memory: 520  loss: 0.6167\n",
      "12/01 23:36:28 - mmengine - \u001b[4m\u001b[97mINFO\u001b[0m - Exp name: efficientnetb0_alzheimer_axial_view_20231201_231629\n",
      "12/01 23:36:28 - mmengine - \u001b[4m\u001b[97mINFO\u001b[0m - Epoch(train)  [90][300/300]  base_lr: 8.1480e-04 lr: 8.1480e-04  eta: 0:02:00  time: 0.0372  data_time: 0.0006  memory: 520  loss: 0.2493\n",
      "12/01 23:36:28 - mmengine - \u001b[4m\u001b[97mINFO\u001b[0m - Saving checkpoint at 90 epochs\n",
      "12/01 23:36:29 - mmengine - \u001b[4m\u001b[97mINFO\u001b[0m - Epoch(val) [90][66/66]    accuracy/top1: 81.8182  accuracy/top3: 100.0000  data_time: 0.0002  time: 0.0096\n",
      "12/01 23:36:32 - mmengine - \u001b[4m\u001b[97mINFO\u001b[0m - Epoch(train)  [91][100/300]  base_lr: 8.1067e-04 lr: 8.1067e-04  eta: 0:01:56  time: 0.0377  data_time: 0.0006  memory: 520  loss: 0.3565\n",
      "12/01 23:36:36 - mmengine - \u001b[4m\u001b[97mINFO\u001b[0m - Epoch(train)  [91][200/300]  base_lr: 8.1067e-04 lr: 8.1067e-04  eta: 0:01:52  time: 0.0428  data_time: 0.0006  memory: 520  loss: 0.2807\n",
      "12/01 23:36:41 - mmengine - \u001b[4m\u001b[97mINFO\u001b[0m - Exp name: efficientnetb0_alzheimer_axial_view_20231201_231629\n",
      "12/01 23:36:41 - mmengine - \u001b[4m\u001b[97mINFO\u001b[0m - Epoch(train)  [91][300/300]  base_lr: 8.1067e-04 lr: 8.1067e-04  eta: 0:01:48  time: 0.0406  data_time: 0.0006  memory: 520  loss: 0.2598\n",
      "12/01 23:36:41 - mmengine - \u001b[4m\u001b[97mINFO\u001b[0m - Saving checkpoint at 91 epochs\n",
      "12/01 23:36:42 - mmengine - \u001b[4m\u001b[97mINFO\u001b[0m - Epoch(val) [91][66/66]    accuracy/top1: 93.1818  accuracy/top3: 100.0000  data_time: 0.0002  time: 0.0098\n",
      "12/01 23:36:46 - mmengine - \u001b[4m\u001b[97mINFO\u001b[0m - Epoch(train)  [92][100/300]  base_lr: 8.0651e-04 lr: 8.0651e-04  eta: 0:01:44  time: 0.0380  data_time: 0.0006  memory: 520  loss: 0.3495\n",
      "12/01 23:36:50 - mmengine - \u001b[4m\u001b[97mINFO\u001b[0m - Epoch(train)  [92][200/300]  base_lr: 8.0651e-04 lr: 8.0651e-04  eta: 0:01:40  time: 0.0380  data_time: 0.0006  memory: 520  loss: 0.3915\n",
      "12/01 23:36:54 - mmengine - \u001b[4m\u001b[97mINFO\u001b[0m - Exp name: efficientnetb0_alzheimer_axial_view_20231201_231629\n",
      "12/01 23:36:54 - mmengine - \u001b[4m\u001b[97mINFO\u001b[0m - Epoch(train)  [92][300/300]  base_lr: 8.0651e-04 lr: 8.0651e-04  eta: 0:01:36  time: 0.0397  data_time: 0.0006  memory: 520  loss: 0.2946\n",
      "12/01 23:36:54 - mmengine - \u001b[4m\u001b[97mINFO\u001b[0m - Saving checkpoint at 92 epochs\n",
      "12/01 23:36:55 - mmengine - \u001b[4m\u001b[97mINFO\u001b[0m - Epoch(val) [92][66/66]    accuracy/top1: 90.9091  accuracy/top3: 100.0000  data_time: 0.0003  time: 0.0112\n",
      "12/01 23:36:59 - mmengine - \u001b[4m\u001b[97mINFO\u001b[0m - Epoch(train)  [93][100/300]  base_lr: 8.0231e-04 lr: 8.0231e-04  eta: 0:01:32  time: 0.0433  data_time: 0.0008  memory: 520  loss: 0.3124\n",
      "12/01 23:37:03 - mmengine - \u001b[4m\u001b[97mINFO\u001b[0m - Epoch(train)  [93][200/300]  base_lr: 8.0231e-04 lr: 8.0231e-04  eta: 0:01:28  time: 0.0395  data_time: 0.0008  memory: 520  loss: 0.3070\n",
      "12/01 23:37:07 - mmengine - \u001b[4m\u001b[97mINFO\u001b[0m - Exp name: efficientnetb0_alzheimer_axial_view_20231201_231629\n",
      "12/01 23:37:07 - mmengine - \u001b[4m\u001b[97mINFO\u001b[0m - Epoch(train)  [93][300/300]  base_lr: 8.0231e-04 lr: 8.0231e-04  eta: 0:01:24  time: 0.0394  data_time: 0.0006  memory: 520  loss: 0.4459\n",
      "12/01 23:37:07 - mmengine - \u001b[4m\u001b[97mINFO\u001b[0m - Saving checkpoint at 93 epochs\n",
      "12/01 23:37:08 - mmengine - \u001b[4m\u001b[97mINFO\u001b[0m - Epoch(val) [93][66/66]    accuracy/top1: 93.1818  accuracy/top3: 100.0000  data_time: 0.0003  time: 0.0101\n",
      "12/01 23:37:12 - mmengine - \u001b[4m\u001b[97mINFO\u001b[0m - Exp name: efficientnetb0_alzheimer_axial_view_20231201_231629\n",
      "12/01 23:37:12 - mmengine - \u001b[4m\u001b[97mINFO\u001b[0m - Epoch(train)  [94][100/300]  base_lr: 7.9808e-04 lr: 7.9808e-04  eta: 0:01:20  time: 0.0394  data_time: 0.0006  memory: 520  loss: 0.3479\n",
      "12/01 23:37:16 - mmengine - \u001b[4m\u001b[97mINFO\u001b[0m - Epoch(train)  [94][200/300]  base_lr: 7.9808e-04 lr: 7.9808e-04  eta: 0:01:16  time: 0.0410  data_time: 0.0006  memory: 520  loss: 0.3970\n",
      "12/01 23:37:21 - mmengine - \u001b[4m\u001b[97mINFO\u001b[0m - Exp name: efficientnetb0_alzheimer_axial_view_20231201_231629\n",
      "12/01 23:37:21 - mmengine - \u001b[4m\u001b[97mINFO\u001b[0m - Epoch(train)  [94][300/300]  base_lr: 7.9808e-04 lr: 7.9808e-04  eta: 0:01:12  time: 0.0419  data_time: 0.0007  memory: 520  loss: 0.3329\n",
      "12/01 23:37:21 - mmengine - \u001b[4m\u001b[97mINFO\u001b[0m - Saving checkpoint at 94 epochs\n",
      "12/01 23:37:21 - mmengine - \u001b[4m\u001b[97mINFO\u001b[0m - Epoch(val) [94][66/66]    accuracy/top1: 90.9091  accuracy/top3: 100.0000  data_time: 0.0003  time: 0.0099\n",
      "12/01 23:37:26 - mmengine - \u001b[4m\u001b[97mINFO\u001b[0m - Epoch(train)  [95][100/300]  base_lr: 7.9382e-04 lr: 7.9382e-04  eta: 0:01:08  time: 0.0427  data_time: 0.0007  memory: 520  loss: 0.3134\n",
      "12/01 23:37:30 - mmengine - \u001b[4m\u001b[97mINFO\u001b[0m - Epoch(train)  [95][200/300]  base_lr: 7.9382e-04 lr: 7.9382e-04  eta: 0:01:04  time: 0.0395  data_time: 0.0006  memory: 520  loss: 0.5092\n",
      "12/01 23:37:34 - mmengine - \u001b[4m\u001b[97mINFO\u001b[0m - Exp name: efficientnetb0_alzheimer_axial_view_20231201_231629\n",
      "12/01 23:37:34 - mmengine - \u001b[4m\u001b[97mINFO\u001b[0m - Epoch(train)  [95][300/300]  base_lr: 7.9382e-04 lr: 7.9382e-04  eta: 0:01:00  time: 0.0401  data_time: 0.0006  memory: 520  loss: 0.2698\n",
      "12/01 23:37:34 - mmengine - \u001b[4m\u001b[97mINFO\u001b[0m - Saving checkpoint at 95 epochs\n",
      "12/01 23:37:35 - mmengine - \u001b[4m\u001b[97mINFO\u001b[0m - Epoch(val) [95][66/66]    accuracy/top1: 95.8333  accuracy/top3: 100.0000  data_time: 0.0003  time: 0.0102\n",
      "12/01 23:37:39 - mmengine - \u001b[4m\u001b[97mINFO\u001b[0m - Epoch(train)  [96][100/300]  base_lr: 7.8952e-04 lr: 7.8952e-04  eta: 0:00:56  time: 0.0395  data_time: 0.0007  memory: 520  loss: 0.3037\n",
      "12/01 23:37:43 - mmengine - \u001b[4m\u001b[97mINFO\u001b[0m - Epoch(train)  [96][200/300]  base_lr: 7.8952e-04 lr: 7.8952e-04  eta: 0:00:52  time: 0.0404  data_time: 0.0007  memory: 520  loss: 0.2599\n",
      "12/01 23:37:47 - mmengine - \u001b[4m\u001b[97mINFO\u001b[0m - Exp name: efficientnetb0_alzheimer_axial_view_20231201_231629\n",
      "12/01 23:37:47 - mmengine - \u001b[4m\u001b[97mINFO\u001b[0m - Epoch(train)  [96][300/300]  base_lr: 7.8952e-04 lr: 7.8952e-04  eta: 0:00:48  time: 0.0393  data_time: 0.0006  memory: 520  loss: 0.4027\n",
      "12/01 23:37:47 - mmengine - \u001b[4m\u001b[97mINFO\u001b[0m - Saving checkpoint at 96 epochs\n",
      "12/01 23:37:48 - mmengine - \u001b[4m\u001b[97mINFO\u001b[0m - Epoch(val) [96][66/66]    accuracy/top1: 93.1818  accuracy/top3: 100.0000  data_time: 0.0003  time: 0.0100\n",
      "12/01 23:37:52 - mmengine - \u001b[4m\u001b[97mINFO\u001b[0m - Epoch(train)  [97][100/300]  base_lr: 7.8519e-04 lr: 7.8519e-04  eta: 0:00:44  time: 0.0413  data_time: 0.0008  memory: 520  loss: 0.3074\n",
      "12/01 23:37:56 - mmengine - \u001b[4m\u001b[97mINFO\u001b[0m - Exp name: efficientnetb0_alzheimer_axial_view_20231201_231629\n",
      "12/01 23:37:56 - mmengine - \u001b[4m\u001b[97mINFO\u001b[0m - Epoch(train)  [97][200/300]  base_lr: 7.8519e-04 lr: 7.8519e-04  eta: 0:00:40  time: 0.0406  data_time: 0.0006  memory: 520  loss: 0.4863\n",
      "12/01 23:38:00 - mmengine - \u001b[4m\u001b[97mINFO\u001b[0m - Exp name: efficientnetb0_alzheimer_axial_view_20231201_231629\n",
      "12/01 23:38:00 - mmengine - \u001b[4m\u001b[97mINFO\u001b[0m - Epoch(train)  [97][300/300]  base_lr: 7.8519e-04 lr: 7.8519e-04  eta: 0:00:36  time: 0.0392  data_time: 0.0006  memory: 520  loss: 0.2422\n",
      "12/01 23:38:00 - mmengine - \u001b[4m\u001b[97mINFO\u001b[0m - Saving checkpoint at 97 epochs\n",
      "12/01 23:38:01 - mmengine - \u001b[4m\u001b[97mINFO\u001b[0m - Epoch(val) [97][66/66]    accuracy/top1: 89.3939  accuracy/top3: 100.0000  data_time: 0.0003  time: 0.0098\n",
      "12/01 23:38:04 - mmengine - \u001b[4m\u001b[97mINFO\u001b[0m - Epoch(train)  [98][100/300]  base_lr: 7.8083e-04 lr: 7.8083e-04  eta: 0:00:32  time: 0.0385  data_time: 0.0006  memory: 520  loss: 0.1956\n",
      "12/01 23:38:08 - mmengine - \u001b[4m\u001b[97mINFO\u001b[0m - Epoch(train)  [98][200/300]  base_lr: 7.8083e-04 lr: 7.8083e-04  eta: 0:00:28  time: 0.0385  data_time: 0.0007  memory: 520  loss: 0.5616\n",
      "12/01 23:38:12 - mmengine - \u001b[4m\u001b[97mINFO\u001b[0m - Exp name: efficientnetb0_alzheimer_axial_view_20231201_231629\n",
      "12/01 23:38:12 - mmengine - \u001b[4m\u001b[97mINFO\u001b[0m - Epoch(train)  [98][300/300]  base_lr: 7.8083e-04 lr: 7.8083e-04  eta: 0:00:24  time: 0.0394  data_time: 0.0006  memory: 520  loss: 0.5536\n",
      "12/01 23:38:12 - mmengine - \u001b[4m\u001b[97mINFO\u001b[0m - Saving checkpoint at 98 epochs\n",
      "12/01 23:38:13 - mmengine - \u001b[4m\u001b[97mINFO\u001b[0m - Epoch(val) [98][66/66]    accuracy/top1: 85.6061  accuracy/top3: 100.0000  data_time: 0.0002  time: 0.0097\n",
      "12/01 23:38:17 - mmengine - \u001b[4m\u001b[97mINFO\u001b[0m - Epoch(train)  [99][100/300]  base_lr: 7.7644e-04 lr: 7.7644e-04  eta: 0:00:20  time: 0.0385  data_time: 0.0006  memory: 520  loss: 0.4618\n",
      "12/01 23:38:21 - mmengine - \u001b[4m\u001b[97mINFO\u001b[0m - Epoch(train)  [99][200/300]  base_lr: 7.7644e-04 lr: 7.7644e-04  eta: 0:00:16  time: 0.0385  data_time: 0.0006  memory: 520  loss: 0.3547\n",
      "12/01 23:38:25 - mmengine - \u001b[4m\u001b[97mINFO\u001b[0m - Exp name: efficientnetb0_alzheimer_axial_view_20231201_231629\n",
      "12/01 23:38:25 - mmengine - \u001b[4m\u001b[97mINFO\u001b[0m - Epoch(train)  [99][300/300]  base_lr: 7.7644e-04 lr: 7.7644e-04  eta: 0:00:12  time: 0.0390  data_time: 0.0006  memory: 520  loss: 0.2330\n",
      "12/01 23:38:25 - mmengine - \u001b[4m\u001b[97mINFO\u001b[0m - Saving checkpoint at 99 epochs\n",
      "12/01 23:38:26 - mmengine - \u001b[4m\u001b[97mINFO\u001b[0m - Epoch(val) [99][66/66]    accuracy/top1: 93.1818  accuracy/top3: 100.0000  data_time: 0.0003  time: 0.0109\n",
      "12/01 23:38:30 - mmengine - \u001b[4m\u001b[97mINFO\u001b[0m - Epoch(train) [100][100/300]  base_lr: 7.7201e-04 lr: 7.7201e-04  eta: 0:00:08  time: 0.0402  data_time: 0.0007  memory: 520  loss: 0.1987\n",
      "12/01 23:38:34 - mmengine - \u001b[4m\u001b[97mINFO\u001b[0m - Epoch(train) [100][200/300]  base_lr: 7.7201e-04 lr: 7.7201e-04  eta: 0:00:04  time: 0.0386  data_time: 0.0006  memory: 520  loss: 0.3489\n",
      "12/01 23:38:38 - mmengine - \u001b[4m\u001b[97mINFO\u001b[0m - Exp name: efficientnetb0_alzheimer_axial_view_20231201_231629\n",
      "12/01 23:38:38 - mmengine - \u001b[4m\u001b[97mINFO\u001b[0m - Epoch(train) [100][300/300]  base_lr: 7.7201e-04 lr: 7.7201e-04  eta: 0:00:00  time: 0.0381  data_time: 0.0006  memory: 520  loss: 0.4155\n",
      "12/01 23:38:38 - mmengine - \u001b[4m\u001b[97mINFO\u001b[0m - Saving checkpoint at 100 epochs\n",
      "12/01 23:38:39 - mmengine - \u001b[4m\u001b[97mINFO\u001b[0m - Epoch(val) [100][66/66]    accuracy/top1: 87.1212  accuracy/top3: 100.0000  data_time: 0.0003  time: 0.0096\n"
     ]
    }
   ],
   "source": [
    "!python ./tools/train.py \\\n",
    "    configs/efficientnet/efficientnetb0_alzheimer_axial_view.py \\\n",
    "    --work-dir work_dirs/alzheimer/axial/efficientnet \\\n",
    "    # --auto-scale-lr"
   ]
  },
  {
   "cell_type": "markdown",
   "id": "675a17a6-5488-4bd2-81aa-71370afd1e0a",
   "metadata": {},
   "source": [
    "# Predict images"
   ]
  },
  {
   "cell_type": "code",
   "execution_count": 3,
   "id": "84f8deca-05b4-4c60-93bf-56b67f5f9a74",
   "metadata": {},
   "outputs": [
    {
     "name": "stdout",
     "output_type": "stream",
     "text": [
      "Loads checkpoint by local backend from path: work_dirs/alzheimer/axial/efficientnet/epoch_100.pth\n"
     ]
    }
   ],
   "source": [
    "import mmcv\n",
    "from mmpretrain.apis import init_model\n",
    "from mmpretrain import ImageClassificationInferencer\n",
    "# from mmcls.apis import inference_model, init_model, show_result_pyplot\n",
    "\n",
    "\n",
    "config_file = 'configs/efficientnet/efficientnetb0_alzheimer_axial_view.py'\n",
    "checkpoint_file = 'work_dirs/alzheimer/axial/efficientnet/epoch_100.pth'\n",
    "\n",
    "# Specify the device, if you cannot use GPU, you can also use CPU \n",
    "# by specifying `device='cpu'`.\n",
    "device = 'cuda:0'\n",
    "# device = 'cpu'\n",
    "\n",
    "# Build the model according to the config file and load the checkpoint.\n",
    "model_axial = init_model(config_file, checkpoint_file, device=device)"
   ]
  },
  {
   "cell_type": "code",
   "execution_count": 35,
   "id": "906527a4-9634-40b9-9838-3153bc74fe46",
   "metadata": {
    "scrolled": true
   },
   "outputs": [
    {
     "data": {
      "text/html": [
       "<pre style=\"white-space:pre;overflow-x:auto;line-height:normal;font-family:Menlo,'DejaVu Sans Mono',consolas,'Courier New',monospace\"></pre>\n"
      ],
      "text/plain": []
     },
     "metadata": {},
     "output_type": "display_data"
    },
    {
     "data": {
      "text/html": [
       "<pre style=\"white-space:pre;overflow-x:auto;line-height:normal;font-family:Menlo,'DejaVu Sans Mono',consolas,'Courier New',monospace\"></pre>\n"
      ],
      "text/plain": []
     },
     "metadata": {},
     "output_type": "display_data"
    },
    {
     "data": {
      "text/html": [
       "<pre style=\"white-space:pre;overflow-x:auto;line-height:normal;font-family:Menlo,'DejaVu Sans Mono',consolas,'Courier New',monospace\"></pre>\n"
      ],
      "text/plain": []
     },
     "metadata": {},
     "output_type": "display_data"
    },
    {
     "data": {
      "text/html": [
       "<pre style=\"white-space:pre;overflow-x:auto;line-height:normal;font-family:Menlo,'DejaVu Sans Mono',consolas,'Courier New',monospace\"></pre>\n"
      ],
      "text/plain": []
     },
     "metadata": {},
     "output_type": "display_data"
    },
    {
     "data": {
      "text/html": [
       "<pre style=\"white-space:pre;overflow-x:auto;line-height:normal;font-family:Menlo,'DejaVu Sans Mono',consolas,'Courier New',monospace\"></pre>\n"
      ],
      "text/plain": []
     },
     "metadata": {},
     "output_type": "display_data"
    },
    {
     "data": {
      "text/html": [
       "<pre style=\"white-space:pre;overflow-x:auto;line-height:normal;font-family:Menlo,'DejaVu Sans Mono',consolas,'Courier New',monospace\"></pre>\n"
      ],
      "text/plain": []
     },
     "metadata": {},
     "output_type": "display_data"
    },
    {
     "data": {
      "text/html": [
       "<pre style=\"white-space:pre;overflow-x:auto;line-height:normal;font-family:Menlo,'DejaVu Sans Mono',consolas,'Courier New',monospace\"></pre>\n"
      ],
      "text/plain": []
     },
     "metadata": {},
     "output_type": "display_data"
    },
    {
     "data": {
      "text/html": [
       "<pre style=\"white-space:pre;overflow-x:auto;line-height:normal;font-family:Menlo,'DejaVu Sans Mono',consolas,'Courier New',monospace\"></pre>\n"
      ],
      "text/plain": []
     },
     "metadata": {},
     "output_type": "display_data"
    },
    {
     "data": {
      "text/html": [
       "<pre style=\"white-space:pre;overflow-x:auto;line-height:normal;font-family:Menlo,'DejaVu Sans Mono',consolas,'Courier New',monospace\"></pre>\n"
      ],
      "text/plain": []
     },
     "metadata": {},
     "output_type": "display_data"
    },
    {
     "data": {
      "text/html": [
       "<pre style=\"white-space:pre;overflow-x:auto;line-height:normal;font-family:Menlo,'DejaVu Sans Mono',consolas,'Courier New',monospace\"></pre>\n"
      ],
      "text/plain": []
     },
     "metadata": {},
     "output_type": "display_data"
    },
    {
     "data": {
      "text/html": [
       "<pre style=\"white-space:pre;overflow-x:auto;line-height:normal;font-family:Menlo,'DejaVu Sans Mono',consolas,'Courier New',monospace\"></pre>\n"
      ],
      "text/plain": []
     },
     "metadata": {},
     "output_type": "display_data"
    },
    {
     "data": {
      "text/html": [
       "<pre style=\"white-space:pre;overflow-x:auto;line-height:normal;font-family:Menlo,'DejaVu Sans Mono',consolas,'Courier New',monospace\"></pre>\n"
      ],
      "text/plain": []
     },
     "metadata": {},
     "output_type": "display_data"
    },
    {
     "data": {
      "text/html": [
       "<pre style=\"white-space:pre;overflow-x:auto;line-height:normal;font-family:Menlo,'DejaVu Sans Mono',consolas,'Courier New',monospace\"></pre>\n"
      ],
      "text/plain": []
     },
     "metadata": {},
     "output_type": "display_data"
    },
    {
     "data": {
      "text/html": [
       "<pre style=\"white-space:pre;overflow-x:auto;line-height:normal;font-family:Menlo,'DejaVu Sans Mono',consolas,'Courier New',monospace\"></pre>\n"
      ],
      "text/plain": []
     },
     "metadata": {},
     "output_type": "display_data"
    },
    {
     "data": {
      "text/html": [
       "<pre style=\"white-space:pre;overflow-x:auto;line-height:normal;font-family:Menlo,'DejaVu Sans Mono',consolas,'Courier New',monospace\"></pre>\n"
      ],
      "text/plain": []
     },
     "metadata": {},
     "output_type": "display_data"
    },
    {
     "data": {
      "text/html": [
       "<pre style=\"white-space:pre;overflow-x:auto;line-height:normal;font-family:Menlo,'DejaVu Sans Mono',consolas,'Courier New',monospace\"></pre>\n"
      ],
      "text/plain": []
     },
     "metadata": {},
     "output_type": "display_data"
    },
    {
     "data": {
      "text/html": [
       "<pre style=\"white-space:pre;overflow-x:auto;line-height:normal;font-family:Menlo,'DejaVu Sans Mono',consolas,'Courier New',monospace\"></pre>\n"
      ],
      "text/plain": []
     },
     "metadata": {},
     "output_type": "display_data"
    },
    {
     "data": {
      "text/html": [
       "<pre style=\"white-space:pre;overflow-x:auto;line-height:normal;font-family:Menlo,'DejaVu Sans Mono',consolas,'Courier New',monospace\"></pre>\n"
      ],
      "text/plain": []
     },
     "metadata": {},
     "output_type": "display_data"
    },
    {
     "data": {
      "text/html": [
       "<pre style=\"white-space:pre;overflow-x:auto;line-height:normal;font-family:Menlo,'DejaVu Sans Mono',consolas,'Courier New',monospace\"></pre>\n"
      ],
      "text/plain": []
     },
     "metadata": {},
     "output_type": "display_data"
    },
    {
     "data": {
      "text/html": [
       "<pre style=\"white-space:pre;overflow-x:auto;line-height:normal;font-family:Menlo,'DejaVu Sans Mono',consolas,'Courier New',monospace\"></pre>\n"
      ],
      "text/plain": []
     },
     "metadata": {},
     "output_type": "display_data"
    },
    {
     "data": {
      "text/html": [
       "<pre style=\"white-space:pre;overflow-x:auto;line-height:normal;font-family:Menlo,'DejaVu Sans Mono',consolas,'Courier New',monospace\"></pre>\n"
      ],
      "text/plain": []
     },
     "metadata": {},
     "output_type": "display_data"
    },
    {
     "data": {
      "text/html": [
       "<pre style=\"white-space:pre;overflow-x:auto;line-height:normal;font-family:Menlo,'DejaVu Sans Mono',consolas,'Courier New',monospace\"></pre>\n"
      ],
      "text/plain": []
     },
     "metadata": {},
     "output_type": "display_data"
    },
    {
     "data": {
      "text/html": [
       "<pre style=\"white-space:pre;overflow-x:auto;line-height:normal;font-family:Menlo,'DejaVu Sans Mono',consolas,'Courier New',monospace\"></pre>\n"
      ],
      "text/plain": []
     },
     "metadata": {},
     "output_type": "display_data"
    },
    {
     "data": {
      "text/html": [
       "<pre style=\"white-space:pre;overflow-x:auto;line-height:normal;font-family:Menlo,'DejaVu Sans Mono',consolas,'Courier New',monospace\"></pre>\n"
      ],
      "text/plain": []
     },
     "metadata": {},
     "output_type": "display_data"
    },
    {
     "data": {
      "text/html": [
       "<pre style=\"white-space:pre;overflow-x:auto;line-height:normal;font-family:Menlo,'DejaVu Sans Mono',consolas,'Courier New',monospace\"></pre>\n"
      ],
      "text/plain": []
     },
     "metadata": {},
     "output_type": "display_data"
    },
    {
     "data": {
      "text/html": [
       "<pre style=\"white-space:pre;overflow-x:auto;line-height:normal;font-family:Menlo,'DejaVu Sans Mono',consolas,'Courier New',monospace\"></pre>\n"
      ],
      "text/plain": []
     },
     "metadata": {},
     "output_type": "display_data"
    },
    {
     "data": {
      "text/html": [
       "<pre style=\"white-space:pre;overflow-x:auto;line-height:normal;font-family:Menlo,'DejaVu Sans Mono',consolas,'Courier New',monospace\"></pre>\n"
      ],
      "text/plain": []
     },
     "metadata": {},
     "output_type": "display_data"
    },
    {
     "data": {
      "text/html": [
       "<pre style=\"white-space:pre;overflow-x:auto;line-height:normal;font-family:Menlo,'DejaVu Sans Mono',consolas,'Courier New',monospace\"></pre>\n"
      ],
      "text/plain": []
     },
     "metadata": {},
     "output_type": "display_data"
    },
    {
     "data": {
      "text/html": [
       "<pre style=\"white-space:pre;overflow-x:auto;line-height:normal;font-family:Menlo,'DejaVu Sans Mono',consolas,'Courier New',monospace\"></pre>\n"
      ],
      "text/plain": []
     },
     "metadata": {},
     "output_type": "display_data"
    },
    {
     "data": {
      "text/html": [
       "<pre style=\"white-space:pre;overflow-x:auto;line-height:normal;font-family:Menlo,'DejaVu Sans Mono',consolas,'Courier New',monospace\"></pre>\n"
      ],
      "text/plain": []
     },
     "metadata": {},
     "output_type": "display_data"
    },
    {
     "data": {
      "text/html": [
       "<pre style=\"white-space:pre;overflow-x:auto;line-height:normal;font-family:Menlo,'DejaVu Sans Mono',consolas,'Courier New',monospace\"></pre>\n"
      ],
      "text/plain": []
     },
     "metadata": {},
     "output_type": "display_data"
    },
    {
     "data": {
      "text/html": [
       "<pre style=\"white-space:pre;overflow-x:auto;line-height:normal;font-family:Menlo,'DejaVu Sans Mono',consolas,'Courier New',monospace\"></pre>\n"
      ],
      "text/plain": []
     },
     "metadata": {},
     "output_type": "display_data"
    },
    {
     "data": {
      "text/html": [
       "<pre style=\"white-space:pre;overflow-x:auto;line-height:normal;font-family:Menlo,'DejaVu Sans Mono',consolas,'Courier New',monospace\"></pre>\n"
      ],
      "text/plain": []
     },
     "metadata": {},
     "output_type": "display_data"
    },
    {
     "data": {
      "text/html": [
       "<pre style=\"white-space:pre;overflow-x:auto;line-height:normal;font-family:Menlo,'DejaVu Sans Mono',consolas,'Courier New',monospace\"></pre>\n"
      ],
      "text/plain": []
     },
     "metadata": {},
     "output_type": "display_data"
    },
    {
     "data": {
      "text/html": [
       "<pre style=\"white-space:pre;overflow-x:auto;line-height:normal;font-family:Menlo,'DejaVu Sans Mono',consolas,'Courier New',monospace\"></pre>\n"
      ],
      "text/plain": []
     },
     "metadata": {},
     "output_type": "display_data"
    },
    {
     "data": {
      "text/html": [
       "<pre style=\"white-space:pre;overflow-x:auto;line-height:normal;font-family:Menlo,'DejaVu Sans Mono',consolas,'Courier New',monospace\"></pre>\n"
      ],
      "text/plain": []
     },
     "metadata": {},
     "output_type": "display_data"
    },
    {
     "data": {
      "text/html": [
       "<pre style=\"white-space:pre;overflow-x:auto;line-height:normal;font-family:Menlo,'DejaVu Sans Mono',consolas,'Courier New',monospace\"></pre>\n"
      ],
      "text/plain": []
     },
     "metadata": {},
     "output_type": "display_data"
    },
    {
     "data": {
      "text/html": [
       "<pre style=\"white-space:pre;overflow-x:auto;line-height:normal;font-family:Menlo,'DejaVu Sans Mono',consolas,'Courier New',monospace\"></pre>\n"
      ],
      "text/plain": []
     },
     "metadata": {},
     "output_type": "display_data"
    },
    {
     "data": {
      "text/html": [
       "<pre style=\"white-space:pre;overflow-x:auto;line-height:normal;font-family:Menlo,'DejaVu Sans Mono',consolas,'Courier New',monospace\"></pre>\n"
      ],
      "text/plain": []
     },
     "metadata": {},
     "output_type": "display_data"
    },
    {
     "data": {
      "text/html": [
       "<pre style=\"white-space:pre;overflow-x:auto;line-height:normal;font-family:Menlo,'DejaVu Sans Mono',consolas,'Courier New',monospace\"></pre>\n"
      ],
      "text/plain": []
     },
     "metadata": {},
     "output_type": "display_data"
    },
    {
     "data": {
      "text/html": [
       "<pre style=\"white-space:pre;overflow-x:auto;line-height:normal;font-family:Menlo,'DejaVu Sans Mono',consolas,'Courier New',monospace\"></pre>\n"
      ],
      "text/plain": []
     },
     "metadata": {},
     "output_type": "display_data"
    },
    {
     "data": {
      "text/html": [
       "<pre style=\"white-space:pre;overflow-x:auto;line-height:normal;font-family:Menlo,'DejaVu Sans Mono',consolas,'Courier New',monospace\"></pre>\n"
      ],
      "text/plain": []
     },
     "metadata": {},
     "output_type": "display_data"
    },
    {
     "data": {
      "text/html": [
       "<pre style=\"white-space:pre;overflow-x:auto;line-height:normal;font-family:Menlo,'DejaVu Sans Mono',consolas,'Courier New',monospace\"></pre>\n"
      ],
      "text/plain": []
     },
     "metadata": {},
     "output_type": "display_data"
    },
    {
     "data": {
      "text/html": [
       "<pre style=\"white-space:pre;overflow-x:auto;line-height:normal;font-family:Menlo,'DejaVu Sans Mono',consolas,'Courier New',monospace\"></pre>\n"
      ],
      "text/plain": []
     },
     "metadata": {},
     "output_type": "display_data"
    },
    {
     "data": {
      "text/html": [
       "<pre style=\"white-space:pre;overflow-x:auto;line-height:normal;font-family:Menlo,'DejaVu Sans Mono',consolas,'Courier New',monospace\"></pre>\n"
      ],
      "text/plain": []
     },
     "metadata": {},
     "output_type": "display_data"
    },
    {
     "data": {
      "text/html": [
       "<pre style=\"white-space:pre;overflow-x:auto;line-height:normal;font-family:Menlo,'DejaVu Sans Mono',consolas,'Courier New',monospace\"></pre>\n"
      ],
      "text/plain": []
     },
     "metadata": {},
     "output_type": "display_data"
    },
    {
     "data": {
      "text/html": [
       "<pre style=\"white-space:pre;overflow-x:auto;line-height:normal;font-family:Menlo,'DejaVu Sans Mono',consolas,'Courier New',monospace\"></pre>\n"
      ],
      "text/plain": []
     },
     "metadata": {},
     "output_type": "display_data"
    },
    {
     "data": {
      "text/html": [
       "<pre style=\"white-space:pre;overflow-x:auto;line-height:normal;font-family:Menlo,'DejaVu Sans Mono',consolas,'Courier New',monospace\"></pre>\n"
      ],
      "text/plain": []
     },
     "metadata": {},
     "output_type": "display_data"
    },
    {
     "data": {
      "text/html": [
       "<pre style=\"white-space:pre;overflow-x:auto;line-height:normal;font-family:Menlo,'DejaVu Sans Mono',consolas,'Courier New',monospace\"></pre>\n"
      ],
      "text/plain": []
     },
     "metadata": {},
     "output_type": "display_data"
    },
    {
     "data": {
      "text/html": [
       "<pre style=\"white-space:pre;overflow-x:auto;line-height:normal;font-family:Menlo,'DejaVu Sans Mono',consolas,'Courier New',monospace\"></pre>\n"
      ],
      "text/plain": []
     },
     "metadata": {},
     "output_type": "display_data"
    },
    {
     "data": {
      "text/html": [
       "<pre style=\"white-space:pre;overflow-x:auto;line-height:normal;font-family:Menlo,'DejaVu Sans Mono',consolas,'Courier New',monospace\"></pre>\n"
      ],
      "text/plain": []
     },
     "metadata": {},
     "output_type": "display_data"
    },
    {
     "data": {
      "text/html": [
       "<pre style=\"white-space:pre;overflow-x:auto;line-height:normal;font-family:Menlo,'DejaVu Sans Mono',consolas,'Courier New',monospace\"></pre>\n"
      ],
      "text/plain": []
     },
     "metadata": {},
     "output_type": "display_data"
    },
    {
     "data": {
      "text/html": [
       "<pre style=\"white-space:pre;overflow-x:auto;line-height:normal;font-family:Menlo,'DejaVu Sans Mono',consolas,'Courier New',monospace\"></pre>\n"
      ],
      "text/plain": []
     },
     "metadata": {},
     "output_type": "display_data"
    },
    {
     "data": {
      "text/html": [
       "<pre style=\"white-space:pre;overflow-x:auto;line-height:normal;font-family:Menlo,'DejaVu Sans Mono',consolas,'Courier New',monospace\"></pre>\n"
      ],
      "text/plain": []
     },
     "metadata": {},
     "output_type": "display_data"
    },
    {
     "data": {
      "text/html": [
       "<pre style=\"white-space:pre;overflow-x:auto;line-height:normal;font-family:Menlo,'DejaVu Sans Mono',consolas,'Courier New',monospace\"></pre>\n"
      ],
      "text/plain": []
     },
     "metadata": {},
     "output_type": "display_data"
    },
    {
     "data": {
      "text/html": [
       "<pre style=\"white-space:pre;overflow-x:auto;line-height:normal;font-family:Menlo,'DejaVu Sans Mono',consolas,'Courier New',monospace\"></pre>\n"
      ],
      "text/plain": []
     },
     "metadata": {},
     "output_type": "display_data"
    },
    {
     "data": {
      "text/html": [
       "<pre style=\"white-space:pre;overflow-x:auto;line-height:normal;font-family:Menlo,'DejaVu Sans Mono',consolas,'Courier New',monospace\"></pre>\n"
      ],
      "text/plain": []
     },
     "metadata": {},
     "output_type": "display_data"
    },
    {
     "data": {
      "text/html": [
       "<pre style=\"white-space:pre;overflow-x:auto;line-height:normal;font-family:Menlo,'DejaVu Sans Mono',consolas,'Courier New',monospace\"></pre>\n"
      ],
      "text/plain": []
     },
     "metadata": {},
     "output_type": "display_data"
    },
    {
     "data": {
      "text/html": [
       "<pre style=\"white-space:pre;overflow-x:auto;line-height:normal;font-family:Menlo,'DejaVu Sans Mono',consolas,'Courier New',monospace\"></pre>\n"
      ],
      "text/plain": []
     },
     "metadata": {},
     "output_type": "display_data"
    },
    {
     "data": {
      "text/html": [
       "<pre style=\"white-space:pre;overflow-x:auto;line-height:normal;font-family:Menlo,'DejaVu Sans Mono',consolas,'Courier New',monospace\"></pre>\n"
      ],
      "text/plain": []
     },
     "metadata": {},
     "output_type": "display_data"
    },
    {
     "data": {
      "text/html": [
       "<pre style=\"white-space:pre;overflow-x:auto;line-height:normal;font-family:Menlo,'DejaVu Sans Mono',consolas,'Courier New',monospace\"></pre>\n"
      ],
      "text/plain": []
     },
     "metadata": {},
     "output_type": "display_data"
    },
    {
     "data": {
      "text/html": [
       "<pre style=\"white-space:pre;overflow-x:auto;line-height:normal;font-family:Menlo,'DejaVu Sans Mono',consolas,'Courier New',monospace\"></pre>\n"
      ],
      "text/plain": []
     },
     "metadata": {},
     "output_type": "display_data"
    },
    {
     "data": {
      "text/html": [
       "<pre style=\"white-space:pre;overflow-x:auto;line-height:normal;font-family:Menlo,'DejaVu Sans Mono',consolas,'Courier New',monospace\"></pre>\n"
      ],
      "text/plain": []
     },
     "metadata": {},
     "output_type": "display_data"
    },
    {
     "data": {
      "text/html": [
       "<pre style=\"white-space:pre;overflow-x:auto;line-height:normal;font-family:Menlo,'DejaVu Sans Mono',consolas,'Courier New',monospace\"></pre>\n"
      ],
      "text/plain": []
     },
     "metadata": {},
     "output_type": "display_data"
    },
    {
     "data": {
      "text/html": [
       "<pre style=\"white-space:pre;overflow-x:auto;line-height:normal;font-family:Menlo,'DejaVu Sans Mono',consolas,'Courier New',monospace\"></pre>\n"
      ],
      "text/plain": []
     },
     "metadata": {},
     "output_type": "display_data"
    },
    {
     "data": {
      "text/html": [
       "<pre style=\"white-space:pre;overflow-x:auto;line-height:normal;font-family:Menlo,'DejaVu Sans Mono',consolas,'Courier New',monospace\"></pre>\n"
      ],
      "text/plain": []
     },
     "metadata": {},
     "output_type": "display_data"
    },
    {
     "data": {
      "text/html": [
       "<pre style=\"white-space:pre;overflow-x:auto;line-height:normal;font-family:Menlo,'DejaVu Sans Mono',consolas,'Courier New',monospace\"></pre>\n"
      ],
      "text/plain": []
     },
     "metadata": {},
     "output_type": "display_data"
    },
    {
     "data": {
      "text/html": [
       "<pre style=\"white-space:pre;overflow-x:auto;line-height:normal;font-family:Menlo,'DejaVu Sans Mono',consolas,'Courier New',monospace\"></pre>\n"
      ],
      "text/plain": []
     },
     "metadata": {},
     "output_type": "display_data"
    },
    {
     "data": {
      "text/html": [
       "<pre style=\"white-space:pre;overflow-x:auto;line-height:normal;font-family:Menlo,'DejaVu Sans Mono',consolas,'Courier New',monospace\"></pre>\n"
      ],
      "text/plain": []
     },
     "metadata": {},
     "output_type": "display_data"
    },
    {
     "data": {
      "text/html": [
       "<pre style=\"white-space:pre;overflow-x:auto;line-height:normal;font-family:Menlo,'DejaVu Sans Mono',consolas,'Courier New',monospace\"></pre>\n"
      ],
      "text/plain": []
     },
     "metadata": {},
     "output_type": "display_data"
    },
    {
     "data": {
      "text/html": [
       "<pre style=\"white-space:pre;overflow-x:auto;line-height:normal;font-family:Menlo,'DejaVu Sans Mono',consolas,'Courier New',monospace\"></pre>\n"
      ],
      "text/plain": []
     },
     "metadata": {},
     "output_type": "display_data"
    },
    {
     "data": {
      "text/html": [
       "<pre style=\"white-space:pre;overflow-x:auto;line-height:normal;font-family:Menlo,'DejaVu Sans Mono',consolas,'Courier New',monospace\"></pre>\n"
      ],
      "text/plain": []
     },
     "metadata": {},
     "output_type": "display_data"
    },
    {
     "data": {
      "text/html": [
       "<pre style=\"white-space:pre;overflow-x:auto;line-height:normal;font-family:Menlo,'DejaVu Sans Mono',consolas,'Courier New',monospace\"></pre>\n"
      ],
      "text/plain": []
     },
     "metadata": {},
     "output_type": "display_data"
    },
    {
     "data": {
      "text/html": [
       "<pre style=\"white-space:pre;overflow-x:auto;line-height:normal;font-family:Menlo,'DejaVu Sans Mono',consolas,'Courier New',monospace\"></pre>\n"
      ],
      "text/plain": []
     },
     "metadata": {},
     "output_type": "display_data"
    },
    {
     "data": {
      "text/html": [
       "<pre style=\"white-space:pre;overflow-x:auto;line-height:normal;font-family:Menlo,'DejaVu Sans Mono',consolas,'Courier New',monospace\"></pre>\n"
      ],
      "text/plain": []
     },
     "metadata": {},
     "output_type": "display_data"
    },
    {
     "data": {
      "text/html": [
       "<pre style=\"white-space:pre;overflow-x:auto;line-height:normal;font-family:Menlo,'DejaVu Sans Mono',consolas,'Courier New',monospace\"></pre>\n"
      ],
      "text/plain": []
     },
     "metadata": {},
     "output_type": "display_data"
    },
    {
     "data": {
      "text/html": [
       "<pre style=\"white-space:pre;overflow-x:auto;line-height:normal;font-family:Menlo,'DejaVu Sans Mono',consolas,'Courier New',monospace\"></pre>\n"
      ],
      "text/plain": []
     },
     "metadata": {},
     "output_type": "display_data"
    },
    {
     "data": {
      "text/html": [
       "<pre style=\"white-space:pre;overflow-x:auto;line-height:normal;font-family:Menlo,'DejaVu Sans Mono',consolas,'Courier New',monospace\"></pre>\n"
      ],
      "text/plain": []
     },
     "metadata": {},
     "output_type": "display_data"
    },
    {
     "data": {
      "text/html": [
       "<pre style=\"white-space:pre;overflow-x:auto;line-height:normal;font-family:Menlo,'DejaVu Sans Mono',consolas,'Courier New',monospace\"></pre>\n"
      ],
      "text/plain": []
     },
     "metadata": {},
     "output_type": "display_data"
    },
    {
     "data": {
      "text/html": [
       "<pre style=\"white-space:pre;overflow-x:auto;line-height:normal;font-family:Menlo,'DejaVu Sans Mono',consolas,'Courier New',monospace\"></pre>\n"
      ],
      "text/plain": []
     },
     "metadata": {},
     "output_type": "display_data"
    },
    {
     "data": {
      "text/html": [
       "<pre style=\"white-space:pre;overflow-x:auto;line-height:normal;font-family:Menlo,'DejaVu Sans Mono',consolas,'Courier New',monospace\"></pre>\n"
      ],
      "text/plain": []
     },
     "metadata": {},
     "output_type": "display_data"
    },
    {
     "data": {
      "text/html": [
       "<pre style=\"white-space:pre;overflow-x:auto;line-height:normal;font-family:Menlo,'DejaVu Sans Mono',consolas,'Courier New',monospace\"></pre>\n"
      ],
      "text/plain": []
     },
     "metadata": {},
     "output_type": "display_data"
    },
    {
     "data": {
      "text/html": [
       "<pre style=\"white-space:pre;overflow-x:auto;line-height:normal;font-family:Menlo,'DejaVu Sans Mono',consolas,'Courier New',monospace\"></pre>\n"
      ],
      "text/plain": []
     },
     "metadata": {},
     "output_type": "display_data"
    },
    {
     "data": {
      "text/html": [
       "<pre style=\"white-space:pre;overflow-x:auto;line-height:normal;font-family:Menlo,'DejaVu Sans Mono',consolas,'Courier New',monospace\"></pre>\n"
      ],
      "text/plain": []
     },
     "metadata": {},
     "output_type": "display_data"
    },
    {
     "data": {
      "text/html": [
       "<pre style=\"white-space:pre;overflow-x:auto;line-height:normal;font-family:Menlo,'DejaVu Sans Mono',consolas,'Courier New',monospace\"></pre>\n"
      ],
      "text/plain": []
     },
     "metadata": {},
     "output_type": "display_data"
    },
    {
     "data": {
      "text/html": [
       "<pre style=\"white-space:pre;overflow-x:auto;line-height:normal;font-family:Menlo,'DejaVu Sans Mono',consolas,'Courier New',monospace\"></pre>\n"
      ],
      "text/plain": []
     },
     "metadata": {},
     "output_type": "display_data"
    },
    {
     "data": {
      "text/html": [
       "<pre style=\"white-space:pre;overflow-x:auto;line-height:normal;font-family:Menlo,'DejaVu Sans Mono',consolas,'Courier New',monospace\"></pre>\n"
      ],
      "text/plain": []
     },
     "metadata": {},
     "output_type": "display_data"
    },
    {
     "data": {
      "text/html": [
       "<pre style=\"white-space:pre;overflow-x:auto;line-height:normal;font-family:Menlo,'DejaVu Sans Mono',consolas,'Courier New',monospace\"></pre>\n"
      ],
      "text/plain": []
     },
     "metadata": {},
     "output_type": "display_data"
    },
    {
     "data": {
      "text/html": [
       "<pre style=\"white-space:pre;overflow-x:auto;line-height:normal;font-family:Menlo,'DejaVu Sans Mono',consolas,'Courier New',monospace\"></pre>\n"
      ],
      "text/plain": []
     },
     "metadata": {},
     "output_type": "display_data"
    },
    {
     "data": {
      "text/html": [
       "<pre style=\"white-space:pre;overflow-x:auto;line-height:normal;font-family:Menlo,'DejaVu Sans Mono',consolas,'Courier New',monospace\"></pre>\n"
      ],
      "text/plain": []
     },
     "metadata": {},
     "output_type": "display_data"
    },
    {
     "data": {
      "text/html": [
       "<pre style=\"white-space:pre;overflow-x:auto;line-height:normal;font-family:Menlo,'DejaVu Sans Mono',consolas,'Courier New',monospace\"></pre>\n"
      ],
      "text/plain": []
     },
     "metadata": {},
     "output_type": "display_data"
    },
    {
     "data": {
      "text/html": [
       "<pre style=\"white-space:pre;overflow-x:auto;line-height:normal;font-family:Menlo,'DejaVu Sans Mono',consolas,'Courier New',monospace\"></pre>\n"
      ],
      "text/plain": []
     },
     "metadata": {},
     "output_type": "display_data"
    },
    {
     "data": {
      "text/html": [
       "<pre style=\"white-space:pre;overflow-x:auto;line-height:normal;font-family:Menlo,'DejaVu Sans Mono',consolas,'Courier New',monospace\"></pre>\n"
      ],
      "text/plain": []
     },
     "metadata": {},
     "output_type": "display_data"
    },
    {
     "data": {
      "text/html": [
       "<pre style=\"white-space:pre;overflow-x:auto;line-height:normal;font-family:Menlo,'DejaVu Sans Mono',consolas,'Courier New',monospace\"></pre>\n"
      ],
      "text/plain": []
     },
     "metadata": {},
     "output_type": "display_data"
    },
    {
     "data": {
      "text/html": [
       "<pre style=\"white-space:pre;overflow-x:auto;line-height:normal;font-family:Menlo,'DejaVu Sans Mono',consolas,'Courier New',monospace\"></pre>\n"
      ],
      "text/plain": []
     },
     "metadata": {},
     "output_type": "display_data"
    },
    {
     "data": {
      "text/html": [
       "<pre style=\"white-space:pre;overflow-x:auto;line-height:normal;font-family:Menlo,'DejaVu Sans Mono',consolas,'Courier New',monospace\"></pre>\n"
      ],
      "text/plain": []
     },
     "metadata": {},
     "output_type": "display_data"
    },
    {
     "data": {
      "text/html": [
       "<pre style=\"white-space:pre;overflow-x:auto;line-height:normal;font-family:Menlo,'DejaVu Sans Mono',consolas,'Courier New',monospace\"></pre>\n"
      ],
      "text/plain": []
     },
     "metadata": {},
     "output_type": "display_data"
    },
    {
     "data": {
      "text/html": [
       "<pre style=\"white-space:pre;overflow-x:auto;line-height:normal;font-family:Menlo,'DejaVu Sans Mono',consolas,'Courier New',monospace\"></pre>\n"
      ],
      "text/plain": []
     },
     "metadata": {},
     "output_type": "display_data"
    },
    {
     "data": {
      "text/html": [
       "<pre style=\"white-space:pre;overflow-x:auto;line-height:normal;font-family:Menlo,'DejaVu Sans Mono',consolas,'Courier New',monospace\"></pre>\n"
      ],
      "text/plain": []
     },
     "metadata": {},
     "output_type": "display_data"
    },
    {
     "data": {
      "text/html": [
       "<pre style=\"white-space:pre;overflow-x:auto;line-height:normal;font-family:Menlo,'DejaVu Sans Mono',consolas,'Courier New',monospace\"></pre>\n"
      ],
      "text/plain": []
     },
     "metadata": {},
     "output_type": "display_data"
    },
    {
     "data": {
      "text/html": [
       "<pre style=\"white-space:pre;overflow-x:auto;line-height:normal;font-family:Menlo,'DejaVu Sans Mono',consolas,'Courier New',monospace\"></pre>\n"
      ],
      "text/plain": []
     },
     "metadata": {},
     "output_type": "display_data"
    },
    {
     "data": {
      "text/html": [
       "<pre style=\"white-space:pre;overflow-x:auto;line-height:normal;font-family:Menlo,'DejaVu Sans Mono',consolas,'Courier New',monospace\"></pre>\n"
      ],
      "text/plain": []
     },
     "metadata": {},
     "output_type": "display_data"
    },
    {
     "data": {
      "text/html": [
       "<pre style=\"white-space:pre;overflow-x:auto;line-height:normal;font-family:Menlo,'DejaVu Sans Mono',consolas,'Courier New',monospace\"></pre>\n"
      ],
      "text/plain": []
     },
     "metadata": {},
     "output_type": "display_data"
    },
    {
     "data": {
      "text/html": [
       "<pre style=\"white-space:pre;overflow-x:auto;line-height:normal;font-family:Menlo,'DejaVu Sans Mono',consolas,'Courier New',monospace\"></pre>\n"
      ],
      "text/plain": []
     },
     "metadata": {},
     "output_type": "display_data"
    },
    {
     "data": {
      "text/html": [
       "<pre style=\"white-space:pre;overflow-x:auto;line-height:normal;font-family:Menlo,'DejaVu Sans Mono',consolas,'Courier New',monospace\"></pre>\n"
      ],
      "text/plain": []
     },
     "metadata": {},
     "output_type": "display_data"
    },
    {
     "data": {
      "text/html": [
       "<pre style=\"white-space:pre;overflow-x:auto;line-height:normal;font-family:Menlo,'DejaVu Sans Mono',consolas,'Courier New',monospace\"></pre>\n"
      ],
      "text/plain": []
     },
     "metadata": {},
     "output_type": "display_data"
    },
    {
     "data": {
      "text/html": [
       "<pre style=\"white-space:pre;overflow-x:auto;line-height:normal;font-family:Menlo,'DejaVu Sans Mono',consolas,'Courier New',monospace\"></pre>\n"
      ],
      "text/plain": []
     },
     "metadata": {},
     "output_type": "display_data"
    },
    {
     "data": {
      "text/html": [
       "<pre style=\"white-space:pre;overflow-x:auto;line-height:normal;font-family:Menlo,'DejaVu Sans Mono',consolas,'Courier New',monospace\"></pre>\n"
      ],
      "text/plain": []
     },
     "metadata": {},
     "output_type": "display_data"
    },
    {
     "data": {
      "text/html": [
       "<pre style=\"white-space:pre;overflow-x:auto;line-height:normal;font-family:Menlo,'DejaVu Sans Mono',consolas,'Courier New',monospace\"></pre>\n"
      ],
      "text/plain": []
     },
     "metadata": {},
     "output_type": "display_data"
    },
    {
     "data": {
      "text/html": [
       "<pre style=\"white-space:pre;overflow-x:auto;line-height:normal;font-family:Menlo,'DejaVu Sans Mono',consolas,'Courier New',monospace\"></pre>\n"
      ],
      "text/plain": []
     },
     "metadata": {},
     "output_type": "display_data"
    },
    {
     "data": {
      "text/html": [
       "<pre style=\"white-space:pre;overflow-x:auto;line-height:normal;font-family:Menlo,'DejaVu Sans Mono',consolas,'Courier New',monospace\"></pre>\n"
      ],
      "text/plain": []
     },
     "metadata": {},
     "output_type": "display_data"
    },
    {
     "data": {
      "text/html": [
       "<pre style=\"white-space:pre;overflow-x:auto;line-height:normal;font-family:Menlo,'DejaVu Sans Mono',consolas,'Courier New',monospace\"></pre>\n"
      ],
      "text/plain": []
     },
     "metadata": {},
     "output_type": "display_data"
    },
    {
     "data": {
      "text/html": [
       "<pre style=\"white-space:pre;overflow-x:auto;line-height:normal;font-family:Menlo,'DejaVu Sans Mono',consolas,'Courier New',monospace\"></pre>\n"
      ],
      "text/plain": []
     },
     "metadata": {},
     "output_type": "display_data"
    },
    {
     "data": {
      "text/html": [
       "<pre style=\"white-space:pre;overflow-x:auto;line-height:normal;font-family:Menlo,'DejaVu Sans Mono',consolas,'Courier New',monospace\"></pre>\n"
      ],
      "text/plain": []
     },
     "metadata": {},
     "output_type": "display_data"
    },
    {
     "data": {
      "text/html": [
       "<pre style=\"white-space:pre;overflow-x:auto;line-height:normal;font-family:Menlo,'DejaVu Sans Mono',consolas,'Courier New',monospace\"></pre>\n"
      ],
      "text/plain": []
     },
     "metadata": {},
     "output_type": "display_data"
    },
    {
     "data": {
      "text/html": [
       "<pre style=\"white-space:pre;overflow-x:auto;line-height:normal;font-family:Menlo,'DejaVu Sans Mono',consolas,'Courier New',monospace\"></pre>\n"
      ],
      "text/plain": []
     },
     "metadata": {},
     "output_type": "display_data"
    },
    {
     "data": {
      "text/html": [
       "<pre style=\"white-space:pre;overflow-x:auto;line-height:normal;font-family:Menlo,'DejaVu Sans Mono',consolas,'Courier New',monospace\"></pre>\n"
      ],
      "text/plain": []
     },
     "metadata": {},
     "output_type": "display_data"
    },
    {
     "data": {
      "text/html": [
       "<pre style=\"white-space:pre;overflow-x:auto;line-height:normal;font-family:Menlo,'DejaVu Sans Mono',consolas,'Courier New',monospace\"></pre>\n"
      ],
      "text/plain": []
     },
     "metadata": {},
     "output_type": "display_data"
    },
    {
     "data": {
      "text/html": [
       "<pre style=\"white-space:pre;overflow-x:auto;line-height:normal;font-family:Menlo,'DejaVu Sans Mono',consolas,'Courier New',monospace\"></pre>\n"
      ],
      "text/plain": []
     },
     "metadata": {},
     "output_type": "display_data"
    },
    {
     "data": {
      "text/html": [
       "<pre style=\"white-space:pre;overflow-x:auto;line-height:normal;font-family:Menlo,'DejaVu Sans Mono',consolas,'Courier New',monospace\"></pre>\n"
      ],
      "text/plain": []
     },
     "metadata": {},
     "output_type": "display_data"
    },
    {
     "data": {
      "text/html": [
       "<pre style=\"white-space:pre;overflow-x:auto;line-height:normal;font-family:Menlo,'DejaVu Sans Mono',consolas,'Courier New',monospace\"></pre>\n"
      ],
      "text/plain": []
     },
     "metadata": {},
     "output_type": "display_data"
    },
    {
     "data": {
      "text/html": [
       "<pre style=\"white-space:pre;overflow-x:auto;line-height:normal;font-family:Menlo,'DejaVu Sans Mono',consolas,'Courier New',monospace\"></pre>\n"
      ],
      "text/plain": []
     },
     "metadata": {},
     "output_type": "display_data"
    },
    {
     "data": {
      "text/html": [
       "<pre style=\"white-space:pre;overflow-x:auto;line-height:normal;font-family:Menlo,'DejaVu Sans Mono',consolas,'Courier New',monospace\"></pre>\n"
      ],
      "text/plain": []
     },
     "metadata": {},
     "output_type": "display_data"
    },
    {
     "data": {
      "text/html": [
       "<pre style=\"white-space:pre;overflow-x:auto;line-height:normal;font-family:Menlo,'DejaVu Sans Mono',consolas,'Courier New',monospace\"></pre>\n"
      ],
      "text/plain": []
     },
     "metadata": {},
     "output_type": "display_data"
    },
    {
     "data": {
      "text/html": [
       "<pre style=\"white-space:pre;overflow-x:auto;line-height:normal;font-family:Menlo,'DejaVu Sans Mono',consolas,'Courier New',monospace\"></pre>\n"
      ],
      "text/plain": []
     },
     "metadata": {},
     "output_type": "display_data"
    },
    {
     "data": {
      "text/html": [
       "<pre style=\"white-space:pre;overflow-x:auto;line-height:normal;font-family:Menlo,'DejaVu Sans Mono',consolas,'Courier New',monospace\"></pre>\n"
      ],
      "text/plain": []
     },
     "metadata": {},
     "output_type": "display_data"
    },
    {
     "data": {
      "text/html": [
       "<pre style=\"white-space:pre;overflow-x:auto;line-height:normal;font-family:Menlo,'DejaVu Sans Mono',consolas,'Courier New',monospace\"></pre>\n"
      ],
      "text/plain": []
     },
     "metadata": {},
     "output_type": "display_data"
    },
    {
     "data": {
      "text/html": [
       "<pre style=\"white-space:pre;overflow-x:auto;line-height:normal;font-family:Menlo,'DejaVu Sans Mono',consolas,'Courier New',monospace\"></pre>\n"
      ],
      "text/plain": []
     },
     "metadata": {},
     "output_type": "display_data"
    },
    {
     "data": {
      "text/html": [
       "<pre style=\"white-space:pre;overflow-x:auto;line-height:normal;font-family:Menlo,'DejaVu Sans Mono',consolas,'Courier New',monospace\"></pre>\n"
      ],
      "text/plain": []
     },
     "metadata": {},
     "output_type": "display_data"
    },
    {
     "data": {
      "text/html": [
       "<pre style=\"white-space:pre;overflow-x:auto;line-height:normal;font-family:Menlo,'DejaVu Sans Mono',consolas,'Courier New',monospace\"></pre>\n"
      ],
      "text/plain": []
     },
     "metadata": {},
     "output_type": "display_data"
    },
    {
     "data": {
      "text/html": [
       "<pre style=\"white-space:pre;overflow-x:auto;line-height:normal;font-family:Menlo,'DejaVu Sans Mono',consolas,'Courier New',monospace\"></pre>\n"
      ],
      "text/plain": []
     },
     "metadata": {},
     "output_type": "display_data"
    },
    {
     "data": {
      "text/html": [
       "<pre style=\"white-space:pre;overflow-x:auto;line-height:normal;font-family:Menlo,'DejaVu Sans Mono',consolas,'Courier New',monospace\"></pre>\n"
      ],
      "text/plain": []
     },
     "metadata": {},
     "output_type": "display_data"
    },
    {
     "data": {
      "text/html": [
       "<pre style=\"white-space:pre;overflow-x:auto;line-height:normal;font-family:Menlo,'DejaVu Sans Mono',consolas,'Courier New',monospace\"></pre>\n"
      ],
      "text/plain": []
     },
     "metadata": {},
     "output_type": "display_data"
    },
    {
     "data": {
      "text/html": [
       "<pre style=\"white-space:pre;overflow-x:auto;line-height:normal;font-family:Menlo,'DejaVu Sans Mono',consolas,'Courier New',monospace\"></pre>\n"
      ],
      "text/plain": []
     },
     "metadata": {},
     "output_type": "display_data"
    },
    {
     "data": {
      "text/html": [
       "<pre style=\"white-space:pre;overflow-x:auto;line-height:normal;font-family:Menlo,'DejaVu Sans Mono',consolas,'Courier New',monospace\"></pre>\n"
      ],
      "text/plain": []
     },
     "metadata": {},
     "output_type": "display_data"
    },
    {
     "data": {
      "text/html": [
       "<pre style=\"white-space:pre;overflow-x:auto;line-height:normal;font-family:Menlo,'DejaVu Sans Mono',consolas,'Courier New',monospace\"></pre>\n"
      ],
      "text/plain": []
     },
     "metadata": {},
     "output_type": "display_data"
    },
    {
     "data": {
      "text/html": [
       "<pre style=\"white-space:pre;overflow-x:auto;line-height:normal;font-family:Menlo,'DejaVu Sans Mono',consolas,'Courier New',monospace\"></pre>\n"
      ],
      "text/plain": []
     },
     "metadata": {},
     "output_type": "display_data"
    },
    {
     "data": {
      "text/html": [
       "<pre style=\"white-space:pre;overflow-x:auto;line-height:normal;font-family:Menlo,'DejaVu Sans Mono',consolas,'Courier New',monospace\"></pre>\n"
      ],
      "text/plain": []
     },
     "metadata": {},
     "output_type": "display_data"
    },
    {
     "data": {
      "text/html": [
       "<pre style=\"white-space:pre;overflow-x:auto;line-height:normal;font-family:Menlo,'DejaVu Sans Mono',consolas,'Courier New',monospace\"></pre>\n"
      ],
      "text/plain": []
     },
     "metadata": {},
     "output_type": "display_data"
    },
    {
     "data": {
      "text/html": [
       "<pre style=\"white-space:pre;overflow-x:auto;line-height:normal;font-family:Menlo,'DejaVu Sans Mono',consolas,'Courier New',monospace\"></pre>\n"
      ],
      "text/plain": []
     },
     "metadata": {},
     "output_type": "display_data"
    },
    {
     "data": {
      "text/html": [
       "<pre style=\"white-space:pre;overflow-x:auto;line-height:normal;font-family:Menlo,'DejaVu Sans Mono',consolas,'Courier New',monospace\"></pre>\n"
      ],
      "text/plain": []
     },
     "metadata": {},
     "output_type": "display_data"
    },
    {
     "data": {
      "text/html": [
       "<pre style=\"white-space:pre;overflow-x:auto;line-height:normal;font-family:Menlo,'DejaVu Sans Mono',consolas,'Courier New',monospace\"></pre>\n"
      ],
      "text/plain": []
     },
     "metadata": {},
     "output_type": "display_data"
    },
    {
     "data": {
      "text/html": [
       "<pre style=\"white-space:pre;overflow-x:auto;line-height:normal;font-family:Menlo,'DejaVu Sans Mono',consolas,'Courier New',monospace\"></pre>\n"
      ],
      "text/plain": []
     },
     "metadata": {},
     "output_type": "display_data"
    },
    {
     "data": {
      "text/html": [
       "<pre style=\"white-space:pre;overflow-x:auto;line-height:normal;font-family:Menlo,'DejaVu Sans Mono',consolas,'Courier New',monospace\"></pre>\n"
      ],
      "text/plain": []
     },
     "metadata": {},
     "output_type": "display_data"
    },
    {
     "data": {
      "text/html": [
       "<pre style=\"white-space:pre;overflow-x:auto;line-height:normal;font-family:Menlo,'DejaVu Sans Mono',consolas,'Courier New',monospace\"></pre>\n"
      ],
      "text/plain": []
     },
     "metadata": {},
     "output_type": "display_data"
    },
    {
     "data": {
      "text/html": [
       "<pre style=\"white-space:pre;overflow-x:auto;line-height:normal;font-family:Menlo,'DejaVu Sans Mono',consolas,'Courier New',monospace\"></pre>\n"
      ],
      "text/plain": []
     },
     "metadata": {},
     "output_type": "display_data"
    },
    {
     "data": {
      "text/html": [
       "<pre style=\"white-space:pre;overflow-x:auto;line-height:normal;font-family:Menlo,'DejaVu Sans Mono',consolas,'Courier New',monospace\"></pre>\n"
      ],
      "text/plain": []
     },
     "metadata": {},
     "output_type": "display_data"
    },
    {
     "data": {
      "text/html": [
       "<pre style=\"white-space:pre;overflow-x:auto;line-height:normal;font-family:Menlo,'DejaVu Sans Mono',consolas,'Courier New',monospace\"></pre>\n"
      ],
      "text/plain": []
     },
     "metadata": {},
     "output_type": "display_data"
    },
    {
     "data": {
      "text/html": [
       "<pre style=\"white-space:pre;overflow-x:auto;line-height:normal;font-family:Menlo,'DejaVu Sans Mono',consolas,'Courier New',monospace\"></pre>\n"
      ],
      "text/plain": []
     },
     "metadata": {},
     "output_type": "display_data"
    },
    {
     "data": {
      "text/html": [
       "<pre style=\"white-space:pre;overflow-x:auto;line-height:normal;font-family:Menlo,'DejaVu Sans Mono',consolas,'Courier New',monospace\"></pre>\n"
      ],
      "text/plain": []
     },
     "metadata": {},
     "output_type": "display_data"
    },
    {
     "data": {
      "text/html": [
       "<pre style=\"white-space:pre;overflow-x:auto;line-height:normal;font-family:Menlo,'DejaVu Sans Mono',consolas,'Courier New',monospace\"></pre>\n"
      ],
      "text/plain": []
     },
     "metadata": {},
     "output_type": "display_data"
    },
    {
     "data": {
      "text/html": [
       "<pre style=\"white-space:pre;overflow-x:auto;line-height:normal;font-family:Menlo,'DejaVu Sans Mono',consolas,'Courier New',monospace\"></pre>\n"
      ],
      "text/plain": []
     },
     "metadata": {},
     "output_type": "display_data"
    },
    {
     "data": {
      "text/html": [
       "<pre style=\"white-space:pre;overflow-x:auto;line-height:normal;font-family:Menlo,'DejaVu Sans Mono',consolas,'Courier New',monospace\"></pre>\n"
      ],
      "text/plain": []
     },
     "metadata": {},
     "output_type": "display_data"
    },
    {
     "data": {
      "text/html": [
       "<pre style=\"white-space:pre;overflow-x:auto;line-height:normal;font-family:Menlo,'DejaVu Sans Mono',consolas,'Courier New',monospace\"></pre>\n"
      ],
      "text/plain": []
     },
     "metadata": {},
     "output_type": "display_data"
    },
    {
     "data": {
      "text/html": [
       "<pre style=\"white-space:pre;overflow-x:auto;line-height:normal;font-family:Menlo,'DejaVu Sans Mono',consolas,'Courier New',monospace\"></pre>\n"
      ],
      "text/plain": []
     },
     "metadata": {},
     "output_type": "display_data"
    },
    {
     "data": {
      "text/html": [
       "<pre style=\"white-space:pre;overflow-x:auto;line-height:normal;font-family:Menlo,'DejaVu Sans Mono',consolas,'Courier New',monospace\"></pre>\n"
      ],
      "text/plain": []
     },
     "metadata": {},
     "output_type": "display_data"
    },
    {
     "data": {
      "text/html": [
       "<pre style=\"white-space:pre;overflow-x:auto;line-height:normal;font-family:Menlo,'DejaVu Sans Mono',consolas,'Courier New',monospace\"></pre>\n"
      ],
      "text/plain": []
     },
     "metadata": {},
     "output_type": "display_data"
    },
    {
     "data": {
      "text/html": [
       "<pre style=\"white-space:pre;overflow-x:auto;line-height:normal;font-family:Menlo,'DejaVu Sans Mono',consolas,'Courier New',monospace\"></pre>\n"
      ],
      "text/plain": []
     },
     "metadata": {},
     "output_type": "display_data"
    },
    {
     "data": {
      "text/html": [
       "<pre style=\"white-space:pre;overflow-x:auto;line-height:normal;font-family:Menlo,'DejaVu Sans Mono',consolas,'Courier New',monospace\"></pre>\n"
      ],
      "text/plain": []
     },
     "metadata": {},
     "output_type": "display_data"
    },
    {
     "data": {
      "text/html": [
       "<pre style=\"white-space:pre;overflow-x:auto;line-height:normal;font-family:Menlo,'DejaVu Sans Mono',consolas,'Courier New',monospace\"></pre>\n"
      ],
      "text/plain": []
     },
     "metadata": {},
     "output_type": "display_data"
    },
    {
     "data": {
      "text/html": [
       "<pre style=\"white-space:pre;overflow-x:auto;line-height:normal;font-family:Menlo,'DejaVu Sans Mono',consolas,'Courier New',monospace\"></pre>\n"
      ],
      "text/plain": []
     },
     "metadata": {},
     "output_type": "display_data"
    },
    {
     "data": {
      "text/html": [
       "<pre style=\"white-space:pre;overflow-x:auto;line-height:normal;font-family:Menlo,'DejaVu Sans Mono',consolas,'Courier New',monospace\"></pre>\n"
      ],
      "text/plain": []
     },
     "metadata": {},
     "output_type": "display_data"
    },
    {
     "data": {
      "text/html": [
       "<pre style=\"white-space:pre;overflow-x:auto;line-height:normal;font-family:Menlo,'DejaVu Sans Mono',consolas,'Courier New',monospace\"></pre>\n"
      ],
      "text/plain": []
     },
     "metadata": {},
     "output_type": "display_data"
    },
    {
     "data": {
      "text/html": [
       "<pre style=\"white-space:pre;overflow-x:auto;line-height:normal;font-family:Menlo,'DejaVu Sans Mono',consolas,'Courier New',monospace\"></pre>\n"
      ],
      "text/plain": []
     },
     "metadata": {},
     "output_type": "display_data"
    },
    {
     "data": {
      "text/html": [
       "<pre style=\"white-space:pre;overflow-x:auto;line-height:normal;font-family:Menlo,'DejaVu Sans Mono',consolas,'Courier New',monospace\"></pre>\n"
      ],
      "text/plain": []
     },
     "metadata": {},
     "output_type": "display_data"
    },
    {
     "data": {
      "text/html": [
       "<pre style=\"white-space:pre;overflow-x:auto;line-height:normal;font-family:Menlo,'DejaVu Sans Mono',consolas,'Courier New',monospace\"></pre>\n"
      ],
      "text/plain": []
     },
     "metadata": {},
     "output_type": "display_data"
    },
    {
     "data": {
      "text/html": [
       "<pre style=\"white-space:pre;overflow-x:auto;line-height:normal;font-family:Menlo,'DejaVu Sans Mono',consolas,'Courier New',monospace\"></pre>\n"
      ],
      "text/plain": []
     },
     "metadata": {},
     "output_type": "display_data"
    },
    {
     "data": {
      "text/html": [
       "<pre style=\"white-space:pre;overflow-x:auto;line-height:normal;font-family:Menlo,'DejaVu Sans Mono',consolas,'Courier New',monospace\"></pre>\n"
      ],
      "text/plain": []
     },
     "metadata": {},
     "output_type": "display_data"
    },
    {
     "data": {
      "text/html": [
       "<pre style=\"white-space:pre;overflow-x:auto;line-height:normal;font-family:Menlo,'DejaVu Sans Mono',consolas,'Courier New',monospace\"></pre>\n"
      ],
      "text/plain": []
     },
     "metadata": {},
     "output_type": "display_data"
    },
    {
     "data": {
      "text/html": [
       "<pre style=\"white-space:pre;overflow-x:auto;line-height:normal;font-family:Menlo,'DejaVu Sans Mono',consolas,'Courier New',monospace\"></pre>\n"
      ],
      "text/plain": []
     },
     "metadata": {},
     "output_type": "display_data"
    },
    {
     "data": {
      "text/html": [
       "<pre style=\"white-space:pre;overflow-x:auto;line-height:normal;font-family:Menlo,'DejaVu Sans Mono',consolas,'Courier New',monospace\"></pre>\n"
      ],
      "text/plain": []
     },
     "metadata": {},
     "output_type": "display_data"
    },
    {
     "data": {
      "text/html": [
       "<pre style=\"white-space:pre;overflow-x:auto;line-height:normal;font-family:Menlo,'DejaVu Sans Mono',consolas,'Courier New',monospace\"></pre>\n"
      ],
      "text/plain": []
     },
     "metadata": {},
     "output_type": "display_data"
    },
    {
     "data": {
      "text/html": [
       "<pre style=\"white-space:pre;overflow-x:auto;line-height:normal;font-family:Menlo,'DejaVu Sans Mono',consolas,'Courier New',monospace\"></pre>\n"
      ],
      "text/plain": []
     },
     "metadata": {},
     "output_type": "display_data"
    },
    {
     "data": {
      "text/html": [
       "<pre style=\"white-space:pre;overflow-x:auto;line-height:normal;font-family:Menlo,'DejaVu Sans Mono',consolas,'Courier New',monospace\"></pre>\n"
      ],
      "text/plain": []
     },
     "metadata": {},
     "output_type": "display_data"
    },
    {
     "data": {
      "text/html": [
       "<pre style=\"white-space:pre;overflow-x:auto;line-height:normal;font-family:Menlo,'DejaVu Sans Mono',consolas,'Courier New',monospace\"></pre>\n"
      ],
      "text/plain": []
     },
     "metadata": {},
     "output_type": "display_data"
    },
    {
     "data": {
      "text/html": [
       "<pre style=\"white-space:pre;overflow-x:auto;line-height:normal;font-family:Menlo,'DejaVu Sans Mono',consolas,'Courier New',monospace\"></pre>\n"
      ],
      "text/plain": []
     },
     "metadata": {},
     "output_type": "display_data"
    },
    {
     "data": {
      "text/html": [
       "<pre style=\"white-space:pre;overflow-x:auto;line-height:normal;font-family:Menlo,'DejaVu Sans Mono',consolas,'Courier New',monospace\"></pre>\n"
      ],
      "text/plain": []
     },
     "metadata": {},
     "output_type": "display_data"
    },
    {
     "data": {
      "text/html": [
       "<pre style=\"white-space:pre;overflow-x:auto;line-height:normal;font-family:Menlo,'DejaVu Sans Mono',consolas,'Courier New',monospace\"></pre>\n"
      ],
      "text/plain": []
     },
     "metadata": {},
     "output_type": "display_data"
    },
    {
     "data": {
      "text/html": [
       "<pre style=\"white-space:pre;overflow-x:auto;line-height:normal;font-family:Menlo,'DejaVu Sans Mono',consolas,'Courier New',monospace\"></pre>\n"
      ],
      "text/plain": []
     },
     "metadata": {},
     "output_type": "display_data"
    },
    {
     "data": {
      "text/html": [
       "<pre style=\"white-space:pre;overflow-x:auto;line-height:normal;font-family:Menlo,'DejaVu Sans Mono',consolas,'Courier New',monospace\"></pre>\n"
      ],
      "text/plain": []
     },
     "metadata": {},
     "output_type": "display_data"
    },
    {
     "data": {
      "text/html": [
       "<pre style=\"white-space:pre;overflow-x:auto;line-height:normal;font-family:Menlo,'DejaVu Sans Mono',consolas,'Courier New',monospace\"></pre>\n"
      ],
      "text/plain": []
     },
     "metadata": {},
     "output_type": "display_data"
    },
    {
     "data": {
      "text/html": [
       "<pre style=\"white-space:pre;overflow-x:auto;line-height:normal;font-family:Menlo,'DejaVu Sans Mono',consolas,'Courier New',monospace\"></pre>\n"
      ],
      "text/plain": []
     },
     "metadata": {},
     "output_type": "display_data"
    },
    {
     "data": {
      "text/html": [
       "<pre style=\"white-space:pre;overflow-x:auto;line-height:normal;font-family:Menlo,'DejaVu Sans Mono',consolas,'Courier New',monospace\"></pre>\n"
      ],
      "text/plain": []
     },
     "metadata": {},
     "output_type": "display_data"
    },
    {
     "data": {
      "text/html": [
       "<pre style=\"white-space:pre;overflow-x:auto;line-height:normal;font-family:Menlo,'DejaVu Sans Mono',consolas,'Courier New',monospace\"></pre>\n"
      ],
      "text/plain": []
     },
     "metadata": {},
     "output_type": "display_data"
    },
    {
     "data": {
      "text/html": [
       "<pre style=\"white-space:pre;overflow-x:auto;line-height:normal;font-family:Menlo,'DejaVu Sans Mono',consolas,'Courier New',monospace\"></pre>\n"
      ],
      "text/plain": []
     },
     "metadata": {},
     "output_type": "display_data"
    },
    {
     "data": {
      "text/html": [
       "<pre style=\"white-space:pre;overflow-x:auto;line-height:normal;font-family:Menlo,'DejaVu Sans Mono',consolas,'Courier New',monospace\"></pre>\n"
      ],
      "text/plain": []
     },
     "metadata": {},
     "output_type": "display_data"
    },
    {
     "data": {
      "text/html": [
       "<pre style=\"white-space:pre;overflow-x:auto;line-height:normal;font-family:Menlo,'DejaVu Sans Mono',consolas,'Courier New',monospace\"></pre>\n"
      ],
      "text/plain": []
     },
     "metadata": {},
     "output_type": "display_data"
    },
    {
     "data": {
      "text/html": [
       "<pre style=\"white-space:pre;overflow-x:auto;line-height:normal;font-family:Menlo,'DejaVu Sans Mono',consolas,'Courier New',monospace\"></pre>\n"
      ],
      "text/plain": []
     },
     "metadata": {},
     "output_type": "display_data"
    },
    {
     "data": {
      "text/html": [
       "<pre style=\"white-space:pre;overflow-x:auto;line-height:normal;font-family:Menlo,'DejaVu Sans Mono',consolas,'Courier New',monospace\"></pre>\n"
      ],
      "text/plain": []
     },
     "metadata": {},
     "output_type": "display_data"
    },
    {
     "data": {
      "text/html": [
       "<pre style=\"white-space:pre;overflow-x:auto;line-height:normal;font-family:Menlo,'DejaVu Sans Mono',consolas,'Courier New',monospace\"></pre>\n"
      ],
      "text/plain": []
     },
     "metadata": {},
     "output_type": "display_data"
    },
    {
     "data": {
      "text/html": [
       "<pre style=\"white-space:pre;overflow-x:auto;line-height:normal;font-family:Menlo,'DejaVu Sans Mono',consolas,'Courier New',monospace\"></pre>\n"
      ],
      "text/plain": []
     },
     "metadata": {},
     "output_type": "display_data"
    },
    {
     "data": {
      "text/html": [
       "<pre style=\"white-space:pre;overflow-x:auto;line-height:normal;font-family:Menlo,'DejaVu Sans Mono',consolas,'Courier New',monospace\"></pre>\n"
      ],
      "text/plain": []
     },
     "metadata": {},
     "output_type": "display_data"
    },
    {
     "data": {
      "text/html": [
       "<pre style=\"white-space:pre;overflow-x:auto;line-height:normal;font-family:Menlo,'DejaVu Sans Mono',consolas,'Courier New',monospace\"></pre>\n"
      ],
      "text/plain": []
     },
     "metadata": {},
     "output_type": "display_data"
    },
    {
     "data": {
      "text/html": [
       "<pre style=\"white-space:pre;overflow-x:auto;line-height:normal;font-family:Menlo,'DejaVu Sans Mono',consolas,'Courier New',monospace\"></pre>\n"
      ],
      "text/plain": []
     },
     "metadata": {},
     "output_type": "display_data"
    },
    {
     "data": {
      "text/html": [
       "<pre style=\"white-space:pre;overflow-x:auto;line-height:normal;font-family:Menlo,'DejaVu Sans Mono',consolas,'Courier New',monospace\"></pre>\n"
      ],
      "text/plain": []
     },
     "metadata": {},
     "output_type": "display_data"
    },
    {
     "data": {
      "text/html": [
       "<pre style=\"white-space:pre;overflow-x:auto;line-height:normal;font-family:Menlo,'DejaVu Sans Mono',consolas,'Courier New',monospace\"></pre>\n"
      ],
      "text/plain": []
     },
     "metadata": {},
     "output_type": "display_data"
    },
    {
     "data": {
      "text/html": [
       "<pre style=\"white-space:pre;overflow-x:auto;line-height:normal;font-family:Menlo,'DejaVu Sans Mono',consolas,'Courier New',monospace\"></pre>\n"
      ],
      "text/plain": []
     },
     "metadata": {},
     "output_type": "display_data"
    },
    {
     "data": {
      "text/html": [
       "<pre style=\"white-space:pre;overflow-x:auto;line-height:normal;font-family:Menlo,'DejaVu Sans Mono',consolas,'Courier New',monospace\"></pre>\n"
      ],
      "text/plain": []
     },
     "metadata": {},
     "output_type": "display_data"
    },
    {
     "data": {
      "text/html": [
       "<pre style=\"white-space:pre;overflow-x:auto;line-height:normal;font-family:Menlo,'DejaVu Sans Mono',consolas,'Courier New',monospace\"></pre>\n"
      ],
      "text/plain": []
     },
     "metadata": {},
     "output_type": "display_data"
    },
    {
     "data": {
      "text/html": [
       "<pre style=\"white-space:pre;overflow-x:auto;line-height:normal;font-family:Menlo,'DejaVu Sans Mono',consolas,'Courier New',monospace\"></pre>\n"
      ],
      "text/plain": []
     },
     "metadata": {},
     "output_type": "display_data"
    },
    {
     "data": {
      "text/html": [
       "<pre style=\"white-space:pre;overflow-x:auto;line-height:normal;font-family:Menlo,'DejaVu Sans Mono',consolas,'Courier New',monospace\"></pre>\n"
      ],
      "text/plain": []
     },
     "metadata": {},
     "output_type": "display_data"
    },
    {
     "data": {
      "text/html": [
       "<pre style=\"white-space:pre;overflow-x:auto;line-height:normal;font-family:Menlo,'DejaVu Sans Mono',consolas,'Courier New',monospace\"></pre>\n"
      ],
      "text/plain": []
     },
     "metadata": {},
     "output_type": "display_data"
    },
    {
     "data": {
      "text/html": [
       "<pre style=\"white-space:pre;overflow-x:auto;line-height:normal;font-family:Menlo,'DejaVu Sans Mono',consolas,'Courier New',monospace\"></pre>\n"
      ],
      "text/plain": []
     },
     "metadata": {},
     "output_type": "display_data"
    },
    {
     "data": {
      "text/html": [
       "<pre style=\"white-space:pre;overflow-x:auto;line-height:normal;font-family:Menlo,'DejaVu Sans Mono',consolas,'Courier New',monospace\"></pre>\n"
      ],
      "text/plain": []
     },
     "metadata": {},
     "output_type": "display_data"
    },
    {
     "data": {
      "text/html": [
       "<pre style=\"white-space:pre;overflow-x:auto;line-height:normal;font-family:Menlo,'DejaVu Sans Mono',consolas,'Courier New',monospace\"></pre>\n"
      ],
      "text/plain": []
     },
     "metadata": {},
     "output_type": "display_data"
    },
    {
     "data": {
      "text/html": [
       "<pre style=\"white-space:pre;overflow-x:auto;line-height:normal;font-family:Menlo,'DejaVu Sans Mono',consolas,'Courier New',monospace\"></pre>\n"
      ],
      "text/plain": []
     },
     "metadata": {},
     "output_type": "display_data"
    },
    {
     "data": {
      "text/html": [
       "<pre style=\"white-space:pre;overflow-x:auto;line-height:normal;font-family:Menlo,'DejaVu Sans Mono',consolas,'Courier New',monospace\"></pre>\n"
      ],
      "text/plain": []
     },
     "metadata": {},
     "output_type": "display_data"
    },
    {
     "data": {
      "text/html": [
       "<pre style=\"white-space:pre;overflow-x:auto;line-height:normal;font-family:Menlo,'DejaVu Sans Mono',consolas,'Courier New',monospace\"></pre>\n"
      ],
      "text/plain": []
     },
     "metadata": {},
     "output_type": "display_data"
    },
    {
     "data": {
      "text/html": [
       "<pre style=\"white-space:pre;overflow-x:auto;line-height:normal;font-family:Menlo,'DejaVu Sans Mono',consolas,'Courier New',monospace\"></pre>\n"
      ],
      "text/plain": []
     },
     "metadata": {},
     "output_type": "display_data"
    },
    {
     "data": {
      "text/html": [
       "<pre style=\"white-space:pre;overflow-x:auto;line-height:normal;font-family:Menlo,'DejaVu Sans Mono',consolas,'Courier New',monospace\"></pre>\n"
      ],
      "text/plain": []
     },
     "metadata": {},
     "output_type": "display_data"
    },
    {
     "data": {
      "text/html": [
       "<pre style=\"white-space:pre;overflow-x:auto;line-height:normal;font-family:Menlo,'DejaVu Sans Mono',consolas,'Courier New',monospace\"></pre>\n"
      ],
      "text/plain": []
     },
     "metadata": {},
     "output_type": "display_data"
    },
    {
     "data": {
      "text/html": [
       "<pre style=\"white-space:pre;overflow-x:auto;line-height:normal;font-family:Menlo,'DejaVu Sans Mono',consolas,'Courier New',monospace\"></pre>\n"
      ],
      "text/plain": []
     },
     "metadata": {},
     "output_type": "display_data"
    },
    {
     "data": {
      "text/html": [
       "<pre style=\"white-space:pre;overflow-x:auto;line-height:normal;font-family:Menlo,'DejaVu Sans Mono',consolas,'Courier New',monospace\"></pre>\n"
      ],
      "text/plain": []
     },
     "metadata": {},
     "output_type": "display_data"
    },
    {
     "data": {
      "text/html": [
       "<pre style=\"white-space:pre;overflow-x:auto;line-height:normal;font-family:Menlo,'DejaVu Sans Mono',consolas,'Courier New',monospace\"></pre>\n"
      ],
      "text/plain": []
     },
     "metadata": {},
     "output_type": "display_data"
    },
    {
     "data": {
      "text/html": [
       "<pre style=\"white-space:pre;overflow-x:auto;line-height:normal;font-family:Menlo,'DejaVu Sans Mono',consolas,'Courier New',monospace\"></pre>\n"
      ],
      "text/plain": []
     },
     "metadata": {},
     "output_type": "display_data"
    },
    {
     "data": {
      "text/html": [
       "<pre style=\"white-space:pre;overflow-x:auto;line-height:normal;font-family:Menlo,'DejaVu Sans Mono',consolas,'Courier New',monospace\"></pre>\n"
      ],
      "text/plain": []
     },
     "metadata": {},
     "output_type": "display_data"
    },
    {
     "data": {
      "text/html": [
       "<pre style=\"white-space:pre;overflow-x:auto;line-height:normal;font-family:Menlo,'DejaVu Sans Mono',consolas,'Courier New',monospace\"></pre>\n"
      ],
      "text/plain": []
     },
     "metadata": {},
     "output_type": "display_data"
    },
    {
     "data": {
      "text/html": [
       "<pre style=\"white-space:pre;overflow-x:auto;line-height:normal;font-family:Menlo,'DejaVu Sans Mono',consolas,'Courier New',monospace\"></pre>\n"
      ],
      "text/plain": []
     },
     "metadata": {},
     "output_type": "display_data"
    },
    {
     "data": {
      "text/html": [
       "<pre style=\"white-space:pre;overflow-x:auto;line-height:normal;font-family:Menlo,'DejaVu Sans Mono',consolas,'Courier New',monospace\"></pre>\n"
      ],
      "text/plain": []
     },
     "metadata": {},
     "output_type": "display_data"
    },
    {
     "data": {
      "text/html": [
       "<pre style=\"white-space:pre;overflow-x:auto;line-height:normal;font-family:Menlo,'DejaVu Sans Mono',consolas,'Courier New',monospace\"></pre>\n"
      ],
      "text/plain": []
     },
     "metadata": {},
     "output_type": "display_data"
    },
    {
     "data": {
      "text/html": [
       "<pre style=\"white-space:pre;overflow-x:auto;line-height:normal;font-family:Menlo,'DejaVu Sans Mono',consolas,'Courier New',monospace\"></pre>\n"
      ],
      "text/plain": []
     },
     "metadata": {},
     "output_type": "display_data"
    },
    {
     "data": {
      "text/html": [
       "<pre style=\"white-space:pre;overflow-x:auto;line-height:normal;font-family:Menlo,'DejaVu Sans Mono',consolas,'Courier New',monospace\"></pre>\n"
      ],
      "text/plain": []
     },
     "metadata": {},
     "output_type": "display_data"
    },
    {
     "data": {
      "text/html": [
       "<pre style=\"white-space:pre;overflow-x:auto;line-height:normal;font-family:Menlo,'DejaVu Sans Mono',consolas,'Courier New',monospace\"></pre>\n"
      ],
      "text/plain": []
     },
     "metadata": {},
     "output_type": "display_data"
    },
    {
     "data": {
      "text/html": [
       "<pre style=\"white-space:pre;overflow-x:auto;line-height:normal;font-family:Menlo,'DejaVu Sans Mono',consolas,'Courier New',monospace\"></pre>\n"
      ],
      "text/plain": []
     },
     "metadata": {},
     "output_type": "display_data"
    },
    {
     "data": {
      "text/html": [
       "<pre style=\"white-space:pre;overflow-x:auto;line-height:normal;font-family:Menlo,'DejaVu Sans Mono',consolas,'Courier New',monospace\"></pre>\n"
      ],
      "text/plain": []
     },
     "metadata": {},
     "output_type": "display_data"
    },
    {
     "data": {
      "text/html": [
       "<pre style=\"white-space:pre;overflow-x:auto;line-height:normal;font-family:Menlo,'DejaVu Sans Mono',consolas,'Courier New',monospace\"></pre>\n"
      ],
      "text/plain": []
     },
     "metadata": {},
     "output_type": "display_data"
    },
    {
     "data": {
      "text/html": [
       "<pre style=\"white-space:pre;overflow-x:auto;line-height:normal;font-family:Menlo,'DejaVu Sans Mono',consolas,'Courier New',monospace\"></pre>\n"
      ],
      "text/plain": []
     },
     "metadata": {},
     "output_type": "display_data"
    },
    {
     "data": {
      "text/html": [
       "<pre style=\"white-space:pre;overflow-x:auto;line-height:normal;font-family:Menlo,'DejaVu Sans Mono',consolas,'Courier New',monospace\"></pre>\n"
      ],
      "text/plain": []
     },
     "metadata": {},
     "output_type": "display_data"
    },
    {
     "data": {
      "text/html": [
       "<pre style=\"white-space:pre;overflow-x:auto;line-height:normal;font-family:Menlo,'DejaVu Sans Mono',consolas,'Courier New',monospace\"></pre>\n"
      ],
      "text/plain": []
     },
     "metadata": {},
     "output_type": "display_data"
    },
    {
     "data": {
      "text/html": [
       "<pre style=\"white-space:pre;overflow-x:auto;line-height:normal;font-family:Menlo,'DejaVu Sans Mono',consolas,'Courier New',monospace\"></pre>\n"
      ],
      "text/plain": []
     },
     "metadata": {},
     "output_type": "display_data"
    },
    {
     "data": {
      "text/html": [
       "<pre style=\"white-space:pre;overflow-x:auto;line-height:normal;font-family:Menlo,'DejaVu Sans Mono',consolas,'Courier New',monospace\"></pre>\n"
      ],
      "text/plain": []
     },
     "metadata": {},
     "output_type": "display_data"
    },
    {
     "data": {
      "text/html": [
       "<pre style=\"white-space:pre;overflow-x:auto;line-height:normal;font-family:Menlo,'DejaVu Sans Mono',consolas,'Courier New',monospace\"></pre>\n"
      ],
      "text/plain": []
     },
     "metadata": {},
     "output_type": "display_data"
    },
    {
     "data": {
      "text/html": [
       "<pre style=\"white-space:pre;overflow-x:auto;line-height:normal;font-family:Menlo,'DejaVu Sans Mono',consolas,'Courier New',monospace\"></pre>\n"
      ],
      "text/plain": []
     },
     "metadata": {},
     "output_type": "display_data"
    },
    {
     "data": {
      "text/html": [
       "<pre style=\"white-space:pre;overflow-x:auto;line-height:normal;font-family:Menlo,'DejaVu Sans Mono',consolas,'Courier New',monospace\"></pre>\n"
      ],
      "text/plain": []
     },
     "metadata": {},
     "output_type": "display_data"
    },
    {
     "data": {
      "text/html": [
       "<pre style=\"white-space:pre;overflow-x:auto;line-height:normal;font-family:Menlo,'DejaVu Sans Mono',consolas,'Courier New',monospace\"></pre>\n"
      ],
      "text/plain": []
     },
     "metadata": {},
     "output_type": "display_data"
    },
    {
     "data": {
      "text/html": [
       "<pre style=\"white-space:pre;overflow-x:auto;line-height:normal;font-family:Menlo,'DejaVu Sans Mono',consolas,'Courier New',monospace\"></pre>\n"
      ],
      "text/plain": []
     },
     "metadata": {},
     "output_type": "display_data"
    },
    {
     "data": {
      "text/html": [
       "<pre style=\"white-space:pre;overflow-x:auto;line-height:normal;font-family:Menlo,'DejaVu Sans Mono',consolas,'Courier New',monospace\"></pre>\n"
      ],
      "text/plain": []
     },
     "metadata": {},
     "output_type": "display_data"
    },
    {
     "data": {
      "text/html": [
       "<pre style=\"white-space:pre;overflow-x:auto;line-height:normal;font-family:Menlo,'DejaVu Sans Mono',consolas,'Courier New',monospace\"></pre>\n"
      ],
      "text/plain": []
     },
     "metadata": {},
     "output_type": "display_data"
    },
    {
     "data": {
      "text/html": [
       "<pre style=\"white-space:pre;overflow-x:auto;line-height:normal;font-family:Menlo,'DejaVu Sans Mono',consolas,'Courier New',monospace\"></pre>\n"
      ],
      "text/plain": []
     },
     "metadata": {},
     "output_type": "display_data"
    },
    {
     "data": {
      "text/html": [
       "<pre style=\"white-space:pre;overflow-x:auto;line-height:normal;font-family:Menlo,'DejaVu Sans Mono',consolas,'Courier New',monospace\"></pre>\n"
      ],
      "text/plain": []
     },
     "metadata": {},
     "output_type": "display_data"
    },
    {
     "data": {
      "text/html": [
       "<pre style=\"white-space:pre;overflow-x:auto;line-height:normal;font-family:Menlo,'DejaVu Sans Mono',consolas,'Courier New',monospace\"></pre>\n"
      ],
      "text/plain": []
     },
     "metadata": {},
     "output_type": "display_data"
    },
    {
     "data": {
      "text/html": [
       "<pre style=\"white-space:pre;overflow-x:auto;line-height:normal;font-family:Menlo,'DejaVu Sans Mono',consolas,'Courier New',monospace\"></pre>\n"
      ],
      "text/plain": []
     },
     "metadata": {},
     "output_type": "display_data"
    },
    {
     "data": {
      "text/html": [
       "<pre style=\"white-space:pre;overflow-x:auto;line-height:normal;font-family:Menlo,'DejaVu Sans Mono',consolas,'Courier New',monospace\"></pre>\n"
      ],
      "text/plain": []
     },
     "metadata": {},
     "output_type": "display_data"
    },
    {
     "data": {
      "text/html": [
       "<pre style=\"white-space:pre;overflow-x:auto;line-height:normal;font-family:Menlo,'DejaVu Sans Mono',consolas,'Courier New',monospace\"></pre>\n"
      ],
      "text/plain": []
     },
     "metadata": {},
     "output_type": "display_data"
    },
    {
     "data": {
      "text/html": [
       "<pre style=\"white-space:pre;overflow-x:auto;line-height:normal;font-family:Menlo,'DejaVu Sans Mono',consolas,'Courier New',monospace\"></pre>\n"
      ],
      "text/plain": []
     },
     "metadata": {},
     "output_type": "display_data"
    },
    {
     "data": {
      "text/html": [
       "<pre style=\"white-space:pre;overflow-x:auto;line-height:normal;font-family:Menlo,'DejaVu Sans Mono',consolas,'Courier New',monospace\"></pre>\n"
      ],
      "text/plain": []
     },
     "metadata": {},
     "output_type": "display_data"
    },
    {
     "data": {
      "text/html": [
       "<pre style=\"white-space:pre;overflow-x:auto;line-height:normal;font-family:Menlo,'DejaVu Sans Mono',consolas,'Courier New',monospace\"></pre>\n"
      ],
      "text/plain": []
     },
     "metadata": {},
     "output_type": "display_data"
    },
    {
     "data": {
      "text/html": [
       "<pre style=\"white-space:pre;overflow-x:auto;line-height:normal;font-family:Menlo,'DejaVu Sans Mono',consolas,'Courier New',monospace\"></pre>\n"
      ],
      "text/plain": []
     },
     "metadata": {},
     "output_type": "display_data"
    },
    {
     "data": {
      "text/html": [
       "<pre style=\"white-space:pre;overflow-x:auto;line-height:normal;font-family:Menlo,'DejaVu Sans Mono',consolas,'Courier New',monospace\"></pre>\n"
      ],
      "text/plain": []
     },
     "metadata": {},
     "output_type": "display_data"
    },
    {
     "data": {
      "text/html": [
       "<pre style=\"white-space:pre;overflow-x:auto;line-height:normal;font-family:Menlo,'DejaVu Sans Mono',consolas,'Courier New',monospace\"></pre>\n"
      ],
      "text/plain": []
     },
     "metadata": {},
     "output_type": "display_data"
    },
    {
     "data": {
      "text/html": [
       "<pre style=\"white-space:pre;overflow-x:auto;line-height:normal;font-family:Menlo,'DejaVu Sans Mono',consolas,'Courier New',monospace\"></pre>\n"
      ],
      "text/plain": []
     },
     "metadata": {},
     "output_type": "display_data"
    },
    {
     "data": {
      "text/html": [
       "<pre style=\"white-space:pre;overflow-x:auto;line-height:normal;font-family:Menlo,'DejaVu Sans Mono',consolas,'Courier New',monospace\"></pre>\n"
      ],
      "text/plain": []
     },
     "metadata": {},
     "output_type": "display_data"
    },
    {
     "data": {
      "text/html": [
       "<pre style=\"white-space:pre;overflow-x:auto;line-height:normal;font-family:Menlo,'DejaVu Sans Mono',consolas,'Courier New',monospace\"></pre>\n"
      ],
      "text/plain": []
     },
     "metadata": {},
     "output_type": "display_data"
    },
    {
     "data": {
      "text/html": [
       "<pre style=\"white-space:pre;overflow-x:auto;line-height:normal;font-family:Menlo,'DejaVu Sans Mono',consolas,'Courier New',monospace\"></pre>\n"
      ],
      "text/plain": []
     },
     "metadata": {},
     "output_type": "display_data"
    },
    {
     "data": {
      "text/html": [
       "<pre style=\"white-space:pre;overflow-x:auto;line-height:normal;font-family:Menlo,'DejaVu Sans Mono',consolas,'Courier New',monospace\"></pre>\n"
      ],
      "text/plain": []
     },
     "metadata": {},
     "output_type": "display_data"
    },
    {
     "data": {
      "text/html": [
       "<pre style=\"white-space:pre;overflow-x:auto;line-height:normal;font-family:Menlo,'DejaVu Sans Mono',consolas,'Courier New',monospace\"></pre>\n"
      ],
      "text/plain": []
     },
     "metadata": {},
     "output_type": "display_data"
    },
    {
     "data": {
      "text/html": [
       "<pre style=\"white-space:pre;overflow-x:auto;line-height:normal;font-family:Menlo,'DejaVu Sans Mono',consolas,'Courier New',monospace\"></pre>\n"
      ],
      "text/plain": []
     },
     "metadata": {},
     "output_type": "display_data"
    },
    {
     "data": {
      "text/html": [
       "<pre style=\"white-space:pre;overflow-x:auto;line-height:normal;font-family:Menlo,'DejaVu Sans Mono',consolas,'Courier New',monospace\"></pre>\n"
      ],
      "text/plain": []
     },
     "metadata": {},
     "output_type": "display_data"
    },
    {
     "data": {
      "text/html": [
       "<pre style=\"white-space:pre;overflow-x:auto;line-height:normal;font-family:Menlo,'DejaVu Sans Mono',consolas,'Courier New',monospace\"></pre>\n"
      ],
      "text/plain": []
     },
     "metadata": {},
     "output_type": "display_data"
    },
    {
     "data": {
      "text/html": [
       "<pre style=\"white-space:pre;overflow-x:auto;line-height:normal;font-family:Menlo,'DejaVu Sans Mono',consolas,'Courier New',monospace\"></pre>\n"
      ],
      "text/plain": []
     },
     "metadata": {},
     "output_type": "display_data"
    },
    {
     "data": {
      "text/html": [
       "<pre style=\"white-space:pre;overflow-x:auto;line-height:normal;font-family:Menlo,'DejaVu Sans Mono',consolas,'Courier New',monospace\"></pre>\n"
      ],
      "text/plain": []
     },
     "metadata": {},
     "output_type": "display_data"
    },
    {
     "data": {
      "text/html": [
       "<pre style=\"white-space:pre;overflow-x:auto;line-height:normal;font-family:Menlo,'DejaVu Sans Mono',consolas,'Courier New',monospace\"></pre>\n"
      ],
      "text/plain": []
     },
     "metadata": {},
     "output_type": "display_data"
    },
    {
     "data": {
      "text/html": [
       "<pre style=\"white-space:pre;overflow-x:auto;line-height:normal;font-family:Menlo,'DejaVu Sans Mono',consolas,'Courier New',monospace\"></pre>\n"
      ],
      "text/plain": []
     },
     "metadata": {},
     "output_type": "display_data"
    },
    {
     "data": {
      "text/html": [
       "<pre style=\"white-space:pre;overflow-x:auto;line-height:normal;font-family:Menlo,'DejaVu Sans Mono',consolas,'Courier New',monospace\"></pre>\n"
      ],
      "text/plain": []
     },
     "metadata": {},
     "output_type": "display_data"
    },
    {
     "data": {
      "text/html": [
       "<pre style=\"white-space:pre;overflow-x:auto;line-height:normal;font-family:Menlo,'DejaVu Sans Mono',consolas,'Courier New',monospace\"></pre>\n"
      ],
      "text/plain": []
     },
     "metadata": {},
     "output_type": "display_data"
    },
    {
     "data": {
      "text/html": [
       "<pre style=\"white-space:pre;overflow-x:auto;line-height:normal;font-family:Menlo,'DejaVu Sans Mono',consolas,'Courier New',monospace\"></pre>\n"
      ],
      "text/plain": []
     },
     "metadata": {},
     "output_type": "display_data"
    },
    {
     "data": {
      "text/html": [
       "<pre style=\"white-space:pre;overflow-x:auto;line-height:normal;font-family:Menlo,'DejaVu Sans Mono',consolas,'Courier New',monospace\"></pre>\n"
      ],
      "text/plain": []
     },
     "metadata": {},
     "output_type": "display_data"
    },
    {
     "data": {
      "text/html": [
       "<pre style=\"white-space:pre;overflow-x:auto;line-height:normal;font-family:Menlo,'DejaVu Sans Mono',consolas,'Courier New',monospace\"></pre>\n"
      ],
      "text/plain": []
     },
     "metadata": {},
     "output_type": "display_data"
    },
    {
     "data": {
      "text/html": [
       "<pre style=\"white-space:pre;overflow-x:auto;line-height:normal;font-family:Menlo,'DejaVu Sans Mono',consolas,'Courier New',monospace\"></pre>\n"
      ],
      "text/plain": []
     },
     "metadata": {},
     "output_type": "display_data"
    },
    {
     "data": {
      "text/html": [
       "<pre style=\"white-space:pre;overflow-x:auto;line-height:normal;font-family:Menlo,'DejaVu Sans Mono',consolas,'Courier New',monospace\"></pre>\n"
      ],
      "text/plain": []
     },
     "metadata": {},
     "output_type": "display_data"
    },
    {
     "data": {
      "text/html": [
       "<pre style=\"white-space:pre;overflow-x:auto;line-height:normal;font-family:Menlo,'DejaVu Sans Mono',consolas,'Courier New',monospace\"></pre>\n"
      ],
      "text/plain": []
     },
     "metadata": {},
     "output_type": "display_data"
    },
    {
     "data": {
      "text/html": [
       "<pre style=\"white-space:pre;overflow-x:auto;line-height:normal;font-family:Menlo,'DejaVu Sans Mono',consolas,'Courier New',monospace\"></pre>\n"
      ],
      "text/plain": []
     },
     "metadata": {},
     "output_type": "display_data"
    },
    {
     "data": {
      "text/html": [
       "<pre style=\"white-space:pre;overflow-x:auto;line-height:normal;font-family:Menlo,'DejaVu Sans Mono',consolas,'Courier New',monospace\"></pre>\n"
      ],
      "text/plain": []
     },
     "metadata": {},
     "output_type": "display_data"
    },
    {
     "data": {
      "text/html": [
       "<pre style=\"white-space:pre;overflow-x:auto;line-height:normal;font-family:Menlo,'DejaVu Sans Mono',consolas,'Courier New',monospace\"></pre>\n"
      ],
      "text/plain": []
     },
     "metadata": {},
     "output_type": "display_data"
    },
    {
     "data": {
      "text/html": [
       "<pre style=\"white-space:pre;overflow-x:auto;line-height:normal;font-family:Menlo,'DejaVu Sans Mono',consolas,'Courier New',monospace\"></pre>\n"
      ],
      "text/plain": []
     },
     "metadata": {},
     "output_type": "display_data"
    },
    {
     "data": {
      "text/html": [
       "<pre style=\"white-space:pre;overflow-x:auto;line-height:normal;font-family:Menlo,'DejaVu Sans Mono',consolas,'Courier New',monospace\"></pre>\n"
      ],
      "text/plain": []
     },
     "metadata": {},
     "output_type": "display_data"
    },
    {
     "data": {
      "text/html": [
       "<pre style=\"white-space:pre;overflow-x:auto;line-height:normal;font-family:Menlo,'DejaVu Sans Mono',consolas,'Courier New',monospace\"></pre>\n"
      ],
      "text/plain": []
     },
     "metadata": {},
     "output_type": "display_data"
    },
    {
     "data": {
      "text/html": [
       "<pre style=\"white-space:pre;overflow-x:auto;line-height:normal;font-family:Menlo,'DejaVu Sans Mono',consolas,'Courier New',monospace\"></pre>\n"
      ],
      "text/plain": []
     },
     "metadata": {},
     "output_type": "display_data"
    },
    {
     "data": {
      "text/html": [
       "<pre style=\"white-space:pre;overflow-x:auto;line-height:normal;font-family:Menlo,'DejaVu Sans Mono',consolas,'Courier New',monospace\"></pre>\n"
      ],
      "text/plain": []
     },
     "metadata": {},
     "output_type": "display_data"
    },
    {
     "data": {
      "text/html": [
       "<pre style=\"white-space:pre;overflow-x:auto;line-height:normal;font-family:Menlo,'DejaVu Sans Mono',consolas,'Courier New',monospace\"></pre>\n"
      ],
      "text/plain": []
     },
     "metadata": {},
     "output_type": "display_data"
    },
    {
     "data": {
      "text/html": [
       "<pre style=\"white-space:pre;overflow-x:auto;line-height:normal;font-family:Menlo,'DejaVu Sans Mono',consolas,'Courier New',monospace\"></pre>\n"
      ],
      "text/plain": []
     },
     "metadata": {},
     "output_type": "display_data"
    },
    {
     "data": {
      "text/html": [
       "<pre style=\"white-space:pre;overflow-x:auto;line-height:normal;font-family:Menlo,'DejaVu Sans Mono',consolas,'Courier New',monospace\"></pre>\n"
      ],
      "text/plain": []
     },
     "metadata": {},
     "output_type": "display_data"
    },
    {
     "data": {
      "text/html": [
       "<pre style=\"white-space:pre;overflow-x:auto;line-height:normal;font-family:Menlo,'DejaVu Sans Mono',consolas,'Courier New',monospace\"></pre>\n"
      ],
      "text/plain": []
     },
     "metadata": {},
     "output_type": "display_data"
    },
    {
     "data": {
      "text/html": [
       "<pre style=\"white-space:pre;overflow-x:auto;line-height:normal;font-family:Menlo,'DejaVu Sans Mono',consolas,'Courier New',monospace\"></pre>\n"
      ],
      "text/plain": []
     },
     "metadata": {},
     "output_type": "display_data"
    },
    {
     "data": {
      "text/html": [
       "<pre style=\"white-space:pre;overflow-x:auto;line-height:normal;font-family:Menlo,'DejaVu Sans Mono',consolas,'Courier New',monospace\"></pre>\n"
      ],
      "text/plain": []
     },
     "metadata": {},
     "output_type": "display_data"
    },
    {
     "data": {
      "text/html": [
       "<pre style=\"white-space:pre;overflow-x:auto;line-height:normal;font-family:Menlo,'DejaVu Sans Mono',consolas,'Courier New',monospace\"></pre>\n"
      ],
      "text/plain": []
     },
     "metadata": {},
     "output_type": "display_data"
    },
    {
     "data": {
      "text/html": [
       "<pre style=\"white-space:pre;overflow-x:auto;line-height:normal;font-family:Menlo,'DejaVu Sans Mono',consolas,'Courier New',monospace\"></pre>\n"
      ],
      "text/plain": []
     },
     "metadata": {},
     "output_type": "display_data"
    },
    {
     "data": {
      "text/html": [
       "<pre style=\"white-space:pre;overflow-x:auto;line-height:normal;font-family:Menlo,'DejaVu Sans Mono',consolas,'Courier New',monospace\"></pre>\n"
      ],
      "text/plain": []
     },
     "metadata": {},
     "output_type": "display_data"
    },
    {
     "data": {
      "text/html": [
       "<pre style=\"white-space:pre;overflow-x:auto;line-height:normal;font-family:Menlo,'DejaVu Sans Mono',consolas,'Courier New',monospace\"></pre>\n"
      ],
      "text/plain": []
     },
     "metadata": {},
     "output_type": "display_data"
    },
    {
     "data": {
      "text/html": [
       "<pre style=\"white-space:pre;overflow-x:auto;line-height:normal;font-family:Menlo,'DejaVu Sans Mono',consolas,'Courier New',monospace\"></pre>\n"
      ],
      "text/plain": []
     },
     "metadata": {},
     "output_type": "display_data"
    },
    {
     "data": {
      "text/html": [
       "<pre style=\"white-space:pre;overflow-x:auto;line-height:normal;font-family:Menlo,'DejaVu Sans Mono',consolas,'Courier New',monospace\"></pre>\n"
      ],
      "text/plain": []
     },
     "metadata": {},
     "output_type": "display_data"
    },
    {
     "data": {
      "text/html": [
       "<pre style=\"white-space:pre;overflow-x:auto;line-height:normal;font-family:Menlo,'DejaVu Sans Mono',consolas,'Courier New',monospace\"></pre>\n"
      ],
      "text/plain": []
     },
     "metadata": {},
     "output_type": "display_data"
    },
    {
     "data": {
      "text/html": [
       "<pre style=\"white-space:pre;overflow-x:auto;line-height:normal;font-family:Menlo,'DejaVu Sans Mono',consolas,'Courier New',monospace\"></pre>\n"
      ],
      "text/plain": []
     },
     "metadata": {},
     "output_type": "display_data"
    },
    {
     "data": {
      "text/html": [
       "<pre style=\"white-space:pre;overflow-x:auto;line-height:normal;font-family:Menlo,'DejaVu Sans Mono',consolas,'Courier New',monospace\"></pre>\n"
      ],
      "text/plain": []
     },
     "metadata": {},
     "output_type": "display_data"
    },
    {
     "data": {
      "text/html": [
       "<pre style=\"white-space:pre;overflow-x:auto;line-height:normal;font-family:Menlo,'DejaVu Sans Mono',consolas,'Courier New',monospace\"></pre>\n"
      ],
      "text/plain": []
     },
     "metadata": {},
     "output_type": "display_data"
    },
    {
     "data": {
      "text/html": [
       "<pre style=\"white-space:pre;overflow-x:auto;line-height:normal;font-family:Menlo,'DejaVu Sans Mono',consolas,'Courier New',monospace\"></pre>\n"
      ],
      "text/plain": []
     },
     "metadata": {},
     "output_type": "display_data"
    },
    {
     "data": {
      "text/html": [
       "<pre style=\"white-space:pre;overflow-x:auto;line-height:normal;font-family:Menlo,'DejaVu Sans Mono',consolas,'Courier New',monospace\"></pre>\n"
      ],
      "text/plain": []
     },
     "metadata": {},
     "output_type": "display_data"
    },
    {
     "data": {
      "text/html": [
       "<pre style=\"white-space:pre;overflow-x:auto;line-height:normal;font-family:Menlo,'DejaVu Sans Mono',consolas,'Courier New',monospace\"></pre>\n"
      ],
      "text/plain": []
     },
     "metadata": {},
     "output_type": "display_data"
    },
    {
     "data": {
      "text/html": [
       "<pre style=\"white-space:pre;overflow-x:auto;line-height:normal;font-family:Menlo,'DejaVu Sans Mono',consolas,'Courier New',monospace\"></pre>\n"
      ],
      "text/plain": []
     },
     "metadata": {},
     "output_type": "display_data"
    },
    {
     "data": {
      "text/html": [
       "<pre style=\"white-space:pre;overflow-x:auto;line-height:normal;font-family:Menlo,'DejaVu Sans Mono',consolas,'Courier New',monospace\"></pre>\n"
      ],
      "text/plain": []
     },
     "metadata": {},
     "output_type": "display_data"
    },
    {
     "data": {
      "text/html": [
       "<pre style=\"white-space:pre;overflow-x:auto;line-height:normal;font-family:Menlo,'DejaVu Sans Mono',consolas,'Courier New',monospace\"></pre>\n"
      ],
      "text/plain": []
     },
     "metadata": {},
     "output_type": "display_data"
    },
    {
     "data": {
      "text/html": [
       "<pre style=\"white-space:pre;overflow-x:auto;line-height:normal;font-family:Menlo,'DejaVu Sans Mono',consolas,'Courier New',monospace\"></pre>\n"
      ],
      "text/plain": []
     },
     "metadata": {},
     "output_type": "display_data"
    },
    {
     "data": {
      "text/html": [
       "<pre style=\"white-space:pre;overflow-x:auto;line-height:normal;font-family:Menlo,'DejaVu Sans Mono',consolas,'Courier New',monospace\"></pre>\n"
      ],
      "text/plain": []
     },
     "metadata": {},
     "output_type": "display_data"
    },
    {
     "data": {
      "text/html": [
       "<pre style=\"white-space:pre;overflow-x:auto;line-height:normal;font-family:Menlo,'DejaVu Sans Mono',consolas,'Courier New',monospace\"></pre>\n"
      ],
      "text/plain": []
     },
     "metadata": {},
     "output_type": "display_data"
    },
    {
     "data": {
      "text/html": [
       "<pre style=\"white-space:pre;overflow-x:auto;line-height:normal;font-family:Menlo,'DejaVu Sans Mono',consolas,'Courier New',monospace\"></pre>\n"
      ],
      "text/plain": []
     },
     "metadata": {},
     "output_type": "display_data"
    },
    {
     "data": {
      "text/html": [
       "<pre style=\"white-space:pre;overflow-x:auto;line-height:normal;font-family:Menlo,'DejaVu Sans Mono',consolas,'Courier New',monospace\"></pre>\n"
      ],
      "text/plain": []
     },
     "metadata": {},
     "output_type": "display_data"
    },
    {
     "data": {
      "text/html": [
       "<pre style=\"white-space:pre;overflow-x:auto;line-height:normal;font-family:Menlo,'DejaVu Sans Mono',consolas,'Courier New',monospace\"></pre>\n"
      ],
      "text/plain": []
     },
     "metadata": {},
     "output_type": "display_data"
    },
    {
     "data": {
      "text/html": [
       "<pre style=\"white-space:pre;overflow-x:auto;line-height:normal;font-family:Menlo,'DejaVu Sans Mono',consolas,'Courier New',monospace\"></pre>\n"
      ],
      "text/plain": []
     },
     "metadata": {},
     "output_type": "display_data"
    },
    {
     "data": {
      "text/html": [
       "<pre style=\"white-space:pre;overflow-x:auto;line-height:normal;font-family:Menlo,'DejaVu Sans Mono',consolas,'Courier New',monospace\"></pre>\n"
      ],
      "text/plain": []
     },
     "metadata": {},
     "output_type": "display_data"
    },
    {
     "data": {
      "text/html": [
       "<pre style=\"white-space:pre;overflow-x:auto;line-height:normal;font-family:Menlo,'DejaVu Sans Mono',consolas,'Courier New',monospace\"></pre>\n"
      ],
      "text/plain": []
     },
     "metadata": {},
     "output_type": "display_data"
    },
    {
     "data": {
      "text/html": [
       "<pre style=\"white-space:pre;overflow-x:auto;line-height:normal;font-family:Menlo,'DejaVu Sans Mono',consolas,'Courier New',monospace\"></pre>\n"
      ],
      "text/plain": []
     },
     "metadata": {},
     "output_type": "display_data"
    },
    {
     "data": {
      "text/html": [
       "<pre style=\"white-space:pre;overflow-x:auto;line-height:normal;font-family:Menlo,'DejaVu Sans Mono',consolas,'Courier New',monospace\"></pre>\n"
      ],
      "text/plain": []
     },
     "metadata": {},
     "output_type": "display_data"
    },
    {
     "data": {
      "text/html": [
       "<pre style=\"white-space:pre;overflow-x:auto;line-height:normal;font-family:Menlo,'DejaVu Sans Mono',consolas,'Courier New',monospace\"></pre>\n"
      ],
      "text/plain": []
     },
     "metadata": {},
     "output_type": "display_data"
    },
    {
     "data": {
      "text/html": [
       "<pre style=\"white-space:pre;overflow-x:auto;line-height:normal;font-family:Menlo,'DejaVu Sans Mono',consolas,'Courier New',monospace\"></pre>\n"
      ],
      "text/plain": []
     },
     "metadata": {},
     "output_type": "display_data"
    },
    {
     "data": {
      "text/html": [
       "<pre style=\"white-space:pre;overflow-x:auto;line-height:normal;font-family:Menlo,'DejaVu Sans Mono',consolas,'Courier New',monospace\"></pre>\n"
      ],
      "text/plain": []
     },
     "metadata": {},
     "output_type": "display_data"
    },
    {
     "data": {
      "text/html": [
       "<pre style=\"white-space:pre;overflow-x:auto;line-height:normal;font-family:Menlo,'DejaVu Sans Mono',consolas,'Courier New',monospace\"></pre>\n"
      ],
      "text/plain": []
     },
     "metadata": {},
     "output_type": "display_data"
    },
    {
     "data": {
      "text/html": [
       "<pre style=\"white-space:pre;overflow-x:auto;line-height:normal;font-family:Menlo,'DejaVu Sans Mono',consolas,'Courier New',monospace\"></pre>\n"
      ],
      "text/plain": []
     },
     "metadata": {},
     "output_type": "display_data"
    },
    {
     "data": {
      "text/html": [
       "<pre style=\"white-space:pre;overflow-x:auto;line-height:normal;font-family:Menlo,'DejaVu Sans Mono',consolas,'Courier New',monospace\"></pre>\n"
      ],
      "text/plain": []
     },
     "metadata": {},
     "output_type": "display_data"
    },
    {
     "data": {
      "text/html": [
       "<pre style=\"white-space:pre;overflow-x:auto;line-height:normal;font-family:Menlo,'DejaVu Sans Mono',consolas,'Courier New',monospace\"></pre>\n"
      ],
      "text/plain": []
     },
     "metadata": {},
     "output_type": "display_data"
    },
    {
     "data": {
      "text/html": [
       "<pre style=\"white-space:pre;overflow-x:auto;line-height:normal;font-family:Menlo,'DejaVu Sans Mono',consolas,'Courier New',monospace\"></pre>\n"
      ],
      "text/plain": []
     },
     "metadata": {},
     "output_type": "display_data"
    },
    {
     "data": {
      "text/html": [
       "<pre style=\"white-space:pre;overflow-x:auto;line-height:normal;font-family:Menlo,'DejaVu Sans Mono',consolas,'Courier New',monospace\"></pre>\n"
      ],
      "text/plain": []
     },
     "metadata": {},
     "output_type": "display_data"
    },
    {
     "data": {
      "text/html": [
       "<pre style=\"white-space:pre;overflow-x:auto;line-height:normal;font-family:Menlo,'DejaVu Sans Mono',consolas,'Courier New',monospace\"></pre>\n"
      ],
      "text/plain": []
     },
     "metadata": {},
     "output_type": "display_data"
    },
    {
     "data": {
      "text/html": [
       "<pre style=\"white-space:pre;overflow-x:auto;line-height:normal;font-family:Menlo,'DejaVu Sans Mono',consolas,'Courier New',monospace\"></pre>\n"
      ],
      "text/plain": []
     },
     "metadata": {},
     "output_type": "display_data"
    },
    {
     "data": {
      "text/html": [
       "<pre style=\"white-space:pre;overflow-x:auto;line-height:normal;font-family:Menlo,'DejaVu Sans Mono',consolas,'Courier New',monospace\"></pre>\n"
      ],
      "text/plain": []
     },
     "metadata": {},
     "output_type": "display_data"
    },
    {
     "data": {
      "text/html": [
       "<pre style=\"white-space:pre;overflow-x:auto;line-height:normal;font-family:Menlo,'DejaVu Sans Mono',consolas,'Courier New',monospace\"></pre>\n"
      ],
      "text/plain": []
     },
     "metadata": {},
     "output_type": "display_data"
    },
    {
     "data": {
      "text/html": [
       "<pre style=\"white-space:pre;overflow-x:auto;line-height:normal;font-family:Menlo,'DejaVu Sans Mono',consolas,'Courier New',monospace\"></pre>\n"
      ],
      "text/plain": []
     },
     "metadata": {},
     "output_type": "display_data"
    },
    {
     "data": {
      "text/html": [
       "<pre style=\"white-space:pre;overflow-x:auto;line-height:normal;font-family:Menlo,'DejaVu Sans Mono',consolas,'Courier New',monospace\"></pre>\n"
      ],
      "text/plain": []
     },
     "metadata": {},
     "output_type": "display_data"
    },
    {
     "data": {
      "text/html": [
       "<pre style=\"white-space:pre;overflow-x:auto;line-height:normal;font-family:Menlo,'DejaVu Sans Mono',consolas,'Courier New',monospace\"></pre>\n"
      ],
      "text/plain": []
     },
     "metadata": {},
     "output_type": "display_data"
    },
    {
     "data": {
      "text/html": [
       "<pre style=\"white-space:pre;overflow-x:auto;line-height:normal;font-family:Menlo,'DejaVu Sans Mono',consolas,'Courier New',monospace\"></pre>\n"
      ],
      "text/plain": []
     },
     "metadata": {},
     "output_type": "display_data"
    },
    {
     "data": {
      "text/html": [
       "<pre style=\"white-space:pre;overflow-x:auto;line-height:normal;font-family:Menlo,'DejaVu Sans Mono',consolas,'Courier New',monospace\"></pre>\n"
      ],
      "text/plain": []
     },
     "metadata": {},
     "output_type": "display_data"
    },
    {
     "data": {
      "text/html": [
       "<pre style=\"white-space:pre;overflow-x:auto;line-height:normal;font-family:Menlo,'DejaVu Sans Mono',consolas,'Courier New',monospace\"></pre>\n"
      ],
      "text/plain": []
     },
     "metadata": {},
     "output_type": "display_data"
    },
    {
     "data": {
      "text/html": [
       "<pre style=\"white-space:pre;overflow-x:auto;line-height:normal;font-family:Menlo,'DejaVu Sans Mono',consolas,'Courier New',monospace\"></pre>\n"
      ],
      "text/plain": []
     },
     "metadata": {},
     "output_type": "display_data"
    },
    {
     "data": {
      "text/html": [
       "<pre style=\"white-space:pre;overflow-x:auto;line-height:normal;font-family:Menlo,'DejaVu Sans Mono',consolas,'Courier New',monospace\"></pre>\n"
      ],
      "text/plain": []
     },
     "metadata": {},
     "output_type": "display_data"
    },
    {
     "data": {
      "text/html": [
       "<pre style=\"white-space:pre;overflow-x:auto;line-height:normal;font-family:Menlo,'DejaVu Sans Mono',consolas,'Courier New',monospace\"></pre>\n"
      ],
      "text/plain": []
     },
     "metadata": {},
     "output_type": "display_data"
    },
    {
     "data": {
      "text/html": [
       "<pre style=\"white-space:pre;overflow-x:auto;line-height:normal;font-family:Menlo,'DejaVu Sans Mono',consolas,'Courier New',monospace\"></pre>\n"
      ],
      "text/plain": []
     },
     "metadata": {},
     "output_type": "display_data"
    },
    {
     "data": {
      "text/html": [
       "<pre style=\"white-space:pre;overflow-x:auto;line-height:normal;font-family:Menlo,'DejaVu Sans Mono',consolas,'Courier New',monospace\"></pre>\n"
      ],
      "text/plain": []
     },
     "metadata": {},
     "output_type": "display_data"
    },
    {
     "data": {
      "text/html": [
       "<pre style=\"white-space:pre;overflow-x:auto;line-height:normal;font-family:Menlo,'DejaVu Sans Mono',consolas,'Courier New',monospace\"></pre>\n"
      ],
      "text/plain": []
     },
     "metadata": {},
     "output_type": "display_data"
    },
    {
     "data": {
      "text/html": [
       "<pre style=\"white-space:pre;overflow-x:auto;line-height:normal;font-family:Menlo,'DejaVu Sans Mono',consolas,'Courier New',monospace\"></pre>\n"
      ],
      "text/plain": []
     },
     "metadata": {},
     "output_type": "display_data"
    },
    {
     "data": {
      "text/html": [
       "<pre style=\"white-space:pre;overflow-x:auto;line-height:normal;font-family:Menlo,'DejaVu Sans Mono',consolas,'Courier New',monospace\"></pre>\n"
      ],
      "text/plain": []
     },
     "metadata": {},
     "output_type": "display_data"
    },
    {
     "data": {
      "text/html": [
       "<pre style=\"white-space:pre;overflow-x:auto;line-height:normal;font-family:Menlo,'DejaVu Sans Mono',consolas,'Courier New',monospace\"></pre>\n"
      ],
      "text/plain": []
     },
     "metadata": {},
     "output_type": "display_data"
    },
    {
     "data": {
      "text/html": [
       "<pre style=\"white-space:pre;overflow-x:auto;line-height:normal;font-family:Menlo,'DejaVu Sans Mono',consolas,'Courier New',monospace\"></pre>\n"
      ],
      "text/plain": []
     },
     "metadata": {},
     "output_type": "display_data"
    },
    {
     "data": {
      "text/html": [
       "<pre style=\"white-space:pre;overflow-x:auto;line-height:normal;font-family:Menlo,'DejaVu Sans Mono',consolas,'Courier New',monospace\"></pre>\n"
      ],
      "text/plain": []
     },
     "metadata": {},
     "output_type": "display_data"
    },
    {
     "data": {
      "text/html": [
       "<pre style=\"white-space:pre;overflow-x:auto;line-height:normal;font-family:Menlo,'DejaVu Sans Mono',consolas,'Courier New',monospace\"></pre>\n"
      ],
      "text/plain": []
     },
     "metadata": {},
     "output_type": "display_data"
    },
    {
     "data": {
      "text/html": [
       "<pre style=\"white-space:pre;overflow-x:auto;line-height:normal;font-family:Menlo,'DejaVu Sans Mono',consolas,'Courier New',monospace\"></pre>\n"
      ],
      "text/plain": []
     },
     "metadata": {},
     "output_type": "display_data"
    },
    {
     "data": {
      "text/html": [
       "<pre style=\"white-space:pre;overflow-x:auto;line-height:normal;font-family:Menlo,'DejaVu Sans Mono',consolas,'Courier New',monospace\"></pre>\n"
      ],
      "text/plain": []
     },
     "metadata": {},
     "output_type": "display_data"
    },
    {
     "data": {
      "text/html": [
       "<pre style=\"white-space:pre;overflow-x:auto;line-height:normal;font-family:Menlo,'DejaVu Sans Mono',consolas,'Courier New',monospace\"></pre>\n"
      ],
      "text/plain": []
     },
     "metadata": {},
     "output_type": "display_data"
    },
    {
     "data": {
      "text/html": [
       "<pre style=\"white-space:pre;overflow-x:auto;line-height:normal;font-family:Menlo,'DejaVu Sans Mono',consolas,'Courier New',monospace\"></pre>\n"
      ],
      "text/plain": []
     },
     "metadata": {},
     "output_type": "display_data"
    },
    {
     "data": {
      "text/html": [
       "<pre style=\"white-space:pre;overflow-x:auto;line-height:normal;font-family:Menlo,'DejaVu Sans Mono',consolas,'Courier New',monospace\"></pre>\n"
      ],
      "text/plain": []
     },
     "metadata": {},
     "output_type": "display_data"
    },
    {
     "data": {
      "text/html": [
       "<pre style=\"white-space:pre;overflow-x:auto;line-height:normal;font-family:Menlo,'DejaVu Sans Mono',consolas,'Courier New',monospace\"></pre>\n"
      ],
      "text/plain": []
     },
     "metadata": {},
     "output_type": "display_data"
    },
    {
     "data": {
      "text/html": [
       "<pre style=\"white-space:pre;overflow-x:auto;line-height:normal;font-family:Menlo,'DejaVu Sans Mono',consolas,'Courier New',monospace\"></pre>\n"
      ],
      "text/plain": []
     },
     "metadata": {},
     "output_type": "display_data"
    },
    {
     "data": {
      "text/html": [
       "<pre style=\"white-space:pre;overflow-x:auto;line-height:normal;font-family:Menlo,'DejaVu Sans Mono',consolas,'Courier New',monospace\"></pre>\n"
      ],
      "text/plain": []
     },
     "metadata": {},
     "output_type": "display_data"
    },
    {
     "data": {
      "text/html": [
       "<pre style=\"white-space:pre;overflow-x:auto;line-height:normal;font-family:Menlo,'DejaVu Sans Mono',consolas,'Courier New',monospace\"></pre>\n"
      ],
      "text/plain": []
     },
     "metadata": {},
     "output_type": "display_data"
    },
    {
     "data": {
      "text/html": [
       "<pre style=\"white-space:pre;overflow-x:auto;line-height:normal;font-family:Menlo,'DejaVu Sans Mono',consolas,'Courier New',monospace\"></pre>\n"
      ],
      "text/plain": []
     },
     "metadata": {},
     "output_type": "display_data"
    },
    {
     "data": {
      "text/html": [
       "<pre style=\"white-space:pre;overflow-x:auto;line-height:normal;font-family:Menlo,'DejaVu Sans Mono',consolas,'Courier New',monospace\"></pre>\n"
      ],
      "text/plain": []
     },
     "metadata": {},
     "output_type": "display_data"
    },
    {
     "data": {
      "text/html": [
       "<pre style=\"white-space:pre;overflow-x:auto;line-height:normal;font-family:Menlo,'DejaVu Sans Mono',consolas,'Courier New',monospace\"></pre>\n"
      ],
      "text/plain": []
     },
     "metadata": {},
     "output_type": "display_data"
    },
    {
     "data": {
      "text/html": [
       "<pre style=\"white-space:pre;overflow-x:auto;line-height:normal;font-family:Menlo,'DejaVu Sans Mono',consolas,'Courier New',monospace\"></pre>\n"
      ],
      "text/plain": []
     },
     "metadata": {},
     "output_type": "display_data"
    },
    {
     "data": {
      "text/html": [
       "<pre style=\"white-space:pre;overflow-x:auto;line-height:normal;font-family:Menlo,'DejaVu Sans Mono',consolas,'Courier New',monospace\"></pre>\n"
      ],
      "text/plain": []
     },
     "metadata": {},
     "output_type": "display_data"
    },
    {
     "data": {
      "text/html": [
       "<pre style=\"white-space:pre;overflow-x:auto;line-height:normal;font-family:Menlo,'DejaVu Sans Mono',consolas,'Courier New',monospace\"></pre>\n"
      ],
      "text/plain": []
     },
     "metadata": {},
     "output_type": "display_data"
    },
    {
     "data": {
      "text/html": [
       "<pre style=\"white-space:pre;overflow-x:auto;line-height:normal;font-family:Menlo,'DejaVu Sans Mono',consolas,'Courier New',monospace\"></pre>\n"
      ],
      "text/plain": []
     },
     "metadata": {},
     "output_type": "display_data"
    },
    {
     "data": {
      "text/html": [
       "<pre style=\"white-space:pre;overflow-x:auto;line-height:normal;font-family:Menlo,'DejaVu Sans Mono',consolas,'Courier New',monospace\"></pre>\n"
      ],
      "text/plain": []
     },
     "metadata": {},
     "output_type": "display_data"
    },
    {
     "data": {
      "text/html": [
       "<pre style=\"white-space:pre;overflow-x:auto;line-height:normal;font-family:Menlo,'DejaVu Sans Mono',consolas,'Courier New',monospace\"></pre>\n"
      ],
      "text/plain": []
     },
     "metadata": {},
     "output_type": "display_data"
    },
    {
     "data": {
      "text/html": [
       "<pre style=\"white-space:pre;overflow-x:auto;line-height:normal;font-family:Menlo,'DejaVu Sans Mono',consolas,'Courier New',monospace\"></pre>\n"
      ],
      "text/plain": []
     },
     "metadata": {},
     "output_type": "display_data"
    },
    {
     "data": {
      "text/html": [
       "<pre style=\"white-space:pre;overflow-x:auto;line-height:normal;font-family:Menlo,'DejaVu Sans Mono',consolas,'Courier New',monospace\"></pre>\n"
      ],
      "text/plain": []
     },
     "metadata": {},
     "output_type": "display_data"
    },
    {
     "data": {
      "text/html": [
       "<pre style=\"white-space:pre;overflow-x:auto;line-height:normal;font-family:Menlo,'DejaVu Sans Mono',consolas,'Courier New',monospace\"></pre>\n"
      ],
      "text/plain": []
     },
     "metadata": {},
     "output_type": "display_data"
    },
    {
     "data": {
      "text/html": [
       "<pre style=\"white-space:pre;overflow-x:auto;line-height:normal;font-family:Menlo,'DejaVu Sans Mono',consolas,'Courier New',monospace\"></pre>\n"
      ],
      "text/plain": []
     },
     "metadata": {},
     "output_type": "display_data"
    },
    {
     "data": {
      "text/html": [
       "<pre style=\"white-space:pre;overflow-x:auto;line-height:normal;font-family:Menlo,'DejaVu Sans Mono',consolas,'Courier New',monospace\"></pre>\n"
      ],
      "text/plain": []
     },
     "metadata": {},
     "output_type": "display_data"
    },
    {
     "data": {
      "text/html": [
       "<pre style=\"white-space:pre;overflow-x:auto;line-height:normal;font-family:Menlo,'DejaVu Sans Mono',consolas,'Courier New',monospace\"></pre>\n"
      ],
      "text/plain": []
     },
     "metadata": {},
     "output_type": "display_data"
    },
    {
     "data": {
      "text/html": [
       "<pre style=\"white-space:pre;overflow-x:auto;line-height:normal;font-family:Menlo,'DejaVu Sans Mono',consolas,'Courier New',monospace\"></pre>\n"
      ],
      "text/plain": []
     },
     "metadata": {},
     "output_type": "display_data"
    },
    {
     "data": {
      "text/html": [
       "<pre style=\"white-space:pre;overflow-x:auto;line-height:normal;font-family:Menlo,'DejaVu Sans Mono',consolas,'Courier New',monospace\"></pre>\n"
      ],
      "text/plain": []
     },
     "metadata": {},
     "output_type": "display_data"
    },
    {
     "data": {
      "text/html": [
       "<pre style=\"white-space:pre;overflow-x:auto;line-height:normal;font-family:Menlo,'DejaVu Sans Mono',consolas,'Courier New',monospace\"></pre>\n"
      ],
      "text/plain": []
     },
     "metadata": {},
     "output_type": "display_data"
    },
    {
     "data": {
      "text/html": [
       "<pre style=\"white-space:pre;overflow-x:auto;line-height:normal;font-family:Menlo,'DejaVu Sans Mono',consolas,'Courier New',monospace\"></pre>\n"
      ],
      "text/plain": []
     },
     "metadata": {},
     "output_type": "display_data"
    },
    {
     "data": {
      "text/html": [
       "<pre style=\"white-space:pre;overflow-x:auto;line-height:normal;font-family:Menlo,'DejaVu Sans Mono',consolas,'Courier New',monospace\"></pre>\n"
      ],
      "text/plain": []
     },
     "metadata": {},
     "output_type": "display_data"
    },
    {
     "data": {
      "text/html": [
       "<pre style=\"white-space:pre;overflow-x:auto;line-height:normal;font-family:Menlo,'DejaVu Sans Mono',consolas,'Courier New',monospace\"></pre>\n"
      ],
      "text/plain": []
     },
     "metadata": {},
     "output_type": "display_data"
    },
    {
     "data": {
      "text/html": [
       "<pre style=\"white-space:pre;overflow-x:auto;line-height:normal;font-family:Menlo,'DejaVu Sans Mono',consolas,'Courier New',monospace\"></pre>\n"
      ],
      "text/plain": []
     },
     "metadata": {},
     "output_type": "display_data"
    },
    {
     "data": {
      "text/html": [
       "<pre style=\"white-space:pre;overflow-x:auto;line-height:normal;font-family:Menlo,'DejaVu Sans Mono',consolas,'Courier New',monospace\"></pre>\n"
      ],
      "text/plain": []
     },
     "metadata": {},
     "output_type": "display_data"
    },
    {
     "data": {
      "text/html": [
       "<pre style=\"white-space:pre;overflow-x:auto;line-height:normal;font-family:Menlo,'DejaVu Sans Mono',consolas,'Courier New',monospace\"></pre>\n"
      ],
      "text/plain": []
     },
     "metadata": {},
     "output_type": "display_data"
    },
    {
     "data": {
      "text/html": [
       "<pre style=\"white-space:pre;overflow-x:auto;line-height:normal;font-family:Menlo,'DejaVu Sans Mono',consolas,'Courier New',monospace\"></pre>\n"
      ],
      "text/plain": []
     },
     "metadata": {},
     "output_type": "display_data"
    },
    {
     "data": {
      "text/html": [
       "<pre style=\"white-space:pre;overflow-x:auto;line-height:normal;font-family:Menlo,'DejaVu Sans Mono',consolas,'Courier New',monospace\"></pre>\n"
      ],
      "text/plain": []
     },
     "metadata": {},
     "output_type": "display_data"
    },
    {
     "data": {
      "text/html": [
       "<pre style=\"white-space:pre;overflow-x:auto;line-height:normal;font-family:Menlo,'DejaVu Sans Mono',consolas,'Courier New',monospace\"></pre>\n"
      ],
      "text/plain": []
     },
     "metadata": {},
     "output_type": "display_data"
    },
    {
     "data": {
      "text/html": [
       "<pre style=\"white-space:pre;overflow-x:auto;line-height:normal;font-family:Menlo,'DejaVu Sans Mono',consolas,'Courier New',monospace\"></pre>\n"
      ],
      "text/plain": []
     },
     "metadata": {},
     "output_type": "display_data"
    },
    {
     "data": {
      "text/html": [
       "<pre style=\"white-space:pre;overflow-x:auto;line-height:normal;font-family:Menlo,'DejaVu Sans Mono',consolas,'Courier New',monospace\"></pre>\n"
      ],
      "text/plain": []
     },
     "metadata": {},
     "output_type": "display_data"
    },
    {
     "data": {
      "text/html": [
       "<pre style=\"white-space:pre;overflow-x:auto;line-height:normal;font-family:Menlo,'DejaVu Sans Mono',consolas,'Courier New',monospace\"></pre>\n"
      ],
      "text/plain": []
     },
     "metadata": {},
     "output_type": "display_data"
    },
    {
     "data": {
      "text/html": [
       "<pre style=\"white-space:pre;overflow-x:auto;line-height:normal;font-family:Menlo,'DejaVu Sans Mono',consolas,'Courier New',monospace\"></pre>\n"
      ],
      "text/plain": []
     },
     "metadata": {},
     "output_type": "display_data"
    },
    {
     "data": {
      "text/html": [
       "<pre style=\"white-space:pre;overflow-x:auto;line-height:normal;font-family:Menlo,'DejaVu Sans Mono',consolas,'Courier New',monospace\"></pre>\n"
      ],
      "text/plain": []
     },
     "metadata": {},
     "output_type": "display_data"
    },
    {
     "data": {
      "text/html": [
       "<pre style=\"white-space:pre;overflow-x:auto;line-height:normal;font-family:Menlo,'DejaVu Sans Mono',consolas,'Courier New',monospace\"></pre>\n"
      ],
      "text/plain": []
     },
     "metadata": {},
     "output_type": "display_data"
    },
    {
     "data": {
      "text/html": [
       "<pre style=\"white-space:pre;overflow-x:auto;line-height:normal;font-family:Menlo,'DejaVu Sans Mono',consolas,'Courier New',monospace\"></pre>\n"
      ],
      "text/plain": []
     },
     "metadata": {},
     "output_type": "display_data"
    },
    {
     "data": {
      "text/html": [
       "<pre style=\"white-space:pre;overflow-x:auto;line-height:normal;font-family:Menlo,'DejaVu Sans Mono',consolas,'Courier New',monospace\"></pre>\n"
      ],
      "text/plain": []
     },
     "metadata": {},
     "output_type": "display_data"
    },
    {
     "data": {
      "text/html": [
       "<pre style=\"white-space:pre;overflow-x:auto;line-height:normal;font-family:Menlo,'DejaVu Sans Mono',consolas,'Courier New',monospace\"></pre>\n"
      ],
      "text/plain": []
     },
     "metadata": {},
     "output_type": "display_data"
    },
    {
     "data": {
      "text/html": [
       "<pre style=\"white-space:pre;overflow-x:auto;line-height:normal;font-family:Menlo,'DejaVu Sans Mono',consolas,'Courier New',monospace\"></pre>\n"
      ],
      "text/plain": []
     },
     "metadata": {},
     "output_type": "display_data"
    },
    {
     "data": {
      "text/html": [
       "<pre style=\"white-space:pre;overflow-x:auto;line-height:normal;font-family:Menlo,'DejaVu Sans Mono',consolas,'Courier New',monospace\"></pre>\n"
      ],
      "text/plain": []
     },
     "metadata": {},
     "output_type": "display_data"
    },
    {
     "data": {
      "text/html": [
       "<pre style=\"white-space:pre;overflow-x:auto;line-height:normal;font-family:Menlo,'DejaVu Sans Mono',consolas,'Courier New',monospace\"></pre>\n"
      ],
      "text/plain": []
     },
     "metadata": {},
     "output_type": "display_data"
    },
    {
     "data": {
      "text/html": [
       "<pre style=\"white-space:pre;overflow-x:auto;line-height:normal;font-family:Menlo,'DejaVu Sans Mono',consolas,'Courier New',monospace\"></pre>\n"
      ],
      "text/plain": []
     },
     "metadata": {},
     "output_type": "display_data"
    },
    {
     "data": {
      "text/html": [
       "<pre style=\"white-space:pre;overflow-x:auto;line-height:normal;font-family:Menlo,'DejaVu Sans Mono',consolas,'Courier New',monospace\"></pre>\n"
      ],
      "text/plain": []
     },
     "metadata": {},
     "output_type": "display_data"
    },
    {
     "data": {
      "text/html": [
       "<pre style=\"white-space:pre;overflow-x:auto;line-height:normal;font-family:Menlo,'DejaVu Sans Mono',consolas,'Courier New',monospace\"></pre>\n"
      ],
      "text/plain": []
     },
     "metadata": {},
     "output_type": "display_data"
    },
    {
     "data": {
      "text/html": [
       "<pre style=\"white-space:pre;overflow-x:auto;line-height:normal;font-family:Menlo,'DejaVu Sans Mono',consolas,'Courier New',monospace\"></pre>\n"
      ],
      "text/plain": []
     },
     "metadata": {},
     "output_type": "display_data"
    },
    {
     "data": {
      "text/html": [
       "<pre style=\"white-space:pre;overflow-x:auto;line-height:normal;font-family:Menlo,'DejaVu Sans Mono',consolas,'Courier New',monospace\"></pre>\n"
      ],
      "text/plain": []
     },
     "metadata": {},
     "output_type": "display_data"
    },
    {
     "data": {
      "text/html": [
       "<pre style=\"white-space:pre;overflow-x:auto;line-height:normal;font-family:Menlo,'DejaVu Sans Mono',consolas,'Courier New',monospace\"></pre>\n"
      ],
      "text/plain": []
     },
     "metadata": {},
     "output_type": "display_data"
    },
    {
     "data": {
      "text/html": [
       "<pre style=\"white-space:pre;overflow-x:auto;line-height:normal;font-family:Menlo,'DejaVu Sans Mono',consolas,'Courier New',monospace\"></pre>\n"
      ],
      "text/plain": []
     },
     "metadata": {},
     "output_type": "display_data"
    },
    {
     "data": {
      "text/html": [
       "<pre style=\"white-space:pre;overflow-x:auto;line-height:normal;font-family:Menlo,'DejaVu Sans Mono',consolas,'Courier New',monospace\"></pre>\n"
      ],
      "text/plain": []
     },
     "metadata": {},
     "output_type": "display_data"
    },
    {
     "data": {
      "text/html": [
       "<pre style=\"white-space:pre;overflow-x:auto;line-height:normal;font-family:Menlo,'DejaVu Sans Mono',consolas,'Courier New',monospace\"></pre>\n"
      ],
      "text/plain": []
     },
     "metadata": {},
     "output_type": "display_data"
    },
    {
     "data": {
      "text/html": [
       "<pre style=\"white-space:pre;overflow-x:auto;line-height:normal;font-family:Menlo,'DejaVu Sans Mono',consolas,'Courier New',monospace\"></pre>\n"
      ],
      "text/plain": []
     },
     "metadata": {},
     "output_type": "display_data"
    },
    {
     "data": {
      "text/html": [
       "<pre style=\"white-space:pre;overflow-x:auto;line-height:normal;font-family:Menlo,'DejaVu Sans Mono',consolas,'Courier New',monospace\"></pre>\n"
      ],
      "text/plain": []
     },
     "metadata": {},
     "output_type": "display_data"
    },
    {
     "data": {
      "text/html": [
       "<pre style=\"white-space:pre;overflow-x:auto;line-height:normal;font-family:Menlo,'DejaVu Sans Mono',consolas,'Courier New',monospace\"></pre>\n"
      ],
      "text/plain": []
     },
     "metadata": {},
     "output_type": "display_data"
    },
    {
     "data": {
      "text/html": [
       "<pre style=\"white-space:pre;overflow-x:auto;line-height:normal;font-family:Menlo,'DejaVu Sans Mono',consolas,'Courier New',monospace\"></pre>\n"
      ],
      "text/plain": []
     },
     "metadata": {},
     "output_type": "display_data"
    },
    {
     "data": {
      "text/html": [
       "<pre style=\"white-space:pre;overflow-x:auto;line-height:normal;font-family:Menlo,'DejaVu Sans Mono',consolas,'Courier New',monospace\"></pre>\n"
      ],
      "text/plain": []
     },
     "metadata": {},
     "output_type": "display_data"
    },
    {
     "data": {
      "text/html": [
       "<pre style=\"white-space:pre;overflow-x:auto;line-height:normal;font-family:Menlo,'DejaVu Sans Mono',consolas,'Courier New',monospace\"></pre>\n"
      ],
      "text/plain": []
     },
     "metadata": {},
     "output_type": "display_data"
    },
    {
     "data": {
      "text/html": [
       "<pre style=\"white-space:pre;overflow-x:auto;line-height:normal;font-family:Menlo,'DejaVu Sans Mono',consolas,'Courier New',monospace\"></pre>\n"
      ],
      "text/plain": []
     },
     "metadata": {},
     "output_type": "display_data"
    },
    {
     "data": {
      "text/html": [
       "<pre style=\"white-space:pre;overflow-x:auto;line-height:normal;font-family:Menlo,'DejaVu Sans Mono',consolas,'Courier New',monospace\"></pre>\n"
      ],
      "text/plain": []
     },
     "metadata": {},
     "output_type": "display_data"
    },
    {
     "data": {
      "text/html": [
       "<pre style=\"white-space:pre;overflow-x:auto;line-height:normal;font-family:Menlo,'DejaVu Sans Mono',consolas,'Courier New',monospace\"></pre>\n"
      ],
      "text/plain": []
     },
     "metadata": {},
     "output_type": "display_data"
    },
    {
     "data": {
      "text/html": [
       "<pre style=\"white-space:pre;overflow-x:auto;line-height:normal;font-family:Menlo,'DejaVu Sans Mono',consolas,'Courier New',monospace\"></pre>\n"
      ],
      "text/plain": []
     },
     "metadata": {},
     "output_type": "display_data"
    },
    {
     "data": {
      "text/html": [
       "<pre style=\"white-space:pre;overflow-x:auto;line-height:normal;font-family:Menlo,'DejaVu Sans Mono',consolas,'Courier New',monospace\"></pre>\n"
      ],
      "text/plain": []
     },
     "metadata": {},
     "output_type": "display_data"
    },
    {
     "data": {
      "text/html": [
       "<pre style=\"white-space:pre;overflow-x:auto;line-height:normal;font-family:Menlo,'DejaVu Sans Mono',consolas,'Courier New',monospace\"></pre>\n"
      ],
      "text/plain": []
     },
     "metadata": {},
     "output_type": "display_data"
    },
    {
     "data": {
      "text/html": [
       "<pre style=\"white-space:pre;overflow-x:auto;line-height:normal;font-family:Menlo,'DejaVu Sans Mono',consolas,'Courier New',monospace\"></pre>\n"
      ],
      "text/plain": []
     },
     "metadata": {},
     "output_type": "display_data"
    },
    {
     "data": {
      "text/html": [
       "<pre style=\"white-space:pre;overflow-x:auto;line-height:normal;font-family:Menlo,'DejaVu Sans Mono',consolas,'Courier New',monospace\"></pre>\n"
      ],
      "text/plain": []
     },
     "metadata": {},
     "output_type": "display_data"
    },
    {
     "data": {
      "text/html": [
       "<pre style=\"white-space:pre;overflow-x:auto;line-height:normal;font-family:Menlo,'DejaVu Sans Mono',consolas,'Courier New',monospace\"></pre>\n"
      ],
      "text/plain": []
     },
     "metadata": {},
     "output_type": "display_data"
    },
    {
     "data": {
      "text/html": [
       "<pre style=\"white-space:pre;overflow-x:auto;line-height:normal;font-family:Menlo,'DejaVu Sans Mono',consolas,'Courier New',monospace\"></pre>\n"
      ],
      "text/plain": []
     },
     "metadata": {},
     "output_type": "display_data"
    },
    {
     "data": {
      "text/html": [
       "<pre style=\"white-space:pre;overflow-x:auto;line-height:normal;font-family:Menlo,'DejaVu Sans Mono',consolas,'Courier New',monospace\"></pre>\n"
      ],
      "text/plain": []
     },
     "metadata": {},
     "output_type": "display_data"
    },
    {
     "data": {
      "text/html": [
       "<pre style=\"white-space:pre;overflow-x:auto;line-height:normal;font-family:Menlo,'DejaVu Sans Mono',consolas,'Courier New',monospace\"></pre>\n"
      ],
      "text/plain": []
     },
     "metadata": {},
     "output_type": "display_data"
    },
    {
     "data": {
      "text/html": [
       "<pre style=\"white-space:pre;overflow-x:auto;line-height:normal;font-family:Menlo,'DejaVu Sans Mono',consolas,'Courier New',monospace\"></pre>\n"
      ],
      "text/plain": []
     },
     "metadata": {},
     "output_type": "display_data"
    },
    {
     "data": {
      "text/html": [
       "<pre style=\"white-space:pre;overflow-x:auto;line-height:normal;font-family:Menlo,'DejaVu Sans Mono',consolas,'Courier New',monospace\"></pre>\n"
      ],
      "text/plain": []
     },
     "metadata": {},
     "output_type": "display_data"
    },
    {
     "data": {
      "text/html": [
       "<pre style=\"white-space:pre;overflow-x:auto;line-height:normal;font-family:Menlo,'DejaVu Sans Mono',consolas,'Courier New',monospace\"></pre>\n"
      ],
      "text/plain": []
     },
     "metadata": {},
     "output_type": "display_data"
    },
    {
     "data": {
      "text/html": [
       "<pre style=\"white-space:pre;overflow-x:auto;line-height:normal;font-family:Menlo,'DejaVu Sans Mono',consolas,'Courier New',monospace\"></pre>\n"
      ],
      "text/plain": []
     },
     "metadata": {},
     "output_type": "display_data"
    },
    {
     "data": {
      "text/html": [
       "<pre style=\"white-space:pre;overflow-x:auto;line-height:normal;font-family:Menlo,'DejaVu Sans Mono',consolas,'Courier New',monospace\"></pre>\n"
      ],
      "text/plain": []
     },
     "metadata": {},
     "output_type": "display_data"
    },
    {
     "data": {
      "text/html": [
       "<pre style=\"white-space:pre;overflow-x:auto;line-height:normal;font-family:Menlo,'DejaVu Sans Mono',consolas,'Courier New',monospace\"></pre>\n"
      ],
      "text/plain": []
     },
     "metadata": {},
     "output_type": "display_data"
    },
    {
     "data": {
      "text/html": [
       "<pre style=\"white-space:pre;overflow-x:auto;line-height:normal;font-family:Menlo,'DejaVu Sans Mono',consolas,'Courier New',monospace\"></pre>\n"
      ],
      "text/plain": []
     },
     "metadata": {},
     "output_type": "display_data"
    },
    {
     "data": {
      "text/html": [
       "<pre style=\"white-space:pre;overflow-x:auto;line-height:normal;font-family:Menlo,'DejaVu Sans Mono',consolas,'Courier New',monospace\"></pre>\n"
      ],
      "text/plain": []
     },
     "metadata": {},
     "output_type": "display_data"
    },
    {
     "data": {
      "text/html": [
       "<pre style=\"white-space:pre;overflow-x:auto;line-height:normal;font-family:Menlo,'DejaVu Sans Mono',consolas,'Courier New',monospace\"></pre>\n"
      ],
      "text/plain": []
     },
     "metadata": {},
     "output_type": "display_data"
    },
    {
     "data": {
      "text/html": [
       "<pre style=\"white-space:pre;overflow-x:auto;line-height:normal;font-family:Menlo,'DejaVu Sans Mono',consolas,'Courier New',monospace\"></pre>\n"
      ],
      "text/plain": []
     },
     "metadata": {},
     "output_type": "display_data"
    },
    {
     "data": {
      "text/html": [
       "<pre style=\"white-space:pre;overflow-x:auto;line-height:normal;font-family:Menlo,'DejaVu Sans Mono',consolas,'Courier New',monospace\"></pre>\n"
      ],
      "text/plain": []
     },
     "metadata": {},
     "output_type": "display_data"
    },
    {
     "data": {
      "text/html": [
       "<pre style=\"white-space:pre;overflow-x:auto;line-height:normal;font-family:Menlo,'DejaVu Sans Mono',consolas,'Courier New',monospace\"></pre>\n"
      ],
      "text/plain": []
     },
     "metadata": {},
     "output_type": "display_data"
    },
    {
     "data": {
      "text/html": [
       "<pre style=\"white-space:pre;overflow-x:auto;line-height:normal;font-family:Menlo,'DejaVu Sans Mono',consolas,'Courier New',monospace\"></pre>\n"
      ],
      "text/plain": []
     },
     "metadata": {},
     "output_type": "display_data"
    },
    {
     "data": {
      "text/html": [
       "<pre style=\"white-space:pre;overflow-x:auto;line-height:normal;font-family:Menlo,'DejaVu Sans Mono',consolas,'Courier New',monospace\"></pre>\n"
      ],
      "text/plain": []
     },
     "metadata": {},
     "output_type": "display_data"
    },
    {
     "data": {
      "text/html": [
       "<pre style=\"white-space:pre;overflow-x:auto;line-height:normal;font-family:Menlo,'DejaVu Sans Mono',consolas,'Courier New',monospace\"></pre>\n"
      ],
      "text/plain": []
     },
     "metadata": {},
     "output_type": "display_data"
    },
    {
     "data": {
      "text/html": [
       "<pre style=\"white-space:pre;overflow-x:auto;line-height:normal;font-family:Menlo,'DejaVu Sans Mono',consolas,'Courier New',monospace\"></pre>\n"
      ],
      "text/plain": []
     },
     "metadata": {},
     "output_type": "display_data"
    },
    {
     "data": {
      "text/html": [
       "<pre style=\"white-space:pre;overflow-x:auto;line-height:normal;font-family:Menlo,'DejaVu Sans Mono',consolas,'Courier New',monospace\"></pre>\n"
      ],
      "text/plain": []
     },
     "metadata": {},
     "output_type": "display_data"
    },
    {
     "data": {
      "text/html": [
       "<pre style=\"white-space:pre;overflow-x:auto;line-height:normal;font-family:Menlo,'DejaVu Sans Mono',consolas,'Courier New',monospace\"></pre>\n"
      ],
      "text/plain": []
     },
     "metadata": {},
     "output_type": "display_data"
    },
    {
     "data": {
      "text/html": [
       "<pre style=\"white-space:pre;overflow-x:auto;line-height:normal;font-family:Menlo,'DejaVu Sans Mono',consolas,'Courier New',monospace\"></pre>\n"
      ],
      "text/plain": []
     },
     "metadata": {},
     "output_type": "display_data"
    },
    {
     "data": {
      "text/html": [
       "<pre style=\"white-space:pre;overflow-x:auto;line-height:normal;font-family:Menlo,'DejaVu Sans Mono',consolas,'Courier New',monospace\"></pre>\n"
      ],
      "text/plain": []
     },
     "metadata": {},
     "output_type": "display_data"
    },
    {
     "data": {
      "text/html": [
       "<pre style=\"white-space:pre;overflow-x:auto;line-height:normal;font-family:Menlo,'DejaVu Sans Mono',consolas,'Courier New',monospace\"></pre>\n"
      ],
      "text/plain": []
     },
     "metadata": {},
     "output_type": "display_data"
    },
    {
     "data": {
      "text/html": [
       "<pre style=\"white-space:pre;overflow-x:auto;line-height:normal;font-family:Menlo,'DejaVu Sans Mono',consolas,'Courier New',monospace\"></pre>\n"
      ],
      "text/plain": []
     },
     "metadata": {},
     "output_type": "display_data"
    },
    {
     "data": {
      "text/html": [
       "<pre style=\"white-space:pre;overflow-x:auto;line-height:normal;font-family:Menlo,'DejaVu Sans Mono',consolas,'Courier New',monospace\"></pre>\n"
      ],
      "text/plain": []
     },
     "metadata": {},
     "output_type": "display_data"
    },
    {
     "data": {
      "text/html": [
       "<pre style=\"white-space:pre;overflow-x:auto;line-height:normal;font-family:Menlo,'DejaVu Sans Mono',consolas,'Courier New',monospace\"></pre>\n"
      ],
      "text/plain": []
     },
     "metadata": {},
     "output_type": "display_data"
    },
    {
     "data": {
      "text/html": [
       "<pre style=\"white-space:pre;overflow-x:auto;line-height:normal;font-family:Menlo,'DejaVu Sans Mono',consolas,'Courier New',monospace\"></pre>\n"
      ],
      "text/plain": []
     },
     "metadata": {},
     "output_type": "display_data"
    },
    {
     "data": {
      "text/html": [
       "<pre style=\"white-space:pre;overflow-x:auto;line-height:normal;font-family:Menlo,'DejaVu Sans Mono',consolas,'Courier New',monospace\"></pre>\n"
      ],
      "text/plain": []
     },
     "metadata": {},
     "output_type": "display_data"
    },
    {
     "data": {
      "text/html": [
       "<pre style=\"white-space:pre;overflow-x:auto;line-height:normal;font-family:Menlo,'DejaVu Sans Mono',consolas,'Courier New',monospace\"></pre>\n"
      ],
      "text/plain": []
     },
     "metadata": {},
     "output_type": "display_data"
    },
    {
     "data": {
      "text/html": [
       "<pre style=\"white-space:pre;overflow-x:auto;line-height:normal;font-family:Menlo,'DejaVu Sans Mono',consolas,'Courier New',monospace\"></pre>\n"
      ],
      "text/plain": []
     },
     "metadata": {},
     "output_type": "display_data"
    },
    {
     "data": {
      "text/html": [
       "<pre style=\"white-space:pre;overflow-x:auto;line-height:normal;font-family:Menlo,'DejaVu Sans Mono',consolas,'Courier New',monospace\"></pre>\n"
      ],
      "text/plain": []
     },
     "metadata": {},
     "output_type": "display_data"
    },
    {
     "data": {
      "text/html": [
       "<pre style=\"white-space:pre;overflow-x:auto;line-height:normal;font-family:Menlo,'DejaVu Sans Mono',consolas,'Courier New',monospace\"></pre>\n"
      ],
      "text/plain": []
     },
     "metadata": {},
     "output_type": "display_data"
    },
    {
     "data": {
      "text/html": [
       "<pre style=\"white-space:pre;overflow-x:auto;line-height:normal;font-family:Menlo,'DejaVu Sans Mono',consolas,'Courier New',monospace\"></pre>\n"
      ],
      "text/plain": []
     },
     "metadata": {},
     "output_type": "display_data"
    },
    {
     "data": {
      "text/html": [
       "<pre style=\"white-space:pre;overflow-x:auto;line-height:normal;font-family:Menlo,'DejaVu Sans Mono',consolas,'Courier New',monospace\"></pre>\n"
      ],
      "text/plain": []
     },
     "metadata": {},
     "output_type": "display_data"
    },
    {
     "data": {
      "text/html": [
       "<pre style=\"white-space:pre;overflow-x:auto;line-height:normal;font-family:Menlo,'DejaVu Sans Mono',consolas,'Courier New',monospace\"></pre>\n"
      ],
      "text/plain": []
     },
     "metadata": {},
     "output_type": "display_data"
    },
    {
     "data": {
      "text/html": [
       "<pre style=\"white-space:pre;overflow-x:auto;line-height:normal;font-family:Menlo,'DejaVu Sans Mono',consolas,'Courier New',monospace\"></pre>\n"
      ],
      "text/plain": []
     },
     "metadata": {},
     "output_type": "display_data"
    },
    {
     "data": {
      "text/html": [
       "<pre style=\"white-space:pre;overflow-x:auto;line-height:normal;font-family:Menlo,'DejaVu Sans Mono',consolas,'Courier New',monospace\"></pre>\n"
      ],
      "text/plain": []
     },
     "metadata": {},
     "output_type": "display_data"
    },
    {
     "data": {
      "text/html": [
       "<pre style=\"white-space:pre;overflow-x:auto;line-height:normal;font-family:Menlo,'DejaVu Sans Mono',consolas,'Courier New',monospace\"></pre>\n"
      ],
      "text/plain": []
     },
     "metadata": {},
     "output_type": "display_data"
    },
    {
     "data": {
      "text/html": [
       "<pre style=\"white-space:pre;overflow-x:auto;line-height:normal;font-family:Menlo,'DejaVu Sans Mono',consolas,'Courier New',monospace\"></pre>\n"
      ],
      "text/plain": []
     },
     "metadata": {},
     "output_type": "display_data"
    },
    {
     "data": {
      "text/html": [
       "<pre style=\"white-space:pre;overflow-x:auto;line-height:normal;font-family:Menlo,'DejaVu Sans Mono',consolas,'Courier New',monospace\"></pre>\n"
      ],
      "text/plain": []
     },
     "metadata": {},
     "output_type": "display_data"
    },
    {
     "data": {
      "text/html": [
       "<pre style=\"white-space:pre;overflow-x:auto;line-height:normal;font-family:Menlo,'DejaVu Sans Mono',consolas,'Courier New',monospace\"></pre>\n"
      ],
      "text/plain": []
     },
     "metadata": {},
     "output_type": "display_data"
    },
    {
     "data": {
      "text/html": [
       "<pre style=\"white-space:pre;overflow-x:auto;line-height:normal;font-family:Menlo,'DejaVu Sans Mono',consolas,'Courier New',monospace\"></pre>\n"
      ],
      "text/plain": []
     },
     "metadata": {},
     "output_type": "display_data"
    },
    {
     "data": {
      "text/html": [
       "<pre style=\"white-space:pre;overflow-x:auto;line-height:normal;font-family:Menlo,'DejaVu Sans Mono',consolas,'Courier New',monospace\"></pre>\n"
      ],
      "text/plain": []
     },
     "metadata": {},
     "output_type": "display_data"
    },
    {
     "data": {
      "text/html": [
       "<pre style=\"white-space:pre;overflow-x:auto;line-height:normal;font-family:Menlo,'DejaVu Sans Mono',consolas,'Courier New',monospace\"></pre>\n"
      ],
      "text/plain": []
     },
     "metadata": {},
     "output_type": "display_data"
    },
    {
     "data": {
      "text/html": [
       "<pre style=\"white-space:pre;overflow-x:auto;line-height:normal;font-family:Menlo,'DejaVu Sans Mono',consolas,'Courier New',monospace\"></pre>\n"
      ],
      "text/plain": []
     },
     "metadata": {},
     "output_type": "display_data"
    },
    {
     "data": {
      "text/html": [
       "<pre style=\"white-space:pre;overflow-x:auto;line-height:normal;font-family:Menlo,'DejaVu Sans Mono',consolas,'Courier New',monospace\"></pre>\n"
      ],
      "text/plain": []
     },
     "metadata": {},
     "output_type": "display_data"
    },
    {
     "data": {
      "text/html": [
       "<pre style=\"white-space:pre;overflow-x:auto;line-height:normal;font-family:Menlo,'DejaVu Sans Mono',consolas,'Courier New',monospace\"></pre>\n"
      ],
      "text/plain": []
     },
     "metadata": {},
     "output_type": "display_data"
    },
    {
     "data": {
      "text/html": [
       "<pre style=\"white-space:pre;overflow-x:auto;line-height:normal;font-family:Menlo,'DejaVu Sans Mono',consolas,'Courier New',monospace\"></pre>\n"
      ],
      "text/plain": []
     },
     "metadata": {},
     "output_type": "display_data"
    },
    {
     "data": {
      "text/html": [
       "<pre style=\"white-space:pre;overflow-x:auto;line-height:normal;font-family:Menlo,'DejaVu Sans Mono',consolas,'Courier New',monospace\"></pre>\n"
      ],
      "text/plain": []
     },
     "metadata": {},
     "output_type": "display_data"
    },
    {
     "data": {
      "text/html": [
       "<pre style=\"white-space:pre;overflow-x:auto;line-height:normal;font-family:Menlo,'DejaVu Sans Mono',consolas,'Courier New',monospace\"></pre>\n"
      ],
      "text/plain": []
     },
     "metadata": {},
     "output_type": "display_data"
    },
    {
     "data": {
      "text/html": [
       "<pre style=\"white-space:pre;overflow-x:auto;line-height:normal;font-family:Menlo,'DejaVu Sans Mono',consolas,'Courier New',monospace\"></pre>\n"
      ],
      "text/plain": []
     },
     "metadata": {},
     "output_type": "display_data"
    },
    {
     "data": {
      "text/html": [
       "<pre style=\"white-space:pre;overflow-x:auto;line-height:normal;font-family:Menlo,'DejaVu Sans Mono',consolas,'Courier New',monospace\"></pre>\n"
      ],
      "text/plain": []
     },
     "metadata": {},
     "output_type": "display_data"
    },
    {
     "data": {
      "text/html": [
       "<pre style=\"white-space:pre;overflow-x:auto;line-height:normal;font-family:Menlo,'DejaVu Sans Mono',consolas,'Courier New',monospace\"></pre>\n"
      ],
      "text/plain": []
     },
     "metadata": {},
     "output_type": "display_data"
    },
    {
     "data": {
      "text/html": [
       "<pre style=\"white-space:pre;overflow-x:auto;line-height:normal;font-family:Menlo,'DejaVu Sans Mono',consolas,'Courier New',monospace\"></pre>\n"
      ],
      "text/plain": []
     },
     "metadata": {},
     "output_type": "display_data"
    },
    {
     "data": {
      "text/html": [
       "<pre style=\"white-space:pre;overflow-x:auto;line-height:normal;font-family:Menlo,'DejaVu Sans Mono',consolas,'Courier New',monospace\"></pre>\n"
      ],
      "text/plain": []
     },
     "metadata": {},
     "output_type": "display_data"
    },
    {
     "data": {
      "text/html": [
       "<pre style=\"white-space:pre;overflow-x:auto;line-height:normal;font-family:Menlo,'DejaVu Sans Mono',consolas,'Courier New',monospace\"></pre>\n"
      ],
      "text/plain": []
     },
     "metadata": {},
     "output_type": "display_data"
    },
    {
     "data": {
      "text/html": [
       "<pre style=\"white-space:pre;overflow-x:auto;line-height:normal;font-family:Menlo,'DejaVu Sans Mono',consolas,'Courier New',monospace\"></pre>\n"
      ],
      "text/plain": []
     },
     "metadata": {},
     "output_type": "display_data"
    },
    {
     "data": {
      "text/html": [
       "<pre style=\"white-space:pre;overflow-x:auto;line-height:normal;font-family:Menlo,'DejaVu Sans Mono',consolas,'Courier New',monospace\"></pre>\n"
      ],
      "text/plain": []
     },
     "metadata": {},
     "output_type": "display_data"
    },
    {
     "data": {
      "text/html": [
       "<pre style=\"white-space:pre;overflow-x:auto;line-height:normal;font-family:Menlo,'DejaVu Sans Mono',consolas,'Courier New',monospace\"></pre>\n"
      ],
      "text/plain": []
     },
     "metadata": {},
     "output_type": "display_data"
    },
    {
     "data": {
      "text/html": [
       "<pre style=\"white-space:pre;overflow-x:auto;line-height:normal;font-family:Menlo,'DejaVu Sans Mono',consolas,'Courier New',monospace\"></pre>\n"
      ],
      "text/plain": []
     },
     "metadata": {},
     "output_type": "display_data"
    },
    {
     "data": {
      "text/html": [
       "<pre style=\"white-space:pre;overflow-x:auto;line-height:normal;font-family:Menlo,'DejaVu Sans Mono',consolas,'Courier New',monospace\"></pre>\n"
      ],
      "text/plain": []
     },
     "metadata": {},
     "output_type": "display_data"
    },
    {
     "data": {
      "text/html": [
       "<pre style=\"white-space:pre;overflow-x:auto;line-height:normal;font-family:Menlo,'DejaVu Sans Mono',consolas,'Courier New',monospace\"></pre>\n"
      ],
      "text/plain": []
     },
     "metadata": {},
     "output_type": "display_data"
    },
    {
     "data": {
      "text/html": [
       "<pre style=\"white-space:pre;overflow-x:auto;line-height:normal;font-family:Menlo,'DejaVu Sans Mono',consolas,'Courier New',monospace\"></pre>\n"
      ],
      "text/plain": []
     },
     "metadata": {},
     "output_type": "display_data"
    },
    {
     "data": {
      "text/html": [
       "<pre style=\"white-space:pre;overflow-x:auto;line-height:normal;font-family:Menlo,'DejaVu Sans Mono',consolas,'Courier New',monospace\"></pre>\n"
      ],
      "text/plain": []
     },
     "metadata": {},
     "output_type": "display_data"
    },
    {
     "data": {
      "text/html": [
       "<pre style=\"white-space:pre;overflow-x:auto;line-height:normal;font-family:Menlo,'DejaVu Sans Mono',consolas,'Courier New',monospace\"></pre>\n"
      ],
      "text/plain": []
     },
     "metadata": {},
     "output_type": "display_data"
    },
    {
     "data": {
      "text/html": [
       "<pre style=\"white-space:pre;overflow-x:auto;line-height:normal;font-family:Menlo,'DejaVu Sans Mono',consolas,'Courier New',monospace\"></pre>\n"
      ],
      "text/plain": []
     },
     "metadata": {},
     "output_type": "display_data"
    },
    {
     "data": {
      "text/html": [
       "<pre style=\"white-space:pre;overflow-x:auto;line-height:normal;font-family:Menlo,'DejaVu Sans Mono',consolas,'Courier New',monospace\"></pre>\n"
      ],
      "text/plain": []
     },
     "metadata": {},
     "output_type": "display_data"
    },
    {
     "data": {
      "text/html": [
       "<pre style=\"white-space:pre;overflow-x:auto;line-height:normal;font-family:Menlo,'DejaVu Sans Mono',consolas,'Courier New',monospace\"></pre>\n"
      ],
      "text/plain": []
     },
     "metadata": {},
     "output_type": "display_data"
    },
    {
     "data": {
      "text/html": [
       "<pre style=\"white-space:pre;overflow-x:auto;line-height:normal;font-family:Menlo,'DejaVu Sans Mono',consolas,'Courier New',monospace\"></pre>\n"
      ],
      "text/plain": []
     },
     "metadata": {},
     "output_type": "display_data"
    },
    {
     "data": {
      "text/html": [
       "<pre style=\"white-space:pre;overflow-x:auto;line-height:normal;font-family:Menlo,'DejaVu Sans Mono',consolas,'Courier New',monospace\"></pre>\n"
      ],
      "text/plain": []
     },
     "metadata": {},
     "output_type": "display_data"
    },
    {
     "data": {
      "text/html": [
       "<pre style=\"white-space:pre;overflow-x:auto;line-height:normal;font-family:Menlo,'DejaVu Sans Mono',consolas,'Courier New',monospace\"></pre>\n"
      ],
      "text/plain": []
     },
     "metadata": {},
     "output_type": "display_data"
    },
    {
     "data": {
      "text/html": [
       "<pre style=\"white-space:pre;overflow-x:auto;line-height:normal;font-family:Menlo,'DejaVu Sans Mono',consolas,'Courier New',monospace\"></pre>\n"
      ],
      "text/plain": []
     },
     "metadata": {},
     "output_type": "display_data"
    },
    {
     "data": {
      "text/html": [
       "<pre style=\"white-space:pre;overflow-x:auto;line-height:normal;font-family:Menlo,'DejaVu Sans Mono',consolas,'Courier New',monospace\"></pre>\n"
      ],
      "text/plain": []
     },
     "metadata": {},
     "output_type": "display_data"
    },
    {
     "data": {
      "text/html": [
       "<pre style=\"white-space:pre;overflow-x:auto;line-height:normal;font-family:Menlo,'DejaVu Sans Mono',consolas,'Courier New',monospace\"></pre>\n"
      ],
      "text/plain": []
     },
     "metadata": {},
     "output_type": "display_data"
    },
    {
     "data": {
      "text/html": [
       "<pre style=\"white-space:pre;overflow-x:auto;line-height:normal;font-family:Menlo,'DejaVu Sans Mono',consolas,'Courier New',monospace\"></pre>\n"
      ],
      "text/plain": []
     },
     "metadata": {},
     "output_type": "display_data"
    },
    {
     "data": {
      "text/html": [
       "<pre style=\"white-space:pre;overflow-x:auto;line-height:normal;font-family:Menlo,'DejaVu Sans Mono',consolas,'Courier New',monospace\"></pre>\n"
      ],
      "text/plain": []
     },
     "metadata": {},
     "output_type": "display_data"
    },
    {
     "data": {
      "text/html": [
       "<pre style=\"white-space:pre;overflow-x:auto;line-height:normal;font-family:Menlo,'DejaVu Sans Mono',consolas,'Courier New',monospace\"></pre>\n"
      ],
      "text/plain": []
     },
     "metadata": {},
     "output_type": "display_data"
    },
    {
     "data": {
      "text/html": [
       "<pre style=\"white-space:pre;overflow-x:auto;line-height:normal;font-family:Menlo,'DejaVu Sans Mono',consolas,'Courier New',monospace\"></pre>\n"
      ],
      "text/plain": []
     },
     "metadata": {},
     "output_type": "display_data"
    },
    {
     "data": {
      "text/html": [
       "<pre style=\"white-space:pre;overflow-x:auto;line-height:normal;font-family:Menlo,'DejaVu Sans Mono',consolas,'Courier New',monospace\"></pre>\n"
      ],
      "text/plain": []
     },
     "metadata": {},
     "output_type": "display_data"
    },
    {
     "data": {
      "text/html": [
       "<pre style=\"white-space:pre;overflow-x:auto;line-height:normal;font-family:Menlo,'DejaVu Sans Mono',consolas,'Courier New',monospace\"></pre>\n"
      ],
      "text/plain": []
     },
     "metadata": {},
     "output_type": "display_data"
    },
    {
     "data": {
      "text/html": [
       "<pre style=\"white-space:pre;overflow-x:auto;line-height:normal;font-family:Menlo,'DejaVu Sans Mono',consolas,'Courier New',monospace\"></pre>\n"
      ],
      "text/plain": []
     },
     "metadata": {},
     "output_type": "display_data"
    },
    {
     "data": {
      "text/html": [
       "<pre style=\"white-space:pre;overflow-x:auto;line-height:normal;font-family:Menlo,'DejaVu Sans Mono',consolas,'Courier New',monospace\"></pre>\n"
      ],
      "text/plain": []
     },
     "metadata": {},
     "output_type": "display_data"
    },
    {
     "data": {
      "text/html": [
       "<pre style=\"white-space:pre;overflow-x:auto;line-height:normal;font-family:Menlo,'DejaVu Sans Mono',consolas,'Courier New',monospace\"></pre>\n"
      ],
      "text/plain": []
     },
     "metadata": {},
     "output_type": "display_data"
    },
    {
     "data": {
      "text/html": [
       "<pre style=\"white-space:pre;overflow-x:auto;line-height:normal;font-family:Menlo,'DejaVu Sans Mono',consolas,'Courier New',monospace\"></pre>\n"
      ],
      "text/plain": []
     },
     "metadata": {},
     "output_type": "display_data"
    },
    {
     "data": {
      "text/html": [
       "<pre style=\"white-space:pre;overflow-x:auto;line-height:normal;font-family:Menlo,'DejaVu Sans Mono',consolas,'Courier New',monospace\"></pre>\n"
      ],
      "text/plain": []
     },
     "metadata": {},
     "output_type": "display_data"
    },
    {
     "data": {
      "text/html": [
       "<pre style=\"white-space:pre;overflow-x:auto;line-height:normal;font-family:Menlo,'DejaVu Sans Mono',consolas,'Courier New',monospace\"></pre>\n"
      ],
      "text/plain": []
     },
     "metadata": {},
     "output_type": "display_data"
    },
    {
     "data": {
      "text/html": [
       "<pre style=\"white-space:pre;overflow-x:auto;line-height:normal;font-family:Menlo,'DejaVu Sans Mono',consolas,'Courier New',monospace\"></pre>\n"
      ],
      "text/plain": []
     },
     "metadata": {},
     "output_type": "display_data"
    },
    {
     "data": {
      "text/html": [
       "<pre style=\"white-space:pre;overflow-x:auto;line-height:normal;font-family:Menlo,'DejaVu Sans Mono',consolas,'Courier New',monospace\"></pre>\n"
      ],
      "text/plain": []
     },
     "metadata": {},
     "output_type": "display_data"
    },
    {
     "data": {
      "text/html": [
       "<pre style=\"white-space:pre;overflow-x:auto;line-height:normal;font-family:Menlo,'DejaVu Sans Mono',consolas,'Courier New',monospace\"></pre>\n"
      ],
      "text/plain": []
     },
     "metadata": {},
     "output_type": "display_data"
    },
    {
     "data": {
      "text/html": [
       "<pre style=\"white-space:pre;overflow-x:auto;line-height:normal;font-family:Menlo,'DejaVu Sans Mono',consolas,'Courier New',monospace\"></pre>\n"
      ],
      "text/plain": []
     },
     "metadata": {},
     "output_type": "display_data"
    },
    {
     "data": {
      "text/html": [
       "<pre style=\"white-space:pre;overflow-x:auto;line-height:normal;font-family:Menlo,'DejaVu Sans Mono',consolas,'Courier New',monospace\"></pre>\n"
      ],
      "text/plain": []
     },
     "metadata": {},
     "output_type": "display_data"
    },
    {
     "data": {
      "text/html": [
       "<pre style=\"white-space:pre;overflow-x:auto;line-height:normal;font-family:Menlo,'DejaVu Sans Mono',consolas,'Courier New',monospace\"></pre>\n"
      ],
      "text/plain": []
     },
     "metadata": {},
     "output_type": "display_data"
    },
    {
     "data": {
      "text/html": [
       "<pre style=\"white-space:pre;overflow-x:auto;line-height:normal;font-family:Menlo,'DejaVu Sans Mono',consolas,'Courier New',monospace\"></pre>\n"
      ],
      "text/plain": []
     },
     "metadata": {},
     "output_type": "display_data"
    },
    {
     "data": {
      "text/html": [
       "<pre style=\"white-space:pre;overflow-x:auto;line-height:normal;font-family:Menlo,'DejaVu Sans Mono',consolas,'Courier New',monospace\"></pre>\n"
      ],
      "text/plain": []
     },
     "metadata": {},
     "output_type": "display_data"
    },
    {
     "data": {
      "text/html": [
       "<pre style=\"white-space:pre;overflow-x:auto;line-height:normal;font-family:Menlo,'DejaVu Sans Mono',consolas,'Courier New',monospace\"></pre>\n"
      ],
      "text/plain": []
     },
     "metadata": {},
     "output_type": "display_data"
    },
    {
     "data": {
      "text/html": [
       "<pre style=\"white-space:pre;overflow-x:auto;line-height:normal;font-family:Menlo,'DejaVu Sans Mono',consolas,'Courier New',monospace\"></pre>\n"
      ],
      "text/plain": []
     },
     "metadata": {},
     "output_type": "display_data"
    },
    {
     "data": {
      "text/html": [
       "<pre style=\"white-space:pre;overflow-x:auto;line-height:normal;font-family:Menlo,'DejaVu Sans Mono',consolas,'Courier New',monospace\"></pre>\n"
      ],
      "text/plain": []
     },
     "metadata": {},
     "output_type": "display_data"
    },
    {
     "data": {
      "text/html": [
       "<pre style=\"white-space:pre;overflow-x:auto;line-height:normal;font-family:Menlo,'DejaVu Sans Mono',consolas,'Courier New',monospace\"></pre>\n"
      ],
      "text/plain": []
     },
     "metadata": {},
     "output_type": "display_data"
    },
    {
     "data": {
      "text/html": [
       "<pre style=\"white-space:pre;overflow-x:auto;line-height:normal;font-family:Menlo,'DejaVu Sans Mono',consolas,'Courier New',monospace\"></pre>\n"
      ],
      "text/plain": []
     },
     "metadata": {},
     "output_type": "display_data"
    },
    {
     "data": {
      "text/html": [
       "<pre style=\"white-space:pre;overflow-x:auto;line-height:normal;font-family:Menlo,'DejaVu Sans Mono',consolas,'Courier New',monospace\"></pre>\n"
      ],
      "text/plain": []
     },
     "metadata": {},
     "output_type": "display_data"
    },
    {
     "data": {
      "text/html": [
       "<pre style=\"white-space:pre;overflow-x:auto;line-height:normal;font-family:Menlo,'DejaVu Sans Mono',consolas,'Courier New',monospace\"></pre>\n"
      ],
      "text/plain": []
     },
     "metadata": {},
     "output_type": "display_data"
    },
    {
     "data": {
      "text/html": [
       "<pre style=\"white-space:pre;overflow-x:auto;line-height:normal;font-family:Menlo,'DejaVu Sans Mono',consolas,'Courier New',monospace\"></pre>\n"
      ],
      "text/plain": []
     },
     "metadata": {},
     "output_type": "display_data"
    },
    {
     "data": {
      "text/html": [
       "<pre style=\"white-space:pre;overflow-x:auto;line-height:normal;font-family:Menlo,'DejaVu Sans Mono',consolas,'Courier New',monospace\"></pre>\n"
      ],
      "text/plain": []
     },
     "metadata": {},
     "output_type": "display_data"
    },
    {
     "data": {
      "text/html": [
       "<pre style=\"white-space:pre;overflow-x:auto;line-height:normal;font-family:Menlo,'DejaVu Sans Mono',consolas,'Courier New',monospace\"></pre>\n"
      ],
      "text/plain": []
     },
     "metadata": {},
     "output_type": "display_data"
    },
    {
     "data": {
      "text/html": [
       "<pre style=\"white-space:pre;overflow-x:auto;line-height:normal;font-family:Menlo,'DejaVu Sans Mono',consolas,'Courier New',monospace\"></pre>\n"
      ],
      "text/plain": []
     },
     "metadata": {},
     "output_type": "display_data"
    },
    {
     "data": {
      "text/html": [
       "<pre style=\"white-space:pre;overflow-x:auto;line-height:normal;font-family:Menlo,'DejaVu Sans Mono',consolas,'Courier New',monospace\"></pre>\n"
      ],
      "text/plain": []
     },
     "metadata": {},
     "output_type": "display_data"
    },
    {
     "data": {
      "text/html": [
       "<pre style=\"white-space:pre;overflow-x:auto;line-height:normal;font-family:Menlo,'DejaVu Sans Mono',consolas,'Courier New',monospace\"></pre>\n"
      ],
      "text/plain": []
     },
     "metadata": {},
     "output_type": "display_data"
    },
    {
     "data": {
      "text/html": [
       "<pre style=\"white-space:pre;overflow-x:auto;line-height:normal;font-family:Menlo,'DejaVu Sans Mono',consolas,'Courier New',monospace\"></pre>\n"
      ],
      "text/plain": []
     },
     "metadata": {},
     "output_type": "display_data"
    },
    {
     "data": {
      "text/html": [
       "<pre style=\"white-space:pre;overflow-x:auto;line-height:normal;font-family:Menlo,'DejaVu Sans Mono',consolas,'Courier New',monospace\"></pre>\n"
      ],
      "text/plain": []
     },
     "metadata": {},
     "output_type": "display_data"
    },
    {
     "data": {
      "text/html": [
       "<pre style=\"white-space:pre;overflow-x:auto;line-height:normal;font-family:Menlo,'DejaVu Sans Mono',consolas,'Courier New',monospace\"></pre>\n"
      ],
      "text/plain": []
     },
     "metadata": {},
     "output_type": "display_data"
    },
    {
     "data": {
      "text/html": [
       "<pre style=\"white-space:pre;overflow-x:auto;line-height:normal;font-family:Menlo,'DejaVu Sans Mono',consolas,'Courier New',monospace\"></pre>\n"
      ],
      "text/plain": []
     },
     "metadata": {},
     "output_type": "display_data"
    },
    {
     "data": {
      "text/html": [
       "<pre style=\"white-space:pre;overflow-x:auto;line-height:normal;font-family:Menlo,'DejaVu Sans Mono',consolas,'Courier New',monospace\"></pre>\n"
      ],
      "text/plain": []
     },
     "metadata": {},
     "output_type": "display_data"
    },
    {
     "data": {
      "text/html": [
       "<pre style=\"white-space:pre;overflow-x:auto;line-height:normal;font-family:Menlo,'DejaVu Sans Mono',consolas,'Courier New',monospace\"></pre>\n"
      ],
      "text/plain": []
     },
     "metadata": {},
     "output_type": "display_data"
    },
    {
     "data": {
      "text/html": [
       "<pre style=\"white-space:pre;overflow-x:auto;line-height:normal;font-family:Menlo,'DejaVu Sans Mono',consolas,'Courier New',monospace\"></pre>\n"
      ],
      "text/plain": []
     },
     "metadata": {},
     "output_type": "display_data"
    },
    {
     "data": {
      "text/html": [
       "<pre style=\"white-space:pre;overflow-x:auto;line-height:normal;font-family:Menlo,'DejaVu Sans Mono',consolas,'Courier New',monospace\"></pre>\n"
      ],
      "text/plain": []
     },
     "metadata": {},
     "output_type": "display_data"
    },
    {
     "data": {
      "text/html": [
       "<pre style=\"white-space:pre;overflow-x:auto;line-height:normal;font-family:Menlo,'DejaVu Sans Mono',consolas,'Courier New',monospace\"></pre>\n"
      ],
      "text/plain": []
     },
     "metadata": {},
     "output_type": "display_data"
    },
    {
     "data": {
      "text/html": [
       "<pre style=\"white-space:pre;overflow-x:auto;line-height:normal;font-family:Menlo,'DejaVu Sans Mono',consolas,'Courier New',monospace\"></pre>\n"
      ],
      "text/plain": []
     },
     "metadata": {},
     "output_type": "display_data"
    },
    {
     "data": {
      "text/html": [
       "<pre style=\"white-space:pre;overflow-x:auto;line-height:normal;font-family:Menlo,'DejaVu Sans Mono',consolas,'Courier New',monospace\"></pre>\n"
      ],
      "text/plain": []
     },
     "metadata": {},
     "output_type": "display_data"
    },
    {
     "data": {
      "text/html": [
       "<pre style=\"white-space:pre;overflow-x:auto;line-height:normal;font-family:Menlo,'DejaVu Sans Mono',consolas,'Courier New',monospace\"></pre>\n"
      ],
      "text/plain": []
     },
     "metadata": {},
     "output_type": "display_data"
    },
    {
     "data": {
      "text/html": [
       "<pre style=\"white-space:pre;overflow-x:auto;line-height:normal;font-family:Menlo,'DejaVu Sans Mono',consolas,'Courier New',monospace\"></pre>\n"
      ],
      "text/plain": []
     },
     "metadata": {},
     "output_type": "display_data"
    },
    {
     "data": {
      "text/html": [
       "<pre style=\"white-space:pre;overflow-x:auto;line-height:normal;font-family:Menlo,'DejaVu Sans Mono',consolas,'Courier New',monospace\"></pre>\n"
      ],
      "text/plain": []
     },
     "metadata": {},
     "output_type": "display_data"
    },
    {
     "data": {
      "text/html": [
       "<pre style=\"white-space:pre;overflow-x:auto;line-height:normal;font-family:Menlo,'DejaVu Sans Mono',consolas,'Courier New',monospace\"></pre>\n"
      ],
      "text/plain": []
     },
     "metadata": {},
     "output_type": "display_data"
    },
    {
     "data": {
      "text/html": [
       "<pre style=\"white-space:pre;overflow-x:auto;line-height:normal;font-family:Menlo,'DejaVu Sans Mono',consolas,'Courier New',monospace\"></pre>\n"
      ],
      "text/plain": []
     },
     "metadata": {},
     "output_type": "display_data"
    },
    {
     "data": {
      "text/html": [
       "<pre style=\"white-space:pre;overflow-x:auto;line-height:normal;font-family:Menlo,'DejaVu Sans Mono',consolas,'Courier New',monospace\"></pre>\n"
      ],
      "text/plain": []
     },
     "metadata": {},
     "output_type": "display_data"
    },
    {
     "data": {
      "text/html": [
       "<pre style=\"white-space:pre;overflow-x:auto;line-height:normal;font-family:Menlo,'DejaVu Sans Mono',consolas,'Courier New',monospace\"></pre>\n"
      ],
      "text/plain": []
     },
     "metadata": {},
     "output_type": "display_data"
    },
    {
     "data": {
      "text/html": [
       "<pre style=\"white-space:pre;overflow-x:auto;line-height:normal;font-family:Menlo,'DejaVu Sans Mono',consolas,'Courier New',monospace\"></pre>\n"
      ],
      "text/plain": []
     },
     "metadata": {},
     "output_type": "display_data"
    },
    {
     "data": {
      "text/html": [
       "<pre style=\"white-space:pre;overflow-x:auto;line-height:normal;font-family:Menlo,'DejaVu Sans Mono',consolas,'Courier New',monospace\"></pre>\n"
      ],
      "text/plain": []
     },
     "metadata": {},
     "output_type": "display_data"
    },
    {
     "data": {
      "text/html": [
       "<pre style=\"white-space:pre;overflow-x:auto;line-height:normal;font-family:Menlo,'DejaVu Sans Mono',consolas,'Courier New',monospace\"></pre>\n"
      ],
      "text/plain": []
     },
     "metadata": {},
     "output_type": "display_data"
    },
    {
     "data": {
      "text/html": [
       "<pre style=\"white-space:pre;overflow-x:auto;line-height:normal;font-family:Menlo,'DejaVu Sans Mono',consolas,'Courier New',monospace\"></pre>\n"
      ],
      "text/plain": []
     },
     "metadata": {},
     "output_type": "display_data"
    },
    {
     "data": {
      "text/html": [
       "<pre style=\"white-space:pre;overflow-x:auto;line-height:normal;font-family:Menlo,'DejaVu Sans Mono',consolas,'Courier New',monospace\"></pre>\n"
      ],
      "text/plain": []
     },
     "metadata": {},
     "output_type": "display_data"
    },
    {
     "data": {
      "text/html": [
       "<pre style=\"white-space:pre;overflow-x:auto;line-height:normal;font-family:Menlo,'DejaVu Sans Mono',consolas,'Courier New',monospace\"></pre>\n"
      ],
      "text/plain": []
     },
     "metadata": {},
     "output_type": "display_data"
    },
    {
     "data": {
      "text/html": [
       "<pre style=\"white-space:pre;overflow-x:auto;line-height:normal;font-family:Menlo,'DejaVu Sans Mono',consolas,'Courier New',monospace\"></pre>\n"
      ],
      "text/plain": []
     },
     "metadata": {},
     "output_type": "display_data"
    },
    {
     "data": {
      "text/html": [
       "<pre style=\"white-space:pre;overflow-x:auto;line-height:normal;font-family:Menlo,'DejaVu Sans Mono',consolas,'Courier New',monospace\"></pre>\n"
      ],
      "text/plain": []
     },
     "metadata": {},
     "output_type": "display_data"
    },
    {
     "data": {
      "text/html": [
       "<pre style=\"white-space:pre;overflow-x:auto;line-height:normal;font-family:Menlo,'DejaVu Sans Mono',consolas,'Courier New',monospace\"></pre>\n"
      ],
      "text/plain": []
     },
     "metadata": {},
     "output_type": "display_data"
    },
    {
     "data": {
      "text/html": [
       "<pre style=\"white-space:pre;overflow-x:auto;line-height:normal;font-family:Menlo,'DejaVu Sans Mono',consolas,'Courier New',monospace\"></pre>\n"
      ],
      "text/plain": []
     },
     "metadata": {},
     "output_type": "display_data"
    },
    {
     "data": {
      "text/html": [
       "<pre style=\"white-space:pre;overflow-x:auto;line-height:normal;font-family:Menlo,'DejaVu Sans Mono',consolas,'Courier New',monospace\"></pre>\n"
      ],
      "text/plain": []
     },
     "metadata": {},
     "output_type": "display_data"
    },
    {
     "data": {
      "text/html": [
       "<pre style=\"white-space:pre;overflow-x:auto;line-height:normal;font-family:Menlo,'DejaVu Sans Mono',consolas,'Courier New',monospace\"></pre>\n"
      ],
      "text/plain": []
     },
     "metadata": {},
     "output_type": "display_data"
    },
    {
     "data": {
      "text/html": [
       "<pre style=\"white-space:pre;overflow-x:auto;line-height:normal;font-family:Menlo,'DejaVu Sans Mono',consolas,'Courier New',monospace\"></pre>\n"
      ],
      "text/plain": []
     },
     "metadata": {},
     "output_type": "display_data"
    },
    {
     "data": {
      "text/html": [
       "<pre style=\"white-space:pre;overflow-x:auto;line-height:normal;font-family:Menlo,'DejaVu Sans Mono',consolas,'Courier New',monospace\"></pre>\n"
      ],
      "text/plain": []
     },
     "metadata": {},
     "output_type": "display_data"
    },
    {
     "data": {
      "text/html": [
       "<pre style=\"white-space:pre;overflow-x:auto;line-height:normal;font-family:Menlo,'DejaVu Sans Mono',consolas,'Courier New',monospace\"></pre>\n"
      ],
      "text/plain": []
     },
     "metadata": {},
     "output_type": "display_data"
    },
    {
     "data": {
      "text/html": [
       "<pre style=\"white-space:pre;overflow-x:auto;line-height:normal;font-family:Menlo,'DejaVu Sans Mono',consolas,'Courier New',monospace\"></pre>\n"
      ],
      "text/plain": []
     },
     "metadata": {},
     "output_type": "display_data"
    },
    {
     "data": {
      "text/html": [
       "<pre style=\"white-space:pre;overflow-x:auto;line-height:normal;font-family:Menlo,'DejaVu Sans Mono',consolas,'Courier New',monospace\"></pre>\n"
      ],
      "text/plain": []
     },
     "metadata": {},
     "output_type": "display_data"
    },
    {
     "data": {
      "text/html": [
       "<pre style=\"white-space:pre;overflow-x:auto;line-height:normal;font-family:Menlo,'DejaVu Sans Mono',consolas,'Courier New',monospace\"></pre>\n"
      ],
      "text/plain": []
     },
     "metadata": {},
     "output_type": "display_data"
    },
    {
     "data": {
      "text/html": [
       "<pre style=\"white-space:pre;overflow-x:auto;line-height:normal;font-family:Menlo,'DejaVu Sans Mono',consolas,'Courier New',monospace\"></pre>\n"
      ],
      "text/plain": []
     },
     "metadata": {},
     "output_type": "display_data"
    },
    {
     "data": {
      "text/html": [
       "<pre style=\"white-space:pre;overflow-x:auto;line-height:normal;font-family:Menlo,'DejaVu Sans Mono',consolas,'Courier New',monospace\"></pre>\n"
      ],
      "text/plain": []
     },
     "metadata": {},
     "output_type": "display_data"
    },
    {
     "data": {
      "text/html": [
       "<pre style=\"white-space:pre;overflow-x:auto;line-height:normal;font-family:Menlo,'DejaVu Sans Mono',consolas,'Courier New',monospace\"></pre>\n"
      ],
      "text/plain": []
     },
     "metadata": {},
     "output_type": "display_data"
    },
    {
     "data": {
      "text/html": [
       "<pre style=\"white-space:pre;overflow-x:auto;line-height:normal;font-family:Menlo,'DejaVu Sans Mono',consolas,'Courier New',monospace\"></pre>\n"
      ],
      "text/plain": []
     },
     "metadata": {},
     "output_type": "display_data"
    },
    {
     "data": {
      "text/html": [
       "<pre style=\"white-space:pre;overflow-x:auto;line-height:normal;font-family:Menlo,'DejaVu Sans Mono',consolas,'Courier New',monospace\"></pre>\n"
      ],
      "text/plain": []
     },
     "metadata": {},
     "output_type": "display_data"
    },
    {
     "data": {
      "text/html": [
       "<pre style=\"white-space:pre;overflow-x:auto;line-height:normal;font-family:Menlo,'DejaVu Sans Mono',consolas,'Courier New',monospace\"></pre>\n"
      ],
      "text/plain": []
     },
     "metadata": {},
     "output_type": "display_data"
    },
    {
     "data": {
      "text/html": [
       "<pre style=\"white-space:pre;overflow-x:auto;line-height:normal;font-family:Menlo,'DejaVu Sans Mono',consolas,'Courier New',monospace\"></pre>\n"
      ],
      "text/plain": []
     },
     "metadata": {},
     "output_type": "display_data"
    },
    {
     "data": {
      "text/html": [
       "<pre style=\"white-space:pre;overflow-x:auto;line-height:normal;font-family:Menlo,'DejaVu Sans Mono',consolas,'Courier New',monospace\"></pre>\n"
      ],
      "text/plain": []
     },
     "metadata": {},
     "output_type": "display_data"
    },
    {
     "data": {
      "text/html": [
       "<pre style=\"white-space:pre;overflow-x:auto;line-height:normal;font-family:Menlo,'DejaVu Sans Mono',consolas,'Courier New',monospace\"></pre>\n"
      ],
      "text/plain": []
     },
     "metadata": {},
     "output_type": "display_data"
    },
    {
     "data": {
      "text/html": [
       "<pre style=\"white-space:pre;overflow-x:auto;line-height:normal;font-family:Menlo,'DejaVu Sans Mono',consolas,'Courier New',monospace\"></pre>\n"
      ],
      "text/plain": []
     },
     "metadata": {},
     "output_type": "display_data"
    },
    {
     "data": {
      "text/html": [
       "<pre style=\"white-space:pre;overflow-x:auto;line-height:normal;font-family:Menlo,'DejaVu Sans Mono',consolas,'Courier New',monospace\"></pre>\n"
      ],
      "text/plain": []
     },
     "metadata": {},
     "output_type": "display_data"
    },
    {
     "data": {
      "text/html": [
       "<pre style=\"white-space:pre;overflow-x:auto;line-height:normal;font-family:Menlo,'DejaVu Sans Mono',consolas,'Courier New',monospace\"></pre>\n"
      ],
      "text/plain": []
     },
     "metadata": {},
     "output_type": "display_data"
    },
    {
     "data": {
      "text/html": [
       "<pre style=\"white-space:pre;overflow-x:auto;line-height:normal;font-family:Menlo,'DejaVu Sans Mono',consolas,'Courier New',monospace\"></pre>\n"
      ],
      "text/plain": []
     },
     "metadata": {},
     "output_type": "display_data"
    },
    {
     "data": {
      "text/html": [
       "<pre style=\"white-space:pre;overflow-x:auto;line-height:normal;font-family:Menlo,'DejaVu Sans Mono',consolas,'Courier New',monospace\"></pre>\n"
      ],
      "text/plain": []
     },
     "metadata": {},
     "output_type": "display_data"
    },
    {
     "data": {
      "text/html": [
       "<pre style=\"white-space:pre;overflow-x:auto;line-height:normal;font-family:Menlo,'DejaVu Sans Mono',consolas,'Courier New',monospace\"></pre>\n"
      ],
      "text/plain": []
     },
     "metadata": {},
     "output_type": "display_data"
    },
    {
     "data": {
      "text/html": [
       "<pre style=\"white-space:pre;overflow-x:auto;line-height:normal;font-family:Menlo,'DejaVu Sans Mono',consolas,'Courier New',monospace\"></pre>\n"
      ],
      "text/plain": []
     },
     "metadata": {},
     "output_type": "display_data"
    },
    {
     "data": {
      "text/html": [
       "<pre style=\"white-space:pre;overflow-x:auto;line-height:normal;font-family:Menlo,'DejaVu Sans Mono',consolas,'Courier New',monospace\"></pre>\n"
      ],
      "text/plain": []
     },
     "metadata": {},
     "output_type": "display_data"
    },
    {
     "data": {
      "text/html": [
       "<pre style=\"white-space:pre;overflow-x:auto;line-height:normal;font-family:Menlo,'DejaVu Sans Mono',consolas,'Courier New',monospace\"></pre>\n"
      ],
      "text/plain": []
     },
     "metadata": {},
     "output_type": "display_data"
    },
    {
     "data": {
      "text/html": [
       "<pre style=\"white-space:pre;overflow-x:auto;line-height:normal;font-family:Menlo,'DejaVu Sans Mono',consolas,'Courier New',monospace\"></pre>\n"
      ],
      "text/plain": []
     },
     "metadata": {},
     "output_type": "display_data"
    },
    {
     "data": {
      "text/html": [
       "<pre style=\"white-space:pre;overflow-x:auto;line-height:normal;font-family:Menlo,'DejaVu Sans Mono',consolas,'Courier New',monospace\"></pre>\n"
      ],
      "text/plain": []
     },
     "metadata": {},
     "output_type": "display_data"
    },
    {
     "data": {
      "text/html": [
       "<pre style=\"white-space:pre;overflow-x:auto;line-height:normal;font-family:Menlo,'DejaVu Sans Mono',consolas,'Courier New',monospace\"></pre>\n"
      ],
      "text/plain": []
     },
     "metadata": {},
     "output_type": "display_data"
    },
    {
     "data": {
      "text/html": [
       "<pre style=\"white-space:pre;overflow-x:auto;line-height:normal;font-family:Menlo,'DejaVu Sans Mono',consolas,'Courier New',monospace\"></pre>\n"
      ],
      "text/plain": []
     },
     "metadata": {},
     "output_type": "display_data"
    },
    {
     "data": {
      "text/html": [
       "<pre style=\"white-space:pre;overflow-x:auto;line-height:normal;font-family:Menlo,'DejaVu Sans Mono',consolas,'Courier New',monospace\"></pre>\n"
      ],
      "text/plain": []
     },
     "metadata": {},
     "output_type": "display_data"
    },
    {
     "data": {
      "text/html": [
       "<pre style=\"white-space:pre;overflow-x:auto;line-height:normal;font-family:Menlo,'DejaVu Sans Mono',consolas,'Courier New',monospace\"></pre>\n"
      ],
      "text/plain": []
     },
     "metadata": {},
     "output_type": "display_data"
    },
    {
     "data": {
      "text/html": [
       "<pre style=\"white-space:pre;overflow-x:auto;line-height:normal;font-family:Menlo,'DejaVu Sans Mono',consolas,'Courier New',monospace\"></pre>\n"
      ],
      "text/plain": []
     },
     "metadata": {},
     "output_type": "display_data"
    },
    {
     "data": {
      "text/html": [
       "<pre style=\"white-space:pre;overflow-x:auto;line-height:normal;font-family:Menlo,'DejaVu Sans Mono',consolas,'Courier New',monospace\"></pre>\n"
      ],
      "text/plain": []
     },
     "metadata": {},
     "output_type": "display_data"
    },
    {
     "data": {
      "text/html": [
       "<pre style=\"white-space:pre;overflow-x:auto;line-height:normal;font-family:Menlo,'DejaVu Sans Mono',consolas,'Courier New',monospace\"></pre>\n"
      ],
      "text/plain": []
     },
     "metadata": {},
     "output_type": "display_data"
    },
    {
     "data": {
      "text/html": [
       "<pre style=\"white-space:pre;overflow-x:auto;line-height:normal;font-family:Menlo,'DejaVu Sans Mono',consolas,'Courier New',monospace\"></pre>\n"
      ],
      "text/plain": []
     },
     "metadata": {},
     "output_type": "display_data"
    },
    {
     "data": {
      "text/html": [
       "<pre style=\"white-space:pre;overflow-x:auto;line-height:normal;font-family:Menlo,'DejaVu Sans Mono',consolas,'Courier New',monospace\"></pre>\n"
      ],
      "text/plain": []
     },
     "metadata": {},
     "output_type": "display_data"
    },
    {
     "data": {
      "text/html": [
       "<pre style=\"white-space:pre;overflow-x:auto;line-height:normal;font-family:Menlo,'DejaVu Sans Mono',consolas,'Courier New',monospace\"></pre>\n"
      ],
      "text/plain": []
     },
     "metadata": {},
     "output_type": "display_data"
    },
    {
     "data": {
      "text/html": [
       "<pre style=\"white-space:pre;overflow-x:auto;line-height:normal;font-family:Menlo,'DejaVu Sans Mono',consolas,'Courier New',monospace\"></pre>\n"
      ],
      "text/plain": []
     },
     "metadata": {},
     "output_type": "display_data"
    },
    {
     "data": {
      "text/html": [
       "<pre style=\"white-space:pre;overflow-x:auto;line-height:normal;font-family:Menlo,'DejaVu Sans Mono',consolas,'Courier New',monospace\"></pre>\n"
      ],
      "text/plain": []
     },
     "metadata": {},
     "output_type": "display_data"
    },
    {
     "data": {
      "text/html": [
       "<pre style=\"white-space:pre;overflow-x:auto;line-height:normal;font-family:Menlo,'DejaVu Sans Mono',consolas,'Courier New',monospace\"></pre>\n"
      ],
      "text/plain": []
     },
     "metadata": {},
     "output_type": "display_data"
    },
    {
     "data": {
      "text/html": [
       "<pre style=\"white-space:pre;overflow-x:auto;line-height:normal;font-family:Menlo,'DejaVu Sans Mono',consolas,'Courier New',monospace\"></pre>\n"
      ],
      "text/plain": []
     },
     "metadata": {},
     "output_type": "display_data"
    },
    {
     "data": {
      "text/html": [
       "<pre style=\"white-space:pre;overflow-x:auto;line-height:normal;font-family:Menlo,'DejaVu Sans Mono',consolas,'Courier New',monospace\"></pre>\n"
      ],
      "text/plain": []
     },
     "metadata": {},
     "output_type": "display_data"
    },
    {
     "data": {
      "text/html": [
       "<pre style=\"white-space:pre;overflow-x:auto;line-height:normal;font-family:Menlo,'DejaVu Sans Mono',consolas,'Courier New',monospace\"></pre>\n"
      ],
      "text/plain": []
     },
     "metadata": {},
     "output_type": "display_data"
    },
    {
     "data": {
      "text/html": [
       "<pre style=\"white-space:pre;overflow-x:auto;line-height:normal;font-family:Menlo,'DejaVu Sans Mono',consolas,'Courier New',monospace\"></pre>\n"
      ],
      "text/plain": []
     },
     "metadata": {},
     "output_type": "display_data"
    },
    {
     "data": {
      "text/html": [
       "<pre style=\"white-space:pre;overflow-x:auto;line-height:normal;font-family:Menlo,'DejaVu Sans Mono',consolas,'Courier New',monospace\"></pre>\n"
      ],
      "text/plain": []
     },
     "metadata": {},
     "output_type": "display_data"
    },
    {
     "data": {
      "text/html": [
       "<pre style=\"white-space:pre;overflow-x:auto;line-height:normal;font-family:Menlo,'DejaVu Sans Mono',consolas,'Courier New',monospace\"></pre>\n"
      ],
      "text/plain": []
     },
     "metadata": {},
     "output_type": "display_data"
    },
    {
     "data": {
      "text/html": [
       "<pre style=\"white-space:pre;overflow-x:auto;line-height:normal;font-family:Menlo,'DejaVu Sans Mono',consolas,'Courier New',monospace\"></pre>\n"
      ],
      "text/plain": []
     },
     "metadata": {},
     "output_type": "display_data"
    },
    {
     "data": {
      "text/html": [
       "<pre style=\"white-space:pre;overflow-x:auto;line-height:normal;font-family:Menlo,'DejaVu Sans Mono',consolas,'Courier New',monospace\"></pre>\n"
      ],
      "text/plain": []
     },
     "metadata": {},
     "output_type": "display_data"
    },
    {
     "data": {
      "text/html": [
       "<pre style=\"white-space:pre;overflow-x:auto;line-height:normal;font-family:Menlo,'DejaVu Sans Mono',consolas,'Courier New',monospace\"></pre>\n"
      ],
      "text/plain": []
     },
     "metadata": {},
     "output_type": "display_data"
    },
    {
     "data": {
      "text/html": [
       "<pre style=\"white-space:pre;overflow-x:auto;line-height:normal;font-family:Menlo,'DejaVu Sans Mono',consolas,'Courier New',monospace\"></pre>\n"
      ],
      "text/plain": []
     },
     "metadata": {},
     "output_type": "display_data"
    },
    {
     "data": {
      "text/html": [
       "<pre style=\"white-space:pre;overflow-x:auto;line-height:normal;font-family:Menlo,'DejaVu Sans Mono',consolas,'Courier New',monospace\"></pre>\n"
      ],
      "text/plain": []
     },
     "metadata": {},
     "output_type": "display_data"
    },
    {
     "data": {
      "text/html": [
       "<pre style=\"white-space:pre;overflow-x:auto;line-height:normal;font-family:Menlo,'DejaVu Sans Mono',consolas,'Courier New',monospace\"></pre>\n"
      ],
      "text/plain": []
     },
     "metadata": {},
     "output_type": "display_data"
    },
    {
     "data": {
      "text/html": [
       "<pre style=\"white-space:pre;overflow-x:auto;line-height:normal;font-family:Menlo,'DejaVu Sans Mono',consolas,'Courier New',monospace\"></pre>\n"
      ],
      "text/plain": []
     },
     "metadata": {},
     "output_type": "display_data"
    },
    {
     "data": {
      "text/html": [
       "<pre style=\"white-space:pre;overflow-x:auto;line-height:normal;font-family:Menlo,'DejaVu Sans Mono',consolas,'Courier New',monospace\"></pre>\n"
      ],
      "text/plain": []
     },
     "metadata": {},
     "output_type": "display_data"
    },
    {
     "data": {
      "text/html": [
       "<pre style=\"white-space:pre;overflow-x:auto;line-height:normal;font-family:Menlo,'DejaVu Sans Mono',consolas,'Courier New',monospace\"></pre>\n"
      ],
      "text/plain": []
     },
     "metadata": {},
     "output_type": "display_data"
    },
    {
     "data": {
      "text/html": [
       "<pre style=\"white-space:pre;overflow-x:auto;line-height:normal;font-family:Menlo,'DejaVu Sans Mono',consolas,'Courier New',monospace\"></pre>\n"
      ],
      "text/plain": []
     },
     "metadata": {},
     "output_type": "display_data"
    },
    {
     "data": {
      "text/html": [
       "<pre style=\"white-space:pre;overflow-x:auto;line-height:normal;font-family:Menlo,'DejaVu Sans Mono',consolas,'Courier New',monospace\"></pre>\n"
      ],
      "text/plain": []
     },
     "metadata": {},
     "output_type": "display_data"
    },
    {
     "data": {
      "text/html": [
       "<pre style=\"white-space:pre;overflow-x:auto;line-height:normal;font-family:Menlo,'DejaVu Sans Mono',consolas,'Courier New',monospace\"></pre>\n"
      ],
      "text/plain": []
     },
     "metadata": {},
     "output_type": "display_data"
    },
    {
     "data": {
      "text/html": [
       "<pre style=\"white-space:pre;overflow-x:auto;line-height:normal;font-family:Menlo,'DejaVu Sans Mono',consolas,'Courier New',monospace\"></pre>\n"
      ],
      "text/plain": []
     },
     "metadata": {},
     "output_type": "display_data"
    },
    {
     "data": {
      "text/html": [
       "<pre style=\"white-space:pre;overflow-x:auto;line-height:normal;font-family:Menlo,'DejaVu Sans Mono',consolas,'Courier New',monospace\"></pre>\n"
      ],
      "text/plain": []
     },
     "metadata": {},
     "output_type": "display_data"
    },
    {
     "data": {
      "text/html": [
       "<pre style=\"white-space:pre;overflow-x:auto;line-height:normal;font-family:Menlo,'DejaVu Sans Mono',consolas,'Courier New',monospace\"></pre>\n"
      ],
      "text/plain": []
     },
     "metadata": {},
     "output_type": "display_data"
    },
    {
     "data": {
      "text/html": [
       "<pre style=\"white-space:pre;overflow-x:auto;line-height:normal;font-family:Menlo,'DejaVu Sans Mono',consolas,'Courier New',monospace\"></pre>\n"
      ],
      "text/plain": []
     },
     "metadata": {},
     "output_type": "display_data"
    },
    {
     "data": {
      "text/html": [
       "<pre style=\"white-space:pre;overflow-x:auto;line-height:normal;font-family:Menlo,'DejaVu Sans Mono',consolas,'Courier New',monospace\"></pre>\n"
      ],
      "text/plain": []
     },
     "metadata": {},
     "output_type": "display_data"
    },
    {
     "data": {
      "text/html": [
       "<pre style=\"white-space:pre;overflow-x:auto;line-height:normal;font-family:Menlo,'DejaVu Sans Mono',consolas,'Courier New',monospace\"></pre>\n"
      ],
      "text/plain": []
     },
     "metadata": {},
     "output_type": "display_data"
    },
    {
     "data": {
      "text/html": [
       "<pre style=\"white-space:pre;overflow-x:auto;line-height:normal;font-family:Menlo,'DejaVu Sans Mono',consolas,'Courier New',monospace\"></pre>\n"
      ],
      "text/plain": []
     },
     "metadata": {},
     "output_type": "display_data"
    },
    {
     "data": {
      "text/html": [
       "<pre style=\"white-space:pre;overflow-x:auto;line-height:normal;font-family:Menlo,'DejaVu Sans Mono',consolas,'Courier New',monospace\"></pre>\n"
      ],
      "text/plain": []
     },
     "metadata": {},
     "output_type": "display_data"
    },
    {
     "data": {
      "text/html": [
       "<pre style=\"white-space:pre;overflow-x:auto;line-height:normal;font-family:Menlo,'DejaVu Sans Mono',consolas,'Courier New',monospace\"></pre>\n"
      ],
      "text/plain": []
     },
     "metadata": {},
     "output_type": "display_data"
    },
    {
     "data": {
      "text/html": [
       "<pre style=\"white-space:pre;overflow-x:auto;line-height:normal;font-family:Menlo,'DejaVu Sans Mono',consolas,'Courier New',monospace\"></pre>\n"
      ],
      "text/plain": []
     },
     "metadata": {},
     "output_type": "display_data"
    },
    {
     "data": {
      "text/html": [
       "<pre style=\"white-space:pre;overflow-x:auto;line-height:normal;font-family:Menlo,'DejaVu Sans Mono',consolas,'Courier New',monospace\"></pre>\n"
      ],
      "text/plain": []
     },
     "metadata": {},
     "output_type": "display_data"
    },
    {
     "data": {
      "text/html": [
       "<pre style=\"white-space:pre;overflow-x:auto;line-height:normal;font-family:Menlo,'DejaVu Sans Mono',consolas,'Courier New',monospace\"></pre>\n"
      ],
      "text/plain": []
     },
     "metadata": {},
     "output_type": "display_data"
    },
    {
     "data": {
      "text/html": [
       "<pre style=\"white-space:pre;overflow-x:auto;line-height:normal;font-family:Menlo,'DejaVu Sans Mono',consolas,'Courier New',monospace\"></pre>\n"
      ],
      "text/plain": []
     },
     "metadata": {},
     "output_type": "display_data"
    },
    {
     "data": {
      "text/html": [
       "<pre style=\"white-space:pre;overflow-x:auto;line-height:normal;font-family:Menlo,'DejaVu Sans Mono',consolas,'Courier New',monospace\"></pre>\n"
      ],
      "text/plain": []
     },
     "metadata": {},
     "output_type": "display_data"
    },
    {
     "data": {
      "text/html": [
       "<pre style=\"white-space:pre;overflow-x:auto;line-height:normal;font-family:Menlo,'DejaVu Sans Mono',consolas,'Courier New',monospace\"></pre>\n"
      ],
      "text/plain": []
     },
     "metadata": {},
     "output_type": "display_data"
    },
    {
     "data": {
      "text/html": [
       "<pre style=\"white-space:pre;overflow-x:auto;line-height:normal;font-family:Menlo,'DejaVu Sans Mono',consolas,'Courier New',monospace\"></pre>\n"
      ],
      "text/plain": []
     },
     "metadata": {},
     "output_type": "display_data"
    },
    {
     "data": {
      "text/html": [
       "<pre style=\"white-space:pre;overflow-x:auto;line-height:normal;font-family:Menlo,'DejaVu Sans Mono',consolas,'Courier New',monospace\"></pre>\n"
      ],
      "text/plain": []
     },
     "metadata": {},
     "output_type": "display_data"
    },
    {
     "data": {
      "text/html": [
       "<pre style=\"white-space:pre;overflow-x:auto;line-height:normal;font-family:Menlo,'DejaVu Sans Mono',consolas,'Courier New',monospace\"></pre>\n"
      ],
      "text/plain": []
     },
     "metadata": {},
     "output_type": "display_data"
    },
    {
     "data": {
      "text/html": [
       "<pre style=\"white-space:pre;overflow-x:auto;line-height:normal;font-family:Menlo,'DejaVu Sans Mono',consolas,'Courier New',monospace\"></pre>\n"
      ],
      "text/plain": []
     },
     "metadata": {},
     "output_type": "display_data"
    },
    {
     "data": {
      "text/html": [
       "<pre style=\"white-space:pre;overflow-x:auto;line-height:normal;font-family:Menlo,'DejaVu Sans Mono',consolas,'Courier New',monospace\"></pre>\n"
      ],
      "text/plain": []
     },
     "metadata": {},
     "output_type": "display_data"
    },
    {
     "data": {
      "text/html": [
       "<pre style=\"white-space:pre;overflow-x:auto;line-height:normal;font-family:Menlo,'DejaVu Sans Mono',consolas,'Courier New',monospace\"></pre>\n"
      ],
      "text/plain": []
     },
     "metadata": {},
     "output_type": "display_data"
    },
    {
     "data": {
      "text/html": [
       "<pre style=\"white-space:pre;overflow-x:auto;line-height:normal;font-family:Menlo,'DejaVu Sans Mono',consolas,'Courier New',monospace\"></pre>\n"
      ],
      "text/plain": []
     },
     "metadata": {},
     "output_type": "display_data"
    },
    {
     "data": {
      "text/html": [
       "<pre style=\"white-space:pre;overflow-x:auto;line-height:normal;font-family:Menlo,'DejaVu Sans Mono',consolas,'Courier New',monospace\"></pre>\n"
      ],
      "text/plain": []
     },
     "metadata": {},
     "output_type": "display_data"
    },
    {
     "data": {
      "text/html": [
       "<pre style=\"white-space:pre;overflow-x:auto;line-height:normal;font-family:Menlo,'DejaVu Sans Mono',consolas,'Courier New',monospace\"></pre>\n"
      ],
      "text/plain": []
     },
     "metadata": {},
     "output_type": "display_data"
    },
    {
     "data": {
      "text/html": [
       "<pre style=\"white-space:pre;overflow-x:auto;line-height:normal;font-family:Menlo,'DejaVu Sans Mono',consolas,'Courier New',monospace\"></pre>\n"
      ],
      "text/plain": []
     },
     "metadata": {},
     "output_type": "display_data"
    },
    {
     "data": {
      "text/html": [
       "<pre style=\"white-space:pre;overflow-x:auto;line-height:normal;font-family:Menlo,'DejaVu Sans Mono',consolas,'Courier New',monospace\"></pre>\n"
      ],
      "text/plain": []
     },
     "metadata": {},
     "output_type": "display_data"
    },
    {
     "data": {
      "text/html": [
       "<pre style=\"white-space:pre;overflow-x:auto;line-height:normal;font-family:Menlo,'DejaVu Sans Mono',consolas,'Courier New',monospace\"></pre>\n"
      ],
      "text/plain": []
     },
     "metadata": {},
     "output_type": "display_data"
    },
    {
     "data": {
      "text/html": [
       "<pre style=\"white-space:pre;overflow-x:auto;line-height:normal;font-family:Menlo,'DejaVu Sans Mono',consolas,'Courier New',monospace\"></pre>\n"
      ],
      "text/plain": []
     },
     "metadata": {},
     "output_type": "display_data"
    },
    {
     "data": {
      "text/html": [
       "<pre style=\"white-space:pre;overflow-x:auto;line-height:normal;font-family:Menlo,'DejaVu Sans Mono',consolas,'Courier New',monospace\"></pre>\n"
      ],
      "text/plain": []
     },
     "metadata": {},
     "output_type": "display_data"
    },
    {
     "data": {
      "text/html": [
       "<pre style=\"white-space:pre;overflow-x:auto;line-height:normal;font-family:Menlo,'DejaVu Sans Mono',consolas,'Courier New',monospace\"></pre>\n"
      ],
      "text/plain": []
     },
     "metadata": {},
     "output_type": "display_data"
    },
    {
     "data": {
      "text/html": [
       "<pre style=\"white-space:pre;overflow-x:auto;line-height:normal;font-family:Menlo,'DejaVu Sans Mono',consolas,'Courier New',monospace\"></pre>\n"
      ],
      "text/plain": []
     },
     "metadata": {},
     "output_type": "display_data"
    },
    {
     "data": {
      "text/html": [
       "<pre style=\"white-space:pre;overflow-x:auto;line-height:normal;font-family:Menlo,'DejaVu Sans Mono',consolas,'Courier New',monospace\"></pre>\n"
      ],
      "text/plain": []
     },
     "metadata": {},
     "output_type": "display_data"
    },
    {
     "data": {
      "text/html": [
       "<pre style=\"white-space:pre;overflow-x:auto;line-height:normal;font-family:Menlo,'DejaVu Sans Mono',consolas,'Courier New',monospace\"></pre>\n"
      ],
      "text/plain": []
     },
     "metadata": {},
     "output_type": "display_data"
    },
    {
     "data": {
      "text/html": [
       "<pre style=\"white-space:pre;overflow-x:auto;line-height:normal;font-family:Menlo,'DejaVu Sans Mono',consolas,'Courier New',monospace\"></pre>\n"
      ],
      "text/plain": []
     },
     "metadata": {},
     "output_type": "display_data"
    },
    {
     "data": {
      "text/html": [
       "<pre style=\"white-space:pre;overflow-x:auto;line-height:normal;font-family:Menlo,'DejaVu Sans Mono',consolas,'Courier New',monospace\"></pre>\n"
      ],
      "text/plain": []
     },
     "metadata": {},
     "output_type": "display_data"
    },
    {
     "data": {
      "text/html": [
       "<pre style=\"white-space:pre;overflow-x:auto;line-height:normal;font-family:Menlo,'DejaVu Sans Mono',consolas,'Courier New',monospace\"></pre>\n"
      ],
      "text/plain": []
     },
     "metadata": {},
     "output_type": "display_data"
    },
    {
     "data": {
      "text/html": [
       "<pre style=\"white-space:pre;overflow-x:auto;line-height:normal;font-family:Menlo,'DejaVu Sans Mono',consolas,'Courier New',monospace\"></pre>\n"
      ],
      "text/plain": []
     },
     "metadata": {},
     "output_type": "display_data"
    },
    {
     "data": {
      "text/html": [
       "<pre style=\"white-space:pre;overflow-x:auto;line-height:normal;font-family:Menlo,'DejaVu Sans Mono',consolas,'Courier New',monospace\"></pre>\n"
      ],
      "text/plain": []
     },
     "metadata": {},
     "output_type": "display_data"
    },
    {
     "data": {
      "text/html": [
       "<pre style=\"white-space:pre;overflow-x:auto;line-height:normal;font-family:Menlo,'DejaVu Sans Mono',consolas,'Courier New',monospace\"></pre>\n"
      ],
      "text/plain": []
     },
     "metadata": {},
     "output_type": "display_data"
    },
    {
     "data": {
      "text/html": [
       "<pre style=\"white-space:pre;overflow-x:auto;line-height:normal;font-family:Menlo,'DejaVu Sans Mono',consolas,'Courier New',monospace\"></pre>\n"
      ],
      "text/plain": []
     },
     "metadata": {},
     "output_type": "display_data"
    },
    {
     "data": {
      "text/html": [
       "<pre style=\"white-space:pre;overflow-x:auto;line-height:normal;font-family:Menlo,'DejaVu Sans Mono',consolas,'Courier New',monospace\"></pre>\n"
      ],
      "text/plain": []
     },
     "metadata": {},
     "output_type": "display_data"
    },
    {
     "data": {
      "text/html": [
       "<pre style=\"white-space:pre;overflow-x:auto;line-height:normal;font-family:Menlo,'DejaVu Sans Mono',consolas,'Courier New',monospace\"></pre>\n"
      ],
      "text/plain": []
     },
     "metadata": {},
     "output_type": "display_data"
    },
    {
     "data": {
      "text/html": [
       "<pre style=\"white-space:pre;overflow-x:auto;line-height:normal;font-family:Menlo,'DejaVu Sans Mono',consolas,'Courier New',monospace\"></pre>\n"
      ],
      "text/plain": []
     },
     "metadata": {},
     "output_type": "display_data"
    },
    {
     "data": {
      "text/html": [
       "<pre style=\"white-space:pre;overflow-x:auto;line-height:normal;font-family:Menlo,'DejaVu Sans Mono',consolas,'Courier New',monospace\"></pre>\n"
      ],
      "text/plain": []
     },
     "metadata": {},
     "output_type": "display_data"
    },
    {
     "data": {
      "text/html": [
       "<pre style=\"white-space:pre;overflow-x:auto;line-height:normal;font-family:Menlo,'DejaVu Sans Mono',consolas,'Courier New',monospace\"></pre>\n"
      ],
      "text/plain": []
     },
     "metadata": {},
     "output_type": "display_data"
    },
    {
     "data": {
      "text/html": [
       "<pre style=\"white-space:pre;overflow-x:auto;line-height:normal;font-family:Menlo,'DejaVu Sans Mono',consolas,'Courier New',monospace\"></pre>\n"
      ],
      "text/plain": []
     },
     "metadata": {},
     "output_type": "display_data"
    },
    {
     "data": {
      "text/html": [
       "<pre style=\"white-space:pre;overflow-x:auto;line-height:normal;font-family:Menlo,'DejaVu Sans Mono',consolas,'Courier New',monospace\"></pre>\n"
      ],
      "text/plain": []
     },
     "metadata": {},
     "output_type": "display_data"
    },
    {
     "data": {
      "text/html": [
       "<pre style=\"white-space:pre;overflow-x:auto;line-height:normal;font-family:Menlo,'DejaVu Sans Mono',consolas,'Courier New',monospace\"></pre>\n"
      ],
      "text/plain": []
     },
     "metadata": {},
     "output_type": "display_data"
    },
    {
     "data": {
      "text/html": [
       "<pre style=\"white-space:pre;overflow-x:auto;line-height:normal;font-family:Menlo,'DejaVu Sans Mono',consolas,'Courier New',monospace\"></pre>\n"
      ],
      "text/plain": []
     },
     "metadata": {},
     "output_type": "display_data"
    },
    {
     "data": {
      "text/html": [
       "<pre style=\"white-space:pre;overflow-x:auto;line-height:normal;font-family:Menlo,'DejaVu Sans Mono',consolas,'Courier New',monospace\"></pre>\n"
      ],
      "text/plain": []
     },
     "metadata": {},
     "output_type": "display_data"
    },
    {
     "data": {
      "text/html": [
       "<pre style=\"white-space:pre;overflow-x:auto;line-height:normal;font-family:Menlo,'DejaVu Sans Mono',consolas,'Courier New',monospace\"></pre>\n"
      ],
      "text/plain": []
     },
     "metadata": {},
     "output_type": "display_data"
    },
    {
     "data": {
      "text/html": [
       "<pre style=\"white-space:pre;overflow-x:auto;line-height:normal;font-family:Menlo,'DejaVu Sans Mono',consolas,'Courier New',monospace\"></pre>\n"
      ],
      "text/plain": []
     },
     "metadata": {},
     "output_type": "display_data"
    },
    {
     "data": {
      "text/html": [
       "<pre style=\"white-space:pre;overflow-x:auto;line-height:normal;font-family:Menlo,'DejaVu Sans Mono',consolas,'Courier New',monospace\"></pre>\n"
      ],
      "text/plain": []
     },
     "metadata": {},
     "output_type": "display_data"
    },
    {
     "data": {
      "text/html": [
       "<pre style=\"white-space:pre;overflow-x:auto;line-height:normal;font-family:Menlo,'DejaVu Sans Mono',consolas,'Courier New',monospace\"></pre>\n"
      ],
      "text/plain": []
     },
     "metadata": {},
     "output_type": "display_data"
    },
    {
     "data": {
      "text/html": [
       "<pre style=\"white-space:pre;overflow-x:auto;line-height:normal;font-family:Menlo,'DejaVu Sans Mono',consolas,'Courier New',monospace\"></pre>\n"
      ],
      "text/plain": []
     },
     "metadata": {},
     "output_type": "display_data"
    },
    {
     "data": {
      "text/html": [
       "<pre style=\"white-space:pre;overflow-x:auto;line-height:normal;font-family:Menlo,'DejaVu Sans Mono',consolas,'Courier New',monospace\"></pre>\n"
      ],
      "text/plain": []
     },
     "metadata": {},
     "output_type": "display_data"
    },
    {
     "data": {
      "text/html": [
       "<pre style=\"white-space:pre;overflow-x:auto;line-height:normal;font-family:Menlo,'DejaVu Sans Mono',consolas,'Courier New',monospace\"></pre>\n"
      ],
      "text/plain": []
     },
     "metadata": {},
     "output_type": "display_data"
    },
    {
     "data": {
      "text/html": [
       "<pre style=\"white-space:pre;overflow-x:auto;line-height:normal;font-family:Menlo,'DejaVu Sans Mono',consolas,'Courier New',monospace\"></pre>\n"
      ],
      "text/plain": []
     },
     "metadata": {},
     "output_type": "display_data"
    },
    {
     "data": {
      "text/html": [
       "<pre style=\"white-space:pre;overflow-x:auto;line-height:normal;font-family:Menlo,'DejaVu Sans Mono',consolas,'Courier New',monospace\"></pre>\n"
      ],
      "text/plain": []
     },
     "metadata": {},
     "output_type": "display_data"
    },
    {
     "data": {
      "text/html": [
       "<pre style=\"white-space:pre;overflow-x:auto;line-height:normal;font-family:Menlo,'DejaVu Sans Mono',consolas,'Courier New',monospace\"></pre>\n"
      ],
      "text/plain": []
     },
     "metadata": {},
     "output_type": "display_data"
    },
    {
     "data": {
      "text/html": [
       "<pre style=\"white-space:pre;overflow-x:auto;line-height:normal;font-family:Menlo,'DejaVu Sans Mono',consolas,'Courier New',monospace\"></pre>\n"
      ],
      "text/plain": []
     },
     "metadata": {},
     "output_type": "display_data"
    },
    {
     "data": {
      "text/html": [
       "<pre style=\"white-space:pre;overflow-x:auto;line-height:normal;font-family:Menlo,'DejaVu Sans Mono',consolas,'Courier New',monospace\"></pre>\n"
      ],
      "text/plain": []
     },
     "metadata": {},
     "output_type": "display_data"
    },
    {
     "data": {
      "text/html": [
       "<pre style=\"white-space:pre;overflow-x:auto;line-height:normal;font-family:Menlo,'DejaVu Sans Mono',consolas,'Courier New',monospace\"></pre>\n"
      ],
      "text/plain": []
     },
     "metadata": {},
     "output_type": "display_data"
    },
    {
     "data": {
      "text/html": [
       "<pre style=\"white-space:pre;overflow-x:auto;line-height:normal;font-family:Menlo,'DejaVu Sans Mono',consolas,'Courier New',monospace\"></pre>\n"
      ],
      "text/plain": []
     },
     "metadata": {},
     "output_type": "display_data"
    },
    {
     "data": {
      "text/html": [
       "<pre style=\"white-space:pre;overflow-x:auto;line-height:normal;font-family:Menlo,'DejaVu Sans Mono',consolas,'Courier New',monospace\"></pre>\n"
      ],
      "text/plain": []
     },
     "metadata": {},
     "output_type": "display_data"
    },
    {
     "data": {
      "text/html": [
       "<pre style=\"white-space:pre;overflow-x:auto;line-height:normal;font-family:Menlo,'DejaVu Sans Mono',consolas,'Courier New',monospace\"></pre>\n"
      ],
      "text/plain": []
     },
     "metadata": {},
     "output_type": "display_data"
    },
    {
     "data": {
      "text/html": [
       "<pre style=\"white-space:pre;overflow-x:auto;line-height:normal;font-family:Menlo,'DejaVu Sans Mono',consolas,'Courier New',monospace\"></pre>\n"
      ],
      "text/plain": []
     },
     "metadata": {},
     "output_type": "display_data"
    },
    {
     "data": {
      "text/html": [
       "<pre style=\"white-space:pre;overflow-x:auto;line-height:normal;font-family:Menlo,'DejaVu Sans Mono',consolas,'Courier New',monospace\"></pre>\n"
      ],
      "text/plain": []
     },
     "metadata": {},
     "output_type": "display_data"
    },
    {
     "data": {
      "text/html": [
       "<pre style=\"white-space:pre;overflow-x:auto;line-height:normal;font-family:Menlo,'DejaVu Sans Mono',consolas,'Courier New',monospace\"></pre>\n"
      ],
      "text/plain": []
     },
     "metadata": {},
     "output_type": "display_data"
    },
    {
     "data": {
      "text/html": [
       "<pre style=\"white-space:pre;overflow-x:auto;line-height:normal;font-family:Menlo,'DejaVu Sans Mono',consolas,'Courier New',monospace\"></pre>\n"
      ],
      "text/plain": []
     },
     "metadata": {},
     "output_type": "display_data"
    },
    {
     "data": {
      "text/html": [
       "<pre style=\"white-space:pre;overflow-x:auto;line-height:normal;font-family:Menlo,'DejaVu Sans Mono',consolas,'Courier New',monospace\"></pre>\n"
      ],
      "text/plain": []
     },
     "metadata": {},
     "output_type": "display_data"
    },
    {
     "data": {
      "text/html": [
       "<pre style=\"white-space:pre;overflow-x:auto;line-height:normal;font-family:Menlo,'DejaVu Sans Mono',consolas,'Courier New',monospace\"></pre>\n"
      ],
      "text/plain": []
     },
     "metadata": {},
     "output_type": "display_data"
    },
    {
     "data": {
      "text/html": [
       "<pre style=\"white-space:pre;overflow-x:auto;line-height:normal;font-family:Menlo,'DejaVu Sans Mono',consolas,'Courier New',monospace\"></pre>\n"
      ],
      "text/plain": []
     },
     "metadata": {},
     "output_type": "display_data"
    },
    {
     "data": {
      "text/html": [
       "<pre style=\"white-space:pre;overflow-x:auto;line-height:normal;font-family:Menlo,'DejaVu Sans Mono',consolas,'Courier New',monospace\"></pre>\n"
      ],
      "text/plain": []
     },
     "metadata": {},
     "output_type": "display_data"
    },
    {
     "data": {
      "text/html": [
       "<pre style=\"white-space:pre;overflow-x:auto;line-height:normal;font-family:Menlo,'DejaVu Sans Mono',consolas,'Courier New',monospace\"></pre>\n"
      ],
      "text/plain": []
     },
     "metadata": {},
     "output_type": "display_data"
    },
    {
     "data": {
      "text/html": [
       "<pre style=\"white-space:pre;overflow-x:auto;line-height:normal;font-family:Menlo,'DejaVu Sans Mono',consolas,'Courier New',monospace\"></pre>\n"
      ],
      "text/plain": []
     },
     "metadata": {},
     "output_type": "display_data"
    },
    {
     "data": {
      "text/html": [
       "<pre style=\"white-space:pre;overflow-x:auto;line-height:normal;font-family:Menlo,'DejaVu Sans Mono',consolas,'Courier New',monospace\"></pre>\n"
      ],
      "text/plain": []
     },
     "metadata": {},
     "output_type": "display_data"
    },
    {
     "data": {
      "text/html": [
       "<pre style=\"white-space:pre;overflow-x:auto;line-height:normal;font-family:Menlo,'DejaVu Sans Mono',consolas,'Courier New',monospace\"></pre>\n"
      ],
      "text/plain": []
     },
     "metadata": {},
     "output_type": "display_data"
    },
    {
     "data": {
      "text/html": [
       "<pre style=\"white-space:pre;overflow-x:auto;line-height:normal;font-family:Menlo,'DejaVu Sans Mono',consolas,'Courier New',monospace\"></pre>\n"
      ],
      "text/plain": []
     },
     "metadata": {},
     "output_type": "display_data"
    },
    {
     "data": {
      "text/html": [
       "<pre style=\"white-space:pre;overflow-x:auto;line-height:normal;font-family:Menlo,'DejaVu Sans Mono',consolas,'Courier New',monospace\"></pre>\n"
      ],
      "text/plain": []
     },
     "metadata": {},
     "output_type": "display_data"
    },
    {
     "data": {
      "text/html": [
       "<pre style=\"white-space:pre;overflow-x:auto;line-height:normal;font-family:Menlo,'DejaVu Sans Mono',consolas,'Courier New',monospace\"></pre>\n"
      ],
      "text/plain": []
     },
     "metadata": {},
     "output_type": "display_data"
    },
    {
     "data": {
      "text/html": [
       "<pre style=\"white-space:pre;overflow-x:auto;line-height:normal;font-family:Menlo,'DejaVu Sans Mono',consolas,'Courier New',monospace\"></pre>\n"
      ],
      "text/plain": []
     },
     "metadata": {},
     "output_type": "display_data"
    },
    {
     "data": {
      "text/html": [
       "<pre style=\"white-space:pre;overflow-x:auto;line-height:normal;font-family:Menlo,'DejaVu Sans Mono',consolas,'Courier New',monospace\"></pre>\n"
      ],
      "text/plain": []
     },
     "metadata": {},
     "output_type": "display_data"
    },
    {
     "data": {
      "text/html": [
       "<pre style=\"white-space:pre;overflow-x:auto;line-height:normal;font-family:Menlo,'DejaVu Sans Mono',consolas,'Courier New',monospace\"></pre>\n"
      ],
      "text/plain": []
     },
     "metadata": {},
     "output_type": "display_data"
    },
    {
     "data": {
      "text/html": [
       "<pre style=\"white-space:pre;overflow-x:auto;line-height:normal;font-family:Menlo,'DejaVu Sans Mono',consolas,'Courier New',monospace\"></pre>\n"
      ],
      "text/plain": []
     },
     "metadata": {},
     "output_type": "display_data"
    },
    {
     "data": {
      "text/html": [
       "<pre style=\"white-space:pre;overflow-x:auto;line-height:normal;font-family:Menlo,'DejaVu Sans Mono',consolas,'Courier New',monospace\"></pre>\n"
      ],
      "text/plain": []
     },
     "metadata": {},
     "output_type": "display_data"
    },
    {
     "data": {
      "text/html": [
       "<pre style=\"white-space:pre;overflow-x:auto;line-height:normal;font-family:Menlo,'DejaVu Sans Mono',consolas,'Courier New',monospace\"></pre>\n"
      ],
      "text/plain": []
     },
     "metadata": {},
     "output_type": "display_data"
    },
    {
     "data": {
      "text/html": [
       "<pre style=\"white-space:pre;overflow-x:auto;line-height:normal;font-family:Menlo,'DejaVu Sans Mono',consolas,'Courier New',monospace\"></pre>\n"
      ],
      "text/plain": []
     },
     "metadata": {},
     "output_type": "display_data"
    },
    {
     "data": {
      "text/html": [
       "<pre style=\"white-space:pre;overflow-x:auto;line-height:normal;font-family:Menlo,'DejaVu Sans Mono',consolas,'Courier New',monospace\"></pre>\n"
      ],
      "text/plain": []
     },
     "metadata": {},
     "output_type": "display_data"
    },
    {
     "data": {
      "text/html": [
       "<pre style=\"white-space:pre;overflow-x:auto;line-height:normal;font-family:Menlo,'DejaVu Sans Mono',consolas,'Courier New',monospace\"></pre>\n"
      ],
      "text/plain": []
     },
     "metadata": {},
     "output_type": "display_data"
    },
    {
     "data": {
      "text/html": [
       "<pre style=\"white-space:pre;overflow-x:auto;line-height:normal;font-family:Menlo,'DejaVu Sans Mono',consolas,'Courier New',monospace\"></pre>\n"
      ],
      "text/plain": []
     },
     "metadata": {},
     "output_type": "display_data"
    },
    {
     "data": {
      "text/html": [
       "<pre style=\"white-space:pre;overflow-x:auto;line-height:normal;font-family:Menlo,'DejaVu Sans Mono',consolas,'Courier New',monospace\"></pre>\n"
      ],
      "text/plain": []
     },
     "metadata": {},
     "output_type": "display_data"
    },
    {
     "data": {
      "text/html": [
       "<pre style=\"white-space:pre;overflow-x:auto;line-height:normal;font-family:Menlo,'DejaVu Sans Mono',consolas,'Courier New',monospace\"></pre>\n"
      ],
      "text/plain": []
     },
     "metadata": {},
     "output_type": "display_data"
    },
    {
     "data": {
      "text/html": [
       "<pre style=\"white-space:pre;overflow-x:auto;line-height:normal;font-family:Menlo,'DejaVu Sans Mono',consolas,'Courier New',monospace\"></pre>\n"
      ],
      "text/plain": []
     },
     "metadata": {},
     "output_type": "display_data"
    },
    {
     "data": {
      "text/html": [
       "<pre style=\"white-space:pre;overflow-x:auto;line-height:normal;font-family:Menlo,'DejaVu Sans Mono',consolas,'Courier New',monospace\"></pre>\n"
      ],
      "text/plain": []
     },
     "metadata": {},
     "output_type": "display_data"
    },
    {
     "data": {
      "text/html": [
       "<pre style=\"white-space:pre;overflow-x:auto;line-height:normal;font-family:Menlo,'DejaVu Sans Mono',consolas,'Courier New',monospace\"></pre>\n"
      ],
      "text/plain": []
     },
     "metadata": {},
     "output_type": "display_data"
    },
    {
     "data": {
      "text/html": [
       "<pre style=\"white-space:pre;overflow-x:auto;line-height:normal;font-family:Menlo,'DejaVu Sans Mono',consolas,'Courier New',monospace\"></pre>\n"
      ],
      "text/plain": []
     },
     "metadata": {},
     "output_type": "display_data"
    },
    {
     "data": {
      "text/html": [
       "<pre style=\"white-space:pre;overflow-x:auto;line-height:normal;font-family:Menlo,'DejaVu Sans Mono',consolas,'Courier New',monospace\"></pre>\n"
      ],
      "text/plain": []
     },
     "metadata": {},
     "output_type": "display_data"
    },
    {
     "data": {
      "text/html": [
       "<pre style=\"white-space:pre;overflow-x:auto;line-height:normal;font-family:Menlo,'DejaVu Sans Mono',consolas,'Courier New',monospace\"></pre>\n"
      ],
      "text/plain": []
     },
     "metadata": {},
     "output_type": "display_data"
    },
    {
     "data": {
      "text/html": [
       "<pre style=\"white-space:pre;overflow-x:auto;line-height:normal;font-family:Menlo,'DejaVu Sans Mono',consolas,'Courier New',monospace\"></pre>\n"
      ],
      "text/plain": []
     },
     "metadata": {},
     "output_type": "display_data"
    },
    {
     "data": {
      "text/html": [
       "<pre style=\"white-space:pre;overflow-x:auto;line-height:normal;font-family:Menlo,'DejaVu Sans Mono',consolas,'Courier New',monospace\"></pre>\n"
      ],
      "text/plain": []
     },
     "metadata": {},
     "output_type": "display_data"
    },
    {
     "data": {
      "text/html": [
       "<pre style=\"white-space:pre;overflow-x:auto;line-height:normal;font-family:Menlo,'DejaVu Sans Mono',consolas,'Courier New',monospace\"></pre>\n"
      ],
      "text/plain": []
     },
     "metadata": {},
     "output_type": "display_data"
    },
    {
     "data": {
      "text/html": [
       "<pre style=\"white-space:pre;overflow-x:auto;line-height:normal;font-family:Menlo,'DejaVu Sans Mono',consolas,'Courier New',monospace\"></pre>\n"
      ],
      "text/plain": []
     },
     "metadata": {},
     "output_type": "display_data"
    },
    {
     "data": {
      "text/html": [
       "<pre style=\"white-space:pre;overflow-x:auto;line-height:normal;font-family:Menlo,'DejaVu Sans Mono',consolas,'Courier New',monospace\"></pre>\n"
      ],
      "text/plain": []
     },
     "metadata": {},
     "output_type": "display_data"
    },
    {
     "data": {
      "text/html": [
       "<pre style=\"white-space:pre;overflow-x:auto;line-height:normal;font-family:Menlo,'DejaVu Sans Mono',consolas,'Courier New',monospace\"></pre>\n"
      ],
      "text/plain": []
     },
     "metadata": {},
     "output_type": "display_data"
    },
    {
     "data": {
      "text/html": [
       "<pre style=\"white-space:pre;overflow-x:auto;line-height:normal;font-family:Menlo,'DejaVu Sans Mono',consolas,'Courier New',monospace\"></pre>\n"
      ],
      "text/plain": []
     },
     "metadata": {},
     "output_type": "display_data"
    },
    {
     "data": {
      "text/html": [
       "<pre style=\"white-space:pre;overflow-x:auto;line-height:normal;font-family:Menlo,'DejaVu Sans Mono',consolas,'Courier New',monospace\"></pre>\n"
      ],
      "text/plain": []
     },
     "metadata": {},
     "output_type": "display_data"
    },
    {
     "data": {
      "text/html": [
       "<pre style=\"white-space:pre;overflow-x:auto;line-height:normal;font-family:Menlo,'DejaVu Sans Mono',consolas,'Courier New',monospace\"></pre>\n"
      ],
      "text/plain": []
     },
     "metadata": {},
     "output_type": "display_data"
    },
    {
     "data": {
      "text/html": [
       "<pre style=\"white-space:pre;overflow-x:auto;line-height:normal;font-family:Menlo,'DejaVu Sans Mono',consolas,'Courier New',monospace\"></pre>\n"
      ],
      "text/plain": []
     },
     "metadata": {},
     "output_type": "display_data"
    },
    {
     "data": {
      "text/html": [
       "<pre style=\"white-space:pre;overflow-x:auto;line-height:normal;font-family:Menlo,'DejaVu Sans Mono',consolas,'Courier New',monospace\"></pre>\n"
      ],
      "text/plain": []
     },
     "metadata": {},
     "output_type": "display_data"
    },
    {
     "data": {
      "text/html": [
       "<pre style=\"white-space:pre;overflow-x:auto;line-height:normal;font-family:Menlo,'DejaVu Sans Mono',consolas,'Courier New',monospace\"></pre>\n"
      ],
      "text/plain": []
     },
     "metadata": {},
     "output_type": "display_data"
    },
    {
     "data": {
      "text/html": [
       "<pre style=\"white-space:pre;overflow-x:auto;line-height:normal;font-family:Menlo,'DejaVu Sans Mono',consolas,'Courier New',monospace\"></pre>\n"
      ],
      "text/plain": []
     },
     "metadata": {},
     "output_type": "display_data"
    },
    {
     "data": {
      "text/html": [
       "<pre style=\"white-space:pre;overflow-x:auto;line-height:normal;font-family:Menlo,'DejaVu Sans Mono',consolas,'Courier New',monospace\"></pre>\n"
      ],
      "text/plain": []
     },
     "metadata": {},
     "output_type": "display_data"
    },
    {
     "data": {
      "text/html": [
       "<pre style=\"white-space:pre;overflow-x:auto;line-height:normal;font-family:Menlo,'DejaVu Sans Mono',consolas,'Courier New',monospace\"></pre>\n"
      ],
      "text/plain": []
     },
     "metadata": {},
     "output_type": "display_data"
    },
    {
     "data": {
      "text/html": [
       "<pre style=\"white-space:pre;overflow-x:auto;line-height:normal;font-family:Menlo,'DejaVu Sans Mono',consolas,'Courier New',monospace\"></pre>\n"
      ],
      "text/plain": []
     },
     "metadata": {},
     "output_type": "display_data"
    },
    {
     "data": {
      "text/html": [
       "<pre style=\"white-space:pre;overflow-x:auto;line-height:normal;font-family:Menlo,'DejaVu Sans Mono',consolas,'Courier New',monospace\"></pre>\n"
      ],
      "text/plain": []
     },
     "metadata": {},
     "output_type": "display_data"
    },
    {
     "data": {
      "text/html": [
       "<pre style=\"white-space:pre;overflow-x:auto;line-height:normal;font-family:Menlo,'DejaVu Sans Mono',consolas,'Courier New',monospace\"></pre>\n"
      ],
      "text/plain": []
     },
     "metadata": {},
     "output_type": "display_data"
    },
    {
     "data": {
      "text/html": [
       "<pre style=\"white-space:pre;overflow-x:auto;line-height:normal;font-family:Menlo,'DejaVu Sans Mono',consolas,'Courier New',monospace\"></pre>\n"
      ],
      "text/plain": []
     },
     "metadata": {},
     "output_type": "display_data"
    },
    {
     "data": {
      "text/html": [
       "<pre style=\"white-space:pre;overflow-x:auto;line-height:normal;font-family:Menlo,'DejaVu Sans Mono',consolas,'Courier New',monospace\"></pre>\n"
      ],
      "text/plain": []
     },
     "metadata": {},
     "output_type": "display_data"
    },
    {
     "data": {
      "text/html": [
       "<pre style=\"white-space:pre;overflow-x:auto;line-height:normal;font-family:Menlo,'DejaVu Sans Mono',consolas,'Courier New',monospace\"></pre>\n"
      ],
      "text/plain": []
     },
     "metadata": {},
     "output_type": "display_data"
    },
    {
     "data": {
      "text/html": [
       "<pre style=\"white-space:pre;overflow-x:auto;line-height:normal;font-family:Menlo,'DejaVu Sans Mono',consolas,'Courier New',monospace\"></pre>\n"
      ],
      "text/plain": []
     },
     "metadata": {},
     "output_type": "display_data"
    },
    {
     "data": {
      "text/html": [
       "<pre style=\"white-space:pre;overflow-x:auto;line-height:normal;font-family:Menlo,'DejaVu Sans Mono',consolas,'Courier New',monospace\"></pre>\n"
      ],
      "text/plain": []
     },
     "metadata": {},
     "output_type": "display_data"
    },
    {
     "data": {
      "text/html": [
       "<pre style=\"white-space:pre;overflow-x:auto;line-height:normal;font-family:Menlo,'DejaVu Sans Mono',consolas,'Courier New',monospace\"></pre>\n"
      ],
      "text/plain": []
     },
     "metadata": {},
     "output_type": "display_data"
    },
    {
     "data": {
      "text/html": [
       "<pre style=\"white-space:pre;overflow-x:auto;line-height:normal;font-family:Menlo,'DejaVu Sans Mono',consolas,'Courier New',monospace\"></pre>\n"
      ],
      "text/plain": []
     },
     "metadata": {},
     "output_type": "display_data"
    },
    {
     "data": {
      "text/html": [
       "<pre style=\"white-space:pre;overflow-x:auto;line-height:normal;font-family:Menlo,'DejaVu Sans Mono',consolas,'Courier New',monospace\"></pre>\n"
      ],
      "text/plain": []
     },
     "metadata": {},
     "output_type": "display_data"
    },
    {
     "data": {
      "text/html": [
       "<pre style=\"white-space:pre;overflow-x:auto;line-height:normal;font-family:Menlo,'DejaVu Sans Mono',consolas,'Courier New',monospace\"></pre>\n"
      ],
      "text/plain": []
     },
     "metadata": {},
     "output_type": "display_data"
    },
    {
     "data": {
      "text/html": [
       "<pre style=\"white-space:pre;overflow-x:auto;line-height:normal;font-family:Menlo,'DejaVu Sans Mono',consolas,'Courier New',monospace\"></pre>\n"
      ],
      "text/plain": []
     },
     "metadata": {},
     "output_type": "display_data"
    },
    {
     "data": {
      "text/html": [
       "<pre style=\"white-space:pre;overflow-x:auto;line-height:normal;font-family:Menlo,'DejaVu Sans Mono',consolas,'Courier New',monospace\"></pre>\n"
      ],
      "text/plain": []
     },
     "metadata": {},
     "output_type": "display_data"
    },
    {
     "data": {
      "text/html": [
       "<pre style=\"white-space:pre;overflow-x:auto;line-height:normal;font-family:Menlo,'DejaVu Sans Mono',consolas,'Courier New',monospace\"></pre>\n"
      ],
      "text/plain": []
     },
     "metadata": {},
     "output_type": "display_data"
    },
    {
     "data": {
      "text/html": [
       "<pre style=\"white-space:pre;overflow-x:auto;line-height:normal;font-family:Menlo,'DejaVu Sans Mono',consolas,'Courier New',monospace\"></pre>\n"
      ],
      "text/plain": []
     },
     "metadata": {},
     "output_type": "display_data"
    },
    {
     "data": {
      "text/html": [
       "<pre style=\"white-space:pre;overflow-x:auto;line-height:normal;font-family:Menlo,'DejaVu Sans Mono',consolas,'Courier New',monospace\"></pre>\n"
      ],
      "text/plain": []
     },
     "metadata": {},
     "output_type": "display_data"
    },
    {
     "data": {
      "text/html": [
       "<pre style=\"white-space:pre;overflow-x:auto;line-height:normal;font-family:Menlo,'DejaVu Sans Mono',consolas,'Courier New',monospace\"></pre>\n"
      ],
      "text/plain": []
     },
     "metadata": {},
     "output_type": "display_data"
    },
    {
     "data": {
      "text/html": [
       "<pre style=\"white-space:pre;overflow-x:auto;line-height:normal;font-family:Menlo,'DejaVu Sans Mono',consolas,'Courier New',monospace\"></pre>\n"
      ],
      "text/plain": []
     },
     "metadata": {},
     "output_type": "display_data"
    },
    {
     "data": {
      "text/html": [
       "<pre style=\"white-space:pre;overflow-x:auto;line-height:normal;font-family:Menlo,'DejaVu Sans Mono',consolas,'Courier New',monospace\"></pre>\n"
      ],
      "text/plain": []
     },
     "metadata": {},
     "output_type": "display_data"
    },
    {
     "data": {
      "text/html": [
       "<pre style=\"white-space:pre;overflow-x:auto;line-height:normal;font-family:Menlo,'DejaVu Sans Mono',consolas,'Courier New',monospace\"></pre>\n"
      ],
      "text/plain": []
     },
     "metadata": {},
     "output_type": "display_data"
    },
    {
     "data": {
      "text/html": [
       "<pre style=\"white-space:pre;overflow-x:auto;line-height:normal;font-family:Menlo,'DejaVu Sans Mono',consolas,'Courier New',monospace\"></pre>\n"
      ],
      "text/plain": []
     },
     "metadata": {},
     "output_type": "display_data"
    },
    {
     "data": {
      "text/html": [
       "<pre style=\"white-space:pre;overflow-x:auto;line-height:normal;font-family:Menlo,'DejaVu Sans Mono',consolas,'Courier New',monospace\"></pre>\n"
      ],
      "text/plain": []
     },
     "metadata": {},
     "output_type": "display_data"
    },
    {
     "data": {
      "text/html": [
       "<pre style=\"white-space:pre;overflow-x:auto;line-height:normal;font-family:Menlo,'DejaVu Sans Mono',consolas,'Courier New',monospace\"></pre>\n"
      ],
      "text/plain": []
     },
     "metadata": {},
     "output_type": "display_data"
    },
    {
     "data": {
      "text/html": [
       "<pre style=\"white-space:pre;overflow-x:auto;line-height:normal;font-family:Menlo,'DejaVu Sans Mono',consolas,'Courier New',monospace\"></pre>\n"
      ],
      "text/plain": []
     },
     "metadata": {},
     "output_type": "display_data"
    },
    {
     "data": {
      "text/html": [
       "<pre style=\"white-space:pre;overflow-x:auto;line-height:normal;font-family:Menlo,'DejaVu Sans Mono',consolas,'Courier New',monospace\"></pre>\n"
      ],
      "text/plain": []
     },
     "metadata": {},
     "output_type": "display_data"
    },
    {
     "data": {
      "text/html": [
       "<pre style=\"white-space:pre;overflow-x:auto;line-height:normal;font-family:Menlo,'DejaVu Sans Mono',consolas,'Courier New',monospace\"></pre>\n"
      ],
      "text/plain": []
     },
     "metadata": {},
     "output_type": "display_data"
    },
    {
     "data": {
      "text/html": [
       "<pre style=\"white-space:pre;overflow-x:auto;line-height:normal;font-family:Menlo,'DejaVu Sans Mono',consolas,'Courier New',monospace\"></pre>\n"
      ],
      "text/plain": []
     },
     "metadata": {},
     "output_type": "display_data"
    },
    {
     "data": {
      "text/html": [
       "<pre style=\"white-space:pre;overflow-x:auto;line-height:normal;font-family:Menlo,'DejaVu Sans Mono',consolas,'Courier New',monospace\"></pre>\n"
      ],
      "text/plain": []
     },
     "metadata": {},
     "output_type": "display_data"
    },
    {
     "data": {
      "text/html": [
       "<pre style=\"white-space:pre;overflow-x:auto;line-height:normal;font-family:Menlo,'DejaVu Sans Mono',consolas,'Courier New',monospace\"></pre>\n"
      ],
      "text/plain": []
     },
     "metadata": {},
     "output_type": "display_data"
    },
    {
     "data": {
      "text/html": [
       "<pre style=\"white-space:pre;overflow-x:auto;line-height:normal;font-family:Menlo,'DejaVu Sans Mono',consolas,'Courier New',monospace\"></pre>\n"
      ],
      "text/plain": []
     },
     "metadata": {},
     "output_type": "display_data"
    },
    {
     "data": {
      "text/html": [
       "<pre style=\"white-space:pre;overflow-x:auto;line-height:normal;font-family:Menlo,'DejaVu Sans Mono',consolas,'Courier New',monospace\"></pre>\n"
      ],
      "text/plain": []
     },
     "metadata": {},
     "output_type": "display_data"
    },
    {
     "data": {
      "text/html": [
       "<pre style=\"white-space:pre;overflow-x:auto;line-height:normal;font-family:Menlo,'DejaVu Sans Mono',consolas,'Courier New',monospace\"></pre>\n"
      ],
      "text/plain": []
     },
     "metadata": {},
     "output_type": "display_data"
    },
    {
     "data": {
      "text/html": [
       "<pre style=\"white-space:pre;overflow-x:auto;line-height:normal;font-family:Menlo,'DejaVu Sans Mono',consolas,'Courier New',monospace\"></pre>\n"
      ],
      "text/plain": []
     },
     "metadata": {},
     "output_type": "display_data"
    },
    {
     "data": {
      "text/html": [
       "<pre style=\"white-space:pre;overflow-x:auto;line-height:normal;font-family:Menlo,'DejaVu Sans Mono',consolas,'Courier New',monospace\"></pre>\n"
      ],
      "text/plain": []
     },
     "metadata": {},
     "output_type": "display_data"
    },
    {
     "data": {
      "text/html": [
       "<pre style=\"white-space:pre;overflow-x:auto;line-height:normal;font-family:Menlo,'DejaVu Sans Mono',consolas,'Courier New',monospace\"></pre>\n"
      ],
      "text/plain": []
     },
     "metadata": {},
     "output_type": "display_data"
    },
    {
     "data": {
      "text/html": [
       "<pre style=\"white-space:pre;overflow-x:auto;line-height:normal;font-family:Menlo,'DejaVu Sans Mono',consolas,'Courier New',monospace\"></pre>\n"
      ],
      "text/plain": []
     },
     "metadata": {},
     "output_type": "display_data"
    },
    {
     "data": {
      "text/html": [
       "<pre style=\"white-space:pre;overflow-x:auto;line-height:normal;font-family:Menlo,'DejaVu Sans Mono',consolas,'Courier New',monospace\"></pre>\n"
      ],
      "text/plain": []
     },
     "metadata": {},
     "output_type": "display_data"
    },
    {
     "data": {
      "text/html": [
       "<pre style=\"white-space:pre;overflow-x:auto;line-height:normal;font-family:Menlo,'DejaVu Sans Mono',consolas,'Courier New',monospace\"></pre>\n"
      ],
      "text/plain": []
     },
     "metadata": {},
     "output_type": "display_data"
    },
    {
     "data": {
      "text/html": [
       "<pre style=\"white-space:pre;overflow-x:auto;line-height:normal;font-family:Menlo,'DejaVu Sans Mono',consolas,'Courier New',monospace\"></pre>\n"
      ],
      "text/plain": []
     },
     "metadata": {},
     "output_type": "display_data"
    },
    {
     "data": {
      "text/html": [
       "<pre style=\"white-space:pre;overflow-x:auto;line-height:normal;font-family:Menlo,'DejaVu Sans Mono',consolas,'Courier New',monospace\"></pre>\n"
      ],
      "text/plain": []
     },
     "metadata": {},
     "output_type": "display_data"
    },
    {
     "data": {
      "text/html": [
       "<pre style=\"white-space:pre;overflow-x:auto;line-height:normal;font-family:Menlo,'DejaVu Sans Mono',consolas,'Courier New',monospace\"></pre>\n"
      ],
      "text/plain": []
     },
     "metadata": {},
     "output_type": "display_data"
    },
    {
     "data": {
      "text/html": [
       "<pre style=\"white-space:pre;overflow-x:auto;line-height:normal;font-family:Menlo,'DejaVu Sans Mono',consolas,'Courier New',monospace\"></pre>\n"
      ],
      "text/plain": []
     },
     "metadata": {},
     "output_type": "display_data"
    },
    {
     "data": {
      "text/html": [
       "<pre style=\"white-space:pre;overflow-x:auto;line-height:normal;font-family:Menlo,'DejaVu Sans Mono',consolas,'Courier New',monospace\"></pre>\n"
      ],
      "text/plain": []
     },
     "metadata": {},
     "output_type": "display_data"
    },
    {
     "data": {
      "text/html": [
       "<pre style=\"white-space:pre;overflow-x:auto;line-height:normal;font-family:Menlo,'DejaVu Sans Mono',consolas,'Courier New',monospace\"></pre>\n"
      ],
      "text/plain": []
     },
     "metadata": {},
     "output_type": "display_data"
    },
    {
     "data": {
      "text/html": [
       "<pre style=\"white-space:pre;overflow-x:auto;line-height:normal;font-family:Menlo,'DejaVu Sans Mono',consolas,'Courier New',monospace\"></pre>\n"
      ],
      "text/plain": []
     },
     "metadata": {},
     "output_type": "display_data"
    },
    {
     "data": {
      "text/html": [
       "<pre style=\"white-space:pre;overflow-x:auto;line-height:normal;font-family:Menlo,'DejaVu Sans Mono',consolas,'Courier New',monospace\"></pre>\n"
      ],
      "text/plain": []
     },
     "metadata": {},
     "output_type": "display_data"
    },
    {
     "data": {
      "text/html": [
       "<pre style=\"white-space:pre;overflow-x:auto;line-height:normal;font-family:Menlo,'DejaVu Sans Mono',consolas,'Courier New',monospace\"></pre>\n"
      ],
      "text/plain": []
     },
     "metadata": {},
     "output_type": "display_data"
    },
    {
     "data": {
      "text/html": [
       "<pre style=\"white-space:pre;overflow-x:auto;line-height:normal;font-family:Menlo,'DejaVu Sans Mono',consolas,'Courier New',monospace\"></pre>\n"
      ],
      "text/plain": []
     },
     "metadata": {},
     "output_type": "display_data"
    },
    {
     "data": {
      "text/html": [
       "<pre style=\"white-space:pre;overflow-x:auto;line-height:normal;font-family:Menlo,'DejaVu Sans Mono',consolas,'Courier New',monospace\"></pre>\n"
      ],
      "text/plain": []
     },
     "metadata": {},
     "output_type": "display_data"
    },
    {
     "data": {
      "text/html": [
       "<pre style=\"white-space:pre;overflow-x:auto;line-height:normal;font-family:Menlo,'DejaVu Sans Mono',consolas,'Courier New',monospace\"></pre>\n"
      ],
      "text/plain": []
     },
     "metadata": {},
     "output_type": "display_data"
    },
    {
     "data": {
      "text/html": [
       "<pre style=\"white-space:pre;overflow-x:auto;line-height:normal;font-family:Menlo,'DejaVu Sans Mono',consolas,'Courier New',monospace\"></pre>\n"
      ],
      "text/plain": []
     },
     "metadata": {},
     "output_type": "display_data"
    },
    {
     "data": {
      "text/html": [
       "<pre style=\"white-space:pre;overflow-x:auto;line-height:normal;font-family:Menlo,'DejaVu Sans Mono',consolas,'Courier New',monospace\"></pre>\n"
      ],
      "text/plain": []
     },
     "metadata": {},
     "output_type": "display_data"
    },
    {
     "data": {
      "text/html": [
       "<pre style=\"white-space:pre;overflow-x:auto;line-height:normal;font-family:Menlo,'DejaVu Sans Mono',consolas,'Courier New',monospace\"></pre>\n"
      ],
      "text/plain": []
     },
     "metadata": {},
     "output_type": "display_data"
    },
    {
     "data": {
      "text/html": [
       "<pre style=\"white-space:pre;overflow-x:auto;line-height:normal;font-family:Menlo,'DejaVu Sans Mono',consolas,'Courier New',monospace\"></pre>\n"
      ],
      "text/plain": []
     },
     "metadata": {},
     "output_type": "display_data"
    },
    {
     "data": {
      "text/html": [
       "<pre style=\"white-space:pre;overflow-x:auto;line-height:normal;font-family:Menlo,'DejaVu Sans Mono',consolas,'Courier New',monospace\"></pre>\n"
      ],
      "text/plain": []
     },
     "metadata": {},
     "output_type": "display_data"
    },
    {
     "data": {
      "text/html": [
       "<pre style=\"white-space:pre;overflow-x:auto;line-height:normal;font-family:Menlo,'DejaVu Sans Mono',consolas,'Courier New',monospace\"></pre>\n"
      ],
      "text/plain": []
     },
     "metadata": {},
     "output_type": "display_data"
    },
    {
     "data": {
      "text/html": [
       "<pre style=\"white-space:pre;overflow-x:auto;line-height:normal;font-family:Menlo,'DejaVu Sans Mono',consolas,'Courier New',monospace\"></pre>\n"
      ],
      "text/plain": []
     },
     "metadata": {},
     "output_type": "display_data"
    },
    {
     "data": {
      "text/html": [
       "<pre style=\"white-space:pre;overflow-x:auto;line-height:normal;font-family:Menlo,'DejaVu Sans Mono',consolas,'Courier New',monospace\"></pre>\n"
      ],
      "text/plain": []
     },
     "metadata": {},
     "output_type": "display_data"
    },
    {
     "data": {
      "text/html": [
       "<pre style=\"white-space:pre;overflow-x:auto;line-height:normal;font-family:Menlo,'DejaVu Sans Mono',consolas,'Courier New',monospace\"></pre>\n"
      ],
      "text/plain": []
     },
     "metadata": {},
     "output_type": "display_data"
    },
    {
     "data": {
      "text/html": [
       "<pre style=\"white-space:pre;overflow-x:auto;line-height:normal;font-family:Menlo,'DejaVu Sans Mono',consolas,'Courier New',monospace\"></pre>\n"
      ],
      "text/plain": []
     },
     "metadata": {},
     "output_type": "display_data"
    },
    {
     "data": {
      "text/html": [
       "<pre style=\"white-space:pre;overflow-x:auto;line-height:normal;font-family:Menlo,'DejaVu Sans Mono',consolas,'Courier New',monospace\"></pre>\n"
      ],
      "text/plain": []
     },
     "metadata": {},
     "output_type": "display_data"
    },
    {
     "data": {
      "text/html": [
       "<pre style=\"white-space:pre;overflow-x:auto;line-height:normal;font-family:Menlo,'DejaVu Sans Mono',consolas,'Courier New',monospace\"></pre>\n"
      ],
      "text/plain": []
     },
     "metadata": {},
     "output_type": "display_data"
    },
    {
     "data": {
      "text/html": [
       "<pre style=\"white-space:pre;overflow-x:auto;line-height:normal;font-family:Menlo,'DejaVu Sans Mono',consolas,'Courier New',monospace\"></pre>\n"
      ],
      "text/plain": []
     },
     "metadata": {},
     "output_type": "display_data"
    },
    {
     "data": {
      "text/html": [
       "<pre style=\"white-space:pre;overflow-x:auto;line-height:normal;font-family:Menlo,'DejaVu Sans Mono',consolas,'Courier New',monospace\"></pre>\n"
      ],
      "text/plain": []
     },
     "metadata": {},
     "output_type": "display_data"
    },
    {
     "data": {
      "text/html": [
       "<pre style=\"white-space:pre;overflow-x:auto;line-height:normal;font-family:Menlo,'DejaVu Sans Mono',consolas,'Courier New',monospace\"></pre>\n"
      ],
      "text/plain": []
     },
     "metadata": {},
     "output_type": "display_data"
    },
    {
     "data": {
      "text/html": [
       "<pre style=\"white-space:pre;overflow-x:auto;line-height:normal;font-family:Menlo,'DejaVu Sans Mono',consolas,'Courier New',monospace\"></pre>\n"
      ],
      "text/plain": []
     },
     "metadata": {},
     "output_type": "display_data"
    },
    {
     "data": {
      "text/html": [
       "<pre style=\"white-space:pre;overflow-x:auto;line-height:normal;font-family:Menlo,'DejaVu Sans Mono',consolas,'Courier New',monospace\"></pre>\n"
      ],
      "text/plain": []
     },
     "metadata": {},
     "output_type": "display_data"
    },
    {
     "data": {
      "text/html": [
       "<pre style=\"white-space:pre;overflow-x:auto;line-height:normal;font-family:Menlo,'DejaVu Sans Mono',consolas,'Courier New',monospace\"></pre>\n"
      ],
      "text/plain": []
     },
     "metadata": {},
     "output_type": "display_data"
    },
    {
     "data": {
      "text/html": [
       "<pre style=\"white-space:pre;overflow-x:auto;line-height:normal;font-family:Menlo,'DejaVu Sans Mono',consolas,'Courier New',monospace\"></pre>\n"
      ],
      "text/plain": []
     },
     "metadata": {},
     "output_type": "display_data"
    },
    {
     "data": {
      "text/html": [
       "<pre style=\"white-space:pre;overflow-x:auto;line-height:normal;font-family:Menlo,'DejaVu Sans Mono',consolas,'Courier New',monospace\"></pre>\n"
      ],
      "text/plain": []
     },
     "metadata": {},
     "output_type": "display_data"
    },
    {
     "data": {
      "text/html": [
       "<pre style=\"white-space:pre;overflow-x:auto;line-height:normal;font-family:Menlo,'DejaVu Sans Mono',consolas,'Courier New',monospace\"></pre>\n"
      ],
      "text/plain": []
     },
     "metadata": {},
     "output_type": "display_data"
    },
    {
     "data": {
      "text/html": [
       "<pre style=\"white-space:pre;overflow-x:auto;line-height:normal;font-family:Menlo,'DejaVu Sans Mono',consolas,'Courier New',monospace\"></pre>\n"
      ],
      "text/plain": []
     },
     "metadata": {},
     "output_type": "display_data"
    },
    {
     "data": {
      "text/html": [
       "<pre style=\"white-space:pre;overflow-x:auto;line-height:normal;font-family:Menlo,'DejaVu Sans Mono',consolas,'Courier New',monospace\"></pre>\n"
      ],
      "text/plain": []
     },
     "metadata": {},
     "output_type": "display_data"
    },
    {
     "data": {
      "text/html": [
       "<pre style=\"white-space:pre;overflow-x:auto;line-height:normal;font-family:Menlo,'DejaVu Sans Mono',consolas,'Courier New',monospace\"></pre>\n"
      ],
      "text/plain": []
     },
     "metadata": {},
     "output_type": "display_data"
    },
    {
     "data": {
      "text/html": [
       "<pre style=\"white-space:pre;overflow-x:auto;line-height:normal;font-family:Menlo,'DejaVu Sans Mono',consolas,'Courier New',monospace\"></pre>\n"
      ],
      "text/plain": []
     },
     "metadata": {},
     "output_type": "display_data"
    },
    {
     "data": {
      "text/html": [
       "<pre style=\"white-space:pre;overflow-x:auto;line-height:normal;font-family:Menlo,'DejaVu Sans Mono',consolas,'Courier New',monospace\"></pre>\n"
      ],
      "text/plain": []
     },
     "metadata": {},
     "output_type": "display_data"
    },
    {
     "data": {
      "text/html": [
       "<pre style=\"white-space:pre;overflow-x:auto;line-height:normal;font-family:Menlo,'DejaVu Sans Mono',consolas,'Courier New',monospace\"></pre>\n"
      ],
      "text/plain": []
     },
     "metadata": {},
     "output_type": "display_data"
    },
    {
     "data": {
      "text/html": [
       "<pre style=\"white-space:pre;overflow-x:auto;line-height:normal;font-family:Menlo,'DejaVu Sans Mono',consolas,'Courier New',monospace\"></pre>\n"
      ],
      "text/plain": []
     },
     "metadata": {},
     "output_type": "display_data"
    },
    {
     "data": {
      "text/html": [
       "<pre style=\"white-space:pre;overflow-x:auto;line-height:normal;font-family:Menlo,'DejaVu Sans Mono',consolas,'Courier New',monospace\"></pre>\n"
      ],
      "text/plain": []
     },
     "metadata": {},
     "output_type": "display_data"
    },
    {
     "data": {
      "text/html": [
       "<pre style=\"white-space:pre;overflow-x:auto;line-height:normal;font-family:Menlo,'DejaVu Sans Mono',consolas,'Courier New',monospace\"></pre>\n"
      ],
      "text/plain": []
     },
     "metadata": {},
     "output_type": "display_data"
    },
    {
     "data": {
      "text/html": [
       "<pre style=\"white-space:pre;overflow-x:auto;line-height:normal;font-family:Menlo,'DejaVu Sans Mono',consolas,'Courier New',monospace\"></pre>\n"
      ],
      "text/plain": []
     },
     "metadata": {},
     "output_type": "display_data"
    },
    {
     "data": {
      "text/html": [
       "<pre style=\"white-space:pre;overflow-x:auto;line-height:normal;font-family:Menlo,'DejaVu Sans Mono',consolas,'Courier New',monospace\"></pre>\n"
      ],
      "text/plain": []
     },
     "metadata": {},
     "output_type": "display_data"
    },
    {
     "data": {
      "text/html": [
       "<pre style=\"white-space:pre;overflow-x:auto;line-height:normal;font-family:Menlo,'DejaVu Sans Mono',consolas,'Courier New',monospace\"></pre>\n"
      ],
      "text/plain": []
     },
     "metadata": {},
     "output_type": "display_data"
    },
    {
     "data": {
      "text/html": [
       "<pre style=\"white-space:pre;overflow-x:auto;line-height:normal;font-family:Menlo,'DejaVu Sans Mono',consolas,'Courier New',monospace\"></pre>\n"
      ],
      "text/plain": []
     },
     "metadata": {},
     "output_type": "display_data"
    },
    {
     "data": {
      "text/html": [
       "<pre style=\"white-space:pre;overflow-x:auto;line-height:normal;font-family:Menlo,'DejaVu Sans Mono',consolas,'Courier New',monospace\"></pre>\n"
      ],
      "text/plain": []
     },
     "metadata": {},
     "output_type": "display_data"
    },
    {
     "data": {
      "text/html": [
       "<pre style=\"white-space:pre;overflow-x:auto;line-height:normal;font-family:Menlo,'DejaVu Sans Mono',consolas,'Courier New',monospace\"></pre>\n"
      ],
      "text/plain": []
     },
     "metadata": {},
     "output_type": "display_data"
    },
    {
     "data": {
      "text/html": [
       "<pre style=\"white-space:pre;overflow-x:auto;line-height:normal;font-family:Menlo,'DejaVu Sans Mono',consolas,'Courier New',monospace\"></pre>\n"
      ],
      "text/plain": []
     },
     "metadata": {},
     "output_type": "display_data"
    },
    {
     "data": {
      "text/html": [
       "<pre style=\"white-space:pre;overflow-x:auto;line-height:normal;font-family:Menlo,'DejaVu Sans Mono',consolas,'Courier New',monospace\"></pre>\n"
      ],
      "text/plain": []
     },
     "metadata": {},
     "output_type": "display_data"
    },
    {
     "data": {
      "text/html": [
       "<pre style=\"white-space:pre;overflow-x:auto;line-height:normal;font-family:Menlo,'DejaVu Sans Mono',consolas,'Courier New',monospace\"></pre>\n"
      ],
      "text/plain": []
     },
     "metadata": {},
     "output_type": "display_data"
    },
    {
     "data": {
      "text/html": [
       "<pre style=\"white-space:pre;overflow-x:auto;line-height:normal;font-family:Menlo,'DejaVu Sans Mono',consolas,'Courier New',monospace\"></pre>\n"
      ],
      "text/plain": []
     },
     "metadata": {},
     "output_type": "display_data"
    },
    {
     "data": {
      "text/html": [
       "<pre style=\"white-space:pre;overflow-x:auto;line-height:normal;font-family:Menlo,'DejaVu Sans Mono',consolas,'Courier New',monospace\"></pre>\n"
      ],
      "text/plain": []
     },
     "metadata": {},
     "output_type": "display_data"
    },
    {
     "data": {
      "text/html": [
       "<pre style=\"white-space:pre;overflow-x:auto;line-height:normal;font-family:Menlo,'DejaVu Sans Mono',consolas,'Courier New',monospace\"></pre>\n"
      ],
      "text/plain": []
     },
     "metadata": {},
     "output_type": "display_data"
    },
    {
     "data": {
      "text/html": [
       "<pre style=\"white-space:pre;overflow-x:auto;line-height:normal;font-family:Menlo,'DejaVu Sans Mono',consolas,'Courier New',monospace\"></pre>\n"
      ],
      "text/plain": []
     },
     "metadata": {},
     "output_type": "display_data"
    },
    {
     "data": {
      "text/html": [
       "<pre style=\"white-space:pre;overflow-x:auto;line-height:normal;font-family:Menlo,'DejaVu Sans Mono',consolas,'Courier New',monospace\"></pre>\n"
      ],
      "text/plain": []
     },
     "metadata": {},
     "output_type": "display_data"
    },
    {
     "data": {
      "text/html": [
       "<pre style=\"white-space:pre;overflow-x:auto;line-height:normal;font-family:Menlo,'DejaVu Sans Mono',consolas,'Courier New',monospace\"></pre>\n"
      ],
      "text/plain": []
     },
     "metadata": {},
     "output_type": "display_data"
    },
    {
     "data": {
      "text/html": [
       "<pre style=\"white-space:pre;overflow-x:auto;line-height:normal;font-family:Menlo,'DejaVu Sans Mono',consolas,'Courier New',monospace\"></pre>\n"
      ],
      "text/plain": []
     },
     "metadata": {},
     "output_type": "display_data"
    },
    {
     "data": {
      "text/html": [
       "<pre style=\"white-space:pre;overflow-x:auto;line-height:normal;font-family:Menlo,'DejaVu Sans Mono',consolas,'Courier New',monospace\"></pre>\n"
      ],
      "text/plain": []
     },
     "metadata": {},
     "output_type": "display_data"
    },
    {
     "data": {
      "text/html": [
       "<pre style=\"white-space:pre;overflow-x:auto;line-height:normal;font-family:Menlo,'DejaVu Sans Mono',consolas,'Courier New',monospace\"></pre>\n"
      ],
      "text/plain": []
     },
     "metadata": {},
     "output_type": "display_data"
    },
    {
     "data": {
      "text/html": [
       "<pre style=\"white-space:pre;overflow-x:auto;line-height:normal;font-family:Menlo,'DejaVu Sans Mono',consolas,'Courier New',monospace\"></pre>\n"
      ],
      "text/plain": []
     },
     "metadata": {},
     "output_type": "display_data"
    },
    {
     "data": {
      "text/html": [
       "<pre style=\"white-space:pre;overflow-x:auto;line-height:normal;font-family:Menlo,'DejaVu Sans Mono',consolas,'Courier New',monospace\"></pre>\n"
      ],
      "text/plain": []
     },
     "metadata": {},
     "output_type": "display_data"
    },
    {
     "data": {
      "text/html": [
       "<pre style=\"white-space:pre;overflow-x:auto;line-height:normal;font-family:Menlo,'DejaVu Sans Mono',consolas,'Courier New',monospace\"></pre>\n"
      ],
      "text/plain": []
     },
     "metadata": {},
     "output_type": "display_data"
    },
    {
     "data": {
      "text/html": [
       "<pre style=\"white-space:pre;overflow-x:auto;line-height:normal;font-family:Menlo,'DejaVu Sans Mono',consolas,'Courier New',monospace\"></pre>\n"
      ],
      "text/plain": []
     },
     "metadata": {},
     "output_type": "display_data"
    },
    {
     "data": {
      "text/html": [
       "<pre style=\"white-space:pre;overflow-x:auto;line-height:normal;font-family:Menlo,'DejaVu Sans Mono',consolas,'Courier New',monospace\"></pre>\n"
      ],
      "text/plain": []
     },
     "metadata": {},
     "output_type": "display_data"
    },
    {
     "data": {
      "text/html": [
       "<pre style=\"white-space:pre;overflow-x:auto;line-height:normal;font-family:Menlo,'DejaVu Sans Mono',consolas,'Courier New',monospace\"></pre>\n"
      ],
      "text/plain": []
     },
     "metadata": {},
     "output_type": "display_data"
    },
    {
     "data": {
      "text/html": [
       "<pre style=\"white-space:pre;overflow-x:auto;line-height:normal;font-family:Menlo,'DejaVu Sans Mono',consolas,'Courier New',monospace\"></pre>\n"
      ],
      "text/plain": []
     },
     "metadata": {},
     "output_type": "display_data"
    },
    {
     "data": {
      "text/html": [
       "<pre style=\"white-space:pre;overflow-x:auto;line-height:normal;font-family:Menlo,'DejaVu Sans Mono',consolas,'Courier New',monospace\"></pre>\n"
      ],
      "text/plain": []
     },
     "metadata": {},
     "output_type": "display_data"
    },
    {
     "data": {
      "text/html": [
       "<pre style=\"white-space:pre;overflow-x:auto;line-height:normal;font-family:Menlo,'DejaVu Sans Mono',consolas,'Courier New',monospace\"></pre>\n"
      ],
      "text/plain": []
     },
     "metadata": {},
     "output_type": "display_data"
    },
    {
     "data": {
      "text/html": [
       "<pre style=\"white-space:pre;overflow-x:auto;line-height:normal;font-family:Menlo,'DejaVu Sans Mono',consolas,'Courier New',monospace\"></pre>\n"
      ],
      "text/plain": []
     },
     "metadata": {},
     "output_type": "display_data"
    },
    {
     "data": {
      "text/html": [
       "<pre style=\"white-space:pre;overflow-x:auto;line-height:normal;font-family:Menlo,'DejaVu Sans Mono',consolas,'Courier New',monospace\"></pre>\n"
      ],
      "text/plain": []
     },
     "metadata": {},
     "output_type": "display_data"
    },
    {
     "data": {
      "text/html": [
       "<pre style=\"white-space:pre;overflow-x:auto;line-height:normal;font-family:Menlo,'DejaVu Sans Mono',consolas,'Courier New',monospace\"></pre>\n"
      ],
      "text/plain": []
     },
     "metadata": {},
     "output_type": "display_data"
    },
    {
     "data": {
      "text/html": [
       "<pre style=\"white-space:pre;overflow-x:auto;line-height:normal;font-family:Menlo,'DejaVu Sans Mono',consolas,'Courier New',monospace\"></pre>\n"
      ],
      "text/plain": []
     },
     "metadata": {},
     "output_type": "display_data"
    },
    {
     "data": {
      "text/html": [
       "<pre style=\"white-space:pre;overflow-x:auto;line-height:normal;font-family:Menlo,'DejaVu Sans Mono',consolas,'Courier New',monospace\"></pre>\n"
      ],
      "text/plain": []
     },
     "metadata": {},
     "output_type": "display_data"
    },
    {
     "data": {
      "text/html": [
       "<pre style=\"white-space:pre;overflow-x:auto;line-height:normal;font-family:Menlo,'DejaVu Sans Mono',consolas,'Courier New',monospace\"></pre>\n"
      ],
      "text/plain": []
     },
     "metadata": {},
     "output_type": "display_data"
    },
    {
     "data": {
      "text/html": [
       "<pre style=\"white-space:pre;overflow-x:auto;line-height:normal;font-family:Menlo,'DejaVu Sans Mono',consolas,'Courier New',monospace\"></pre>\n"
      ],
      "text/plain": []
     },
     "metadata": {},
     "output_type": "display_data"
    },
    {
     "data": {
      "text/html": [
       "<pre style=\"white-space:pre;overflow-x:auto;line-height:normal;font-family:Menlo,'DejaVu Sans Mono',consolas,'Courier New',monospace\"></pre>\n"
      ],
      "text/plain": []
     },
     "metadata": {},
     "output_type": "display_data"
    },
    {
     "data": {
      "text/html": [
       "<pre style=\"white-space:pre;overflow-x:auto;line-height:normal;font-family:Menlo,'DejaVu Sans Mono',consolas,'Courier New',monospace\"></pre>\n"
      ],
      "text/plain": []
     },
     "metadata": {},
     "output_type": "display_data"
    },
    {
     "data": {
      "text/html": [
       "<pre style=\"white-space:pre;overflow-x:auto;line-height:normal;font-family:Menlo,'DejaVu Sans Mono',consolas,'Courier New',monospace\"></pre>\n"
      ],
      "text/plain": []
     },
     "metadata": {},
     "output_type": "display_data"
    },
    {
     "data": {
      "text/html": [
       "<pre style=\"white-space:pre;overflow-x:auto;line-height:normal;font-family:Menlo,'DejaVu Sans Mono',consolas,'Courier New',monospace\"></pre>\n"
      ],
      "text/plain": []
     },
     "metadata": {},
     "output_type": "display_data"
    },
    {
     "data": {
      "text/html": [
       "<pre style=\"white-space:pre;overflow-x:auto;line-height:normal;font-family:Menlo,'DejaVu Sans Mono',consolas,'Courier New',monospace\"></pre>\n"
      ],
      "text/plain": []
     },
     "metadata": {},
     "output_type": "display_data"
    },
    {
     "data": {
      "text/html": [
       "<pre style=\"white-space:pre;overflow-x:auto;line-height:normal;font-family:Menlo,'DejaVu Sans Mono',consolas,'Courier New',monospace\"></pre>\n"
      ],
      "text/plain": []
     },
     "metadata": {},
     "output_type": "display_data"
    },
    {
     "data": {
      "text/html": [
       "<pre style=\"white-space:pre;overflow-x:auto;line-height:normal;font-family:Menlo,'DejaVu Sans Mono',consolas,'Courier New',monospace\"></pre>\n"
      ],
      "text/plain": []
     },
     "metadata": {},
     "output_type": "display_data"
    },
    {
     "data": {
      "text/html": [
       "<pre style=\"white-space:pre;overflow-x:auto;line-height:normal;font-family:Menlo,'DejaVu Sans Mono',consolas,'Courier New',monospace\"></pre>\n"
      ],
      "text/plain": []
     },
     "metadata": {},
     "output_type": "display_data"
    },
    {
     "data": {
      "text/html": [
       "<pre style=\"white-space:pre;overflow-x:auto;line-height:normal;font-family:Menlo,'DejaVu Sans Mono',consolas,'Courier New',monospace\"></pre>\n"
      ],
      "text/plain": []
     },
     "metadata": {},
     "output_type": "display_data"
    },
    {
     "data": {
      "text/html": [
       "<pre style=\"white-space:pre;overflow-x:auto;line-height:normal;font-family:Menlo,'DejaVu Sans Mono',consolas,'Courier New',monospace\"></pre>\n"
      ],
      "text/plain": []
     },
     "metadata": {},
     "output_type": "display_data"
    },
    {
     "data": {
      "text/html": [
       "<pre style=\"white-space:pre;overflow-x:auto;line-height:normal;font-family:Menlo,'DejaVu Sans Mono',consolas,'Courier New',monospace\"></pre>\n"
      ],
      "text/plain": []
     },
     "metadata": {},
     "output_type": "display_data"
    },
    {
     "data": {
      "text/html": [
       "<pre style=\"white-space:pre;overflow-x:auto;line-height:normal;font-family:Menlo,'DejaVu Sans Mono',consolas,'Courier New',monospace\"></pre>\n"
      ],
      "text/plain": []
     },
     "metadata": {},
     "output_type": "display_data"
    },
    {
     "data": {
      "text/html": [
       "<pre style=\"white-space:pre;overflow-x:auto;line-height:normal;font-family:Menlo,'DejaVu Sans Mono',consolas,'Courier New',monospace\"></pre>\n"
      ],
      "text/plain": []
     },
     "metadata": {},
     "output_type": "display_data"
    },
    {
     "data": {
      "text/html": [
       "<pre style=\"white-space:pre;overflow-x:auto;line-height:normal;font-family:Menlo,'DejaVu Sans Mono',consolas,'Courier New',monospace\"></pre>\n"
      ],
      "text/plain": []
     },
     "metadata": {},
     "output_type": "display_data"
    },
    {
     "data": {
      "text/html": [
       "<pre style=\"white-space:pre;overflow-x:auto;line-height:normal;font-family:Menlo,'DejaVu Sans Mono',consolas,'Courier New',monospace\"></pre>\n"
      ],
      "text/plain": []
     },
     "metadata": {},
     "output_type": "display_data"
    },
    {
     "data": {
      "text/html": [
       "<pre style=\"white-space:pre;overflow-x:auto;line-height:normal;font-family:Menlo,'DejaVu Sans Mono',consolas,'Courier New',monospace\"></pre>\n"
      ],
      "text/plain": []
     },
     "metadata": {},
     "output_type": "display_data"
    },
    {
     "data": {
      "text/html": [
       "<pre style=\"white-space:pre;overflow-x:auto;line-height:normal;font-family:Menlo,'DejaVu Sans Mono',consolas,'Courier New',monospace\"></pre>\n"
      ],
      "text/plain": []
     },
     "metadata": {},
     "output_type": "display_data"
    },
    {
     "data": {
      "text/html": [
       "<pre style=\"white-space:pre;overflow-x:auto;line-height:normal;font-family:Menlo,'DejaVu Sans Mono',consolas,'Courier New',monospace\"></pre>\n"
      ],
      "text/plain": []
     },
     "metadata": {},
     "output_type": "display_data"
    },
    {
     "data": {
      "text/html": [
       "<pre style=\"white-space:pre;overflow-x:auto;line-height:normal;font-family:Menlo,'DejaVu Sans Mono',consolas,'Courier New',monospace\"></pre>\n"
      ],
      "text/plain": []
     },
     "metadata": {},
     "output_type": "display_data"
    },
    {
     "data": {
      "text/html": [
       "<pre style=\"white-space:pre;overflow-x:auto;line-height:normal;font-family:Menlo,'DejaVu Sans Mono',consolas,'Courier New',monospace\"></pre>\n"
      ],
      "text/plain": []
     },
     "metadata": {},
     "output_type": "display_data"
    },
    {
     "data": {
      "text/html": [
       "<pre style=\"white-space:pre;overflow-x:auto;line-height:normal;font-family:Menlo,'DejaVu Sans Mono',consolas,'Courier New',monospace\"></pre>\n"
      ],
      "text/plain": []
     },
     "metadata": {},
     "output_type": "display_data"
    },
    {
     "data": {
      "text/html": [
       "<pre style=\"white-space:pre;overflow-x:auto;line-height:normal;font-family:Menlo,'DejaVu Sans Mono',consolas,'Courier New',monospace\"></pre>\n"
      ],
      "text/plain": []
     },
     "metadata": {},
     "output_type": "display_data"
    },
    {
     "data": {
      "text/html": [
       "<pre style=\"white-space:pre;overflow-x:auto;line-height:normal;font-family:Menlo,'DejaVu Sans Mono',consolas,'Courier New',monospace\"></pre>\n"
      ],
      "text/plain": []
     },
     "metadata": {},
     "output_type": "display_data"
    },
    {
     "data": {
      "text/html": [
       "<pre style=\"white-space:pre;overflow-x:auto;line-height:normal;font-family:Menlo,'DejaVu Sans Mono',consolas,'Courier New',monospace\"></pre>\n"
      ],
      "text/plain": []
     },
     "metadata": {},
     "output_type": "display_data"
    },
    {
     "data": {
      "text/html": [
       "<pre style=\"white-space:pre;overflow-x:auto;line-height:normal;font-family:Menlo,'DejaVu Sans Mono',consolas,'Courier New',monospace\"></pre>\n"
      ],
      "text/plain": []
     },
     "metadata": {},
     "output_type": "display_data"
    },
    {
     "data": {
      "text/html": [
       "<pre style=\"white-space:pre;overflow-x:auto;line-height:normal;font-family:Menlo,'DejaVu Sans Mono',consolas,'Courier New',monospace\"></pre>\n"
      ],
      "text/plain": []
     },
     "metadata": {},
     "output_type": "display_data"
    },
    {
     "data": {
      "text/html": [
       "<pre style=\"white-space:pre;overflow-x:auto;line-height:normal;font-family:Menlo,'DejaVu Sans Mono',consolas,'Courier New',monospace\"></pre>\n"
      ],
      "text/plain": []
     },
     "metadata": {},
     "output_type": "display_data"
    },
    {
     "data": {
      "text/html": [
       "<pre style=\"white-space:pre;overflow-x:auto;line-height:normal;font-family:Menlo,'DejaVu Sans Mono',consolas,'Courier New',monospace\"></pre>\n"
      ],
      "text/plain": []
     },
     "metadata": {},
     "output_type": "display_data"
    },
    {
     "data": {
      "text/html": [
       "<pre style=\"white-space:pre;overflow-x:auto;line-height:normal;font-family:Menlo,'DejaVu Sans Mono',consolas,'Courier New',monospace\"></pre>\n"
      ],
      "text/plain": []
     },
     "metadata": {},
     "output_type": "display_data"
    },
    {
     "data": {
      "text/html": [
       "<pre style=\"white-space:pre;overflow-x:auto;line-height:normal;font-family:Menlo,'DejaVu Sans Mono',consolas,'Courier New',monospace\"></pre>\n"
      ],
      "text/plain": []
     },
     "metadata": {},
     "output_type": "display_data"
    },
    {
     "data": {
      "text/html": [
       "<pre style=\"white-space:pre;overflow-x:auto;line-height:normal;font-family:Menlo,'DejaVu Sans Mono',consolas,'Courier New',monospace\"></pre>\n"
      ],
      "text/plain": []
     },
     "metadata": {},
     "output_type": "display_data"
    },
    {
     "data": {
      "text/html": [
       "<pre style=\"white-space:pre;overflow-x:auto;line-height:normal;font-family:Menlo,'DejaVu Sans Mono',consolas,'Courier New',monospace\"></pre>\n"
      ],
      "text/plain": []
     },
     "metadata": {},
     "output_type": "display_data"
    },
    {
     "data": {
      "text/html": [
       "<pre style=\"white-space:pre;overflow-x:auto;line-height:normal;font-family:Menlo,'DejaVu Sans Mono',consolas,'Courier New',monospace\"></pre>\n"
      ],
      "text/plain": []
     },
     "metadata": {},
     "output_type": "display_data"
    },
    {
     "data": {
      "text/html": [
       "<pre style=\"white-space:pre;overflow-x:auto;line-height:normal;font-family:Menlo,'DejaVu Sans Mono',consolas,'Courier New',monospace\"></pre>\n"
      ],
      "text/plain": []
     },
     "metadata": {},
     "output_type": "display_data"
    },
    {
     "data": {
      "text/html": [
       "<pre style=\"white-space:pre;overflow-x:auto;line-height:normal;font-family:Menlo,'DejaVu Sans Mono',consolas,'Courier New',monospace\"></pre>\n"
      ],
      "text/plain": []
     },
     "metadata": {},
     "output_type": "display_data"
    },
    {
     "data": {
      "text/html": [
       "<pre style=\"white-space:pre;overflow-x:auto;line-height:normal;font-family:Menlo,'DejaVu Sans Mono',consolas,'Courier New',monospace\"></pre>\n"
      ],
      "text/plain": []
     },
     "metadata": {},
     "output_type": "display_data"
    },
    {
     "data": {
      "text/html": [
       "<pre style=\"white-space:pre;overflow-x:auto;line-height:normal;font-family:Menlo,'DejaVu Sans Mono',consolas,'Courier New',monospace\"></pre>\n"
      ],
      "text/plain": []
     },
     "metadata": {},
     "output_type": "display_data"
    },
    {
     "data": {
      "text/html": [
       "<pre style=\"white-space:pre;overflow-x:auto;line-height:normal;font-family:Menlo,'DejaVu Sans Mono',consolas,'Courier New',monospace\"></pre>\n"
      ],
      "text/plain": []
     },
     "metadata": {},
     "output_type": "display_data"
    },
    {
     "data": {
      "text/html": [
       "<pre style=\"white-space:pre;overflow-x:auto;line-height:normal;font-family:Menlo,'DejaVu Sans Mono',consolas,'Courier New',monospace\"></pre>\n"
      ],
      "text/plain": []
     },
     "metadata": {},
     "output_type": "display_data"
    },
    {
     "data": {
      "text/html": [
       "<pre style=\"white-space:pre;overflow-x:auto;line-height:normal;font-family:Menlo,'DejaVu Sans Mono',consolas,'Courier New',monospace\"></pre>\n"
      ],
      "text/plain": []
     },
     "metadata": {},
     "output_type": "display_data"
    },
    {
     "data": {
      "text/html": [
       "<pre style=\"white-space:pre;overflow-x:auto;line-height:normal;font-family:Menlo,'DejaVu Sans Mono',consolas,'Courier New',monospace\"></pre>\n"
      ],
      "text/plain": []
     },
     "metadata": {},
     "output_type": "display_data"
    },
    {
     "data": {
      "text/html": [
       "<pre style=\"white-space:pre;overflow-x:auto;line-height:normal;font-family:Menlo,'DejaVu Sans Mono',consolas,'Courier New',monospace\"></pre>\n"
      ],
      "text/plain": []
     },
     "metadata": {},
     "output_type": "display_data"
    },
    {
     "data": {
      "text/html": [
       "<pre style=\"white-space:pre;overflow-x:auto;line-height:normal;font-family:Menlo,'DejaVu Sans Mono',consolas,'Courier New',monospace\"></pre>\n"
      ],
      "text/plain": []
     },
     "metadata": {},
     "output_type": "display_data"
    },
    {
     "data": {
      "text/html": [
       "<pre style=\"white-space:pre;overflow-x:auto;line-height:normal;font-family:Menlo,'DejaVu Sans Mono',consolas,'Courier New',monospace\"></pre>\n"
      ],
      "text/plain": []
     },
     "metadata": {},
     "output_type": "display_data"
    },
    {
     "data": {
      "text/html": [
       "<pre style=\"white-space:pre;overflow-x:auto;line-height:normal;font-family:Menlo,'DejaVu Sans Mono',consolas,'Courier New',monospace\"></pre>\n"
      ],
      "text/plain": []
     },
     "metadata": {},
     "output_type": "display_data"
    },
    {
     "data": {
      "text/html": [
       "<pre style=\"white-space:pre;overflow-x:auto;line-height:normal;font-family:Menlo,'DejaVu Sans Mono',consolas,'Courier New',monospace\"></pre>\n"
      ],
      "text/plain": []
     },
     "metadata": {},
     "output_type": "display_data"
    },
    {
     "data": {
      "text/html": [
       "<pre style=\"white-space:pre;overflow-x:auto;line-height:normal;font-family:Menlo,'DejaVu Sans Mono',consolas,'Courier New',monospace\"></pre>\n"
      ],
      "text/plain": []
     },
     "metadata": {},
     "output_type": "display_data"
    },
    {
     "data": {
      "text/html": [
       "<pre style=\"white-space:pre;overflow-x:auto;line-height:normal;font-family:Menlo,'DejaVu Sans Mono',consolas,'Courier New',monospace\"></pre>\n"
      ],
      "text/plain": []
     },
     "metadata": {},
     "output_type": "display_data"
    },
    {
     "data": {
      "text/html": [
       "<pre style=\"white-space:pre;overflow-x:auto;line-height:normal;font-family:Menlo,'DejaVu Sans Mono',consolas,'Courier New',monospace\"></pre>\n"
      ],
      "text/plain": []
     },
     "metadata": {},
     "output_type": "display_data"
    },
    {
     "data": {
      "text/html": [
       "<pre style=\"white-space:pre;overflow-x:auto;line-height:normal;font-family:Menlo,'DejaVu Sans Mono',consolas,'Courier New',monospace\"></pre>\n"
      ],
      "text/plain": []
     },
     "metadata": {},
     "output_type": "display_data"
    },
    {
     "data": {
      "text/html": [
       "<pre style=\"white-space:pre;overflow-x:auto;line-height:normal;font-family:Menlo,'DejaVu Sans Mono',consolas,'Courier New',monospace\"></pre>\n"
      ],
      "text/plain": []
     },
     "metadata": {},
     "output_type": "display_data"
    },
    {
     "data": {
      "text/html": [
       "<pre style=\"white-space:pre;overflow-x:auto;line-height:normal;font-family:Menlo,'DejaVu Sans Mono',consolas,'Courier New',monospace\"></pre>\n"
      ],
      "text/plain": []
     },
     "metadata": {},
     "output_type": "display_data"
    },
    {
     "data": {
      "text/html": [
       "<pre style=\"white-space:pre;overflow-x:auto;line-height:normal;font-family:Menlo,'DejaVu Sans Mono',consolas,'Courier New',monospace\"></pre>\n"
      ],
      "text/plain": []
     },
     "metadata": {},
     "output_type": "display_data"
    },
    {
     "data": {
      "text/html": [
       "<pre style=\"white-space:pre;overflow-x:auto;line-height:normal;font-family:Menlo,'DejaVu Sans Mono',consolas,'Courier New',monospace\"></pre>\n"
      ],
      "text/plain": []
     },
     "metadata": {},
     "output_type": "display_data"
    },
    {
     "data": {
      "text/html": [
       "<pre style=\"white-space:pre;overflow-x:auto;line-height:normal;font-family:Menlo,'DejaVu Sans Mono',consolas,'Courier New',monospace\"></pre>\n"
      ],
      "text/plain": []
     },
     "metadata": {},
     "output_type": "display_data"
    },
    {
     "data": {
      "text/html": [
       "<pre style=\"white-space:pre;overflow-x:auto;line-height:normal;font-family:Menlo,'DejaVu Sans Mono',consolas,'Courier New',monospace\"></pre>\n"
      ],
      "text/plain": []
     },
     "metadata": {},
     "output_type": "display_data"
    },
    {
     "data": {
      "text/html": [
       "<pre style=\"white-space:pre;overflow-x:auto;line-height:normal;font-family:Menlo,'DejaVu Sans Mono',consolas,'Courier New',monospace\"></pre>\n"
      ],
      "text/plain": []
     },
     "metadata": {},
     "output_type": "display_data"
    },
    {
     "data": {
      "text/html": [
       "<pre style=\"white-space:pre;overflow-x:auto;line-height:normal;font-family:Menlo,'DejaVu Sans Mono',consolas,'Courier New',monospace\"></pre>\n"
      ],
      "text/plain": []
     },
     "metadata": {},
     "output_type": "display_data"
    },
    {
     "data": {
      "text/html": [
       "<pre style=\"white-space:pre;overflow-x:auto;line-height:normal;font-family:Menlo,'DejaVu Sans Mono',consolas,'Courier New',monospace\"></pre>\n"
      ],
      "text/plain": []
     },
     "metadata": {},
     "output_type": "display_data"
    },
    {
     "data": {
      "text/html": [
       "<pre style=\"white-space:pre;overflow-x:auto;line-height:normal;font-family:Menlo,'DejaVu Sans Mono',consolas,'Courier New',monospace\"></pre>\n"
      ],
      "text/plain": []
     },
     "metadata": {},
     "output_type": "display_data"
    },
    {
     "data": {
      "text/html": [
       "<pre style=\"white-space:pre;overflow-x:auto;line-height:normal;font-family:Menlo,'DejaVu Sans Mono',consolas,'Courier New',monospace\"></pre>\n"
      ],
      "text/plain": []
     },
     "metadata": {},
     "output_type": "display_data"
    },
    {
     "data": {
      "text/html": [
       "<pre style=\"white-space:pre;overflow-x:auto;line-height:normal;font-family:Menlo,'DejaVu Sans Mono',consolas,'Courier New',monospace\"></pre>\n"
      ],
      "text/plain": []
     },
     "metadata": {},
     "output_type": "display_data"
    },
    {
     "data": {
      "text/html": [
       "<pre style=\"white-space:pre;overflow-x:auto;line-height:normal;font-family:Menlo,'DejaVu Sans Mono',consolas,'Courier New',monospace\"></pre>\n"
      ],
      "text/plain": []
     },
     "metadata": {},
     "output_type": "display_data"
    },
    {
     "data": {
      "text/html": [
       "<pre style=\"white-space:pre;overflow-x:auto;line-height:normal;font-family:Menlo,'DejaVu Sans Mono',consolas,'Courier New',monospace\"></pre>\n"
      ],
      "text/plain": []
     },
     "metadata": {},
     "output_type": "display_data"
    },
    {
     "data": {
      "text/html": [
       "<pre style=\"white-space:pre;overflow-x:auto;line-height:normal;font-family:Menlo,'DejaVu Sans Mono',consolas,'Courier New',monospace\"></pre>\n"
      ],
      "text/plain": []
     },
     "metadata": {},
     "output_type": "display_data"
    },
    {
     "data": {
      "text/html": [
       "<pre style=\"white-space:pre;overflow-x:auto;line-height:normal;font-family:Menlo,'DejaVu Sans Mono',consolas,'Courier New',monospace\"></pre>\n"
      ],
      "text/plain": []
     },
     "metadata": {},
     "output_type": "display_data"
    },
    {
     "data": {
      "text/html": [
       "<pre style=\"white-space:pre;overflow-x:auto;line-height:normal;font-family:Menlo,'DejaVu Sans Mono',consolas,'Courier New',monospace\"></pre>\n"
      ],
      "text/plain": []
     },
     "metadata": {},
     "output_type": "display_data"
    },
    {
     "data": {
      "text/html": [
       "<pre style=\"white-space:pre;overflow-x:auto;line-height:normal;font-family:Menlo,'DejaVu Sans Mono',consolas,'Courier New',monospace\"></pre>\n"
      ],
      "text/plain": []
     },
     "metadata": {},
     "output_type": "display_data"
    },
    {
     "data": {
      "text/html": [
       "<pre style=\"white-space:pre;overflow-x:auto;line-height:normal;font-family:Menlo,'DejaVu Sans Mono',consolas,'Courier New',monospace\"></pre>\n"
      ],
      "text/plain": []
     },
     "metadata": {},
     "output_type": "display_data"
    },
    {
     "data": {
      "text/html": [
       "<pre style=\"white-space:pre;overflow-x:auto;line-height:normal;font-family:Menlo,'DejaVu Sans Mono',consolas,'Courier New',monospace\"></pre>\n"
      ],
      "text/plain": []
     },
     "metadata": {},
     "output_type": "display_data"
    },
    {
     "data": {
      "text/html": [
       "<pre style=\"white-space:pre;overflow-x:auto;line-height:normal;font-family:Menlo,'DejaVu Sans Mono',consolas,'Courier New',monospace\"></pre>\n"
      ],
      "text/plain": []
     },
     "metadata": {},
     "output_type": "display_data"
    },
    {
     "data": {
      "text/html": [
       "<pre style=\"white-space:pre;overflow-x:auto;line-height:normal;font-family:Menlo,'DejaVu Sans Mono',consolas,'Courier New',monospace\"></pre>\n"
      ],
      "text/plain": []
     },
     "metadata": {},
     "output_type": "display_data"
    },
    {
     "data": {
      "text/html": [
       "<pre style=\"white-space:pre;overflow-x:auto;line-height:normal;font-family:Menlo,'DejaVu Sans Mono',consolas,'Courier New',monospace\"></pre>\n"
      ],
      "text/plain": []
     },
     "metadata": {},
     "output_type": "display_data"
    },
    {
     "data": {
      "text/html": [
       "<pre style=\"white-space:pre;overflow-x:auto;line-height:normal;font-family:Menlo,'DejaVu Sans Mono',consolas,'Courier New',monospace\"></pre>\n"
      ],
      "text/plain": []
     },
     "metadata": {},
     "output_type": "display_data"
    },
    {
     "data": {
      "text/html": [
       "<pre style=\"white-space:pre;overflow-x:auto;line-height:normal;font-family:Menlo,'DejaVu Sans Mono',consolas,'Courier New',monospace\"></pre>\n"
      ],
      "text/plain": []
     },
     "metadata": {},
     "output_type": "display_data"
    },
    {
     "data": {
      "text/html": [
       "<pre style=\"white-space:pre;overflow-x:auto;line-height:normal;font-family:Menlo,'DejaVu Sans Mono',consolas,'Courier New',monospace\"></pre>\n"
      ],
      "text/plain": []
     },
     "metadata": {},
     "output_type": "display_data"
    },
    {
     "data": {
      "text/html": [
       "<pre style=\"white-space:pre;overflow-x:auto;line-height:normal;font-family:Menlo,'DejaVu Sans Mono',consolas,'Courier New',monospace\"></pre>\n"
      ],
      "text/plain": []
     },
     "metadata": {},
     "output_type": "display_data"
    },
    {
     "data": {
      "text/html": [
       "<pre style=\"white-space:pre;overflow-x:auto;line-height:normal;font-family:Menlo,'DejaVu Sans Mono',consolas,'Courier New',monospace\"></pre>\n"
      ],
      "text/plain": []
     },
     "metadata": {},
     "output_type": "display_data"
    },
    {
     "data": {
      "text/html": [
       "<pre style=\"white-space:pre;overflow-x:auto;line-height:normal;font-family:Menlo,'DejaVu Sans Mono',consolas,'Courier New',monospace\"></pre>\n"
      ],
      "text/plain": []
     },
     "metadata": {},
     "output_type": "display_data"
    },
    {
     "data": {
      "text/html": [
       "<pre style=\"white-space:pre;overflow-x:auto;line-height:normal;font-family:Menlo,'DejaVu Sans Mono',consolas,'Courier New',monospace\"></pre>\n"
      ],
      "text/plain": []
     },
     "metadata": {},
     "output_type": "display_data"
    },
    {
     "data": {
      "text/html": [
       "<pre style=\"white-space:pre;overflow-x:auto;line-height:normal;font-family:Menlo,'DejaVu Sans Mono',consolas,'Courier New',monospace\"></pre>\n"
      ],
      "text/plain": []
     },
     "metadata": {},
     "output_type": "display_data"
    },
    {
     "data": {
      "text/html": [
       "<pre style=\"white-space:pre;overflow-x:auto;line-height:normal;font-family:Menlo,'DejaVu Sans Mono',consolas,'Courier New',monospace\"></pre>\n"
      ],
      "text/plain": []
     },
     "metadata": {},
     "output_type": "display_data"
    },
    {
     "data": {
      "text/html": [
       "<pre style=\"white-space:pre;overflow-x:auto;line-height:normal;font-family:Menlo,'DejaVu Sans Mono',consolas,'Courier New',monospace\"></pre>\n"
      ],
      "text/plain": []
     },
     "metadata": {},
     "output_type": "display_data"
    },
    {
     "data": {
      "text/html": [
       "<pre style=\"white-space:pre;overflow-x:auto;line-height:normal;font-family:Menlo,'DejaVu Sans Mono',consolas,'Courier New',monospace\"></pre>\n"
      ],
      "text/plain": []
     },
     "metadata": {},
     "output_type": "display_data"
    },
    {
     "data": {
      "text/html": [
       "<pre style=\"white-space:pre;overflow-x:auto;line-height:normal;font-family:Menlo,'DejaVu Sans Mono',consolas,'Courier New',monospace\"></pre>\n"
      ],
      "text/plain": []
     },
     "metadata": {},
     "output_type": "display_data"
    },
    {
     "data": {
      "text/html": [
       "<pre style=\"white-space:pre;overflow-x:auto;line-height:normal;font-family:Menlo,'DejaVu Sans Mono',consolas,'Courier New',monospace\"></pre>\n"
      ],
      "text/plain": []
     },
     "metadata": {},
     "output_type": "display_data"
    },
    {
     "data": {
      "text/html": [
       "<pre style=\"white-space:pre;overflow-x:auto;line-height:normal;font-family:Menlo,'DejaVu Sans Mono',consolas,'Courier New',monospace\"></pre>\n"
      ],
      "text/plain": []
     },
     "metadata": {},
     "output_type": "display_data"
    },
    {
     "data": {
      "text/html": [
       "<pre style=\"white-space:pre;overflow-x:auto;line-height:normal;font-family:Menlo,'DejaVu Sans Mono',consolas,'Courier New',monospace\"></pre>\n"
      ],
      "text/plain": []
     },
     "metadata": {},
     "output_type": "display_data"
    },
    {
     "data": {
      "text/html": [
       "<pre style=\"white-space:pre;overflow-x:auto;line-height:normal;font-family:Menlo,'DejaVu Sans Mono',consolas,'Courier New',monospace\"></pre>\n"
      ],
      "text/plain": []
     },
     "metadata": {},
     "output_type": "display_data"
    },
    {
     "data": {
      "text/html": [
       "<pre style=\"white-space:pre;overflow-x:auto;line-height:normal;font-family:Menlo,'DejaVu Sans Mono',consolas,'Courier New',monospace\"></pre>\n"
      ],
      "text/plain": []
     },
     "metadata": {},
     "output_type": "display_data"
    },
    {
     "data": {
      "text/html": [
       "<pre style=\"white-space:pre;overflow-x:auto;line-height:normal;font-family:Menlo,'DejaVu Sans Mono',consolas,'Courier New',monospace\"></pre>\n"
      ],
      "text/plain": []
     },
     "metadata": {},
     "output_type": "display_data"
    },
    {
     "data": {
      "text/html": [
       "<pre style=\"white-space:pre;overflow-x:auto;line-height:normal;font-family:Menlo,'DejaVu Sans Mono',consolas,'Courier New',monospace\"></pre>\n"
      ],
      "text/plain": []
     },
     "metadata": {},
     "output_type": "display_data"
    },
    {
     "data": {
      "text/html": [
       "<pre style=\"white-space:pre;overflow-x:auto;line-height:normal;font-family:Menlo,'DejaVu Sans Mono',consolas,'Courier New',monospace\"></pre>\n"
      ],
      "text/plain": []
     },
     "metadata": {},
     "output_type": "display_data"
    },
    {
     "data": {
      "text/html": [
       "<pre style=\"white-space:pre;overflow-x:auto;line-height:normal;font-family:Menlo,'DejaVu Sans Mono',consolas,'Courier New',monospace\"></pre>\n"
      ],
      "text/plain": []
     },
     "metadata": {},
     "output_type": "display_data"
    },
    {
     "data": {
      "text/html": [
       "<pre style=\"white-space:pre;overflow-x:auto;line-height:normal;font-family:Menlo,'DejaVu Sans Mono',consolas,'Courier New',monospace\"></pre>\n"
      ],
      "text/plain": []
     },
     "metadata": {},
     "output_type": "display_data"
    },
    {
     "data": {
      "text/html": [
       "<pre style=\"white-space:pre;overflow-x:auto;line-height:normal;font-family:Menlo,'DejaVu Sans Mono',consolas,'Courier New',monospace\"></pre>\n"
      ],
      "text/plain": []
     },
     "metadata": {},
     "output_type": "display_data"
    },
    {
     "data": {
      "text/html": [
       "<pre style=\"white-space:pre;overflow-x:auto;line-height:normal;font-family:Menlo,'DejaVu Sans Mono',consolas,'Courier New',monospace\"></pre>\n"
      ],
      "text/plain": []
     },
     "metadata": {},
     "output_type": "display_data"
    },
    {
     "data": {
      "text/html": [
       "<pre style=\"white-space:pre;overflow-x:auto;line-height:normal;font-family:Menlo,'DejaVu Sans Mono',consolas,'Courier New',monospace\"></pre>\n"
      ],
      "text/plain": []
     },
     "metadata": {},
     "output_type": "display_data"
    },
    {
     "data": {
      "text/html": [
       "<pre style=\"white-space:pre;overflow-x:auto;line-height:normal;font-family:Menlo,'DejaVu Sans Mono',consolas,'Courier New',monospace\"></pre>\n"
      ],
      "text/plain": []
     },
     "metadata": {},
     "output_type": "display_data"
    },
    {
     "data": {
      "text/html": [
       "<pre style=\"white-space:pre;overflow-x:auto;line-height:normal;font-family:Menlo,'DejaVu Sans Mono',consolas,'Courier New',monospace\"></pre>\n"
      ],
      "text/plain": []
     },
     "metadata": {},
     "output_type": "display_data"
    },
    {
     "data": {
      "text/html": [
       "<pre style=\"white-space:pre;overflow-x:auto;line-height:normal;font-family:Menlo,'DejaVu Sans Mono',consolas,'Courier New',monospace\"></pre>\n"
      ],
      "text/plain": []
     },
     "metadata": {},
     "output_type": "display_data"
    },
    {
     "data": {
      "text/html": [
       "<pre style=\"white-space:pre;overflow-x:auto;line-height:normal;font-family:Menlo,'DejaVu Sans Mono',consolas,'Courier New',monospace\"></pre>\n"
      ],
      "text/plain": []
     },
     "metadata": {},
     "output_type": "display_data"
    },
    {
     "data": {
      "text/html": [
       "<pre style=\"white-space:pre;overflow-x:auto;line-height:normal;font-family:Menlo,'DejaVu Sans Mono',consolas,'Courier New',monospace\"></pre>\n"
      ],
      "text/plain": []
     },
     "metadata": {},
     "output_type": "display_data"
    },
    {
     "data": {
      "text/html": [
       "<pre style=\"white-space:pre;overflow-x:auto;line-height:normal;font-family:Menlo,'DejaVu Sans Mono',consolas,'Courier New',monospace\"></pre>\n"
      ],
      "text/plain": []
     },
     "metadata": {},
     "output_type": "display_data"
    },
    {
     "data": {
      "text/html": [
       "<pre style=\"white-space:pre;overflow-x:auto;line-height:normal;font-family:Menlo,'DejaVu Sans Mono',consolas,'Courier New',monospace\"></pre>\n"
      ],
      "text/plain": []
     },
     "metadata": {},
     "output_type": "display_data"
    },
    {
     "data": {
      "text/html": [
       "<pre style=\"white-space:pre;overflow-x:auto;line-height:normal;font-family:Menlo,'DejaVu Sans Mono',consolas,'Courier New',monospace\"></pre>\n"
      ],
      "text/plain": []
     },
     "metadata": {},
     "output_type": "display_data"
    },
    {
     "data": {
      "text/html": [
       "<pre style=\"white-space:pre;overflow-x:auto;line-height:normal;font-family:Menlo,'DejaVu Sans Mono',consolas,'Courier New',monospace\"></pre>\n"
      ],
      "text/plain": []
     },
     "metadata": {},
     "output_type": "display_data"
    },
    {
     "data": {
      "text/html": [
       "<pre style=\"white-space:pre;overflow-x:auto;line-height:normal;font-family:Menlo,'DejaVu Sans Mono',consolas,'Courier New',monospace\"></pre>\n"
      ],
      "text/plain": []
     },
     "metadata": {},
     "output_type": "display_data"
    },
    {
     "data": {
      "text/html": [
       "<pre style=\"white-space:pre;overflow-x:auto;line-height:normal;font-family:Menlo,'DejaVu Sans Mono',consolas,'Courier New',monospace\"></pre>\n"
      ],
      "text/plain": []
     },
     "metadata": {},
     "output_type": "display_data"
    },
    {
     "data": {
      "text/html": [
       "<pre style=\"white-space:pre;overflow-x:auto;line-height:normal;font-family:Menlo,'DejaVu Sans Mono',consolas,'Courier New',monospace\"></pre>\n"
      ],
      "text/plain": []
     },
     "metadata": {},
     "output_type": "display_data"
    },
    {
     "data": {
      "text/html": [
       "<pre style=\"white-space:pre;overflow-x:auto;line-height:normal;font-family:Menlo,'DejaVu Sans Mono',consolas,'Courier New',monospace\"></pre>\n"
      ],
      "text/plain": []
     },
     "metadata": {},
     "output_type": "display_data"
    },
    {
     "data": {
      "text/html": [
       "<pre style=\"white-space:pre;overflow-x:auto;line-height:normal;font-family:Menlo,'DejaVu Sans Mono',consolas,'Courier New',monospace\"></pre>\n"
      ],
      "text/plain": []
     },
     "metadata": {},
     "output_type": "display_data"
    },
    {
     "data": {
      "text/html": [
       "<pre style=\"white-space:pre;overflow-x:auto;line-height:normal;font-family:Menlo,'DejaVu Sans Mono',consolas,'Courier New',monospace\"></pre>\n"
      ],
      "text/plain": []
     },
     "metadata": {},
     "output_type": "display_data"
    },
    {
     "data": {
      "text/html": [
       "<pre style=\"white-space:pre;overflow-x:auto;line-height:normal;font-family:Menlo,'DejaVu Sans Mono',consolas,'Courier New',monospace\"></pre>\n"
      ],
      "text/plain": []
     },
     "metadata": {},
     "output_type": "display_data"
    },
    {
     "data": {
      "text/html": [
       "<pre style=\"white-space:pre;overflow-x:auto;line-height:normal;font-family:Menlo,'DejaVu Sans Mono',consolas,'Courier New',monospace\"></pre>\n"
      ],
      "text/plain": []
     },
     "metadata": {},
     "output_type": "display_data"
    },
    {
     "data": {
      "text/html": [
       "<pre style=\"white-space:pre;overflow-x:auto;line-height:normal;font-family:Menlo,'DejaVu Sans Mono',consolas,'Courier New',monospace\"></pre>\n"
      ],
      "text/plain": []
     },
     "metadata": {},
     "output_type": "display_data"
    },
    {
     "data": {
      "text/html": [
       "<pre style=\"white-space:pre;overflow-x:auto;line-height:normal;font-family:Menlo,'DejaVu Sans Mono',consolas,'Courier New',monospace\"></pre>\n"
      ],
      "text/plain": []
     },
     "metadata": {},
     "output_type": "display_data"
    },
    {
     "data": {
      "text/html": [
       "<pre style=\"white-space:pre;overflow-x:auto;line-height:normal;font-family:Menlo,'DejaVu Sans Mono',consolas,'Courier New',monospace\"></pre>\n"
      ],
      "text/plain": []
     },
     "metadata": {},
     "output_type": "display_data"
    },
    {
     "data": {
      "text/html": [
       "<pre style=\"white-space:pre;overflow-x:auto;line-height:normal;font-family:Menlo,'DejaVu Sans Mono',consolas,'Courier New',monospace\"></pre>\n"
      ],
      "text/plain": []
     },
     "metadata": {},
     "output_type": "display_data"
    },
    {
     "data": {
      "text/html": [
       "<pre style=\"white-space:pre;overflow-x:auto;line-height:normal;font-family:Menlo,'DejaVu Sans Mono',consolas,'Courier New',monospace\"></pre>\n"
      ],
      "text/plain": []
     },
     "metadata": {},
     "output_type": "display_data"
    },
    {
     "data": {
      "text/html": [
       "<pre style=\"white-space:pre;overflow-x:auto;line-height:normal;font-family:Menlo,'DejaVu Sans Mono',consolas,'Courier New',monospace\"></pre>\n"
      ],
      "text/plain": []
     },
     "metadata": {},
     "output_type": "display_data"
    },
    {
     "data": {
      "text/html": [
       "<pre style=\"white-space:pre;overflow-x:auto;line-height:normal;font-family:Menlo,'DejaVu Sans Mono',consolas,'Courier New',monospace\"></pre>\n"
      ],
      "text/plain": []
     },
     "metadata": {},
     "output_type": "display_data"
    },
    {
     "data": {
      "text/html": [
       "<pre style=\"white-space:pre;overflow-x:auto;line-height:normal;font-family:Menlo,'DejaVu Sans Mono',consolas,'Courier New',monospace\"></pre>\n"
      ],
      "text/plain": []
     },
     "metadata": {},
     "output_type": "display_data"
    },
    {
     "data": {
      "text/html": [
       "<pre style=\"white-space:pre;overflow-x:auto;line-height:normal;font-family:Menlo,'DejaVu Sans Mono',consolas,'Courier New',monospace\"></pre>\n"
      ],
      "text/plain": []
     },
     "metadata": {},
     "output_type": "display_data"
    },
    {
     "data": {
      "text/html": [
       "<pre style=\"white-space:pre;overflow-x:auto;line-height:normal;font-family:Menlo,'DejaVu Sans Mono',consolas,'Courier New',monospace\"></pre>\n"
      ],
      "text/plain": []
     },
     "metadata": {},
     "output_type": "display_data"
    },
    {
     "data": {
      "text/html": [
       "<pre style=\"white-space:pre;overflow-x:auto;line-height:normal;font-family:Menlo,'DejaVu Sans Mono',consolas,'Courier New',monospace\"></pre>\n"
      ],
      "text/plain": []
     },
     "metadata": {},
     "output_type": "display_data"
    },
    {
     "data": {
      "text/html": [
       "<pre style=\"white-space:pre;overflow-x:auto;line-height:normal;font-family:Menlo,'DejaVu Sans Mono',consolas,'Courier New',monospace\"></pre>\n"
      ],
      "text/plain": []
     },
     "metadata": {},
     "output_type": "display_data"
    },
    {
     "data": {
      "text/html": [
       "<pre style=\"white-space:pre;overflow-x:auto;line-height:normal;font-family:Menlo,'DejaVu Sans Mono',consolas,'Courier New',monospace\"></pre>\n"
      ],
      "text/plain": []
     },
     "metadata": {},
     "output_type": "display_data"
    },
    {
     "data": {
      "text/html": [
       "<pre style=\"white-space:pre;overflow-x:auto;line-height:normal;font-family:Menlo,'DejaVu Sans Mono',consolas,'Courier New',monospace\"></pre>\n"
      ],
      "text/plain": []
     },
     "metadata": {},
     "output_type": "display_data"
    },
    {
     "data": {
      "text/html": [
       "<pre style=\"white-space:pre;overflow-x:auto;line-height:normal;font-family:Menlo,'DejaVu Sans Mono',consolas,'Courier New',monospace\"></pre>\n"
      ],
      "text/plain": []
     },
     "metadata": {},
     "output_type": "display_data"
    },
    {
     "data": {
      "text/html": [
       "<pre style=\"white-space:pre;overflow-x:auto;line-height:normal;font-family:Menlo,'DejaVu Sans Mono',consolas,'Courier New',monospace\"></pre>\n"
      ],
      "text/plain": []
     },
     "metadata": {},
     "output_type": "display_data"
    },
    {
     "data": {
      "text/html": [
       "<pre style=\"white-space:pre;overflow-x:auto;line-height:normal;font-family:Menlo,'DejaVu Sans Mono',consolas,'Courier New',monospace\"></pre>\n"
      ],
      "text/plain": []
     },
     "metadata": {},
     "output_type": "display_data"
    },
    {
     "data": {
      "text/html": [
       "<pre style=\"white-space:pre;overflow-x:auto;line-height:normal;font-family:Menlo,'DejaVu Sans Mono',consolas,'Courier New',monospace\"></pre>\n"
      ],
      "text/plain": []
     },
     "metadata": {},
     "output_type": "display_data"
    },
    {
     "data": {
      "text/html": [
       "<pre style=\"white-space:pre;overflow-x:auto;line-height:normal;font-family:Menlo,'DejaVu Sans Mono',consolas,'Courier New',monospace\"></pre>\n"
      ],
      "text/plain": []
     },
     "metadata": {},
     "output_type": "display_data"
    },
    {
     "data": {
      "text/html": [
       "<pre style=\"white-space:pre;overflow-x:auto;line-height:normal;font-family:Menlo,'DejaVu Sans Mono',consolas,'Courier New',monospace\"></pre>\n"
      ],
      "text/plain": []
     },
     "metadata": {},
     "output_type": "display_data"
    },
    {
     "data": {
      "text/html": [
       "<pre style=\"white-space:pre;overflow-x:auto;line-height:normal;font-family:Menlo,'DejaVu Sans Mono',consolas,'Courier New',monospace\"></pre>\n"
      ],
      "text/plain": []
     },
     "metadata": {},
     "output_type": "display_data"
    },
    {
     "data": {
      "text/html": [
       "<pre style=\"white-space:pre;overflow-x:auto;line-height:normal;font-family:Menlo,'DejaVu Sans Mono',consolas,'Courier New',monospace\"></pre>\n"
      ],
      "text/plain": []
     },
     "metadata": {},
     "output_type": "display_data"
    },
    {
     "data": {
      "text/html": [
       "<pre style=\"white-space:pre;overflow-x:auto;line-height:normal;font-family:Menlo,'DejaVu Sans Mono',consolas,'Courier New',monospace\"></pre>\n"
      ],
      "text/plain": []
     },
     "metadata": {},
     "output_type": "display_data"
    },
    {
     "data": {
      "text/html": [
       "<pre style=\"white-space:pre;overflow-x:auto;line-height:normal;font-family:Menlo,'DejaVu Sans Mono',consolas,'Courier New',monospace\"></pre>\n"
      ],
      "text/plain": []
     },
     "metadata": {},
     "output_type": "display_data"
    },
    {
     "data": {
      "text/html": [
       "<pre style=\"white-space:pre;overflow-x:auto;line-height:normal;font-family:Menlo,'DejaVu Sans Mono',consolas,'Courier New',monospace\"></pre>\n"
      ],
      "text/plain": []
     },
     "metadata": {},
     "output_type": "display_data"
    },
    {
     "data": {
      "text/html": [
       "<pre style=\"white-space:pre;overflow-x:auto;line-height:normal;font-family:Menlo,'DejaVu Sans Mono',consolas,'Courier New',monospace\"></pre>\n"
      ],
      "text/plain": []
     },
     "metadata": {},
     "output_type": "display_data"
    },
    {
     "data": {
      "text/html": [
       "<pre style=\"white-space:pre;overflow-x:auto;line-height:normal;font-family:Menlo,'DejaVu Sans Mono',consolas,'Courier New',monospace\"></pre>\n"
      ],
      "text/plain": []
     },
     "metadata": {},
     "output_type": "display_data"
    },
    {
     "data": {
      "text/html": [
       "<pre style=\"white-space:pre;overflow-x:auto;line-height:normal;font-family:Menlo,'DejaVu Sans Mono',consolas,'Courier New',monospace\"></pre>\n"
      ],
      "text/plain": []
     },
     "metadata": {},
     "output_type": "display_data"
    },
    {
     "data": {
      "text/html": [
       "<pre style=\"white-space:pre;overflow-x:auto;line-height:normal;font-family:Menlo,'DejaVu Sans Mono',consolas,'Courier New',monospace\"></pre>\n"
      ],
      "text/plain": []
     },
     "metadata": {},
     "output_type": "display_data"
    },
    {
     "data": {
      "text/html": [
       "<pre style=\"white-space:pre;overflow-x:auto;line-height:normal;font-family:Menlo,'DejaVu Sans Mono',consolas,'Courier New',monospace\"></pre>\n"
      ],
      "text/plain": []
     },
     "metadata": {},
     "output_type": "display_data"
    },
    {
     "data": {
      "text/html": [
       "<pre style=\"white-space:pre;overflow-x:auto;line-height:normal;font-family:Menlo,'DejaVu Sans Mono',consolas,'Courier New',monospace\"></pre>\n"
      ],
      "text/plain": []
     },
     "metadata": {},
     "output_type": "display_data"
    },
    {
     "data": {
      "text/html": [
       "<pre style=\"white-space:pre;overflow-x:auto;line-height:normal;font-family:Menlo,'DejaVu Sans Mono',consolas,'Courier New',monospace\"></pre>\n"
      ],
      "text/plain": []
     },
     "metadata": {},
     "output_type": "display_data"
    },
    {
     "data": {
      "text/html": [
       "<pre style=\"white-space:pre;overflow-x:auto;line-height:normal;font-family:Menlo,'DejaVu Sans Mono',consolas,'Courier New',monospace\"></pre>\n"
      ],
      "text/plain": []
     },
     "metadata": {},
     "output_type": "display_data"
    },
    {
     "data": {
      "text/html": [
       "<pre style=\"white-space:pre;overflow-x:auto;line-height:normal;font-family:Menlo,'DejaVu Sans Mono',consolas,'Courier New',monospace\"></pre>\n"
      ],
      "text/plain": []
     },
     "metadata": {},
     "output_type": "display_data"
    },
    {
     "data": {
      "text/html": [
       "<pre style=\"white-space:pre;overflow-x:auto;line-height:normal;font-family:Menlo,'DejaVu Sans Mono',consolas,'Courier New',monospace\"></pre>\n"
      ],
      "text/plain": []
     },
     "metadata": {},
     "output_type": "display_data"
    },
    {
     "data": {
      "text/html": [
       "<pre style=\"white-space:pre;overflow-x:auto;line-height:normal;font-family:Menlo,'DejaVu Sans Mono',consolas,'Courier New',monospace\"></pre>\n"
      ],
      "text/plain": []
     },
     "metadata": {},
     "output_type": "display_data"
    },
    {
     "data": {
      "text/html": [
       "<pre style=\"white-space:pre;overflow-x:auto;line-height:normal;font-family:Menlo,'DejaVu Sans Mono',consolas,'Courier New',monospace\"></pre>\n"
      ],
      "text/plain": []
     },
     "metadata": {},
     "output_type": "display_data"
    },
    {
     "data": {
      "text/html": [
       "<pre style=\"white-space:pre;overflow-x:auto;line-height:normal;font-family:Menlo,'DejaVu Sans Mono',consolas,'Courier New',monospace\"></pre>\n"
      ],
      "text/plain": []
     },
     "metadata": {},
     "output_type": "display_data"
    },
    {
     "data": {
      "text/html": [
       "<pre style=\"white-space:pre;overflow-x:auto;line-height:normal;font-family:Menlo,'DejaVu Sans Mono',consolas,'Courier New',monospace\"></pre>\n"
      ],
      "text/plain": []
     },
     "metadata": {},
     "output_type": "display_data"
    },
    {
     "data": {
      "text/html": [
       "<pre style=\"white-space:pre;overflow-x:auto;line-height:normal;font-family:Menlo,'DejaVu Sans Mono',consolas,'Courier New',monospace\"></pre>\n"
      ],
      "text/plain": []
     },
     "metadata": {},
     "output_type": "display_data"
    },
    {
     "data": {
      "text/html": [
       "<pre style=\"white-space:pre;overflow-x:auto;line-height:normal;font-family:Menlo,'DejaVu Sans Mono',consolas,'Courier New',monospace\"></pre>\n"
      ],
      "text/plain": []
     },
     "metadata": {},
     "output_type": "display_data"
    },
    {
     "data": {
      "text/html": [
       "<pre style=\"white-space:pre;overflow-x:auto;line-height:normal;font-family:Menlo,'DejaVu Sans Mono',consolas,'Courier New',monospace\"></pre>\n"
      ],
      "text/plain": []
     },
     "metadata": {},
     "output_type": "display_data"
    },
    {
     "data": {
      "text/html": [
       "<pre style=\"white-space:pre;overflow-x:auto;line-height:normal;font-family:Menlo,'DejaVu Sans Mono',consolas,'Courier New',monospace\"></pre>\n"
      ],
      "text/plain": []
     },
     "metadata": {},
     "output_type": "display_data"
    },
    {
     "data": {
      "text/html": [
       "<pre style=\"white-space:pre;overflow-x:auto;line-height:normal;font-family:Menlo,'DejaVu Sans Mono',consolas,'Courier New',monospace\"></pre>\n"
      ],
      "text/plain": []
     },
     "metadata": {},
     "output_type": "display_data"
    },
    {
     "data": {
      "text/html": [
       "<pre style=\"white-space:pre;overflow-x:auto;line-height:normal;font-family:Menlo,'DejaVu Sans Mono',consolas,'Courier New',monospace\"></pre>\n"
      ],
      "text/plain": []
     },
     "metadata": {},
     "output_type": "display_data"
    },
    {
     "data": {
      "text/html": [
       "<pre style=\"white-space:pre;overflow-x:auto;line-height:normal;font-family:Menlo,'DejaVu Sans Mono',consolas,'Courier New',monospace\"></pre>\n"
      ],
      "text/plain": []
     },
     "metadata": {},
     "output_type": "display_data"
    },
    {
     "data": {
      "text/html": [
       "<pre style=\"white-space:pre;overflow-x:auto;line-height:normal;font-family:Menlo,'DejaVu Sans Mono',consolas,'Courier New',monospace\"></pre>\n"
      ],
      "text/plain": []
     },
     "metadata": {},
     "output_type": "display_data"
    },
    {
     "data": {
      "text/html": [
       "<pre style=\"white-space:pre;overflow-x:auto;line-height:normal;font-family:Menlo,'DejaVu Sans Mono',consolas,'Courier New',monospace\"></pre>\n"
      ],
      "text/plain": []
     },
     "metadata": {},
     "output_type": "display_data"
    },
    {
     "data": {
      "text/html": [
       "<pre style=\"white-space:pre;overflow-x:auto;line-height:normal;font-family:Menlo,'DejaVu Sans Mono',consolas,'Courier New',monospace\"></pre>\n"
      ],
      "text/plain": []
     },
     "metadata": {},
     "output_type": "display_data"
    },
    {
     "data": {
      "text/html": [
       "<pre style=\"white-space:pre;overflow-x:auto;line-height:normal;font-family:Menlo,'DejaVu Sans Mono',consolas,'Courier New',monospace\"></pre>\n"
      ],
      "text/plain": []
     },
     "metadata": {},
     "output_type": "display_data"
    },
    {
     "data": {
      "text/html": [
       "<pre style=\"white-space:pre;overflow-x:auto;line-height:normal;font-family:Menlo,'DejaVu Sans Mono',consolas,'Courier New',monospace\"></pre>\n"
      ],
      "text/plain": []
     },
     "metadata": {},
     "output_type": "display_data"
    },
    {
     "data": {
      "text/html": [
       "<pre style=\"white-space:pre;overflow-x:auto;line-height:normal;font-family:Menlo,'DejaVu Sans Mono',consolas,'Courier New',monospace\"></pre>\n"
      ],
      "text/plain": []
     },
     "metadata": {},
     "output_type": "display_data"
    },
    {
     "data": {
      "text/html": [
       "<pre style=\"white-space:pre;overflow-x:auto;line-height:normal;font-family:Menlo,'DejaVu Sans Mono',consolas,'Courier New',monospace\"></pre>\n"
      ],
      "text/plain": []
     },
     "metadata": {},
     "output_type": "display_data"
    },
    {
     "data": {
      "text/html": [
       "<pre style=\"white-space:pre;overflow-x:auto;line-height:normal;font-family:Menlo,'DejaVu Sans Mono',consolas,'Courier New',monospace\"></pre>\n"
      ],
      "text/plain": []
     },
     "metadata": {},
     "output_type": "display_data"
    },
    {
     "data": {
      "text/html": [
       "<pre style=\"white-space:pre;overflow-x:auto;line-height:normal;font-family:Menlo,'DejaVu Sans Mono',consolas,'Courier New',monospace\"></pre>\n"
      ],
      "text/plain": []
     },
     "metadata": {},
     "output_type": "display_data"
    },
    {
     "data": {
      "text/html": [
       "<pre style=\"white-space:pre;overflow-x:auto;line-height:normal;font-family:Menlo,'DejaVu Sans Mono',consolas,'Courier New',monospace\"></pre>\n"
      ],
      "text/plain": []
     },
     "metadata": {},
     "output_type": "display_data"
    },
    {
     "data": {
      "text/html": [
       "<pre style=\"white-space:pre;overflow-x:auto;line-height:normal;font-family:Menlo,'DejaVu Sans Mono',consolas,'Courier New',monospace\"></pre>\n"
      ],
      "text/plain": []
     },
     "metadata": {},
     "output_type": "display_data"
    },
    {
     "data": {
      "text/html": [
       "<pre style=\"white-space:pre;overflow-x:auto;line-height:normal;font-family:Menlo,'DejaVu Sans Mono',consolas,'Courier New',monospace\"></pre>\n"
      ],
      "text/plain": []
     },
     "metadata": {},
     "output_type": "display_data"
    },
    {
     "data": {
      "text/html": [
       "<pre style=\"white-space:pre;overflow-x:auto;line-height:normal;font-family:Menlo,'DejaVu Sans Mono',consolas,'Courier New',monospace\"></pre>\n"
      ],
      "text/plain": []
     },
     "metadata": {},
     "output_type": "display_data"
    },
    {
     "data": {
      "text/html": [
       "<pre style=\"white-space:pre;overflow-x:auto;line-height:normal;font-family:Menlo,'DejaVu Sans Mono',consolas,'Courier New',monospace\"></pre>\n"
      ],
      "text/plain": []
     },
     "metadata": {},
     "output_type": "display_data"
    },
    {
     "data": {
      "text/html": [
       "<pre style=\"white-space:pre;overflow-x:auto;line-height:normal;font-family:Menlo,'DejaVu Sans Mono',consolas,'Courier New',monospace\"></pre>\n"
      ],
      "text/plain": []
     },
     "metadata": {},
     "output_type": "display_data"
    },
    {
     "data": {
      "text/html": [
       "<pre style=\"white-space:pre;overflow-x:auto;line-height:normal;font-family:Menlo,'DejaVu Sans Mono',consolas,'Courier New',monospace\"></pre>\n"
      ],
      "text/plain": []
     },
     "metadata": {},
     "output_type": "display_data"
    },
    {
     "data": {
      "text/html": [
       "<pre style=\"white-space:pre;overflow-x:auto;line-height:normal;font-family:Menlo,'DejaVu Sans Mono',consolas,'Courier New',monospace\"></pre>\n"
      ],
      "text/plain": []
     },
     "metadata": {},
     "output_type": "display_data"
    },
    {
     "data": {
      "text/html": [
       "<pre style=\"white-space:pre;overflow-x:auto;line-height:normal;font-family:Menlo,'DejaVu Sans Mono',consolas,'Courier New',monospace\"></pre>\n"
      ],
      "text/plain": []
     },
     "metadata": {},
     "output_type": "display_data"
    },
    {
     "data": {
      "text/html": [
       "<pre style=\"white-space:pre;overflow-x:auto;line-height:normal;font-family:Menlo,'DejaVu Sans Mono',consolas,'Courier New',monospace\"></pre>\n"
      ],
      "text/plain": []
     },
     "metadata": {},
     "output_type": "display_data"
    },
    {
     "data": {
      "text/html": [
       "<pre style=\"white-space:pre;overflow-x:auto;line-height:normal;font-family:Menlo,'DejaVu Sans Mono',consolas,'Courier New',monospace\"></pre>\n"
      ],
      "text/plain": []
     },
     "metadata": {},
     "output_type": "display_data"
    },
    {
     "data": {
      "text/html": [
       "<pre style=\"white-space:pre;overflow-x:auto;line-height:normal;font-family:Menlo,'DejaVu Sans Mono',consolas,'Courier New',monospace\"></pre>\n"
      ],
      "text/plain": []
     },
     "metadata": {},
     "output_type": "display_data"
    },
    {
     "data": {
      "text/html": [
       "<pre style=\"white-space:pre;overflow-x:auto;line-height:normal;font-family:Menlo,'DejaVu Sans Mono',consolas,'Courier New',monospace\"></pre>\n"
      ],
      "text/plain": []
     },
     "metadata": {},
     "output_type": "display_data"
    },
    {
     "data": {
      "text/html": [
       "<pre style=\"white-space:pre;overflow-x:auto;line-height:normal;font-family:Menlo,'DejaVu Sans Mono',consolas,'Courier New',monospace\"></pre>\n"
      ],
      "text/plain": []
     },
     "metadata": {},
     "output_type": "display_data"
    },
    {
     "data": {
      "text/html": [
       "<pre style=\"white-space:pre;overflow-x:auto;line-height:normal;font-family:Menlo,'DejaVu Sans Mono',consolas,'Courier New',monospace\"></pre>\n"
      ],
      "text/plain": []
     },
     "metadata": {},
     "output_type": "display_data"
    },
    {
     "data": {
      "text/html": [
       "<pre style=\"white-space:pre;overflow-x:auto;line-height:normal;font-family:Menlo,'DejaVu Sans Mono',consolas,'Courier New',monospace\"></pre>\n"
      ],
      "text/plain": []
     },
     "metadata": {},
     "output_type": "display_data"
    },
    {
     "data": {
      "text/html": [
       "<pre style=\"white-space:pre;overflow-x:auto;line-height:normal;font-family:Menlo,'DejaVu Sans Mono',consolas,'Courier New',monospace\"></pre>\n"
      ],
      "text/plain": []
     },
     "metadata": {},
     "output_type": "display_data"
    },
    {
     "data": {
      "text/html": [
       "<pre style=\"white-space:pre;overflow-x:auto;line-height:normal;font-family:Menlo,'DejaVu Sans Mono',consolas,'Courier New',monospace\"></pre>\n"
      ],
      "text/plain": []
     },
     "metadata": {},
     "output_type": "display_data"
    },
    {
     "data": {
      "text/html": [
       "<pre style=\"white-space:pre;overflow-x:auto;line-height:normal;font-family:Menlo,'DejaVu Sans Mono',consolas,'Courier New',monospace\"></pre>\n"
      ],
      "text/plain": []
     },
     "metadata": {},
     "output_type": "display_data"
    },
    {
     "data": {
      "text/html": [
       "<pre style=\"white-space:pre;overflow-x:auto;line-height:normal;font-family:Menlo,'DejaVu Sans Mono',consolas,'Courier New',monospace\"></pre>\n"
      ],
      "text/plain": []
     },
     "metadata": {},
     "output_type": "display_data"
    },
    {
     "data": {
      "text/html": [
       "<pre style=\"white-space:pre;overflow-x:auto;line-height:normal;font-family:Menlo,'DejaVu Sans Mono',consolas,'Courier New',monospace\"></pre>\n"
      ],
      "text/plain": []
     },
     "metadata": {},
     "output_type": "display_data"
    },
    {
     "data": {
      "text/html": [
       "<pre style=\"white-space:pre;overflow-x:auto;line-height:normal;font-family:Menlo,'DejaVu Sans Mono',consolas,'Courier New',monospace\"></pre>\n"
      ],
      "text/plain": []
     },
     "metadata": {},
     "output_type": "display_data"
    },
    {
     "data": {
      "text/html": [
       "<pre style=\"white-space:pre;overflow-x:auto;line-height:normal;font-family:Menlo,'DejaVu Sans Mono',consolas,'Courier New',monospace\"></pre>\n"
      ],
      "text/plain": []
     },
     "metadata": {},
     "output_type": "display_data"
    },
    {
     "data": {
      "text/html": [
       "<pre style=\"white-space:pre;overflow-x:auto;line-height:normal;font-family:Menlo,'DejaVu Sans Mono',consolas,'Courier New',monospace\"></pre>\n"
      ],
      "text/plain": []
     },
     "metadata": {},
     "output_type": "display_data"
    },
    {
     "data": {
      "text/html": [
       "<pre style=\"white-space:pre;overflow-x:auto;line-height:normal;font-family:Menlo,'DejaVu Sans Mono',consolas,'Courier New',monospace\"></pre>\n"
      ],
      "text/plain": []
     },
     "metadata": {},
     "output_type": "display_data"
    },
    {
     "data": {
      "text/html": [
       "<pre style=\"white-space:pre;overflow-x:auto;line-height:normal;font-family:Menlo,'DejaVu Sans Mono',consolas,'Courier New',monospace\"></pre>\n"
      ],
      "text/plain": []
     },
     "metadata": {},
     "output_type": "display_data"
    },
    {
     "data": {
      "text/html": [
       "<pre style=\"white-space:pre;overflow-x:auto;line-height:normal;font-family:Menlo,'DejaVu Sans Mono',consolas,'Courier New',monospace\"></pre>\n"
      ],
      "text/plain": []
     },
     "metadata": {},
     "output_type": "display_data"
    },
    {
     "data": {
      "text/html": [
       "<pre style=\"white-space:pre;overflow-x:auto;line-height:normal;font-family:Menlo,'DejaVu Sans Mono',consolas,'Courier New',monospace\"></pre>\n"
      ],
      "text/plain": []
     },
     "metadata": {},
     "output_type": "display_data"
    },
    {
     "data": {
      "text/html": [
       "<pre style=\"white-space:pre;overflow-x:auto;line-height:normal;font-family:Menlo,'DejaVu Sans Mono',consolas,'Courier New',monospace\"></pre>\n"
      ],
      "text/plain": []
     },
     "metadata": {},
     "output_type": "display_data"
    },
    {
     "data": {
      "text/html": [
       "<pre style=\"white-space:pre;overflow-x:auto;line-height:normal;font-family:Menlo,'DejaVu Sans Mono',consolas,'Courier New',monospace\"></pre>\n"
      ],
      "text/plain": []
     },
     "metadata": {},
     "output_type": "display_data"
    },
    {
     "data": {
      "text/html": [
       "<pre style=\"white-space:pre;overflow-x:auto;line-height:normal;font-family:Menlo,'DejaVu Sans Mono',consolas,'Courier New',monospace\"></pre>\n"
      ],
      "text/plain": []
     },
     "metadata": {},
     "output_type": "display_data"
    },
    {
     "data": {
      "text/html": [
       "<pre style=\"white-space:pre;overflow-x:auto;line-height:normal;font-family:Menlo,'DejaVu Sans Mono',consolas,'Courier New',monospace\"></pre>\n"
      ],
      "text/plain": []
     },
     "metadata": {},
     "output_type": "display_data"
    },
    {
     "data": {
      "text/html": [
       "<pre style=\"white-space:pre;overflow-x:auto;line-height:normal;font-family:Menlo,'DejaVu Sans Mono',consolas,'Courier New',monospace\"></pre>\n"
      ],
      "text/plain": []
     },
     "metadata": {},
     "output_type": "display_data"
    },
    {
     "data": {
      "text/html": [
       "<pre style=\"white-space:pre;overflow-x:auto;line-height:normal;font-family:Menlo,'DejaVu Sans Mono',consolas,'Courier New',monospace\"></pre>\n"
      ],
      "text/plain": []
     },
     "metadata": {},
     "output_type": "display_data"
    },
    {
     "data": {
      "text/html": [
       "<pre style=\"white-space:pre;overflow-x:auto;line-height:normal;font-family:Menlo,'DejaVu Sans Mono',consolas,'Courier New',monospace\"></pre>\n"
      ],
      "text/plain": []
     },
     "metadata": {},
     "output_type": "display_data"
    },
    {
     "data": {
      "text/html": [
       "<pre style=\"white-space:pre;overflow-x:auto;line-height:normal;font-family:Menlo,'DejaVu Sans Mono',consolas,'Courier New',monospace\"></pre>\n"
      ],
      "text/plain": []
     },
     "metadata": {},
     "output_type": "display_data"
    },
    {
     "data": {
      "text/html": [
       "<pre style=\"white-space:pre;overflow-x:auto;line-height:normal;font-family:Menlo,'DejaVu Sans Mono',consolas,'Courier New',monospace\"></pre>\n"
      ],
      "text/plain": []
     },
     "metadata": {},
     "output_type": "display_data"
    },
    {
     "data": {
      "text/html": [
       "<pre style=\"white-space:pre;overflow-x:auto;line-height:normal;font-family:Menlo,'DejaVu Sans Mono',consolas,'Courier New',monospace\"></pre>\n"
      ],
      "text/plain": []
     },
     "metadata": {},
     "output_type": "display_data"
    },
    {
     "data": {
      "text/html": [
       "<pre style=\"white-space:pre;overflow-x:auto;line-height:normal;font-family:Menlo,'DejaVu Sans Mono',consolas,'Courier New',monospace\"></pre>\n"
      ],
      "text/plain": []
     },
     "metadata": {},
     "output_type": "display_data"
    },
    {
     "data": {
      "text/html": [
       "<pre style=\"white-space:pre;overflow-x:auto;line-height:normal;font-family:Menlo,'DejaVu Sans Mono',consolas,'Courier New',monospace\"></pre>\n"
      ],
      "text/plain": []
     },
     "metadata": {},
     "output_type": "display_data"
    },
    {
     "data": {
      "text/html": [
       "<pre style=\"white-space:pre;overflow-x:auto;line-height:normal;font-family:Menlo,'DejaVu Sans Mono',consolas,'Courier New',monospace\"></pre>\n"
      ],
      "text/plain": []
     },
     "metadata": {},
     "output_type": "display_data"
    },
    {
     "data": {
      "text/html": [
       "<pre style=\"white-space:pre;overflow-x:auto;line-height:normal;font-family:Menlo,'DejaVu Sans Mono',consolas,'Courier New',monospace\"></pre>\n"
      ],
      "text/plain": []
     },
     "metadata": {},
     "output_type": "display_data"
    },
    {
     "data": {
      "text/html": [
       "<pre style=\"white-space:pre;overflow-x:auto;line-height:normal;font-family:Menlo,'DejaVu Sans Mono',consolas,'Courier New',monospace\"></pre>\n"
      ],
      "text/plain": []
     },
     "metadata": {},
     "output_type": "display_data"
    },
    {
     "data": {
      "text/html": [
       "<pre style=\"white-space:pre;overflow-x:auto;line-height:normal;font-family:Menlo,'DejaVu Sans Mono',consolas,'Courier New',monospace\"></pre>\n"
      ],
      "text/plain": []
     },
     "metadata": {},
     "output_type": "display_data"
    },
    {
     "data": {
      "text/html": [
       "<pre style=\"white-space:pre;overflow-x:auto;line-height:normal;font-family:Menlo,'DejaVu Sans Mono',consolas,'Courier New',monospace\"></pre>\n"
      ],
      "text/plain": []
     },
     "metadata": {},
     "output_type": "display_data"
    },
    {
     "data": {
      "text/html": [
       "<pre style=\"white-space:pre;overflow-x:auto;line-height:normal;font-family:Menlo,'DejaVu Sans Mono',consolas,'Courier New',monospace\"></pre>\n"
      ],
      "text/plain": []
     },
     "metadata": {},
     "output_type": "display_data"
    },
    {
     "data": {
      "text/html": [
       "<pre style=\"white-space:pre;overflow-x:auto;line-height:normal;font-family:Menlo,'DejaVu Sans Mono',consolas,'Courier New',monospace\"></pre>\n"
      ],
      "text/plain": []
     },
     "metadata": {},
     "output_type": "display_data"
    },
    {
     "data": {
      "text/html": [
       "<pre style=\"white-space:pre;overflow-x:auto;line-height:normal;font-family:Menlo,'DejaVu Sans Mono',consolas,'Courier New',monospace\"></pre>\n"
      ],
      "text/plain": []
     },
     "metadata": {},
     "output_type": "display_data"
    },
    {
     "data": {
      "text/html": [
       "<pre style=\"white-space:pre;overflow-x:auto;line-height:normal;font-family:Menlo,'DejaVu Sans Mono',consolas,'Courier New',monospace\"></pre>\n"
      ],
      "text/plain": []
     },
     "metadata": {},
     "output_type": "display_data"
    },
    {
     "data": {
      "text/html": [
       "<pre style=\"white-space:pre;overflow-x:auto;line-height:normal;font-family:Menlo,'DejaVu Sans Mono',consolas,'Courier New',monospace\"></pre>\n"
      ],
      "text/plain": []
     },
     "metadata": {},
     "output_type": "display_data"
    },
    {
     "data": {
      "text/html": [
       "<pre style=\"white-space:pre;overflow-x:auto;line-height:normal;font-family:Menlo,'DejaVu Sans Mono',consolas,'Courier New',monospace\"></pre>\n"
      ],
      "text/plain": []
     },
     "metadata": {},
     "output_type": "display_data"
    },
    {
     "data": {
      "text/html": [
       "<pre style=\"white-space:pre;overflow-x:auto;line-height:normal;font-family:Menlo,'DejaVu Sans Mono',consolas,'Courier New',monospace\"></pre>\n"
      ],
      "text/plain": []
     },
     "metadata": {},
     "output_type": "display_data"
    },
    {
     "data": {
      "text/html": [
       "<pre style=\"white-space:pre;overflow-x:auto;line-height:normal;font-family:Menlo,'DejaVu Sans Mono',consolas,'Courier New',monospace\"></pre>\n"
      ],
      "text/plain": []
     },
     "metadata": {},
     "output_type": "display_data"
    },
    {
     "data": {
      "text/html": [
       "<pre style=\"white-space:pre;overflow-x:auto;line-height:normal;font-family:Menlo,'DejaVu Sans Mono',consolas,'Courier New',monospace\"></pre>\n"
      ],
      "text/plain": []
     },
     "metadata": {},
     "output_type": "display_data"
    },
    {
     "data": {
      "text/html": [
       "<pre style=\"white-space:pre;overflow-x:auto;line-height:normal;font-family:Menlo,'DejaVu Sans Mono',consolas,'Courier New',monospace\"></pre>\n"
      ],
      "text/plain": []
     },
     "metadata": {},
     "output_type": "display_data"
    },
    {
     "data": {
      "text/html": [
       "<pre style=\"white-space:pre;overflow-x:auto;line-height:normal;font-family:Menlo,'DejaVu Sans Mono',consolas,'Courier New',monospace\"></pre>\n"
      ],
      "text/plain": []
     },
     "metadata": {},
     "output_type": "display_data"
    },
    {
     "data": {
      "text/html": [
       "<pre style=\"white-space:pre;overflow-x:auto;line-height:normal;font-family:Menlo,'DejaVu Sans Mono',consolas,'Courier New',monospace\"></pre>\n"
      ],
      "text/plain": []
     },
     "metadata": {},
     "output_type": "display_data"
    },
    {
     "data": {
      "text/html": [
       "<pre style=\"white-space:pre;overflow-x:auto;line-height:normal;font-family:Menlo,'DejaVu Sans Mono',consolas,'Courier New',monospace\"></pre>\n"
      ],
      "text/plain": []
     },
     "metadata": {},
     "output_type": "display_data"
    },
    {
     "data": {
      "text/html": [
       "<pre style=\"white-space:pre;overflow-x:auto;line-height:normal;font-family:Menlo,'DejaVu Sans Mono',consolas,'Courier New',monospace\"></pre>\n"
      ],
      "text/plain": []
     },
     "metadata": {},
     "output_type": "display_data"
    },
    {
     "data": {
      "text/html": [
       "<pre style=\"white-space:pre;overflow-x:auto;line-height:normal;font-family:Menlo,'DejaVu Sans Mono',consolas,'Courier New',monospace\"></pre>\n"
      ],
      "text/plain": []
     },
     "metadata": {},
     "output_type": "display_data"
    },
    {
     "data": {
      "text/html": [
       "<pre style=\"white-space:pre;overflow-x:auto;line-height:normal;font-family:Menlo,'DejaVu Sans Mono',consolas,'Courier New',monospace\"></pre>\n"
      ],
      "text/plain": []
     },
     "metadata": {},
     "output_type": "display_data"
    },
    {
     "data": {
      "text/html": [
       "<pre style=\"white-space:pre;overflow-x:auto;line-height:normal;font-family:Menlo,'DejaVu Sans Mono',consolas,'Courier New',monospace\"></pre>\n"
      ],
      "text/plain": []
     },
     "metadata": {},
     "output_type": "display_data"
    },
    {
     "data": {
      "text/html": [
       "<pre style=\"white-space:pre;overflow-x:auto;line-height:normal;font-family:Menlo,'DejaVu Sans Mono',consolas,'Courier New',monospace\"></pre>\n"
      ],
      "text/plain": []
     },
     "metadata": {},
     "output_type": "display_data"
    },
    {
     "data": {
      "text/html": [
       "<pre style=\"white-space:pre;overflow-x:auto;line-height:normal;font-family:Menlo,'DejaVu Sans Mono',consolas,'Courier New',monospace\"></pre>\n"
      ],
      "text/plain": []
     },
     "metadata": {},
     "output_type": "display_data"
    },
    {
     "data": {
      "text/html": [
       "<pre style=\"white-space:pre;overflow-x:auto;line-height:normal;font-family:Menlo,'DejaVu Sans Mono',consolas,'Courier New',monospace\"></pre>\n"
      ],
      "text/plain": []
     },
     "metadata": {},
     "output_type": "display_data"
    },
    {
     "data": {
      "text/html": [
       "<pre style=\"white-space:pre;overflow-x:auto;line-height:normal;font-family:Menlo,'DejaVu Sans Mono',consolas,'Courier New',monospace\"></pre>\n"
      ],
      "text/plain": []
     },
     "metadata": {},
     "output_type": "display_data"
    },
    {
     "data": {
      "text/html": [
       "<pre style=\"white-space:pre;overflow-x:auto;line-height:normal;font-family:Menlo,'DejaVu Sans Mono',consolas,'Courier New',monospace\"></pre>\n"
      ],
      "text/plain": []
     },
     "metadata": {},
     "output_type": "display_data"
    },
    {
     "data": {
      "text/html": [
       "<pre style=\"white-space:pre;overflow-x:auto;line-height:normal;font-family:Menlo,'DejaVu Sans Mono',consolas,'Courier New',monospace\"></pre>\n"
      ],
      "text/plain": []
     },
     "metadata": {},
     "output_type": "display_data"
    },
    {
     "data": {
      "text/html": [
       "<pre style=\"white-space:pre;overflow-x:auto;line-height:normal;font-family:Menlo,'DejaVu Sans Mono',consolas,'Courier New',monospace\"></pre>\n"
      ],
      "text/plain": []
     },
     "metadata": {},
     "output_type": "display_data"
    },
    {
     "data": {
      "text/html": [
       "<pre style=\"white-space:pre;overflow-x:auto;line-height:normal;font-family:Menlo,'DejaVu Sans Mono',consolas,'Courier New',monospace\"></pre>\n"
      ],
      "text/plain": []
     },
     "metadata": {},
     "output_type": "display_data"
    },
    {
     "data": {
      "text/html": [
       "<pre style=\"white-space:pre;overflow-x:auto;line-height:normal;font-family:Menlo,'DejaVu Sans Mono',consolas,'Courier New',monospace\"></pre>\n"
      ],
      "text/plain": []
     },
     "metadata": {},
     "output_type": "display_data"
    },
    {
     "data": {
      "text/html": [
       "<pre style=\"white-space:pre;overflow-x:auto;line-height:normal;font-family:Menlo,'DejaVu Sans Mono',consolas,'Courier New',monospace\"></pre>\n"
      ],
      "text/plain": []
     },
     "metadata": {},
     "output_type": "display_data"
    },
    {
     "data": {
      "text/html": [
       "<pre style=\"white-space:pre;overflow-x:auto;line-height:normal;font-family:Menlo,'DejaVu Sans Mono',consolas,'Courier New',monospace\"></pre>\n"
      ],
      "text/plain": []
     },
     "metadata": {},
     "output_type": "display_data"
    },
    {
     "data": {
      "text/html": [
       "<pre style=\"white-space:pre;overflow-x:auto;line-height:normal;font-family:Menlo,'DejaVu Sans Mono',consolas,'Courier New',monospace\"></pre>\n"
      ],
      "text/plain": []
     },
     "metadata": {},
     "output_type": "display_data"
    },
    {
     "data": {
      "text/html": [
       "<pre style=\"white-space:pre;overflow-x:auto;line-height:normal;font-family:Menlo,'DejaVu Sans Mono',consolas,'Courier New',monospace\"></pre>\n"
      ],
      "text/plain": []
     },
     "metadata": {},
     "output_type": "display_data"
    },
    {
     "data": {
      "text/html": [
       "<pre style=\"white-space:pre;overflow-x:auto;line-height:normal;font-family:Menlo,'DejaVu Sans Mono',consolas,'Courier New',monospace\"></pre>\n"
      ],
      "text/plain": []
     },
     "metadata": {},
     "output_type": "display_data"
    },
    {
     "data": {
      "text/html": [
       "<pre style=\"white-space:pre;overflow-x:auto;line-height:normal;font-family:Menlo,'DejaVu Sans Mono',consolas,'Courier New',monospace\"></pre>\n"
      ],
      "text/plain": []
     },
     "metadata": {},
     "output_type": "display_data"
    },
    {
     "data": {
      "text/html": [
       "<pre style=\"white-space:pre;overflow-x:auto;line-height:normal;font-family:Menlo,'DejaVu Sans Mono',consolas,'Courier New',monospace\"></pre>\n"
      ],
      "text/plain": []
     },
     "metadata": {},
     "output_type": "display_data"
    },
    {
     "data": {
      "text/html": [
       "<pre style=\"white-space:pre;overflow-x:auto;line-height:normal;font-family:Menlo,'DejaVu Sans Mono',consolas,'Courier New',monospace\"></pre>\n"
      ],
      "text/plain": []
     },
     "metadata": {},
     "output_type": "display_data"
    },
    {
     "data": {
      "text/html": [
       "<pre style=\"white-space:pre;overflow-x:auto;line-height:normal;font-family:Menlo,'DejaVu Sans Mono',consolas,'Courier New',monospace\"></pre>\n"
      ],
      "text/plain": []
     },
     "metadata": {},
     "output_type": "display_data"
    },
    {
     "data": {
      "text/html": [
       "<pre style=\"white-space:pre;overflow-x:auto;line-height:normal;font-family:Menlo,'DejaVu Sans Mono',consolas,'Courier New',monospace\"></pre>\n"
      ],
      "text/plain": []
     },
     "metadata": {},
     "output_type": "display_data"
    },
    {
     "data": {
      "text/html": [
       "<pre style=\"white-space:pre;overflow-x:auto;line-height:normal;font-family:Menlo,'DejaVu Sans Mono',consolas,'Courier New',monospace\"></pre>\n"
      ],
      "text/plain": []
     },
     "metadata": {},
     "output_type": "display_data"
    },
    {
     "data": {
      "text/html": [
       "<pre style=\"white-space:pre;overflow-x:auto;line-height:normal;font-family:Menlo,'DejaVu Sans Mono',consolas,'Courier New',monospace\"></pre>\n"
      ],
      "text/plain": []
     },
     "metadata": {},
     "output_type": "display_data"
    },
    {
     "data": {
      "text/html": [
       "<pre style=\"white-space:pre;overflow-x:auto;line-height:normal;font-family:Menlo,'DejaVu Sans Mono',consolas,'Courier New',monospace\"></pre>\n"
      ],
      "text/plain": []
     },
     "metadata": {},
     "output_type": "display_data"
    },
    {
     "data": {
      "text/html": [
       "<pre style=\"white-space:pre;overflow-x:auto;line-height:normal;font-family:Menlo,'DejaVu Sans Mono',consolas,'Courier New',monospace\"></pre>\n"
      ],
      "text/plain": []
     },
     "metadata": {},
     "output_type": "display_data"
    },
    {
     "data": {
      "text/html": [
       "<pre style=\"white-space:pre;overflow-x:auto;line-height:normal;font-family:Menlo,'DejaVu Sans Mono',consolas,'Courier New',monospace\"></pre>\n"
      ],
      "text/plain": []
     },
     "metadata": {},
     "output_type": "display_data"
    },
    {
     "data": {
      "text/html": [
       "<pre style=\"white-space:pre;overflow-x:auto;line-height:normal;font-family:Menlo,'DejaVu Sans Mono',consolas,'Courier New',monospace\"></pre>\n"
      ],
      "text/plain": []
     },
     "metadata": {},
     "output_type": "display_data"
    },
    {
     "data": {
      "text/html": [
       "<pre style=\"white-space:pre;overflow-x:auto;line-height:normal;font-family:Menlo,'DejaVu Sans Mono',consolas,'Courier New',monospace\"></pre>\n"
      ],
      "text/plain": []
     },
     "metadata": {},
     "output_type": "display_data"
    },
    {
     "data": {
      "text/html": [
       "<pre style=\"white-space:pre;overflow-x:auto;line-height:normal;font-family:Menlo,'DejaVu Sans Mono',consolas,'Courier New',monospace\"></pre>\n"
      ],
      "text/plain": []
     },
     "metadata": {},
     "output_type": "display_data"
    },
    {
     "data": {
      "text/html": [
       "<pre style=\"white-space:pre;overflow-x:auto;line-height:normal;font-family:Menlo,'DejaVu Sans Mono',consolas,'Courier New',monospace\"></pre>\n"
      ],
      "text/plain": []
     },
     "metadata": {},
     "output_type": "display_data"
    },
    {
     "data": {
      "text/html": [
       "<pre style=\"white-space:pre;overflow-x:auto;line-height:normal;font-family:Menlo,'DejaVu Sans Mono',consolas,'Courier New',monospace\"></pre>\n"
      ],
      "text/plain": []
     },
     "metadata": {},
     "output_type": "display_data"
    },
    {
     "data": {
      "text/html": [
       "<pre style=\"white-space:pre;overflow-x:auto;line-height:normal;font-family:Menlo,'DejaVu Sans Mono',consolas,'Courier New',monospace\"></pre>\n"
      ],
      "text/plain": []
     },
     "metadata": {},
     "output_type": "display_data"
    },
    {
     "data": {
      "text/html": [
       "<pre style=\"white-space:pre;overflow-x:auto;line-height:normal;font-family:Menlo,'DejaVu Sans Mono',consolas,'Courier New',monospace\"></pre>\n"
      ],
      "text/plain": []
     },
     "metadata": {},
     "output_type": "display_data"
    },
    {
     "data": {
      "text/html": [
       "<pre style=\"white-space:pre;overflow-x:auto;line-height:normal;font-family:Menlo,'DejaVu Sans Mono',consolas,'Courier New',monospace\"></pre>\n"
      ],
      "text/plain": []
     },
     "metadata": {},
     "output_type": "display_data"
    },
    {
     "data": {
      "text/html": [
       "<pre style=\"white-space:pre;overflow-x:auto;line-height:normal;font-family:Menlo,'DejaVu Sans Mono',consolas,'Courier New',monospace\"></pre>\n"
      ],
      "text/plain": []
     },
     "metadata": {},
     "output_type": "display_data"
    },
    {
     "data": {
      "text/html": [
       "<pre style=\"white-space:pre;overflow-x:auto;line-height:normal;font-family:Menlo,'DejaVu Sans Mono',consolas,'Courier New',monospace\"></pre>\n"
      ],
      "text/plain": []
     },
     "metadata": {},
     "output_type": "display_data"
    },
    {
     "data": {
      "text/html": [
       "<pre style=\"white-space:pre;overflow-x:auto;line-height:normal;font-family:Menlo,'DejaVu Sans Mono',consolas,'Courier New',monospace\"></pre>\n"
      ],
      "text/plain": []
     },
     "metadata": {},
     "output_type": "display_data"
    },
    {
     "data": {
      "text/html": [
       "<pre style=\"white-space:pre;overflow-x:auto;line-height:normal;font-family:Menlo,'DejaVu Sans Mono',consolas,'Courier New',monospace\"></pre>\n"
      ],
      "text/plain": []
     },
     "metadata": {},
     "output_type": "display_data"
    },
    {
     "data": {
      "text/html": [
       "<pre style=\"white-space:pre;overflow-x:auto;line-height:normal;font-family:Menlo,'DejaVu Sans Mono',consolas,'Courier New',monospace\"></pre>\n"
      ],
      "text/plain": []
     },
     "metadata": {},
     "output_type": "display_data"
    },
    {
     "data": {
      "text/html": [
       "<pre style=\"white-space:pre;overflow-x:auto;line-height:normal;font-family:Menlo,'DejaVu Sans Mono',consolas,'Courier New',monospace\"></pre>\n"
      ],
      "text/plain": []
     },
     "metadata": {},
     "output_type": "display_data"
    },
    {
     "data": {
      "text/html": [
       "<pre style=\"white-space:pre;overflow-x:auto;line-height:normal;font-family:Menlo,'DejaVu Sans Mono',consolas,'Courier New',monospace\"></pre>\n"
      ],
      "text/plain": []
     },
     "metadata": {},
     "output_type": "display_data"
    },
    {
     "data": {
      "text/html": [
       "<pre style=\"white-space:pre;overflow-x:auto;line-height:normal;font-family:Menlo,'DejaVu Sans Mono',consolas,'Courier New',monospace\"></pre>\n"
      ],
      "text/plain": []
     },
     "metadata": {},
     "output_type": "display_data"
    },
    {
     "data": {
      "text/html": [
       "<pre style=\"white-space:pre;overflow-x:auto;line-height:normal;font-family:Menlo,'DejaVu Sans Mono',consolas,'Courier New',monospace\"></pre>\n"
      ],
      "text/plain": []
     },
     "metadata": {},
     "output_type": "display_data"
    },
    {
     "data": {
      "text/html": [
       "<pre style=\"white-space:pre;overflow-x:auto;line-height:normal;font-family:Menlo,'DejaVu Sans Mono',consolas,'Courier New',monospace\"></pre>\n"
      ],
      "text/plain": []
     },
     "metadata": {},
     "output_type": "display_data"
    },
    {
     "data": {
      "text/html": [
       "<pre style=\"white-space:pre;overflow-x:auto;line-height:normal;font-family:Menlo,'DejaVu Sans Mono',consolas,'Courier New',monospace\"></pre>\n"
      ],
      "text/plain": []
     },
     "metadata": {},
     "output_type": "display_data"
    },
    {
     "data": {
      "text/html": [
       "<pre style=\"white-space:pre;overflow-x:auto;line-height:normal;font-family:Menlo,'DejaVu Sans Mono',consolas,'Courier New',monospace\"></pre>\n"
      ],
      "text/plain": []
     },
     "metadata": {},
     "output_type": "display_data"
    },
    {
     "data": {
      "text/html": [
       "<pre style=\"white-space:pre;overflow-x:auto;line-height:normal;font-family:Menlo,'DejaVu Sans Mono',consolas,'Courier New',monospace\"></pre>\n"
      ],
      "text/plain": []
     },
     "metadata": {},
     "output_type": "display_data"
    },
    {
     "data": {
      "text/html": [
       "<pre style=\"white-space:pre;overflow-x:auto;line-height:normal;font-family:Menlo,'DejaVu Sans Mono',consolas,'Courier New',monospace\"></pre>\n"
      ],
      "text/plain": []
     },
     "metadata": {},
     "output_type": "display_data"
    },
    {
     "data": {
      "text/html": [
       "<pre style=\"white-space:pre;overflow-x:auto;line-height:normal;font-family:Menlo,'DejaVu Sans Mono',consolas,'Courier New',monospace\"></pre>\n"
      ],
      "text/plain": []
     },
     "metadata": {},
     "output_type": "display_data"
    },
    {
     "data": {
      "text/html": [
       "<pre style=\"white-space:pre;overflow-x:auto;line-height:normal;font-family:Menlo,'DejaVu Sans Mono',consolas,'Courier New',monospace\"></pre>\n"
      ],
      "text/plain": []
     },
     "metadata": {},
     "output_type": "display_data"
    },
    {
     "data": {
      "text/html": [
       "<pre style=\"white-space:pre;overflow-x:auto;line-height:normal;font-family:Menlo,'DejaVu Sans Mono',consolas,'Courier New',monospace\"></pre>\n"
      ],
      "text/plain": []
     },
     "metadata": {},
     "output_type": "display_data"
    },
    {
     "data": {
      "text/html": [
       "<pre style=\"white-space:pre;overflow-x:auto;line-height:normal;font-family:Menlo,'DejaVu Sans Mono',consolas,'Courier New',monospace\"></pre>\n"
      ],
      "text/plain": []
     },
     "metadata": {},
     "output_type": "display_data"
    },
    {
     "data": {
      "text/html": [
       "<pre style=\"white-space:pre;overflow-x:auto;line-height:normal;font-family:Menlo,'DejaVu Sans Mono',consolas,'Courier New',monospace\"></pre>\n"
      ],
      "text/plain": []
     },
     "metadata": {},
     "output_type": "display_data"
    },
    {
     "data": {
      "text/html": [
       "<pre style=\"white-space:pre;overflow-x:auto;line-height:normal;font-family:Menlo,'DejaVu Sans Mono',consolas,'Courier New',monospace\"></pre>\n"
      ],
      "text/plain": []
     },
     "metadata": {},
     "output_type": "display_data"
    },
    {
     "data": {
      "text/html": [
       "<pre style=\"white-space:pre;overflow-x:auto;line-height:normal;font-family:Menlo,'DejaVu Sans Mono',consolas,'Courier New',monospace\"></pre>\n"
      ],
      "text/plain": []
     },
     "metadata": {},
     "output_type": "display_data"
    },
    {
     "data": {
      "text/html": [
       "<pre style=\"white-space:pre;overflow-x:auto;line-height:normal;font-family:Menlo,'DejaVu Sans Mono',consolas,'Courier New',monospace\"></pre>\n"
      ],
      "text/plain": []
     },
     "metadata": {},
     "output_type": "display_data"
    },
    {
     "data": {
      "text/html": [
       "<pre style=\"white-space:pre;overflow-x:auto;line-height:normal;font-family:Menlo,'DejaVu Sans Mono',consolas,'Courier New',monospace\"></pre>\n"
      ],
      "text/plain": []
     },
     "metadata": {},
     "output_type": "display_data"
    },
    {
     "data": {
      "text/html": [
       "<pre style=\"white-space:pre;overflow-x:auto;line-height:normal;font-family:Menlo,'DejaVu Sans Mono',consolas,'Courier New',monospace\"></pre>\n"
      ],
      "text/plain": []
     },
     "metadata": {},
     "output_type": "display_data"
    },
    {
     "data": {
      "text/html": [
       "<pre style=\"white-space:pre;overflow-x:auto;line-height:normal;font-family:Menlo,'DejaVu Sans Mono',consolas,'Courier New',monospace\"></pre>\n"
      ],
      "text/plain": []
     },
     "metadata": {},
     "output_type": "display_data"
    },
    {
     "data": {
      "text/html": [
       "<pre style=\"white-space:pre;overflow-x:auto;line-height:normal;font-family:Menlo,'DejaVu Sans Mono',consolas,'Courier New',monospace\"></pre>\n"
      ],
      "text/plain": []
     },
     "metadata": {},
     "output_type": "display_data"
    },
    {
     "data": {
      "text/html": [
       "<pre style=\"white-space:pre;overflow-x:auto;line-height:normal;font-family:Menlo,'DejaVu Sans Mono',consolas,'Courier New',monospace\"></pre>\n"
      ],
      "text/plain": []
     },
     "metadata": {},
     "output_type": "display_data"
    },
    {
     "data": {
      "text/html": [
       "<pre style=\"white-space:pre;overflow-x:auto;line-height:normal;font-family:Menlo,'DejaVu Sans Mono',consolas,'Courier New',monospace\"></pre>\n"
      ],
      "text/plain": []
     },
     "metadata": {},
     "output_type": "display_data"
    },
    {
     "data": {
      "text/html": [
       "<pre style=\"white-space:pre;overflow-x:auto;line-height:normal;font-family:Menlo,'DejaVu Sans Mono',consolas,'Courier New',monospace\"></pre>\n"
      ],
      "text/plain": []
     },
     "metadata": {},
     "output_type": "display_data"
    },
    {
     "data": {
      "text/html": [
       "<pre style=\"white-space:pre;overflow-x:auto;line-height:normal;font-family:Menlo,'DejaVu Sans Mono',consolas,'Courier New',monospace\"></pre>\n"
      ],
      "text/plain": []
     },
     "metadata": {},
     "output_type": "display_data"
    },
    {
     "data": {
      "text/html": [
       "<pre style=\"white-space:pre;overflow-x:auto;line-height:normal;font-family:Menlo,'DejaVu Sans Mono',consolas,'Courier New',monospace\"></pre>\n"
      ],
      "text/plain": []
     },
     "metadata": {},
     "output_type": "display_data"
    },
    {
     "data": {
      "text/html": [
       "<pre style=\"white-space:pre;overflow-x:auto;line-height:normal;font-family:Menlo,'DejaVu Sans Mono',consolas,'Courier New',monospace\"></pre>\n"
      ],
      "text/plain": []
     },
     "metadata": {},
     "output_type": "display_data"
    },
    {
     "data": {
      "text/html": [
       "<pre style=\"white-space:pre;overflow-x:auto;line-height:normal;font-family:Menlo,'DejaVu Sans Mono',consolas,'Courier New',monospace\"></pre>\n"
      ],
      "text/plain": []
     },
     "metadata": {},
     "output_type": "display_data"
    },
    {
     "data": {
      "text/html": [
       "<pre style=\"white-space:pre;overflow-x:auto;line-height:normal;font-family:Menlo,'DejaVu Sans Mono',consolas,'Courier New',monospace\"></pre>\n"
      ],
      "text/plain": []
     },
     "metadata": {},
     "output_type": "display_data"
    },
    {
     "data": {
      "text/html": [
       "<pre style=\"white-space:pre;overflow-x:auto;line-height:normal;font-family:Menlo,'DejaVu Sans Mono',consolas,'Courier New',monospace\"></pre>\n"
      ],
      "text/plain": []
     },
     "metadata": {},
     "output_type": "display_data"
    },
    {
     "data": {
      "text/html": [
       "<pre style=\"white-space:pre;overflow-x:auto;line-height:normal;font-family:Menlo,'DejaVu Sans Mono',consolas,'Courier New',monospace\"></pre>\n"
      ],
      "text/plain": []
     },
     "metadata": {},
     "output_type": "display_data"
    },
    {
     "data": {
      "text/html": [
       "<pre style=\"white-space:pre;overflow-x:auto;line-height:normal;font-family:Menlo,'DejaVu Sans Mono',consolas,'Courier New',monospace\"></pre>\n"
      ],
      "text/plain": []
     },
     "metadata": {},
     "output_type": "display_data"
    },
    {
     "data": {
      "text/html": [
       "<pre style=\"white-space:pre;overflow-x:auto;line-height:normal;font-family:Menlo,'DejaVu Sans Mono',consolas,'Courier New',monospace\"></pre>\n"
      ],
      "text/plain": []
     },
     "metadata": {},
     "output_type": "display_data"
    },
    {
     "data": {
      "text/html": [
       "<pre style=\"white-space:pre;overflow-x:auto;line-height:normal;font-family:Menlo,'DejaVu Sans Mono',consolas,'Courier New',monospace\"></pre>\n"
      ],
      "text/plain": []
     },
     "metadata": {},
     "output_type": "display_data"
    },
    {
     "data": {
      "text/html": [
       "<pre style=\"white-space:pre;overflow-x:auto;line-height:normal;font-family:Menlo,'DejaVu Sans Mono',consolas,'Courier New',monospace\"></pre>\n"
      ],
      "text/plain": []
     },
     "metadata": {},
     "output_type": "display_data"
    },
    {
     "data": {
      "text/html": [
       "<pre style=\"white-space:pre;overflow-x:auto;line-height:normal;font-family:Menlo,'DejaVu Sans Mono',consolas,'Courier New',monospace\"></pre>\n"
      ],
      "text/plain": []
     },
     "metadata": {},
     "output_type": "display_data"
    },
    {
     "data": {
      "text/html": [
       "<pre style=\"white-space:pre;overflow-x:auto;line-height:normal;font-family:Menlo,'DejaVu Sans Mono',consolas,'Courier New',monospace\"></pre>\n"
      ],
      "text/plain": []
     },
     "metadata": {},
     "output_type": "display_data"
    },
    {
     "data": {
      "text/html": [
       "<pre style=\"white-space:pre;overflow-x:auto;line-height:normal;font-family:Menlo,'DejaVu Sans Mono',consolas,'Courier New',monospace\"></pre>\n"
      ],
      "text/plain": []
     },
     "metadata": {},
     "output_type": "display_data"
    },
    {
     "data": {
      "text/html": [
       "<pre style=\"white-space:pre;overflow-x:auto;line-height:normal;font-family:Menlo,'DejaVu Sans Mono',consolas,'Courier New',monospace\"></pre>\n"
      ],
      "text/plain": []
     },
     "metadata": {},
     "output_type": "display_data"
    },
    {
     "data": {
      "text/html": [
       "<pre style=\"white-space:pre;overflow-x:auto;line-height:normal;font-family:Menlo,'DejaVu Sans Mono',consolas,'Courier New',monospace\"></pre>\n"
      ],
      "text/plain": []
     },
     "metadata": {},
     "output_type": "display_data"
    },
    {
     "data": {
      "text/html": [
       "<pre style=\"white-space:pre;overflow-x:auto;line-height:normal;font-family:Menlo,'DejaVu Sans Mono',consolas,'Courier New',monospace\"></pre>\n"
      ],
      "text/plain": []
     },
     "metadata": {},
     "output_type": "display_data"
    },
    {
     "data": {
      "text/html": [
       "<pre style=\"white-space:pre;overflow-x:auto;line-height:normal;font-family:Menlo,'DejaVu Sans Mono',consolas,'Courier New',monospace\"></pre>\n"
      ],
      "text/plain": []
     },
     "metadata": {},
     "output_type": "display_data"
    },
    {
     "data": {
      "text/html": [
       "<pre style=\"white-space:pre;overflow-x:auto;line-height:normal;font-family:Menlo,'DejaVu Sans Mono',consolas,'Courier New',monospace\"></pre>\n"
      ],
      "text/plain": []
     },
     "metadata": {},
     "output_type": "display_data"
    },
    {
     "data": {
      "text/html": [
       "<pre style=\"white-space:pre;overflow-x:auto;line-height:normal;font-family:Menlo,'DejaVu Sans Mono',consolas,'Courier New',monospace\"></pre>\n"
      ],
      "text/plain": []
     },
     "metadata": {},
     "output_type": "display_data"
    },
    {
     "data": {
      "text/html": [
       "<pre style=\"white-space:pre;overflow-x:auto;line-height:normal;font-family:Menlo,'DejaVu Sans Mono',consolas,'Courier New',monospace\"></pre>\n"
      ],
      "text/plain": []
     },
     "metadata": {},
     "output_type": "display_data"
    },
    {
     "data": {
      "text/html": [
       "<pre style=\"white-space:pre;overflow-x:auto;line-height:normal;font-family:Menlo,'DejaVu Sans Mono',consolas,'Courier New',monospace\"></pre>\n"
      ],
      "text/plain": []
     },
     "metadata": {},
     "output_type": "display_data"
    },
    {
     "data": {
      "text/html": [
       "<pre style=\"white-space:pre;overflow-x:auto;line-height:normal;font-family:Menlo,'DejaVu Sans Mono',consolas,'Courier New',monospace\"></pre>\n"
      ],
      "text/plain": []
     },
     "metadata": {},
     "output_type": "display_data"
    },
    {
     "data": {
      "text/html": [
       "<pre style=\"white-space:pre;overflow-x:auto;line-height:normal;font-family:Menlo,'DejaVu Sans Mono',consolas,'Courier New',monospace\"></pre>\n"
      ],
      "text/plain": []
     },
     "metadata": {},
     "output_type": "display_data"
    },
    {
     "data": {
      "text/html": [
       "<pre style=\"white-space:pre;overflow-x:auto;line-height:normal;font-family:Menlo,'DejaVu Sans Mono',consolas,'Courier New',monospace\"></pre>\n"
      ],
      "text/plain": []
     },
     "metadata": {},
     "output_type": "display_data"
    },
    {
     "data": {
      "text/html": [
       "<pre style=\"white-space:pre;overflow-x:auto;line-height:normal;font-family:Menlo,'DejaVu Sans Mono',consolas,'Courier New',monospace\"></pre>\n"
      ],
      "text/plain": []
     },
     "metadata": {},
     "output_type": "display_data"
    },
    {
     "data": {
      "text/html": [
       "<pre style=\"white-space:pre;overflow-x:auto;line-height:normal;font-family:Menlo,'DejaVu Sans Mono',consolas,'Courier New',monospace\"></pre>\n"
      ],
      "text/plain": []
     },
     "metadata": {},
     "output_type": "display_data"
    },
    {
     "data": {
      "text/html": [
       "<pre style=\"white-space:pre;overflow-x:auto;line-height:normal;font-family:Menlo,'DejaVu Sans Mono',consolas,'Courier New',monospace\"></pre>\n"
      ],
      "text/plain": []
     },
     "metadata": {},
     "output_type": "display_data"
    },
    {
     "data": {
      "text/html": [
       "<pre style=\"white-space:pre;overflow-x:auto;line-height:normal;font-family:Menlo,'DejaVu Sans Mono',consolas,'Courier New',monospace\"></pre>\n"
      ],
      "text/plain": []
     },
     "metadata": {},
     "output_type": "display_data"
    },
    {
     "data": {
      "text/html": [
       "<pre style=\"white-space:pre;overflow-x:auto;line-height:normal;font-family:Menlo,'DejaVu Sans Mono',consolas,'Courier New',monospace\"></pre>\n"
      ],
      "text/plain": []
     },
     "metadata": {},
     "output_type": "display_data"
    },
    {
     "data": {
      "text/html": [
       "<pre style=\"white-space:pre;overflow-x:auto;line-height:normal;font-family:Menlo,'DejaVu Sans Mono',consolas,'Courier New',monospace\"></pre>\n"
      ],
      "text/plain": []
     },
     "metadata": {},
     "output_type": "display_data"
    },
    {
     "data": {
      "text/html": [
       "<pre style=\"white-space:pre;overflow-x:auto;line-height:normal;font-family:Menlo,'DejaVu Sans Mono',consolas,'Courier New',monospace\"></pre>\n"
      ],
      "text/plain": []
     },
     "metadata": {},
     "output_type": "display_data"
    },
    {
     "data": {
      "text/html": [
       "<pre style=\"white-space:pre;overflow-x:auto;line-height:normal;font-family:Menlo,'DejaVu Sans Mono',consolas,'Courier New',monospace\"></pre>\n"
      ],
      "text/plain": []
     },
     "metadata": {},
     "output_type": "display_data"
    },
    {
     "data": {
      "text/html": [
       "<pre style=\"white-space:pre;overflow-x:auto;line-height:normal;font-family:Menlo,'DejaVu Sans Mono',consolas,'Courier New',monospace\"></pre>\n"
      ],
      "text/plain": []
     },
     "metadata": {},
     "output_type": "display_data"
    },
    {
     "data": {
      "text/html": [
       "<pre style=\"white-space:pre;overflow-x:auto;line-height:normal;font-family:Menlo,'DejaVu Sans Mono',consolas,'Courier New',monospace\"></pre>\n"
      ],
      "text/plain": []
     },
     "metadata": {},
     "output_type": "display_data"
    },
    {
     "data": {
      "text/html": [
       "<pre style=\"white-space:pre;overflow-x:auto;line-height:normal;font-family:Menlo,'DejaVu Sans Mono',consolas,'Courier New',monospace\"></pre>\n"
      ],
      "text/plain": []
     },
     "metadata": {},
     "output_type": "display_data"
    },
    {
     "data": {
      "text/html": [
       "<pre style=\"white-space:pre;overflow-x:auto;line-height:normal;font-family:Menlo,'DejaVu Sans Mono',consolas,'Courier New',monospace\"></pre>\n"
      ],
      "text/plain": []
     },
     "metadata": {},
     "output_type": "display_data"
    },
    {
     "data": {
      "text/html": [
       "<pre style=\"white-space:pre;overflow-x:auto;line-height:normal;font-family:Menlo,'DejaVu Sans Mono',consolas,'Courier New',monospace\"></pre>\n"
      ],
      "text/plain": []
     },
     "metadata": {},
     "output_type": "display_data"
    },
    {
     "data": {
      "text/html": [
       "<pre style=\"white-space:pre;overflow-x:auto;line-height:normal;font-family:Menlo,'DejaVu Sans Mono',consolas,'Courier New',monospace\"></pre>\n"
      ],
      "text/plain": []
     },
     "metadata": {},
     "output_type": "display_data"
    },
    {
     "data": {
      "text/html": [
       "<pre style=\"white-space:pre;overflow-x:auto;line-height:normal;font-family:Menlo,'DejaVu Sans Mono',consolas,'Courier New',monospace\"></pre>\n"
      ],
      "text/plain": []
     },
     "metadata": {},
     "output_type": "display_data"
    },
    {
     "data": {
      "text/html": [
       "<pre style=\"white-space:pre;overflow-x:auto;line-height:normal;font-family:Menlo,'DejaVu Sans Mono',consolas,'Courier New',monospace\"></pre>\n"
      ],
      "text/plain": []
     },
     "metadata": {},
     "output_type": "display_data"
    },
    {
     "data": {
      "text/html": [
       "<pre style=\"white-space:pre;overflow-x:auto;line-height:normal;font-family:Menlo,'DejaVu Sans Mono',consolas,'Courier New',monospace\"></pre>\n"
      ],
      "text/plain": []
     },
     "metadata": {},
     "output_type": "display_data"
    },
    {
     "data": {
      "text/html": [
       "<pre style=\"white-space:pre;overflow-x:auto;line-height:normal;font-family:Menlo,'DejaVu Sans Mono',consolas,'Courier New',monospace\"></pre>\n"
      ],
      "text/plain": []
     },
     "metadata": {},
     "output_type": "display_data"
    },
    {
     "data": {
      "text/html": [
       "<pre style=\"white-space:pre;overflow-x:auto;line-height:normal;font-family:Menlo,'DejaVu Sans Mono',consolas,'Courier New',monospace\"></pre>\n"
      ],
      "text/plain": []
     },
     "metadata": {},
     "output_type": "display_data"
    },
    {
     "data": {
      "text/html": [
       "<pre style=\"white-space:pre;overflow-x:auto;line-height:normal;font-family:Menlo,'DejaVu Sans Mono',consolas,'Courier New',monospace\"></pre>\n"
      ],
      "text/plain": []
     },
     "metadata": {},
     "output_type": "display_data"
    },
    {
     "data": {
      "text/html": [
       "<pre style=\"white-space:pre;overflow-x:auto;line-height:normal;font-family:Menlo,'DejaVu Sans Mono',consolas,'Courier New',monospace\"></pre>\n"
      ],
      "text/plain": []
     },
     "metadata": {},
     "output_type": "display_data"
    },
    {
     "data": {
      "text/html": [
       "<pre style=\"white-space:pre;overflow-x:auto;line-height:normal;font-family:Menlo,'DejaVu Sans Mono',consolas,'Courier New',monospace\"></pre>\n"
      ],
      "text/plain": []
     },
     "metadata": {},
     "output_type": "display_data"
    },
    {
     "data": {
      "text/html": [
       "<pre style=\"white-space:pre;overflow-x:auto;line-height:normal;font-family:Menlo,'DejaVu Sans Mono',consolas,'Courier New',monospace\"></pre>\n"
      ],
      "text/plain": []
     },
     "metadata": {},
     "output_type": "display_data"
    },
    {
     "data": {
      "text/html": [
       "<pre style=\"white-space:pre;overflow-x:auto;line-height:normal;font-family:Menlo,'DejaVu Sans Mono',consolas,'Courier New',monospace\"></pre>\n"
      ],
      "text/plain": []
     },
     "metadata": {},
     "output_type": "display_data"
    },
    {
     "data": {
      "text/html": [
       "<pre style=\"white-space:pre;overflow-x:auto;line-height:normal;font-family:Menlo,'DejaVu Sans Mono',consolas,'Courier New',monospace\"></pre>\n"
      ],
      "text/plain": []
     },
     "metadata": {},
     "output_type": "display_data"
    },
    {
     "data": {
      "text/html": [
       "<pre style=\"white-space:pre;overflow-x:auto;line-height:normal;font-family:Menlo,'DejaVu Sans Mono',consolas,'Courier New',monospace\"></pre>\n"
      ],
      "text/plain": []
     },
     "metadata": {},
     "output_type": "display_data"
    },
    {
     "data": {
      "text/html": [
       "<pre style=\"white-space:pre;overflow-x:auto;line-height:normal;font-family:Menlo,'DejaVu Sans Mono',consolas,'Courier New',monospace\"></pre>\n"
      ],
      "text/plain": []
     },
     "metadata": {},
     "output_type": "display_data"
    },
    {
     "data": {
      "text/html": [
       "<pre style=\"white-space:pre;overflow-x:auto;line-height:normal;font-family:Menlo,'DejaVu Sans Mono',consolas,'Courier New',monospace\"></pre>\n"
      ],
      "text/plain": []
     },
     "metadata": {},
     "output_type": "display_data"
    },
    {
     "data": {
      "text/html": [
       "<pre style=\"white-space:pre;overflow-x:auto;line-height:normal;font-family:Menlo,'DejaVu Sans Mono',consolas,'Courier New',monospace\"></pre>\n"
      ],
      "text/plain": []
     },
     "metadata": {},
     "output_type": "display_data"
    },
    {
     "data": {
      "text/html": [
       "<pre style=\"white-space:pre;overflow-x:auto;line-height:normal;font-family:Menlo,'DejaVu Sans Mono',consolas,'Courier New',monospace\"></pre>\n"
      ],
      "text/plain": []
     },
     "metadata": {},
     "output_type": "display_data"
    },
    {
     "data": {
      "text/html": [
       "<pre style=\"white-space:pre;overflow-x:auto;line-height:normal;font-family:Menlo,'DejaVu Sans Mono',consolas,'Courier New',monospace\"></pre>\n"
      ],
      "text/plain": []
     },
     "metadata": {},
     "output_type": "display_data"
    },
    {
     "data": {
      "text/html": [
       "<pre style=\"white-space:pre;overflow-x:auto;line-height:normal;font-family:Menlo,'DejaVu Sans Mono',consolas,'Courier New',monospace\"></pre>\n"
      ],
      "text/plain": []
     },
     "metadata": {},
     "output_type": "display_data"
    },
    {
     "data": {
      "text/html": [
       "<pre style=\"white-space:pre;overflow-x:auto;line-height:normal;font-family:Menlo,'DejaVu Sans Mono',consolas,'Courier New',monospace\"></pre>\n"
      ],
      "text/plain": []
     },
     "metadata": {},
     "output_type": "display_data"
    },
    {
     "data": {
      "text/html": [
       "<pre style=\"white-space:pre;overflow-x:auto;line-height:normal;font-family:Menlo,'DejaVu Sans Mono',consolas,'Courier New',monospace\"></pre>\n"
      ],
      "text/plain": []
     },
     "metadata": {},
     "output_type": "display_data"
    },
    {
     "data": {
      "text/html": [
       "<pre style=\"white-space:pre;overflow-x:auto;line-height:normal;font-family:Menlo,'DejaVu Sans Mono',consolas,'Courier New',monospace\"></pre>\n"
      ],
      "text/plain": []
     },
     "metadata": {},
     "output_type": "display_data"
    },
    {
     "data": {
      "text/html": [
       "<pre style=\"white-space:pre;overflow-x:auto;line-height:normal;font-family:Menlo,'DejaVu Sans Mono',consolas,'Courier New',monospace\"></pre>\n"
      ],
      "text/plain": []
     },
     "metadata": {},
     "output_type": "display_data"
    },
    {
     "data": {
      "text/html": [
       "<pre style=\"white-space:pre;overflow-x:auto;line-height:normal;font-family:Menlo,'DejaVu Sans Mono',consolas,'Courier New',monospace\"></pre>\n"
      ],
      "text/plain": []
     },
     "metadata": {},
     "output_type": "display_data"
    },
    {
     "data": {
      "text/html": [
       "<pre style=\"white-space:pre;overflow-x:auto;line-height:normal;font-family:Menlo,'DejaVu Sans Mono',consolas,'Courier New',monospace\"></pre>\n"
      ],
      "text/plain": []
     },
     "metadata": {},
     "output_type": "display_data"
    },
    {
     "data": {
      "text/html": [
       "<pre style=\"white-space:pre;overflow-x:auto;line-height:normal;font-family:Menlo,'DejaVu Sans Mono',consolas,'Courier New',monospace\"></pre>\n"
      ],
      "text/plain": []
     },
     "metadata": {},
     "output_type": "display_data"
    },
    {
     "data": {
      "text/html": [
       "<pre style=\"white-space:pre;overflow-x:auto;line-height:normal;font-family:Menlo,'DejaVu Sans Mono',consolas,'Courier New',monospace\"></pre>\n"
      ],
      "text/plain": []
     },
     "metadata": {},
     "output_type": "display_data"
    },
    {
     "data": {
      "text/html": [
       "<pre style=\"white-space:pre;overflow-x:auto;line-height:normal;font-family:Menlo,'DejaVu Sans Mono',consolas,'Courier New',monospace\"></pre>\n"
      ],
      "text/plain": []
     },
     "metadata": {},
     "output_type": "display_data"
    },
    {
     "data": {
      "text/html": [
       "<pre style=\"white-space:pre;overflow-x:auto;line-height:normal;font-family:Menlo,'DejaVu Sans Mono',consolas,'Courier New',monospace\"></pre>\n"
      ],
      "text/plain": []
     },
     "metadata": {},
     "output_type": "display_data"
    },
    {
     "data": {
      "text/html": [
       "<pre style=\"white-space:pre;overflow-x:auto;line-height:normal;font-family:Menlo,'DejaVu Sans Mono',consolas,'Courier New',monospace\"></pre>\n"
      ],
      "text/plain": []
     },
     "metadata": {},
     "output_type": "display_data"
    },
    {
     "name": "stdout",
     "output_type": "stream",
     "text": [
      "data/YoriDataset_vgg/train/NC/55x-134.png\n",
      "data/YoriDataset_vgg/train/NC/8x-116.png\n",
      "data/YoriDataset_vgg/train/NC/93x-102.png\n",
      "data/YoriDataset_vgg/train/NC/94x-105.png\n",
      "data/YoriDataset_vgg/train/NC/86x-131.png\n",
      "data/YoriDataset_vgg/train/NC/96x-97.png\n",
      "data/YoriDataset_vgg/train/NC/25x-104.png\n",
      "data/YoriDataset_vgg/train/NC/96x-99.png\n",
      "data/YoriDataset_vgg/train/NC/20x-119.png\n",
      "data/YoriDataset_vgg/train/NC/94x-103.png\n",
      "data/YoriDataset_vgg/train/NC/95x-98.png\n",
      "data/YoriDataset_vgg/train/NC/56x-134.png\n",
      "data/YoriDataset_vgg/train/NC/46x-136.png\n",
      "data/YoriDataset_vgg/train/NC/44x-116.png\n",
      "data/YoriDataset_vgg/train/NC/88x-106.png\n",
      "data/YoriDataset_vgg/train/NC/96x-96.png\n",
      "data/YoriDataset_vgg/train/MCI/76x-116.png\n",
      "data/YoriDataset_vgg/train/MCI/73x-145.png\n",
      "data/YoriDataset_vgg/train/MCI/13x-137.png\n",
      "data/YoriDataset_vgg/train/MCI/58x-131.png\n",
      "data/YoriDataset_vgg/train/MCI/40x-154.png\n",
      "data/YoriDataset_vgg/train/MCI/24x-95.png\n",
      "data/YoriDataset_vgg/train/MCI/49x-124.png\n",
      "data/YoriDataset_vgg/train/MCI/7x-117.png\n",
      "data/YoriDataset_vgg/train/MCI/9x-134.png\n",
      "data/YoriDataset_vgg/train/MCI/12x-118.png\n",
      "data/YoriDataset_vgg/train/MCI/55x-119.png\n",
      "data/YoriDataset_vgg/train/MCI/78x-123.png\n",
      "data/YoriDataset_vgg/train/MCI/95x-87.png\n",
      "data/YoriDataset_vgg/train/MCI/75x-115.png\n",
      "data/YoriDataset_vgg/train/MCI/15x-133.png\n",
      "data/YoriDataset_vgg/train/MCI/32x-122.png\n",
      "data/YoriDataset_vgg/train/MCI/10x-130.png\n",
      "data/YoriDataset_vgg/train/MCI/99x-95.png\n",
      "data/YoriDataset_vgg/train/MCI/39x-138.png\n",
      "data/YoriDataset_vgg/train/MCI/75x-111.png\n",
      "data/YoriDataset_vgg/train/MCI/60x-144.png\n",
      "data/YoriDataset_vgg/train/MCI/97x-104.png\n",
      "data/YoriDataset_vgg/train/MCI/50x-134.png\n",
      "data/YoriDataset_vgg/train/MCI/15x-131.png\n",
      "data/YoriDataset_vgg/train/MCI/77x-115.png\n",
      "data/YoriDataset_vgg/train/MCI/96x-102.png\n",
      "data/YoriDataset_vgg/train/MCI/4x-129.png\n",
      "data/YoriDataset_vgg/train/MCI/71x-136.png\n",
      "data/YoriDataset_vgg/train/MCI/18x-139.png\n",
      "data/YoriDataset_vgg/train/MCI/3x-129.png\n",
      "data/YoriDataset_vgg/train/MCI/72x-142.png\n",
      "data/YoriDataset_vgg/train/MCI/95x-85.png\n",
      "data/YoriDataset_vgg/train/MCI/26x-90.png\n",
      "data/YoriDataset_vgg/train/MCI/72x-136.png\n",
      "data/YoriDataset_vgg/train/MCI/76x-110.png\n",
      "data/YoriDataset_vgg/train/MCI/54x-126.png\n",
      "data/YoriDataset_vgg/train/MCI/19x-123.png\n",
      "data/YoriDataset_vgg/train/MCI/11x-118.png\n",
      "data/YoriDataset_vgg/train/MCI/51x-130.png\n",
      "data/YoriDataset_vgg/train/MCI/15x-137.png\n",
      "data/YoriDataset_vgg/train/MCI/67x-145.png\n",
      "data/YoriDataset_vgg/train/MCI/72x-138.png\n",
      "data/YoriDataset_vgg/train/MCI/12x-114.png\n",
      "data/YoriDataset_vgg/train/MCI/38x-162.png\n",
      "data/YoriDataset_vgg/train/MCI/73x-139.png\n",
      "data/YoriDataset_vgg/train/MCI/66x-126.png\n",
      "data/YoriDataset_vgg/train/MCI/10x-128.png\n",
      "data/YoriDataset_vgg/train/MCI/37x-143.png\n",
      "data/YoriDataset_vgg/train/MCI/73x-137.png\n",
      "data/YoriDataset_vgg/train/MCI/28x-96.png\n",
      "data/YoriDataset_vgg/train/MCI/27x-106.png\n",
      "data/YoriDataset_vgg/train/MCI/74x-120.png\n",
      "data/YoriDataset_vgg/train/MCI/71x-142.png\n",
      "data/YoriDataset_vgg/train/MCI/76x-112.png\n",
      "data/YoriDataset_vgg/train/MCI/73x-143.png\n",
      "data/YoriDataset_vgg/train/MCI/1x-116.png\n",
      "data/YoriDataset_vgg/train/MCI/99x-91.png\n",
      "data/YoriDataset_vgg/train/MCI/58x-133.png\n",
      "data/YoriDataset_vgg/train/MCI/101x-100.png\n",
      "data/YoriDataset_vgg/train/MCI/78x-125.png\n",
      "data/YoriDataset_vgg/train/MCI/5x-120.png\n",
      "data/YoriDataset_vgg/train/MCI/68x-126.png\n",
      "data/YoriDataset_vgg/train/MCI/32x-126.png\n",
      "data/YoriDataset_vgg/train/MCI/29x-98.png\n",
      "data/YoriDataset_vgg/train/MCI/51x-128.png\n",
      "data/YoriDataset_vgg/train/MCI/11x-114.png\n",
      "data/YoriDataset_vgg/train/MCI/73x-141.png\n",
      "data/YoriDataset_vgg/train/MCI/16x-132.png\n",
      "data/YoriDataset_vgg/train/MCI/59x-130.png\n",
      "data/YoriDataset_vgg/train/MCI/71x-138.png\n",
      "data/YoriDataset_vgg/train/MCI/29x-104.png\n",
      "data/YoriDataset_vgg/train/MCI/74x-124.png\n",
      "data/YoriDataset_vgg/train/MCI/10x-132.png\n"
     ]
    }
   ],
   "source": [
    "# %matplotlib inline\n",
    "import json\n",
    "# from mmcls.core.visualization import imshow_infos\n",
    "import os\n",
    "filepath_axial = 'data/YoriDataset_vgg/train'\n",
    "\n",
    "wrong_predictions = []\n",
    "for i in os.listdir(filepath_axial):\n",
    "    temp = os.path.join(filepath_axial,i)\n",
    "    for j in os.listdir(temp):\n",
    "        temp1 = os.path.join(temp,j)      \n",
    "        img_array =  mmcv.imread(temp1)\n",
    "        inferencer = ImageClassificationInferencer(model_axial)\n",
    "        # result['true_class'] = temp1.split('/')[3]\n",
    "        result = inferencer(temp1)[0]\n",
    "        original_class = temp1.split('/')[3]\n",
    "        if result['pred_class'] != original_class:\n",
    "            wrong_predictions.append(temp1)\n",
    "        # ImageClassificationInferencer.__call__(inputs=img_array)\n",
    "\n",
    "      \n",
    "      # show_result_pyplot(model_axial, temp1, result)\n",
    "print('\\n'.join(wrong_predictions))        "
   ]
  },
  {
   "cell_type": "code",
   "execution_count": 53,
   "id": "8debea0a-e04c-4007-9145-c833d5410e83",
   "metadata": {
    "scrolled": true
   },
   "outputs": [
    {
     "name": "stdout",
     "output_type": "stream",
     "text": [
      "Done\n"
     ]
    }
   ],
   "source": [
    "import os\n",
    "import shutil\n",
    "\n",
    "heatmap_folder = 'data/efficientnet_heat/train'\n",
    "\n",
    "for i in os.listdir(filepath_axial):\n",
    "    class_folder = os.path.join(filepath_axial, i)\n",
    "    for j in os.listdir(class_folder):\n",
    "        img_name = os.path.join(class_folder, j)\n",
    "        # print(img_name)\n",
    "\n",
    "        copy_image = heatmap_folder + '/' + i + '/' + j\n",
    "        # print(copy_image)\n",
    "        if {img_name}.issubset(wrong_predictions)==False:\n",
    "            shutil.copy(img_name, copy_image)\n",
    "        # break\n",
    "    # break\n",
    "print('Done')"
   ]
  },
  {
   "cell_type": "code",
   "execution_count": 4,
   "id": "69e376f4-08ca-43ec-ae54-c2c5d02f05aa",
   "metadata": {
    "scrolled": true
   },
   "outputs": [
    {
     "name": "stdout",
     "output_type": "stream",
     "text": [
      "data/efficientnet_heat/train/AD/heat_x-129 (6).png\n",
      "Loads checkpoint by local backend from path: work_dirs/alzheimer/axial/efficientnet/epoch_100.pth\n",
      "49\n",
      "Automatically choose the last norm layer \"backbone.layers.6.bn\" as the target layer.\n",
      "1\n",
      "data/efficientnet_heat/train/AD/heat_x-126.png\n",
      "Loads checkpoint by local backend from path: work_dirs/alzheimer/axial/efficientnet/epoch_100.pth\n",
      "49\n",
      "Automatically choose the last norm layer \"backbone.layers.6.bn\" as the target layer.\n",
      "2\n",
      "data/efficientnet_heat/train/AD/heat_x-105 (23).png\n",
      "Loads checkpoint by local backend from path: work_dirs/alzheimer/axial/efficientnet/epoch_100.pth\n",
      "49\n",
      "Automatically choose the last norm layer \"backbone.layers.6.bn\" as the target layer.\n",
      "3\n",
      "data/efficientnet_heat/train/AD/heat_x-121 (7).png\n",
      "Loads checkpoint by local backend from path: work_dirs/alzheimer/axial/efficientnet/epoch_100.pth\n",
      "49\n",
      "Automatically choose the last norm layer \"backbone.layers.6.bn\" as the target layer.\n",
      "4\n",
      "data/efficientnet_heat/train/AD/heat_x-121 (3).png\n",
      "Loads checkpoint by local backend from path: work_dirs/alzheimer/axial/efficientnet/epoch_100.pth\n",
      "49\n",
      "Automatically choose the last norm layer \"backbone.layers.6.bn\" as the target layer.\n",
      "5\n",
      "data/efficientnet_heat/train/AD/heat_x-112 (9).png\n",
      "Loads checkpoint by local backend from path: work_dirs/alzheimer/axial/efficientnet/epoch_100.pth\n",
      "49\n",
      "Automatically choose the last norm layer \"backbone.layers.6.bn\" as the target layer.\n",
      "6\n",
      "data/efficientnet_heat/train/AD/heat_x-100 (4).png\n",
      "Loads checkpoint by local backend from path: work_dirs/alzheimer/axial/efficientnet/epoch_100.pth\n",
      "49\n",
      "Automatically choose the last norm layer \"backbone.layers.6.bn\" as the target layer.\n",
      "7\n",
      "data/efficientnet_heat/train/AD/heat_x-119.png\n",
      "Loads checkpoint by local backend from path: work_dirs/alzheimer/axial/efficientnet/epoch_100.pth\n",
      "49\n",
      "Automatically choose the last norm layer \"backbone.layers.6.bn\" as the target layer.\n",
      "8\n",
      "data/efficientnet_heat/train/AD/heat_x-112 (4).png\n",
      "Loads checkpoint by local backend from path: work_dirs/alzheimer/axial/efficientnet/epoch_100.pth\n",
      "49\n",
      "Automatically choose the last norm layer \"backbone.layers.6.bn\" as the target layer.\n",
      "9\n",
      "data/efficientnet_heat/train/AD/heat_x-89 (4).png\n",
      "Loads checkpoint by local backend from path: work_dirs/alzheimer/axial/efficientnet/epoch_100.pth\n",
      "49\n",
      "Automatically choose the last norm layer \"backbone.layers.6.bn\" as the target layer.\n",
      "10\n",
      "data/efficientnet_heat/train/AD/heat_x-101 (7).png\n",
      "Loads checkpoint by local backend from path: work_dirs/alzheimer/axial/efficientnet/epoch_100.pth\n",
      "49\n",
      "Automatically choose the last norm layer \"backbone.layers.6.bn\" as the target layer.\n",
      "11\n",
      "data/efficientnet_heat/train/AD/heat_x-92 (3).png\n",
      "Loads checkpoint by local backend from path: work_dirs/alzheimer/axial/efficientnet/epoch_100.pth\n",
      "49\n",
      "Automatically choose the last norm layer \"backbone.layers.6.bn\" as the target layer.\n",
      "12\n",
      "data/efficientnet_heat/train/AD/heat_x-115 (11).png\n",
      "Loads checkpoint by local backend from path: work_dirs/alzheimer/axial/efficientnet/epoch_100.pth\n",
      "49\n",
      "Automatically choose the last norm layer \"backbone.layers.6.bn\" as the target layer.\n",
      "13\n",
      "data/efficientnet_heat/train/AD/heat_x-109 (13).png\n",
      "Loads checkpoint by local backend from path: work_dirs/alzheimer/axial/efficientnet/epoch_100.pth\n",
      "49\n",
      "Automatically choose the last norm layer \"backbone.layers.6.bn\" as the target layer.\n",
      "14\n",
      "data/efficientnet_heat/train/AD/heat_x-126 (8).png\n",
      "Loads checkpoint by local backend from path: work_dirs/alzheimer/axial/efficientnet/epoch_100.pth\n",
      "49\n",
      "Automatically choose the last norm layer \"backbone.layers.6.bn\" as the target layer.\n",
      "15\n",
      "data/efficientnet_heat/train/AD/heat_x-125.png\n",
      "Loads checkpoint by local backend from path: work_dirs/alzheimer/axial/efficientnet/epoch_100.pth\n",
      "49\n",
      "Automatically choose the last norm layer \"backbone.layers.6.bn\" as the target layer.\n",
      "16\n",
      "data/efficientnet_heat/train/AD/heat_x-113.png\n",
      "Loads checkpoint by local backend from path: work_dirs/alzheimer/axial/efficientnet/epoch_100.pth\n",
      "49\n",
      "Automatically choose the last norm layer \"backbone.layers.6.bn\" as the target layer.\n",
      "17\n",
      "data/efficientnet_heat/train/AD/heat_x-106 (9).png\n",
      "Loads checkpoint by local backend from path: work_dirs/alzheimer/axial/efficientnet/epoch_100.pth\n",
      "49\n",
      "Automatically choose the last norm layer \"backbone.layers.6.bn\" as the target layer.\n",
      "18\n",
      "data/efficientnet_heat/train/AD/heat_x-90.png\n",
      "Loads checkpoint by local backend from path: work_dirs/alzheimer/axial/efficientnet/epoch_100.pth\n",
      "49\n",
      "Automatically choose the last norm layer \"backbone.layers.6.bn\" as the target layer.\n",
      "19\n",
      "data/efficientnet_heat/train/AD/heat_x-108 (2).png\n",
      "Loads checkpoint by local backend from path: work_dirs/alzheimer/axial/efficientnet/epoch_100.pth\n",
      "49\n",
      "Automatically choose the last norm layer \"backbone.layers.6.bn\" as the target layer.\n",
      "20\n",
      "data/efficientnet_heat/train/AD/heat_x-119 (5).png\n",
      "Loads checkpoint by local backend from path: work_dirs/alzheimer/axial/efficientnet/epoch_100.pth\n",
      "49\n",
      "Automatically choose the last norm layer \"backbone.layers.6.bn\" as the target layer.\n",
      "21\n",
      "data/efficientnet_heat/train/AD/heat_x-122 (11).png\n",
      "Loads checkpoint by local backend from path: work_dirs/alzheimer/axial/efficientnet/epoch_100.pth\n",
      "49\n",
      "Automatically choose the last norm layer \"backbone.layers.6.bn\" as the target layer.\n",
      "22\n",
      "data/efficientnet_heat/train/AD/heat_x-101 (2).png\n",
      "Loads checkpoint by local backend from path: work_dirs/alzheimer/axial/efficientnet/epoch_100.pth\n",
      "49\n",
      "Automatically choose the last norm layer \"backbone.layers.6.bn\" as the target layer.\n",
      "23\n",
      "data/efficientnet_heat/train/AD/heat_x-106 (6).png\n",
      "Loads checkpoint by local backend from path: work_dirs/alzheimer/axial/efficientnet/epoch_100.pth\n",
      "49\n",
      "Automatically choose the last norm layer \"backbone.layers.6.bn\" as the target layer.\n",
      "24\n",
      "data/efficientnet_heat/train/AD/heat_x-113 (6).png\n",
      "Loads checkpoint by local backend from path: work_dirs/alzheimer/axial/efficientnet/epoch_100.pth\n",
      "49\n",
      "Automatically choose the last norm layer \"backbone.layers.6.bn\" as the target layer.\n",
      "25\n",
      "data/efficientnet_heat/train/AD/heat_x-98 (7).png\n",
      "Loads checkpoint by local backend from path: work_dirs/alzheimer/axial/efficientnet/epoch_100.pth\n",
      "49\n",
      "Automatically choose the last norm layer \"backbone.layers.6.bn\" as the target layer.\n",
      "26\n",
      "data/efficientnet_heat/train/AD/heat_x-108 (10).png\n",
      "Loads checkpoint by local backend from path: work_dirs/alzheimer/axial/efficientnet/epoch_100.pth\n",
      "49\n",
      "Automatically choose the last norm layer \"backbone.layers.6.bn\" as the target layer.\n",
      "27\n",
      "data/efficientnet_heat/train/AD/heat_x-103 (11).png\n",
      "Loads checkpoint by local backend from path: work_dirs/alzheimer/axial/efficientnet/epoch_100.pth\n",
      "49\n",
      "Automatically choose the last norm layer \"backbone.layers.6.bn\" as the target layer.\n",
      "28\n",
      "data/efficientnet_heat/train/AD/heat_x-127.png\n",
      "Loads checkpoint by local backend from path: work_dirs/alzheimer/axial/efficientnet/epoch_100.pth\n",
      "49\n",
      "Automatically choose the last norm layer \"backbone.layers.6.bn\" as the target layer.\n",
      "29\n",
      "data/efficientnet_heat/train/AD/heat_x-116 (2).png\n",
      "Loads checkpoint by local backend from path: work_dirs/alzheimer/axial/efficientnet/epoch_100.pth\n",
      "49\n",
      "Automatically choose the last norm layer \"backbone.layers.6.bn\" as the target layer.\n",
      "30\n",
      "data/efficientnet_heat/train/AD/heat_x-128 (18).png\n",
      "Loads checkpoint by local backend from path: work_dirs/alzheimer/axial/efficientnet/epoch_100.pth\n",
      "49\n",
      "Automatically choose the last norm layer \"backbone.layers.6.bn\" as the target layer.\n",
      "31\n",
      "data/efficientnet_heat/train/AD/heat_x-109.png\n",
      "Loads checkpoint by local backend from path: work_dirs/alzheimer/axial/efficientnet/epoch_100.pth\n",
      "49\n",
      "Automatically choose the last norm layer \"backbone.layers.6.bn\" as the target layer.\n",
      "32\n",
      "data/efficientnet_heat/train/AD/heat_x-118 (3).png\n",
      "Loads checkpoint by local backend from path: work_dirs/alzheimer/axial/efficientnet/epoch_100.pth\n",
      "49\n",
      "Automatically choose the last norm layer \"backbone.layers.6.bn\" as the target layer.\n",
      "33\n",
      "data/efficientnet_heat/train/AD/heat_x-127 (8).png\n",
      "Loads checkpoint by local backend from path: work_dirs/alzheimer/axial/efficientnet/epoch_100.pth\n",
      "49\n",
      "Automatically choose the last norm layer \"backbone.layers.6.bn\" as the target layer.\n",
      "34\n",
      "data/efficientnet_heat/train/AD/heat_x-128 (8).png\n",
      "Loads checkpoint by local backend from path: work_dirs/alzheimer/axial/efficientnet/epoch_100.pth\n",
      "49\n",
      "Automatically choose the last norm layer \"backbone.layers.6.bn\" as the target layer.\n",
      "35\n",
      "data/efficientnet_heat/train/AD/heat_x-108 (7).png\n",
      "Loads checkpoint by local backend from path: work_dirs/alzheimer/axial/efficientnet/epoch_100.pth\n",
      "49\n",
      "Automatically choose the last norm layer \"backbone.layers.6.bn\" as the target layer.\n",
      "36\n",
      "data/efficientnet_heat/train/AD/heat_x-111 (4).png\n",
      "Loads checkpoint by local backend from path: work_dirs/alzheimer/axial/efficientnet/epoch_100.pth\n",
      "49\n",
      "Automatically choose the last norm layer \"backbone.layers.6.bn\" as the target layer.\n",
      "37\n",
      "data/efficientnet_heat/train/AD/heat_x-103 (15).png\n",
      "Loads checkpoint by local backend from path: work_dirs/alzheimer/axial/efficientnet/epoch_100.pth\n",
      "49\n",
      "Automatically choose the last norm layer \"backbone.layers.6.bn\" as the target layer.\n",
      "38\n",
      "data/efficientnet_heat/train/AD/heat_x-112 (10).png\n",
      "Loads checkpoint by local backend from path: work_dirs/alzheimer/axial/efficientnet/epoch_100.pth\n",
      "49\n",
      "Automatically choose the last norm layer \"backbone.layers.6.bn\" as the target layer.\n",
      "39\n",
      "data/efficientnet_heat/train/AD/heat_x-94 (7).png\n",
      "Loads checkpoint by local backend from path: work_dirs/alzheimer/axial/efficientnet/epoch_100.pth\n",
      "49\n",
      "Automatically choose the last norm layer \"backbone.layers.6.bn\" as the target layer.\n",
      "40\n",
      "data/efficientnet_heat/train/AD/heat_x-121.png\n",
      "Loads checkpoint by local backend from path: work_dirs/alzheimer/axial/efficientnet/epoch_100.pth\n",
      "49\n",
      "Automatically choose the last norm layer \"backbone.layers.6.bn\" as the target layer.\n",
      "41\n",
      "data/efficientnet_heat/train/AD/heat_x-108 (13).png\n",
      "Loads checkpoint by local backend from path: work_dirs/alzheimer/axial/efficientnet/epoch_100.pth\n",
      "49\n",
      "Automatically choose the last norm layer \"backbone.layers.6.bn\" as the target layer.\n",
      "42\n",
      "data/efficientnet_heat/train/AD/heat_x-118.png\n",
      "Loads checkpoint by local backend from path: work_dirs/alzheimer/axial/efficientnet/epoch_100.pth\n",
      "49\n",
      "Automatically choose the last norm layer \"backbone.layers.6.bn\" as the target layer.\n",
      "43\n",
      "data/efficientnet_heat/train/AD/heat_x-105 (16).png\n",
      "Loads checkpoint by local backend from path: work_dirs/alzheimer/axial/efficientnet/epoch_100.pth\n",
      "49\n",
      "Automatically choose the last norm layer \"backbone.layers.6.bn\" as the target layer.\n",
      "44\n",
      "data/efficientnet_heat/train/AD/heat_x-124 (3).png\n",
      "Loads checkpoint by local backend from path: work_dirs/alzheimer/axial/efficientnet/epoch_100.pth\n",
      "49\n",
      "Automatically choose the last norm layer \"backbone.layers.6.bn\" as the target layer.\n",
      "45\n",
      "data/efficientnet_heat/train/AD/heat_x-101 (3).png\n",
      "Loads checkpoint by local backend from path: work_dirs/alzheimer/axial/efficientnet/epoch_100.pth\n",
      "49\n",
      "Automatically choose the last norm layer \"backbone.layers.6.bn\" as the target layer.\n",
      "46\n",
      "data/efficientnet_heat/train/AD/heat_x-96 (5).png\n",
      "Loads checkpoint by local backend from path: work_dirs/alzheimer/axial/efficientnet/epoch_100.pth\n",
      "49\n",
      "Automatically choose the last norm layer \"backbone.layers.6.bn\" as the target layer.\n",
      "47\n",
      "data/efficientnet_heat/train/AD/heat_x-107 (13).png\n",
      "Loads checkpoint by local backend from path: work_dirs/alzheimer/axial/efficientnet/epoch_100.pth\n",
      "49\n",
      "Automatically choose the last norm layer \"backbone.layers.6.bn\" as the target layer.\n",
      "48\n",
      "data/efficientnet_heat/train/AD/heat_x-102 (4).png\n",
      "Loads checkpoint by local backend from path: work_dirs/alzheimer/axial/efficientnet/epoch_100.pth\n",
      "49\n",
      "Automatically choose the last norm layer \"backbone.layers.6.bn\" as the target layer.\n",
      "49\n",
      "data/efficientnet_heat/train/AD/heat_x-105 (5).png\n",
      "Loads checkpoint by local backend from path: work_dirs/alzheimer/axial/efficientnet/epoch_100.pth\n",
      "49\n",
      "Automatically choose the last norm layer \"backbone.layers.6.bn\" as the target layer.\n",
      "50\n",
      "data/efficientnet_heat/train/AD/heat_x-121 (2).png\n",
      "Loads checkpoint by local backend from path: work_dirs/alzheimer/axial/efficientnet/epoch_100.pth\n",
      "49\n",
      "Automatically choose the last norm layer \"backbone.layers.6.bn\" as the target layer.\n",
      "51\n",
      "data/efficientnet_heat/train/AD/heat_x-109 (7).png\n",
      "Loads checkpoint by local backend from path: work_dirs/alzheimer/axial/efficientnet/epoch_100.pth\n",
      "49\n",
      "Automatically choose the last norm layer \"backbone.layers.6.bn\" as the target layer.\n",
      "52\n",
      "data/efficientnet_heat/train/AD/heat_x-107 (16).png\n",
      "Loads checkpoint by local backend from path: work_dirs/alzheimer/axial/efficientnet/epoch_100.pth\n",
      "49\n",
      "Automatically choose the last norm layer \"backbone.layers.6.bn\" as the target layer.\n",
      "53\n",
      "data/efficientnet_heat/train/AD/heat_x-104 (11).png\n",
      "Loads checkpoint by local backend from path: work_dirs/alzheimer/axial/efficientnet/epoch_100.pth\n",
      "49\n",
      "Automatically choose the last norm layer \"backbone.layers.6.bn\" as the target layer.\n",
      "54\n",
      "data/efficientnet_heat/train/AD/heat_x-110.png\n",
      "Loads checkpoint by local backend from path: work_dirs/alzheimer/axial/efficientnet/epoch_100.pth\n",
      "49\n",
      "Automatically choose the last norm layer \"backbone.layers.6.bn\" as the target layer.\n",
      "55\n",
      "data/efficientnet_heat/train/AD/heat_x-112 (13).png\n",
      "Loads checkpoint by local backend from path: work_dirs/alzheimer/axial/efficientnet/epoch_100.pth\n",
      "49\n",
      "Automatically choose the last norm layer \"backbone.layers.6.bn\" as the target layer.\n",
      "56\n",
      "data/efficientnet_heat/train/AD/heat_x-107 (5).png\n",
      "Loads checkpoint by local backend from path: work_dirs/alzheimer/axial/efficientnet/epoch_100.pth\n",
      "49\n",
      "Automatically choose the last norm layer \"backbone.layers.6.bn\" as the target layer.\n",
      "57\n",
      "data/efficientnet_heat/train/AD/heat_x-117 (5).png\n",
      "Loads checkpoint by local backend from path: work_dirs/alzheimer/axial/efficientnet/epoch_100.pth\n",
      "49\n",
      "Automatically choose the last norm layer \"backbone.layers.6.bn\" as the target layer.\n",
      "58\n",
      "data/efficientnet_heat/train/AD/heat_x-101 (4).png\n",
      "Loads checkpoint by local backend from path: work_dirs/alzheimer/axial/efficientnet/epoch_100.pth\n",
      "49\n",
      "Automatically choose the last norm layer \"backbone.layers.6.bn\" as the target layer.\n",
      "59\n",
      "data/efficientnet_heat/train/AD/heat_x-95.png\n",
      "Loads checkpoint by local backend from path: work_dirs/alzheimer/axial/efficientnet/epoch_100.pth\n",
      "49\n",
      "Automatically choose the last norm layer \"backbone.layers.6.bn\" as the target layer.\n",
      "60\n",
      "data/efficientnet_heat/train/AD/heat_x-105 (4).png\n",
      "Loads checkpoint by local backend from path: work_dirs/alzheimer/axial/efficientnet/epoch_100.pth\n",
      "49\n",
      "Automatically choose the last norm layer \"backbone.layers.6.bn\" as the target layer.\n",
      "61\n",
      "data/efficientnet_heat/train/AD/heat_x-128 (11).png\n",
      "Loads checkpoint by local backend from path: work_dirs/alzheimer/axial/efficientnet/epoch_100.pth\n",
      "49\n",
      "Automatically choose the last norm layer \"backbone.layers.6.bn\" as the target layer.\n",
      "62\n",
      "data/efficientnet_heat/train/AD/heat_x-128 (19).png\n",
      "Loads checkpoint by local backend from path: work_dirs/alzheimer/axial/efficientnet/epoch_100.pth\n",
      "49\n",
      "Automatically choose the last norm layer \"backbone.layers.6.bn\" as the target layer.\n",
      "63\n",
      "data/efficientnet_heat/train/AD/heat_x-124 (2).png\n",
      "Loads checkpoint by local backend from path: work_dirs/alzheimer/axial/efficientnet/epoch_100.pth\n",
      "49\n",
      "Automatically choose the last norm layer \"backbone.layers.6.bn\" as the target layer.\n",
      "64\n",
      "data/efficientnet_heat/train/AD/heat_x-126 (5).png\n",
      "Loads checkpoint by local backend from path: work_dirs/alzheimer/axial/efficientnet/epoch_100.pth\n",
      "49\n",
      "Automatically choose the last norm layer \"backbone.layers.6.bn\" as the target layer.\n",
      "65\n",
      "data/efficientnet_heat/train/AD/heat_x-106.png\n",
      "Loads checkpoint by local backend from path: work_dirs/alzheimer/axial/efficientnet/epoch_100.pth\n",
      "49\n",
      "Automatically choose the last norm layer \"backbone.layers.6.bn\" as the target layer.\n",
      "66\n",
      "data/efficientnet_heat/train/AD/heat_x-125 (5).png\n",
      "Loads checkpoint by local backend from path: work_dirs/alzheimer/axial/efficientnet/epoch_100.pth\n",
      "49\n",
      "Automatically choose the last norm layer \"backbone.layers.6.bn\" as the target layer.\n",
      "67\n",
      "data/efficientnet_heat/train/AD/heat_x-129 (3).png\n",
      "Loads checkpoint by local backend from path: work_dirs/alzheimer/axial/efficientnet/epoch_100.pth\n",
      "49\n",
      "Automatically choose the last norm layer \"backbone.layers.6.bn\" as the target layer.\n",
      "68\n",
      "data/efficientnet_heat/train/AD/heat_x-99 (7).png\n",
      "Loads checkpoint by local backend from path: work_dirs/alzheimer/axial/efficientnet/epoch_100.pth\n",
      "49\n",
      "Automatically choose the last norm layer \"backbone.layers.6.bn\" as the target layer.\n",
      "69\n",
      "data/efficientnet_heat/train/AD/heat_x-120 (9).png\n",
      "Loads checkpoint by local backend from path: work_dirs/alzheimer/axial/efficientnet/epoch_100.pth\n",
      "49\n",
      "Automatically choose the last norm layer \"backbone.layers.6.bn\" as the target layer.\n",
      "70\n",
      "data/efficientnet_heat/train/AD/heat_x-128 (2).png\n",
      "Loads checkpoint by local backend from path: work_dirs/alzheimer/axial/efficientnet/epoch_100.pth\n",
      "49\n",
      "Automatically choose the last norm layer \"backbone.layers.6.bn\" as the target layer.\n",
      "71\n",
      "data/efficientnet_heat/train/AD/heat_x-114 (8).png\n",
      "Loads checkpoint by local backend from path: work_dirs/alzheimer/axial/efficientnet/epoch_100.pth\n",
      "49\n",
      "Automatically choose the last norm layer \"backbone.layers.6.bn\" as the target layer.\n",
      "72\n",
      "data/efficientnet_heat/train/AD/heat_x-112 (8).png\n",
      "Loads checkpoint by local backend from path: work_dirs/alzheimer/axial/efficientnet/epoch_100.pth\n",
      "49\n",
      "Automatically choose the last norm layer \"backbone.layers.6.bn\" as the target layer.\n",
      "73\n",
      "data/efficientnet_heat/train/AD/heat_x-117 (7).png\n",
      "Loads checkpoint by local backend from path: work_dirs/alzheimer/axial/efficientnet/epoch_100.pth\n",
      "49\n",
      "Automatically choose the last norm layer \"backbone.layers.6.bn\" as the target layer.\n",
      "74\n",
      "data/efficientnet_heat/train/AD/heat_x-106 (4).png\n",
      "Loads checkpoint by local backend from path: work_dirs/alzheimer/axial/efficientnet/epoch_100.pth\n",
      "49\n",
      "Automatically choose the last norm layer \"backbone.layers.6.bn\" as the target layer.\n",
      "75\n",
      "data/efficientnet_heat/train/AD/heat_x-103 (22).png\n",
      "Loads checkpoint by local backend from path: work_dirs/alzheimer/axial/efficientnet/epoch_100.pth\n",
      "49\n",
      "Automatically choose the last norm layer \"backbone.layers.6.bn\" as the target layer.\n",
      "76\n",
      "data/efficientnet_heat/train/AD/heat_x-110 (17).png\n",
      "Loads checkpoint by local backend from path: work_dirs/alzheimer/axial/efficientnet/epoch_100.pth\n",
      "49\n",
      "Automatically choose the last norm layer \"backbone.layers.6.bn\" as the target layer.\n",
      "77\n",
      "data/efficientnet_heat/train/AD/heat_x-127 (6).png\n",
      "Loads checkpoint by local backend from path: work_dirs/alzheimer/axial/efficientnet/epoch_100.pth\n",
      "49\n",
      "Automatically choose the last norm layer \"backbone.layers.6.bn\" as the target layer.\n",
      "78\n",
      "data/efficientnet_heat/train/AD/heat_x-114 (10).png\n",
      "Loads checkpoint by local backend from path: work_dirs/alzheimer/axial/efficientnet/epoch_100.pth\n",
      "49\n",
      "Automatically choose the last norm layer \"backbone.layers.6.bn\" as the target layer.\n",
      "79\n",
      "data/efficientnet_heat/train/AD/heat_x-110 (6).png\n",
      "Loads checkpoint by local backend from path: work_dirs/alzheimer/axial/efficientnet/epoch_100.pth\n",
      "49\n",
      "Automatically choose the last norm layer \"backbone.layers.6.bn\" as the target layer.\n",
      "80\n",
      "data/efficientnet_heat/train/AD/heat_x-126 (10).png\n",
      "Loads checkpoint by local backend from path: work_dirs/alzheimer/axial/efficientnet/epoch_100.pth\n",
      "49\n",
      "Automatically choose the last norm layer \"backbone.layers.6.bn\" as the target layer.\n",
      "81\n",
      "data/efficientnet_heat/train/AD/heat_x-107 (9).png\n",
      "Loads checkpoint by local backend from path: work_dirs/alzheimer/axial/efficientnet/epoch_100.pth\n",
      "49\n",
      "Automatically choose the last norm layer \"backbone.layers.6.bn\" as the target layer.\n",
      "82\n",
      "data/efficientnet_heat/train/AD/heat_x-126 (14).png\n",
      "Loads checkpoint by local backend from path: work_dirs/alzheimer/axial/efficientnet/epoch_100.pth\n",
      "49\n",
      "Automatically choose the last norm layer \"backbone.layers.6.bn\" as the target layer.\n",
      "83\n",
      "data/efficientnet_heat/train/AD/heat_x-110 (13).png\n",
      "Loads checkpoint by local backend from path: work_dirs/alzheimer/axial/efficientnet/epoch_100.pth\n",
      "49\n",
      "Automatically choose the last norm layer \"backbone.layers.6.bn\" as the target layer.\n",
      "84\n",
      "data/efficientnet_heat/train/AD/heat_x-106 (12).png\n",
      "Loads checkpoint by local backend from path: work_dirs/alzheimer/axial/efficientnet/epoch_100.pth\n",
      "49\n",
      "Automatically choose the last norm layer \"backbone.layers.6.bn\" as the target layer.\n",
      "85\n",
      "data/efficientnet_heat/train/AD/heat_x-113 (10).png\n",
      "Loads checkpoint by local backend from path: work_dirs/alzheimer/axial/efficientnet/epoch_100.pth\n",
      "49\n",
      "Automatically choose the last norm layer \"backbone.layers.6.bn\" as the target layer.\n",
      "86\n",
      "data/efficientnet_heat/train/AD/heat_x-126 (12).png\n",
      "Loads checkpoint by local backend from path: work_dirs/alzheimer/axial/efficientnet/epoch_100.pth\n",
      "49\n",
      "Automatically choose the last norm layer \"backbone.layers.6.bn\" as the target layer.\n",
      "87\n",
      "data/efficientnet_heat/train/AD/heat_x-101 (8).png\n",
      "Loads checkpoint by local backend from path: work_dirs/alzheimer/axial/efficientnet/epoch_100.pth\n",
      "49\n",
      "Automatically choose the last norm layer \"backbone.layers.6.bn\" as the target layer.\n",
      "88\n",
      "data/efficientnet_heat/train/AD/heat_x-99 (14).png\n",
      "Loads checkpoint by local backend from path: work_dirs/alzheimer/axial/efficientnet/epoch_100.pth\n",
      "49\n",
      "Automatically choose the last norm layer \"backbone.layers.6.bn\" as the target layer.\n",
      "89\n",
      "data/efficientnet_heat/train/AD/heat_x-111 (7).png\n",
      "Loads checkpoint by local backend from path: work_dirs/alzheimer/axial/efficientnet/epoch_100.pth\n",
      "49\n",
      "Automatically choose the last norm layer \"backbone.layers.6.bn\" as the target layer.\n",
      "90\n",
      "data/efficientnet_heat/train/AD/heat_x-105 (6).png\n",
      "Loads checkpoint by local backend from path: work_dirs/alzheimer/axial/efficientnet/epoch_100.pth\n",
      "49\n",
      "Automatically choose the last norm layer \"backbone.layers.6.bn\" as the target layer.\n",
      "91\n",
      "data/efficientnet_heat/train/AD/heat_x-127 (7).png\n",
      "Loads checkpoint by local backend from path: work_dirs/alzheimer/axial/efficientnet/epoch_100.pth\n",
      "49\n",
      "Automatically choose the last norm layer \"backbone.layers.6.bn\" as the target layer.\n",
      "92\n",
      "data/efficientnet_heat/train/AD/heat_x-92 (5).png\n",
      "Loads checkpoint by local backend from path: work_dirs/alzheimer/axial/efficientnet/epoch_100.pth\n",
      "49\n",
      "Automatically choose the last norm layer \"backbone.layers.6.bn\" as the target layer.\n",
      "93\n",
      "data/efficientnet_heat/train/AD/heat_x-115 (13).png\n",
      "Loads checkpoint by local backend from path: work_dirs/alzheimer/axial/efficientnet/epoch_100.pth\n",
      "49\n",
      "Automatically choose the last norm layer \"backbone.layers.6.bn\" as the target layer.\n",
      "94\n",
      "data/efficientnet_heat/train/AD/heat_x-111 (2).png\n",
      "Loads checkpoint by local backend from path: work_dirs/alzheimer/axial/efficientnet/epoch_100.pth\n",
      "49\n",
      "Automatically choose the last norm layer \"backbone.layers.6.bn\" as the target layer.\n",
      "95\n",
      "data/efficientnet_heat/train/AD/heat_x-112 (11).png\n",
      "Loads checkpoint by local backend from path: work_dirs/alzheimer/axial/efficientnet/epoch_100.pth\n",
      "49\n",
      "Automatically choose the last norm layer \"backbone.layers.6.bn\" as the target layer.\n",
      "96\n",
      "data/efficientnet_heat/train/AD/heat_x-111 (5).png\n",
      "Loads checkpoint by local backend from path: work_dirs/alzheimer/axial/efficientnet/epoch_100.pth\n",
      "49\n",
      "Automatically choose the last norm layer \"backbone.layers.6.bn\" as the target layer.\n",
      "97\n",
      "data/efficientnet_heat/train/AD/heat_x-122 (7).png\n",
      "Loads checkpoint by local backend from path: work_dirs/alzheimer/axial/efficientnet/epoch_100.pth\n",
      "49\n",
      "Automatically choose the last norm layer \"backbone.layers.6.bn\" as the target layer.\n",
      "98\n",
      "data/efficientnet_heat/train/AD/heat_x-103 (10).png\n",
      "Loads checkpoint by local backend from path: work_dirs/alzheimer/axial/efficientnet/epoch_100.pth\n",
      "49\n",
      "Automatically choose the last norm layer \"backbone.layers.6.bn\" as the target layer.\n",
      "99\n",
      "data/efficientnet_heat/train/AD/heat_x-103 (16).png\n",
      "Loads checkpoint by local backend from path: work_dirs/alzheimer/axial/efficientnet/epoch_100.pth\n",
      "49\n",
      "Automatically choose the last norm layer \"backbone.layers.6.bn\" as the target layer.\n",
      "100\n",
      "data/efficientnet_heat/train/AD/heat_x-119 (4).png\n",
      "Loads checkpoint by local backend from path: work_dirs/alzheimer/axial/efficientnet/epoch_100.pth\n",
      "49\n",
      "Automatically choose the last norm layer \"backbone.layers.6.bn\" as the target layer.\n",
      "101\n",
      "data/efficientnet_heat/train/AD/heat_x-129 (7).png\n",
      "Loads checkpoint by local backend from path: work_dirs/alzheimer/axial/efficientnet/epoch_100.pth\n",
      "49\n",
      "Automatically choose the last norm layer \"backbone.layers.6.bn\" as the target layer.\n",
      "102\n",
      "data/efficientnet_heat/train/AD/heat_x-99 (9).png\n",
      "Loads checkpoint by local backend from path: work_dirs/alzheimer/axial/efficientnet/epoch_100.pth\n",
      "49\n",
      "Automatically choose the last norm layer \"backbone.layers.6.bn\" as the target layer.\n",
      "103\n",
      "data/efficientnet_heat/train/AD/heat_x-103 (4).png\n",
      "Loads checkpoint by local backend from path: work_dirs/alzheimer/axial/efficientnet/epoch_100.pth\n",
      "49\n",
      "Automatically choose the last norm layer \"backbone.layers.6.bn\" as the target layer.\n",
      "104\n",
      "data/efficientnet_heat/train/AD/heat_x-128 (7).png\n",
      "Loads checkpoint by local backend from path: work_dirs/alzheimer/axial/efficientnet/epoch_100.pth\n",
      "49\n",
      "Automatically choose the last norm layer \"backbone.layers.6.bn\" as the target layer.\n",
      "105\n",
      "data/efficientnet_heat/train/AD/heat_x-105 (20).png\n",
      "Loads checkpoint by local backend from path: work_dirs/alzheimer/axial/efficientnet/epoch_100.pth\n",
      "49\n",
      "Automatically choose the last norm layer \"backbone.layers.6.bn\" as the target layer.\n",
      "106\n",
      "data/efficientnet_heat/train/AD/heat_x-98 (8).png\n",
      "Loads checkpoint by local backend from path: work_dirs/alzheimer/axial/efficientnet/epoch_100.pth\n",
      "49\n",
      "Automatically choose the last norm layer \"backbone.layers.6.bn\" as the target layer.\n",
      "107\n",
      "data/efficientnet_heat/train/AD/heat_x-115 (2).png\n",
      "Loads checkpoint by local backend from path: work_dirs/alzheimer/axial/efficientnet/epoch_100.pth\n",
      "49\n",
      "Automatically choose the last norm layer \"backbone.layers.6.bn\" as the target layer.\n",
      "108\n",
      "data/efficientnet_heat/train/AD/heat_x-104 (16).png\n",
      "Loads checkpoint by local backend from path: work_dirs/alzheimer/axial/efficientnet/epoch_100.pth\n",
      "49\n",
      "Automatically choose the last norm layer \"backbone.layers.6.bn\" as the target layer.\n",
      "109\n",
      "data/efficientnet_heat/train/AD/heat_x-100 (7).png\n",
      "Loads checkpoint by local backend from path: work_dirs/alzheimer/axial/efficientnet/epoch_100.pth\n",
      "49\n",
      "Automatically choose the last norm layer \"backbone.layers.6.bn\" as the target layer.\n",
      "110\n",
      "data/efficientnet_heat/train/AD/heat_x-126 (3).png\n",
      "Loads checkpoint by local backend from path: work_dirs/alzheimer/axial/efficientnet/epoch_100.pth\n",
      "49\n",
      "Automatically choose the last norm layer \"backbone.layers.6.bn\" as the target layer.\n",
      "111\n",
      "data/efficientnet_heat/train/AD/heat_x-115 (10).png\n",
      "Loads checkpoint by local backend from path: work_dirs/alzheimer/axial/efficientnet/epoch_100.pth\n",
      "49\n",
      "Automatically choose the last norm layer \"backbone.layers.6.bn\" as the target layer.\n",
      "112\n",
      "data/efficientnet_heat/train/AD/heat_x-99 (12).png\n",
      "Loads checkpoint by local backend from path: work_dirs/alzheimer/axial/efficientnet/epoch_100.pth\n",
      "49\n",
      "Automatically choose the last norm layer \"backbone.layers.6.bn\" as the target layer.\n",
      "113\n",
      "data/efficientnet_heat/train/AD/heat_x-100 (18).png\n",
      "Loads checkpoint by local backend from path: work_dirs/alzheimer/axial/efficientnet/epoch_100.pth\n",
      "49\n",
      "Automatically choose the last norm layer \"backbone.layers.6.bn\" as the target layer.\n",
      "114\n",
      "data/efficientnet_heat/train/AD/heat_x-100 (10).png\n",
      "Loads checkpoint by local backend from path: work_dirs/alzheimer/axial/efficientnet/epoch_100.pth\n",
      "49\n",
      "Automatically choose the last norm layer \"backbone.layers.6.bn\" as the target layer.\n",
      "115\n",
      "data/efficientnet_heat/train/AD/heat_x-98 (13).png\n",
      "Loads checkpoint by local backend from path: work_dirs/alzheimer/axial/efficientnet/epoch_100.pth\n",
      "49\n",
      "Automatically choose the last norm layer \"backbone.layers.6.bn\" as the target layer.\n",
      "116\n",
      "data/efficientnet_heat/train/AD/heat_x-116 (5).png\n",
      "Loads checkpoint by local backend from path: work_dirs/alzheimer/axial/efficientnet/epoch_100.pth\n",
      "49\n",
      "Automatically choose the last norm layer \"backbone.layers.6.bn\" as the target layer.\n",
      "117\n",
      "data/efficientnet_heat/train/AD/heat_x-128 (10).png\n",
      "Loads checkpoint by local backend from path: work_dirs/alzheimer/axial/efficientnet/epoch_100.pth\n",
      "49\n",
      "Automatically choose the last norm layer \"backbone.layers.6.bn\" as the target layer.\n",
      "118\n",
      "data/efficientnet_heat/train/AD/heat_x-123 (5).png\n",
      "Loads checkpoint by local backend from path: work_dirs/alzheimer/axial/efficientnet/epoch_100.pth\n",
      "49\n",
      "Automatically choose the last norm layer \"backbone.layers.6.bn\" as the target layer.\n",
      "119\n",
      "data/efficientnet_heat/train/AD/heat_x-114 (9).png\n",
      "Loads checkpoint by local backend from path: work_dirs/alzheimer/axial/efficientnet/epoch_100.pth\n",
      "49\n",
      "Automatically choose the last norm layer \"backbone.layers.6.bn\" as the target layer.\n",
      "120\n",
      "data/efficientnet_heat/train/AD/heat_x-122 (4).png\n",
      "Loads checkpoint by local backend from path: work_dirs/alzheimer/axial/efficientnet/epoch_100.pth\n",
      "49\n",
      "Automatically choose the last norm layer \"backbone.layers.6.bn\" as the target layer.\n",
      "121\n",
      "data/efficientnet_heat/train/AD/heat_x-125 (3).png\n",
      "Loads checkpoint by local backend from path: work_dirs/alzheimer/axial/efficientnet/epoch_100.pth\n",
      "49\n",
      "Automatically choose the last norm layer \"backbone.layers.6.bn\" as the target layer.\n",
      "122\n",
      "data/efficientnet_heat/train/AD/heat_x-100 (11).png\n",
      "Loads checkpoint by local backend from path: work_dirs/alzheimer/axial/efficientnet/epoch_100.pth\n",
      "49\n",
      "Automatically choose the last norm layer \"backbone.layers.6.bn\" as the target layer.\n",
      "123\n",
      "data/efficientnet_heat/train/AD/heat_x-119 (9).png\n",
      "Loads checkpoint by local backend from path: work_dirs/alzheimer/axial/efficientnet/epoch_100.pth\n",
      "49\n",
      "Automatically choose the last norm layer \"backbone.layers.6.bn\" as the target layer.\n",
      "124\n",
      "data/efficientnet_heat/train/AD/heat_x-128 (3).png\n",
      "Loads checkpoint by local backend from path: work_dirs/alzheimer/axial/efficientnet/epoch_100.pth\n",
      "49\n",
      "Automatically choose the last norm layer \"backbone.layers.6.bn\" as the target layer.\n",
      "125\n",
      "data/efficientnet_heat/train/AD/heat_x-107 (6).png\n",
      "Loads checkpoint by local backend from path: work_dirs/alzheimer/axial/efficientnet/epoch_100.pth\n",
      "49\n",
      "Automatically choose the last norm layer \"backbone.layers.6.bn\" as the target layer.\n",
      "126\n",
      "data/efficientnet_heat/train/AD/heat_x-116.png\n",
      "Loads checkpoint by local backend from path: work_dirs/alzheimer/axial/efficientnet/epoch_100.pth\n",
      "49\n",
      "Automatically choose the last norm layer \"backbone.layers.6.bn\" as the target layer.\n",
      "127\n",
      "data/efficientnet_heat/train/AD/heat_x-112 (12).png\n",
      "Loads checkpoint by local backend from path: work_dirs/alzheimer/axial/efficientnet/epoch_100.pth\n",
      "49\n",
      "Automatically choose the last norm layer \"backbone.layers.6.bn\" as the target layer.\n",
      "128\n",
      "data/efficientnet_heat/train/AD/heat_x-95 (3).png\n",
      "Loads checkpoint by local backend from path: work_dirs/alzheimer/axial/efficientnet/epoch_100.pth\n",
      "49\n",
      "Automatically choose the last norm layer \"backbone.layers.6.bn\" as the target layer.\n",
      "129\n",
      "data/efficientnet_heat/train/AD/heat_x-112 (3).png\n",
      "Loads checkpoint by local backend from path: work_dirs/alzheimer/axial/efficientnet/epoch_100.pth\n",
      "49\n",
      "Automatically choose the last norm layer \"backbone.layers.6.bn\" as the target layer.\n",
      "130\n",
      "data/efficientnet_heat/train/AD/heat_x-103 (19).png\n",
      "Loads checkpoint by local backend from path: work_dirs/alzheimer/axial/efficientnet/epoch_100.pth\n",
      "49\n",
      "Automatically choose the last norm layer \"backbone.layers.6.bn\" as the target layer.\n",
      "131\n",
      "data/efficientnet_heat/train/AD/heat_x-108 (5).png\n",
      "Loads checkpoint by local backend from path: work_dirs/alzheimer/axial/efficientnet/epoch_100.pth\n",
      "49\n",
      "Automatically choose the last norm layer \"backbone.layers.6.bn\" as the target layer.\n",
      "132\n",
      "data/efficientnet_heat/train/AD/heat_x-104 (10).png\n",
      "Loads checkpoint by local backend from path: work_dirs/alzheimer/axial/efficientnet/epoch_100.pth\n",
      "49\n",
      "Automatically choose the last norm layer \"backbone.layers.6.bn\" as the target layer.\n",
      "133\n",
      "data/efficientnet_heat/train/AD/heat_x-127 (2).png\n",
      "Loads checkpoint by local backend from path: work_dirs/alzheimer/axial/efficientnet/epoch_100.pth\n",
      "49\n",
      "Automatically choose the last norm layer \"backbone.layers.6.bn\" as the target layer.\n",
      "134\n",
      "data/efficientnet_heat/train/AD/heat_x-112 (6).png\n",
      "Loads checkpoint by local backend from path: work_dirs/alzheimer/axial/efficientnet/epoch_100.pth\n",
      "49\n",
      "Automatically choose the last norm layer \"backbone.layers.6.bn\" as the target layer.\n",
      "135\n",
      "data/efficientnet_heat/train/AD/heat_x-92 (4).png\n",
      "Loads checkpoint by local backend from path: work_dirs/alzheimer/axial/efficientnet/epoch_100.pth\n",
      "49\n",
      "Automatically choose the last norm layer \"backbone.layers.6.bn\" as the target layer.\n",
      "136\n",
      "data/efficientnet_heat/train/AD/heat_x-104 (20).png\n",
      "Loads checkpoint by local backend from path: work_dirs/alzheimer/axial/efficientnet/epoch_100.pth\n",
      "49\n",
      "Automatically choose the last norm layer \"backbone.layers.6.bn\" as the target layer.\n",
      "137\n",
      "data/efficientnet_heat/train/AD/heat_x-123 (6).png\n",
      "Loads checkpoint by local backend from path: work_dirs/alzheimer/axial/efficientnet/epoch_100.pth\n",
      "49\n",
      "Automatically choose the last norm layer \"backbone.layers.6.bn\" as the target layer.\n",
      "138\n",
      "data/efficientnet_heat/train/AD/heat_x-112 (2).png\n",
      "Loads checkpoint by local backend from path: work_dirs/alzheimer/axial/efficientnet/epoch_100.pth\n",
      "49\n",
      "Automatically choose the last norm layer \"backbone.layers.6.bn\" as the target layer.\n",
      "139\n",
      "data/efficientnet_heat/train/AD/heat_x-105 (3).png\n",
      "Loads checkpoint by local backend from path: work_dirs/alzheimer/axial/efficientnet/epoch_100.pth\n",
      "49\n",
      "Automatically choose the last norm layer \"backbone.layers.6.bn\" as the target layer.\n",
      "140\n",
      "data/efficientnet_heat/train/AD/heat_x-111.png\n",
      "Loads checkpoint by local backend from path: work_dirs/alzheimer/axial/efficientnet/epoch_100.pth\n",
      "49\n",
      "Automatically choose the last norm layer \"backbone.layers.6.bn\" as the target layer.\n",
      "141\n",
      "data/efficientnet_heat/train/AD/heat_x-118 (5).png\n",
      "Loads checkpoint by local backend from path: work_dirs/alzheimer/axial/efficientnet/epoch_100.pth\n",
      "49\n",
      "Automatically choose the last norm layer \"backbone.layers.6.bn\" as the target layer.\n",
      "142\n",
      "data/efficientnet_heat/train/AD/heat_x-99 (3).png\n",
      "Loads checkpoint by local backend from path: work_dirs/alzheimer/axial/efficientnet/epoch_100.pth\n",
      "49\n",
      "Automatically choose the last norm layer \"backbone.layers.6.bn\" as the target layer.\n",
      "143\n",
      "data/efficientnet_heat/train/AD/heat_x-122 (3).png\n",
      "Loads checkpoint by local backend from path: work_dirs/alzheimer/axial/efficientnet/epoch_100.pth\n",
      "49\n",
      "Automatically choose the last norm layer \"backbone.layers.6.bn\" as the target layer.\n",
      "144\n",
      "data/efficientnet_heat/train/AD/heat_x-118 (4).png\n",
      "Loads checkpoint by local backend from path: work_dirs/alzheimer/axial/efficientnet/epoch_100.pth\n",
      "49\n",
      "Automatically choose the last norm layer \"backbone.layers.6.bn\" as the target layer.\n",
      "145\n",
      "data/efficientnet_heat/train/AD/heat_x-100 (9).png\n",
      "Loads checkpoint by local backend from path: work_dirs/alzheimer/axial/efficientnet/epoch_100.pth\n",
      "49\n",
      "Automatically choose the last norm layer \"backbone.layers.6.bn\" as the target layer.\n",
      "146\n",
      "data/efficientnet_heat/train/AD/heat_x-102 (13).png\n",
      "Loads checkpoint by local backend from path: work_dirs/alzheimer/axial/efficientnet/epoch_100.pth\n",
      "49\n",
      "Automatically choose the last norm layer \"backbone.layers.6.bn\" as the target layer.\n",
      "147\n",
      "data/efficientnet_heat/train/AD/heat_x-103.png\n",
      "Loads checkpoint by local backend from path: work_dirs/alzheimer/axial/efficientnet/epoch_100.pth\n",
      "49\n",
      "Automatically choose the last norm layer \"backbone.layers.6.bn\" as the target layer.\n",
      "148\n",
      "data/efficientnet_heat/train/AD/heat_x-101 (10).png\n",
      "Loads checkpoint by local backend from path: work_dirs/alzheimer/axial/efficientnet/epoch_100.pth\n",
      "49\n",
      "Automatically choose the last norm layer \"backbone.layers.6.bn\" as the target layer.\n",
      "149\n",
      "data/efficientnet_heat/train/AD/heat_x-102.png\n",
      "Loads checkpoint by local backend from path: work_dirs/alzheimer/axial/efficientnet/epoch_100.pth\n",
      "49\n",
      "Automatically choose the last norm layer \"backbone.layers.6.bn\" as the target layer.\n",
      "150\n",
      "data/efficientnet_heat/train/AD/heat_x-100 (3).png\n",
      "Loads checkpoint by local backend from path: work_dirs/alzheimer/axial/efficientnet/epoch_100.pth\n",
      "49\n",
      "Automatically choose the last norm layer \"backbone.layers.6.bn\" as the target layer.\n",
      "151\n",
      "data/efficientnet_heat/train/AD/heat_x-103 (24).png\n",
      "Loads checkpoint by local backend from path: work_dirs/alzheimer/axial/efficientnet/epoch_100.pth\n",
      "49\n",
      "Automatically choose the last norm layer \"backbone.layers.6.bn\" as the target layer.\n",
      "152\n",
      "data/efficientnet_heat/train/AD/heat_x-103 (26).png\n",
      "Loads checkpoint by local backend from path: work_dirs/alzheimer/axial/efficientnet/epoch_100.pth\n",
      "49\n",
      "Automatically choose the last norm layer \"backbone.layers.6.bn\" as the target layer.\n",
      "153\n",
      "data/efficientnet_heat/train/AD/heat_x-89.png\n",
      "Loads checkpoint by local backend from path: work_dirs/alzheimer/axial/efficientnet/epoch_100.pth\n",
      "49\n",
      "Automatically choose the last norm layer \"backbone.layers.6.bn\" as the target layer.\n",
      "154\n",
      "data/efficientnet_heat/train/AD/heat_x-114 (3).png\n",
      "Loads checkpoint by local backend from path: work_dirs/alzheimer/axial/efficientnet/epoch_100.pth\n",
      "49\n",
      "Automatically choose the last norm layer \"backbone.layers.6.bn\" as the target layer.\n",
      "155\n",
      "data/efficientnet_heat/train/AD/heat_x-113 (5).png\n",
      "Loads checkpoint by local backend from path: work_dirs/alzheimer/axial/efficientnet/epoch_100.pth\n",
      "49\n",
      "Automatically choose the last norm layer \"backbone.layers.6.bn\" as the target layer.\n",
      "156\n",
      "data/efficientnet_heat/train/AD/heat_x-110 (3).png\n",
      "Loads checkpoint by local backend from path: work_dirs/alzheimer/axial/efficientnet/epoch_100.pth\n",
      "49\n",
      "Automatically choose the last norm layer \"backbone.layers.6.bn\" as the target layer.\n",
      "157\n",
      "data/efficientnet_heat/train/AD/heat_x-113 (9).png\n",
      "Loads checkpoint by local backend from path: work_dirs/alzheimer/axial/efficientnet/epoch_100.pth\n",
      "49\n",
      "Automatically choose the last norm layer \"backbone.layers.6.bn\" as the target layer.\n",
      "158\n",
      "data/efficientnet_heat/train/AD/heat_x-117.png\n",
      "Loads checkpoint by local backend from path: work_dirs/alzheimer/axial/efficientnet/epoch_100.pth\n",
      "49\n",
      "Automatically choose the last norm layer \"backbone.layers.6.bn\" as the target layer.\n",
      "159\n",
      "data/efficientnet_heat/train/AD/heat_x-103 (14).png\n",
      "Loads checkpoint by local backend from path: work_dirs/alzheimer/axial/efficientnet/epoch_100.pth\n",
      "49\n",
      "Automatically choose the last norm layer \"backbone.layers.6.bn\" as the target layer.\n",
      "160\n",
      "data/efficientnet_heat/train/AD/heat_x-122 (5).png\n",
      "Loads checkpoint by local backend from path: work_dirs/alzheimer/axial/efficientnet/epoch_100.pth\n",
      "49\n",
      "Automatically choose the last norm layer \"backbone.layers.6.bn\" as the target layer.\n",
      "161\n",
      "data/efficientnet_heat/train/AD/heat_x-100 (15).png\n",
      "Loads checkpoint by local backend from path: work_dirs/alzheimer/axial/efficientnet/epoch_100.pth\n",
      "49\n",
      "Automatically choose the last norm layer \"backbone.layers.6.bn\" as the target layer.\n",
      "162\n",
      "data/efficientnet_heat/train/AD/heat_x-100 (17).png\n",
      "Loads checkpoint by local backend from path: work_dirs/alzheimer/axial/efficientnet/epoch_100.pth\n",
      "49\n",
      "Automatically choose the last norm layer \"backbone.layers.6.bn\" as the target layer.\n",
      "163\n",
      "data/efficientnet_heat/train/AD/heat_x-98 (6).png\n",
      "Loads checkpoint by local backend from path: work_dirs/alzheimer/axial/efficientnet/epoch_100.pth\n",
      "49\n",
      "Automatically choose the last norm layer \"backbone.layers.6.bn\" as the target layer.\n",
      "164\n",
      "data/efficientnet_heat/train/AD/heat_x-123 (9).png\n",
      "Loads checkpoint by local backend from path: work_dirs/alzheimer/axial/efficientnet/epoch_100.pth\n",
      "49\n",
      "Automatically choose the last norm layer \"backbone.layers.6.bn\" as the target layer.\n",
      "165\n",
      "data/efficientnet_heat/train/AD/heat_x-125 (7).png\n",
      "Loads checkpoint by local backend from path: work_dirs/alzheimer/axial/efficientnet/epoch_100.pth\n",
      "49\n",
      "Automatically choose the last norm layer \"backbone.layers.6.bn\" as the target layer.\n",
      "166\n",
      "data/efficientnet_heat/train/AD/heat_x-126 (18).png\n",
      "Loads checkpoint by local backend from path: work_dirs/alzheimer/axial/efficientnet/epoch_100.pth\n",
      "49\n",
      "Automatically choose the last norm layer \"backbone.layers.6.bn\" as the target layer.\n",
      "167\n",
      "data/efficientnet_heat/train/AD/heat_x-113 (3).png\n",
      "Loads checkpoint by local backend from path: work_dirs/alzheimer/axial/efficientnet/epoch_100.pth\n",
      "49\n",
      "Automatically choose the last norm layer \"backbone.layers.6.bn\" as the target layer.\n",
      "168\n",
      "data/efficientnet_heat/train/AD/heat_x-105 (17).png\n",
      "Loads checkpoint by local backend from path: work_dirs/alzheimer/axial/efficientnet/epoch_100.pth\n",
      "49\n",
      "Automatically choose the last norm layer \"backbone.layers.6.bn\" as the target layer.\n",
      "169\n",
      "data/efficientnet_heat/train/AD/heat_x-103 (5).png\n",
      "Loads checkpoint by local backend from path: work_dirs/alzheimer/axial/efficientnet/epoch_100.pth\n",
      "49\n",
      "Automatically choose the last norm layer \"backbone.layers.6.bn\" as the target layer.\n",
      "170\n",
      "data/efficientnet_heat/train/AD/heat_x-93 (3).png\n",
      "Loads checkpoint by local backend from path: work_dirs/alzheimer/axial/efficientnet/epoch_100.pth\n",
      "49\n",
      "Automatically choose the last norm layer \"backbone.layers.6.bn\" as the target layer.\n",
      "171\n",
      "data/efficientnet_heat/train/AD/heat_x-108 (14).png\n",
      "Loads checkpoint by local backend from path: work_dirs/alzheimer/axial/efficientnet/epoch_100.pth\n",
      "49\n",
      "Automatically choose the last norm layer \"backbone.layers.6.bn\" as the target layer.\n",
      "172\n",
      "data/efficientnet_heat/train/AD/heat_x-104 (7).png\n",
      "Loads checkpoint by local backend from path: work_dirs/alzheimer/axial/efficientnet/epoch_100.pth\n",
      "49\n",
      "Automatically choose the last norm layer \"backbone.layers.6.bn\" as the target layer.\n",
      "173\n",
      "data/efficientnet_heat/train/AD/heat_x-121 (6).png\n",
      "Loads checkpoint by local backend from path: work_dirs/alzheimer/axial/efficientnet/epoch_100.pth\n",
      "49\n",
      "Automatically choose the last norm layer \"backbone.layers.6.bn\" as the target layer.\n",
      "174\n",
      "data/efficientnet_heat/train/AD/heat_x-116 (6).png\n",
      "Loads checkpoint by local backend from path: work_dirs/alzheimer/axial/efficientnet/epoch_100.pth\n",
      "49\n",
      "Automatically choose the last norm layer \"backbone.layers.6.bn\" as the target layer.\n",
      "175\n",
      "data/efficientnet_heat/train/AD/heat_x-119 (10).png\n",
      "Loads checkpoint by local backend from path: work_dirs/alzheimer/axial/efficientnet/epoch_100.pth\n",
      "49\n",
      "Automatically choose the last norm layer \"backbone.layers.6.bn\" as the target layer.\n",
      "176\n",
      "data/efficientnet_heat/train/AD/heat_x-122 (6).png\n",
      "Loads checkpoint by local backend from path: work_dirs/alzheimer/axial/efficientnet/epoch_100.pth\n",
      "49\n",
      "Automatically choose the last norm layer \"backbone.layers.6.bn\" as the target layer.\n",
      "177\n",
      "data/efficientnet_heat/train/AD/heat_x-112 (15).png\n",
      "Loads checkpoint by local backend from path: work_dirs/alzheimer/axial/efficientnet/epoch_100.pth\n",
      "49\n",
      "Automatically choose the last norm layer \"backbone.layers.6.bn\" as the target layer.\n",
      "178\n",
      "data/efficientnet_heat/train/AD/heat_x-126 (7).png\n",
      "Loads checkpoint by local backend from path: work_dirs/alzheimer/axial/efficientnet/epoch_100.pth\n",
      "49\n",
      "Automatically choose the last norm layer \"backbone.layers.6.bn\" as the target layer.\n",
      "179\n",
      "data/efficientnet_heat/train/AD/heat_x-104 (6).png\n",
      "Loads checkpoint by local backend from path: work_dirs/alzheimer/axial/efficientnet/epoch_100.pth\n",
      "49\n",
      "Automatically choose the last norm layer \"backbone.layers.6.bn\" as the target layer.\n",
      "180\n",
      "data/efficientnet_heat/train/AD/heat_x-104 (8).png\n",
      "Loads checkpoint by local backend from path: work_dirs/alzheimer/axial/efficientnet/epoch_100.pth\n",
      "49\n",
      "Automatically choose the last norm layer \"backbone.layers.6.bn\" as the target layer.\n",
      "181\n",
      "data/efficientnet_heat/train/AD/heat_x-112 (7).png\n",
      "Loads checkpoint by local backend from path: work_dirs/alzheimer/axial/efficientnet/epoch_100.pth\n",
      "49\n",
      "Automatically choose the last norm layer \"backbone.layers.6.bn\" as the target layer.\n",
      "182\n",
      "data/efficientnet_heat/train/AD/heat_x-111 (3).png\n",
      "Loads checkpoint by local backend from path: work_dirs/alzheimer/axial/efficientnet/epoch_100.pth\n",
      "49\n",
      "Automatically choose the last norm layer \"backbone.layers.6.bn\" as the target layer.\n",
      "183\n",
      "data/efficientnet_heat/train/AD/heat_x-102 (11).png\n",
      "Loads checkpoint by local backend from path: work_dirs/alzheimer/axial/efficientnet/epoch_100.pth\n",
      "49\n",
      "Automatically choose the last norm layer \"backbone.layers.6.bn\" as the target layer.\n",
      "184\n",
      "data/efficientnet_heat/train/AD/heat_x-89 (5).png\n",
      "Loads checkpoint by local backend from path: work_dirs/alzheimer/axial/efficientnet/epoch_100.pth\n",
      "49\n",
      "Automatically choose the last norm layer \"backbone.layers.6.bn\" as the target layer.\n",
      "185\n",
      "data/efficientnet_heat/train/AD/heat_x-121 (8).png\n",
      "Loads checkpoint by local backend from path: work_dirs/alzheimer/axial/efficientnet/epoch_100.pth\n",
      "49\n",
      "Automatically choose the last norm layer \"backbone.layers.6.bn\" as the target layer.\n",
      "186\n",
      "data/efficientnet_heat/train/AD/heat_x-99 (4).png\n",
      "Loads checkpoint by local backend from path: work_dirs/alzheimer/axial/efficientnet/epoch_100.pth\n",
      "49\n",
      "Automatically choose the last norm layer \"backbone.layers.6.bn\" as the target layer.\n",
      "187\n",
      "data/efficientnet_heat/train/AD/heat_x-113 (7).png\n",
      "Loads checkpoint by local backend from path: work_dirs/alzheimer/axial/efficientnet/epoch_100.pth\n",
      "49\n",
      "Automatically choose the last norm layer \"backbone.layers.6.bn\" as the target layer.\n",
      "188\n",
      "data/efficientnet_heat/train/AD/heat_x-94 (8).png\n",
      "Loads checkpoint by local backend from path: work_dirs/alzheimer/axial/efficientnet/epoch_100.pth\n",
      "49\n",
      "Automatically choose the last norm layer \"backbone.layers.6.bn\" as the target layer.\n",
      "189\n",
      "data/efficientnet_heat/train/AD/heat_x-115.png\n",
      "Loads checkpoint by local backend from path: work_dirs/alzheimer/axial/efficientnet/epoch_100.pth\n",
      "49\n",
      "Automatically choose the last norm layer \"backbone.layers.6.bn\" as the target layer.\n",
      "190\n",
      "data/efficientnet_heat/train/AD/heat_x-121 (11).png\n",
      "Loads checkpoint by local backend from path: work_dirs/alzheimer/axial/efficientnet/epoch_100.pth\n",
      "49\n",
      "Automatically choose the last norm layer \"backbone.layers.6.bn\" as the target layer.\n",
      "191\n",
      "data/efficientnet_heat/train/AD/heat_x-110 (5).png\n",
      "Loads checkpoint by local backend from path: work_dirs/alzheimer/axial/efficientnet/epoch_100.pth\n",
      "49\n",
      "Automatically choose the last norm layer \"backbone.layers.6.bn\" as the target layer.\n",
      "192\n",
      "data/efficientnet_heat/train/AD/heat_x-124 (6).png\n",
      "Loads checkpoint by local backend from path: work_dirs/alzheimer/axial/efficientnet/epoch_100.pth\n",
      "49\n",
      "Automatically choose the last norm layer \"backbone.layers.6.bn\" as the target layer.\n",
      "193\n",
      "data/efficientnet_heat/train/AD/heat_x-120.png\n",
      "Loads checkpoint by local backend from path: work_dirs/alzheimer/axial/efficientnet/epoch_100.pth\n",
      "49\n",
      "Automatically choose the last norm layer \"backbone.layers.6.bn\" as the target layer.\n",
      "194\n",
      "data/efficientnet_heat/train/AD/heat_x-102 (12).png\n",
      "Loads checkpoint by local backend from path: work_dirs/alzheimer/axial/efficientnet/epoch_100.pth\n",
      "49\n",
      "Automatically choose the last norm layer \"backbone.layers.6.bn\" as the target layer.\n",
      "195\n",
      "data/efficientnet_heat/train/AD/heat_x-128 (4).png\n",
      "Loads checkpoint by local backend from path: work_dirs/alzheimer/axial/efficientnet/epoch_100.pth\n",
      "49\n",
      "Automatically choose the last norm layer \"backbone.layers.6.bn\" as the target layer.\n",
      "196\n",
      "data/efficientnet_heat/train/AD/heat_x-93.png\n",
      "Loads checkpoint by local backend from path: work_dirs/alzheimer/axial/efficientnet/epoch_100.pth\n",
      "49\n",
      "Automatically choose the last norm layer \"backbone.layers.6.bn\" as the target layer.\n",
      "197\n",
      "data/efficientnet_heat/train/AD/heat_x-120 (10).png\n",
      "Loads checkpoint by local backend from path: work_dirs/alzheimer/axial/efficientnet/epoch_100.pth\n",
      "49\n",
      "Automatically choose the last norm layer \"backbone.layers.6.bn\" as the target layer.\n",
      "198\n",
      "data/efficientnet_heat/train/AD/heat_x-100 (8).png\n",
      "Loads checkpoint by local backend from path: work_dirs/alzheimer/axial/efficientnet/epoch_100.pth\n",
      "49\n",
      "Automatically choose the last norm layer \"backbone.layers.6.bn\" as the target layer.\n",
      "199\n",
      "data/efficientnet_heat/train/AD/heat_x-108 (4).png\n",
      "Loads checkpoint by local backend from path: work_dirs/alzheimer/axial/efficientnet/epoch_100.pth\n",
      "49\n",
      "Automatically choose the last norm layer \"backbone.layers.6.bn\" as the target layer.\n",
      "200\n",
      "data/efficientnet_heat/train/AD/heat_x-125 (8).png\n",
      "Loads checkpoint by local backend from path: work_dirs/alzheimer/axial/efficientnet/epoch_100.pth\n",
      "49\n",
      "Automatically choose the last norm layer \"backbone.layers.6.bn\" as the target layer.\n",
      "201\n",
      "data/efficientnet_heat/train/AD/heat_x-126 (9).png\n",
      "Loads checkpoint by local backend from path: work_dirs/alzheimer/axial/efficientnet/epoch_100.pth\n",
      "49\n",
      "Automatically choose the last norm layer \"backbone.layers.6.bn\" as the target layer.\n",
      "202\n",
      "data/efficientnet_heat/train/AD/heat_x-92.png\n",
      "Loads checkpoint by local backend from path: work_dirs/alzheimer/axial/efficientnet/epoch_100.pth\n",
      "49\n",
      "Automatically choose the last norm layer \"backbone.layers.6.bn\" as the target layer.\n",
      "203\n",
      "data/efficientnet_heat/train/AD/heat_x-127 (3).png\n",
      "Loads checkpoint by local backend from path: work_dirs/alzheimer/axial/efficientnet/epoch_100.pth\n",
      "49\n",
      "Automatically choose the last norm layer \"backbone.layers.6.bn\" as the target layer.\n",
      "204\n",
      "data/efficientnet_heat/train/AD/heat_x-126 (15).png\n",
      "Loads checkpoint by local backend from path: work_dirs/alzheimer/axial/efficientnet/epoch_100.pth\n",
      "49\n",
      "Automatically choose the last norm layer \"backbone.layers.6.bn\" as the target layer.\n",
      "205\n",
      "data/efficientnet_heat/train/AD/heat_x-102 (8).png\n",
      "Loads checkpoint by local backend from path: work_dirs/alzheimer/axial/efficientnet/epoch_100.pth\n",
      "49\n",
      "Automatically choose the last norm layer \"backbone.layers.6.bn\" as the target layer.\n",
      "206\n",
      "data/efficientnet_heat/train/AD/heat_x-123 (2).png\n",
      "Loads checkpoint by local backend from path: work_dirs/alzheimer/axial/efficientnet/epoch_100.pth\n",
      "49\n",
      "Automatically choose the last norm layer \"backbone.layers.6.bn\" as the target layer.\n",
      "207\n",
      "data/efficientnet_heat/train/AD/heat_x-123 (4).png\n",
      "Loads checkpoint by local backend from path: work_dirs/alzheimer/axial/efficientnet/epoch_100.pth\n",
      "49\n",
      "Automatically choose the last norm layer \"backbone.layers.6.bn\" as the target layer.\n",
      "208\n",
      "data/efficientnet_heat/train/AD/heat_x-108.png\n",
      "Loads checkpoint by local backend from path: work_dirs/alzheimer/axial/efficientnet/epoch_100.pth\n",
      "49\n",
      "Automatically choose the last norm layer \"backbone.layers.6.bn\" as the target layer.\n",
      "209\n",
      "data/efficientnet_heat/train/AD/heat_x-110 (12).png\n",
      "Loads checkpoint by local backend from path: work_dirs/alzheimer/axial/efficientnet/epoch_100.pth\n",
      "49\n",
      "Automatically choose the last norm layer \"backbone.layers.6.bn\" as the target layer.\n",
      "210\n",
      "data/efficientnet_heat/train/AD/heat_x-128 (5).png\n",
      "Loads checkpoint by local backend from path: work_dirs/alzheimer/axial/efficientnet/epoch_100.pth\n",
      "49\n",
      "Automatically choose the last norm layer \"backbone.layers.6.bn\" as the target layer.\n",
      "211\n",
      "data/efficientnet_heat/train/AD/heat_x-106 (3).png\n",
      "Loads checkpoint by local backend from path: work_dirs/alzheimer/axial/efficientnet/epoch_100.pth\n",
      "49\n",
      "Automatically choose the last norm layer \"backbone.layers.6.bn\" as the target layer.\n",
      "212\n",
      "data/efficientnet_heat/train/AD/heat_x-95 (4).png\n",
      "Loads checkpoint by local backend from path: work_dirs/alzheimer/axial/efficientnet/epoch_100.pth\n",
      "49\n",
      "Automatically choose the last norm layer \"backbone.layers.6.bn\" as the target layer.\n",
      "213\n",
      "data/efficientnet_heat/train/AD/heat_x-97 (7).png\n",
      "Loads checkpoint by local backend from path: work_dirs/alzheimer/axial/efficientnet/epoch_100.pth\n",
      "49\n",
      "Automatically choose the last norm layer \"backbone.layers.6.bn\" as the target layer.\n",
      "214\n",
      "data/efficientnet_heat/train/AD/heat_x-128.png\n",
      "Loads checkpoint by local backend from path: work_dirs/alzheimer/axial/efficientnet/epoch_100.pth\n",
      "49\n",
      "Automatically choose the last norm layer \"backbone.layers.6.bn\" as the target layer.\n",
      "215\n",
      "data/efficientnet_heat/train/AD/heat_x-100 (5).png\n",
      "Loads checkpoint by local backend from path: work_dirs/alzheimer/axial/efficientnet/epoch_100.pth\n",
      "49\n",
      "Automatically choose the last norm layer \"backbone.layers.6.bn\" as the target layer.\n",
      "216\n",
      "data/efficientnet_heat/train/AD/heat_x-117 (6).png\n",
      "Loads checkpoint by local backend from path: work_dirs/alzheimer/axial/efficientnet/epoch_100.pth\n",
      "49\n",
      "Automatically choose the last norm layer \"backbone.layers.6.bn\" as the target layer.\n",
      "217\n",
      "data/efficientnet_heat/train/AD/heat_x-99.png\n",
      "Loads checkpoint by local backend from path: work_dirs/alzheimer/axial/efficientnet/epoch_100.pth\n",
      "49\n",
      "Automatically choose the last norm layer \"backbone.layers.6.bn\" as the target layer.\n",
      "218\n",
      "data/efficientnet_heat/train/AD/heat_x-116 (9).png\n",
      "Loads checkpoint by local backend from path: work_dirs/alzheimer/axial/efficientnet/epoch_100.pth\n",
      "49\n",
      "Automatically choose the last norm layer \"backbone.layers.6.bn\" as the target layer.\n",
      "219\n",
      "data/efficientnet_heat/train/AD/heat_x-98.png\n",
      "Loads checkpoint by local backend from path: work_dirs/alzheimer/axial/efficientnet/epoch_100.pth\n",
      "49\n",
      "Automatically choose the last norm layer \"backbone.layers.6.bn\" as the target layer.\n",
      "220\n",
      "data/efficientnet_heat/train/AD/heat_x-126 (2).png\n",
      "Loads checkpoint by local backend from path: work_dirs/alzheimer/axial/efficientnet/epoch_100.pth\n",
      "49\n",
      "Automatically choose the last norm layer \"backbone.layers.6.bn\" as the target layer.\n",
      "221\n",
      "data/efficientnet_heat/train/AD/heat_x-121 (12).png\n",
      "Loads checkpoint by local backend from path: work_dirs/alzheimer/axial/efficientnet/epoch_100.pth\n",
      "49\n",
      "Automatically choose the last norm layer \"backbone.layers.6.bn\" as the target layer.\n",
      "222\n",
      "data/efficientnet_heat/train/AD/heat_x-124 (8).png\n",
      "Loads checkpoint by local backend from path: work_dirs/alzheimer/axial/efficientnet/epoch_100.pth\n",
      "49\n",
      "Automatically choose the last norm layer \"backbone.layers.6.bn\" as the target layer.\n",
      "223\n",
      "data/efficientnet_heat/train/AD/heat_x-97 (4).png\n",
      "Loads checkpoint by local backend from path: work_dirs/alzheimer/axial/efficientnet/epoch_100.pth\n",
      "49\n",
      "Automatically choose the last norm layer \"backbone.layers.6.bn\" as the target layer.\n",
      "224\n",
      "data/efficientnet_heat/train/AD/heat_x-129 (9).png\n",
      "Loads checkpoint by local backend from path: work_dirs/alzheimer/axial/efficientnet/epoch_100.pth\n",
      "49\n",
      "Automatically choose the last norm layer \"backbone.layers.6.bn\" as the target layer.\n",
      "225\n",
      "data/efficientnet_heat/train/AD/heat_x-102 (3).png\n",
      "Loads checkpoint by local backend from path: work_dirs/alzheimer/axial/efficientnet/epoch_100.pth\n",
      "49\n",
      "Automatically choose the last norm layer \"backbone.layers.6.bn\" as the target layer.\n",
      "226\n",
      "data/efficientnet_heat/train/AD/heat_x-105 (18).png\n",
      "Loads checkpoint by local backend from path: work_dirs/alzheimer/axial/efficientnet/epoch_100.pth\n",
      "49\n",
      "Automatically choose the last norm layer \"backbone.layers.6.bn\" as the target layer.\n",
      "227\n",
      "data/efficientnet_heat/train/AD/heat_x-113 (2).png\n",
      "Loads checkpoint by local backend from path: work_dirs/alzheimer/axial/efficientnet/epoch_100.pth\n",
      "49\n",
      "Automatically choose the last norm layer \"backbone.layers.6.bn\" as the target layer.\n",
      "228\n",
      "data/efficientnet_heat/train/AD/heat_x-103 (25).png\n",
      "Loads checkpoint by local backend from path: work_dirs/alzheimer/axial/efficientnet/epoch_100.pth\n",
      "49\n",
      "Automatically choose the last norm layer \"backbone.layers.6.bn\" as the target layer.\n",
      "229\n",
      "data/efficientnet_heat/train/AD/heat_x-100.png\n",
      "Loads checkpoint by local backend from path: work_dirs/alzheimer/axial/efficientnet/epoch_100.pth\n",
      "49\n",
      "Automatically choose the last norm layer \"backbone.layers.6.bn\" as the target layer.\n",
      "230\n",
      "data/efficientnet_heat/train/AD/heat_x-117 (4).png\n",
      "Loads checkpoint by local backend from path: work_dirs/alzheimer/axial/efficientnet/epoch_100.pth\n",
      "49\n",
      "Automatically choose the last norm layer \"backbone.layers.6.bn\" as the target layer.\n",
      "231\n",
      "data/efficientnet_heat/train/AD/heat_x-119 (8).png\n",
      "Loads checkpoint by local backend from path: work_dirs/alzheimer/axial/efficientnet/epoch_100.pth\n",
      "49\n",
      "Automatically choose the last norm layer \"backbone.layers.6.bn\" as the target layer.\n",
      "232\n",
      "data/efficientnet_heat/train/AD/heat_x-103 (9).png\n",
      "Loads checkpoint by local backend from path: work_dirs/alzheimer/axial/efficientnet/epoch_100.pth\n",
      "49\n",
      "Automatically choose the last norm layer \"backbone.layers.6.bn\" as the target layer.\n",
      "233\n",
      "data/efficientnet_heat/train/AD/heat_x-94 (5).png\n",
      "Loads checkpoint by local backend from path: work_dirs/alzheimer/axial/efficientnet/epoch_100.pth\n",
      "49\n",
      "Automatically choose the last norm layer \"backbone.layers.6.bn\" as the target layer.\n",
      "234\n",
      "data/efficientnet_heat/train/AD/heat_x-129 (4).png\n",
      "Loads checkpoint by local backend from path: work_dirs/alzheimer/axial/efficientnet/epoch_100.pth\n",
      "49\n",
      "Automatically choose the last norm layer \"backbone.layers.6.bn\" as the target layer.\n",
      "235\n",
      "data/efficientnet_heat/train/AD/heat_x-116 (4).png\n",
      "Loads checkpoint by local backend from path: work_dirs/alzheimer/axial/efficientnet/epoch_100.pth\n",
      "49\n",
      "Automatically choose the last norm layer \"backbone.layers.6.bn\" as the target layer.\n",
      "236\n",
      "data/efficientnet_heat/train/AD/heat_x-96 (3).png\n",
      "Loads checkpoint by local backend from path: work_dirs/alzheimer/axial/efficientnet/epoch_100.pth\n",
      "49\n",
      "Automatically choose the last norm layer \"backbone.layers.6.bn\" as the target layer.\n",
      "237\n",
      "data/efficientnet_heat/train/AD/heat_x-105 (14).png\n",
      "Loads checkpoint by local backend from path: work_dirs/alzheimer/axial/efficientnet/epoch_100.pth\n",
      "49\n",
      "Automatically choose the last norm layer \"backbone.layers.6.bn\" as the target layer.\n",
      "238\n",
      "data/efficientnet_heat/train/AD/heat_x-99 (10).png\n",
      "Loads checkpoint by local backend from path: work_dirs/alzheimer/axial/efficientnet/epoch_100.pth\n",
      "49\n",
      "Automatically choose the last norm layer \"backbone.layers.6.bn\" as the target layer.\n",
      "239\n",
      "data/efficientnet_heat/train/AD/heat_x-114 (11).png\n",
      "Loads checkpoint by local backend from path: work_dirs/alzheimer/axial/efficientnet/epoch_100.pth\n",
      "49\n",
      "Automatically choose the last norm layer \"backbone.layers.6.bn\" as the target layer.\n",
      "240\n",
      "data/efficientnet_heat/train/AD/heat_x-125 (2).png\n",
      "Loads checkpoint by local backend from path: work_dirs/alzheimer/axial/efficientnet/epoch_100.pth\n",
      "49\n",
      "Automatically choose the last norm layer \"backbone.layers.6.bn\" as the target layer.\n",
      "241\n",
      "data/efficientnet_heat/train/AD/heat_x-119 (3).png\n",
      "Loads checkpoint by local backend from path: work_dirs/alzheimer/axial/efficientnet/epoch_100.pth\n",
      "49\n",
      "Automatically choose the last norm layer \"backbone.layers.6.bn\" as the target layer.\n",
      "242\n",
      "data/efficientnet_heat/train/AD/heat_x-123 (10).png\n",
      "Loads checkpoint by local backend from path: work_dirs/alzheimer/axial/efficientnet/epoch_100.pth\n",
      "49\n",
      "Automatically choose the last norm layer \"backbone.layers.6.bn\" as the target layer.\n",
      "243\n",
      "data/efficientnet_heat/train/AD/heat_x-105 (19).png\n",
      "Loads checkpoint by local backend from path: work_dirs/alzheimer/axial/efficientnet/epoch_100.pth\n",
      "49\n",
      "Automatically choose the last norm layer \"backbone.layers.6.bn\" as the target layer.\n",
      "244\n",
      "data/efficientnet_heat/train/AD/heat_x-120 (12).png\n",
      "Loads checkpoint by local backend from path: work_dirs/alzheimer/axial/efficientnet/epoch_100.pth\n",
      "49\n",
      "Automatically choose the last norm layer \"backbone.layers.6.bn\" as the target layer.\n",
      "245\n",
      "data/efficientnet_heat/train/AD/heat_x-104.png\n",
      "Loads checkpoint by local backend from path: work_dirs/alzheimer/axial/efficientnet/epoch_100.pth\n",
      "49\n",
      "Automatically choose the last norm layer \"backbone.layers.6.bn\" as the target layer.\n",
      "246\n",
      "data/efficientnet_heat/train/AD/heat_x-106 (8).png\n",
      "Loads checkpoint by local backend from path: work_dirs/alzheimer/axial/efficientnet/epoch_100.pth\n",
      "49\n",
      "Automatically choose the last norm layer \"backbone.layers.6.bn\" as the target layer.\n",
      "247\n",
      "data/efficientnet_heat/train/AD/heat_x-127 (5).png\n",
      "Loads checkpoint by local backend from path: work_dirs/alzheimer/axial/efficientnet/epoch_100.pth\n",
      "49\n",
      "Automatically choose the last norm layer \"backbone.layers.6.bn\" as the target layer.\n",
      "248\n",
      "data/efficientnet_heat/train/AD/heat_x-118 (8).png\n",
      "Loads checkpoint by local backend from path: work_dirs/alzheimer/axial/efficientnet/epoch_100.pth\n",
      "49\n",
      "Automatically choose the last norm layer \"backbone.layers.6.bn\" as the target layer.\n",
      "249\n",
      "data/efficientnet_heat/train/AD/heat_x-122 (2).png\n",
      "Loads checkpoint by local backend from path: work_dirs/alzheimer/axial/efficientnet/epoch_100.pth\n",
      "49\n",
      "Automatically choose the last norm layer \"backbone.layers.6.bn\" as the target layer.\n",
      "250\n",
      "data/efficientnet_heat/train/AD/heat_x-87.png\n",
      "Loads checkpoint by local backend from path: work_dirs/alzheimer/axial/efficientnet/epoch_100.pth\n",
      "49\n",
      "Automatically choose the last norm layer \"backbone.layers.6.bn\" as the target layer.\n",
      "251\n",
      "data/efficientnet_heat/train/AD/heat_x-123 (3).png\n",
      "Loads checkpoint by local backend from path: work_dirs/alzheimer/axial/efficientnet/epoch_100.pth\n",
      "49\n",
      "Automatically choose the last norm layer \"backbone.layers.6.bn\" as the target layer.\n",
      "252\n",
      "data/efficientnet_heat/train/AD/heat_x-106 (5).png\n",
      "Loads checkpoint by local backend from path: work_dirs/alzheimer/axial/efficientnet/epoch_100.pth\n",
      "49\n",
      "Automatically choose the last norm layer \"backbone.layers.6.bn\" as the target layer.\n",
      "253\n",
      "data/efficientnet_heat/train/AD/heat_x-116 (10).png\n",
      "Loads checkpoint by local backend from path: work_dirs/alzheimer/axial/efficientnet/epoch_100.pth\n",
      "49\n",
      "Automatically choose the last norm layer \"backbone.layers.6.bn\" as the target layer.\n",
      "254\n",
      "data/efficientnet_heat/train/AD/heat_x-121 (9).png\n",
      "Loads checkpoint by local backend from path: work_dirs/alzheimer/axial/efficientnet/epoch_100.pth\n",
      "49\n",
      "Automatically choose the last norm layer \"backbone.layers.6.bn\" as the target layer.\n",
      "255\n",
      "data/efficientnet_heat/train/AD/heat_x-126 (6).png\n",
      "Loads checkpoint by local backend from path: work_dirs/alzheimer/axial/efficientnet/epoch_100.pth\n",
      "49\n",
      "Automatically choose the last norm layer \"backbone.layers.6.bn\" as the target layer.\n",
      "256\n",
      "data/efficientnet_heat/train/AD/heat_x-115 (7).png\n",
      "Loads checkpoint by local backend from path: work_dirs/alzheimer/axial/efficientnet/epoch_100.pth\n",
      "49\n",
      "Automatically choose the last norm layer \"backbone.layers.6.bn\" as the target layer.\n",
      "257\n",
      "data/efficientnet_heat/train/AD/heat_x-128 (12).png\n",
      "Loads checkpoint by local backend from path: work_dirs/alzheimer/axial/efficientnet/epoch_100.pth\n",
      "49\n",
      "Automatically choose the last norm layer \"backbone.layers.6.bn\" as the target layer.\n",
      "258\n",
      "data/efficientnet_heat/train/AD/heat_x-89 (2).png\n",
      "Loads checkpoint by local backend from path: work_dirs/alzheimer/axial/efficientnet/epoch_100.pth\n",
      "49\n",
      "Automatically choose the last norm layer \"backbone.layers.6.bn\" as the target layer.\n",
      "259\n",
      "data/efficientnet_heat/train/AD/heat_x-105 (11).png\n",
      "Loads checkpoint by local backend from path: work_dirs/alzheimer/axial/efficientnet/epoch_100.pth\n",
      "49\n",
      "Automatically choose the last norm layer \"backbone.layers.6.bn\" as the target layer.\n",
      "260\n",
      "data/efficientnet_heat/train/AD/heat_x-104 (12).png\n",
      "Loads checkpoint by local backend from path: work_dirs/alzheimer/axial/efficientnet/epoch_100.pth\n",
      "49\n",
      "Automatically choose the last norm layer \"backbone.layers.6.bn\" as the target layer.\n",
      "261\n",
      "data/efficientnet_heat/train/AD/heat_x-101 (14).png\n",
      "Loads checkpoint by local backend from path: work_dirs/alzheimer/axial/efficientnet/epoch_100.pth\n",
      "49\n",
      "Automatically choose the last norm layer \"backbone.layers.6.bn\" as the target layer.\n",
      "262\n",
      "data/efficientnet_heat/train/AD/heat_x-127 (13).png\n",
      "Loads checkpoint by local backend from path: work_dirs/alzheimer/axial/efficientnet/epoch_100.pth\n",
      "49\n",
      "Automatically choose the last norm layer \"backbone.layers.6.bn\" as the target layer.\n",
      "263\n",
      "data/efficientnet_heat/train/AD/heat_x-102 (10).png\n",
      "Loads checkpoint by local backend from path: work_dirs/alzheimer/axial/efficientnet/epoch_100.pth\n",
      "49\n",
      "Automatically choose the last norm layer \"backbone.layers.6.bn\" as the target layer.\n",
      "264\n",
      "data/efficientnet_heat/train/AD/heat_x-120 (4).png\n",
      "Loads checkpoint by local backend from path: work_dirs/alzheimer/axial/efficientnet/epoch_100.pth\n",
      "49\n",
      "Automatically choose the last norm layer \"backbone.layers.6.bn\" as the target layer.\n",
      "265\n",
      "data/efficientnet_heat/train/AD/heat_x-108 (9).png\n",
      "Loads checkpoint by local backend from path: work_dirs/alzheimer/axial/efficientnet/epoch_100.pth\n",
      "49\n",
      "Automatically choose the last norm layer \"backbone.layers.6.bn\" as the target layer.\n",
      "266\n",
      "data/efficientnet_heat/train/AD/heat_x-128 (14).png\n",
      "Loads checkpoint by local backend from path: work_dirs/alzheimer/axial/efficientnet/epoch_100.pth\n",
      "49\n",
      "Automatically choose the last norm layer \"backbone.layers.6.bn\" as the target layer.\n",
      "267\n",
      "data/efficientnet_heat/train/AD/heat_x-107 (2).png\n",
      "Loads checkpoint by local backend from path: work_dirs/alzheimer/axial/efficientnet/epoch_100.pth\n",
      "49\n",
      "Automatically choose the last norm layer \"backbone.layers.6.bn\" as the target layer.\n",
      "268\n",
      "data/efficientnet_heat/train/AD/heat_x-109 (8).png\n",
      "Loads checkpoint by local backend from path: work_dirs/alzheimer/axial/efficientnet/epoch_100.pth\n",
      "49\n",
      "Automatically choose the last norm layer \"backbone.layers.6.bn\" as the target layer.\n",
      "269\n",
      "data/efficientnet_heat/train/AD/heat_x-113 (11).png\n",
      "Loads checkpoint by local backend from path: work_dirs/alzheimer/axial/efficientnet/epoch_100.pth\n",
      "49\n",
      "Automatically choose the last norm layer \"backbone.layers.6.bn\" as the target layer.\n",
      "270\n",
      "data/efficientnet_heat/train/AD/heat_x-116 (12).png\n",
      "Loads checkpoint by local backend from path: work_dirs/alzheimer/axial/efficientnet/epoch_100.pth\n",
      "49\n",
      "Automatically choose the last norm layer \"backbone.layers.6.bn\" as the target layer.\n",
      "271\n",
      "data/efficientnet_heat/train/AD/heat_x-117 (3).png\n",
      "Loads checkpoint by local backend from path: work_dirs/alzheimer/axial/efficientnet/epoch_100.pth\n",
      "49\n",
      "Automatically choose the last norm layer \"backbone.layers.6.bn\" as the target layer.\n",
      "272\n",
      "data/efficientnet_heat/train/AD/heat_x-99 (15).png\n",
      "Loads checkpoint by local backend from path: work_dirs/alzheimer/axial/efficientnet/epoch_100.pth\n",
      "49\n",
      "Automatically choose the last norm layer \"backbone.layers.6.bn\" as the target layer.\n",
      "273\n",
      "data/efficientnet_heat/train/AD/heat_x-94 (2).png\n",
      "Loads checkpoint by local backend from path: work_dirs/alzheimer/axial/efficientnet/epoch_100.pth\n",
      "49\n",
      "Automatically choose the last norm layer \"backbone.layers.6.bn\" as the target layer.\n",
      "274\n",
      "data/efficientnet_heat/train/AD/heat_x-111 (6).png\n",
      "Loads checkpoint by local backend from path: work_dirs/alzheimer/axial/efficientnet/epoch_100.pth\n",
      "49\n",
      "Automatically choose the last norm layer \"backbone.layers.6.bn\" as the target layer.\n",
      "275\n",
      "data/efficientnet_heat/train/AD/heat_x-90 (4).png\n",
      "Loads checkpoint by local backend from path: work_dirs/alzheimer/axial/efficientnet/epoch_100.pth\n",
      "49\n",
      "Automatically choose the last norm layer \"backbone.layers.6.bn\" as the target layer.\n",
      "276\n",
      "data/efficientnet_heat/train/AD/heat_x-109 (11).png\n",
      "Loads checkpoint by local backend from path: work_dirs/alzheimer/axial/efficientnet/epoch_100.pth\n",
      "49\n",
      "Automatically choose the last norm layer \"backbone.layers.6.bn\" as the target layer.\n",
      "277\n",
      "data/efficientnet_heat/train/AD/heat_x-103 (18).png\n",
      "Loads checkpoint by local backend from path: work_dirs/alzheimer/axial/efficientnet/epoch_100.pth\n",
      "49\n",
      "Automatically choose the last norm layer \"backbone.layers.6.bn\" as the target layer.\n",
      "278\n",
      "data/efficientnet_heat/train/AD/heat_x-121 (14).png\n",
      "Loads checkpoint by local backend from path: work_dirs/alzheimer/axial/efficientnet/epoch_100.pth\n",
      "49\n",
      "Automatically choose the last norm layer \"backbone.layers.6.bn\" as the target layer.\n",
      "279\n",
      "data/efficientnet_heat/train/AD/heat_x-104 (17).png\n",
      "Loads checkpoint by local backend from path: work_dirs/alzheimer/axial/efficientnet/epoch_100.pth\n",
      "49\n",
      "Automatically choose the last norm layer \"backbone.layers.6.bn\" as the target layer.\n",
      "280\n",
      "data/efficientnet_heat/train/AD/heat_x-108 (11).png\n",
      "Loads checkpoint by local backend from path: work_dirs/alzheimer/axial/efficientnet/epoch_100.pth\n",
      "49\n",
      "Automatically choose the last norm layer \"backbone.layers.6.bn\" as the target layer.\n",
      "281\n",
      "data/efficientnet_heat/train/AD/heat_x-129 (5).png\n",
      "Loads checkpoint by local backend from path: work_dirs/alzheimer/axial/efficientnet/epoch_100.pth\n",
      "49\n",
      "Automatically choose the last norm layer \"backbone.layers.6.bn\" as the target layer.\n",
      "282\n",
      "data/efficientnet_heat/train/AD/heat_x-117 (8).png\n",
      "Loads checkpoint by local backend from path: work_dirs/alzheimer/axial/efficientnet/epoch_100.pth\n",
      "49\n",
      "Automatically choose the last norm layer \"backbone.layers.6.bn\" as the target layer.\n",
      "283\n",
      "data/efficientnet_heat/train/AD/heat_x-93 (4).png\n",
      "Loads checkpoint by local backend from path: work_dirs/alzheimer/axial/efficientnet/epoch_100.pth\n",
      "49\n",
      "Automatically choose the last norm layer \"backbone.layers.6.bn\" as the target layer.\n",
      "284\n",
      "data/efficientnet_heat/train/AD/heat_x-103 (17).png\n",
      "Loads checkpoint by local backend from path: work_dirs/alzheimer/axial/efficientnet/epoch_100.pth\n",
      "49\n",
      "Automatically choose the last norm layer \"backbone.layers.6.bn\" as the target layer.\n",
      "285\n",
      "data/efficientnet_heat/train/AD/heat_x-111 (12).png\n",
      "Loads checkpoint by local backend from path: work_dirs/alzheimer/axial/efficientnet/epoch_100.pth\n",
      "49\n",
      "Automatically choose the last norm layer \"backbone.layers.6.bn\" as the target layer.\n",
      "286\n",
      "data/efficientnet_heat/train/AD/heat_x-121 (10).png\n",
      "Loads checkpoint by local backend from path: work_dirs/alzheimer/axial/efficientnet/epoch_100.pth\n",
      "49\n",
      "Automatically choose the last norm layer \"backbone.layers.6.bn\" as the target layer.\n",
      "287\n",
      "data/efficientnet_heat/train/AD/heat_x-109 (5).png\n",
      "Loads checkpoint by local backend from path: work_dirs/alzheimer/axial/efficientnet/epoch_100.pth\n",
      "49\n",
      "Automatically choose the last norm layer \"backbone.layers.6.bn\" as the target layer.\n",
      "288\n",
      "data/efficientnet_heat/train/AD/heat_x-107 (8).png\n",
      "Loads checkpoint by local backend from path: work_dirs/alzheimer/axial/efficientnet/epoch_100.pth\n",
      "49\n",
      "Automatically choose the last norm layer \"backbone.layers.6.bn\" as the target layer.\n",
      "289\n",
      "data/efficientnet_heat/train/AD/heat_x-101 (12).png\n",
      "Loads checkpoint by local backend from path: work_dirs/alzheimer/axial/efficientnet/epoch_100.pth\n",
      "49\n",
      "Automatically choose the last norm layer \"backbone.layers.6.bn\" as the target layer.\n",
      "290\n",
      "data/efficientnet_heat/train/AD/heat_x-107 (4).png\n",
      "Loads checkpoint by local backend from path: work_dirs/alzheimer/axial/efficientnet/epoch_100.pth\n",
      "49\n",
      "Automatically choose the last norm layer \"backbone.layers.6.bn\" as the target layer.\n",
      "291\n",
      "data/efficientnet_heat/train/AD/heat_x-123 (12).png\n",
      "Loads checkpoint by local backend from path: work_dirs/alzheimer/axial/efficientnet/epoch_100.pth\n",
      "49\n",
      "Automatically choose the last norm layer \"backbone.layers.6.bn\" as the target layer.\n",
      "292\n",
      "data/efficientnet_heat/train/AD/heat_x-98 (9).png\n",
      "Loads checkpoint by local backend from path: work_dirs/alzheimer/axial/efficientnet/epoch_100.pth\n",
      "49\n",
      "Automatically choose the last norm layer \"backbone.layers.6.bn\" as the target layer.\n",
      "293\n",
      "data/efficientnet_heat/train/AD/heat_x-101.png\n",
      "Loads checkpoint by local backend from path: work_dirs/alzheimer/axial/efficientnet/epoch_100.pth\n",
      "49\n",
      "Automatically choose the last norm layer \"backbone.layers.6.bn\" as the target layer.\n",
      "294\n",
      "data/efficientnet_heat/train/AD/heat_x-111 (11).png\n",
      "Loads checkpoint by local backend from path: work_dirs/alzheimer/axial/efficientnet/epoch_100.pth\n",
      "49\n",
      "Automatically choose the last norm layer \"backbone.layers.6.bn\" as the target layer.\n",
      "295\n",
      "data/efficientnet_heat/train/AD/heat_x-115 (6).png\n",
      "Loads checkpoint by local backend from path: work_dirs/alzheimer/axial/efficientnet/epoch_100.pth\n",
      "49\n",
      "Automatically choose the last norm layer \"backbone.layers.6.bn\" as the target layer.\n",
      "296\n",
      "data/efficientnet_heat/train/AD/heat_x-106 (10).png\n",
      "Loads checkpoint by local backend from path: work_dirs/alzheimer/axial/efficientnet/epoch_100.pth\n",
      "49\n",
      "Automatically choose the last norm layer \"backbone.layers.6.bn\" as the target layer.\n",
      "297\n",
      "data/efficientnet_heat/train/AD/heat_x-94 (4).png\n",
      "Loads checkpoint by local backend from path: work_dirs/alzheimer/axial/efficientnet/epoch_100.pth\n",
      "49\n",
      "Automatically choose the last norm layer \"backbone.layers.6.bn\" as the target layer.\n",
      "298\n",
      "data/efficientnet_heat/train/AD/heat_x-125 (6).png\n",
      "Loads checkpoint by local backend from path: work_dirs/alzheimer/axial/efficientnet/epoch_100.pth\n",
      "49\n",
      "Automatically choose the last norm layer \"backbone.layers.6.bn\" as the target layer.\n",
      "299\n",
      "data/efficientnet_heat/train/AD/heat_x-99 (13).png\n",
      "Loads checkpoint by local backend from path: work_dirs/alzheimer/axial/efficientnet/epoch_100.pth\n",
      "49\n",
      "Automatically choose the last norm layer \"backbone.layers.6.bn\" as the target layer.\n",
      "300\n",
      "data/efficientnet_heat/train/AD/heat_x-118 (7).png\n",
      "Loads checkpoint by local backend from path: work_dirs/alzheimer/axial/efficientnet/epoch_100.pth\n",
      "49\n",
      "Automatically choose the last norm layer \"backbone.layers.6.bn\" as the target layer.\n",
      "301\n",
      "data/efficientnet_heat/train/AD/heat_x-128 (16).png\n",
      "Loads checkpoint by local backend from path: work_dirs/alzheimer/axial/efficientnet/epoch_100.pth\n",
      "49\n",
      "Automatically choose the last norm layer \"backbone.layers.6.bn\" as the target layer.\n",
      "302\n",
      "data/efficientnet_heat/train/AD/heat_x-110 (2).png\n",
      "Loads checkpoint by local backend from path: work_dirs/alzheimer/axial/efficientnet/epoch_100.pth\n",
      "49\n",
      "Automatically choose the last norm layer \"backbone.layers.6.bn\" as the target layer.\n",
      "303\n",
      "data/efficientnet_heat/train/AD/heat_x-124 (5).png\n",
      "Loads checkpoint by local backend from path: work_dirs/alzheimer/axial/efficientnet/epoch_100.pth\n",
      "49\n",
      "Automatically choose the last norm layer \"backbone.layers.6.bn\" as the target layer.\n",
      "304\n",
      "data/efficientnet_heat/train/AD/heat_x-120 (11).png\n",
      "Loads checkpoint by local backend from path: work_dirs/alzheimer/axial/efficientnet/epoch_100.pth\n",
      "49\n",
      "Automatically choose the last norm layer \"backbone.layers.6.bn\" as the target layer.\n",
      "305\n",
      "data/efficientnet_heat/train/AD/heat_x-119 (2).png\n",
      "Loads checkpoint by local backend from path: work_dirs/alzheimer/axial/efficientnet/epoch_100.pth\n",
      "49\n",
      "Automatically choose the last norm layer \"backbone.layers.6.bn\" as the target layer.\n",
      "306\n",
      "data/efficientnet_heat/train/AD/heat_x-103 (21).png\n",
      "Loads checkpoint by local backend from path: work_dirs/alzheimer/axial/efficientnet/epoch_100.pth\n",
      "49\n",
      "Automatically choose the last norm layer \"backbone.layers.6.bn\" as the target layer.\n",
      "307\n",
      "data/efficientnet_heat/train/AD/heat_x-94.png\n",
      "Loads checkpoint by local backend from path: work_dirs/alzheimer/axial/efficientnet/epoch_100.pth\n",
      "49\n",
      "Automatically choose the last norm layer \"backbone.layers.6.bn\" as the target layer.\n",
      "308\n",
      "data/efficientnet_heat/train/AD/heat_x-121 (5).png\n",
      "Loads checkpoint by local backend from path: work_dirs/alzheimer/axial/efficientnet/epoch_100.pth\n",
      "49\n",
      "Automatically choose the last norm layer \"backbone.layers.6.bn\" as the target layer.\n",
      "309\n",
      "data/efficientnet_heat/train/AD/heat_x-116 (7).png\n",
      "Loads checkpoint by local backend from path: work_dirs/alzheimer/axial/efficientnet/epoch_100.pth\n",
      "49\n",
      "Automatically choose the last norm layer \"backbone.layers.6.bn\" as the target layer.\n",
      "310\n",
      "data/efficientnet_heat/train/AD/heat_x-103 (8).png\n",
      "Loads checkpoint by local backend from path: work_dirs/alzheimer/axial/efficientnet/epoch_100.pth\n",
      "49\n",
      "Automatically choose the last norm layer \"backbone.layers.6.bn\" as the target layer.\n",
      "311\n",
      "data/efficientnet_heat/train/AD/heat_x-115 (8).png\n",
      "Loads checkpoint by local backend from path: work_dirs/alzheimer/axial/efficientnet/epoch_100.pth\n",
      "49\n",
      "Automatically choose the last norm layer \"backbone.layers.6.bn\" as the target layer.\n",
      "312\n",
      "data/efficientnet_heat/train/AD/heat_x-103 (12).png\n",
      "Loads checkpoint by local backend from path: work_dirs/alzheimer/axial/efficientnet/epoch_100.pth\n",
      "49\n",
      "Automatically choose the last norm layer \"backbone.layers.6.bn\" as the target layer.\n",
      "313\n",
      "data/efficientnet_heat/train/AD/heat_x-124 (7).png\n",
      "Loads checkpoint by local backend from path: work_dirs/alzheimer/axial/efficientnet/epoch_100.pth\n",
      "49\n",
      "Automatically choose the last norm layer \"backbone.layers.6.bn\" as the target layer.\n",
      "314\n",
      "data/efficientnet_heat/train/AD/heat_x-96 (6).png\n",
      "Loads checkpoint by local backend from path: work_dirs/alzheimer/axial/efficientnet/epoch_100.pth\n",
      "49\n",
      "Automatically choose the last norm layer \"backbone.layers.6.bn\" as the target layer.\n",
      "315\n",
      "data/efficientnet_heat/train/AD/heat_x-129 (2).png\n",
      "Loads checkpoint by local backend from path: work_dirs/alzheimer/axial/efficientnet/epoch_100.pth\n",
      "49\n",
      "Automatically choose the last norm layer \"backbone.layers.6.bn\" as the target layer.\n",
      "316\n",
      "data/efficientnet_heat/train/AD/heat_x-106 (11).png\n",
      "Loads checkpoint by local backend from path: work_dirs/alzheimer/axial/efficientnet/epoch_100.pth\n",
      "49\n",
      "Automatically choose the last norm layer \"backbone.layers.6.bn\" as the target layer.\n",
      "317\n",
      "data/efficientnet_heat/train/AD/heat_x-110 (10).png\n",
      "Loads checkpoint by local backend from path: work_dirs/alzheimer/axial/efficientnet/epoch_100.pth\n",
      "49\n",
      "Automatically choose the last norm layer \"backbone.layers.6.bn\" as the target layer.\n",
      "318\n",
      "data/efficientnet_heat/train/AD/heat_x-101 (15).png\n",
      "Loads checkpoint by local backend from path: work_dirs/alzheimer/axial/efficientnet/epoch_100.pth\n",
      "49\n",
      "Automatically choose the last norm layer \"backbone.layers.6.bn\" as the target layer.\n",
      "319\n",
      "data/efficientnet_heat/train/AD/heat_x-107 (15).png\n",
      "Loads checkpoint by local backend from path: work_dirs/alzheimer/axial/efficientnet/epoch_100.pth\n",
      "49\n",
      "Automatically choose the last norm layer \"backbone.layers.6.bn\" as the target layer.\n",
      "320\n",
      "data/efficientnet_heat/train/AD/heat_x-102 (5).png\n",
      "Loads checkpoint by local backend from path: work_dirs/alzheimer/axial/efficientnet/epoch_100.pth\n",
      "49\n",
      "Automatically choose the last norm layer \"backbone.layers.6.bn\" as the target layer.\n",
      "321\n",
      "data/efficientnet_heat/train/AD/heat_x-103 (6).png\n",
      "Loads checkpoint by local backend from path: work_dirs/alzheimer/axial/efficientnet/epoch_100.pth\n",
      "49\n",
      "Automatically choose the last norm layer \"backbone.layers.6.bn\" as the target layer.\n",
      "322\n",
      "data/efficientnet_heat/train/AD/heat_x-127 (11).png\n",
      "Loads checkpoint by local backend from path: work_dirs/alzheimer/axial/efficientnet/epoch_100.pth\n",
      "49\n",
      "Automatically choose the last norm layer \"backbone.layers.6.bn\" as the target layer.\n",
      "323\n",
      "data/efficientnet_heat/train/AD/heat_x-120 (7).png\n",
      "Loads checkpoint by local backend from path: work_dirs/alzheimer/axial/efficientnet/epoch_100.pth\n",
      "49\n",
      "Automatically choose the last norm layer \"backbone.layers.6.bn\" as the target layer.\n",
      "324\n",
      "data/efficientnet_heat/train/AD/heat_x-109 (10).png\n",
      "Loads checkpoint by local backend from path: work_dirs/alzheimer/axial/efficientnet/epoch_100.pth\n",
      "49\n",
      "Automatically choose the last norm layer \"backbone.layers.6.bn\" as the target layer.\n",
      "325\n",
      "data/efficientnet_heat/train/AD/heat_x-124.png\n",
      "Loads checkpoint by local backend from path: work_dirs/alzheimer/axial/efficientnet/epoch_100.pth\n",
      "49\n",
      "Automatically choose the last norm layer \"backbone.layers.6.bn\" as the target layer.\n",
      "326\n",
      "data/efficientnet_heat/train/AD/heat_x-104 (4).png\n",
      "Loads checkpoint by local backend from path: work_dirs/alzheimer/axial/efficientnet/epoch_100.pth\n",
      "49\n",
      "Automatically choose the last norm layer \"backbone.layers.6.bn\" as the target layer.\n",
      "327\n",
      "data/efficientnet_heat/train/AD/heat_x-104 (9).png\n",
      "Loads checkpoint by local backend from path: work_dirs/alzheimer/axial/efficientnet/epoch_100.pth\n",
      "49\n",
      "Automatically choose the last norm layer \"backbone.layers.6.bn\" as the target layer.\n",
      "328\n",
      "data/efficientnet_heat/train/AD/heat_x-103 (23).png\n",
      "Loads checkpoint by local backend from path: work_dirs/alzheimer/axial/efficientnet/epoch_100.pth\n",
      "49\n",
      "Automatically choose the last norm layer \"backbone.layers.6.bn\" as the target layer.\n",
      "329\n",
      "data/efficientnet_heat/train/AD/heat_x-104 (21).png\n",
      "Loads checkpoint by local backend from path: work_dirs/alzheimer/axial/efficientnet/epoch_100.pth\n",
      "49\n",
      "Automatically choose the last norm layer \"backbone.layers.6.bn\" as the target layer.\n",
      "330\n",
      "data/efficientnet_heat/train/AD/heat_x-120 (8).png\n",
      "Loads checkpoint by local backend from path: work_dirs/alzheimer/axial/efficientnet/epoch_100.pth\n",
      "49\n",
      "Automatically choose the last norm layer \"backbone.layers.6.bn\" as the target layer.\n",
      "331\n",
      "data/efficientnet_heat/train/AD/heat_x-115 (3).png\n",
      "Loads checkpoint by local backend from path: work_dirs/alzheimer/axial/efficientnet/epoch_100.pth\n",
      "49\n",
      "Automatically choose the last norm layer \"backbone.layers.6.bn\" as the target layer.\n",
      "332\n",
      "data/efficientnet_heat/train/AD/heat_x-118 (6).png\n",
      "Loads checkpoint by local backend from path: work_dirs/alzheimer/axial/efficientnet/epoch_100.pth\n",
      "49\n",
      "Automatically choose the last norm layer \"backbone.layers.6.bn\" as the target layer.\n",
      "333\n",
      "data/efficientnet_heat/train/AD/heat_x-126 (16).png\n",
      "Loads checkpoint by local backend from path: work_dirs/alzheimer/axial/efficientnet/epoch_100.pth\n",
      "49\n",
      "Automatically choose the last norm layer \"backbone.layers.6.bn\" as the target layer.\n",
      "334\n",
      "data/efficientnet_heat/train/AD/heat_x-94 (6).png\n",
      "Loads checkpoint by local backend from path: work_dirs/alzheimer/axial/efficientnet/epoch_100.pth\n",
      "49\n",
      "Automatically choose the last norm layer \"backbone.layers.6.bn\" as the target layer.\n",
      "335\n",
      "data/efficientnet_heat/train/AD/heat_x-112.png\n",
      "Loads checkpoint by local backend from path: work_dirs/alzheimer/axial/efficientnet/epoch_100.pth\n",
      "49\n",
      "Automatically choose the last norm layer \"backbone.layers.6.bn\" as the target layer.\n",
      "336\n",
      "data/efficientnet_heat/train/AD/heat_x-109 (14).png\n",
      "Loads checkpoint by local backend from path: work_dirs/alzheimer/axial/efficientnet/epoch_100.pth\n",
      "49\n",
      "Automatically choose the last norm layer \"backbone.layers.6.bn\" as the target layer.\n",
      "337\n",
      "data/efficientnet_heat/train/AD/heat_x-128 (20).png\n",
      "Loads checkpoint by local backend from path: work_dirs/alzheimer/axial/efficientnet/epoch_100.pth\n",
      "49\n",
      "Automatically choose the last norm layer \"backbone.layers.6.bn\" as the target layer.\n",
      "338\n",
      "data/efficientnet_heat/train/AD/heat_x-109 (2).png\n",
      "Loads checkpoint by local backend from path: work_dirs/alzheimer/axial/efficientnet/epoch_100.pth\n",
      "49\n",
      "Automatically choose the last norm layer \"backbone.layers.6.bn\" as the target layer.\n",
      "339\n",
      "data/efficientnet_heat/train/AD/heat_x-110 (11).png\n",
      "Loads checkpoint by local backend from path: work_dirs/alzheimer/axial/efficientnet/epoch_100.pth\n",
      "49\n",
      "Automatically choose the last norm layer \"backbone.layers.6.bn\" as the target layer.\n",
      "340\n",
      "data/efficientnet_heat/train/AD/heat_x-116 (11).png\n",
      "Loads checkpoint by local backend from path: work_dirs/alzheimer/axial/efficientnet/epoch_100.pth\n",
      "49\n",
      "Automatically choose the last norm layer \"backbone.layers.6.bn\" as the target layer.\n",
      "341\n",
      "data/efficientnet_heat/train/AD/heat_x-112 (14).png\n",
      "Loads checkpoint by local backend from path: work_dirs/alzheimer/axial/efficientnet/epoch_100.pth\n",
      "49\n",
      "Automatically choose the last norm layer \"backbone.layers.6.bn\" as the target layer.\n",
      "342\n",
      "data/efficientnet_heat/train/AD/heat_x-115 (5).png\n",
      "Loads checkpoint by local backend from path: work_dirs/alzheimer/axial/efficientnet/epoch_100.pth\n",
      "49\n",
      "Automatically choose the last norm layer \"backbone.layers.6.bn\" as the target layer.\n",
      "343\n",
      "data/efficientnet_heat/train/AD/heat_x-90 (2).png\n",
      "Loads checkpoint by local backend from path: work_dirs/alzheimer/axial/efficientnet/epoch_100.pth\n",
      "49\n",
      "Automatically choose the last norm layer \"backbone.layers.6.bn\" as the target layer.\n",
      "344\n",
      "data/efficientnet_heat/train/AD/heat_x-124 (9).png\n",
      "Loads checkpoint by local backend from path: work_dirs/alzheimer/axial/efficientnet/epoch_100.pth\n",
      "49\n",
      "Automatically choose the last norm layer \"backbone.layers.6.bn\" as the target layer.\n",
      "345\n",
      "data/efficientnet_heat/train/AD/heat_x-121 (4).png\n",
      "Loads checkpoint by local backend from path: work_dirs/alzheimer/axial/efficientnet/epoch_100.pth\n",
      "49\n",
      "Automatically choose the last norm layer \"backbone.layers.6.bn\" as the target layer.\n",
      "346\n",
      "data/efficientnet_heat/train/AD/heat_x-128 (15).png\n",
      "Loads checkpoint by local backend from path: work_dirs/alzheimer/axial/efficientnet/epoch_100.pth\n",
      "49\n",
      "Automatically choose the last norm layer \"backbone.layers.6.bn\" as the target layer.\n",
      "347\n",
      "data/efficientnet_heat/train/AD/heat_x-109 (4).png\n",
      "Loads checkpoint by local backend from path: work_dirs/alzheimer/axial/efficientnet/epoch_100.pth\n",
      "49\n",
      "Automatically choose the last norm layer \"backbone.layers.6.bn\" as the target layer.\n",
      "348\n",
      "data/efficientnet_heat/train/AD/heat_x-98 (11).png\n",
      "Loads checkpoint by local backend from path: work_dirs/alzheimer/axial/efficientnet/epoch_100.pth\n",
      "49\n",
      "Automatically choose the last norm layer \"backbone.layers.6.bn\" as the target layer.\n",
      "349\n",
      "data/efficientnet_heat/train/AD/heat_x-107.png\n",
      "Loads checkpoint by local backend from path: work_dirs/alzheimer/axial/efficientnet/epoch_100.pth\n",
      "49\n",
      "Automatically choose the last norm layer \"backbone.layers.6.bn\" as the target layer.\n",
      "350\n",
      "data/efficientnet_heat/train/AD/heat_x-114 (4).png\n",
      "Loads checkpoint by local backend from path: work_dirs/alzheimer/axial/efficientnet/epoch_100.pth\n",
      "49\n",
      "Automatically choose the last norm layer \"backbone.layers.6.bn\" as the target layer.\n",
      "351\n",
      "data/efficientnet_heat/train/AD/heat_x-101 (6).png\n",
      "Loads checkpoint by local backend from path: work_dirs/alzheimer/axial/efficientnet/epoch_100.pth\n",
      "49\n",
      "Automatically choose the last norm layer \"backbone.layers.6.bn\" as the target layer.\n",
      "352\n",
      "data/efficientnet_heat/train/AD/heat_x-98 (15).png\n",
      "Loads checkpoint by local backend from path: work_dirs/alzheimer/axial/efficientnet/epoch_100.pth\n",
      "49\n",
      "Automatically choose the last norm layer \"backbone.layers.6.bn\" as the target layer.\n",
      "353\n",
      "data/efficientnet_heat/train/AD/heat_x-114 (12).png\n",
      "Loads checkpoint by local backend from path: work_dirs/alzheimer/axial/efficientnet/epoch_100.pth\n",
      "49\n",
      "Automatically choose the last norm layer \"backbone.layers.6.bn\" as the target layer.\n",
      "354\n",
      "data/efficientnet_heat/train/AD/heat_x-102 (9).png\n",
      "Loads checkpoint by local backend from path: work_dirs/alzheimer/axial/efficientnet/epoch_100.pth\n",
      "49\n",
      "Automatically choose the last norm layer \"backbone.layers.6.bn\" as the target layer.\n",
      "355\n",
      "data/efficientnet_heat/train/AD/heat_x-99 (5).png\n",
      "Loads checkpoint by local backend from path: work_dirs/alzheimer/axial/efficientnet/epoch_100.pth\n",
      "49\n",
      "Automatically choose the last norm layer \"backbone.layers.6.bn\" as the target layer.\n",
      "356\n",
      "data/efficientnet_heat/train/AD/heat_x-127 (10).png\n",
      "Loads checkpoint by local backend from path: work_dirs/alzheimer/axial/efficientnet/epoch_100.pth\n",
      "49\n",
      "Automatically choose the last norm layer \"backbone.layers.6.bn\" as the target layer.\n",
      "357\n",
      "data/efficientnet_heat/train/AD/heat_x-123.png\n",
      "Loads checkpoint by local backend from path: work_dirs/alzheimer/axial/efficientnet/epoch_100.pth\n",
      "49\n",
      "Automatically choose the last norm layer \"backbone.layers.6.bn\" as the target layer.\n",
      "358\n",
      "data/efficientnet_heat/train/AD/heat_x-127 (9).png\n",
      "Loads checkpoint by local backend from path: work_dirs/alzheimer/axial/efficientnet/epoch_100.pth\n",
      "49\n",
      "Automatically choose the last norm layer \"backbone.layers.6.bn\" as the target layer.\n",
      "359\n",
      "data/efficientnet_heat/train/AD/heat_x-120 (2).png\n",
      "Loads checkpoint by local backend from path: work_dirs/alzheimer/axial/efficientnet/epoch_100.pth\n",
      "49\n",
      "Automatically choose the last norm layer \"backbone.layers.6.bn\" as the target layer.\n",
      "360\n",
      "data/efficientnet_heat/train/AD/heat_x-97.png\n",
      "Loads checkpoint by local backend from path: work_dirs/alzheimer/axial/efficientnet/epoch_100.pth\n",
      "49\n",
      "Automatically choose the last norm layer \"backbone.layers.6.bn\" as the target layer.\n",
      "361\n",
      "data/efficientnet_heat/train/AD/heat_x-104 (13).png\n",
      "Loads checkpoint by local backend from path: work_dirs/alzheimer/axial/efficientnet/epoch_100.pth\n",
      "49\n",
      "Automatically choose the last norm layer \"backbone.layers.6.bn\" as the target layer.\n",
      "362\n",
      "data/efficientnet_heat/train/AD/heat_x-121 (13).png\n",
      "Loads checkpoint by local backend from path: work_dirs/alzheimer/axial/efficientnet/epoch_100.pth\n",
      "49\n",
      "Automatically choose the last norm layer \"backbone.layers.6.bn\" as the target layer.\n",
      "363\n",
      "data/efficientnet_heat/train/AD/heat_x-102 (15).png\n",
      "Loads checkpoint by local backend from path: work_dirs/alzheimer/axial/efficientnet/epoch_100.pth\n",
      "49\n",
      "Automatically choose the last norm layer \"backbone.layers.6.bn\" as the target layer.\n",
      "364\n",
      "data/efficientnet_heat/train/AD/heat_x-97 (3).png\n",
      "Loads checkpoint by local backend from path: work_dirs/alzheimer/axial/efficientnet/epoch_100.pth\n",
      "49\n",
      "Automatically choose the last norm layer \"backbone.layers.6.bn\" as the target layer.\n",
      "365\n",
      "data/efficientnet_heat/train/AD/heat_x-105 (8).png\n",
      "Loads checkpoint by local backend from path: work_dirs/alzheimer/axial/efficientnet/epoch_100.pth\n",
      "49\n",
      "Automatically choose the last norm layer \"backbone.layers.6.bn\" as the target layer.\n",
      "366\n",
      "data/efficientnet_heat/train/AD/heat_x-105.png\n",
      "Loads checkpoint by local backend from path: work_dirs/alzheimer/axial/efficientnet/epoch_100.pth\n",
      "49\n",
      "Automatically choose the last norm layer \"backbone.layers.6.bn\" as the target layer.\n",
      "367\n",
      "data/efficientnet_heat/train/AD/heat_x-115 (4).png\n",
      "Loads checkpoint by local backend from path: work_dirs/alzheimer/axial/efficientnet/epoch_100.pth\n",
      "49\n",
      "Automatically choose the last norm layer \"backbone.layers.6.bn\" as the target layer.\n",
      "368\n",
      "data/efficientnet_heat/train/AD/heat_x-124 (4).png\n",
      "Loads checkpoint by local backend from path: work_dirs/alzheimer/axial/efficientnet/epoch_100.pth\n",
      "49\n",
      "Automatically choose the last norm layer \"backbone.layers.6.bn\" as the target layer.\n",
      "369\n",
      "data/efficientnet_heat/train/AD/heat_x-103 (2).png\n",
      "Loads checkpoint by local backend from path: work_dirs/alzheimer/axial/efficientnet/epoch_100.pth\n",
      "49\n",
      "Automatically choose the last norm layer \"backbone.layers.6.bn\" as the target layer.\n",
      "370\n",
      "data/efficientnet_heat/train/AD/heat_x-100 (13).png\n",
      "Loads checkpoint by local backend from path: work_dirs/alzheimer/axial/efficientnet/epoch_100.pth\n",
      "49\n",
      "Automatically choose the last norm layer \"backbone.layers.6.bn\" as the target layer.\n",
      "371\n",
      "data/efficientnet_heat/train/AD/heat_x-128 (9).png\n",
      "Loads checkpoint by local backend from path: work_dirs/alzheimer/axial/efficientnet/epoch_100.pth\n",
      "49\n",
      "Automatically choose the last norm layer \"backbone.layers.6.bn\" as the target layer.\n",
      "372\n",
      "data/efficientnet_heat/train/AD/heat_x-111 (8).png\n",
      "Loads checkpoint by local backend from path: work_dirs/alzheimer/axial/efficientnet/epoch_100.pth\n",
      "49\n",
      "Automatically choose the last norm layer \"backbone.layers.6.bn\" as the target layer.\n",
      "373\n",
      "data/efficientnet_heat/train/AD/heat_x-104 (18).png\n",
      "Loads checkpoint by local backend from path: work_dirs/alzheimer/axial/efficientnet/epoch_100.pth\n",
      "49\n",
      "Automatically choose the last norm layer \"backbone.layers.6.bn\" as the target layer.\n",
      "374\n",
      "data/efficientnet_heat/train/AD/heat_x-116 (3).png\n",
      "Loads checkpoint by local backend from path: work_dirs/alzheimer/axial/efficientnet/epoch_100.pth\n",
      "49\n",
      "Automatically choose the last norm layer \"backbone.layers.6.bn\" as the target layer.\n",
      "375\n",
      "data/efficientnet_heat/train/AD/heat_x-104 (5).png\n",
      "Loads checkpoint by local backend from path: work_dirs/alzheimer/axial/efficientnet/epoch_100.pth\n",
      "49\n",
      "Automatically choose the last norm layer \"backbone.layers.6.bn\" as the target layer.\n",
      "376\n",
      "data/efficientnet_heat/train/AD/heat_x-100 (12).png\n",
      "Loads checkpoint by local backend from path: work_dirs/alzheimer/axial/efficientnet/epoch_100.pth\n",
      "49\n",
      "Automatically choose the last norm layer \"backbone.layers.6.bn\" as the target layer.\n",
      "377\n",
      "data/efficientnet_heat/train/AD/heat_x-108 (8).png\n",
      "Loads checkpoint by local backend from path: work_dirs/alzheimer/axial/efficientnet/epoch_100.pth\n",
      "49\n",
      "Automatically choose the last norm layer \"backbone.layers.6.bn\" as the target layer.\n",
      "378\n",
      "data/efficientnet_heat/train/AD/heat_x-95 (5).png\n",
      "Loads checkpoint by local backend from path: work_dirs/alzheimer/axial/efficientnet/epoch_100.pth\n",
      "49\n",
      "Automatically choose the last norm layer \"backbone.layers.6.bn\" as the target layer.\n",
      "379\n",
      "data/efficientnet_heat/train/AD/heat_x-123 (11).png\n",
      "Loads checkpoint by local backend from path: work_dirs/alzheimer/axial/efficientnet/epoch_100.pth\n",
      "49\n",
      "Automatically choose the last norm layer \"backbone.layers.6.bn\" as the target layer.\n",
      "380\n",
      "data/efficientnet_heat/train/AD/heat_x-107 (10).png\n",
      "Loads checkpoint by local backend from path: work_dirs/alzheimer/axial/efficientnet/epoch_100.pth\n",
      "49\n",
      "Automatically choose the last norm layer \"backbone.layers.6.bn\" as the target layer.\n",
      "381\n",
      "data/efficientnet_heat/train/AD/heat_x-104 (3).png\n",
      "Loads checkpoint by local backend from path: work_dirs/alzheimer/axial/efficientnet/epoch_100.pth\n",
      "49\n",
      "Automatically choose the last norm layer \"backbone.layers.6.bn\" as the target layer.\n",
      "382\n",
      "data/efficientnet_heat/train/AD/heat_x-114 (2).png\n",
      "Loads checkpoint by local backend from path: work_dirs/alzheimer/axial/efficientnet/epoch_100.pth\n",
      "49\n",
      "Automatically choose the last norm layer \"backbone.layers.6.bn\" as the target layer.\n",
      "383\n",
      "data/efficientnet_heat/train/AD/heat_x-116 (8).png\n",
      "Loads checkpoint by local backend from path: work_dirs/alzheimer/axial/efficientnet/epoch_100.pth\n",
      "49\n",
      "Automatically choose the last norm layer \"backbone.layers.6.bn\" as the target layer.\n",
      "384\n",
      "data/efficientnet_heat/train/AD/heat_x-126 (4).png\n",
      "Loads checkpoint by local backend from path: work_dirs/alzheimer/axial/efficientnet/epoch_100.pth\n",
      "49\n",
      "Automatically choose the last norm layer \"backbone.layers.6.bn\" as the target layer.\n",
      "385\n",
      "data/efficientnet_heat/train/AD/heat_x-120 (5).png\n",
      "Loads checkpoint by local backend from path: work_dirs/alzheimer/axial/efficientnet/epoch_100.pth\n",
      "49\n",
      "Automatically choose the last norm layer \"backbone.layers.6.bn\" as the target layer.\n",
      "386\n",
      "data/efficientnet_heat/train/AD/heat_x-98 (16).png\n",
      "Loads checkpoint by local backend from path: work_dirs/alzheimer/axial/efficientnet/epoch_100.pth\n",
      "49\n",
      "Automatically choose the last norm layer \"backbone.layers.6.bn\" as the target layer.\n",
      "387\n",
      "data/efficientnet_heat/train/AD/heat_x-118 (2).png\n",
      "Loads checkpoint by local backend from path: work_dirs/alzheimer/axial/efficientnet/epoch_100.pth\n",
      "49\n",
      "Automatically choose the last norm layer \"backbone.layers.6.bn\" as the target layer.\n",
      "388\n",
      "data/efficientnet_heat/train/AD/heat_x-113 (4).png\n",
      "Loads checkpoint by local backend from path: work_dirs/alzheimer/axial/efficientnet/epoch_100.pth\n",
      "49\n",
      "Automatically choose the last norm layer \"backbone.layers.6.bn\" as the target layer.\n",
      "389\n",
      "data/efficientnet_heat/train/AD/heat_x-96.png\n",
      "Loads checkpoint by local backend from path: work_dirs/alzheimer/axial/efficientnet/epoch_100.pth\n",
      "49\n",
      "Automatically choose the last norm layer \"backbone.layers.6.bn\" as the target layer.\n",
      "390\n",
      "data/efficientnet_heat/train/AD/heat_x-107 (12).png\n",
      "Loads checkpoint by local backend from path: work_dirs/alzheimer/axial/efficientnet/epoch_100.pth\n",
      "49\n",
      "Automatically choose the last norm layer \"backbone.layers.6.bn\" as the target layer.\n",
      "391\n",
      "data/efficientnet_heat/train/AD/heat_x-117 (9).png\n",
      "Loads checkpoint by local backend from path: work_dirs/alzheimer/axial/efficientnet/epoch_100.pth\n",
      "49\n",
      "Automatically choose the last norm layer \"backbone.layers.6.bn\" as the target layer.\n",
      "392\n",
      "data/efficientnet_heat/train/AD/heat_x-105 (21).png\n",
      "Loads checkpoint by local backend from path: work_dirs/alzheimer/axial/efficientnet/epoch_100.pth\n",
      "49\n",
      "Automatically choose the last norm layer \"backbone.layers.6.bn\" as the target layer.\n",
      "393\n",
      "data/efficientnet_heat/train/AD/heat_x-109 (15).png\n",
      "Loads checkpoint by local backend from path: work_dirs/alzheimer/axial/efficientnet/epoch_100.pth\n",
      "49\n",
      "Automatically choose the last norm layer \"backbone.layers.6.bn\" as the target layer.\n",
      "394\n",
      "data/efficientnet_heat/train/AD/heat_x-120 (6).png\n",
      "Loads checkpoint by local backend from path: work_dirs/alzheimer/axial/efficientnet/epoch_100.pth\n",
      "49\n",
      "Automatically choose the last norm layer \"backbone.layers.6.bn\" as the target layer.\n",
      "395\n",
      "data/efficientnet_heat/train/AD/heat_x-114 (6).png\n",
      "Loads checkpoint by local backend from path: work_dirs/alzheimer/axial/efficientnet/epoch_100.pth\n",
      "49\n",
      "Automatically choose the last norm layer \"backbone.layers.6.bn\" as the target layer.\n",
      "396\n",
      "data/efficientnet_heat/train/AD/heat_x-119 (7).png\n",
      "Loads checkpoint by local backend from path: work_dirs/alzheimer/axial/efficientnet/epoch_100.pth\n",
      "49\n",
      "Automatically choose the last norm layer \"backbone.layers.6.bn\" as the target layer.\n",
      "397\n",
      "data/efficientnet_heat/train/AD/heat_x-105 (13).png\n",
      "Loads checkpoint by local backend from path: work_dirs/alzheimer/axial/efficientnet/epoch_100.pth\n",
      "49\n",
      "Automatically choose the last norm layer \"backbone.layers.6.bn\" as the target layer.\n",
      "398\n",
      "data/efficientnet_heat/train/AD/heat_x-122 (9).png\n",
      "Loads checkpoint by local backend from path: work_dirs/alzheimer/axial/efficientnet/epoch_100.pth\n",
      "49\n",
      "Automatically choose the last norm layer \"backbone.layers.6.bn\" as the target layer.\n",
      "399\n",
      "data/efficientnet_heat/train/AD/heat_x-102 (6).png\n",
      "Loads checkpoint by local backend from path: work_dirs/alzheimer/axial/efficientnet/epoch_100.pth\n",
      "49\n",
      "Automatically choose the last norm layer \"backbone.layers.6.bn\" as the target layer.\n",
      "400\n"
     ]
    }
   ],
   "source": [
    "import os\n",
    "import subprocess\n",
    "\n",
    "train_AD = 'data/efficientnet_heat/train/AD'\n",
    "train_MCI = 'data/efficientnet_heat/train/MCI'\n",
    "train_NC = 'data/efficientnet_heat/train/NC'\n",
    "\n",
    "trainheat_AD = 'data/efficientnet_heat/train/AD'\n",
    "trainheat_MCI = 'data/efficientnet_heat/train/MCI'\n",
    "trainheat_NC = 'data/efficientnet_heat/train/NC'\n",
    "\n",
    "count = 0\n",
    "for i in os.listdir(train_AD):\n",
    "    count+=1\n",
    "    temp = os.path.join(train_AD,i)\n",
    "    out = trainheat_AD + '/heat_'+i\n",
    "    print(out)  \n",
    "    subprocess.run([\"python\", \"tools/visualization/vis_cam.py\", \n",
    "                temp,\n",
    "                 \"configs/efficientnet/efficientnetb0_alzheimer_axial_view.py\",\n",
    "                 \"work_dirs/alzheimer/axial/efficientnet/epoch_100.pth\",\n",
    "                 # \"--target-layers\", \"backbone.features.16\",\n",
    "                 \"--method\", \"GradCAM\",\n",
    "                 \"--save-path\", out,\n",
    "                 \"--eigen-smooth\", \"--aug-smooth\"\n",
    "                 ], text=True)\n",
    "    print(count)\n",
    "    # break"
   ]
  },
  {
   "cell_type": "code",
   "execution_count": 38,
   "id": "aea86cd4-fcd3-43ef-80f1-dd3b1cadf4a1",
   "metadata": {},
   "outputs": [
    {
     "name": "stdout",
     "output_type": "stream",
     "text": [
      "Overwriting configs/efficientnet/efficientnetb0_alzheimer_axial_view_heat.py\n"
     ]
    }
   ],
   "source": [
    "%%writefile configs/efficientnet/efficientnetb0_alzheimer_axial_view_heat.py\n",
    "_base_ = [\n",
    "    '../_base_/models/efficientnet_v2/efficientnetv2_m.py',\n",
    "    '../_base_/schedules/imagenet_bs1024_adamw_conformer.py',\n",
    "    # '../_base_/schedules/imagenet_bs256.py',\n",
    "    '../_base_/default_runtime.py'\n",
    "]\n",
    "\n",
    "pretrained = 'https://download.openmmlab.com/mmclassification/v0/efficientnet/efficientnet-b0_3rdparty_8xb32_in1k_20220119-a7e2a0b1.pth'\n",
    "\n",
    "model = dict(\n",
    "    type='ImageClassifier', \n",
    "    \n",
    "    backbone=dict(\n",
    "        type='EfficientNet',\n",
    "        arch='b0',\n",
    "        init_cfg = dict(\n",
    "            type='Pretrained', \n",
    "            checkpoint=pretrained,\n",
    "            prefix='backbone',\n",
    "        )\n",
    "    ),\n",
    "    neck=dict(type='GlobalAveragePooling'),\n",
    "    head=dict(\n",
    "        num_classes=3,\n",
    "        topk = (1, 3),\n",
    "        # cal_acc=True,\n",
    "    ))\n",
    "\n",
    "dataset_type = 'CustomDataset'\n",
    "data_preprocessor = dict(\n",
    "     mean=[124.508, 116.050, 106.438],\n",
    "     std=[58.577, 57.310, 57.437],\n",
    "     to_rgb=True)\n",
    "\n",
    "train_pipeline = [\n",
    "    dict(type='LoadImageFromFile'),     # read image\n",
    "    # dict(type='ResizeEdge', scale=256),  \n",
    "    dict(type='EfficientNetRandomCrop', scale=224, crop_padding=0),     # Random scaling and cropping\n",
    "    dict(type='RandomFlip', prob=0.5, direction='horizontal'),   # random horizontal flip\n",
    "    dict(type='PackInputs'),         # prepare images and labels\n",
    "]\n",
    "\n",
    "test_pipeline = [\n",
    "    dict(type='LoadImageFromFile'),     # read image\n",
    "    # dict(type='ResizeEdge', scale=256),  \n",
    "    dict(type='EfficientNetCenterCrop', crop_size=224,crop_padding=0),     # center crop\n",
    "    dict(type='PackInputs'),                 # prepare images and labels\n",
    "]\n",
    "\n",
    "train_dataloader = dict(\n",
    "    batch_size=1,\n",
    "    num_workers=2,\n",
    "    dataset=dict(\n",
    "        type='CustomDataset',\n",
    "        data_root='data',\n",
    "        data_prefix='efficientnet_heat/train',\n",
    "        classes='data/classes.txt',\n",
    "        with_label=True,\n",
    "        pipeline=train_pipeline\n",
    "    ),\n",
    "    sampler=dict(type='DefaultSampler', shuffle=True),\n",
    "    persistent_workers=True\n",
    ")\n",
    "\n",
    "val_dataloader = dict(\n",
    "    batch_size=1,\n",
    "    num_workers=2,\n",
    "    dataset=dict(\n",
    "        type='CustomDataset',\n",
    "        data_root='data',\n",
    "        data_prefix='efficientnet_heat/validation',\n",
    "        classes='data/classes.txt',\n",
    "        with_label=True,\n",
    "        pipeline=test_pipeline\n",
    "    ),\n",
    "    sampler=dict(type='DefaultSampler', shuffle=False),\n",
    "    persistent_workers=True\n",
    ")\n",
    "\n",
    "test_dataloader = dict(\n",
    "    batch_size=1,\n",
    "    num_workers=2,\n",
    "    dataset=dict(\n",
    "        type='CustomDataset',\n",
    "        data_root='data',\n",
    "        data_prefix='efficientnet_heat/test',\n",
    "        classes='data/classes.txt',\n",
    "        with_label=True,\n",
    "        pipeline=test_pipeline\n",
    "    ),    \n",
    "    sampler=dict(type='DefaultSampler', shuffle=False),\n",
    "    persistent_workers=True\n",
    ")\n",
    "\n",
    "val_evaluator = dict(type='Accuracy', topk=(1, 3))\n",
    "\n",
    "test_evaluator = val_evaluator \n",
    "\n",
    "optim_wrapper = dict(\n",
    "    optimizer=dict(\n",
    "        type='AdamW',\n",
    "        # for batch in each gpu is 128, 8 gpu\n",
    "        # lr = 5e-4 * 128 * 8 / 512 = 0.001\n",
    "        lr=5e-4 * 128 * 8 / 512,\n",
    "        weight_decay=0.05,\n",
    "        eps=1e-8,\n",
    "        betas=(0.9, 0.999)),\n",
    "    paramwise_cfg=dict(\n",
    "        norm_decay_mult=0.0,\n",
    "        bias_decay_mult=0.0,\n",
    "        custom_keys={\n",
    "            '.cls_token': dict(decay_mult=0.0),\n",
    "        }),\n",
    ")\n",
    "\n",
    "# learning policy\n",
    "param_scheduler = [\n",
    "    dict(\n",
    "        type='LinearLR',\n",
    "        start_factor=1e-3,\n",
    "        by_epoch=True,\n",
    "        begin=0,\n",
    "        end=5,\n",
    "        convert_to_iter_based=True),\n",
    "    dict(\n",
    "        type='CosineAnnealingLR',\n",
    "        T_max=295,\n",
    "        eta_min=1e-5,\n",
    "        by_epoch=True,\n",
    "        begin=5,\n",
    "        end=300)\n",
    "]\n",
    "\n",
    "train_cfg = dict(by_epoch=True, max_epochs=100, val_interval=1)\n",
    "val_cfg = dict()\n",
    "test_cfg = dict()\n",
    "\n",
    "auto_scale_lr = dict(base_batch_size=128)\n",
    "\n",
    "default_scope = 'mmpretrain'\n",
    "\n",
    "# configure default hooks\n",
    "default_hooks = dict(\n",
    "    # record the time of every iteration.\n",
    "    timer=dict(type='IterTimerHook'),\n",
    "\n",
    "    # print log every 100 iterations.\n",
    "    logger=dict(type='LoggerHook', interval=100),\n",
    "\n",
    "    # enable the parameter scheduler.\n",
    "    param_scheduler=dict(type='ParamSchedulerHook'),\n",
    "\n",
    "    # save checkpoint per epoch.\n",
    "    checkpoint=dict(type='CheckpointHook', interval=1),\n",
    "\n",
    "    # set sampler seed in a distributed environment.\n",
    "    sampler_seed=dict(type='DistSamplerSeedHook'),\n",
    "\n",
    "    # validation results visualization, set True to enable it.\n",
    "    visualization=dict(type='VisualizationHook', enable=False),\n",
    ")\n",
    "\n",
    "env_cfg = dict(\n",
    "    # whether to enable cudnn benchmark\n",
    "    cudnn_benchmark=False,\n",
    "\n",
    "    # set multi-process parameters\n",
    "    mp_cfg=dict(mp_start_method='fork', opencv_num_threads=0),\n",
    "\n",
    "    # set distributed parameters\n",
    "    dist_cfg=dict(backend='nccl'),\n",
    ")\n",
    "\n",
    "# set visualizer\n",
    "vis_backends = [dict(type='LocalVisBackend')]  # use local HDD backend\n",
    "visualizer = dict(type='UniversalVisualizer', vis_backends=vis_backends, name='visualizer')\n",
    "\n",
    "# set log level\n",
    "log_level = 'INFO'\n",
    "\n",
    "# load from which checkpoint\n",
    "load_from = None\n",
    "\n",
    "# whether to resume training from the loaded checkpoint\n",
    "resume = False"
   ]
  },
  {
   "cell_type": "code",
   "execution_count": 39,
   "id": "6109280b-a695-437a-abbe-281f98aee590",
   "metadata": {
    "scrolled": true
   },
   "outputs": [
    {
     "name": "stdout",
     "output_type": "stream",
     "text": [
      "configs/efficientnet/efficientnetb0_alzheimer_axial_view_heat.py\n",
      "11/26 19:26:57 - mmengine - \u001b[4m\u001b[97mINFO\u001b[0m - \n",
      "------------------------------------------------------------\n",
      "System environment:\n",
      "    sys.platform: linux\n",
      "    Python: 3.8.18 (default, Sep 11 2023, 13:40:15) [GCC 11.2.0]\n",
      "    CUDA available: True\n",
      "    numpy_random_seed: 916778201\n",
      "    GPU 0: NVIDIA GeForce RTX 3090\n",
      "    CUDA_HOME: /usr/local/cuda-11.4\n",
      "    NVCC: Cuda compilation tools, release 11.4, V11.4.100\n",
      "    GCC: gcc (Ubuntu 9.4.0-1ubuntu1~20.04.2) 9.4.0\n",
      "    PyTorch: 1.10.1\n",
      "    PyTorch compiling details: PyTorch built with:\n",
      "  - GCC 7.3\n",
      "  - C++ Version: 201402\n",
      "  - Intel(R) oneAPI Math Kernel Library Version 2023.1-Product Build 20230303 for Intel(R) 64 architecture applications\n",
      "  - Intel(R) MKL-DNN v2.2.3 (Git Hash 7336ca9f055cf1bfa13efb658fe15dc9b41f0740)\n",
      "  - OpenMP 201511 (a.k.a. OpenMP 4.5)\n",
      "  - LAPACK is enabled (usually provided by MKL)\n",
      "  - NNPACK is enabled\n",
      "  - CPU capability usage: AVX2\n",
      "  - CUDA Runtime 11.3\n",
      "  - NVCC architecture flags: -gencode;arch=compute_37,code=sm_37;-gencode;arch=compute_50,code=sm_50;-gencode;arch=compute_60,code=sm_60;-gencode;arch=compute_61,code=sm_61;-gencode;arch=compute_70,code=sm_70;-gencode;arch=compute_75,code=sm_75;-gencode;arch=compute_80,code=sm_80;-gencode;arch=compute_86,code=sm_86;-gencode;arch=compute_37,code=compute_37\n",
      "  - CuDNN 8.2\n",
      "  - Magma 2.5.2\n",
      "  - Build settings: BLAS_INFO=mkl, BUILD_TYPE=Release, CUDA_VERSION=11.3, CUDNN_VERSION=8.2.0, CXX_COMPILER=/opt/rh/devtoolset-7/root/usr/bin/c++, CXX_FLAGS= -Wno-deprecated -fvisibility-inlines-hidden -DUSE_PTHREADPOOL -fopenmp -DNDEBUG -DUSE_KINETO -DUSE_FBGEMM -DUSE_QNNPACK -DUSE_PYTORCH_QNNPACK -DUSE_XNNPACK -DSYMBOLICATE_MOBILE_DEBUG_HANDLE -DEDGE_PROFILER_USE_KINETO -O2 -fPIC -Wno-narrowing -Wall -Wextra -Werror=return-type -Wno-missing-field-initializers -Wno-type-limits -Wno-array-bounds -Wno-unknown-pragmas -Wno-sign-compare -Wno-unused-parameter -Wno-unused-variable -Wno-unused-function -Wno-unused-result -Wno-unused-local-typedefs -Wno-strict-overflow -Wno-strict-aliasing -Wno-error=deprecated-declarations -Wno-stringop-overflow -Wno-psabi -Wno-error=pedantic -Wno-error=redundant-decls -Wno-error=old-style-cast -fdiagnostics-color=always -faligned-new -Wno-unused-but-set-variable -Wno-maybe-uninitialized -fno-math-errno -fno-trapping-math -Werror=format -Wno-stringop-overflow, LAPACK_INFO=mkl, PERF_WITH_AVX=1, PERF_WITH_AVX2=1, PERF_WITH_AVX512=1, TORCH_VERSION=1.10.1, USE_CUDA=ON, USE_CUDNN=ON, USE_EXCEPTION_PTR=1, USE_GFLAGS=OFF, USE_GLOG=OFF, USE_MKL=ON, USE_MKLDNN=ON, USE_MPI=OFF, USE_NCCL=ON, USE_NNPACK=ON, USE_OPENMP=ON, \n",
      "\n",
      "    TorchVision: 0.11.2\n",
      "    OpenCV: 4.8.1\n",
      "    MMEngine: 0.9.0\n",
      "\n",
      "Runtime environment:\n",
      "    cudnn_benchmark: False\n",
      "    mp_cfg: {'mp_start_method': 'fork', 'opencv_num_threads': 0}\n",
      "    dist_cfg: {'backend': 'nccl'}\n",
      "    seed: 916778201\n",
      "    deterministic: False\n",
      "    Distributed launcher: none\n",
      "    Distributed training: False\n",
      "    GPU number: 1\n",
      "------------------------------------------------------------\n",
      "\n",
      "11/26 19:26:57 - mmengine - \u001b[4m\u001b[97mINFO\u001b[0m - Config:\n",
      "auto_scale_lr = dict(base_batch_size=128)\n",
      "data_preprocessor = dict(\n",
      "    mean=[\n",
      "        124.508,\n",
      "        116.05,\n",
      "        106.438,\n",
      "    ],\n",
      "    std=[\n",
      "        58.577,\n",
      "        57.31,\n",
      "        57.437,\n",
      "    ],\n",
      "    to_rgb=True)\n",
      "dataset_type = 'CustomDataset'\n",
      "default_hooks = dict(\n",
      "    checkpoint=dict(interval=1, type='CheckpointHook'),\n",
      "    logger=dict(interval=100, type='LoggerHook'),\n",
      "    param_scheduler=dict(type='ParamSchedulerHook'),\n",
      "    sampler_seed=dict(type='DistSamplerSeedHook'),\n",
      "    timer=dict(type='IterTimerHook'),\n",
      "    visualization=dict(enable=False, type='VisualizationHook'))\n",
      "default_scope = 'mmpretrain'\n",
      "env_cfg = dict(\n",
      "    cudnn_benchmark=False,\n",
      "    dist_cfg=dict(backend='nccl'),\n",
      "    mp_cfg=dict(mp_start_method='fork', opencv_num_threads=0))\n",
      "launcher = 'none'\n",
      "load_from = None\n",
      "log_level = 'INFO'\n",
      "model = dict(\n",
      "    backbone=dict(\n",
      "        arch='b0',\n",
      "        init_cfg=dict(\n",
      "            checkpoint=\n",
      "            'https://download.openmmlab.com/mmclassification/v0/efficientnet/efficientnet-b0_3rdparty_8xb32_in1k_20220119-a7e2a0b1.pth',\n",
      "            prefix='backbone',\n",
      "            type='Pretrained'),\n",
      "        type='EfficientNet'),\n",
      "    head=dict(\n",
      "        in_channels=1280,\n",
      "        loss=dict(loss_weight=1.0, type='CrossEntropyLoss'),\n",
      "        num_classes=3,\n",
      "        topk=(\n",
      "            1,\n",
      "            3,\n",
      "        ),\n",
      "        type='LinearClsHead'),\n",
      "    neck=dict(type='GlobalAveragePooling'),\n",
      "    type='ImageClassifier')\n",
      "optim_wrapper = dict(\n",
      "    optimizer=dict(\n",
      "        betas=(\n",
      "            0.9,\n",
      "            0.999,\n",
      "        ),\n",
      "        eps=1e-08,\n",
      "        lr=0.001,\n",
      "        type='AdamW',\n",
      "        weight_decay=0.05),\n",
      "    paramwise_cfg=dict(\n",
      "        bias_decay_mult=0.0,\n",
      "        custom_keys=dict({'.cls_token': dict(decay_mult=0.0)}),\n",
      "        norm_decay_mult=0.0))\n",
      "param_scheduler = [\n",
      "    dict(\n",
      "        begin=0,\n",
      "        by_epoch=True,\n",
      "        convert_to_iter_based=True,\n",
      "        end=5,\n",
      "        start_factor=0.001,\n",
      "        type='LinearLR'),\n",
      "    dict(\n",
      "        T_max=295,\n",
      "        begin=5,\n",
      "        by_epoch=True,\n",
      "        end=300,\n",
      "        eta_min=1e-05,\n",
      "        type='CosineAnnealingLR'),\n",
      "]\n",
      "pretrained = 'https://download.openmmlab.com/mmclassification/v0/efficientnet/efficientnet-b0_3rdparty_8xb32_in1k_20220119-a7e2a0b1.pth'\n",
      "randomness = dict(deterministic=False, seed=None)\n",
      "resume = False\n",
      "test_cfg = dict()\n",
      "test_dataloader = dict(\n",
      "    batch_size=4,\n",
      "    collate_fn=dict(type='default_collate'),\n",
      "    dataset=dict(\n",
      "        classes='data/classes.txt',\n",
      "        data_prefix='efficientnet_heat/test',\n",
      "        data_root='data',\n",
      "        pipeline=[\n",
      "            dict(type='LoadImageFromFile'),\n",
      "            dict(crop_padding=0, crop_size=224, type='EfficientNetCenterCrop'),\n",
      "            dict(type='PackInputs'),\n",
      "        ],\n",
      "        type='CustomDataset',\n",
      "        with_label=True),\n",
      "    num_workers=1,\n",
      "    persistent_workers=True,\n",
      "    pin_memory=True,\n",
      "    sampler=dict(shuffle=False, type='DefaultSampler'))\n",
      "test_evaluator = dict(\n",
      "    topk=(\n",
      "        1,\n",
      "        3,\n",
      "    ), type='Accuracy')\n",
      "test_pipeline = [\n",
      "    dict(type='LoadImageFromFile'),\n",
      "    dict(crop_padding=0, crop_size=224, type='EfficientNetCenterCrop'),\n",
      "    dict(type='PackInputs'),\n",
      "]\n",
      "train_cfg = dict(by_epoch=True, max_epochs=100, val_interval=1)\n",
      "train_dataloader = dict(\n",
      "    batch_size=4,\n",
      "    collate_fn=dict(type='default_collate'),\n",
      "    dataset=dict(\n",
      "        classes='data/classes.txt',\n",
      "        data_prefix='efficientnet_heat/train',\n",
      "        data_root='data',\n",
      "        pipeline=[\n",
      "            dict(type='LoadImageFromFile'),\n",
      "            dict(crop_padding=0, scale=224, type='EfficientNetRandomCrop'),\n",
      "            dict(direction='horizontal', prob=0.5, type='RandomFlip'),\n",
      "            dict(type='PackInputs'),\n",
      "        ],\n",
      "        type='CustomDataset',\n",
      "        with_label=True),\n",
      "    num_workers=1,\n",
      "    persistent_workers=True,\n",
      "    pin_memory=True,\n",
      "    sampler=dict(shuffle=True, type='DefaultSampler'))\n",
      "train_pipeline = [\n",
      "    dict(type='LoadImageFromFile'),\n",
      "    dict(crop_padding=0, scale=224, type='EfficientNetRandomCrop'),\n",
      "    dict(direction='horizontal', prob=0.5, type='RandomFlip'),\n",
      "    dict(type='PackInputs'),\n",
      "]\n",
      "val_cfg = dict()\n",
      "val_dataloader = dict(\n",
      "    batch_size=4,\n",
      "    collate_fn=dict(type='default_collate'),\n",
      "    dataset=dict(\n",
      "        classes='data/classes.txt',\n",
      "        data_prefix='efficientnet_heat/validation',\n",
      "        data_root='data',\n",
      "        pipeline=[\n",
      "            dict(type='LoadImageFromFile'),\n",
      "            dict(crop_padding=0, crop_size=224, type='EfficientNetCenterCrop'),\n",
      "            dict(type='PackInputs'),\n",
      "        ],\n",
      "        type='CustomDataset',\n",
      "        with_label=True),\n",
      "    num_workers=1,\n",
      "    persistent_workers=True,\n",
      "    pin_memory=True,\n",
      "    sampler=dict(shuffle=False, type='DefaultSampler'))\n",
      "val_evaluator = dict(\n",
      "    topk=(\n",
      "        1,\n",
      "        3,\n",
      "    ), type='Accuracy')\n",
      "vis_backends = [\n",
      "    dict(type='LocalVisBackend'),\n",
      "]\n",
      "visualizer = dict(\n",
      "    name='visualizer',\n",
      "    type='UniversalVisualizer',\n",
      "    vis_backends=[\n",
      "        dict(type='LocalVisBackend'),\n",
      "    ])\n",
      "work_dir = 'work_dirs/alzheimer/axial/efficientnet_heat'\n",
      "\n",
      "11/26 19:27:01 - mmengine - \u001b[4m\u001b[97mINFO\u001b[0m - Distributed training is not used, all SyncBatchNorm (SyncBN) layers in the model will be automatically reverted to BatchNormXd layers if they are used.\n",
      "11/26 19:27:01 - mmengine - \u001b[4m\u001b[97mINFO\u001b[0m - Hooks will be executed in the following order:\n",
      "before_run:\n",
      "(VERY_HIGH   ) RuntimeInfoHook                    \n",
      "(BELOW_NORMAL) LoggerHook                         \n",
      " -------------------- \n",
      "before_train:\n",
      "(VERY_HIGH   ) RuntimeInfoHook                    \n",
      "(NORMAL      ) IterTimerHook                      \n",
      "(VERY_LOW    ) CheckpointHook                     \n",
      " -------------------- \n",
      "before_train_epoch:\n",
      "(VERY_HIGH   ) RuntimeInfoHook                    \n",
      "(NORMAL      ) IterTimerHook                      \n",
      "(NORMAL      ) DistSamplerSeedHook                \n",
      " -------------------- \n",
      "before_train_iter:\n",
      "(VERY_HIGH   ) RuntimeInfoHook                    \n",
      "(NORMAL      ) IterTimerHook                      \n",
      " -------------------- \n",
      "after_train_iter:\n",
      "(VERY_HIGH   ) RuntimeInfoHook                    \n",
      "(NORMAL      ) IterTimerHook                      \n",
      "(BELOW_NORMAL) LoggerHook                         \n",
      "(LOW         ) ParamSchedulerHook                 \n",
      "(VERY_LOW    ) CheckpointHook                     \n",
      " -------------------- \n",
      "after_train_epoch:\n",
      "(NORMAL      ) IterTimerHook                      \n",
      "(LOW         ) ParamSchedulerHook                 \n",
      "(VERY_LOW    ) CheckpointHook                     \n",
      " -------------------- \n",
      "before_val:\n",
      "(VERY_HIGH   ) RuntimeInfoHook                    \n",
      " -------------------- \n",
      "before_val_epoch:\n",
      "(NORMAL      ) IterTimerHook                      \n",
      " -------------------- \n",
      "before_val_iter:\n",
      "(NORMAL      ) IterTimerHook                      \n",
      " -------------------- \n",
      "after_val_iter:\n",
      "(NORMAL      ) IterTimerHook                      \n",
      "(NORMAL      ) VisualizationHook                  \n",
      "(BELOW_NORMAL) LoggerHook                         \n",
      " -------------------- \n",
      "after_val_epoch:\n",
      "(VERY_HIGH   ) RuntimeInfoHook                    \n",
      "(NORMAL      ) IterTimerHook                      \n",
      "(BELOW_NORMAL) LoggerHook                         \n",
      "(LOW         ) ParamSchedulerHook                 \n",
      "(VERY_LOW    ) CheckpointHook                     \n",
      " -------------------- \n",
      "after_val:\n",
      "(VERY_HIGH   ) RuntimeInfoHook                    \n",
      " -------------------- \n",
      "after_train:\n",
      "(VERY_HIGH   ) RuntimeInfoHook                    \n",
      "(VERY_LOW    ) CheckpointHook                     \n",
      " -------------------- \n",
      "before_test:\n",
      "(VERY_HIGH   ) RuntimeInfoHook                    \n",
      " -------------------- \n",
      "before_test_epoch:\n",
      "(NORMAL      ) IterTimerHook                      \n",
      " -------------------- \n",
      "before_test_iter:\n",
      "(NORMAL      ) IterTimerHook                      \n",
      " -------------------- \n",
      "after_test_iter:\n",
      "(NORMAL      ) IterTimerHook                      \n",
      "(NORMAL      ) VisualizationHook                  \n",
      "(BELOW_NORMAL) LoggerHook                         \n",
      " -------------------- \n",
      "after_test_epoch:\n",
      "(VERY_HIGH   ) RuntimeInfoHook                    \n",
      "(NORMAL      ) IterTimerHook                      \n",
      "(BELOW_NORMAL) LoggerHook                         \n",
      " -------------------- \n",
      "after_test:\n",
      "(VERY_HIGH   ) RuntimeInfoHook                    \n",
      " -------------------- \n",
      "after_run:\n",
      "(BELOW_NORMAL) LoggerHook                         \n",
      " -------------------- \n",
      "11/26 19:27:01 - mmengine - \u001b[4m\u001b[97mINFO\u001b[0m - paramwise_options -- backbone.layers.0.bn.weight:weight_decay=0.0\n",
      "11/26 19:27:01 - mmengine - \u001b[4m\u001b[97mINFO\u001b[0m - paramwise_options -- backbone.layers.0.bn.bias:weight_decay=0.0\n",
      "11/26 19:27:01 - mmengine - \u001b[4m\u001b[97mINFO\u001b[0m - paramwise_options -- backbone.layers.1.0.depthwise_conv.bn.weight:weight_decay=0.0\n",
      "11/26 19:27:01 - mmengine - \u001b[4m\u001b[97mINFO\u001b[0m - paramwise_options -- backbone.layers.1.0.depthwise_conv.bn.bias:weight_decay=0.0\n",
      "11/26 19:27:01 - mmengine - \u001b[4m\u001b[97mINFO\u001b[0m - paramwise_options -- backbone.layers.1.0.se.conv1.conv.bias:weight_decay=0.0\n",
      "11/26 19:27:01 - mmengine - \u001b[4m\u001b[97mINFO\u001b[0m - paramwise_options -- backbone.layers.1.0.se.conv2.conv.bias:weight_decay=0.0\n",
      "11/26 19:27:01 - mmengine - \u001b[4m\u001b[97mINFO\u001b[0m - paramwise_options -- backbone.layers.1.0.linear_conv.bn.weight:weight_decay=0.0\n",
      "11/26 19:27:01 - mmengine - \u001b[4m\u001b[97mINFO\u001b[0m - paramwise_options -- backbone.layers.1.0.linear_conv.bn.bias:weight_decay=0.0\n",
      "11/26 19:27:01 - mmengine - \u001b[4m\u001b[97mINFO\u001b[0m - paramwise_options -- backbone.layers.2.0.expand_conv.bn.weight:weight_decay=0.0\n",
      "11/26 19:27:01 - mmengine - \u001b[4m\u001b[97mINFO\u001b[0m - paramwise_options -- backbone.layers.2.0.expand_conv.bn.bias:weight_decay=0.0\n",
      "11/26 19:27:01 - mmengine - \u001b[4m\u001b[97mINFO\u001b[0m - paramwise_options -- backbone.layers.2.0.depthwise_conv.bn.weight:weight_decay=0.0\n",
      "11/26 19:27:01 - mmengine - \u001b[4m\u001b[97mINFO\u001b[0m - paramwise_options -- backbone.layers.2.0.depthwise_conv.bn.bias:weight_decay=0.0\n",
      "11/26 19:27:01 - mmengine - \u001b[4m\u001b[97mINFO\u001b[0m - paramwise_options -- backbone.layers.2.0.se.conv1.conv.bias:weight_decay=0.0\n",
      "11/26 19:27:01 - mmengine - \u001b[4m\u001b[97mINFO\u001b[0m - paramwise_options -- backbone.layers.2.0.se.conv2.conv.bias:weight_decay=0.0\n",
      "11/26 19:27:01 - mmengine - \u001b[4m\u001b[97mINFO\u001b[0m - paramwise_options -- backbone.layers.2.0.linear_conv.bn.weight:weight_decay=0.0\n",
      "11/26 19:27:01 - mmengine - \u001b[4m\u001b[97mINFO\u001b[0m - paramwise_options -- backbone.layers.2.0.linear_conv.bn.bias:weight_decay=0.0\n",
      "11/26 19:27:01 - mmengine - \u001b[4m\u001b[97mINFO\u001b[0m - paramwise_options -- backbone.layers.2.1.expand_conv.bn.weight:weight_decay=0.0\n",
      "11/26 19:27:01 - mmengine - \u001b[4m\u001b[97mINFO\u001b[0m - paramwise_options -- backbone.layers.2.1.expand_conv.bn.bias:weight_decay=0.0\n",
      "11/26 19:27:01 - mmengine - \u001b[4m\u001b[97mINFO\u001b[0m - paramwise_options -- backbone.layers.2.1.depthwise_conv.bn.weight:weight_decay=0.0\n",
      "11/26 19:27:01 - mmengine - \u001b[4m\u001b[97mINFO\u001b[0m - paramwise_options -- backbone.layers.2.1.depthwise_conv.bn.bias:weight_decay=0.0\n",
      "11/26 19:27:01 - mmengine - \u001b[4m\u001b[97mINFO\u001b[0m - paramwise_options -- backbone.layers.2.1.se.conv1.conv.bias:weight_decay=0.0\n",
      "11/26 19:27:01 - mmengine - \u001b[4m\u001b[97mINFO\u001b[0m - paramwise_options -- backbone.layers.2.1.se.conv2.conv.bias:weight_decay=0.0\n",
      "11/26 19:27:01 - mmengine - \u001b[4m\u001b[97mINFO\u001b[0m - paramwise_options -- backbone.layers.2.1.linear_conv.bn.weight:weight_decay=0.0\n",
      "11/26 19:27:01 - mmengine - \u001b[4m\u001b[97mINFO\u001b[0m - paramwise_options -- backbone.layers.2.1.linear_conv.bn.bias:weight_decay=0.0\n",
      "11/26 19:27:01 - mmengine - \u001b[4m\u001b[97mINFO\u001b[0m - paramwise_options -- backbone.layers.3.0.expand_conv.bn.weight:weight_decay=0.0\n",
      "11/26 19:27:01 - mmengine - \u001b[4m\u001b[97mINFO\u001b[0m - paramwise_options -- backbone.layers.3.0.expand_conv.bn.bias:weight_decay=0.0\n",
      "11/26 19:27:01 - mmengine - \u001b[4m\u001b[97mINFO\u001b[0m - paramwise_options -- backbone.layers.3.0.depthwise_conv.bn.weight:weight_decay=0.0\n",
      "11/26 19:27:01 - mmengine - \u001b[4m\u001b[97mINFO\u001b[0m - paramwise_options -- backbone.layers.3.0.depthwise_conv.bn.bias:weight_decay=0.0\n",
      "11/26 19:27:01 - mmengine - \u001b[4m\u001b[97mINFO\u001b[0m - paramwise_options -- backbone.layers.3.0.se.conv1.conv.bias:weight_decay=0.0\n",
      "11/26 19:27:01 - mmengine - \u001b[4m\u001b[97mINFO\u001b[0m - paramwise_options -- backbone.layers.3.0.se.conv2.conv.bias:weight_decay=0.0\n",
      "11/26 19:27:01 - mmengine - \u001b[4m\u001b[97mINFO\u001b[0m - paramwise_options -- backbone.layers.3.0.linear_conv.bn.weight:weight_decay=0.0\n",
      "11/26 19:27:01 - mmengine - \u001b[4m\u001b[97mINFO\u001b[0m - paramwise_options -- backbone.layers.3.0.linear_conv.bn.bias:weight_decay=0.0\n",
      "11/26 19:27:01 - mmengine - \u001b[4m\u001b[97mINFO\u001b[0m - paramwise_options -- backbone.layers.3.1.expand_conv.bn.weight:weight_decay=0.0\n",
      "11/26 19:27:01 - mmengine - \u001b[4m\u001b[97mINFO\u001b[0m - paramwise_options -- backbone.layers.3.1.expand_conv.bn.bias:weight_decay=0.0\n",
      "11/26 19:27:01 - mmengine - \u001b[4m\u001b[97mINFO\u001b[0m - paramwise_options -- backbone.layers.3.1.depthwise_conv.bn.weight:weight_decay=0.0\n",
      "11/26 19:27:01 - mmengine - \u001b[4m\u001b[97mINFO\u001b[0m - paramwise_options -- backbone.layers.3.1.depthwise_conv.bn.bias:weight_decay=0.0\n",
      "11/26 19:27:01 - mmengine - \u001b[4m\u001b[97mINFO\u001b[0m - paramwise_options -- backbone.layers.3.1.se.conv1.conv.bias:weight_decay=0.0\n",
      "11/26 19:27:01 - mmengine - \u001b[4m\u001b[97mINFO\u001b[0m - paramwise_options -- backbone.layers.3.1.se.conv2.conv.bias:weight_decay=0.0\n",
      "11/26 19:27:01 - mmengine - \u001b[4m\u001b[97mINFO\u001b[0m - paramwise_options -- backbone.layers.3.1.linear_conv.bn.weight:weight_decay=0.0\n",
      "11/26 19:27:01 - mmengine - \u001b[4m\u001b[97mINFO\u001b[0m - paramwise_options -- backbone.layers.3.1.linear_conv.bn.bias:weight_decay=0.0\n",
      "11/26 19:27:01 - mmengine - \u001b[4m\u001b[97mINFO\u001b[0m - paramwise_options -- backbone.layers.4.0.expand_conv.bn.weight:weight_decay=0.0\n",
      "11/26 19:27:01 - mmengine - \u001b[4m\u001b[97mINFO\u001b[0m - paramwise_options -- backbone.layers.4.0.expand_conv.bn.bias:weight_decay=0.0\n",
      "11/26 19:27:01 - mmengine - \u001b[4m\u001b[97mINFO\u001b[0m - paramwise_options -- backbone.layers.4.0.depthwise_conv.bn.weight:weight_decay=0.0\n",
      "11/26 19:27:01 - mmengine - \u001b[4m\u001b[97mINFO\u001b[0m - paramwise_options -- backbone.layers.4.0.depthwise_conv.bn.bias:weight_decay=0.0\n",
      "11/26 19:27:01 - mmengine - \u001b[4m\u001b[97mINFO\u001b[0m - paramwise_options -- backbone.layers.4.0.se.conv1.conv.bias:weight_decay=0.0\n",
      "11/26 19:27:01 - mmengine - \u001b[4m\u001b[97mINFO\u001b[0m - paramwise_options -- backbone.layers.4.0.se.conv2.conv.bias:weight_decay=0.0\n",
      "11/26 19:27:01 - mmengine - \u001b[4m\u001b[97mINFO\u001b[0m - paramwise_options -- backbone.layers.4.0.linear_conv.bn.weight:weight_decay=0.0\n",
      "11/26 19:27:01 - mmengine - \u001b[4m\u001b[97mINFO\u001b[0m - paramwise_options -- backbone.layers.4.0.linear_conv.bn.bias:weight_decay=0.0\n",
      "11/26 19:27:01 - mmengine - \u001b[4m\u001b[97mINFO\u001b[0m - paramwise_options -- backbone.layers.4.1.expand_conv.bn.weight:weight_decay=0.0\n",
      "11/26 19:27:01 - mmengine - \u001b[4m\u001b[97mINFO\u001b[0m - paramwise_options -- backbone.layers.4.1.expand_conv.bn.bias:weight_decay=0.0\n",
      "11/26 19:27:01 - mmengine - \u001b[4m\u001b[97mINFO\u001b[0m - paramwise_options -- backbone.layers.4.1.depthwise_conv.bn.weight:weight_decay=0.0\n",
      "11/26 19:27:01 - mmengine - \u001b[4m\u001b[97mINFO\u001b[0m - paramwise_options -- backbone.layers.4.1.depthwise_conv.bn.bias:weight_decay=0.0\n",
      "11/26 19:27:01 - mmengine - \u001b[4m\u001b[97mINFO\u001b[0m - paramwise_options -- backbone.layers.4.1.se.conv1.conv.bias:weight_decay=0.0\n",
      "11/26 19:27:01 - mmengine - \u001b[4m\u001b[97mINFO\u001b[0m - paramwise_options -- backbone.layers.4.1.se.conv2.conv.bias:weight_decay=0.0\n",
      "11/26 19:27:01 - mmengine - \u001b[4m\u001b[97mINFO\u001b[0m - paramwise_options -- backbone.layers.4.1.linear_conv.bn.weight:weight_decay=0.0\n",
      "11/26 19:27:01 - mmengine - \u001b[4m\u001b[97mINFO\u001b[0m - paramwise_options -- backbone.layers.4.1.linear_conv.bn.bias:weight_decay=0.0\n",
      "11/26 19:27:01 - mmengine - \u001b[4m\u001b[97mINFO\u001b[0m - paramwise_options -- backbone.layers.4.2.expand_conv.bn.weight:weight_decay=0.0\n",
      "11/26 19:27:01 - mmengine - \u001b[4m\u001b[97mINFO\u001b[0m - paramwise_options -- backbone.layers.4.2.expand_conv.bn.bias:weight_decay=0.0\n",
      "11/26 19:27:01 - mmengine - \u001b[4m\u001b[97mINFO\u001b[0m - paramwise_options -- backbone.layers.4.2.depthwise_conv.bn.weight:weight_decay=0.0\n",
      "11/26 19:27:01 - mmengine - \u001b[4m\u001b[97mINFO\u001b[0m - paramwise_options -- backbone.layers.4.2.depthwise_conv.bn.bias:weight_decay=0.0\n",
      "11/26 19:27:01 - mmengine - \u001b[4m\u001b[97mINFO\u001b[0m - paramwise_options -- backbone.layers.4.2.se.conv1.conv.bias:weight_decay=0.0\n",
      "11/26 19:27:01 - mmengine - \u001b[4m\u001b[97mINFO\u001b[0m - paramwise_options -- backbone.layers.4.2.se.conv2.conv.bias:weight_decay=0.0\n",
      "11/26 19:27:01 - mmengine - \u001b[4m\u001b[97mINFO\u001b[0m - paramwise_options -- backbone.layers.4.2.linear_conv.bn.weight:weight_decay=0.0\n",
      "11/26 19:27:01 - mmengine - \u001b[4m\u001b[97mINFO\u001b[0m - paramwise_options -- backbone.layers.4.2.linear_conv.bn.bias:weight_decay=0.0\n",
      "11/26 19:27:01 - mmengine - \u001b[4m\u001b[97mINFO\u001b[0m - paramwise_options -- backbone.layers.4.3.expand_conv.bn.weight:weight_decay=0.0\n",
      "11/26 19:27:01 - mmengine - \u001b[4m\u001b[97mINFO\u001b[0m - paramwise_options -- backbone.layers.4.3.expand_conv.bn.bias:weight_decay=0.0\n",
      "11/26 19:27:01 - mmengine - \u001b[4m\u001b[97mINFO\u001b[0m - paramwise_options -- backbone.layers.4.3.depthwise_conv.bn.weight:weight_decay=0.0\n",
      "11/26 19:27:01 - mmengine - \u001b[4m\u001b[97mINFO\u001b[0m - paramwise_options -- backbone.layers.4.3.depthwise_conv.bn.bias:weight_decay=0.0\n",
      "11/26 19:27:01 - mmengine - \u001b[4m\u001b[97mINFO\u001b[0m - paramwise_options -- backbone.layers.4.3.se.conv1.conv.bias:weight_decay=0.0\n",
      "11/26 19:27:01 - mmengine - \u001b[4m\u001b[97mINFO\u001b[0m - paramwise_options -- backbone.layers.4.3.se.conv2.conv.bias:weight_decay=0.0\n",
      "11/26 19:27:01 - mmengine - \u001b[4m\u001b[97mINFO\u001b[0m - paramwise_options -- backbone.layers.4.3.linear_conv.bn.weight:weight_decay=0.0\n",
      "11/26 19:27:01 - mmengine - \u001b[4m\u001b[97mINFO\u001b[0m - paramwise_options -- backbone.layers.4.3.linear_conv.bn.bias:weight_decay=0.0\n",
      "11/26 19:27:01 - mmengine - \u001b[4m\u001b[97mINFO\u001b[0m - paramwise_options -- backbone.layers.4.4.expand_conv.bn.weight:weight_decay=0.0\n",
      "11/26 19:27:01 - mmengine - \u001b[4m\u001b[97mINFO\u001b[0m - paramwise_options -- backbone.layers.4.4.expand_conv.bn.bias:weight_decay=0.0\n",
      "11/26 19:27:01 - mmengine - \u001b[4m\u001b[97mINFO\u001b[0m - paramwise_options -- backbone.layers.4.4.depthwise_conv.bn.weight:weight_decay=0.0\n",
      "11/26 19:27:01 - mmengine - \u001b[4m\u001b[97mINFO\u001b[0m - paramwise_options -- backbone.layers.4.4.depthwise_conv.bn.bias:weight_decay=0.0\n",
      "11/26 19:27:01 - mmengine - \u001b[4m\u001b[97mINFO\u001b[0m - paramwise_options -- backbone.layers.4.4.se.conv1.conv.bias:weight_decay=0.0\n",
      "11/26 19:27:01 - mmengine - \u001b[4m\u001b[97mINFO\u001b[0m - paramwise_options -- backbone.layers.4.4.se.conv2.conv.bias:weight_decay=0.0\n",
      "11/26 19:27:01 - mmengine - \u001b[4m\u001b[97mINFO\u001b[0m - paramwise_options -- backbone.layers.4.4.linear_conv.bn.weight:weight_decay=0.0\n",
      "11/26 19:27:01 - mmengine - \u001b[4m\u001b[97mINFO\u001b[0m - paramwise_options -- backbone.layers.4.4.linear_conv.bn.bias:weight_decay=0.0\n",
      "11/26 19:27:01 - mmengine - \u001b[4m\u001b[97mINFO\u001b[0m - paramwise_options -- backbone.layers.4.5.expand_conv.bn.weight:weight_decay=0.0\n",
      "11/26 19:27:01 - mmengine - \u001b[4m\u001b[97mINFO\u001b[0m - paramwise_options -- backbone.layers.4.5.expand_conv.bn.bias:weight_decay=0.0\n",
      "11/26 19:27:01 - mmengine - \u001b[4m\u001b[97mINFO\u001b[0m - paramwise_options -- backbone.layers.4.5.depthwise_conv.bn.weight:weight_decay=0.0\n",
      "11/26 19:27:01 - mmengine - \u001b[4m\u001b[97mINFO\u001b[0m - paramwise_options -- backbone.layers.4.5.depthwise_conv.bn.bias:weight_decay=0.0\n",
      "11/26 19:27:01 - mmengine - \u001b[4m\u001b[97mINFO\u001b[0m - paramwise_options -- backbone.layers.4.5.se.conv1.conv.bias:weight_decay=0.0\n",
      "11/26 19:27:01 - mmengine - \u001b[4m\u001b[97mINFO\u001b[0m - paramwise_options -- backbone.layers.4.5.se.conv2.conv.bias:weight_decay=0.0\n",
      "11/26 19:27:01 - mmengine - \u001b[4m\u001b[97mINFO\u001b[0m - paramwise_options -- backbone.layers.4.5.linear_conv.bn.weight:weight_decay=0.0\n",
      "11/26 19:27:01 - mmengine - \u001b[4m\u001b[97mINFO\u001b[0m - paramwise_options -- backbone.layers.4.5.linear_conv.bn.bias:weight_decay=0.0\n",
      "11/26 19:27:01 - mmengine - \u001b[4m\u001b[97mINFO\u001b[0m - paramwise_options -- backbone.layers.5.0.expand_conv.bn.weight:weight_decay=0.0\n",
      "11/26 19:27:01 - mmengine - \u001b[4m\u001b[97mINFO\u001b[0m - paramwise_options -- backbone.layers.5.0.expand_conv.bn.bias:weight_decay=0.0\n",
      "11/26 19:27:01 - mmengine - \u001b[4m\u001b[97mINFO\u001b[0m - paramwise_options -- backbone.layers.5.0.depthwise_conv.bn.weight:weight_decay=0.0\n",
      "11/26 19:27:01 - mmengine - \u001b[4m\u001b[97mINFO\u001b[0m - paramwise_options -- backbone.layers.5.0.depthwise_conv.bn.bias:weight_decay=0.0\n",
      "11/26 19:27:01 - mmengine - \u001b[4m\u001b[97mINFO\u001b[0m - paramwise_options -- backbone.layers.5.0.se.conv1.conv.bias:weight_decay=0.0\n",
      "11/26 19:27:01 - mmengine - \u001b[4m\u001b[97mINFO\u001b[0m - paramwise_options -- backbone.layers.5.0.se.conv2.conv.bias:weight_decay=0.0\n",
      "11/26 19:27:01 - mmengine - \u001b[4m\u001b[97mINFO\u001b[0m - paramwise_options -- backbone.layers.5.0.linear_conv.bn.weight:weight_decay=0.0\n",
      "11/26 19:27:01 - mmengine - \u001b[4m\u001b[97mINFO\u001b[0m - paramwise_options -- backbone.layers.5.0.linear_conv.bn.bias:weight_decay=0.0\n",
      "11/26 19:27:01 - mmengine - \u001b[4m\u001b[97mINFO\u001b[0m - paramwise_options -- backbone.layers.5.1.expand_conv.bn.weight:weight_decay=0.0\n",
      "11/26 19:27:01 - mmengine - \u001b[4m\u001b[97mINFO\u001b[0m - paramwise_options -- backbone.layers.5.1.expand_conv.bn.bias:weight_decay=0.0\n",
      "11/26 19:27:01 - mmengine - \u001b[4m\u001b[97mINFO\u001b[0m - paramwise_options -- backbone.layers.5.1.depthwise_conv.bn.weight:weight_decay=0.0\n",
      "11/26 19:27:01 - mmengine - \u001b[4m\u001b[97mINFO\u001b[0m - paramwise_options -- backbone.layers.5.1.depthwise_conv.bn.bias:weight_decay=0.0\n",
      "11/26 19:27:01 - mmengine - \u001b[4m\u001b[97mINFO\u001b[0m - paramwise_options -- backbone.layers.5.1.se.conv1.conv.bias:weight_decay=0.0\n",
      "11/26 19:27:01 - mmengine - \u001b[4m\u001b[97mINFO\u001b[0m - paramwise_options -- backbone.layers.5.1.se.conv2.conv.bias:weight_decay=0.0\n",
      "11/26 19:27:01 - mmengine - \u001b[4m\u001b[97mINFO\u001b[0m - paramwise_options -- backbone.layers.5.1.linear_conv.bn.weight:weight_decay=0.0\n",
      "11/26 19:27:01 - mmengine - \u001b[4m\u001b[97mINFO\u001b[0m - paramwise_options -- backbone.layers.5.1.linear_conv.bn.bias:weight_decay=0.0\n",
      "11/26 19:27:01 - mmengine - \u001b[4m\u001b[97mINFO\u001b[0m - paramwise_options -- backbone.layers.5.2.expand_conv.bn.weight:weight_decay=0.0\n",
      "11/26 19:27:01 - mmengine - \u001b[4m\u001b[97mINFO\u001b[0m - paramwise_options -- backbone.layers.5.2.expand_conv.bn.bias:weight_decay=0.0\n",
      "11/26 19:27:01 - mmengine - \u001b[4m\u001b[97mINFO\u001b[0m - paramwise_options -- backbone.layers.5.2.depthwise_conv.bn.weight:weight_decay=0.0\n",
      "11/26 19:27:01 - mmengine - \u001b[4m\u001b[97mINFO\u001b[0m - paramwise_options -- backbone.layers.5.2.depthwise_conv.bn.bias:weight_decay=0.0\n",
      "11/26 19:27:01 - mmengine - \u001b[4m\u001b[97mINFO\u001b[0m - paramwise_options -- backbone.layers.5.2.se.conv1.conv.bias:weight_decay=0.0\n",
      "11/26 19:27:01 - mmengine - \u001b[4m\u001b[97mINFO\u001b[0m - paramwise_options -- backbone.layers.5.2.se.conv2.conv.bias:weight_decay=0.0\n",
      "11/26 19:27:01 - mmengine - \u001b[4m\u001b[97mINFO\u001b[0m - paramwise_options -- backbone.layers.5.2.linear_conv.bn.weight:weight_decay=0.0\n",
      "11/26 19:27:01 - mmengine - \u001b[4m\u001b[97mINFO\u001b[0m - paramwise_options -- backbone.layers.5.2.linear_conv.bn.bias:weight_decay=0.0\n",
      "11/26 19:27:01 - mmengine - \u001b[4m\u001b[97mINFO\u001b[0m - paramwise_options -- backbone.layers.5.3.expand_conv.bn.weight:weight_decay=0.0\n",
      "11/26 19:27:01 - mmengine - \u001b[4m\u001b[97mINFO\u001b[0m - paramwise_options -- backbone.layers.5.3.expand_conv.bn.bias:weight_decay=0.0\n",
      "11/26 19:27:01 - mmengine - \u001b[4m\u001b[97mINFO\u001b[0m - paramwise_options -- backbone.layers.5.3.depthwise_conv.bn.weight:weight_decay=0.0\n",
      "11/26 19:27:01 - mmengine - \u001b[4m\u001b[97mINFO\u001b[0m - paramwise_options -- backbone.layers.5.3.depthwise_conv.bn.bias:weight_decay=0.0\n",
      "11/26 19:27:01 - mmengine - \u001b[4m\u001b[97mINFO\u001b[0m - paramwise_options -- backbone.layers.5.3.se.conv1.conv.bias:weight_decay=0.0\n",
      "11/26 19:27:01 - mmengine - \u001b[4m\u001b[97mINFO\u001b[0m - paramwise_options -- backbone.layers.5.3.se.conv2.conv.bias:weight_decay=0.0\n",
      "11/26 19:27:01 - mmengine - \u001b[4m\u001b[97mINFO\u001b[0m - paramwise_options -- backbone.layers.5.3.linear_conv.bn.weight:weight_decay=0.0\n",
      "11/26 19:27:01 - mmengine - \u001b[4m\u001b[97mINFO\u001b[0m - paramwise_options -- backbone.layers.5.3.linear_conv.bn.bias:weight_decay=0.0\n",
      "11/26 19:27:01 - mmengine - \u001b[4m\u001b[97mINFO\u001b[0m - paramwise_options -- backbone.layers.5.4.expand_conv.bn.weight:weight_decay=0.0\n",
      "11/26 19:27:01 - mmengine - \u001b[4m\u001b[97mINFO\u001b[0m - paramwise_options -- backbone.layers.5.4.expand_conv.bn.bias:weight_decay=0.0\n",
      "11/26 19:27:01 - mmengine - \u001b[4m\u001b[97mINFO\u001b[0m - paramwise_options -- backbone.layers.5.4.depthwise_conv.bn.weight:weight_decay=0.0\n",
      "11/26 19:27:01 - mmengine - \u001b[4m\u001b[97mINFO\u001b[0m - paramwise_options -- backbone.layers.5.4.depthwise_conv.bn.bias:weight_decay=0.0\n",
      "11/26 19:27:01 - mmengine - \u001b[4m\u001b[97mINFO\u001b[0m - paramwise_options -- backbone.layers.5.4.se.conv1.conv.bias:weight_decay=0.0\n",
      "11/26 19:27:01 - mmengine - \u001b[4m\u001b[97mINFO\u001b[0m - paramwise_options -- backbone.layers.5.4.se.conv2.conv.bias:weight_decay=0.0\n",
      "11/26 19:27:01 - mmengine - \u001b[4m\u001b[97mINFO\u001b[0m - paramwise_options -- backbone.layers.5.4.linear_conv.bn.weight:weight_decay=0.0\n",
      "11/26 19:27:01 - mmengine - \u001b[4m\u001b[97mINFO\u001b[0m - paramwise_options -- backbone.layers.5.4.linear_conv.bn.bias:weight_decay=0.0\n",
      "11/26 19:27:01 - mmengine - \u001b[4m\u001b[97mINFO\u001b[0m - paramwise_options -- backbone.layers.6.bn.weight:weight_decay=0.0\n",
      "11/26 19:27:01 - mmengine - \u001b[4m\u001b[97mINFO\u001b[0m - paramwise_options -- backbone.layers.6.bn.bias:weight_decay=0.0\n",
      "11/26 19:27:01 - mmengine - \u001b[4m\u001b[97mINFO\u001b[0m - paramwise_options -- head.fc.bias:weight_decay=0.0\n",
      "11/26 19:27:01 - mmengine - \u001b[4m\u001b[97mINFO\u001b[0m - load backbone in model from: https://download.openmmlab.com/mmclassification/v0/efficientnet/efficientnet-b0_3rdparty_8xb32_in1k_20220119-a7e2a0b1.pth\n",
      "Loads checkpoint by http backend from path: https://download.openmmlab.com/mmclassification/v0/efficientnet/efficientnet-b0_3rdparty_8xb32_in1k_20220119-a7e2a0b1.pth\n",
      "11/26 19:27:01 - mmengine - \u001b[5m\u001b[4m\u001b[33mWARNING\u001b[0m - \"FileClient\" will be deprecated in future. Please use io functions in https://mmengine.readthedocs.io/en/latest/api/fileio.html#file-io\n",
      "11/26 19:27:01 - mmengine - \u001b[5m\u001b[4m\u001b[33mWARNING\u001b[0m - \"HardDiskBackend\" is the alias of \"LocalBackend\" and the former will be deprecated in future.\n",
      "11/26 19:27:01 - mmengine - \u001b[4m\u001b[97mINFO\u001b[0m - Checkpoints will be saved to /home/user/mmpretrain/work_dirs/alzheimer/axial/efficientnet_heat.\n",
      "11/26 19:27:06 - mmengine - \u001b[4m\u001b[97mINFO\u001b[0m - Epoch(train)   [1][100/345]  base_lr: 5.8367e-05 lr: 5.8367e-05  eta: 0:27:25  time: 0.0398  data_time: 0.0009  memory: 520  loss: 1.0715\n",
      "11/26 19:27:10 - mmengine - \u001b[4m\u001b[97mINFO\u001b[0m - Epoch(train)   [1][200/345]  base_lr: 1.1631e-04 lr: 1.1631e-04  eta: 0:24:56  time: 0.0397  data_time: 0.0009  memory: 520  loss: 1.0536\n",
      "11/26 19:27:15 - mmengine - \u001b[4m\u001b[97mINFO\u001b[0m - Epoch(train)   [1][300/345]  base_lr: 1.7426e-04 lr: 1.7426e-04  eta: 0:24:56  time: 0.0456  data_time: 0.0009  memory: 520  loss: 0.9782\n",
      "11/26 19:27:17 - mmengine - \u001b[4m\u001b[97mINFO\u001b[0m - Exp name: efficientnetb0_alzheimer_axial_view_heat_20231126_192656\n",
      "11/26 19:27:17 - mmengine - \u001b[4m\u001b[97mINFO\u001b[0m - Saving checkpoint at 1 epochs\n",
      "11/26 19:27:18 - mmengine - \u001b[4m\u001b[97mINFO\u001b[0m - Epoch(val) [1][66/66]    accuracy/top1: 44.3182  accuracy/top3: 100.0000  data_time: 0.0009  time: 0.0108\n",
      "11/26 19:27:22 - mmengine - \u001b[4m\u001b[97mINFO\u001b[0m - Epoch(train)   [2][100/345]  base_lr: 2.5828e-04 lr: 2.5828e-04  eta: 0:24:34  time: 0.0431  data_time: 0.0010  memory: 520  loss: 1.0689\n",
      "11/26 19:27:26 - mmengine - \u001b[4m\u001b[97mINFO\u001b[0m - Epoch(train)   [2][200/345]  base_lr: 3.1623e-04 lr: 3.1623e-04  eta: 0:24:10  time: 0.0403  data_time: 0.0009  memory: 520  loss: 0.9783\n",
      "11/26 19:27:30 - mmengine - \u001b[4m\u001b[97mINFO\u001b[0m - Epoch(train)   [2][300/345]  base_lr: 3.7418e-04 lr: 3.7418e-04  eta: 0:23:55  time: 0.0407  data_time: 0.0009  memory: 520  loss: 1.0271\n",
      "11/26 19:27:32 - mmengine - \u001b[4m\u001b[97mINFO\u001b[0m - Exp name: efficientnetb0_alzheimer_axial_view_heat_20231126_192656\n",
      "11/26 19:27:32 - mmengine - \u001b[4m\u001b[97mINFO\u001b[0m - Saving checkpoint at 2 epochs\n",
      "11/26 19:27:33 - mmengine - \u001b[4m\u001b[97mINFO\u001b[0m - Epoch(val) [2][66/66]    accuracy/top1: 41.2879  accuracy/top3: 100.0000  data_time: 0.0002  time: 0.0099\n",
      "11/26 19:27:37 - mmengine - \u001b[4m\u001b[97mINFO\u001b[0m - Epoch(train)   [3][100/345]  base_lr: 4.5820e-04 lr: 4.5820e-04  eta: 0:23:36  time: 0.0400  data_time: 0.0009  memory: 520  loss: 0.7726\n",
      "11/26 19:27:41 - mmengine - \u001b[4m\u001b[97mINFO\u001b[0m - Epoch(train)   [3][200/345]  base_lr: 5.1615e-04 lr: 5.1615e-04  eta: 0:23:25  time: 0.0400  data_time: 0.0009  memory: 520  loss: 0.9523\n",
      "11/26 19:27:45 - mmengine - \u001b[4m\u001b[97mINFO\u001b[0m - Epoch(train)   [3][300/345]  base_lr: 5.7409e-04 lr: 5.7409e-04  eta: 0:23:15  time: 0.0395  data_time: 0.0010  memory: 520  loss: 0.9423\n",
      "11/26 19:27:45 - mmengine - \u001b[4m\u001b[97mINFO\u001b[0m - Exp name: efficientnetb0_alzheimer_axial_view_heat_20231126_192656\n",
      "11/26 19:27:47 - mmengine - \u001b[4m\u001b[97mINFO\u001b[0m - Exp name: efficientnetb0_alzheimer_axial_view_heat_20231126_192656\n",
      "11/26 19:27:47 - mmengine - \u001b[4m\u001b[97mINFO\u001b[0m - Saving checkpoint at 3 epochs\n",
      "11/26 19:27:48 - mmengine - \u001b[4m\u001b[97mINFO\u001b[0m - Epoch(val) [3][66/66]    accuracy/top1: 56.8182  accuracy/top3: 100.0000  data_time: 0.0002  time: 0.0102\n",
      "11/26 19:27:52 - mmengine - \u001b[4m\u001b[97mINFO\u001b[0m - Epoch(train)   [4][100/345]  base_lr: 6.5811e-04 lr: 6.5811e-04  eta: 0:23:11  time: 0.0421  data_time: 0.0009  memory: 520  loss: 0.9388\n",
      "11/26 19:27:56 - mmengine - \u001b[4m\u001b[97mINFO\u001b[0m - Epoch(train)   [4][200/345]  base_lr: 7.1606e-04 lr: 7.1606e-04  eta: 0:23:09  time: 0.0421  data_time: 0.0009  memory: 520  loss: 0.8833\n",
      "11/26 19:28:00 - mmengine - \u001b[4m\u001b[97mINFO\u001b[0m - Epoch(train)   [4][300/345]  base_lr: 7.7401e-04 lr: 7.7401e-04  eta: 0:23:05  time: 0.0421  data_time: 0.0009  memory: 520  loss: 1.0044\n",
      "11/26 19:28:02 - mmengine - \u001b[4m\u001b[97mINFO\u001b[0m - Exp name: efficientnetb0_alzheimer_axial_view_heat_20231126_192656\n",
      "11/26 19:28:02 - mmengine - \u001b[4m\u001b[97mINFO\u001b[0m - Saving checkpoint at 4 epochs\n",
      "11/26 19:28:03 - mmengine - \u001b[4m\u001b[97mINFO\u001b[0m - Epoch(val) [4][66/66]    accuracy/top1: 59.4697  accuracy/top3: 100.0000  data_time: 0.0002  time: 0.0099\n",
      "11/26 19:28:07 - mmengine - \u001b[4m\u001b[97mINFO\u001b[0m - Epoch(train)   [5][100/345]  base_lr: 8.5803e-04 lr: 8.5803e-04  eta: 0:22:55  time: 0.0406  data_time: 0.0010  memory: 520  loss: 1.0369\n",
      "11/26 19:28:11 - mmengine - \u001b[4m\u001b[97mINFO\u001b[0m - Epoch(train)   [5][200/345]  base_lr: 9.1598e-04 lr: 9.1598e-04  eta: 0:22:52  time: 0.0456  data_time: 0.0009  memory: 520  loss: 0.8965\n",
      "11/26 19:28:16 - mmengine - \u001b[4m\u001b[97mINFO\u001b[0m - Epoch(train)   [5][300/345]  base_lr: 9.7392e-04 lr: 9.7392e-04  eta: 0:22:49  time: 0.0403  data_time: 0.0009  memory: 520  loss: 0.9410\n",
      "11/26 19:28:17 - mmengine - \u001b[4m\u001b[97mINFO\u001b[0m - Exp name: efficientnetb0_alzheimer_axial_view_heat_20231126_192656\n",
      "11/26 19:28:17 - mmengine - \u001b[4m\u001b[97mINFO\u001b[0m - Saving checkpoint at 5 epochs\n",
      "11/26 19:28:18 - mmengine - \u001b[4m\u001b[97mINFO\u001b[0m - Epoch(val) [5][66/66]    accuracy/top1: 52.6515  accuracy/top3: 100.0000  data_time: 0.0002  time: 0.0101\n",
      "11/26 19:28:22 - mmengine - \u001b[4m\u001b[97mINFO\u001b[0m - Epoch(train)   [6][100/345]  base_lr: 1.0000e-03 lr: 1.0000e-03  eta: 0:22:40  time: 0.0425  data_time: 0.0005  memory: 520  loss: 1.0476\n",
      "11/26 19:28:26 - mmengine - \u001b[4m\u001b[97mINFO\u001b[0m - Epoch(train)   [6][200/345]  base_lr: 1.0000e-03 lr: 1.0000e-03  eta: 0:22:34  time: 0.0403  data_time: 0.0007  memory: 520  loss: 0.9811\n",
      "11/26 19:28:30 - mmengine - \u001b[4m\u001b[97mINFO\u001b[0m - Exp name: efficientnetb0_alzheimer_axial_view_heat_20231126_192656\n",
      "11/26 19:28:31 - mmengine - \u001b[4m\u001b[97mINFO\u001b[0m - Epoch(train)   [6][300/345]  base_lr: 1.0000e-03 lr: 1.0000e-03  eta: 0:22:29  time: 0.0402  data_time: 0.0005  memory: 520  loss: 0.9133\n",
      "11/26 19:28:32 - mmengine - \u001b[4m\u001b[97mINFO\u001b[0m - Exp name: efficientnetb0_alzheimer_axial_view_heat_20231126_192656\n",
      "11/26 19:28:32 - mmengine - \u001b[4m\u001b[97mINFO\u001b[0m - Saving checkpoint at 6 epochs\n",
      "11/26 19:28:33 - mmengine - \u001b[4m\u001b[97mINFO\u001b[0m - Epoch(val) [6][66/66]    accuracy/top1: 42.0455  accuracy/top3: 100.0000  data_time: 0.0002  time: 0.0100\n",
      "11/26 19:28:37 - mmengine - \u001b[4m\u001b[97mINFO\u001b[0m - Epoch(train)   [7][100/345]  base_lr: 9.9997e-04 lr: 9.9997e-04  eta: 0:22:20  time: 0.0397  data_time: 0.0005  memory: 520  loss: 1.0484\n",
      "11/26 19:28:41 - mmengine - \u001b[4m\u001b[97mINFO\u001b[0m - Epoch(train)   [7][200/345]  base_lr: 9.9997e-04 lr: 9.9997e-04  eta: 0:22:14  time: 0.0399  data_time: 0.0005  memory: 520  loss: 0.8968\n",
      "11/26 19:28:46 - mmengine - \u001b[4m\u001b[97mINFO\u001b[0m - Epoch(train)   [7][300/345]  base_lr: 9.9997e-04 lr: 9.9997e-04  eta: 0:22:11  time: 0.0395  data_time: 0.0005  memory: 520  loss: 0.9684\n",
      "11/26 19:28:47 - mmengine - \u001b[4m\u001b[97mINFO\u001b[0m - Exp name: efficientnetb0_alzheimer_axial_view_heat_20231126_192656\n",
      "11/26 19:28:47 - mmengine - \u001b[4m\u001b[97mINFO\u001b[0m - Saving checkpoint at 7 epochs\n",
      "11/26 19:28:48 - mmengine - \u001b[4m\u001b[97mINFO\u001b[0m - Epoch(val) [7][66/66]    accuracy/top1: 51.8939  accuracy/top3: 100.0000  data_time: 0.0002  time: 0.0099\n",
      "11/26 19:28:52 - mmengine - \u001b[4m\u001b[97mINFO\u001b[0m - Epoch(train)   [8][100/345]  base_lr: 9.9989e-04 lr: 9.9989e-04  eta: 0:22:02  time: 0.0392  data_time: 0.0005  memory: 520  loss: 0.9183\n",
      "11/26 19:28:56 - mmengine - \u001b[4m\u001b[97mINFO\u001b[0m - Epoch(train)   [8][200/345]  base_lr: 9.9989e-04 lr: 9.9989e-04  eta: 0:21:55  time: 0.0390  data_time: 0.0005  memory: 520  loss: 0.8570\n",
      "11/26 19:29:00 - mmengine - \u001b[4m\u001b[97mINFO\u001b[0m - Epoch(train)   [8][300/345]  base_lr: 9.9989e-04 lr: 9.9989e-04  eta: 0:21:49  time: 0.0403  data_time: 0.0005  memory: 520  loss: 0.8424\n",
      "11/26 19:29:02 - mmengine - \u001b[4m\u001b[97mINFO\u001b[0m - Exp name: efficientnetb0_alzheimer_axial_view_heat_20231126_192656\n",
      "11/26 19:29:02 - mmengine - \u001b[4m\u001b[97mINFO\u001b[0m - Saving checkpoint at 8 epochs\n",
      "11/26 19:29:03 - mmengine - \u001b[4m\u001b[97mINFO\u001b[0m - Epoch(val) [8][66/66]    accuracy/top1: 76.8939  accuracy/top3: 100.0000  data_time: 0.0002  time: 0.0097\n",
      "11/26 19:29:07 - mmengine - \u001b[4m\u001b[97mINFO\u001b[0m - Epoch(train)   [9][100/345]  base_lr: 9.9975e-04 lr: 9.9975e-04  eta: 0:21:39  time: 0.0389  data_time: 0.0005  memory: 520  loss: 0.8713\n",
      "11/26 19:29:11 - mmengine - \u001b[4m\u001b[97mINFO\u001b[0m - Epoch(train)   [9][200/345]  base_lr: 9.9975e-04 lr: 9.9975e-04  eta: 0:21:34  time: 0.0398  data_time: 0.0005  memory: 520  loss: 0.8633\n",
      "11/26 19:29:12 - mmengine - \u001b[4m\u001b[97mINFO\u001b[0m - Exp name: efficientnetb0_alzheimer_axial_view_heat_20231126_192656\n",
      "11/26 19:29:15 - mmengine - \u001b[4m\u001b[97mINFO\u001b[0m - Epoch(train)   [9][300/345]  base_lr: 9.9975e-04 lr: 9.9975e-04  eta: 0:21:29  time: 0.0405  data_time: 0.0005  memory: 520  loss: 0.8513\n",
      "11/26 19:29:17 - mmengine - \u001b[4m\u001b[97mINFO\u001b[0m - Exp name: efficientnetb0_alzheimer_axial_view_heat_20231126_192656\n",
      "11/26 19:29:17 - mmengine - \u001b[4m\u001b[97mINFO\u001b[0m - Saving checkpoint at 9 epochs\n",
      "11/26 19:29:18 - mmengine - \u001b[4m\u001b[97mINFO\u001b[0m - Epoch(val) [9][66/66]    accuracy/top1: 67.8030  accuracy/top3: 100.0000  data_time: 0.0002  time: 0.0102\n",
      "11/26 19:29:22 - mmengine - \u001b[4m\u001b[97mINFO\u001b[0m - Epoch(train)  [10][100/345]  base_lr: 9.9955e-04 lr: 9.9955e-04  eta: 0:21:23  time: 0.0402  data_time: 0.0005  memory: 520  loss: 0.9794\n",
      "11/26 19:29:26 - mmengine - \u001b[4m\u001b[97mINFO\u001b[0m - Epoch(train)  [10][200/345]  base_lr: 9.9955e-04 lr: 9.9955e-04  eta: 0:21:19  time: 0.0437  data_time: 0.0005  memory: 520  loss: 0.8029\n",
      "11/26 19:29:30 - mmengine - \u001b[4m\u001b[97mINFO\u001b[0m - Epoch(train)  [10][300/345]  base_lr: 9.9955e-04 lr: 9.9955e-04  eta: 0:21:17  time: 0.0434  data_time: 0.0005  memory: 520  loss: 0.8599\n",
      "11/26 19:29:32 - mmengine - \u001b[4m\u001b[97mINFO\u001b[0m - Exp name: efficientnetb0_alzheimer_axial_view_heat_20231126_192656\n",
      "11/26 19:29:32 - mmengine - \u001b[4m\u001b[97mINFO\u001b[0m - Saving checkpoint at 10 epochs\n",
      "11/26 19:29:33 - mmengine - \u001b[4m\u001b[97mINFO\u001b[0m - Epoch(val) [10][66/66]    accuracy/top1: 72.3485  accuracy/top3: 100.0000  data_time: 0.0002  time: 0.0118\n",
      "11/26 19:29:37 - mmengine - \u001b[4m\u001b[97mINFO\u001b[0m - Epoch(train)  [11][100/345]  base_lr: 9.9930e-04 lr: 9.9930e-04  eta: 0:21:11  time: 0.0398  data_time: 0.0005  memory: 520  loss: 0.8276\n",
      "11/26 19:29:41 - mmengine - \u001b[4m\u001b[97mINFO\u001b[0m - Epoch(train)  [11][200/345]  base_lr: 9.9930e-04 lr: 9.9930e-04  eta: 0:21:06  time: 0.0389  data_time: 0.0005  memory: 520  loss: 0.8667\n",
      "11/26 19:29:45 - mmengine - \u001b[4m\u001b[97mINFO\u001b[0m - Epoch(train)  [11][300/345]  base_lr: 9.9930e-04 lr: 9.9930e-04  eta: 0:21:00  time: 0.0393  data_time: 0.0005  memory: 520  loss: 0.7283\n",
      "11/26 19:29:47 - mmengine - \u001b[4m\u001b[97mINFO\u001b[0m - Exp name: efficientnetb0_alzheimer_axial_view_heat_20231126_192656\n",
      "11/26 19:29:47 - mmengine - \u001b[4m\u001b[97mINFO\u001b[0m - Saving checkpoint at 11 epochs\n",
      "11/26 19:29:48 - mmengine - \u001b[4m\u001b[97mINFO\u001b[0m - Epoch(val) [11][66/66]    accuracy/top1: 62.5000  accuracy/top3: 100.0000  data_time: 0.0002  time: 0.0099\n",
      "11/26 19:29:52 - mmengine - \u001b[4m\u001b[97mINFO\u001b[0m - Epoch(train)  [12][100/345]  base_lr: 9.9899e-04 lr: 9.9899e-04  eta: 0:20:53  time: 0.0400  data_time: 0.0005  memory: 520  loss: 0.7435\n",
      "11/26 19:29:56 - mmengine - \u001b[4m\u001b[97mINFO\u001b[0m - Epoch(train)  [12][200/345]  base_lr: 9.9899e-04 lr: 9.9899e-04  eta: 0:20:49  time: 0.0395  data_time: 0.0005  memory: 520  loss: 0.7951\n",
      "11/26 19:29:56 - mmengine - \u001b[4m\u001b[97mINFO\u001b[0m - Exp name: efficientnetb0_alzheimer_axial_view_heat_20231126_192656\n",
      "11/26 19:30:00 - mmengine - \u001b[4m\u001b[97mINFO\u001b[0m - Epoch(train)  [12][300/345]  base_lr: 9.9899e-04 lr: 9.9899e-04  eta: 0:20:44  time: 0.0424  data_time: 0.0005  memory: 520  loss: 0.6876\n",
      "11/26 19:30:02 - mmengine - \u001b[4m\u001b[97mINFO\u001b[0m - Exp name: efficientnetb0_alzheimer_axial_view_heat_20231126_192656\n",
      "11/26 19:30:02 - mmengine - \u001b[4m\u001b[97mINFO\u001b[0m - Saving checkpoint at 12 epochs\n",
      "11/26 19:30:03 - mmengine - \u001b[4m\u001b[97mINFO\u001b[0m - Epoch(val) [12][66/66]    accuracy/top1: 76.5152  accuracy/top3: 100.0000  data_time: 0.0002  time: 0.0099\n",
      "11/26 19:30:07 - mmengine - \u001b[4m\u001b[97mINFO\u001b[0m - Epoch(train)  [13][100/345]  base_lr: 9.9863e-04 lr: 9.9863e-04  eta: 0:20:37  time: 0.0392  data_time: 0.0005  memory: 520  loss: 0.8557\n",
      "11/26 19:30:11 - mmengine - \u001b[4m\u001b[97mINFO\u001b[0m - Epoch(train)  [13][200/345]  base_lr: 9.9863e-04 lr: 9.9863e-04  eta: 0:20:32  time: 0.0423  data_time: 0.0005  memory: 520  loss: 0.7216\n",
      "11/26 19:30:15 - mmengine - \u001b[4m\u001b[97mINFO\u001b[0m - Epoch(train)  [13][300/345]  base_lr: 9.9863e-04 lr: 9.9863e-04  eta: 0:20:30  time: 0.0431  data_time: 0.0005  memory: 520  loss: 0.8435\n",
      "11/26 19:30:17 - mmengine - \u001b[4m\u001b[97mINFO\u001b[0m - Exp name: efficientnetb0_alzheimer_axial_view_heat_20231126_192656\n",
      "11/26 19:30:17 - mmengine - \u001b[4m\u001b[97mINFO\u001b[0m - Saving checkpoint at 13 epochs\n",
      "11/26 19:30:18 - mmengine - \u001b[4m\u001b[97mINFO\u001b[0m - Epoch(val) [13][66/66]    accuracy/top1: 77.2727  accuracy/top3: 100.0000  data_time: 0.0002  time: 0.0131\n",
      "11/26 19:30:23 - mmengine - \u001b[4m\u001b[97mINFO\u001b[0m - Epoch(train)  [14][100/345]  base_lr: 9.9820e-04 lr: 9.9820e-04  eta: 0:20:26  time: 0.0427  data_time: 0.0005  memory: 520  loss: 0.8907\n",
      "11/26 19:30:27 - mmengine - \u001b[4m\u001b[97mINFO\u001b[0m - Epoch(train)  [14][200/345]  base_lr: 9.9820e-04 lr: 9.9820e-04  eta: 0:20:24  time: 0.0436  data_time: 0.0005  memory: 520  loss: 0.6368\n",
      "11/26 19:30:31 - mmengine - \u001b[4m\u001b[97mINFO\u001b[0m - Epoch(train)  [14][300/345]  base_lr: 9.9820e-04 lr: 9.9820e-04  eta: 0:20:20  time: 0.0416  data_time: 0.0006  memory: 520  loss: 0.6604\n",
      "11/26 19:30:33 - mmengine - \u001b[4m\u001b[97mINFO\u001b[0m - Exp name: efficientnetb0_alzheimer_axial_view_heat_20231126_192656\n",
      "11/26 19:30:33 - mmengine - \u001b[4m\u001b[97mINFO\u001b[0m - Saving checkpoint at 14 epochs\n",
      "11/26 19:30:34 - mmengine - \u001b[4m\u001b[97mINFO\u001b[0m - Epoch(val) [14][66/66]    accuracy/top1: 79.1667  accuracy/top3: 100.0000  data_time: 0.0002  time: 0.0122\n",
      "11/26 19:30:38 - mmengine - \u001b[4m\u001b[97mINFO\u001b[0m - Epoch(train)  [15][100/345]  base_lr: 9.9773e-04 lr: 9.9773e-04  eta: 0:20:15  time: 0.0384  data_time: 0.0005  memory: 520  loss: 0.8319\n",
      "11/26 19:30:41 - mmengine - \u001b[4m\u001b[97mINFO\u001b[0m - Exp name: efficientnetb0_alzheimer_axial_view_heat_20231126_192656\n",
      "11/26 19:30:43 - mmengine - \u001b[4m\u001b[97mINFO\u001b[0m - Epoch(train)  [15][200/345]  base_lr: 9.9773e-04 lr: 9.9773e-04  eta: 0:20:12  time: 0.0439  data_time: 0.0005  memory: 520  loss: 0.6707\n",
      "11/26 19:30:47 - mmengine - \u001b[4m\u001b[97mINFO\u001b[0m - Epoch(train)  [15][300/345]  base_lr: 9.9773e-04 lr: 9.9773e-04  eta: 0:20:09  time: 0.0428  data_time: 0.0005  memory: 520  loss: 0.8688\n",
      "11/26 19:30:49 - mmengine - \u001b[4m\u001b[97mINFO\u001b[0m - Exp name: efficientnetb0_alzheimer_axial_view_heat_20231126_192656\n",
      "11/26 19:30:49 - mmengine - \u001b[4m\u001b[97mINFO\u001b[0m - Saving checkpoint at 15 epochs\n",
      "11/26 19:30:50 - mmengine - \u001b[4m\u001b[97mINFO\u001b[0m - Epoch(val) [15][66/66]    accuracy/top1: 74.2424  accuracy/top3: 100.0000  data_time: 0.0002  time: 0.0130\n",
      "11/26 19:30:54 - mmengine - \u001b[4m\u001b[97mINFO\u001b[0m - Epoch(train)  [16][100/345]  base_lr: 9.9720e-04 lr: 9.9720e-04  eta: 0:20:02  time: 0.0391  data_time: 0.0005  memory: 520  loss: 0.8132\n",
      "11/26 19:30:58 - mmengine - \u001b[4m\u001b[97mINFO\u001b[0m - Epoch(train)  [16][200/345]  base_lr: 9.9720e-04 lr: 9.9720e-04  eta: 0:19:57  time: 0.0394  data_time: 0.0005  memory: 520  loss: 0.8112\n",
      "11/26 19:31:02 - mmengine - \u001b[4m\u001b[97mINFO\u001b[0m - Epoch(train)  [16][300/345]  base_lr: 9.9720e-04 lr: 9.9720e-04  eta: 0:19:52  time: 0.0378  data_time: 0.0005  memory: 520  loss: 0.6027\n",
      "11/26 19:31:03 - mmengine - \u001b[4m\u001b[97mINFO\u001b[0m - Exp name: efficientnetb0_alzheimer_axial_view_heat_20231126_192656\n",
      "11/26 19:31:03 - mmengine - \u001b[4m\u001b[97mINFO\u001b[0m - Saving checkpoint at 16 epochs\n",
      "11/26 19:31:04 - mmengine - \u001b[4m\u001b[97mINFO\u001b[0m - Epoch(val) [16][66/66]    accuracy/top1: 77.6515  accuracy/top3: 100.0000  data_time: 0.0002  time: 0.0096\n",
      "11/26 19:31:08 - mmengine - \u001b[4m\u001b[97mINFO\u001b[0m - Epoch(train)  [17][100/345]  base_lr: 9.9661e-04 lr: 9.9661e-04  eta: 0:19:44  time: 0.0386  data_time: 0.0005  memory: 520  loss: 0.7764\n",
      "11/26 19:31:12 - mmengine - \u001b[4m\u001b[97mINFO\u001b[0m - Epoch(train)  [17][200/345]  base_lr: 9.9661e-04 lr: 9.9661e-04  eta: 0:19:39  time: 0.0385  data_time: 0.0005  memory: 520  loss: 0.9409\n",
      "11/26 19:31:16 - mmengine - \u001b[4m\u001b[97mINFO\u001b[0m - Epoch(train)  [17][300/345]  base_lr: 9.9661e-04 lr: 9.9661e-04  eta: 0:19:34  time: 0.0390  data_time: 0.0005  memory: 520  loss: 0.8141\n",
      "11/26 19:31:18 - mmengine - \u001b[4m\u001b[97mINFO\u001b[0m - Exp name: efficientnetb0_alzheimer_axial_view_heat_20231126_192656\n",
      "11/26 19:31:18 - mmengine - \u001b[4m\u001b[97mINFO\u001b[0m - Saving checkpoint at 17 epochs\n",
      "11/26 19:31:19 - mmengine - \u001b[4m\u001b[97mINFO\u001b[0m - Epoch(val) [17][66/66]    accuracy/top1: 76.8939  accuracy/top3: 100.0000  data_time: 0.0002  time: 0.0096\n",
      "11/26 19:31:23 - mmengine - \u001b[4m\u001b[97mINFO\u001b[0m - Epoch(train)  [18][100/345]  base_lr: 9.9596e-04 lr: 9.9596e-04  eta: 0:19:26  time: 0.0387  data_time: 0.0005  memory: 520  loss: 0.8449\n",
      "11/26 19:31:24 - mmengine - \u001b[4m\u001b[97mINFO\u001b[0m - Exp name: efficientnetb0_alzheimer_axial_view_heat_20231126_192656\n",
      "11/26 19:31:27 - mmengine - \u001b[4m\u001b[97mINFO\u001b[0m - Epoch(train)  [18][200/345]  base_lr: 9.9596e-04 lr: 9.9596e-04  eta: 0:19:21  time: 0.0382  data_time: 0.0005  memory: 520  loss: 0.6604\n",
      "11/26 19:31:30 - mmengine - \u001b[4m\u001b[97mINFO\u001b[0m - Epoch(train)  [18][300/345]  base_lr: 9.9596e-04 lr: 9.9596e-04  eta: 0:19:16  time: 0.0407  data_time: 0.0006  memory: 520  loss: 0.6344\n",
      "11/26 19:31:32 - mmengine - \u001b[4m\u001b[97mINFO\u001b[0m - Exp name: efficientnetb0_alzheimer_axial_view_heat_20231126_192656\n",
      "11/26 19:31:32 - mmengine - \u001b[4m\u001b[97mINFO\u001b[0m - Saving checkpoint at 18 epochs\n",
      "11/26 19:31:33 - mmengine - \u001b[4m\u001b[97mINFO\u001b[0m - Epoch(val) [18][66/66]    accuracy/top1: 74.6212  accuracy/top3: 100.0000  data_time: 0.0002  time: 0.0096\n",
      "11/26 19:31:37 - mmengine - \u001b[4m\u001b[97mINFO\u001b[0m - Epoch(train)  [19][100/345]  base_lr: 9.9526e-04 lr: 9.9526e-04  eta: 0:19:09  time: 0.0387  data_time: 0.0005  memory: 520  loss: 0.8549\n",
      "11/26 19:31:41 - mmengine - \u001b[4m\u001b[97mINFO\u001b[0m - Epoch(train)  [19][200/345]  base_lr: 9.9526e-04 lr: 9.9526e-04  eta: 0:19:04  time: 0.0388  data_time: 0.0005  memory: 520  loss: 0.7243\n",
      "11/26 19:31:45 - mmengine - \u001b[4m\u001b[97mINFO\u001b[0m - Epoch(train)  [19][300/345]  base_lr: 9.9526e-04 lr: 9.9526e-04  eta: 0:19:00  time: 0.0389  data_time: 0.0005  memory: 520  loss: 0.6538\n",
      "11/26 19:31:47 - mmengine - \u001b[4m\u001b[97mINFO\u001b[0m - Exp name: efficientnetb0_alzheimer_axial_view_heat_20231126_192656\n",
      "11/26 19:31:47 - mmengine - \u001b[4m\u001b[97mINFO\u001b[0m - Saving checkpoint at 19 epochs\n",
      "11/26 19:31:48 - mmengine - \u001b[4m\u001b[97mINFO\u001b[0m - Epoch(val) [19][66/66]    accuracy/top1: 76.1364  accuracy/top3: 100.0000  data_time: 0.0002  time: 0.0097\n",
      "11/26 19:31:52 - mmengine - \u001b[4m\u001b[97mINFO\u001b[0m - Epoch(train)  [20][100/345]  base_lr: 9.9451e-04 lr: 9.9451e-04  eta: 0:18:53  time: 0.0388  data_time: 0.0005  memory: 520  loss: 0.6234\n",
      "11/26 19:31:55 - mmengine - \u001b[4m\u001b[97mINFO\u001b[0m - Epoch(train)  [20][200/345]  base_lr: 9.9451e-04 lr: 9.9451e-04  eta: 0:18:48  time: 0.0389  data_time: 0.0005  memory: 520  loss: 0.7714\n",
      "11/26 19:31:59 - mmengine - \u001b[4m\u001b[97mINFO\u001b[0m - Epoch(train)  [20][300/345]  base_lr: 9.9451e-04 lr: 9.9451e-04  eta: 0:18:44  time: 0.0406  data_time: 0.0005  memory: 520  loss: 0.8228\n",
      "11/26 19:32:01 - mmengine - \u001b[4m\u001b[97mINFO\u001b[0m - Exp name: efficientnetb0_alzheimer_axial_view_heat_20231126_192656\n",
      "11/26 19:32:01 - mmengine - \u001b[4m\u001b[97mINFO\u001b[0m - Saving checkpoint at 20 epochs\n",
      "11/26 19:32:02 - mmengine - \u001b[4m\u001b[97mINFO\u001b[0m - Epoch(val) [20][66/66]    accuracy/top1: 76.1364  accuracy/top3: 100.0000  data_time: 0.0002  time: 0.0097\n",
      "11/26 19:32:06 - mmengine - \u001b[4m\u001b[97mINFO\u001b[0m - Exp name: efficientnetb0_alzheimer_axial_view_heat_20231126_192656\n",
      "11/26 19:32:06 - mmengine - \u001b[4m\u001b[97mINFO\u001b[0m - Epoch(train)  [21][100/345]  base_lr: 9.9370e-04 lr: 9.9370e-04  eta: 0:18:37  time: 0.0389  data_time: 0.0005  memory: 520  loss: 0.7937\n",
      "11/26 19:32:10 - mmengine - \u001b[4m\u001b[97mINFO\u001b[0m - Epoch(train)  [21][200/345]  base_lr: 9.9370e-04 lr: 9.9370e-04  eta: 0:18:32  time: 0.0405  data_time: 0.0006  memory: 520  loss: 0.5172\n",
      "11/26 19:32:14 - mmengine - \u001b[4m\u001b[97mINFO\u001b[0m - Epoch(train)  [21][300/345]  base_lr: 9.9370e-04 lr: 9.9370e-04  eta: 0:18:28  time: 0.0404  data_time: 0.0005  memory: 520  loss: 0.3907\n",
      "11/26 19:32:16 - mmengine - \u001b[4m\u001b[97mINFO\u001b[0m - Exp name: efficientnetb0_alzheimer_axial_view_heat_20231126_192656\n",
      "11/26 19:32:16 - mmengine - \u001b[4m\u001b[97mINFO\u001b[0m - Saving checkpoint at 21 epochs\n",
      "11/26 19:32:17 - mmengine - \u001b[4m\u001b[97mINFO\u001b[0m - Epoch(val) [21][66/66]    accuracy/top1: 67.4242  accuracy/top3: 100.0000  data_time: 0.0002  time: 0.0095\n",
      "11/26 19:32:21 - mmengine - \u001b[4m\u001b[97mINFO\u001b[0m - Epoch(train)  [22][100/345]  base_lr: 9.9283e-04 lr: 9.9283e-04  eta: 0:18:22  time: 0.0396  data_time: 0.0005  memory: 520  loss: 0.6309\n",
      "11/26 19:32:25 - mmengine - \u001b[4m\u001b[97mINFO\u001b[0m - Epoch(train)  [22][200/345]  base_lr: 9.9283e-04 lr: 9.9283e-04  eta: 0:18:18  time: 0.0400  data_time: 0.0005  memory: 520  loss: 0.6811\n",
      "11/26 19:32:29 - mmengine - \u001b[4m\u001b[97mINFO\u001b[0m - Epoch(train)  [22][300/345]  base_lr: 9.9283e-04 lr: 9.9283e-04  eta: 0:18:14  time: 0.0390  data_time: 0.0005  memory: 520  loss: 0.5753\n",
      "11/26 19:32:31 - mmengine - \u001b[4m\u001b[97mINFO\u001b[0m - Exp name: efficientnetb0_alzheimer_axial_view_heat_20231126_192656\n",
      "11/26 19:32:31 - mmengine - \u001b[4m\u001b[97mINFO\u001b[0m - Saving checkpoint at 22 epochs\n",
      "11/26 19:32:32 - mmengine - \u001b[4m\u001b[97mINFO\u001b[0m - Epoch(val) [22][66/66]    accuracy/top1: 78.0303  accuracy/top3: 100.0000  data_time: 0.0002  time: 0.0096\n",
      "11/26 19:32:36 - mmengine - \u001b[4m\u001b[97mINFO\u001b[0m - Epoch(train)  [23][100/345]  base_lr: 9.9191e-04 lr: 9.9191e-04  eta: 0:18:07  time: 0.0385  data_time: 0.0005  memory: 520  loss: 0.6976\n",
      "11/26 19:32:39 - mmengine - \u001b[4m\u001b[97mINFO\u001b[0m - Epoch(train)  [23][200/345]  base_lr: 9.9191e-04 lr: 9.9191e-04  eta: 0:18:03  time: 0.0387  data_time: 0.0005  memory: 520  loss: 0.5417\n",
      "11/26 19:32:43 - mmengine - \u001b[4m\u001b[97mINFO\u001b[0m - Epoch(train)  [23][300/345]  base_lr: 9.9191e-04 lr: 9.9191e-04  eta: 0:17:58  time: 0.0386  data_time: 0.0005  memory: 520  loss: 0.5837\n",
      "11/26 19:32:45 - mmengine - \u001b[4m\u001b[97mINFO\u001b[0m - Exp name: efficientnetb0_alzheimer_axial_view_heat_20231126_192656\n",
      "11/26 19:32:45 - mmengine - \u001b[4m\u001b[97mINFO\u001b[0m - Saving checkpoint at 23 epochs\n",
      "11/26 19:32:46 - mmengine - \u001b[4m\u001b[97mINFO\u001b[0m - Epoch(val) [23][66/66]    accuracy/top1: 82.1970  accuracy/top3: 100.0000  data_time: 0.0002  time: 0.0097\n",
      "11/26 19:32:49 - mmengine - \u001b[4m\u001b[97mINFO\u001b[0m - Exp name: efficientnetb0_alzheimer_axial_view_heat_20231126_192656\n",
      "11/26 19:32:50 - mmengine - \u001b[4m\u001b[97mINFO\u001b[0m - Epoch(train)  [24][100/345]  base_lr: 9.9093e-04 lr: 9.9093e-04  eta: 0:17:52  time: 0.0398  data_time: 0.0006  memory: 520  loss: 0.8105\n",
      "11/26 19:32:54 - mmengine - \u001b[4m\u001b[97mINFO\u001b[0m - Epoch(train)  [24][200/345]  base_lr: 9.9093e-04 lr: 9.9093e-04  eta: 0:17:47  time: 0.0386  data_time: 0.0005  memory: 520  loss: 0.7208\n",
      "11/26 19:32:58 - mmengine - \u001b[4m\u001b[97mINFO\u001b[0m - Epoch(train)  [24][300/345]  base_lr: 9.9093e-04 lr: 9.9093e-04  eta: 0:17:43  time: 0.0384  data_time: 0.0005  memory: 520  loss: 0.4534\n",
      "11/26 19:33:00 - mmengine - \u001b[4m\u001b[97mINFO\u001b[0m - Exp name: efficientnetb0_alzheimer_axial_view_heat_20231126_192656\n",
      "11/26 19:33:00 - mmengine - \u001b[4m\u001b[97mINFO\u001b[0m - Saving checkpoint at 24 epochs\n",
      "11/26 19:33:01 - mmengine - \u001b[4m\u001b[97mINFO\u001b[0m - Epoch(val) [24][66/66]    accuracy/top1: 76.1364  accuracy/top3: 100.0000  data_time: 0.0002  time: 0.0099\n",
      "11/26 19:33:05 - mmengine - \u001b[4m\u001b[97mINFO\u001b[0m - Epoch(train)  [25][100/345]  base_lr: 9.8990e-04 lr: 9.8990e-04  eta: 0:17:37  time: 0.0422  data_time: 0.0005  memory: 520  loss: 0.5197\n",
      "11/26 19:33:09 - mmengine - \u001b[4m\u001b[97mINFO\u001b[0m - Epoch(train)  [25][200/345]  base_lr: 9.8990e-04 lr: 9.8990e-04  eta: 0:17:32  time: 0.0379  data_time: 0.0005  memory: 520  loss: 0.6674\n",
      "11/26 19:33:12 - mmengine - \u001b[4m\u001b[97mINFO\u001b[0m - Epoch(train)  [25][300/345]  base_lr: 9.8990e-04 lr: 9.8990e-04  eta: 0:17:28  time: 0.0384  data_time: 0.0005  memory: 520  loss: 0.6226\n",
      "11/26 19:33:14 - mmengine - \u001b[4m\u001b[97mINFO\u001b[0m - Exp name: efficientnetb0_alzheimer_axial_view_heat_20231126_192656\n",
      "11/26 19:33:14 - mmengine - \u001b[4m\u001b[97mINFO\u001b[0m - Saving checkpoint at 25 epochs\n",
      "11/26 19:33:15 - mmengine - \u001b[4m\u001b[97mINFO\u001b[0m - Epoch(val) [25][66/66]    accuracy/top1: 73.8636  accuracy/top3: 100.0000  data_time: 0.0002  time: 0.0097\n",
      "11/26 19:33:19 - mmengine - \u001b[4m\u001b[97mINFO\u001b[0m - Epoch(train)  [26][100/345]  base_lr: 9.8881e-04 lr: 9.8881e-04  eta: 0:17:21  time: 0.0383  data_time: 0.0005  memory: 520  loss: 0.5562\n",
      "11/26 19:33:23 - mmengine - \u001b[4m\u001b[97mINFO\u001b[0m - Epoch(train)  [26][200/345]  base_lr: 9.8881e-04 lr: 9.8881e-04  eta: 0:17:16  time: 0.0380  data_time: 0.0005  memory: 520  loss: 0.6664\n",
      "11/26 19:33:27 - mmengine - \u001b[4m\u001b[97mINFO\u001b[0m - Epoch(train)  [26][300/345]  base_lr: 9.8881e-04 lr: 9.8881e-04  eta: 0:17:11  time: 0.0379  data_time: 0.0005  memory: 520  loss: 0.6985\n",
      "11/26 19:33:28 - mmengine - \u001b[4m\u001b[97mINFO\u001b[0m - Exp name: efficientnetb0_alzheimer_axial_view_heat_20231126_192656\n",
      "11/26 19:33:28 - mmengine - \u001b[4m\u001b[97mINFO\u001b[0m - Saving checkpoint at 26 epochs\n",
      "11/26 19:33:29 - mmengine - \u001b[4m\u001b[97mINFO\u001b[0m - Epoch(val) [26][66/66]    accuracy/top1: 67.0455  accuracy/top3: 100.0000  data_time: 0.0002  time: 0.0097\n",
      "11/26 19:33:30 - mmengine - \u001b[4m\u001b[97mINFO\u001b[0m - Exp name: efficientnetb0_alzheimer_axial_view_heat_20231126_192656\n",
      "11/26 19:33:33 - mmengine - \u001b[4m\u001b[97mINFO\u001b[0m - Epoch(train)  [27][100/345]  base_lr: 9.8767e-04 lr: 9.8767e-04  eta: 0:17:06  time: 0.0424  data_time: 0.0005  memory: 520  loss: 0.6432\n",
      "11/26 19:33:38 - mmengine - \u001b[4m\u001b[97mINFO\u001b[0m - Epoch(train)  [27][200/345]  base_lr: 9.8767e-04 lr: 9.8767e-04  eta: 0:17:02  time: 0.0417  data_time: 0.0005  memory: 520  loss: 0.8583\n",
      "11/26 19:33:42 - mmengine - \u001b[4m\u001b[97mINFO\u001b[0m - Epoch(train)  [27][300/345]  base_lr: 9.8767e-04 lr: 9.8767e-04  eta: 0:16:58  time: 0.0416  data_time: 0.0005  memory: 520  loss: 0.5966\n",
      "11/26 19:33:44 - mmengine - \u001b[4m\u001b[97mINFO\u001b[0m - Exp name: efficientnetb0_alzheimer_axial_view_heat_20231126_192656\n",
      "11/26 19:33:44 - mmengine - \u001b[4m\u001b[97mINFO\u001b[0m - Saving checkpoint at 27 epochs\n",
      "11/26 19:33:45 - mmengine - \u001b[4m\u001b[97mINFO\u001b[0m - Epoch(val) [27][66/66]    accuracy/top1: 76.8939  accuracy/top3: 100.0000  data_time: 0.0002  time: 0.0129\n",
      "11/26 19:33:49 - mmengine - \u001b[4m\u001b[97mINFO\u001b[0m - Epoch(train)  [28][100/345]  base_lr: 9.8648e-04 lr: 9.8648e-04  eta: 0:16:53  time: 0.0418  data_time: 0.0005  memory: 520  loss: 0.6414\n",
      "11/26 19:33:53 - mmengine - \u001b[4m\u001b[97mINFO\u001b[0m - Epoch(train)  [28][200/345]  base_lr: 9.8648e-04 lr: 9.8648e-04  eta: 0:16:49  time: 0.0416  data_time: 0.0005  memory: 520  loss: 0.4497\n",
      "11/26 19:33:57 - mmengine - \u001b[4m\u001b[97mINFO\u001b[0m - Epoch(train)  [28][300/345]  base_lr: 9.8648e-04 lr: 9.8648e-04  eta: 0:16:46  time: 0.0417  data_time: 0.0005  memory: 520  loss: 0.5961\n",
      "11/26 19:33:59 - mmengine - \u001b[4m\u001b[97mINFO\u001b[0m - Exp name: efficientnetb0_alzheimer_axial_view_heat_20231126_192656\n",
      "11/26 19:33:59 - mmengine - \u001b[4m\u001b[97mINFO\u001b[0m - Saving checkpoint at 28 epochs\n",
      "11/26 19:34:00 - mmengine - \u001b[4m\u001b[97mINFO\u001b[0m - Epoch(val) [28][66/66]    accuracy/top1: 86.3636  accuracy/top3: 100.0000  data_time: 0.0002  time: 0.0122\n",
      "11/26 19:34:04 - mmengine - \u001b[4m\u001b[97mINFO\u001b[0m - Epoch(train)  [29][100/345]  base_lr: 9.8523e-04 lr: 9.8523e-04  eta: 0:16:39  time: 0.0381  data_time: 0.0005  memory: 520  loss: 0.5271\n",
      "11/26 19:34:08 - mmengine - \u001b[4m\u001b[97mINFO\u001b[0m - Epoch(train)  [29][200/345]  base_lr: 9.8523e-04 lr: 9.8523e-04  eta: 0:16:35  time: 0.0388  data_time: 0.0005  memory: 520  loss: 0.5124\n",
      "11/26 19:34:12 - mmengine - \u001b[4m\u001b[97mINFO\u001b[0m - Epoch(train)  [29][300/345]  base_lr: 9.8523e-04 lr: 9.8523e-04  eta: 0:16:30  time: 0.0382  data_time: 0.0005  memory: 520  loss: 0.5599\n",
      "11/26 19:34:13 - mmengine - \u001b[4m\u001b[97mINFO\u001b[0m - Exp name: efficientnetb0_alzheimer_axial_view_heat_20231126_192656\n",
      "11/26 19:34:14 - mmengine - \u001b[4m\u001b[97mINFO\u001b[0m - Exp name: efficientnetb0_alzheimer_axial_view_heat_20231126_192656\n",
      "11/26 19:34:14 - mmengine - \u001b[4m\u001b[97mINFO\u001b[0m - Saving checkpoint at 29 epochs\n",
      "11/26 19:34:15 - mmengine - \u001b[4m\u001b[97mINFO\u001b[0m - Epoch(val) [29][66/66]    accuracy/top1: 82.9545  accuracy/top3: 100.0000  data_time: 0.0002  time: 0.0095\n",
      "11/26 19:34:18 - mmengine - \u001b[4m\u001b[97mINFO\u001b[0m - Epoch(train)  [30][100/345]  base_lr: 9.8392e-04 lr: 9.8392e-04  eta: 0:16:24  time: 0.0381  data_time: 0.0005  memory: 520  loss: 0.4786\n",
      "11/26 19:34:22 - mmengine - \u001b[4m\u001b[97mINFO\u001b[0m - Epoch(train)  [30][200/345]  base_lr: 9.8392e-04 lr: 9.8392e-04  eta: 0:16:19  time: 0.0379  data_time: 0.0005  memory: 520  loss: 0.8653\n",
      "11/26 19:34:26 - mmengine - \u001b[4m\u001b[97mINFO\u001b[0m - Epoch(train)  [30][300/345]  base_lr: 9.8392e-04 lr: 9.8392e-04  eta: 0:16:15  time: 0.0384  data_time: 0.0006  memory: 520  loss: 0.4569\n",
      "11/26 19:34:28 - mmengine - \u001b[4m\u001b[97mINFO\u001b[0m - Exp name: efficientnetb0_alzheimer_axial_view_heat_20231126_192656\n",
      "11/26 19:34:28 - mmengine - \u001b[4m\u001b[97mINFO\u001b[0m - Saving checkpoint at 30 epochs\n",
      "11/26 19:34:29 - mmengine - \u001b[4m\u001b[97mINFO\u001b[0m - Epoch(val) [30][66/66]    accuracy/top1: 85.9848  accuracy/top3: 100.0000  data_time: 0.0002  time: 0.0102\n",
      "11/26 19:34:33 - mmengine - \u001b[4m\u001b[97mINFO\u001b[0m - Epoch(train)  [31][100/345]  base_lr: 9.8256e-04 lr: 9.8256e-04  eta: 0:16:09  time: 0.0424  data_time: 0.0006  memory: 520  loss: 0.5661\n",
      "11/26 19:34:37 - mmengine - \u001b[4m\u001b[97mINFO\u001b[0m - Epoch(train)  [31][200/345]  base_lr: 9.8256e-04 lr: 9.8256e-04  eta: 0:16:05  time: 0.0489  data_time: 0.0008  memory: 520  loss: 0.4951\n",
      "11/26 19:34:42 - mmengine - \u001b[4m\u001b[97mINFO\u001b[0m - Epoch(train)  [31][300/345]  base_lr: 9.8256e-04 lr: 9.8256e-04  eta: 0:16:02  time: 0.0444  data_time: 0.0006  memory: 520  loss: 0.7157\n",
      "11/26 19:34:44 - mmengine - \u001b[4m\u001b[97mINFO\u001b[0m - Exp name: efficientnetb0_alzheimer_axial_view_heat_20231126_192656\n",
      "11/26 19:34:44 - mmengine - \u001b[4m\u001b[97mINFO\u001b[0m - Saving checkpoint at 31 epochs\n",
      "11/26 19:34:45 - mmengine - \u001b[4m\u001b[97mINFO\u001b[0m - Epoch(val) [31][66/66]    accuracy/top1: 76.5152  accuracy/top3: 100.0000  data_time: 0.0002  time: 0.0103\n",
      "11/26 19:34:49 - mmengine - \u001b[4m\u001b[97mINFO\u001b[0m - Epoch(train)  [32][100/345]  base_lr: 9.8115e-04 lr: 9.8115e-04  eta: 0:15:57  time: 0.0394  data_time: 0.0006  memory: 520  loss: 0.4186\n",
      "11/26 19:34:53 - mmengine - \u001b[4m\u001b[97mINFO\u001b[0m - Epoch(train)  [32][200/345]  base_lr: 9.8115e-04 lr: 9.8115e-04  eta: 0:15:53  time: 0.0397  data_time: 0.0006  memory: 520  loss: 0.5345\n",
      "11/26 19:34:57 - mmengine - \u001b[4m\u001b[97mINFO\u001b[0m - Epoch(train)  [32][300/345]  base_lr: 9.8115e-04 lr: 9.8115e-04  eta: 0:15:49  time: 0.0405  data_time: 0.0006  memory: 520  loss: 0.6057\n",
      "11/26 19:34:57 - mmengine - \u001b[4m\u001b[97mINFO\u001b[0m - Exp name: efficientnetb0_alzheimer_axial_view_heat_20231126_192656\n",
      "11/26 19:34:59 - mmengine - \u001b[4m\u001b[97mINFO\u001b[0m - Exp name: efficientnetb0_alzheimer_axial_view_heat_20231126_192656\n",
      "11/26 19:34:59 - mmengine - \u001b[4m\u001b[97mINFO\u001b[0m - Saving checkpoint at 32 epochs\n",
      "11/26 19:35:00 - mmengine - \u001b[4m\u001b[97mINFO\u001b[0m - Epoch(val) [32][66/66]    accuracy/top1: 88.2576  accuracy/top3: 100.0000  data_time: 0.0004  time: 0.0101\n",
      "11/26 19:35:04 - mmengine - \u001b[4m\u001b[97mINFO\u001b[0m - Epoch(train)  [33][100/345]  base_lr: 9.7968e-04 lr: 9.7968e-04  eta: 0:15:43  time: 0.0396  data_time: 0.0006  memory: 520  loss: 0.6272\n",
      "11/26 19:35:08 - mmengine - \u001b[4m\u001b[97mINFO\u001b[0m - Epoch(train)  [33][200/345]  base_lr: 9.7968e-04 lr: 9.7968e-04  eta: 0:15:39  time: 0.0423  data_time: 0.0006  memory: 520  loss: 0.6431\n",
      "11/26 19:35:12 - mmengine - \u001b[4m\u001b[97mINFO\u001b[0m - Epoch(train)  [33][300/345]  base_lr: 9.7968e-04 lr: 9.7968e-04  eta: 0:15:35  time: 0.0391  data_time: 0.0006  memory: 520  loss: 0.5760\n",
      "11/26 19:35:13 - mmengine - \u001b[4m\u001b[97mINFO\u001b[0m - Exp name: efficientnetb0_alzheimer_axial_view_heat_20231126_192656\n",
      "11/26 19:35:13 - mmengine - \u001b[4m\u001b[97mINFO\u001b[0m - Saving checkpoint at 33 epochs\n",
      "11/26 19:35:14 - mmengine - \u001b[4m\u001b[97mINFO\u001b[0m - Epoch(val) [33][66/66]    accuracy/top1: 82.5758  accuracy/top3: 100.0000  data_time: 0.0002  time: 0.0107\n",
      "11/26 19:35:19 - mmengine - \u001b[4m\u001b[97mINFO\u001b[0m - Epoch(train)  [34][100/345]  base_lr: 9.7816e-04 lr: 9.7816e-04  eta: 0:15:29  time: 0.0398  data_time: 0.0007  memory: 520  loss: 0.5802\n",
      "11/26 19:35:23 - mmengine - \u001b[4m\u001b[97mINFO\u001b[0m - Epoch(train)  [34][200/345]  base_lr: 9.7816e-04 lr: 9.7816e-04  eta: 0:15:25  time: 0.0395  data_time: 0.0006  memory: 520  loss: 0.6881\n",
      "11/26 19:35:26 - mmengine - \u001b[4m\u001b[97mINFO\u001b[0m - Epoch(train)  [34][300/345]  base_lr: 9.7816e-04 lr: 9.7816e-04  eta: 0:15:20  time: 0.0390  data_time: 0.0006  memory: 520  loss: 0.4537\n",
      "11/26 19:35:28 - mmengine - \u001b[4m\u001b[97mINFO\u001b[0m - Exp name: efficientnetb0_alzheimer_axial_view_heat_20231126_192656\n",
      "11/26 19:35:28 - mmengine - \u001b[4m\u001b[97mINFO\u001b[0m - Saving checkpoint at 34 epochs\n",
      "11/26 19:35:29 - mmengine - \u001b[4m\u001b[97mINFO\u001b[0m - Epoch(val) [34][66/66]    accuracy/top1: 84.4697  accuracy/top3: 100.0000  data_time: 0.0002  time: 0.0098\n",
      "11/26 19:35:33 - mmengine - \u001b[4m\u001b[97mINFO\u001b[0m - Epoch(train)  [35][100/345]  base_lr: 9.7658e-04 lr: 9.7658e-04  eta: 0:15:14  time: 0.0415  data_time: 0.0006  memory: 520  loss: 0.6458\n",
      "11/26 19:35:37 - mmengine - \u001b[4m\u001b[97mINFO\u001b[0m - Epoch(train)  [35][200/345]  base_lr: 9.7658e-04 lr: 9.7658e-04  eta: 0:15:10  time: 0.0398  data_time: 0.0006  memory: 520  loss: 0.6444\n",
      "11/26 19:35:40 - mmengine - \u001b[4m\u001b[97mINFO\u001b[0m - Exp name: efficientnetb0_alzheimer_axial_view_heat_20231126_192656\n",
      "11/26 19:35:41 - mmengine - \u001b[4m\u001b[97mINFO\u001b[0m - Epoch(train)  [35][300/345]  base_lr: 9.7658e-04 lr: 9.7658e-04  eta: 0:15:06  time: 0.0386  data_time: 0.0006  memory: 520  loss: 0.3327\n",
      "11/26 19:35:43 - mmengine - \u001b[4m\u001b[97mINFO\u001b[0m - Exp name: efficientnetb0_alzheimer_axial_view_heat_20231126_192656\n",
      "11/26 19:35:43 - mmengine - \u001b[4m\u001b[97mINFO\u001b[0m - Saving checkpoint at 35 epochs\n",
      "11/26 19:35:44 - mmengine - \u001b[4m\u001b[97mINFO\u001b[0m - Epoch(val) [35][66/66]    accuracy/top1: 82.9545  accuracy/top3: 100.0000  data_time: 0.0002  time: 0.0102\n",
      "11/26 19:35:48 - mmengine - \u001b[4m\u001b[97mINFO\u001b[0m - Epoch(train)  [36][100/345]  base_lr: 9.7495e-04 lr: 9.7495e-04  eta: 0:15:00  time: 0.0399  data_time: 0.0007  memory: 520  loss: 0.4389\n",
      "11/26 19:35:52 - mmengine - \u001b[4m\u001b[97mINFO\u001b[0m - Epoch(train)  [36][200/345]  base_lr: 9.7495e-04 lr: 9.7495e-04  eta: 0:14:56  time: 0.0416  data_time: 0.0006  memory: 520  loss: 0.4394\n",
      "11/26 19:35:56 - mmengine - \u001b[4m\u001b[97mINFO\u001b[0m - Epoch(train)  [36][300/345]  base_lr: 9.7495e-04 lr: 9.7495e-04  eta: 0:14:52  time: 0.0400  data_time: 0.0006  memory: 520  loss: 0.5662\n",
      "11/26 19:35:58 - mmengine - \u001b[4m\u001b[97mINFO\u001b[0m - Exp name: efficientnetb0_alzheimer_axial_view_heat_20231126_192656\n",
      "11/26 19:35:58 - mmengine - \u001b[4m\u001b[97mINFO\u001b[0m - Saving checkpoint at 36 epochs\n",
      "11/26 19:35:59 - mmengine - \u001b[4m\u001b[97mINFO\u001b[0m - Epoch(val) [36][66/66]    accuracy/top1: 89.3939  accuracy/top3: 100.0000  data_time: 0.0002  time: 0.0101\n",
      "11/26 19:36:03 - mmengine - \u001b[4m\u001b[97mINFO\u001b[0m - Epoch(train)  [37][100/345]  base_lr: 9.7327e-04 lr: 9.7327e-04  eta: 0:14:46  time: 0.0398  data_time: 0.0006  memory: 520  loss: 0.3683\n",
      "11/26 19:36:07 - mmengine - \u001b[4m\u001b[97mINFO\u001b[0m - Epoch(train)  [37][200/345]  base_lr: 9.7327e-04 lr: 9.7327e-04  eta: 0:14:42  time: 0.0395  data_time: 0.0006  memory: 520  loss: 0.5472\n",
      "11/26 19:36:11 - mmengine - \u001b[4m\u001b[97mINFO\u001b[0m - Epoch(train)  [37][300/345]  base_lr: 9.7327e-04 lr: 9.7327e-04  eta: 0:14:38  time: 0.0409  data_time: 0.0006  memory: 520  loss: 0.5854\n",
      "11/26 19:36:13 - mmengine - \u001b[4m\u001b[97mINFO\u001b[0m - Exp name: efficientnetb0_alzheimer_axial_view_heat_20231126_192656\n",
      "11/26 19:36:13 - mmengine - \u001b[4m\u001b[97mINFO\u001b[0m - Saving checkpoint at 37 epochs\n",
      "11/26 19:36:14 - mmengine - \u001b[4m\u001b[97mINFO\u001b[0m - Epoch(val) [37][66/66]    accuracy/top1: 79.9242  accuracy/top3: 100.0000  data_time: 0.0002  time: 0.0098\n",
      "11/26 19:36:18 - mmengine - \u001b[4m\u001b[97mINFO\u001b[0m - Epoch(train)  [38][100/345]  base_lr: 9.7153e-04 lr: 9.7153e-04  eta: 0:14:32  time: 0.0411  data_time: 0.0006  memory: 520  loss: 0.6493\n",
      "11/26 19:36:22 - mmengine - \u001b[4m\u001b[97mINFO\u001b[0m - Epoch(train)  [38][200/345]  base_lr: 9.7153e-04 lr: 9.7153e-04  eta: 0:14:29  time: 0.0424  data_time: 0.0007  memory: 520  loss: 0.5296\n",
      "11/26 19:36:24 - mmengine - \u001b[4m\u001b[97mINFO\u001b[0m - Exp name: efficientnetb0_alzheimer_axial_view_heat_20231126_192656\n",
      "11/26 19:36:27 - mmengine - \u001b[4m\u001b[97mINFO\u001b[0m - Epoch(train)  [38][300/345]  base_lr: 9.7153e-04 lr: 9.7153e-04  eta: 0:14:25  time: 0.0455  data_time: 0.0007  memory: 520  loss: 0.6004\n",
      "11/26 19:36:29 - mmengine - \u001b[4m\u001b[97mINFO\u001b[0m - Exp name: efficientnetb0_alzheimer_axial_view_heat_20231126_192656\n",
      "11/26 19:36:29 - mmengine - \u001b[4m\u001b[97mINFO\u001b[0m - Saving checkpoint at 38 epochs\n",
      "11/26 19:36:29 - mmengine - \u001b[4m\u001b[97mINFO\u001b[0m - Epoch(val) [38][66/66]    accuracy/top1: 80.3030  accuracy/top3: 100.0000  data_time: 0.0002  time: 0.0096\n",
      "11/26 19:36:33 - mmengine - \u001b[4m\u001b[97mINFO\u001b[0m - Epoch(train)  [39][100/345]  base_lr: 9.6975e-04 lr: 9.6975e-04  eta: 0:14:20  time: 0.0387  data_time: 0.0005  memory: 520  loss: 0.5827\n",
      "11/26 19:36:37 - mmengine - \u001b[4m\u001b[97mINFO\u001b[0m - Epoch(train)  [39][200/345]  base_lr: 9.6975e-04 lr: 9.6975e-04  eta: 0:14:16  time: 0.0399  data_time: 0.0006  memory: 520  loss: 0.5645\n",
      "11/26 19:36:41 - mmengine - \u001b[4m\u001b[97mINFO\u001b[0m - Epoch(train)  [39][300/345]  base_lr: 9.6975e-04 lr: 9.6975e-04  eta: 0:14:11  time: 0.0393  data_time: 0.0006  memory: 520  loss: 0.5620\n",
      "11/26 19:36:43 - mmengine - \u001b[4m\u001b[97mINFO\u001b[0m - Exp name: efficientnetb0_alzheimer_axial_view_heat_20231126_192656\n",
      "11/26 19:36:43 - mmengine - \u001b[4m\u001b[97mINFO\u001b[0m - Saving checkpoint at 39 epochs\n",
      "11/26 19:36:44 - mmengine - \u001b[4m\u001b[97mINFO\u001b[0m - Epoch(val) [39][66/66]    accuracy/top1: 80.6818  accuracy/top3: 100.0000  data_time: 0.0002  time: 0.0098\n",
      "11/26 19:36:48 - mmengine - \u001b[4m\u001b[97mINFO\u001b[0m - Epoch(train)  [40][100/345]  base_lr: 9.6790e-04 lr: 9.6790e-04  eta: 0:14:05  time: 0.0404  data_time: 0.0006  memory: 520  loss: 0.6120\n",
      "11/26 19:36:52 - mmengine - \u001b[4m\u001b[97mINFO\u001b[0m - Epoch(train)  [40][200/345]  base_lr: 9.6790e-04 lr: 9.6790e-04  eta: 0:14:01  time: 0.0395  data_time: 0.0006  memory: 520  loss: 0.4520\n",
      "11/26 19:36:56 - mmengine - \u001b[4m\u001b[97mINFO\u001b[0m - Epoch(train)  [40][300/345]  base_lr: 9.6790e-04 lr: 9.6790e-04  eta: 0:13:57  time: 0.0396  data_time: 0.0006  memory: 520  loss: 0.4708\n",
      "11/26 19:36:58 - mmengine - \u001b[4m\u001b[97mINFO\u001b[0m - Exp name: efficientnetb0_alzheimer_axial_view_heat_20231126_192656\n",
      "11/26 19:36:58 - mmengine - \u001b[4m\u001b[97mINFO\u001b[0m - Saving checkpoint at 40 epochs\n",
      "11/26 19:36:59 - mmengine - \u001b[4m\u001b[97mINFO\u001b[0m - Epoch(val) [40][66/66]    accuracy/top1: 83.3333  accuracy/top3: 100.0000  data_time: 0.0002  time: 0.0130\n",
      "11/26 19:37:04 - mmengine - \u001b[4m\u001b[97mINFO\u001b[0m - Epoch(train)  [41][100/345]  base_lr: 9.6601e-04 lr: 9.6601e-04  eta: 0:13:52  time: 0.0435  data_time: 0.0006  memory: 520  loss: 0.5511\n",
      "11/26 19:37:08 - mmengine - \u001b[4m\u001b[97mINFO\u001b[0m - Exp name: efficientnetb0_alzheimer_axial_view_heat_20231126_192656\n",
      "11/26 19:37:08 - mmengine - \u001b[4m\u001b[97mINFO\u001b[0m - Epoch(train)  [41][200/345]  base_lr: 9.6601e-04 lr: 9.6601e-04  eta: 0:13:48  time: 0.0386  data_time: 0.0005  memory: 520  loss: 0.6887\n",
      "11/26 19:37:11 - mmengine - \u001b[4m\u001b[97mINFO\u001b[0m - Epoch(train)  [41][300/345]  base_lr: 9.6601e-04 lr: 9.6601e-04  eta: 0:13:44  time: 0.0398  data_time: 0.0006  memory: 520  loss: 0.4472\n",
      "11/26 19:37:13 - mmengine - \u001b[4m\u001b[97mINFO\u001b[0m - Exp name: efficientnetb0_alzheimer_axial_view_heat_20231126_192656\n",
      "11/26 19:37:13 - mmengine - \u001b[4m\u001b[97mINFO\u001b[0m - Saving checkpoint at 41 epochs\n",
      "11/26 19:37:14 - mmengine - \u001b[4m\u001b[97mINFO\u001b[0m - Epoch(val) [41][66/66]    accuracy/top1: 84.0909  accuracy/top3: 100.0000  data_time: 0.0002  time: 0.0106\n",
      "11/26 19:37:18 - mmengine - \u001b[4m\u001b[97mINFO\u001b[0m - Epoch(train)  [42][100/345]  base_lr: 9.6407e-04 lr: 9.6407e-04  eta: 0:13:38  time: 0.0394  data_time: 0.0006  memory: 520  loss: 0.4433\n",
      "11/26 19:37:22 - mmengine - \u001b[4m\u001b[97mINFO\u001b[0m - Epoch(train)  [42][200/345]  base_lr: 9.6407e-04 lr: 9.6407e-04  eta: 0:13:33  time: 0.0388  data_time: 0.0005  memory: 520  loss: 0.5185\n",
      "11/26 19:37:26 - mmengine - \u001b[4m\u001b[97mINFO\u001b[0m - Epoch(train)  [42][300/345]  base_lr: 9.6407e-04 lr: 9.6407e-04  eta: 0:13:29  time: 0.0386  data_time: 0.0005  memory: 520  loss: 0.4269\n",
      "11/26 19:37:28 - mmengine - \u001b[4m\u001b[97mINFO\u001b[0m - Exp name: efficientnetb0_alzheimer_axial_view_heat_20231126_192656\n",
      "11/26 19:37:28 - mmengine - \u001b[4m\u001b[97mINFO\u001b[0m - Saving checkpoint at 42 epochs\n",
      "11/26 19:37:29 - mmengine - \u001b[4m\u001b[97mINFO\u001b[0m - Epoch(val) [42][66/66]    accuracy/top1: 84.8485  accuracy/top3: 100.0000  data_time: 0.0002  time: 0.0097\n",
      "11/26 19:37:33 - mmengine - \u001b[4m\u001b[97mINFO\u001b[0m - Epoch(train)  [43][100/345]  base_lr: 9.6207e-04 lr: 9.6207e-04  eta: 0:13:23  time: 0.0400  data_time: 0.0006  memory: 520  loss: 0.6630\n",
      "11/26 19:37:37 - mmengine - \u001b[4m\u001b[97mINFO\u001b[0m - Epoch(train)  [43][200/345]  base_lr: 9.6207e-04 lr: 9.6207e-04  eta: 0:13:19  time: 0.0399  data_time: 0.0006  memory: 520  loss: 0.4045\n",
      "11/26 19:37:41 - mmengine - \u001b[4m\u001b[97mINFO\u001b[0m - Epoch(train)  [43][300/345]  base_lr: 9.6207e-04 lr: 9.6207e-04  eta: 0:13:15  time: 0.0394  data_time: 0.0006  memory: 520  loss: 0.4712\n",
      "11/26 19:37:43 - mmengine - \u001b[4m\u001b[97mINFO\u001b[0m - Exp name: efficientnetb0_alzheimer_axial_view_heat_20231126_192656\n",
      "11/26 19:37:43 - mmengine - \u001b[4m\u001b[97mINFO\u001b[0m - Saving checkpoint at 43 epochs\n",
      "11/26 19:37:44 - mmengine - \u001b[4m\u001b[97mINFO\u001b[0m - Epoch(val) [43][66/66]    accuracy/top1: 90.9091  accuracy/top3: 100.0000  data_time: 0.0002  time: 0.0107\n",
      "11/26 19:37:48 - mmengine - \u001b[4m\u001b[97mINFO\u001b[0m - Epoch(train)  [44][100/345]  base_lr: 9.6002e-04 lr: 9.6002e-04  eta: 0:13:09  time: 0.0389  data_time: 0.0005  memory: 520  loss: 0.4855\n",
      "11/26 19:37:50 - mmengine - \u001b[4m\u001b[97mINFO\u001b[0m - Exp name: efficientnetb0_alzheimer_axial_view_heat_20231126_192656\n",
      "11/26 19:37:52 - mmengine - \u001b[4m\u001b[97mINFO\u001b[0m - Epoch(train)  [44][200/345]  base_lr: 9.6002e-04 lr: 9.6002e-04  eta: 0:13:05  time: 0.0391  data_time: 0.0006  memory: 520  loss: 0.3989\n",
      "11/26 19:37:55 - mmengine - \u001b[4m\u001b[97mINFO\u001b[0m - Epoch(train)  [44][300/345]  base_lr: 9.6002e-04 lr: 9.6002e-04  eta: 0:13:01  time: 0.0389  data_time: 0.0005  memory: 520  loss: 0.4737\n",
      "11/26 19:37:57 - mmengine - \u001b[4m\u001b[97mINFO\u001b[0m - Exp name: efficientnetb0_alzheimer_axial_view_heat_20231126_192656\n",
      "11/26 19:37:57 - mmengine - \u001b[4m\u001b[97mINFO\u001b[0m - Saving checkpoint at 44 epochs\n",
      "11/26 19:37:58 - mmengine - \u001b[4m\u001b[97mINFO\u001b[0m - Epoch(val) [44][66/66]    accuracy/top1: 85.6061  accuracy/top3: 100.0000  data_time: 0.0002  time: 0.0098\n",
      "11/26 19:38:02 - mmengine - \u001b[4m\u001b[97mINFO\u001b[0m - Epoch(train)  [45][100/345]  base_lr: 9.5792e-04 lr: 9.5792e-04  eta: 0:12:55  time: 0.0388  data_time: 0.0006  memory: 520  loss: 0.5709\n",
      "11/26 19:38:06 - mmengine - \u001b[4m\u001b[97mINFO\u001b[0m - Epoch(train)  [45][200/345]  base_lr: 9.5792e-04 lr: 9.5792e-04  eta: 0:12:51  time: 0.0407  data_time: 0.0006  memory: 520  loss: 0.5785\n",
      "11/26 19:38:10 - mmengine - \u001b[4m\u001b[97mINFO\u001b[0m - Epoch(train)  [45][300/345]  base_lr: 9.5792e-04 lr: 9.5792e-04  eta: 0:12:47  time: 0.0391  data_time: 0.0005  memory: 520  loss: 0.3670\n",
      "11/26 19:38:12 - mmengine - \u001b[4m\u001b[97mINFO\u001b[0m - Exp name: efficientnetb0_alzheimer_axial_view_heat_20231126_192656\n",
      "11/26 19:38:12 - mmengine - \u001b[4m\u001b[97mINFO\u001b[0m - Saving checkpoint at 45 epochs\n",
      "11/26 19:38:13 - mmengine - \u001b[4m\u001b[97mINFO\u001b[0m - Epoch(val) [45][66/66]    accuracy/top1: 89.0152  accuracy/top3: 100.0000  data_time: 0.0002  time: 0.0098\n",
      "11/26 19:38:17 - mmengine - \u001b[4m\u001b[97mINFO\u001b[0m - Epoch(train)  [46][100/345]  base_lr: 9.5576e-04 lr: 9.5576e-04  eta: 0:12:41  time: 0.0385  data_time: 0.0005  memory: 520  loss: 0.6644\n",
      "11/26 19:38:21 - mmengine - \u001b[4m\u001b[97mINFO\u001b[0m - Epoch(train)  [46][200/345]  base_lr: 9.5576e-04 lr: 9.5576e-04  eta: 0:12:36  time: 0.0401  data_time: 0.0007  memory: 520  loss: 0.3953\n",
      "11/26 19:38:25 - mmengine - \u001b[4m\u001b[97mINFO\u001b[0m - Epoch(train)  [46][300/345]  base_lr: 9.5576e-04 lr: 9.5576e-04  eta: 0:12:32  time: 0.0391  data_time: 0.0005  memory: 520  loss: 0.5604\n",
      "11/26 19:38:26 - mmengine - \u001b[4m\u001b[97mINFO\u001b[0m - Exp name: efficientnetb0_alzheimer_axial_view_heat_20231126_192656\n",
      "11/26 19:38:26 - mmengine - \u001b[4m\u001b[97mINFO\u001b[0m - Saving checkpoint at 46 epochs\n",
      "11/26 19:38:27 - mmengine - \u001b[4m\u001b[97mINFO\u001b[0m - Epoch(val) [46][66/66]    accuracy/top1: 82.9545  accuracy/top3: 100.0000  data_time: 0.0002  time: 0.0096\n",
      "11/26 19:38:31 - mmengine - \u001b[4m\u001b[97mINFO\u001b[0m - Epoch(train)  [47][100/345]  base_lr: 9.5356e-04 lr: 9.5356e-04  eta: 0:12:26  time: 0.0383  data_time: 0.0005  memory: 520  loss: 0.5310\n",
      "11/26 19:38:32 - mmengine - \u001b[4m\u001b[97mINFO\u001b[0m - Exp name: efficientnetb0_alzheimer_axial_view_heat_20231126_192656\n",
      "11/26 19:38:35 - mmengine - \u001b[4m\u001b[97mINFO\u001b[0m - Epoch(train)  [47][200/345]  base_lr: 9.5356e-04 lr: 9.5356e-04  eta: 0:12:22  time: 0.0386  data_time: 0.0005  memory: 520  loss: 0.3169\n",
      "11/26 19:38:39 - mmengine - \u001b[4m\u001b[97mINFO\u001b[0m - Epoch(train)  [47][300/345]  base_lr: 9.5356e-04 lr: 9.5356e-04  eta: 0:12:18  time: 0.0404  data_time: 0.0006  memory: 520  loss: 0.4146\n",
      "11/26 19:38:41 - mmengine - \u001b[4m\u001b[97mINFO\u001b[0m - Exp name: efficientnetb0_alzheimer_axial_view_heat_20231126_192656\n",
      "11/26 19:38:41 - mmengine - \u001b[4m\u001b[97mINFO\u001b[0m - Saving checkpoint at 47 epochs\n",
      "11/26 19:38:42 - mmengine - \u001b[4m\u001b[97mINFO\u001b[0m - Epoch(val) [47][66/66]    accuracy/top1: 84.8485  accuracy/top3: 100.0000  data_time: 0.0002  time: 0.0110\n",
      "11/26 19:38:46 - mmengine - \u001b[4m\u001b[97mINFO\u001b[0m - Epoch(train)  [48][100/345]  base_lr: 9.5131e-04 lr: 9.5131e-04  eta: 0:12:12  time: 0.0385  data_time: 0.0005  memory: 520  loss: 0.5172\n",
      "11/26 19:38:50 - mmengine - \u001b[4m\u001b[97mINFO\u001b[0m - Epoch(train)  [48][200/345]  base_lr: 9.5131e-04 lr: 9.5131e-04  eta: 0:12:08  time: 0.0392  data_time: 0.0006  memory: 520  loss: 0.4092\n",
      "11/26 19:38:54 - mmengine - \u001b[4m\u001b[97mINFO\u001b[0m - Epoch(train)  [48][300/345]  base_lr: 9.5131e-04 lr: 9.5131e-04  eta: 0:12:04  time: 0.0387  data_time: 0.0006  memory: 520  loss: 0.3482\n",
      "11/26 19:38:55 - mmengine - \u001b[4m\u001b[97mINFO\u001b[0m - Exp name: efficientnetb0_alzheimer_axial_view_heat_20231126_192656\n",
      "11/26 19:38:55 - mmengine - \u001b[4m\u001b[97mINFO\u001b[0m - Saving checkpoint at 48 epochs\n",
      "11/26 19:38:56 - mmengine - \u001b[4m\u001b[97mINFO\u001b[0m - Epoch(val) [48][66/66]    accuracy/top1: 89.0152  accuracy/top3: 100.0000  data_time: 0.0002  time: 0.0097\n",
      "11/26 19:39:00 - mmengine - \u001b[4m\u001b[97mINFO\u001b[0m - Epoch(train)  [49][100/345]  base_lr: 9.4900e-04 lr: 9.4900e-04  eta: 0:11:58  time: 0.0407  data_time: 0.0006  memory: 520  loss: 0.4770\n",
      "11/26 19:39:04 - mmengine - \u001b[4m\u001b[97mINFO\u001b[0m - Epoch(train)  [49][200/345]  base_lr: 9.4900e-04 lr: 9.4900e-04  eta: 0:11:54  time: 0.0391  data_time: 0.0006  memory: 520  loss: 0.4078\n",
      "11/26 19:39:08 - mmengine - \u001b[4m\u001b[97mINFO\u001b[0m - Epoch(train)  [49][300/345]  base_lr: 9.4900e-04 lr: 9.4900e-04  eta: 0:11:49  time: 0.0397  data_time: 0.0006  memory: 520  loss: 0.4438\n",
      "11/26 19:39:10 - mmengine - \u001b[4m\u001b[97mINFO\u001b[0m - Exp name: efficientnetb0_alzheimer_axial_view_heat_20231126_192656\n",
      "11/26 19:39:10 - mmengine - \u001b[4m\u001b[97mINFO\u001b[0m - Saving checkpoint at 49 epochs\n",
      "11/26 19:39:11 - mmengine - \u001b[4m\u001b[97mINFO\u001b[0m - Epoch(val) [49][66/66]    accuracy/top1: 85.9848  accuracy/top3: 100.0000  data_time: 0.0002  time: 0.0103\n",
      "11/26 19:39:15 - mmengine - \u001b[4m\u001b[97mINFO\u001b[0m - Exp name: efficientnetb0_alzheimer_axial_view_heat_20231126_192656\n",
      "11/26 19:39:15 - mmengine - \u001b[4m\u001b[97mINFO\u001b[0m - Epoch(train)  [50][100/345]  base_lr: 9.4664e-04 lr: 9.4664e-04  eta: 0:11:44  time: 0.0393  data_time: 0.0006  memory: 520  loss: 0.4190\n",
      "11/26 19:39:19 - mmengine - \u001b[4m\u001b[97mINFO\u001b[0m - Epoch(train)  [50][200/345]  base_lr: 9.4664e-04 lr: 9.4664e-04  eta: 0:11:40  time: 0.0393  data_time: 0.0006  memory: 520  loss: 0.6784\n",
      "11/26 19:39:23 - mmengine - \u001b[4m\u001b[97mINFO\u001b[0m - Epoch(train)  [50][300/345]  base_lr: 9.4664e-04 lr: 9.4664e-04  eta: 0:11:36  time: 0.0409  data_time: 0.0006  memory: 520  loss: 0.4104\n",
      "11/26 19:39:25 - mmengine - \u001b[4m\u001b[97mINFO\u001b[0m - Exp name: efficientnetb0_alzheimer_axial_view_heat_20231126_192656\n",
      "11/26 19:39:25 - mmengine - \u001b[4m\u001b[97mINFO\u001b[0m - Saving checkpoint at 50 epochs\n",
      "11/26 19:39:26 - mmengine - \u001b[4m\u001b[97mINFO\u001b[0m - Epoch(val) [50][66/66]    accuracy/top1: 90.9091  accuracy/top3: 100.0000  data_time: 0.0002  time: 0.0125\n",
      "11/26 19:39:30 - mmengine - \u001b[4m\u001b[97mINFO\u001b[0m - Epoch(train)  [51][100/345]  base_lr: 9.4424e-04 lr: 9.4424e-04  eta: 0:11:30  time: 0.0398  data_time: 0.0007  memory: 520  loss: 0.2783\n",
      "11/26 19:39:34 - mmengine - \u001b[4m\u001b[97mINFO\u001b[0m - Epoch(train)  [51][200/345]  base_lr: 9.4424e-04 lr: 9.4424e-04  eta: 0:11:26  time: 0.0393  data_time: 0.0006  memory: 520  loss: 0.4368\n",
      "11/26 19:39:38 - mmengine - \u001b[4m\u001b[97mINFO\u001b[0m - Epoch(train)  [51][300/345]  base_lr: 9.4424e-04 lr: 9.4424e-04  eta: 0:11:22  time: 0.0398  data_time: 0.0006  memory: 520  loss: 0.4279\n",
      "11/26 19:39:40 - mmengine - \u001b[4m\u001b[97mINFO\u001b[0m - Exp name: efficientnetb0_alzheimer_axial_view_heat_20231126_192656\n",
      "11/26 19:39:40 - mmengine - \u001b[4m\u001b[97mINFO\u001b[0m - Saving checkpoint at 51 epochs\n",
      "11/26 19:39:41 - mmengine - \u001b[4m\u001b[97mINFO\u001b[0m - Epoch(val) [51][66/66]    accuracy/top1: 87.5000  accuracy/top3: 100.0000  data_time: 0.0004  time: 0.0103\n",
      "11/26 19:39:45 - mmengine - \u001b[4m\u001b[97mINFO\u001b[0m - Epoch(train)  [52][100/345]  base_lr: 9.4178e-04 lr: 9.4178e-04  eta: 0:11:16  time: 0.0392  data_time: 0.0006  memory: 520  loss: 0.4485\n",
      "11/26 19:39:49 - mmengine - \u001b[4m\u001b[97mINFO\u001b[0m - Epoch(train)  [52][200/345]  base_lr: 9.4178e-04 lr: 9.4178e-04  eta: 0:11:12  time: 0.0397  data_time: 0.0006  memory: 520  loss: 0.4926\n",
      "11/26 19:39:53 - mmengine - \u001b[4m\u001b[97mINFO\u001b[0m - Epoch(train)  [52][300/345]  base_lr: 9.4178e-04 lr: 9.4178e-04  eta: 0:11:08  time: 0.0399  data_time: 0.0006  memory: 520  loss: 0.3957\n",
      "11/26 19:39:55 - mmengine - \u001b[4m\u001b[97mINFO\u001b[0m - Exp name: efficientnetb0_alzheimer_axial_view_heat_20231126_192656\n",
      "11/26 19:39:55 - mmengine - \u001b[4m\u001b[97mINFO\u001b[0m - Saving checkpoint at 52 epochs\n",
      "11/26 19:39:56 - mmengine - \u001b[4m\u001b[97mINFO\u001b[0m - Epoch(val) [52][66/66]    accuracy/top1: 81.0606  accuracy/top3: 100.0000  data_time: 0.0002  time: 0.0125\n",
      "11/26 19:39:59 - mmengine - \u001b[4m\u001b[97mINFO\u001b[0m - Exp name: efficientnetb0_alzheimer_axial_view_heat_20231126_192656\n",
      "11/26 19:40:00 - mmengine - \u001b[4m\u001b[97mINFO\u001b[0m - Epoch(train)  [53][100/345]  base_lr: 9.3928e-04 lr: 9.3928e-04  eta: 0:11:02  time: 0.0402  data_time: 0.0006  memory: 520  loss: 0.2567\n",
      "11/26 19:40:04 - mmengine - \u001b[4m\u001b[97mINFO\u001b[0m - Epoch(train)  [53][200/345]  base_lr: 9.3928e-04 lr: 9.3928e-04  eta: 0:10:58  time: 0.0406  data_time: 0.0006  memory: 520  loss: 0.3025\n",
      "11/26 19:40:08 - mmengine - \u001b[4m\u001b[97mINFO\u001b[0m - Epoch(train)  [53][300/345]  base_lr: 9.3928e-04 lr: 9.3928e-04  eta: 0:10:54  time: 0.0401  data_time: 0.0006  memory: 520  loss: 0.5239\n",
      "11/26 19:40:10 - mmengine - \u001b[4m\u001b[97mINFO\u001b[0m - Exp name: efficientnetb0_alzheimer_axial_view_heat_20231126_192656\n",
      "11/26 19:40:10 - mmengine - \u001b[4m\u001b[97mINFO\u001b[0m - Saving checkpoint at 53 epochs\n",
      "11/26 19:40:11 - mmengine - \u001b[4m\u001b[97mINFO\u001b[0m - Epoch(val) [53][66/66]    accuracy/top1: 83.7121  accuracy/top3: 100.0000  data_time: 0.0002  time: 0.0101\n",
      "11/26 19:40:15 - mmengine - \u001b[4m\u001b[97mINFO\u001b[0m - Epoch(train)  [54][100/345]  base_lr: 9.3672e-04 lr: 9.3672e-04  eta: 0:10:48  time: 0.0390  data_time: 0.0006  memory: 520  loss: 0.5230\n",
      "11/26 19:40:19 - mmengine - \u001b[4m\u001b[97mINFO\u001b[0m - Epoch(train)  [54][200/345]  base_lr: 9.3672e-04 lr: 9.3672e-04  eta: 0:10:44  time: 0.0396  data_time: 0.0006  memory: 520  loss: 0.4041\n",
      "11/26 19:40:23 - mmengine - \u001b[4m\u001b[97mINFO\u001b[0m - Epoch(train)  [54][300/345]  base_lr: 9.3672e-04 lr: 9.3672e-04  eta: 0:10:40  time: 0.0422  data_time: 0.0006  memory: 520  loss: 0.3687\n",
      "11/26 19:40:25 - mmengine - \u001b[4m\u001b[97mINFO\u001b[0m - Exp name: efficientnetb0_alzheimer_axial_view_heat_20231126_192656\n",
      "11/26 19:40:25 - mmengine - \u001b[4m\u001b[97mINFO\u001b[0m - Saving checkpoint at 54 epochs\n",
      "11/26 19:40:26 - mmengine - \u001b[4m\u001b[97mINFO\u001b[0m - Epoch(val) [54][66/66]    accuracy/top1: 80.3030  accuracy/top3: 100.0000  data_time: 0.0002  time: 0.0102\n",
      "11/26 19:40:30 - mmengine - \u001b[4m\u001b[97mINFO\u001b[0m - Epoch(train)  [55][100/345]  base_lr: 9.3412e-04 lr: 9.3412e-04  eta: 0:10:34  time: 0.0399  data_time: 0.0006  memory: 520  loss: 0.8809\n",
      "11/26 19:40:34 - mmengine - \u001b[4m\u001b[97mINFO\u001b[0m - Epoch(train)  [55][200/345]  base_lr: 9.3412e-04 lr: 9.3412e-04  eta: 0:10:30  time: 0.0396  data_time: 0.0006  memory: 520  loss: 0.3971\n",
      "11/26 19:40:38 - mmengine - \u001b[4m\u001b[97mINFO\u001b[0m - Epoch(train)  [55][300/345]  base_lr: 9.3412e-04 lr: 9.3412e-04  eta: 0:10:26  time: 0.0411  data_time: 0.0006  memory: 520  loss: 0.6768\n",
      "11/26 19:40:40 - mmengine - \u001b[4m\u001b[97mINFO\u001b[0m - Exp name: efficientnetb0_alzheimer_axial_view_heat_20231126_192656\n",
      "11/26 19:40:40 - mmengine - \u001b[4m\u001b[97mINFO\u001b[0m - Saving checkpoint at 55 epochs\n",
      "11/26 19:40:41 - mmengine - \u001b[4m\u001b[97mINFO\u001b[0m - Epoch(val) [55][66/66]    accuracy/top1: 92.4242  accuracy/top3: 100.0000  data_time: 0.0002  time: 0.0100\n",
      "11/26 19:40:42 - mmengine - \u001b[4m\u001b[97mINFO\u001b[0m - Exp name: efficientnetb0_alzheimer_axial_view_heat_20231126_192656\n",
      "11/26 19:40:45 - mmengine - \u001b[4m\u001b[97mINFO\u001b[0m - Epoch(train)  [56][100/345]  base_lr: 9.3147e-04 lr: 9.3147e-04  eta: 0:10:21  time: 0.0398  data_time: 0.0006  memory: 520  loss: 0.4611\n",
      "11/26 19:40:49 - mmengine - \u001b[4m\u001b[97mINFO\u001b[0m - Epoch(train)  [56][200/345]  base_lr: 9.3147e-04 lr: 9.3147e-04  eta: 0:10:16  time: 0.0398  data_time: 0.0006  memory: 520  loss: 0.3935\n",
      "11/26 19:40:53 - mmengine - \u001b[4m\u001b[97mINFO\u001b[0m - Epoch(train)  [56][300/345]  base_lr: 9.3147e-04 lr: 9.3147e-04  eta: 0:10:12  time: 0.0397  data_time: 0.0006  memory: 520  loss: 0.3260\n",
      "11/26 19:40:55 - mmengine - \u001b[4m\u001b[97mINFO\u001b[0m - Exp name: efficientnetb0_alzheimer_axial_view_heat_20231126_192656\n",
      "11/26 19:40:55 - mmengine - \u001b[4m\u001b[97mINFO\u001b[0m - Saving checkpoint at 56 epochs\n",
      "11/26 19:40:56 - mmengine - \u001b[4m\u001b[97mINFO\u001b[0m - Epoch(val) [56][66/66]    accuracy/top1: 86.3636  accuracy/top3: 100.0000  data_time: 0.0002  time: 0.0100\n",
      "11/26 19:41:00 - mmengine - \u001b[4m\u001b[97mINFO\u001b[0m - Epoch(train)  [57][100/345]  base_lr: 9.2877e-04 lr: 9.2877e-04  eta: 0:10:07  time: 0.0409  data_time: 0.0006  memory: 520  loss: 0.5241\n",
      "11/26 19:41:04 - mmengine - \u001b[4m\u001b[97mINFO\u001b[0m - Epoch(train)  [57][200/345]  base_lr: 9.2877e-04 lr: 9.2877e-04  eta: 0:10:03  time: 0.0402  data_time: 0.0007  memory: 520  loss: 0.4386\n",
      "11/26 19:41:08 - mmengine - \u001b[4m\u001b[97mINFO\u001b[0m - Epoch(train)  [57][300/345]  base_lr: 9.2877e-04 lr: 9.2877e-04  eta: 0:09:59  time: 0.0404  data_time: 0.0007  memory: 520  loss: 0.4441\n",
      "11/26 19:41:10 - mmengine - \u001b[4m\u001b[97mINFO\u001b[0m - Exp name: efficientnetb0_alzheimer_axial_view_heat_20231126_192656\n",
      "11/26 19:41:10 - mmengine - \u001b[4m\u001b[97mINFO\u001b[0m - Saving checkpoint at 57 epochs\n",
      "11/26 19:41:11 - mmengine - \u001b[4m\u001b[97mINFO\u001b[0m - Epoch(val) [57][66/66]    accuracy/top1: 89.7727  accuracy/top3: 100.0000  data_time: 0.0002  time: 0.0102\n",
      "11/26 19:41:15 - mmengine - \u001b[4m\u001b[97mINFO\u001b[0m - Epoch(train)  [58][100/345]  base_lr: 9.2602e-04 lr: 9.2602e-04  eta: 0:09:53  time: 0.0395  data_time: 0.0006  memory: 520  loss: 0.4465\n",
      "11/26 19:41:19 - mmengine - \u001b[4m\u001b[97mINFO\u001b[0m - Epoch(train)  [58][200/345]  base_lr: 9.2602e-04 lr: 9.2602e-04  eta: 0:09:49  time: 0.0393  data_time: 0.0006  memory: 520  loss: 0.3339\n",
      "11/26 19:41:23 - mmengine - \u001b[4m\u001b[97mINFO\u001b[0m - Epoch(train)  [58][300/345]  base_lr: 9.2602e-04 lr: 9.2602e-04  eta: 0:09:45  time: 0.0404  data_time: 0.0006  memory: 520  loss: 0.5875\n",
      "11/26 19:41:24 - mmengine - \u001b[4m\u001b[97mINFO\u001b[0m - Exp name: efficientnetb0_alzheimer_axial_view_heat_20231126_192656\n",
      "11/26 19:41:25 - mmengine - \u001b[4m\u001b[97mINFO\u001b[0m - Exp name: efficientnetb0_alzheimer_axial_view_heat_20231126_192656\n",
      "11/26 19:41:25 - mmengine - \u001b[4m\u001b[97mINFO\u001b[0m - Saving checkpoint at 58 epochs\n",
      "11/26 19:41:26 - mmengine - \u001b[4m\u001b[97mINFO\u001b[0m - Epoch(val) [58][66/66]    accuracy/top1: 81.0606  accuracy/top3: 100.0000  data_time: 0.0002  time: 0.0118\n",
      "11/26 19:41:30 - mmengine - \u001b[4m\u001b[97mINFO\u001b[0m - Epoch(train)  [59][100/345]  base_lr: 9.2322e-04 lr: 9.2322e-04  eta: 0:09:39  time: 0.0410  data_time: 0.0006  memory: 520  loss: 0.3345\n",
      "11/26 19:41:34 - mmengine - \u001b[4m\u001b[97mINFO\u001b[0m - Epoch(train)  [59][200/345]  base_lr: 9.2322e-04 lr: 9.2322e-04  eta: 0:09:35  time: 0.0439  data_time: 0.0006  memory: 520  loss: 0.4207\n",
      "11/26 19:41:38 - mmengine - \u001b[4m\u001b[97mINFO\u001b[0m - Epoch(train)  [59][300/345]  base_lr: 9.2322e-04 lr: 9.2322e-04  eta: 0:09:31  time: 0.0434  data_time: 0.0006  memory: 520  loss: 0.4619\n",
      "11/26 19:41:40 - mmengine - \u001b[4m\u001b[97mINFO\u001b[0m - Exp name: efficientnetb0_alzheimer_axial_view_heat_20231126_192656\n",
      "11/26 19:41:40 - mmengine - \u001b[4m\u001b[97mINFO\u001b[0m - Saving checkpoint at 59 epochs\n",
      "11/26 19:41:41 - mmengine - \u001b[4m\u001b[97mINFO\u001b[0m - Epoch(val) [59][66/66]    accuracy/top1: 89.7727  accuracy/top3: 100.0000  data_time: 0.0002  time: 0.0100\n",
      "11/26 19:41:45 - mmengine - \u001b[4m\u001b[97mINFO\u001b[0m - Epoch(train)  [60][100/345]  base_lr: 9.2038e-04 lr: 9.2038e-04  eta: 0:09:25  time: 0.0401  data_time: 0.0006  memory: 520  loss: 0.4213\n",
      "11/26 19:41:50 - mmengine - \u001b[4m\u001b[97mINFO\u001b[0m - Epoch(train)  [60][200/345]  base_lr: 9.2038e-04 lr: 9.2038e-04  eta: 0:09:21  time: 0.0399  data_time: 0.0006  memory: 520  loss: 0.5091\n",
      "11/26 19:41:54 - mmengine - \u001b[4m\u001b[97mINFO\u001b[0m - Epoch(train)  [60][300/345]  base_lr: 9.2038e-04 lr: 9.2038e-04  eta: 0:09:17  time: 0.0396  data_time: 0.0008  memory: 520  loss: 0.4029\n",
      "11/26 19:41:55 - mmengine - \u001b[4m\u001b[97mINFO\u001b[0m - Exp name: efficientnetb0_alzheimer_axial_view_heat_20231126_192656\n",
      "11/26 19:41:55 - mmengine - \u001b[4m\u001b[97mINFO\u001b[0m - Saving checkpoint at 60 epochs\n",
      "11/26 19:41:56 - mmengine - \u001b[4m\u001b[97mINFO\u001b[0m - Epoch(val) [60][66/66]    accuracy/top1: 82.1970  accuracy/top3: 100.0000  data_time: 0.0002  time: 0.0100\n",
      "11/26 19:42:00 - mmengine - \u001b[4m\u001b[97mINFO\u001b[0m - Epoch(train)  [61][100/345]  base_lr: 9.1749e-04 lr: 9.1749e-04  eta: 0:09:11  time: 0.0422  data_time: 0.0007  memory: 520  loss: 0.4113\n",
      "11/26 19:42:04 - mmengine - \u001b[4m\u001b[97mINFO\u001b[0m - Epoch(train)  [61][200/345]  base_lr: 9.1749e-04 lr: 9.1749e-04  eta: 0:09:07  time: 0.0404  data_time: 0.0007  memory: 520  loss: 0.5489\n",
      "11/26 19:42:09 - mmengine - \u001b[4m\u001b[97mINFO\u001b[0m - Exp name: efficientnetb0_alzheimer_axial_view_heat_20231126_192656\n",
      "11/26 19:42:09 - mmengine - \u001b[4m\u001b[97mINFO\u001b[0m - Epoch(train)  [61][300/345]  base_lr: 9.1749e-04 lr: 9.1749e-04  eta: 0:09:04  time: 0.0391  data_time: 0.0006  memory: 520  loss: 0.3197\n",
      "11/26 19:42:11 - mmengine - \u001b[4m\u001b[97mINFO\u001b[0m - Exp name: efficientnetb0_alzheimer_axial_view_heat_20231126_192656\n",
      "11/26 19:42:11 - mmengine - \u001b[4m\u001b[97mINFO\u001b[0m - Saving checkpoint at 61 epochs\n",
      "11/26 19:42:11 - mmengine - \u001b[4m\u001b[97mINFO\u001b[0m - Epoch(val) [61][66/66]    accuracy/top1: 92.8030  accuracy/top3: 100.0000  data_time: 0.0002  time: 0.0097\n",
      "11/26 19:42:15 - mmengine - \u001b[4m\u001b[97mINFO\u001b[0m - Epoch(train)  [62][100/345]  base_lr: 9.1455e-04 lr: 9.1455e-04  eta: 0:08:58  time: 0.0390  data_time: 0.0006  memory: 520  loss: 0.6103\n",
      "11/26 19:42:19 - mmengine - \u001b[4m\u001b[97mINFO\u001b[0m - Epoch(train)  [62][200/345]  base_lr: 9.1455e-04 lr: 9.1455e-04  eta: 0:08:54  time: 0.0389  data_time: 0.0006  memory: 520  loss: 0.4265\n",
      "11/26 19:42:23 - mmengine - \u001b[4m\u001b[97mINFO\u001b[0m - Epoch(train)  [62][300/345]  base_lr: 9.1455e-04 lr: 9.1455e-04  eta: 0:08:49  time: 0.0391  data_time: 0.0006  memory: 520  loss: 0.6330\n",
      "11/26 19:42:25 - mmengine - \u001b[4m\u001b[97mINFO\u001b[0m - Exp name: efficientnetb0_alzheimer_axial_view_heat_20231126_192656\n",
      "11/26 19:42:25 - mmengine - \u001b[4m\u001b[97mINFO\u001b[0m - Saving checkpoint at 62 epochs\n",
      "11/26 19:42:26 - mmengine - \u001b[4m\u001b[97mINFO\u001b[0m - Epoch(val) [62][66/66]    accuracy/top1: 89.0152  accuracy/top3: 100.0000  data_time: 0.0002  time: 0.0096\n",
      "11/26 19:42:30 - mmengine - \u001b[4m\u001b[97mINFO\u001b[0m - Epoch(train)  [63][100/345]  base_lr: 9.1157e-04 lr: 9.1157e-04  eta: 0:08:44  time: 0.0389  data_time: 0.0006  memory: 520  loss: 0.4757\n",
      "11/26 19:42:34 - mmengine - \u001b[4m\u001b[97mINFO\u001b[0m - Epoch(train)  [63][200/345]  base_lr: 9.1157e-04 lr: 9.1157e-04  eta: 0:08:40  time: 0.0391  data_time: 0.0006  memory: 520  loss: 0.3840\n",
      "11/26 19:42:38 - mmengine - \u001b[4m\u001b[97mINFO\u001b[0m - Epoch(train)  [63][300/345]  base_lr: 9.1157e-04 lr: 9.1157e-04  eta: 0:08:36  time: 0.0397  data_time: 0.0006  memory: 520  loss: 0.3047\n",
      "11/26 19:42:40 - mmengine - \u001b[4m\u001b[97mINFO\u001b[0m - Exp name: efficientnetb0_alzheimer_axial_view_heat_20231126_192656\n",
      "11/26 19:42:40 - mmengine - \u001b[4m\u001b[97mINFO\u001b[0m - Saving checkpoint at 63 epochs\n",
      "11/26 19:42:41 - mmengine - \u001b[4m\u001b[97mINFO\u001b[0m - Epoch(val) [63][66/66]    accuracy/top1: 91.6667  accuracy/top3: 100.0000  data_time: 0.0002  time: 0.0103\n",
      "11/26 19:42:45 - mmengine - \u001b[4m\u001b[97mINFO\u001b[0m - Epoch(train)  [64][100/345]  base_lr: 9.0854e-04 lr: 9.0854e-04  eta: 0:08:30  time: 0.0394  data_time: 0.0006  memory: 520  loss: 0.4713\n",
      "11/26 19:42:49 - mmengine - \u001b[4m\u001b[97mINFO\u001b[0m - Epoch(train)  [64][200/345]  base_lr: 9.0854e-04 lr: 9.0854e-04  eta: 0:08:26  time: 0.0396  data_time: 0.0006  memory: 520  loss: 0.4801\n",
      "11/26 19:42:52 - mmengine - \u001b[4m\u001b[97mINFO\u001b[0m - Exp name: efficientnetb0_alzheimer_axial_view_heat_20231126_192656\n",
      "11/26 19:42:53 - mmengine - \u001b[4m\u001b[97mINFO\u001b[0m - Epoch(train)  [64][300/345]  base_lr: 9.0854e-04 lr: 9.0854e-04  eta: 0:08:22  time: 0.0420  data_time: 0.0006  memory: 520  loss: 0.5581\n",
      "11/26 19:42:55 - mmengine - \u001b[4m\u001b[97mINFO\u001b[0m - Exp name: efficientnetb0_alzheimer_axial_view_heat_20231126_192656\n",
      "11/26 19:42:55 - mmengine - \u001b[4m\u001b[97mINFO\u001b[0m - Saving checkpoint at 64 epochs\n",
      "11/26 19:42:56 - mmengine - \u001b[4m\u001b[97mINFO\u001b[0m - Epoch(val) [64][66/66]    accuracy/top1: 85.9848  accuracy/top3: 100.0000  data_time: 0.0002  time: 0.0108\n",
      "11/26 19:43:00 - mmengine - \u001b[4m\u001b[97mINFO\u001b[0m - Epoch(train)  [65][100/345]  base_lr: 9.0546e-04 lr: 9.0546e-04  eta: 0:08:16  time: 0.0409  data_time: 0.0006  memory: 520  loss: 0.3831\n",
      "11/26 19:43:04 - mmengine - \u001b[4m\u001b[97mINFO\u001b[0m - Epoch(train)  [65][200/345]  base_lr: 9.0546e-04 lr: 9.0546e-04  eta: 0:08:12  time: 0.0396  data_time: 0.0006  memory: 520  loss: 0.3716\n",
      "11/26 19:43:08 - mmengine - \u001b[4m\u001b[97mINFO\u001b[0m - Epoch(train)  [65][300/345]  base_lr: 9.0546e-04 lr: 9.0546e-04  eta: 0:08:08  time: 0.0393  data_time: 0.0006  memory: 520  loss: 0.6260\n",
      "11/26 19:43:10 - mmengine - \u001b[4m\u001b[97mINFO\u001b[0m - Exp name: efficientnetb0_alzheimer_axial_view_heat_20231126_192656\n",
      "11/26 19:43:10 - mmengine - \u001b[4m\u001b[97mINFO\u001b[0m - Saving checkpoint at 65 epochs\n",
      "11/26 19:43:11 - mmengine - \u001b[4m\u001b[97mINFO\u001b[0m - Epoch(val) [65][66/66]    accuracy/top1: 82.5758  accuracy/top3: 100.0000  data_time: 0.0002  time: 0.0100\n",
      "11/26 19:43:15 - mmengine - \u001b[4m\u001b[97mINFO\u001b[0m - Epoch(train)  [66][100/345]  base_lr: 9.0234e-04 lr: 9.0234e-04  eta: 0:08:02  time: 0.0394  data_time: 0.0006  memory: 520  loss: 0.3646\n",
      "11/26 19:43:19 - mmengine - \u001b[4m\u001b[97mINFO\u001b[0m - Epoch(train)  [66][200/345]  base_lr: 9.0234e-04 lr: 9.0234e-04  eta: 0:07:58  time: 0.0385  data_time: 0.0006  memory: 520  loss: 0.4597\n",
      "11/26 19:43:23 - mmengine - \u001b[4m\u001b[97mINFO\u001b[0m - Epoch(train)  [66][300/345]  base_lr: 9.0234e-04 lr: 9.0234e-04  eta: 0:07:54  time: 0.0387  data_time: 0.0006  memory: 520  loss: 0.4898\n",
      "11/26 19:43:24 - mmengine - \u001b[4m\u001b[97mINFO\u001b[0m - Exp name: efficientnetb0_alzheimer_axial_view_heat_20231126_192656\n",
      "11/26 19:43:24 - mmengine - \u001b[4m\u001b[97mINFO\u001b[0m - Saving checkpoint at 66 epochs\n",
      "11/26 19:43:25 - mmengine - \u001b[4m\u001b[97mINFO\u001b[0m - Epoch(val) [66][66/66]    accuracy/top1: 88.2576  accuracy/top3: 100.0000  data_time: 0.0002  time: 0.0097\n",
      "11/26 19:43:29 - mmengine - \u001b[4m\u001b[97mINFO\u001b[0m - Epoch(train)  [67][100/345]  base_lr: 8.9918e-04 lr: 8.9918e-04  eta: 0:07:48  time: 0.0389  data_time: 0.0006  memory: 520  loss: 0.2819\n",
      "11/26 19:43:33 - mmengine - \u001b[4m\u001b[97mINFO\u001b[0m - Epoch(train)  [67][200/345]  base_lr: 8.9918e-04 lr: 8.9918e-04  eta: 0:07:44  time: 0.0393  data_time: 0.0006  memory: 520  loss: 0.4254\n",
      "11/26 19:43:34 - mmengine - \u001b[4m\u001b[97mINFO\u001b[0m - Exp name: efficientnetb0_alzheimer_axial_view_heat_20231126_192656\n",
      "11/26 19:43:37 - mmengine - \u001b[4m\u001b[97mINFO\u001b[0m - Epoch(train)  [67][300/345]  base_lr: 8.9918e-04 lr: 8.9918e-04  eta: 0:07:40  time: 0.0385  data_time: 0.0006  memory: 520  loss: 0.3369\n",
      "11/26 19:43:39 - mmengine - \u001b[4m\u001b[97mINFO\u001b[0m - Exp name: efficientnetb0_alzheimer_axial_view_heat_20231126_192656\n",
      "11/26 19:43:39 - mmengine - \u001b[4m\u001b[97mINFO\u001b[0m - Saving checkpoint at 67 epochs\n",
      "11/26 19:43:40 - mmengine - \u001b[4m\u001b[97mINFO\u001b[0m - Epoch(val) [67][66/66]    accuracy/top1: 89.0152  accuracy/top3: 100.0000  data_time: 0.0002  time: 0.0097\n",
      "11/26 19:43:44 - mmengine - \u001b[4m\u001b[97mINFO\u001b[0m - Epoch(train)  [68][100/345]  base_lr: 8.9597e-04 lr: 8.9597e-04  eta: 0:07:34  time: 0.0389  data_time: 0.0006  memory: 520  loss: 0.1740\n",
      "11/26 19:43:48 - mmengine - \u001b[4m\u001b[97mINFO\u001b[0m - Epoch(train)  [68][200/345]  base_lr: 8.9597e-04 lr: 8.9597e-04  eta: 0:07:30  time: 0.0427  data_time: 0.0006  memory: 520  loss: 0.3875\n",
      "11/26 19:43:52 - mmengine - \u001b[4m\u001b[97mINFO\u001b[0m - Epoch(train)  [68][300/345]  base_lr: 8.9597e-04 lr: 8.9597e-04  eta: 0:07:26  time: 0.0388  data_time: 0.0006  memory: 520  loss: 0.4269\n",
      "11/26 19:43:54 - mmengine - \u001b[4m\u001b[97mINFO\u001b[0m - Exp name: efficientnetb0_alzheimer_axial_view_heat_20231126_192656\n",
      "11/26 19:43:54 - mmengine - \u001b[4m\u001b[97mINFO\u001b[0m - Saving checkpoint at 68 epochs\n",
      "11/26 19:43:55 - mmengine - \u001b[4m\u001b[97mINFO\u001b[0m - Epoch(val) [68][66/66]    accuracy/top1: 93.1818  accuracy/top3: 100.0000  data_time: 0.0002  time: 0.0098\n",
      "11/26 19:43:59 - mmengine - \u001b[4m\u001b[97mINFO\u001b[0m - Epoch(train)  [69][100/345]  base_lr: 8.9271e-04 lr: 8.9271e-04  eta: 0:07:20  time: 0.0387  data_time: 0.0006  memory: 520  loss: 0.3686\n",
      "11/26 19:44:03 - mmengine - \u001b[4m\u001b[97mINFO\u001b[0m - Epoch(train)  [69][200/345]  base_lr: 8.9271e-04 lr: 8.9271e-04  eta: 0:07:16  time: 0.0387  data_time: 0.0006  memory: 520  loss: 0.3628\n",
      "11/26 19:44:06 - mmengine - \u001b[4m\u001b[97mINFO\u001b[0m - Epoch(train)  [69][300/345]  base_lr: 8.9271e-04 lr: 8.9271e-04  eta: 0:07:12  time: 0.0388  data_time: 0.0006  memory: 520  loss: 0.1994\n",
      "11/26 19:44:08 - mmengine - \u001b[4m\u001b[97mINFO\u001b[0m - Exp name: efficientnetb0_alzheimer_axial_view_heat_20231126_192656\n",
      "11/26 19:44:08 - mmengine - \u001b[4m\u001b[97mINFO\u001b[0m - Saving checkpoint at 69 epochs\n",
      "11/26 19:44:09 - mmengine - \u001b[4m\u001b[97mINFO\u001b[0m - Epoch(val) [69][66/66]    accuracy/top1: 76.1364  accuracy/top3: 100.0000  data_time: 0.0002  time: 0.0097\n",
      "11/26 19:44:13 - mmengine - \u001b[4m\u001b[97mINFO\u001b[0m - Epoch(train)  [70][100/345]  base_lr: 8.8941e-04 lr: 8.8941e-04  eta: 0:07:06  time: 0.0392  data_time: 0.0006  memory: 520  loss: 0.4459\n",
      "11/26 19:44:17 - mmengine - \u001b[4m\u001b[97mINFO\u001b[0m - Exp name: efficientnetb0_alzheimer_axial_view_heat_20231126_192656\n",
      "11/26 19:44:17 - mmengine - \u001b[4m\u001b[97mINFO\u001b[0m - Epoch(train)  [70][200/345]  base_lr: 8.8941e-04 lr: 8.8941e-04  eta: 0:07:02  time: 0.0407  data_time: 0.0007  memory: 520  loss: 0.4544\n",
      "11/26 19:44:21 - mmengine - \u001b[4m\u001b[97mINFO\u001b[0m - Epoch(train)  [70][300/345]  base_lr: 8.8941e-04 lr: 8.8941e-04  eta: 0:06:58  time: 0.0397  data_time: 0.0006  memory: 520  loss: 0.2882\n",
      "11/26 19:44:23 - mmengine - \u001b[4m\u001b[97mINFO\u001b[0m - Exp name: efficientnetb0_alzheimer_axial_view_heat_20231126_192656\n",
      "11/26 19:44:23 - mmengine - \u001b[4m\u001b[97mINFO\u001b[0m - Saving checkpoint at 70 epochs\n",
      "11/26 19:44:24 - mmengine - \u001b[4m\u001b[97mINFO\u001b[0m - Epoch(val) [70][66/66]    accuracy/top1: 89.3939  accuracy/top3: 100.0000  data_time: 0.0002  time: 0.0097\n",
      "11/26 19:44:28 - mmengine - \u001b[4m\u001b[97mINFO\u001b[0m - Epoch(train)  [71][100/345]  base_lr: 8.8607e-04 lr: 8.8607e-04  eta: 0:06:52  time: 0.0388  data_time: 0.0006  memory: 520  loss: 0.2586\n",
      "11/26 19:44:31 - mmengine - \u001b[4m\u001b[97mINFO\u001b[0m - Epoch(train)  [71][200/345]  base_lr: 8.8607e-04 lr: 8.8607e-04  eta: 0:06:48  time: 0.0384  data_time: 0.0006  memory: 520  loss: 0.4863\n",
      "11/26 19:44:35 - mmengine - \u001b[4m\u001b[97mINFO\u001b[0m - Epoch(train)  [71][300/345]  base_lr: 8.8607e-04 lr: 8.8607e-04  eta: 0:06:44  time: 0.0386  data_time: 0.0006  memory: 520  loss: 0.3423\n",
      "11/26 19:44:37 - mmengine - \u001b[4m\u001b[97mINFO\u001b[0m - Exp name: efficientnetb0_alzheimer_axial_view_heat_20231126_192656\n",
      "11/26 19:44:37 - mmengine - \u001b[4m\u001b[97mINFO\u001b[0m - Saving checkpoint at 71 epochs\n",
      "11/26 19:44:38 - mmengine - \u001b[4m\u001b[97mINFO\u001b[0m - Epoch(val) [71][66/66]    accuracy/top1: 85.2273  accuracy/top3: 100.0000  data_time: 0.0002  time: 0.0098\n",
      "11/26 19:44:42 - mmengine - \u001b[4m\u001b[97mINFO\u001b[0m - Epoch(train)  [72][100/345]  base_lr: 8.8268e-04 lr: 8.8268e-04  eta: 0:06:38  time: 0.0392  data_time: 0.0006  memory: 520  loss: 0.4694\n",
      "11/26 19:44:46 - mmengine - \u001b[4m\u001b[97mINFO\u001b[0m - Epoch(train)  [72][200/345]  base_lr: 8.8268e-04 lr: 8.8268e-04  eta: 0:06:34  time: 0.0391  data_time: 0.0006  memory: 520  loss: 0.6035\n",
      "11/26 19:44:50 - mmengine - \u001b[4m\u001b[97mINFO\u001b[0m - Epoch(train)  [72][300/345]  base_lr: 8.8268e-04 lr: 8.8268e-04  eta: 0:06:30  time: 0.0397  data_time: 0.0006  memory: 520  loss: 0.4363\n",
      "11/26 19:44:52 - mmengine - \u001b[4m\u001b[97mINFO\u001b[0m - Exp name: efficientnetb0_alzheimer_axial_view_heat_20231126_192656\n",
      "11/26 19:44:52 - mmengine - \u001b[4m\u001b[97mINFO\u001b[0m - Saving checkpoint at 72 epochs\n",
      "11/26 19:44:53 - mmengine - \u001b[4m\u001b[97mINFO\u001b[0m - Epoch(val) [72][66/66]    accuracy/top1: 93.9394  accuracy/top3: 100.0000  data_time: 0.0002  time: 0.0098\n",
      "11/26 19:44:57 - mmengine - \u001b[4m\u001b[97mINFO\u001b[0m - Epoch(train)  [73][100/345]  base_lr: 8.7925e-04 lr: 8.7925e-04  eta: 0:06:24  time: 0.0391  data_time: 0.0006  memory: 520  loss: 0.2715\n",
      "11/26 19:44:59 - mmengine - \u001b[4m\u001b[97mINFO\u001b[0m - Exp name: efficientnetb0_alzheimer_axial_view_heat_20231126_192656\n",
      "11/26 19:45:01 - mmengine - \u001b[4m\u001b[97mINFO\u001b[0m - Epoch(train)  [73][200/345]  base_lr: 8.7925e-04 lr: 8.7925e-04  eta: 0:06:20  time: 0.0390  data_time: 0.0006  memory: 520  loss: 0.2170\n",
      "11/26 19:45:04 - mmengine - \u001b[4m\u001b[97mINFO\u001b[0m - Epoch(train)  [73][300/345]  base_lr: 8.7925e-04 lr: 8.7925e-04  eta: 0:06:16  time: 0.0391  data_time: 0.0006  memory: 520  loss: 0.5018\n",
      "11/26 19:45:06 - mmengine - \u001b[4m\u001b[97mINFO\u001b[0m - Exp name: efficientnetb0_alzheimer_axial_view_heat_20231126_192656\n",
      "11/26 19:45:06 - mmengine - \u001b[4m\u001b[97mINFO\u001b[0m - Saving checkpoint at 73 epochs\n",
      "11/26 19:45:07 - mmengine - \u001b[4m\u001b[97mINFO\u001b[0m - Epoch(val) [73][66/66]    accuracy/top1: 89.7727  accuracy/top3: 100.0000  data_time: 0.0002  time: 0.0098\n",
      "11/26 19:45:11 - mmengine - \u001b[4m\u001b[97mINFO\u001b[0m - Epoch(train)  [74][100/345]  base_lr: 8.7578e-04 lr: 8.7578e-04  eta: 0:06:10  time: 0.0429  data_time: 0.0007  memory: 520  loss: 0.4413\n",
      "11/26 19:45:16 - mmengine - \u001b[4m\u001b[97mINFO\u001b[0m - Epoch(train)  [74][200/345]  base_lr: 8.7578e-04 lr: 8.7578e-04  eta: 0:06:06  time: 0.0402  data_time: 0.0006  memory: 520  loss: 0.3126\n",
      "11/26 19:45:20 - mmengine - \u001b[4m\u001b[97mINFO\u001b[0m - Epoch(train)  [74][300/345]  base_lr: 8.7578e-04 lr: 8.7578e-04  eta: 0:06:02  time: 0.0393  data_time: 0.0006  memory: 520  loss: 0.5751\n",
      "11/26 19:45:21 - mmengine - \u001b[4m\u001b[97mINFO\u001b[0m - Exp name: efficientnetb0_alzheimer_axial_view_heat_20231126_192656\n",
      "11/26 19:45:21 - mmengine - \u001b[4m\u001b[97mINFO\u001b[0m - Saving checkpoint at 74 epochs\n",
      "11/26 19:45:22 - mmengine - \u001b[4m\u001b[97mINFO\u001b[0m - Epoch(val) [74][66/66]    accuracy/top1: 92.0455  accuracy/top3: 100.0000  data_time: 0.0002  time: 0.0097\n",
      "11/26 19:45:27 - mmengine - \u001b[4m\u001b[97mINFO\u001b[0m - Epoch(train)  [75][100/345]  base_lr: 8.7227e-04 lr: 8.7227e-04  eta: 0:05:56  time: 0.0406  data_time: 0.0006  memory: 520  loss: 0.3193\n",
      "11/26 19:45:31 - mmengine - \u001b[4m\u001b[97mINFO\u001b[0m - Epoch(train)  [75][200/345]  base_lr: 8.7227e-04 lr: 8.7227e-04  eta: 0:05:52  time: 0.0404  data_time: 0.0006  memory: 520  loss: 0.5243\n",
      "11/26 19:45:35 - mmengine - \u001b[4m\u001b[97mINFO\u001b[0m - Epoch(train)  [75][300/345]  base_lr: 8.7227e-04 lr: 8.7227e-04  eta: 0:05:48  time: 0.0404  data_time: 0.0006  memory: 520  loss: 0.2990\n",
      "11/26 19:45:36 - mmengine - \u001b[4m\u001b[97mINFO\u001b[0m - Exp name: efficientnetb0_alzheimer_axial_view_heat_20231126_192656\n",
      "11/26 19:45:36 - mmengine - \u001b[4m\u001b[97mINFO\u001b[0m - Saving checkpoint at 75 epochs\n",
      "11/26 19:45:37 - mmengine - \u001b[4m\u001b[97mINFO\u001b[0m - Epoch(val) [75][66/66]    accuracy/top1: 89.0152  accuracy/top3: 100.0000  data_time: 0.0002  time: 0.0098\n",
      "11/26 19:45:42 - mmengine - \u001b[4m\u001b[97mINFO\u001b[0m - Epoch(train)  [76][100/345]  base_lr: 8.6871e-04 lr: 8.6871e-04  eta: 0:05:42  time: 0.0407  data_time: 0.0006  memory: 520  loss: 0.4085\n",
      "11/26 19:45:43 - mmengine - \u001b[4m\u001b[97mINFO\u001b[0m - Exp name: efficientnetb0_alzheimer_axial_view_heat_20231126_192656\n",
      "11/26 19:45:46 - mmengine - \u001b[4m\u001b[97mINFO\u001b[0m - Epoch(train)  [76][200/345]  base_lr: 8.6871e-04 lr: 8.6871e-04  eta: 0:05:38  time: 0.0408  data_time: 0.0006  memory: 520  loss: 0.3698\n",
      "11/26 19:45:50 - mmengine - \u001b[4m\u001b[97mINFO\u001b[0m - Epoch(train)  [76][300/345]  base_lr: 8.6871e-04 lr: 8.6871e-04  eta: 0:05:34  time: 0.0410  data_time: 0.0006  memory: 520  loss: 0.4947\n",
      "11/26 19:45:52 - mmengine - \u001b[4m\u001b[97mINFO\u001b[0m - Exp name: efficientnetb0_alzheimer_axial_view_heat_20231126_192656\n",
      "11/26 19:45:52 - mmengine - \u001b[4m\u001b[97mINFO\u001b[0m - Saving checkpoint at 76 epochs\n",
      "11/26 19:45:53 - mmengine - \u001b[4m\u001b[97mINFO\u001b[0m - Epoch(val) [76][66/66]    accuracy/top1: 77.6515  accuracy/top3: 100.0000  data_time: 0.0002  time: 0.0097\n",
      "11/26 19:45:57 - mmengine - \u001b[4m\u001b[97mINFO\u001b[0m - Epoch(train)  [77][100/345]  base_lr: 8.6512e-04 lr: 8.6512e-04  eta: 0:05:28  time: 0.0400  data_time: 0.0006  memory: 520  loss: 0.4546\n",
      "11/26 19:46:01 - mmengine - \u001b[4m\u001b[97mINFO\u001b[0m - Epoch(train)  [77][200/345]  base_lr: 8.6512e-04 lr: 8.6512e-04  eta: 0:05:24  time: 0.0407  data_time: 0.0006  memory: 520  loss: 0.5295\n",
      "11/26 19:46:05 - mmengine - \u001b[4m\u001b[97mINFO\u001b[0m - Epoch(train)  [77][300/345]  base_lr: 8.6512e-04 lr: 8.6512e-04  eta: 0:05:20  time: 0.0406  data_time: 0.0006  memory: 520  loss: 0.2498\n",
      "11/26 19:46:07 - mmengine - \u001b[4m\u001b[97mINFO\u001b[0m - Exp name: efficientnetb0_alzheimer_axial_view_heat_20231126_192656\n",
      "11/26 19:46:07 - mmengine - \u001b[4m\u001b[97mINFO\u001b[0m - Saving checkpoint at 77 epochs\n",
      "11/26 19:46:08 - mmengine - \u001b[4m\u001b[97mINFO\u001b[0m - Epoch(val) [77][66/66]    accuracy/top1: 88.6364  accuracy/top3: 100.0000  data_time: 0.0002  time: 0.0098\n",
      "11/26 19:46:12 - mmengine - \u001b[4m\u001b[97mINFO\u001b[0m - Epoch(train)  [78][100/345]  base_lr: 8.6148e-04 lr: 8.6148e-04  eta: 0:05:15  time: 0.0390  data_time: 0.0006  memory: 520  loss: 0.3215\n",
      "11/26 19:46:15 - mmengine - \u001b[4m\u001b[97mINFO\u001b[0m - Epoch(train)  [78][200/345]  base_lr: 8.6148e-04 lr: 8.6148e-04  eta: 0:05:11  time: 0.0404  data_time: 0.0006  memory: 520  loss: 0.3372\n",
      "11/26 19:46:19 - mmengine - \u001b[4m\u001b[97mINFO\u001b[0m - Epoch(train)  [78][300/345]  base_lr: 8.6148e-04 lr: 8.6148e-04  eta: 0:05:07  time: 0.0388  data_time: 0.0006  memory: 520  loss: 0.3321\n",
      "11/26 19:46:21 - mmengine - \u001b[4m\u001b[97mINFO\u001b[0m - Exp name: efficientnetb0_alzheimer_axial_view_heat_20231126_192656\n",
      "11/26 19:46:21 - mmengine - \u001b[4m\u001b[97mINFO\u001b[0m - Saving checkpoint at 78 epochs\n",
      "11/26 19:46:22 - mmengine - \u001b[4m\u001b[97mINFO\u001b[0m - Epoch(val) [78][66/66]    accuracy/top1: 92.4242  accuracy/top3: 100.0000  data_time: 0.0002  time: 0.0098\n",
      "11/26 19:46:26 - mmengine - \u001b[4m\u001b[97mINFO\u001b[0m - Exp name: efficientnetb0_alzheimer_axial_view_heat_20231126_192656\n",
      "11/26 19:46:26 - mmengine - \u001b[4m\u001b[97mINFO\u001b[0m - Epoch(train)  [79][100/345]  base_lr: 8.5780e-04 lr: 8.5780e-04  eta: 0:05:01  time: 0.0397  data_time: 0.0007  memory: 520  loss: 0.3246\n",
      "11/26 19:46:30 - mmengine - \u001b[4m\u001b[97mINFO\u001b[0m - Epoch(train)  [79][200/345]  base_lr: 8.5780e-04 lr: 8.5780e-04  eta: 0:04:57  time: 0.0384  data_time: 0.0006  memory: 520  loss: 0.3190\n",
      "11/26 19:46:34 - mmengine - \u001b[4m\u001b[97mINFO\u001b[0m - Epoch(train)  [79][300/345]  base_lr: 8.5780e-04 lr: 8.5780e-04  eta: 0:04:53  time: 0.0386  data_time: 0.0006  memory: 520  loss: 0.4442\n",
      "11/26 19:46:36 - mmengine - \u001b[4m\u001b[97mINFO\u001b[0m - Exp name: efficientnetb0_alzheimer_axial_view_heat_20231126_192656\n",
      "11/26 19:46:36 - mmengine - \u001b[4m\u001b[97mINFO\u001b[0m - Saving checkpoint at 79 epochs\n",
      "11/26 19:46:37 - mmengine - \u001b[4m\u001b[97mINFO\u001b[0m - Epoch(val) [79][66/66]    accuracy/top1: 93.5606  accuracy/top3: 100.0000  data_time: 0.0002  time: 0.0097\n",
      "11/26 19:46:41 - mmengine - \u001b[4m\u001b[97mINFO\u001b[0m - Epoch(train)  [80][100/345]  base_lr: 8.5408e-04 lr: 8.5408e-04  eta: 0:04:47  time: 0.0404  data_time: 0.0006  memory: 520  loss: 0.7036\n",
      "11/26 19:46:45 - mmengine - \u001b[4m\u001b[97mINFO\u001b[0m - Epoch(train)  [80][200/345]  base_lr: 8.5408e-04 lr: 8.5408e-04  eta: 0:04:43  time: 0.0398  data_time: 0.0006  memory: 520  loss: 0.6337\n",
      "11/26 19:46:49 - mmengine - \u001b[4m\u001b[97mINFO\u001b[0m - Epoch(train)  [80][300/345]  base_lr: 8.5408e-04 lr: 8.5408e-04  eta: 0:04:39  time: 0.0392  data_time: 0.0006  memory: 520  loss: 0.5097\n",
      "11/26 19:46:50 - mmengine - \u001b[4m\u001b[97mINFO\u001b[0m - Exp name: efficientnetb0_alzheimer_axial_view_heat_20231126_192656\n",
      "11/26 19:46:50 - mmengine - \u001b[4m\u001b[97mINFO\u001b[0m - Saving checkpoint at 80 epochs\n",
      "11/26 19:46:51 - mmengine - \u001b[4m\u001b[97mINFO\u001b[0m - Epoch(val) [80][66/66]    accuracy/top1: 93.5606  accuracy/top3: 100.0000  data_time: 0.0002  time: 0.0100\n",
      "11/26 19:46:55 - mmengine - \u001b[4m\u001b[97mINFO\u001b[0m - Epoch(train)  [81][100/345]  base_lr: 8.5033e-04 lr: 8.5033e-04  eta: 0:04:33  time: 0.0394  data_time: 0.0006  memory: 520  loss: 0.3711\n",
      "11/26 19:46:59 - mmengine - \u001b[4m\u001b[97mINFO\u001b[0m - Epoch(train)  [81][200/345]  base_lr: 8.5033e-04 lr: 8.5033e-04  eta: 0:04:29  time: 0.0398  data_time: 0.0006  memory: 520  loss: 0.1908\n",
      "11/26 19:47:04 - mmengine - \u001b[4m\u001b[97mINFO\u001b[0m - Epoch(train)  [81][300/345]  base_lr: 8.5033e-04 lr: 8.5033e-04  eta: 0:04:25  time: 0.0459  data_time: 0.0006  memory: 520  loss: 0.5458\n",
      "11/26 19:47:06 - mmengine - \u001b[4m\u001b[97mINFO\u001b[0m - Exp name: efficientnetb0_alzheimer_axial_view_heat_20231126_192656\n",
      "11/26 19:47:06 - mmengine - \u001b[4m\u001b[97mINFO\u001b[0m - Saving checkpoint at 81 epochs\n",
      "11/26 19:47:07 - mmengine - \u001b[4m\u001b[97mINFO\u001b[0m - Epoch(val) [81][66/66]    accuracy/top1: 92.4242  accuracy/top3: 100.0000  data_time: 0.0002  time: 0.0106\n",
      "11/26 19:47:09 - mmengine - \u001b[4m\u001b[97mINFO\u001b[0m - Exp name: efficientnetb0_alzheimer_axial_view_heat_20231126_192656\n",
      "11/26 19:47:11 - mmengine - \u001b[4m\u001b[97mINFO\u001b[0m - Epoch(train)  [82][100/345]  base_lr: 8.4653e-04 lr: 8.4653e-04  eta: 0:04:19  time: 0.0386  data_time: 0.0006  memory: 520  loss: 0.3252\n",
      "11/26 19:47:15 - mmengine - \u001b[4m\u001b[97mINFO\u001b[0m - Epoch(train)  [82][200/345]  base_lr: 8.4653e-04 lr: 8.4653e-04  eta: 0:04:15  time: 0.0388  data_time: 0.0006  memory: 520  loss: 0.4430\n",
      "11/26 19:47:19 - mmengine - \u001b[4m\u001b[97mINFO\u001b[0m - Epoch(train)  [82][300/345]  base_lr: 8.4653e-04 lr: 8.4653e-04  eta: 0:04:11  time: 0.0387  data_time: 0.0006  memory: 520  loss: 0.5531\n",
      "11/26 19:47:20 - mmengine - \u001b[4m\u001b[97mINFO\u001b[0m - Exp name: efficientnetb0_alzheimer_axial_view_heat_20231126_192656\n",
      "11/26 19:47:20 - mmengine - \u001b[4m\u001b[97mINFO\u001b[0m - Saving checkpoint at 82 epochs\n",
      "11/26 19:47:21 - mmengine - \u001b[4m\u001b[97mINFO\u001b[0m - Epoch(val) [82][66/66]    accuracy/top1: 92.4242  accuracy/top3: 100.0000  data_time: 0.0002  time: 0.0098\n",
      "11/26 19:47:25 - mmengine - \u001b[4m\u001b[97mINFO\u001b[0m - Epoch(train)  [83][100/345]  base_lr: 8.4270e-04 lr: 8.4270e-04  eta: 0:04:05  time: 0.0387  data_time: 0.0006  memory: 520  loss: 0.3535\n",
      "11/26 19:47:29 - mmengine - \u001b[4m\u001b[97mINFO\u001b[0m - Epoch(train)  [83][200/345]  base_lr: 8.4270e-04 lr: 8.4270e-04  eta: 0:04:01  time: 0.0419  data_time: 0.0006  memory: 520  loss: 0.3453\n",
      "11/26 19:47:34 - mmengine - \u001b[4m\u001b[97mINFO\u001b[0m - Epoch(train)  [83][300/345]  base_lr: 8.4270e-04 lr: 8.4270e-04  eta: 0:03:57  time: 0.0397  data_time: 0.0006  memory: 520  loss: 0.3733\n",
      "11/26 19:47:35 - mmengine - \u001b[4m\u001b[97mINFO\u001b[0m - Exp name: efficientnetb0_alzheimer_axial_view_heat_20231126_192656\n",
      "11/26 19:47:35 - mmengine - \u001b[4m\u001b[97mINFO\u001b[0m - Saving checkpoint at 83 epochs\n",
      "11/26 19:47:36 - mmengine - \u001b[4m\u001b[97mINFO\u001b[0m - Epoch(val) [83][66/66]    accuracy/top1: 92.4242  accuracy/top3: 100.0000  data_time: 0.0002  time: 0.0100\n",
      "11/26 19:47:40 - mmengine - \u001b[4m\u001b[97mINFO\u001b[0m - Epoch(train)  [84][100/345]  base_lr: 8.3882e-04 lr: 8.3882e-04  eta: 0:03:51  time: 0.0396  data_time: 0.0006  memory: 520  loss: 0.3466\n",
      "11/26 19:47:44 - mmengine - \u001b[4m\u001b[97mINFO\u001b[0m - Epoch(train)  [84][200/345]  base_lr: 8.3882e-04 lr: 8.3882e-04  eta: 0:03:47  time: 0.0405  data_time: 0.0006  memory: 520  loss: 0.3054\n",
      "11/26 19:47:48 - mmengine - \u001b[4m\u001b[97mINFO\u001b[0m - Epoch(train)  [84][300/345]  base_lr: 8.3882e-04 lr: 8.3882e-04  eta: 0:03:43  time: 0.0395  data_time: 0.0006  memory: 520  loss: 0.2482\n",
      "11/26 19:47:50 - mmengine - \u001b[4m\u001b[97mINFO\u001b[0m - Exp name: efficientnetb0_alzheimer_axial_view_heat_20231126_192656\n",
      "11/26 19:47:50 - mmengine - \u001b[4m\u001b[97mINFO\u001b[0m - Saving checkpoint at 84 epochs\n",
      "11/26 19:47:51 - mmengine - \u001b[4m\u001b[97mINFO\u001b[0m - Epoch(val) [84][66/66]    accuracy/top1: 87.5000  accuracy/top3: 100.0000  data_time: 0.0002  time: 0.0097\n",
      "11/26 19:47:52 - mmengine - \u001b[4m\u001b[97mINFO\u001b[0m - Exp name: efficientnetb0_alzheimer_axial_view_heat_20231126_192656\n",
      "11/26 19:47:55 - mmengine - \u001b[4m\u001b[97mINFO\u001b[0m - Epoch(train)  [85][100/345]  base_lr: 8.3491e-04 lr: 8.3491e-04  eta: 0:03:37  time: 0.0396  data_time: 0.0006  memory: 520  loss: 0.5207\n",
      "11/26 19:47:59 - mmengine - \u001b[4m\u001b[97mINFO\u001b[0m - Epoch(train)  [85][200/345]  base_lr: 8.3491e-04 lr: 8.3491e-04  eta: 0:03:33  time: 0.0399  data_time: 0.0006  memory: 520  loss: 0.2999\n",
      "11/26 19:48:03 - mmengine - \u001b[4m\u001b[97mINFO\u001b[0m - Epoch(train)  [85][300/345]  base_lr: 8.3491e-04 lr: 8.3491e-04  eta: 0:03:29  time: 0.0394  data_time: 0.0006  memory: 520  loss: 0.3288\n",
      "11/26 19:48:05 - mmengine - \u001b[4m\u001b[97mINFO\u001b[0m - Exp name: efficientnetb0_alzheimer_axial_view_heat_20231126_192656\n",
      "11/26 19:48:05 - mmengine - \u001b[4m\u001b[97mINFO\u001b[0m - Saving checkpoint at 85 epochs\n",
      "11/26 19:48:06 - mmengine - \u001b[4m\u001b[97mINFO\u001b[0m - Epoch(val) [85][66/66]    accuracy/top1: 90.1515  accuracy/top3: 100.0000  data_time: 0.0002  time: 0.0100\n",
      "11/26 19:48:10 - mmengine - \u001b[4m\u001b[97mINFO\u001b[0m - Epoch(train)  [86][100/345]  base_lr: 8.3096e-04 lr: 8.3096e-04  eta: 0:03:23  time: 0.0398  data_time: 0.0006  memory: 520  loss: 0.4091\n",
      "11/26 19:48:14 - mmengine - \u001b[4m\u001b[97mINFO\u001b[0m - Epoch(train)  [86][200/345]  base_lr: 8.3096e-04 lr: 8.3096e-04  eta: 0:03:19  time: 0.0395  data_time: 0.0006  memory: 520  loss: 0.2773\n",
      "11/26 19:48:18 - mmengine - \u001b[4m\u001b[97mINFO\u001b[0m - Epoch(train)  [86][300/345]  base_lr: 8.3096e-04 lr: 8.3096e-04  eta: 0:03:15  time: 0.0428  data_time: 0.0006  memory: 520  loss: 0.4185\n",
      "11/26 19:48:20 - mmengine - \u001b[4m\u001b[97mINFO\u001b[0m - Exp name: efficientnetb0_alzheimer_axial_view_heat_20231126_192656\n",
      "11/26 19:48:20 - mmengine - \u001b[4m\u001b[97mINFO\u001b[0m - Saving checkpoint at 86 epochs\n",
      "11/26 19:48:21 - mmengine - \u001b[4m\u001b[97mINFO\u001b[0m - Epoch(val) [86][66/66]    accuracy/top1: 88.2576  accuracy/top3: 100.0000  data_time: 0.0002  time: 0.0131\n",
      "11/26 19:48:25 - mmengine - \u001b[4m\u001b[97mINFO\u001b[0m - Epoch(train)  [87][100/345]  base_lr: 8.2698e-04 lr: 8.2698e-04  eta: 0:03:10  time: 0.0432  data_time: 0.0006  memory: 520  loss: 0.3307\n",
      "11/26 19:48:30 - mmengine - \u001b[4m\u001b[97mINFO\u001b[0m - Epoch(train)  [87][200/345]  base_lr: 8.2698e-04 lr: 8.2698e-04  eta: 0:03:06  time: 0.0434  data_time: 0.0006  memory: 520  loss: 0.2594\n",
      "11/26 19:48:34 - mmengine - \u001b[4m\u001b[97mINFO\u001b[0m - Epoch(train)  [87][300/345]  base_lr: 8.2698e-04 lr: 8.2698e-04  eta: 0:03:02  time: 0.0432  data_time: 0.0006  memory: 520  loss: 0.4232\n",
      "11/26 19:48:36 - mmengine - \u001b[4m\u001b[97mINFO\u001b[0m - Exp name: efficientnetb0_alzheimer_axial_view_heat_20231126_192656\n",
      "11/26 19:48:36 - mmengine - \u001b[4m\u001b[97mINFO\u001b[0m - Exp name: efficientnetb0_alzheimer_axial_view_heat_20231126_192656\n",
      "11/26 19:48:36 - mmengine - \u001b[4m\u001b[97mINFO\u001b[0m - Saving checkpoint at 87 epochs\n",
      "11/26 19:48:37 - mmengine - \u001b[4m\u001b[97mINFO\u001b[0m - Epoch(val) [87][66/66]    accuracy/top1: 92.0455  accuracy/top3: 100.0000  data_time: 0.0002  time: 0.0139\n",
      "11/26 19:48:41 - mmengine - \u001b[4m\u001b[97mINFO\u001b[0m - Epoch(train)  [88][100/345]  base_lr: 8.2296e-04 lr: 8.2296e-04  eta: 0:02:56  time: 0.0402  data_time: 0.0006  memory: 520  loss: 0.4073\n",
      "11/26 19:48:45 - mmengine - \u001b[4m\u001b[97mINFO\u001b[0m - Epoch(train)  [88][200/345]  base_lr: 8.2296e-04 lr: 8.2296e-04  eta: 0:02:52  time: 0.0390  data_time: 0.0006  memory: 520  loss: 0.3543\n",
      "11/26 19:48:49 - mmengine - \u001b[4m\u001b[97mINFO\u001b[0m - Epoch(train)  [88][300/345]  base_lr: 8.2296e-04 lr: 8.2296e-04  eta: 0:02:48  time: 0.0391  data_time: 0.0006  memory: 520  loss: 0.2887\n",
      "11/26 19:48:51 - mmengine - \u001b[4m\u001b[97mINFO\u001b[0m - Exp name: efficientnetb0_alzheimer_axial_view_heat_20231126_192656\n",
      "11/26 19:48:51 - mmengine - \u001b[4m\u001b[97mINFO\u001b[0m - Saving checkpoint at 88 epochs\n",
      "11/26 19:48:52 - mmengine - \u001b[4m\u001b[97mINFO\u001b[0m - Epoch(val) [88][66/66]    accuracy/top1: 91.2879  accuracy/top3: 100.0000  data_time: 0.0002  time: 0.0100\n",
      "11/26 19:48:56 - mmengine - \u001b[4m\u001b[97mINFO\u001b[0m - Epoch(train)  [89][100/345]  base_lr: 8.1890e-04 lr: 8.1890e-04  eta: 0:02:42  time: 0.0397  data_time: 0.0006  memory: 520  loss: 0.3125\n",
      "11/26 19:49:00 - mmengine - \u001b[4m\u001b[97mINFO\u001b[0m - Epoch(train)  [89][200/345]  base_lr: 8.1890e-04 lr: 8.1890e-04  eta: 0:02:38  time: 0.0388  data_time: 0.0006  memory: 520  loss: 0.4109\n",
      "11/26 19:49:04 - mmengine - \u001b[4m\u001b[97mINFO\u001b[0m - Epoch(train)  [89][300/345]  base_lr: 8.1890e-04 lr: 8.1890e-04  eta: 0:02:34  time: 0.0391  data_time: 0.0006  memory: 520  loss: 0.6106\n",
      "11/26 19:49:06 - mmengine - \u001b[4m\u001b[97mINFO\u001b[0m - Exp name: efficientnetb0_alzheimer_axial_view_heat_20231126_192656\n",
      "11/26 19:49:06 - mmengine - \u001b[4m\u001b[97mINFO\u001b[0m - Saving checkpoint at 89 epochs\n",
      "11/26 19:49:07 - mmengine - \u001b[4m\u001b[97mINFO\u001b[0m - Epoch(val) [89][66/66]    accuracy/top1: 90.5303  accuracy/top3: 100.0000  data_time: 0.0002  time: 0.0098\n",
      "11/26 19:49:11 - mmengine - \u001b[4m\u001b[97mINFO\u001b[0m - Epoch(train)  [90][100/345]  base_lr: 8.1480e-04 lr: 8.1480e-04  eta: 0:02:28  time: 0.0386  data_time: 0.0006  memory: 520  loss: 0.3803\n",
      "11/26 19:49:14 - mmengine - \u001b[4m\u001b[97mINFO\u001b[0m - Epoch(train)  [90][200/345]  base_lr: 8.1480e-04 lr: 8.1480e-04  eta: 0:02:24  time: 0.0383  data_time: 0.0006  memory: 520  loss: 0.4448\n",
      "11/26 19:49:18 - mmengine - \u001b[4m\u001b[97mINFO\u001b[0m - Exp name: efficientnetb0_alzheimer_axial_view_heat_20231126_192656\n",
      "11/26 19:49:18 - mmengine - \u001b[4m\u001b[97mINFO\u001b[0m - Epoch(train)  [90][300/345]  base_lr: 8.1480e-04 lr: 8.1480e-04  eta: 0:02:20  time: 0.0398  data_time: 0.0007  memory: 520  loss: 0.3897\n",
      "11/26 19:49:20 - mmengine - \u001b[4m\u001b[97mINFO\u001b[0m - Exp name: efficientnetb0_alzheimer_axial_view_heat_20231126_192656\n",
      "11/26 19:49:20 - mmengine - \u001b[4m\u001b[97mINFO\u001b[0m - Saving checkpoint at 90 epochs\n",
      "11/26 19:49:21 - mmengine - \u001b[4m\u001b[97mINFO\u001b[0m - Epoch(val) [90][66/66]    accuracy/top1: 91.2879  accuracy/top3: 100.0000  data_time: 0.0002  time: 0.0114\n",
      "11/26 19:49:25 - mmengine - \u001b[4m\u001b[97mINFO\u001b[0m - Epoch(train)  [91][100/345]  base_lr: 8.1067e-04 lr: 8.1067e-04  eta: 0:02:14  time: 0.0386  data_time: 0.0006  memory: 520  loss: 0.2792\n",
      "11/26 19:49:29 - mmengine - \u001b[4m\u001b[97mINFO\u001b[0m - Epoch(train)  [91][200/345]  base_lr: 8.1067e-04 lr: 8.1067e-04  eta: 0:02:10  time: 0.0393  data_time: 0.0006  memory: 520  loss: 0.5145\n",
      "11/26 19:49:33 - mmengine - \u001b[4m\u001b[97mINFO\u001b[0m - Epoch(train)  [91][300/345]  base_lr: 8.1067e-04 lr: 8.1067e-04  eta: 0:02:06  time: 0.0398  data_time: 0.0006  memory: 520  loss: 0.3405\n",
      "11/26 19:49:35 - mmengine - \u001b[4m\u001b[97mINFO\u001b[0m - Exp name: efficientnetb0_alzheimer_axial_view_heat_20231126_192656\n",
      "11/26 19:49:35 - mmengine - \u001b[4m\u001b[97mINFO\u001b[0m - Saving checkpoint at 91 epochs\n",
      "11/26 19:49:36 - mmengine - \u001b[4m\u001b[97mINFO\u001b[0m - Epoch(val) [91][66/66]    accuracy/top1: 95.0758  accuracy/top3: 100.0000  data_time: 0.0002  time: 0.0108\n",
      "11/26 19:49:40 - mmengine - \u001b[4m\u001b[97mINFO\u001b[0m - Epoch(train)  [92][100/345]  base_lr: 8.0651e-04 lr: 8.0651e-04  eta: 0:02:00  time: 0.0395  data_time: 0.0006  memory: 520  loss: 0.2951\n",
      "11/26 19:49:44 - mmengine - \u001b[4m\u001b[97mINFO\u001b[0m - Epoch(train)  [92][200/345]  base_lr: 8.0651e-04 lr: 8.0651e-04  eta: 0:01:56  time: 0.0395  data_time: 0.0006  memory: 520  loss: 0.3385\n",
      "11/26 19:49:48 - mmengine - \u001b[4m\u001b[97mINFO\u001b[0m - Epoch(train)  [92][300/345]  base_lr: 8.0651e-04 lr: 8.0651e-04  eta: 0:01:52  time: 0.0397  data_time: 0.0006  memory: 520  loss: 0.3421\n",
      "11/26 19:49:50 - mmengine - \u001b[4m\u001b[97mINFO\u001b[0m - Exp name: efficientnetb0_alzheimer_axial_view_heat_20231126_192656\n",
      "11/26 19:49:50 - mmengine - \u001b[4m\u001b[97mINFO\u001b[0m - Saving checkpoint at 92 epochs\n",
      "11/26 19:49:51 - mmengine - \u001b[4m\u001b[97mINFO\u001b[0m - Epoch(val) [92][66/66]    accuracy/top1: 84.4697  accuracy/top3: 100.0000  data_time: 0.0002  time: 0.0099\n",
      "11/26 19:49:55 - mmengine - \u001b[4m\u001b[97mINFO\u001b[0m - Epoch(train)  [93][100/345]  base_lr: 8.0231e-04 lr: 8.0231e-04  eta: 0:01:46  time: 0.0394  data_time: 0.0006  memory: 520  loss: 0.4619\n",
      "11/26 19:49:59 - mmengine - \u001b[4m\u001b[97mINFO\u001b[0m - Epoch(train)  [93][200/345]  base_lr: 8.0231e-04 lr: 8.0231e-04  eta: 0:01:42  time: 0.0395  data_time: 0.0006  memory: 520  loss: 0.2875\n",
      "11/26 19:50:01 - mmengine - \u001b[4m\u001b[97mINFO\u001b[0m - Exp name: efficientnetb0_alzheimer_axial_view_heat_20231126_192656\n",
      "11/26 19:50:03 - mmengine - \u001b[4m\u001b[97mINFO\u001b[0m - Epoch(train)  [93][300/345]  base_lr: 8.0231e-04 lr: 8.0231e-04  eta: 0:01:38  time: 0.0403  data_time: 0.0006  memory: 520  loss: 0.4860\n",
      "11/26 19:50:05 - mmengine - \u001b[4m\u001b[97mINFO\u001b[0m - Exp name: efficientnetb0_alzheimer_axial_view_heat_20231126_192656\n",
      "11/26 19:50:05 - mmengine - \u001b[4m\u001b[97mINFO\u001b[0m - Saving checkpoint at 93 epochs\n",
      "11/26 19:50:06 - mmengine - \u001b[4m\u001b[97mINFO\u001b[0m - Epoch(val) [93][66/66]    accuracy/top1: 88.2576  accuracy/top3: 100.0000  data_time: 0.0002  time: 0.0099\n",
      "11/26 19:50:10 - mmengine - \u001b[4m\u001b[97mINFO\u001b[0m - Epoch(train)  [94][100/345]  base_lr: 7.9808e-04 lr: 7.9808e-04  eta: 0:01:33  time: 0.0426  data_time: 0.0006  memory: 520  loss: 0.3361\n",
      "11/26 19:50:14 - mmengine - \u001b[4m\u001b[97mINFO\u001b[0m - Epoch(train)  [94][200/345]  base_lr: 7.9808e-04 lr: 7.9808e-04  eta: 0:01:29  time: 0.0430  data_time: 0.0006  memory: 520  loss: 0.3057\n",
      "11/26 19:50:18 - mmengine - \u001b[4m\u001b[97mINFO\u001b[0m - Epoch(train)  [94][300/345]  base_lr: 7.9808e-04 lr: 7.9808e-04  eta: 0:01:25  time: 0.0429  data_time: 0.0006  memory: 520  loss: 0.5513\n",
      "11/26 19:50:20 - mmengine - \u001b[4m\u001b[97mINFO\u001b[0m - Exp name: efficientnetb0_alzheimer_axial_view_heat_20231126_192656\n",
      "11/26 19:50:20 - mmengine - \u001b[4m\u001b[97mINFO\u001b[0m - Saving checkpoint at 94 epochs\n",
      "11/26 19:50:21 - mmengine - \u001b[4m\u001b[97mINFO\u001b[0m - Epoch(val) [94][66/66]    accuracy/top1: 96.9697  accuracy/top3: 100.0000  data_time: 0.0002  time: 0.0128\n",
      "11/26 19:50:25 - mmengine - \u001b[4m\u001b[97mINFO\u001b[0m - Epoch(train)  [95][100/345]  base_lr: 7.9382e-04 lr: 7.9382e-04  eta: 0:01:19  time: 0.0390  data_time: 0.0006  memory: 520  loss: 0.5711\n",
      "11/26 19:50:29 - mmengine - \u001b[4m\u001b[97mINFO\u001b[0m - Epoch(train)  [95][200/345]  base_lr: 7.9382e-04 lr: 7.9382e-04  eta: 0:01:15  time: 0.0391  data_time: 0.0006  memory: 520  loss: 0.3709\n",
      "11/26 19:50:33 - mmengine - \u001b[4m\u001b[97mINFO\u001b[0m - Epoch(train)  [95][300/345]  base_lr: 7.9382e-04 lr: 7.9382e-04  eta: 0:01:11  time: 0.0395  data_time: 0.0006  memory: 520  loss: 0.2871\n",
      "11/26 19:50:35 - mmengine - \u001b[4m\u001b[97mINFO\u001b[0m - Exp name: efficientnetb0_alzheimer_axial_view_heat_20231126_192656\n",
      "11/26 19:50:35 - mmengine - \u001b[4m\u001b[97mINFO\u001b[0m - Saving checkpoint at 95 epochs\n",
      "11/26 19:50:36 - mmengine - \u001b[4m\u001b[97mINFO\u001b[0m - Epoch(val) [95][66/66]    accuracy/top1: 93.1818  accuracy/top3: 100.0000  data_time: 0.0002  time: 0.0098\n",
      "11/26 19:50:40 - mmengine - \u001b[4m\u001b[97mINFO\u001b[0m - Epoch(train)  [96][100/345]  base_lr: 7.8952e-04 lr: 7.8952e-04  eta: 0:01:05  time: 0.0396  data_time: 0.0006  memory: 520  loss: 0.3630\n",
      "11/26 19:50:44 - mmengine - \u001b[4m\u001b[97mINFO\u001b[0m - Epoch(train)  [96][200/345]  base_lr: 7.8952e-04 lr: 7.8952e-04  eta: 0:01:01  time: 0.0393  data_time: 0.0006  memory: 520  loss: 0.5090\n",
      "11/26 19:50:45 - mmengine - \u001b[4m\u001b[97mINFO\u001b[0m - Exp name: efficientnetb0_alzheimer_axial_view_heat_20231126_192656\n",
      "11/26 19:50:48 - mmengine - \u001b[4m\u001b[97mINFO\u001b[0m - Epoch(train)  [96][300/345]  base_lr: 7.8952e-04 lr: 7.8952e-04  eta: 0:00:57  time: 0.0400  data_time: 0.0007  memory: 520  loss: 0.2958\n",
      "11/26 19:50:50 - mmengine - \u001b[4m\u001b[97mINFO\u001b[0m - Exp name: efficientnetb0_alzheimer_axial_view_heat_20231126_192656\n",
      "11/26 19:50:50 - mmengine - \u001b[4m\u001b[97mINFO\u001b[0m - Saving checkpoint at 96 epochs\n",
      "11/26 19:50:51 - mmengine - \u001b[4m\u001b[97mINFO\u001b[0m - Epoch(val) [96][66/66]    accuracy/top1: 93.1818  accuracy/top3: 100.0000  data_time: 0.0002  time: 0.0097\n",
      "11/26 19:50:55 - mmengine - \u001b[4m\u001b[97mINFO\u001b[0m - Epoch(train)  [97][100/345]  base_lr: 7.8519e-04 lr: 7.8519e-04  eta: 0:00:51  time: 0.0412  data_time: 0.0006  memory: 520  loss: 0.2521\n",
      "11/26 19:50:59 - mmengine - \u001b[4m\u001b[97mINFO\u001b[0m - Epoch(train)  [97][200/345]  base_lr: 7.8519e-04 lr: 7.8519e-04  eta: 0:00:47  time: 0.0396  data_time: 0.0006  memory: 520  loss: 0.3531\n",
      "11/26 19:51:03 - mmengine - \u001b[4m\u001b[97mINFO\u001b[0m - Epoch(train)  [97][300/345]  base_lr: 7.8519e-04 lr: 7.8519e-04  eta: 0:00:43  time: 0.0393  data_time: 0.0006  memory: 520  loss: 0.4689\n",
      "11/26 19:51:05 - mmengine - \u001b[4m\u001b[97mINFO\u001b[0m - Exp name: efficientnetb0_alzheimer_axial_view_heat_20231126_192656\n",
      "11/26 19:51:05 - mmengine - \u001b[4m\u001b[97mINFO\u001b[0m - Saving checkpoint at 97 epochs\n",
      "11/26 19:51:06 - mmengine - \u001b[4m\u001b[97mINFO\u001b[0m - Epoch(val) [97][66/66]    accuracy/top1: 93.9394  accuracy/top3: 100.0000  data_time: 0.0002  time: 0.0099\n",
      "11/26 19:51:10 - mmengine - \u001b[4m\u001b[97mINFO\u001b[0m - Epoch(train)  [98][100/345]  base_lr: 7.8083e-04 lr: 7.8083e-04  eta: 0:00:37  time: 0.0395  data_time: 0.0006  memory: 520  loss: 0.4112\n",
      "11/26 19:51:14 - mmengine - \u001b[4m\u001b[97mINFO\u001b[0m - Epoch(train)  [98][200/345]  base_lr: 7.8083e-04 lr: 7.8083e-04  eta: 0:00:33  time: 0.0452  data_time: 0.0006  memory: 520  loss: 0.4820\n",
      "11/26 19:51:18 - mmengine - \u001b[4m\u001b[97mINFO\u001b[0m - Epoch(train)  [98][300/345]  base_lr: 7.8083e-04 lr: 7.8083e-04  eta: 0:00:29  time: 0.0394  data_time: 0.0006  memory: 520  loss: 0.3380\n",
      "11/26 19:51:20 - mmengine - \u001b[4m\u001b[97mINFO\u001b[0m - Exp name: efficientnetb0_alzheimer_axial_view_heat_20231126_192656\n",
      "11/26 19:51:20 - mmengine - \u001b[4m\u001b[97mINFO\u001b[0m - Saving checkpoint at 98 epochs\n",
      "11/26 19:51:21 - mmengine - \u001b[4m\u001b[97mINFO\u001b[0m - Epoch(val) [98][66/66]    accuracy/top1: 88.2576  accuracy/top3: 100.0000  data_time: 0.0002  time: 0.0110\n",
      "11/26 19:51:25 - mmengine - \u001b[4m\u001b[97mINFO\u001b[0m - Epoch(train)  [99][100/345]  base_lr: 7.7644e-04 lr: 7.7644e-04  eta: 0:00:23  time: 0.0393  data_time: 0.0006  memory: 520  loss: 0.4048\n",
      "11/26 19:51:29 - mmengine - \u001b[4m\u001b[97mINFO\u001b[0m - Exp name: efficientnetb0_alzheimer_axial_view_heat_20231126_192656\n",
      "11/26 19:51:29 - mmengine - \u001b[4m\u001b[97mINFO\u001b[0m - Epoch(train)  [99][200/345]  base_lr: 7.7644e-04 lr: 7.7644e-04  eta: 0:00:19  time: 0.0402  data_time: 0.0007  memory: 520  loss: 0.5203\n",
      "11/26 19:51:33 - mmengine - \u001b[4m\u001b[97mINFO\u001b[0m - Epoch(train)  [99][300/345]  base_lr: 7.7644e-04 lr: 7.7644e-04  eta: 0:00:15  time: 0.0408  data_time: 0.0007  memory: 520  loss: 0.3709\n",
      "11/26 19:51:35 - mmengine - \u001b[4m\u001b[97mINFO\u001b[0m - Exp name: efficientnetb0_alzheimer_axial_view_heat_20231126_192656\n",
      "11/26 19:51:35 - mmengine - \u001b[4m\u001b[97mINFO\u001b[0m - Saving checkpoint at 99 epochs\n",
      "11/26 19:51:36 - mmengine - \u001b[4m\u001b[97mINFO\u001b[0m - Epoch(val) [99][66/66]    accuracy/top1: 90.5303  accuracy/top3: 100.0000  data_time: 0.0002  time: 0.0105\n",
      "11/26 19:51:40 - mmengine - \u001b[4m\u001b[97mINFO\u001b[0m - Epoch(train) [100][100/345]  base_lr: 7.7201e-04 lr: 7.7201e-04  eta: 0:00:09  time: 0.0428  data_time: 0.0007  memory: 520  loss: 0.4056\n",
      "11/26 19:51:45 - mmengine - \u001b[4m\u001b[97mINFO\u001b[0m - Epoch(train) [100][200/345]  base_lr: 7.7201e-04 lr: 7.7201e-04  eta: 0:00:05  time: 0.0399  data_time: 0.0006  memory: 520  loss: 0.3613\n",
      "11/26 19:51:49 - mmengine - \u001b[4m\u001b[97mINFO\u001b[0m - Epoch(train) [100][300/345]  base_lr: 7.7201e-04 lr: 7.7201e-04  eta: 0:00:01  time: 0.0397  data_time: 0.0006  memory: 520  loss: 0.4177\n",
      "11/26 19:51:50 - mmengine - \u001b[4m\u001b[97mINFO\u001b[0m - Exp name: efficientnetb0_alzheimer_axial_view_heat_20231126_192656\n",
      "11/26 19:51:50 - mmengine - \u001b[4m\u001b[97mINFO\u001b[0m - Saving checkpoint at 100 epochs\n",
      "11/26 19:51:51 - mmengine - \u001b[4m\u001b[97mINFO\u001b[0m - Epoch(val) [100][66/66]    accuracy/top1: 94.3182  accuracy/top3: 100.0000  data_time: 0.0002  time: 0.0096\n"
     ]
    }
   ],
   "source": [
    "!python ./tools/train.py \\\n",
    "    configs/efficientnet/efficientnetb0_alzheimer_axial_view_heat.py \\\n",
    "    --work-dir work_dirs/alzheimer/axial/efficientnet_heat \\\n",
    "    # --auto-scale-lr"
   ]
  },
  {
   "cell_type": "code",
   "execution_count": null,
   "id": "a24e3324-2be6-45e8-826a-88d528593721",
   "metadata": {},
   "outputs": [],
   "source": []
  }
 ],
 "metadata": {
  "kernelspec": {
   "display_name": "Python 3 (ipykernel)",
   "language": "python",
   "name": "python3"
  },
  "language_info": {
   "codemirror_mode": {
    "name": "ipython",
    "version": 3
   },
   "file_extension": ".py",
   "mimetype": "text/x-python",
   "name": "python",
   "nbconvert_exporter": "python",
   "pygments_lexer": "ipython3",
   "version": "3.9.18"
  }
 },
 "nbformat": 4,
 "nbformat_minor": 5
}
